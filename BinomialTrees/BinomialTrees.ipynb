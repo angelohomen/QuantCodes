{
 "cells": [
  {
   "cell_type": "code",
   "execution_count": 60,
   "metadata": {},
   "outputs": [],
   "source": [
    "import numpy as np\n",
    "# Import math functions from NumPy\n",
    "from numpy import *"
   ]
  },
  {
   "cell_type": "code",
   "execution_count": 61,
   "metadata": {},
   "outputs": [],
   "source": [
    "def binomialTree(\n",
    "    So: float = 100, \n",
    "    K: float = 100, \n",
    "    t: int = 4, \n",
    "    option_type: str = \"C\", \n",
    "    E: int = 1, \n",
    "    interest_rate: float = 1, \n",
    "    vol: float = 0.2, \n",
    "    exercise_type: str = \"EUR\"\n",
    "    ) -> dict:\n",
    "\n",
    "    '''\n",
    "    Evaluating binomial trees for options. The function returns a dictionary with indexes:\n",
    "    'S': Stock prices path;\n",
    "    'P': Option payoffs;\n",
    "    'O': Option prices;\n",
    "    'D': Delta hedge values.\n",
    "\n",
    "    So: float.\n",
    "    Stock price today.\n",
    "\n",
    "    K: float.\n",
    "    Strike of the option.\n",
    "\n",
    "    t: integer.\n",
    "    Time steps for expiration.\n",
    "\n",
    "    option_type: string.\n",
    "    Option type. (\"C\" for Call and \"P\" for Put)\n",
    "\n",
    "    E: integer.\n",
    "    Expiration days.\n",
    "\n",
    "    interest_rate: float.\n",
    "    Interest rate.\n",
    "\n",
    "    vol: float.\n",
    "    Volatility.\n",
    "\n",
    "    exercise_type: string.\n",
    "    Type of exercise. (\"US\" for American and \"EUR\" for European)\n",
    "    '''\n",
    "\n",
    "    Su, Sv = So, So\n",
    "    \n",
    "    prices_matrix = np.zeros((t + 1, t + 1))\n",
    "    option_price_matrix = np.zeros((t + 1, t + 1))\n",
    "    payoff_matrix = np.zeros((t + 1, t + 1))\n",
    "    delta_hedge_matrix = np.zeros((t + 1, t + 1))\n",
    "\n",
    "    dt = E / t\n",
    "    discount_factor = 1 / (1 + interest_rate * dt)\n",
    "    prob = 0.5 + interest_rate * np.sqrt(dt) / (2 * vol)\n",
    "    payoff_type = 1 if option_type == \"C\" else -1\n",
    "    early_exercise = 1 if exercise_type == \"US\" else 0\n",
    "    v = 1 + vol * np.sqrt(dt)\n",
    "    u = 1 - vol * np.sqrt(dt)\n",
    "\n",
    "    for col in range(t + 1):\n",
    "        for idx in range(col + 1):\n",
    "            prices_matrix[0][col] = Sv\n",
    "            prices_matrix[col][col] = Su\n",
    "            payoff_matrix[0][col] = max(payoff_type * (prices_matrix[0][col] - K), 0)\n",
    "            payoff_matrix[col][col] = max(payoff_type * (prices_matrix[col][col] - K), 0)\n",
    "            \n",
    "            if idx < len(prices_matrix[0]) - 1 and col > 1 and idx < col:\n",
    "                prices_matrix[idx][col] = prices_matrix[idx][col - 1] * v\n",
    "                prices_matrix[idx + 1][col] = prices_matrix[idx - 1][col - 1] * u\n",
    "                payoff_matrix[idx][col] = max(payoff_type * (prices_matrix[idx][col] - K), 0)\n",
    "        Sv = Sv * v\n",
    "        Su = Su * u\n",
    "            \n",
    "    for col in range(t, -1, -1):\n",
    "        for idx in range(col, -1, -1):\n",
    "            if col == t:\n",
    "                option_price_matrix[idx][col] = max(payoff_type * (prices_matrix[idx][col] - K), early_exercise * max(payoff_type * (prices_matrix[idx][col] - K), 0))\n",
    "            else:\n",
    "                if idx < t and col < t:\n",
    "                    option_price_matrix[idx][col] = max(discount_factor * (prob * option_price_matrix[idx][col + 1] + (1 - prob) * option_price_matrix[idx + 1][col + 1]), early_exercise * max(payoff_type * (prices_matrix[idx][col] - K), 0))\n",
    "                    delta_hedge_matrix[idx][col] = (option_price_matrix[idx][col + 1] - option_price_matrix[idx + 1][col + 1])/(prices_matrix[idx][col + 1] - prices_matrix[idx + 1][col + 1])\n",
    "\n",
    "    delta_hedge_matrix[:, -1] = 0\n",
    "\n",
    "    data_dict = {\n",
    "        \"S\": around(prices_matrix, 2),\n",
    "        \"P\": around(payoff_matrix, 2),\n",
    "        \"O\": around(option_price_matrix, 2),\n",
    "        \"D\": around(delta_hedge_matrix, 2)\n",
    "    }\n",
    "\n",
    "    return data_dict"
   ]
  },
  {
   "cell_type": "code",
   "execution_count": 62,
   "metadata": {},
   "outputs": [
    {
     "name": "stdout",
     "output_type": "stream",
     "text": [
      "\u001b[1;31mSignature:\u001b[0m\n",
      "\u001b[0mbinomialTree\u001b[0m\u001b[1;33m(\u001b[0m\u001b[1;33m\n",
      "\u001b[0m    \u001b[0mSo\u001b[0m\u001b[1;33m:\u001b[0m \u001b[0mfloat\u001b[0m \u001b[1;33m=\u001b[0m \u001b[1;36m100\u001b[0m\u001b[1;33m,\u001b[0m\u001b[1;33m\n",
      "\u001b[0m    \u001b[0mK\u001b[0m\u001b[1;33m:\u001b[0m \u001b[0mfloat\u001b[0m \u001b[1;33m=\u001b[0m \u001b[1;36m100\u001b[0m\u001b[1;33m,\u001b[0m\u001b[1;33m\n",
      "\u001b[0m    \u001b[0mt\u001b[0m\u001b[1;33m:\u001b[0m \u001b[0mint\u001b[0m \u001b[1;33m=\u001b[0m \u001b[1;36m4\u001b[0m\u001b[1;33m,\u001b[0m\u001b[1;33m\n",
      "\u001b[0m    \u001b[0moption_type\u001b[0m\u001b[1;33m:\u001b[0m \u001b[0mstr\u001b[0m \u001b[1;33m=\u001b[0m \u001b[1;34m'C'\u001b[0m\u001b[1;33m,\u001b[0m\u001b[1;33m\n",
      "\u001b[0m    \u001b[0mE\u001b[0m\u001b[1;33m:\u001b[0m \u001b[0mint\u001b[0m \u001b[1;33m=\u001b[0m \u001b[1;36m1\u001b[0m\u001b[1;33m,\u001b[0m\u001b[1;33m\n",
      "\u001b[0m    \u001b[0minterest_rate\u001b[0m\u001b[1;33m:\u001b[0m \u001b[0mfloat\u001b[0m \u001b[1;33m=\u001b[0m \u001b[1;36m1\u001b[0m\u001b[1;33m,\u001b[0m\u001b[1;33m\n",
      "\u001b[0m    \u001b[0mvol\u001b[0m\u001b[1;33m:\u001b[0m \u001b[0mfloat\u001b[0m \u001b[1;33m=\u001b[0m \u001b[1;36m0.2\u001b[0m\u001b[1;33m,\u001b[0m\u001b[1;33m\n",
      "\u001b[0m    \u001b[0mexercise_type\u001b[0m\u001b[1;33m:\u001b[0m \u001b[0mstr\u001b[0m \u001b[1;33m=\u001b[0m \u001b[1;34m'EUR'\u001b[0m\u001b[1;33m,\u001b[0m\u001b[1;33m\n",
      "\u001b[0m\u001b[1;33m)\u001b[0m \u001b[1;33m->\u001b[0m \u001b[0mdict\u001b[0m\u001b[1;33m\u001b[0m\u001b[1;33m\u001b[0m\u001b[0m\n",
      "\u001b[1;31mDocstring:\u001b[0m\n",
      "Evaluating present option value.\n",
      "So: Stock price today.\n",
      "K: Strike of the option.\n",
      "t: Time steps for expiration.\n",
      "option_type: Option type. (\"C\" for Call and \"P\" for Put)\n",
      "E: Expiration days.\n",
      "interest_rate: Interest rate.\n",
      "vol: Volatility.\n",
      "exercise_type: Type of exercise. (\"US\" for American and \"EUR\" for European)\n",
      "\u001b[1;31mFile:\u001b[0m      c:\\users\\angelo\\appdata\\local\\temp\\ipykernel_3676\\269908888.py\n",
      "\u001b[1;31mType:\u001b[0m      function\n"
     ]
    }
   ],
   "source": [
    "binomialTree?"
   ]
  },
  {
   "cell_type": "code",
   "execution_count": 67,
   "metadata": {},
   "outputs": [],
   "source": [
    "binomialResults = binomialTree(\n",
    "    So = 100,\n",
    "    K = 100,\n",
    "    t = 4,\n",
    "    option_type = 'C',\n",
    "    E = 1,\n",
    "    interest_rate = 0.05,\n",
    "    vol = 0.2,\n",
    "    exercise_type = 'EUR'\n",
    ")"
   ]
  },
  {
   "cell_type": "code",
   "execution_count": 68,
   "metadata": {},
   "outputs": [
    {
     "name": "stdout",
     "output_type": "stream",
     "text": [
      "European Call Option Price using Binomial Tree Method: 10.29\n"
     ]
    }
   ],
   "source": [
    "# Binomial Option Price\n",
    "print(f\"European Call Option Price using Binomial Tree Method: {binomialResults['O'][0][0]:.2f}\")"
   ]
  },
  {
   "cell_type": "code",
   "execution_count": 69,
   "metadata": {},
   "outputs": [
    {
     "data": {
      "text/plain": [
       "{'S': array([[100.  , 110.  , 121.  , 133.1 , 146.41],\n",
       "        [  0.  ,  90.  ,  99.  , 108.9 , 119.79],\n",
       "        [  0.  ,   0.  ,  81.  ,  89.1 ,  98.01],\n",
       "        [  0.  ,   0.  ,   0.  ,  72.9 ,  80.19],\n",
       "        [  0.  ,   0.  ,   0.  ,   0.  ,  65.61]]),\n",
       " 'P': array([[ 0.  , 10.  , 21.  , 33.1 , 46.41],\n",
       "        [ 0.  ,  0.  ,  0.  ,  8.9 , 19.79],\n",
       "        [ 0.  ,  0.  ,  0.  ,  0.  ,  0.  ],\n",
       "        [ 0.  ,  0.  ,  0.  ,  0.  ,  0.  ],\n",
       "        [ 0.  ,  0.  ,  0.  ,  0.  ,  0.  ]]),\n",
       " 'O': array([[10.29, 15.88, 23.83, 34.33, 46.41],\n",
       "        [ 0.  ,  3.39,  6.11, 10.99, 19.79],\n",
       "        [ 0.  ,  0.  ,  0.  ,  0.  ,  0.  ],\n",
       "        [ 0.  ,  0.  ,  0.  ,  0.  ,  0.  ],\n",
       "        [ 0.  ,  0.  ,  0.  ,  0.  ,  0.  ]]),\n",
       " 'D': array([[0.62, 0.81, 0.96, 1.  , 0.  ],\n",
       "        [0.  , 0.34, 0.56, 0.91, 0.  ],\n",
       "        [0.  , 0.  , 0.  , 0.  , 0.  ],\n",
       "        [0.  , 0.  , 0.  , 0.  , 0.  ],\n",
       "        [0.  , 0.  , 0.  , 0.  , 0.  ]])}"
      ]
     },
     "execution_count": 69,
     "metadata": {},
     "output_type": "execute_result"
    }
   ],
   "source": [
    "binomialResults"
   ]
  },
  {
   "cell_type": "code",
   "execution_count": null,
   "metadata": {},
   "outputs": [],
   "source": []
  }
 ],
 "metadata": {
  "kernelspec": {
   "display_name": "Python 3.9.7 ('venv': venv)",
   "language": "python",
   "name": "python3"
  },
  "language_info": {
   "codemirror_mode": {
    "name": "ipython",
    "version": 3
   },
   "file_extension": ".py",
   "mimetype": "text/x-python",
   "name": "python",
   "nbconvert_exporter": "python",
   "pygments_lexer": "ipython3",
   "version": "3.9.7"
  },
  "orig_nbformat": 4,
  "vscode": {
   "interpreter": {
    "hash": "b9090d52f8629a8908117c382e7d61651fc2c6ee8523a149072f485b66fe5643"
   }
  }
 },
 "nbformat": 4,
 "nbformat_minor": 2
}
