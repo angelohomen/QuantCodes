{
 "cells": [
  {
   "cell_type": "code",
   "execution_count": 3,
   "metadata": {},
   "outputs": [],
   "source": [
    "import numpy as np\n",
    "# Import math functions from NumPy\n",
    "from numpy import *"
   ]
  },
  {
   "cell_type": "code",
   "execution_count": 4,
   "metadata": {},
   "outputs": [],
   "source": [
    "def binomialTree(\n",
    "    So: float = 100, \n",
    "    K: float = 100, \n",
    "    t: int = 4, \n",
    "    option_type: str = \"C\", \n",
    "    E: int = 1, \n",
    "    interest_rate: float = 1, \n",
    "    vol: float = 0.2, \n",
    "    exercise_type: str = \"EUR\"\n",
    "    ):\n",
    "    '''\n",
    "    Evaluating present option value.\n",
    "    So: Stock price today.\n",
    "    K: Strike of the option.\n",
    "    t: Time steps for expiration.\n",
    "    option_type: Option type. (\"C\" for Call and \"P\" for Put)\n",
    "    E: Expiration days.\n",
    "    interest_rate: Interest rate.\n",
    "    vol: Volatility.\n",
    "    exercise_type: Type of exercise. (\"US\" for American and \"EUR\" for European)\n",
    "    '''\n",
    "\n",
    "    Su, Sv = So, So\n",
    "    \n",
    "    prices_matrix = np.zeros((t + 1, t + 1))\n",
    "    option_price_matrix = np.zeros((t + 1, t + 1))\n",
    "    payoff_matrix = np.zeros((t + 1, t + 1))\n",
    "    delta_hedge_matrix = np.zeros((t + 1, t + 1))\n",
    "    \n",
    "    return_array = []\n",
    "    \n",
    "    dt = E / t\n",
    "    discount_factor = 1 / (1 + interest_rate * dt)\n",
    "    prob = 0.5 + interest_rate * np.sqrt(dt) / (2 * vol)\n",
    "    payoff_type = 1 if option_type == \"C\" else -1\n",
    "    early_exercise = 1 if exercise_type == \"US\" else 0\n",
    "    v = 1 + vol * np.sqrt(dt)\n",
    "    u = 1 - vol * np.sqrt(dt)\n",
    "\n",
    "    for col in range(t + 1):\n",
    "        for idx in range(col + 1):\n",
    "            prices_matrix[0][col] = Sv\n",
    "            prices_matrix[col][col] = Su\n",
    "            payoff_matrix[0][col] = max(payoff_type * (prices_matrix[0][col] - K), 0)\n",
    "            payoff_matrix[col][col] = max(payoff_type * (prices_matrix[col][col] - K), 0)\n",
    "            \n",
    "            if idx < len(prices_matrix[0]) - 1 and col > 1 and idx < col:\n",
    "                prices_matrix[idx][col] = prices_matrix[idx][col - 1] * v\n",
    "                prices_matrix[idx + 1][col] = prices_matrix[idx - 1][col - 1] * u\n",
    "                payoff_matrix[idx][col] = max(payoff_type * (prices_matrix[idx][col] - K), 0)\n",
    "        Sv = Sv * v\n",
    "        Su = Su * u\n",
    "            \n",
    "    for col in range(t, -1, -1):\n",
    "        for idx in range(col, -1, -1):\n",
    "            if col == t:\n",
    "                option_price_matrix[idx][col] = max(payoff_type * (prices_matrix[idx][col] - K), early_exercise * max(payoff_type * (prices_matrix[idx][col] - K), 0))\n",
    "            else:\n",
    "                if idx < t and col < t:\n",
    "                    option_price_matrix[idx][col] = max(discount_factor * (prob * option_price_matrix[idx][col + 1] + (1 - prob) * option_price_matrix[idx + 1][col + 1]), early_exercise * max(payoff_type * (prices_matrix[idx][col] - K), 0))\n",
    "                    delta_hedge_matrix[idx][col] = (option_price_matrix[idx][col + 1] - option_price_matrix[idx + 1][col + 1])/(prices_matrix[idx][col + 1] - prices_matrix[idx + 1][col + 1])\n",
    "\n",
    "    delta_hedge_matrix[:, -1] = 0\n",
    "\n",
    "    for col in range(t + 1):\n",
    "        for idx in range(t + 1):\n",
    "            data_dict = {\n",
    "                'stock_price': prices_matrix[idx][col],\n",
    "                'payoff': payoff_matrix[idx][col],\n",
    "                'option_price': option_price_matrix[idx][col],\n",
    "                'delta': delta_hedge_matrix[idx][col],\n",
    "                }\n",
    "            return_array.append(data_dict)\n",
    "\n",
    "    return np.reshape(return_array, (len(prices_matrix),len(prices_matrix)))"
   ]
  },
  {
   "cell_type": "code",
   "execution_count": 5,
   "metadata": {},
   "outputs": [
    {
     "name": "stdout",
     "output_type": "stream",
     "text": [
      "\u001b[1;31mSignature:\u001b[0m\n",
      "\u001b[0mbinomialTree\u001b[0m\u001b[1;33m(\u001b[0m\u001b[1;33m\n",
      "\u001b[0m    \u001b[0mSo\u001b[0m\u001b[1;33m:\u001b[0m \u001b[0mfloat\u001b[0m \u001b[1;33m=\u001b[0m \u001b[1;36m100\u001b[0m\u001b[1;33m,\u001b[0m\u001b[1;33m\n",
      "\u001b[0m    \u001b[0mK\u001b[0m\u001b[1;33m:\u001b[0m \u001b[0mfloat\u001b[0m \u001b[1;33m=\u001b[0m \u001b[1;36m100\u001b[0m\u001b[1;33m,\u001b[0m\u001b[1;33m\n",
      "\u001b[0m    \u001b[0mt\u001b[0m\u001b[1;33m:\u001b[0m \u001b[0mint\u001b[0m \u001b[1;33m=\u001b[0m \u001b[1;36m4\u001b[0m\u001b[1;33m,\u001b[0m\u001b[1;33m\n",
      "\u001b[0m    \u001b[0moption_type\u001b[0m\u001b[1;33m:\u001b[0m \u001b[0mstr\u001b[0m \u001b[1;33m=\u001b[0m \u001b[1;34m'C'\u001b[0m\u001b[1;33m,\u001b[0m\u001b[1;33m\n",
      "\u001b[0m    \u001b[0mE\u001b[0m\u001b[1;33m:\u001b[0m \u001b[0mint\u001b[0m \u001b[1;33m=\u001b[0m \u001b[1;36m1\u001b[0m\u001b[1;33m,\u001b[0m\u001b[1;33m\n",
      "\u001b[0m    \u001b[0minterest_rate\u001b[0m\u001b[1;33m:\u001b[0m \u001b[0mfloat\u001b[0m \u001b[1;33m=\u001b[0m \u001b[1;36m1\u001b[0m\u001b[1;33m,\u001b[0m\u001b[1;33m\n",
      "\u001b[0m    \u001b[0mvol\u001b[0m\u001b[1;33m:\u001b[0m \u001b[0mfloat\u001b[0m \u001b[1;33m=\u001b[0m \u001b[1;36m0.2\u001b[0m\u001b[1;33m,\u001b[0m\u001b[1;33m\n",
      "\u001b[0m    \u001b[0mexercise_type\u001b[0m\u001b[1;33m:\u001b[0m \u001b[0mstr\u001b[0m \u001b[1;33m=\u001b[0m \u001b[1;34m'EUR'\u001b[0m\u001b[1;33m,\u001b[0m\u001b[1;33m\n",
      "\u001b[0m\u001b[1;33m)\u001b[0m\u001b[1;33m\u001b[0m\u001b[1;33m\u001b[0m\u001b[0m\n",
      "\u001b[1;31mDocstring:\u001b[0m\n",
      "Evaluating present option value.\n",
      "So: Stock price today.\n",
      "K: Strike of the option.\n",
      "t: Time steps for expiration.\n",
      "option_type: Option type. (\"C\" for Call and \"P\" for Put)\n",
      "E: Expiration days.\n",
      "interest_rate: Interest rate.\n",
      "vol: Volatility.\n",
      "exercise_type: Type of exercise. (\"US\" for American and \"EUR\" for European)\n",
      "\u001b[1;31mFile:\u001b[0m      c:\\users\\angelo\\appdata\\local\\temp\\ipykernel_14156\\1952146775.py\n",
      "\u001b[1;31mType:\u001b[0m      function\n"
     ]
    }
   ],
   "source": [
    "binomialTree?"
   ]
  },
  {
   "cell_type": "code",
   "execution_count": 14,
   "metadata": {},
   "outputs": [
    {
     "data": {
      "text/plain": [
       "{'stock_price': 100.0,\n",
       " 'payoff': 0.0,\n",
       " 'option_price': 47.95963200000006,\n",
       " 'delta': 0.1613079999999988}"
      ]
     },
     "execution_count": 14,
     "metadata": {},
     "output_type": "execute_result"
    }
   ],
   "source": [
    "binomialTree(\n",
    "    So = 100,\n",
    "    K = 100,\n",
    "    t = 4,\n",
    "    option_type = 'C',\n",
    "    E = 1,\n",
    "    interest_rate = 1,\n",
    "    vol = 0.2,\n",
    "    exercise_type = 'EUR',\n",
    ")[0][0]"
   ]
  },
  {
   "cell_type": "markdown",
   "metadata": {},
   "source": [
    "# 2"
   ]
  },
  {
   "cell_type": "code",
   "execution_count": 7,
   "metadata": {},
   "outputs": [],
   "source": [
    "def binomial_option(spot, strike, rate, sigma, time, steps, output=0):\n",
    "    \n",
    "    \"\"\"\n",
    "    binomial_option(spot, strike, rate, sigma, time, steps, output=0)\n",
    "    \n",
    "    Function for building binomial option tree for european call option payoff. \n",
    "    \n",
    "    Parameters\n",
    "    ----------\n",
    "    spot        int or float   - spot price\n",
    "    strike      int or float   - strike price \n",
    "    rate        float          - interest rate\n",
    "    sigma       float          - volatility\n",
    "    time        int or float   - expiration time\n",
    "    steps       int            - number of time steps\n",
    "    output      int            - [0: price, 1: payoff, 2: option value, 3: option delta]\n",
    "    \n",
    "    Returns\n",
    "    ----------\n",
    "    out : ndarray\n",
    "    An array object of price, payoff, option value and delta as specified by the output parameter\n",
    "\n",
    "    \"\"\"\n",
    "    \n",
    "    # define parameters\n",
    "    ts = time/steps                                 # ts is time steps, dt\n",
    "    u = 1 + sigma*sqrt(ts)                          # u is up factor\n",
    "    v = 1 - sigma*sqrt(ts)                          # v is down factor\n",
    "    p = 0.5 + rate*sqrt(ts)/(2*sigma)               # p here is risk neutral probability (p') - for ease of use\n",
    "    df = 1/(1+rate*ts)                              # df is discount factor\n",
    "\n",
    "    # initialize arrays\n",
    "    px = zeros((steps+1, steps+1))                  # price path\n",
    "    cp = zeros((steps+1, steps+1))                  # call intrinsic payoff\n",
    "    V = zeros((steps+1, steps+1))                   # option value\n",
    "    d = zeros((steps+1, steps+1))                   # delta value\n",
    "    \n",
    "    # binomial loop\n",
    "    for j in range(steps+1):\n",
    "        for i in range(j+1):\n",
    "            px[i,j] = spot * power(v,i) * power(u,j-i)\n",
    "            cp[i,j] = maximum(px[i,j] - strike,0)\n",
    "            \n",
    "    for j in range(steps+1, 0, -1):\n",
    "        for i in range(j):\n",
    "            if (j == steps+1):\n",
    "                V[i,j-1] = cp[i,j-1]                # terminal payoff\n",
    "                d[i,j-1] = 0                        # terminal delta\n",
    "            else:\n",
    "                V[i,j-1] = df*(p*V[i,j]+(1-p)*V[i+1,j])\n",
    "                d[i,j-1] = (V[i,j]-V[i+1,j])/(px[i,j]-px[i+1,j])\n",
    "                    \n",
    "    results = around(px,2), around(cp,2), around(V,2), around(d,4)\n",
    "    \n",
    "    return results[output]"
   ]
  },
  {
   "cell_type": "code",
   "execution_count": 8,
   "metadata": {},
   "outputs": [
    {
     "data": {
      "text/plain": [
       "array([[100.  , 110.  , 121.  , 133.1 , 146.41],\n",
       "       [  0.  ,  90.  ,  99.  , 108.9 , 119.79],\n",
       "       [  0.  ,   0.  ,  81.  ,  89.1 ,  98.01],\n",
       "       [  0.  ,   0.  ,   0.  ,  72.9 ,  80.19],\n",
       "       [  0.  ,   0.  ,   0.  ,   0.  ,  65.61]])"
      ]
     },
     "execution_count": 8,
     "metadata": {},
     "output_type": "execute_result"
    }
   ],
   "source": [
    "px = binomial_option(100,100,0.05,0.2,1,4,0)\n",
    "px"
   ]
  },
  {
   "cell_type": "code",
   "execution_count": 9,
   "metadata": {},
   "outputs": [
    {
     "data": {
      "text/plain": [
       "array([[ 0.  , 10.  , 21.  , 33.1 , 46.41],\n",
       "       [ 0.  ,  0.  ,  0.  ,  8.9 , 19.79],\n",
       "       [ 0.  ,  0.  ,  0.  ,  0.  ,  0.  ],\n",
       "       [ 0.  ,  0.  ,  0.  ,  0.  ,  0.  ],\n",
       "       [ 0.  ,  0.  ,  0.  ,  0.  ,  0.  ]])"
      ]
     },
     "execution_count": 9,
     "metadata": {},
     "output_type": "execute_result"
    }
   ],
   "source": [
    "# Intrinsic value of call options\n",
    "cp=binomial_option(100,100,0.05,0.2,1,4,1)\n",
    "cp"
   ]
  },
  {
   "cell_type": "code",
   "execution_count": 10,
   "metadata": {},
   "outputs": [
    {
     "data": {
      "text/plain": [
       "array([[10.29, 15.88, 23.83, 34.33, 46.41],\n",
       "       [ 0.  ,  3.39,  6.11, 10.99, 19.79],\n",
       "       [ 0.  ,  0.  ,  0.  ,  0.  ,  0.  ],\n",
       "       [ 0.  ,  0.  ,  0.  ,  0.  ,  0.  ],\n",
       "       [ 0.  ,  0.  ,  0.  ,  0.  ,  0.  ]])"
      ]
     },
     "execution_count": 10,
     "metadata": {},
     "output_type": "execute_result"
    }
   ],
   "source": [
    "# Option price \n",
    "opx=binomial_option(100,100,0.05,0.2,1,4,2)\n",
    "opx"
   ]
  },
  {
   "cell_type": "code",
   "execution_count": 11,
   "metadata": {},
   "outputs": [
    {
     "data": {
      "text/plain": [
       "array([[0.6241, 0.8053, 0.9645, 1.    , 0.    ],\n",
       "       [0.    , 0.3393, 0.5553, 0.9086, 0.    ],\n",
       "       [0.    , 0.    , 0.    , 0.    , 0.    ],\n",
       "       [0.    , 0.    , 0.    , 0.    , 0.    ],\n",
       "       [0.    , 0.    , 0.    , 0.    , 0.    ]])"
      ]
     },
     "execution_count": 11,
     "metadata": {},
     "output_type": "execute_result"
    }
   ],
   "source": [
    "# Option delta\n",
    "delta=binomial_option(100,100,0.05,0.2,1,4,3)\n",
    "delta"
   ]
  },
  {
   "cell_type": "code",
   "execution_count": 12,
   "metadata": {},
   "outputs": [
    {
     "name": "stdout",
     "output_type": "stream",
     "text": [
      "European Call Option Price using Binomial Tree Method: 10.29\n"
     ]
    }
   ],
   "source": [
    "# Binomial Option Price\n",
    "print(f\"European Call Option Price using Binomial Tree Method: {opx[0,0]:.2f}\")"
   ]
  },
  {
   "cell_type": "code",
   "execution_count": null,
   "metadata": {},
   "outputs": [],
   "source": []
  }
 ],
 "metadata": {
  "kernelspec": {
   "display_name": "Python 3.9.7 ('venv': venv)",
   "language": "python",
   "name": "python3"
  },
  "language_info": {
   "codemirror_mode": {
    "name": "ipython",
    "version": 3
   },
   "file_extension": ".py",
   "mimetype": "text/x-python",
   "name": "python",
   "nbconvert_exporter": "python",
   "pygments_lexer": "ipython3",
   "version": "3.9.7"
  },
  "orig_nbformat": 4,
  "vscode": {
   "interpreter": {
    "hash": "b9090d52f8629a8908117c382e7d61651fc2c6ee8523a149072f485b66fe5643"
   }
  }
 },
 "nbformat": 4,
 "nbformat_minor": 2
}
