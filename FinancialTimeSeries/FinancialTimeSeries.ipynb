{
 "cells": [
  {
   "cell_type": "markdown",
   "metadata": {},
   "source": [
    "# Import libraries"
   ]
  },
  {
   "cell_type": "code",
   "execution_count": 14,
   "metadata": {},
   "outputs": [
    {
     "data": {
      "text/html": [
       "        <script type=\"text/javascript\">\n",
       "        window.PlotlyConfig = {MathJaxConfig: 'local'};\n",
       "        if (window.MathJax && window.MathJax.Hub && window.MathJax.Hub.Config) {window.MathJax.Hub.Config({SVG: {font: \"STIX-Web\"}});}\n",
       "        if (typeof require !== 'undefined') {\n",
       "        require.undef(\"plotly\");\n",
       "        requirejs.config({\n",
       "            paths: {\n",
       "                'plotly': ['https://cdn.plot.ly/plotly-2.12.1.min']\n",
       "            }\n",
       "        });\n",
       "        require(['plotly'], function(Plotly) {\n",
       "            window._Plotly = Plotly;\n",
       "        });\n",
       "        }\n",
       "        </script>\n",
       "        "
      ]
     },
     "metadata": {},
     "output_type": "display_data"
    }
   ],
   "source": [
    "import pandas as pd\n",
    "import numpy as np\n",
    "import yfinance as yf\n",
    "import cufflinks as cf\n",
    "import warnings\n",
    "\n",
    "cf.set_config_file(offline=True)\n",
    "warnings.filterwarnings('ignore')"
   ]
  },
  {
   "cell_type": "markdown",
   "metadata": {},
   "source": [
    "# Yahoo Finance examples"
   ]
  },
  {
   "cell_type": "code",
   "execution_count": 15,
   "metadata": {},
   "outputs": [],
   "source": [
    "# Number of period\n",
    "df1 = yf.download('^GSPC', period='5d', progress=False)\n",
    "\n",
    "# Start and end dates\n",
    "df2 = yf.download('^GSPC', start='2020-12-24', end='2020-12-31', progress=False)\n",
    "\n",
    "# Year to date (YTD)\n",
    "df3 = yf.download('^GSPC', period='ytd', progress=False)\n",
    "\n",
    "# Multiple stocks at once (just Adj Close)\n",
    "faang_stocks = ['AAPL', 'AMZN', 'FB', 'GOOG', 'NFLX']\n",
    "df4 = yf.download(faang_stocks, period='ytd', progress=False)['Adj Close']"
   ]
  },
  {
   "cell_type": "code",
   "execution_count": 16,
   "metadata": {},
   "outputs": [
    {
     "data": {
      "text/html": [
       "<div>\n",
       "<style scoped>\n",
       "    .dataframe tbody tr th:only-of-type {\n",
       "        vertical-align: middle;\n",
       "    }\n",
       "\n",
       "    .dataframe tbody tr th {\n",
       "        vertical-align: top;\n",
       "    }\n",
       "\n",
       "    .dataframe thead th {\n",
       "        text-align: right;\n",
       "    }\n",
       "</style>\n",
       "<table border=\"1\" class=\"dataframe\">\n",
       "  <thead>\n",
       "    <tr style=\"text-align: right;\">\n",
       "      <th></th>\n",
       "      <th>Open</th>\n",
       "      <th>High</th>\n",
       "      <th>Low</th>\n",
       "      <th>Close</th>\n",
       "      <th>Adj Close</th>\n",
       "      <th>Volume</th>\n",
       "    </tr>\n",
       "  </thead>\n",
       "  <tbody>\n",
       "    <tr>\n",
       "      <th>count</th>\n",
       "      <td>5.000000</td>\n",
       "      <td>5.000000</td>\n",
       "      <td>5.000000</td>\n",
       "      <td>5.000000</td>\n",
       "      <td>5.000000</td>\n",
       "      <td>5.000000e+00</td>\n",
       "    </tr>\n",
       "    <tr>\n",
       "      <th>mean</th>\n",
       "      <td>3862.395996</td>\n",
       "      <td>3890.877930</td>\n",
       "      <td>3844.530078</td>\n",
       "      <td>3870.827979</td>\n",
       "      <td>3870.827979</td>\n",
       "      <td>2.742304e+09</td>\n",
       "    </tr>\n",
       "    <tr>\n",
       "      <th>std</th>\n",
       "      <td>22.691697</td>\n",
       "      <td>22.111849</td>\n",
       "      <td>22.958729</td>\n",
       "      <td>27.789262</td>\n",
       "      <td>27.789262</td>\n",
       "      <td>1.075325e+09</td>\n",
       "    </tr>\n",
       "    <tr>\n",
       "      <th>min</th>\n",
       "      <td>3831.979980</td>\n",
       "      <td>3870.909912</td>\n",
       "      <td>3809.370117</td>\n",
       "      <td>3845.080078</td>\n",
       "      <td>3845.080078</td>\n",
       "      <td>8.922396e+08</td>\n",
       "    </tr>\n",
       "    <tr>\n",
       "      <th>25%</th>\n",
       "      <td>3851.949951</td>\n",
       "      <td>3873.409912</td>\n",
       "      <td>3837.870117</td>\n",
       "      <td>3852.629883</td>\n",
       "      <td>3852.629883</td>\n",
       "      <td>2.844620e+09</td>\n",
       "    </tr>\n",
       "    <tr>\n",
       "      <th>50%</th>\n",
       "      <td>3858.850098</td>\n",
       "      <td>3880.939941</td>\n",
       "      <td>3847.219971</td>\n",
       "      <td>3854.429932</td>\n",
       "      <td>3854.429932</td>\n",
       "      <td>3.023830e+09</td>\n",
       "    </tr>\n",
       "    <tr>\n",
       "      <th>75%</th>\n",
       "      <td>3880.939941</td>\n",
       "      <td>3910.629883</td>\n",
       "      <td>3858.850098</td>\n",
       "      <td>3899.379883</td>\n",
       "      <td>3899.379883</td>\n",
       "      <td>3.337710e+09</td>\n",
       "    </tr>\n",
       "    <tr>\n",
       "      <th>max</th>\n",
       "      <td>3888.260010</td>\n",
       "      <td>3918.500000</td>\n",
       "      <td>3869.340088</td>\n",
       "      <td>3902.620117</td>\n",
       "      <td>3902.620117</td>\n",
       "      <td>3.613120e+09</td>\n",
       "    </tr>\n",
       "  </tbody>\n",
       "</table>\n",
       "</div>"
      ],
      "text/plain": [
       "              Open         High          Low        Close    Adj Close  \\\n",
       "count     5.000000     5.000000     5.000000     5.000000     5.000000   \n",
       "mean   3862.395996  3890.877930  3844.530078  3870.827979  3870.827979   \n",
       "std      22.691697    22.111849    22.958729    27.789262    27.789262   \n",
       "min    3831.979980  3870.909912  3809.370117  3845.080078  3845.080078   \n",
       "25%    3851.949951  3873.409912  3837.870117  3852.629883  3852.629883   \n",
       "50%    3858.850098  3880.939941  3847.219971  3854.429932  3854.429932   \n",
       "75%    3880.939941  3910.629883  3858.850098  3899.379883  3899.379883   \n",
       "max    3888.260010  3918.500000  3869.340088  3902.620117  3902.620117   \n",
       "\n",
       "             Volume  \n",
       "count  5.000000e+00  \n",
       "mean   2.742304e+09  \n",
       "std    1.075325e+09  \n",
       "min    8.922396e+08  \n",
       "25%    2.844620e+09  \n",
       "50%    3.023830e+09  \n",
       "75%    3.337710e+09  \n",
       "max    3.613120e+09  "
      ]
     },
     "execution_count": 16,
     "metadata": {},
     "output_type": "execute_result"
    }
   ],
   "source": [
    "df1.describe()"
   ]
  },
  {
   "cell_type": "code",
   "execution_count": 17,
   "metadata": {},
   "outputs": [
    {
     "data": {
      "text/html": [
       "<div>\n",
       "<style scoped>\n",
       "    .dataframe tbody tr th:only-of-type {\n",
       "        vertical-align: middle;\n",
       "    }\n",
       "\n",
       "    .dataframe tbody tr th {\n",
       "        vertical-align: top;\n",
       "    }\n",
       "\n",
       "    .dataframe thead th {\n",
       "        text-align: right;\n",
       "    }\n",
       "</style>\n",
       "<table border=\"1\" class=\"dataframe\">\n",
       "  <thead>\n",
       "    <tr style=\"text-align: right;\">\n",
       "      <th></th>\n",
       "      <th>Open</th>\n",
       "      <th>High</th>\n",
       "      <th>Low</th>\n",
       "      <th>Close</th>\n",
       "      <th>Adj Close</th>\n",
       "      <th>Volume</th>\n",
       "    </tr>\n",
       "  </thead>\n",
       "  <tbody>\n",
       "    <tr>\n",
       "      <th>count</th>\n",
       "      <td>4.000000</td>\n",
       "      <td>4.000000</td>\n",
       "      <td>4.000000</td>\n",
       "      <td>4.000000</td>\n",
       "      <td>4.000000</td>\n",
       "      <td>4.000000e+00</td>\n",
       "    </tr>\n",
       "    <tr>\n",
       "      <th>mean</th>\n",
       "      <td>3725.815002</td>\n",
       "      <td>3736.270020</td>\n",
       "      <td>3716.467529</td>\n",
       "      <td>3724.375061</td>\n",
       "      <td>3724.375061</td>\n",
       "      <td>2.986195e+09</td>\n",
       "    </tr>\n",
       "    <tr>\n",
       "      <th>std</th>\n",
       "      <td>23.882199</td>\n",
       "      <td>22.619244</td>\n",
       "      <td>18.400414</td>\n",
       "      <td>14.615683</td>\n",
       "      <td>14.615683</td>\n",
       "      <td>7.508554e+08</td>\n",
       "    </tr>\n",
       "    <tr>\n",
       "      <th>min</th>\n",
       "      <td>3694.030029</td>\n",
       "      <td>3703.820068</td>\n",
       "      <td>3689.320068</td>\n",
       "      <td>3703.060059</td>\n",
       "      <td>3703.060059</td>\n",
       "      <td>1.885090e+09</td>\n",
       "    </tr>\n",
       "    <tr>\n",
       "      <th>25%</th>\n",
       "      <td>3715.780029</td>\n",
       "      <td>3731.337524</td>\n",
       "      <td>3714.602539</td>\n",
       "      <td>3721.045044</td>\n",
       "      <td>3721.045044</td>\n",
       "      <td>2.830172e+09</td>\n",
       "    </tr>\n",
       "    <tr>\n",
       "      <th>50%</th>\n",
       "      <td>3729.609985</td>\n",
       "      <td>3742.569946</td>\n",
       "      <td>3723.170044</td>\n",
       "      <td>3729.540039</td>\n",
       "      <td>3729.540039</td>\n",
       "      <td>3.266115e+09</td>\n",
       "    </tr>\n",
       "    <tr>\n",
       "      <th>75%</th>\n",
       "      <td>3739.644958</td>\n",
       "      <td>3747.502441</td>\n",
       "      <td>3725.035034</td>\n",
       "      <td>3732.870056</td>\n",
       "      <td>3732.870056</td>\n",
       "      <td>3.422138e+09</td>\n",
       "    </tr>\n",
       "    <tr>\n",
       "      <th>max</th>\n",
       "      <td>3750.010010</td>\n",
       "      <td>3756.120117</td>\n",
       "      <td>3730.209961</td>\n",
       "      <td>3735.360107</td>\n",
       "      <td>3735.360107</td>\n",
       "      <td>3.527460e+09</td>\n",
       "    </tr>\n",
       "  </tbody>\n",
       "</table>\n",
       "</div>"
      ],
      "text/plain": [
       "              Open         High          Low        Close    Adj Close  \\\n",
       "count     4.000000     4.000000     4.000000     4.000000     4.000000   \n",
       "mean   3725.815002  3736.270020  3716.467529  3724.375061  3724.375061   \n",
       "std      23.882199    22.619244    18.400414    14.615683    14.615683   \n",
       "min    3694.030029  3703.820068  3689.320068  3703.060059  3703.060059   \n",
       "25%    3715.780029  3731.337524  3714.602539  3721.045044  3721.045044   \n",
       "50%    3729.609985  3742.569946  3723.170044  3729.540039  3729.540039   \n",
       "75%    3739.644958  3747.502441  3725.035034  3732.870056  3732.870056   \n",
       "max    3750.010010  3756.120117  3730.209961  3735.360107  3735.360107   \n",
       "\n",
       "             Volume  \n",
       "count  4.000000e+00  \n",
       "mean   2.986195e+09  \n",
       "std    7.508554e+08  \n",
       "min    1.885090e+09  \n",
       "25%    2.830172e+09  \n",
       "50%    3.266115e+09  \n",
       "75%    3.422138e+09  \n",
       "max    3.527460e+09  "
      ]
     },
     "execution_count": 17,
     "metadata": {},
     "output_type": "execute_result"
    }
   ],
   "source": [
    "df2.describe()"
   ]
  },
  {
   "cell_type": "code",
   "execution_count": 18,
   "metadata": {},
   "outputs": [
    {
     "data": {
      "text/html": [
       "<div>\n",
       "<style scoped>\n",
       "    .dataframe tbody tr th:only-of-type {\n",
       "        vertical-align: middle;\n",
       "    }\n",
       "\n",
       "    .dataframe tbody tr th {\n",
       "        vertical-align: top;\n",
       "    }\n",
       "\n",
       "    .dataframe thead th {\n",
       "        text-align: right;\n",
       "    }\n",
       "</style>\n",
       "<table border=\"1\" class=\"dataframe\">\n",
       "  <thead>\n",
       "    <tr style=\"text-align: right;\">\n",
       "      <th></th>\n",
       "      <th>Open</th>\n",
       "      <th>High</th>\n",
       "      <th>Low</th>\n",
       "      <th>Close</th>\n",
       "      <th>Adj Close</th>\n",
       "      <th>Volume</th>\n",
       "    </tr>\n",
       "  </thead>\n",
       "  <tbody>\n",
       "    <tr>\n",
       "      <th>count</th>\n",
       "      <td>131.000000</td>\n",
       "      <td>131.000000</td>\n",
       "      <td>131.000000</td>\n",
       "      <td>131.000000</td>\n",
       "      <td>131.000000</td>\n",
       "      <td>1.310000e+02</td>\n",
       "    </tr>\n",
       "    <tr>\n",
       "      <th>mean</th>\n",
       "      <td>4266.338319</td>\n",
       "      <td>4302.141130</td>\n",
       "      <td>4220.546869</td>\n",
       "      <td>4261.994655</td>\n",
       "      <td>4261.994655</td>\n",
       "      <td>3.965994e+09</td>\n",
       "    </tr>\n",
       "    <tr>\n",
       "      <th>std</th>\n",
       "      <td>284.766855</td>\n",
       "      <td>280.107475</td>\n",
       "      <td>285.144562</td>\n",
       "      <td>282.932703</td>\n",
       "      <td>282.932703</td>\n",
       "      <td>7.383461e+08</td>\n",
       "    </tr>\n",
       "    <tr>\n",
       "      <th>min</th>\n",
       "      <td>3665.899902</td>\n",
       "      <td>3707.709961</td>\n",
       "      <td>3636.870117</td>\n",
       "      <td>3666.770020</td>\n",
       "      <td>3666.770020</td>\n",
       "      <td>8.922644e+08</td>\n",
       "    </tr>\n",
       "    <tr>\n",
       "      <th>25%</th>\n",
       "      <td>4051.989990</td>\n",
       "      <td>4078.204956</td>\n",
       "      <td>3984.295044</td>\n",
       "      <td>4020.854980</td>\n",
       "      <td>4020.854980</td>\n",
       "      <td>3.550195e+09</td>\n",
       "    </tr>\n",
       "    <tr>\n",
       "      <th>50%</th>\n",
       "      <td>4327.009766</td>\n",
       "      <td>4362.120117</td>\n",
       "      <td>4267.109863</td>\n",
       "      <td>4306.259766</td>\n",
       "      <td>4306.259766</td>\n",
       "      <td>3.901640e+09</td>\n",
       "    </tr>\n",
       "    <tr>\n",
       "      <th>75%</th>\n",
       "      <td>4481.405029</td>\n",
       "      <td>4520.495117</td>\n",
       "      <td>4450.899902</td>\n",
       "      <td>4481.939941</td>\n",
       "      <td>4481.939941</td>\n",
       "      <td>4.216160e+09</td>\n",
       "    </tr>\n",
       "    <tr>\n",
       "      <th>max</th>\n",
       "      <td>4804.509766</td>\n",
       "      <td>4818.620117</td>\n",
       "      <td>4774.270020</td>\n",
       "      <td>4796.560059</td>\n",
       "      <td>4796.560059</td>\n",
       "      <td>6.954110e+09</td>\n",
       "    </tr>\n",
       "  </tbody>\n",
       "</table>\n",
       "</div>"
      ],
      "text/plain": [
       "              Open         High          Low        Close    Adj Close  \\\n",
       "count   131.000000   131.000000   131.000000   131.000000   131.000000   \n",
       "mean   4266.338319  4302.141130  4220.546869  4261.994655  4261.994655   \n",
       "std     284.766855   280.107475   285.144562   282.932703   282.932703   \n",
       "min    3665.899902  3707.709961  3636.870117  3666.770020  3666.770020   \n",
       "25%    4051.989990  4078.204956  3984.295044  4020.854980  4020.854980   \n",
       "50%    4327.009766  4362.120117  4267.109863  4306.259766  4306.259766   \n",
       "75%    4481.405029  4520.495117  4450.899902  4481.939941  4481.939941   \n",
       "max    4804.509766  4818.620117  4774.270020  4796.560059  4796.560059   \n",
       "\n",
       "             Volume  \n",
       "count  1.310000e+02  \n",
       "mean   3.965994e+09  \n",
       "std    7.383461e+08  \n",
       "min    8.922644e+08  \n",
       "25%    3.550195e+09  \n",
       "50%    3.901640e+09  \n",
       "75%    4.216160e+09  \n",
       "max    6.954110e+09  "
      ]
     },
     "execution_count": 18,
     "metadata": {},
     "output_type": "execute_result"
    }
   ],
   "source": [
    "df3.describe()"
   ]
  },
  {
   "cell_type": "code",
   "execution_count": 19,
   "metadata": {},
   "outputs": [
    {
     "data": {
      "text/html": [
       "<div>\n",
       "<style scoped>\n",
       "    .dataframe tbody tr th:only-of-type {\n",
       "        vertical-align: middle;\n",
       "    }\n",
       "\n",
       "    .dataframe tbody tr th {\n",
       "        vertical-align: top;\n",
       "    }\n",
       "\n",
       "    .dataframe thead th {\n",
       "        text-align: right;\n",
       "    }\n",
       "</style>\n",
       "<table border=\"1\" class=\"dataframe\">\n",
       "  <thead>\n",
       "    <tr style=\"text-align: right;\">\n",
       "      <th></th>\n",
       "      <th>AAPL</th>\n",
       "      <th>AMZN</th>\n",
       "      <th>FB</th>\n",
       "      <th>GOOG</th>\n",
       "      <th>NFLX</th>\n",
       "    </tr>\n",
       "  </thead>\n",
       "  <tbody>\n",
       "    <tr>\n",
       "      <th>count</th>\n",
       "      <td>131.000000</td>\n",
       "      <td>131.000000</td>\n",
       "      <td>130.000000</td>\n",
       "      <td>131.000000</td>\n",
       "      <td>131.000000</td>\n",
       "    </tr>\n",
       "    <tr>\n",
       "      <th>mean</th>\n",
       "      <td>158.766169</td>\n",
       "      <td>138.393920</td>\n",
       "      <td>218.924078</td>\n",
       "      <td>2528.999704</td>\n",
       "      <td>311.736519</td>\n",
       "    </tr>\n",
       "    <tr>\n",
       "      <th>std</th>\n",
       "      <td>13.391395</td>\n",
       "      <td>21.648217</td>\n",
       "      <td>49.772756</td>\n",
       "      <td>232.251929</td>\n",
       "      <td>120.429636</td>\n",
       "    </tr>\n",
       "    <tr>\n",
       "      <th>min</th>\n",
       "      <td>130.059998</td>\n",
       "      <td>102.309998</td>\n",
       "      <td>155.850006</td>\n",
       "      <td>2116.790039</td>\n",
       "      <td>166.369995</td>\n",
       "    </tr>\n",
       "    <tr>\n",
       "      <th>25%</th>\n",
       "      <td>147.074997</td>\n",
       "      <td>115.257500</td>\n",
       "      <td>189.127502</td>\n",
       "      <td>2302.339966</td>\n",
       "      <td>188.839996</td>\n",
       "    </tr>\n",
       "    <tr>\n",
       "      <th>50%</th>\n",
       "      <td>161.965378</td>\n",
       "      <td>144.826996</td>\n",
       "      <td>205.945000</td>\n",
       "      <td>2582.419922</td>\n",
       "      <td>348.609985</td>\n",
       "    </tr>\n",
       "    <tr>\n",
       "      <th>75%</th>\n",
       "      <td>170.055145</td>\n",
       "      <td>157.439247</td>\n",
       "      <td>223.544998</td>\n",
       "      <td>2729.435059</td>\n",
       "      <td>388.589996</td>\n",
       "    </tr>\n",
       "    <tr>\n",
       "      <th>max</th>\n",
       "      <td>181.511703</td>\n",
       "      <td>170.404495</td>\n",
       "      <td>338.540009</td>\n",
       "      <td>2960.729980</td>\n",
       "      <td>597.369995</td>\n",
       "    </tr>\n",
       "  </tbody>\n",
       "</table>\n",
       "</div>"
      ],
      "text/plain": [
       "             AAPL        AMZN          FB         GOOG        NFLX\n",
       "count  131.000000  131.000000  130.000000   131.000000  131.000000\n",
       "mean   158.766169  138.393920  218.924078  2528.999704  311.736519\n",
       "std     13.391395   21.648217   49.772756   232.251929  120.429636\n",
       "min    130.059998  102.309998  155.850006  2116.790039  166.369995\n",
       "25%    147.074997  115.257500  189.127502  2302.339966  188.839996\n",
       "50%    161.965378  144.826996  205.945000  2582.419922  348.609985\n",
       "75%    170.055145  157.439247  223.544998  2729.435059  388.589996\n",
       "max    181.511703  170.404495  338.540009  2960.729980  597.369995"
      ]
     },
     "execution_count": 19,
     "metadata": {},
     "output_type": "execute_result"
    }
   ],
   "source": [
    "df4.describe()"
   ]
  },
  {
   "cell_type": "code",
   "execution_count": 20,
   "metadata": {},
   "outputs": [
    {
     "name": "stdout",
     "output_type": "stream",
     "text": [
      "keys are:  ['AAPL', 'AMZN', 'FB', 'GOOG', 'NFLX']\n"
     ]
    }
   ],
   "source": [
    "# Multiple fields using list comprehension\n",
    "faang_stocks = ['AAPL', 'AMZN', 'FB', 'GOOG', 'NFLX']\n",
    "ohlcv= {symbol: yf.download(symbol, period='250d', progress=False) for symbol in faang_stocks}\n",
    "\n",
    "print(\"keys are: \", list(ohlcv.keys()))"
   ]
  },
  {
   "cell_type": "code",
   "execution_count": 21,
   "metadata": {},
   "outputs": [
    {
     "data": {
      "text/html": [
       "<div>\n",
       "<style scoped>\n",
       "    .dataframe tbody tr th:only-of-type {\n",
       "        vertical-align: middle;\n",
       "    }\n",
       "\n",
       "    .dataframe tbody tr th {\n",
       "        vertical-align: top;\n",
       "    }\n",
       "\n",
       "    .dataframe thead th {\n",
       "        text-align: right;\n",
       "    }\n",
       "</style>\n",
       "<table border=\"1\" class=\"dataframe\">\n",
       "  <thead>\n",
       "    <tr style=\"text-align: right;\">\n",
       "      <th></th>\n",
       "      <th>Open</th>\n",
       "      <th>High</th>\n",
       "      <th>Low</th>\n",
       "      <th>Close</th>\n",
       "      <th>Adj Close</th>\n",
       "      <th>Volume</th>\n",
       "    </tr>\n",
       "    <tr>\n",
       "      <th>Date</th>\n",
       "      <th></th>\n",
       "      <th></th>\n",
       "      <th></th>\n",
       "      <th></th>\n",
       "      <th></th>\n",
       "      <th></th>\n",
       "    </tr>\n",
       "  </thead>\n",
       "  <tbody>\n",
       "    <tr>\n",
       "      <th>2021-07-15</th>\n",
       "      <td>184.710007</td>\n",
       "      <td>184.770004</td>\n",
       "      <td>181.046005</td>\n",
       "      <td>181.559998</td>\n",
       "      <td>181.559998</td>\n",
       "      <td>63706000</td>\n",
       "    </tr>\n",
       "    <tr>\n",
       "      <th>2021-07-16</th>\n",
       "      <td>181.665497</td>\n",
       "      <td>182.302994</td>\n",
       "      <td>178.522995</td>\n",
       "      <td>178.681503</td>\n",
       "      <td>178.681503</td>\n",
       "      <td>80874000</td>\n",
       "    </tr>\n",
       "    <tr>\n",
       "      <th>2021-07-19</th>\n",
       "      <td>176.628998</td>\n",
       "      <td>177.510498</td>\n",
       "      <td>174.957993</td>\n",
       "      <td>177.479507</td>\n",
       "      <td>177.479507</td>\n",
       "      <td>75692000</td>\n",
       "    </tr>\n",
       "    <tr>\n",
       "      <th>2021-07-20</th>\n",
       "      <td>178.365997</td>\n",
       "      <td>179.600006</td>\n",
       "      <td>175.899994</td>\n",
       "      <td>178.659500</td>\n",
       "      <td>178.659500</td>\n",
       "      <td>65114000</td>\n",
       "    </tr>\n",
       "    <tr>\n",
       "      <th>2021-07-21</th>\n",
       "      <td>178.819000</td>\n",
       "      <td>179.322495</td>\n",
       "      <td>177.182007</td>\n",
       "      <td>179.259995</td>\n",
       "      <td>179.259995</td>\n",
       "      <td>46380000</td>\n",
       "    </tr>\n",
       "    <tr>\n",
       "      <th>...</th>\n",
       "      <td>...</td>\n",
       "      <td>...</td>\n",
       "      <td>...</td>\n",
       "      <td>...</td>\n",
       "      <td>...</td>\n",
       "      <td>...</td>\n",
       "    </tr>\n",
       "    <tr>\n",
       "      <th>2022-07-06</th>\n",
       "      <td>113.209999</td>\n",
       "      <td>115.480003</td>\n",
       "      <td>112.010002</td>\n",
       "      <td>114.330002</td>\n",
       "      <td>114.330002</td>\n",
       "      <td>66958900</td>\n",
       "    </tr>\n",
       "    <tr>\n",
       "      <th>2022-07-07</th>\n",
       "      <td>113.849998</td>\n",
       "      <td>116.989998</td>\n",
       "      <td>113.489998</td>\n",
       "      <td>116.330002</td>\n",
       "      <td>116.330002</td>\n",
       "      <td>57872300</td>\n",
       "    </tr>\n",
       "    <tr>\n",
       "      <th>2022-07-08</th>\n",
       "      <td>114.599998</td>\n",
       "      <td>116.580002</td>\n",
       "      <td>113.690002</td>\n",
       "      <td>115.540001</td>\n",
       "      <td>115.540001</td>\n",
       "      <td>45658200</td>\n",
       "    </tr>\n",
       "    <tr>\n",
       "      <th>2022-07-11</th>\n",
       "      <td>114.080002</td>\n",
       "      <td>114.300003</td>\n",
       "      <td>110.870003</td>\n",
       "      <td>111.750000</td>\n",
       "      <td>111.750000</td>\n",
       "      <td>53487600</td>\n",
       "    </tr>\n",
       "    <tr>\n",
       "      <th>2022-07-12</th>\n",
       "      <td>112.160004</td>\n",
       "      <td>113.230003</td>\n",
       "      <td>109.629997</td>\n",
       "      <td>110.400002</td>\n",
       "      <td>110.400002</td>\n",
       "      <td>24828177</td>\n",
       "    </tr>\n",
       "  </tbody>\n",
       "</table>\n",
       "<p>250 rows × 6 columns</p>\n",
       "</div>"
      ],
      "text/plain": [
       "                  Open        High         Low       Close   Adj Close  \\\n",
       "Date                                                                     \n",
       "2021-07-15  184.710007  184.770004  181.046005  181.559998  181.559998   \n",
       "2021-07-16  181.665497  182.302994  178.522995  178.681503  178.681503   \n",
       "2021-07-19  176.628998  177.510498  174.957993  177.479507  177.479507   \n",
       "2021-07-20  178.365997  179.600006  175.899994  178.659500  178.659500   \n",
       "2021-07-21  178.819000  179.322495  177.182007  179.259995  179.259995   \n",
       "...                ...         ...         ...         ...         ...   \n",
       "2022-07-06  113.209999  115.480003  112.010002  114.330002  114.330002   \n",
       "2022-07-07  113.849998  116.989998  113.489998  116.330002  116.330002   \n",
       "2022-07-08  114.599998  116.580002  113.690002  115.540001  115.540001   \n",
       "2022-07-11  114.080002  114.300003  110.870003  111.750000  111.750000   \n",
       "2022-07-12  112.160004  113.230003  109.629997  110.400002  110.400002   \n",
       "\n",
       "              Volume  \n",
       "Date                  \n",
       "2021-07-15  63706000  \n",
       "2021-07-16  80874000  \n",
       "2021-07-19  75692000  \n",
       "2021-07-20  65114000  \n",
       "2021-07-21  46380000  \n",
       "...              ...  \n",
       "2022-07-06  66958900  \n",
       "2022-07-07  57872300  \n",
       "2022-07-08  45658200  \n",
       "2022-07-11  53487600  \n",
       "2022-07-12  24828177  \n",
       "\n",
       "[250 rows x 6 columns]"
      ]
     },
     "execution_count": 21,
     "metadata": {},
     "output_type": "execute_result"
    }
   ],
   "source": [
    "# Display AMZN key stock data\n",
    "ohlcv['AMZN']"
   ]
  },
  {
   "cell_type": "code",
   "execution_count": 22,
   "metadata": {},
   "outputs": [
    {
     "data": {
      "text/plain": [
       "Date\n",
       "2021-07-15    181.559998\n",
       "2021-07-16    178.681503\n",
       "2021-07-19    177.479507\n",
       "2021-07-20    178.659500\n",
       "2021-07-21    179.259995\n",
       "                 ...    \n",
       "2022-07-06    114.330002\n",
       "2022-07-07    116.330002\n",
       "2022-07-08    115.540001\n",
       "2022-07-11    111.750000\n",
       "2022-07-12    110.400002\n",
       "Name: Adj Close, Length: 250, dtype: float64"
      ]
     },
     "execution_count": 22,
     "metadata": {},
     "output_type": "execute_result"
    }
   ],
   "source": [
    "# Display AMZN adjusted close data\n",
    "ohlcv['AMZN']['Adj Close']"
   ]
  },
  {
   "cell_type": "code",
   "execution_count": 23,
   "metadata": {},
   "outputs": [
    {
     "data": {
      "text/html": [
       "<div>\n",
       "<style scoped>\n",
       "    .dataframe tbody tr th:only-of-type {\n",
       "        vertical-align: middle;\n",
       "    }\n",
       "\n",
       "    .dataframe tbody tr th {\n",
       "        vertical-align: top;\n",
       "    }\n",
       "\n",
       "    .dataframe thead th {\n",
       "        text-align: right;\n",
       "    }\n",
       "</style>\n",
       "<table border=\"1\" class=\"dataframe\">\n",
       "  <thead>\n",
       "    <tr style=\"text-align: right;\">\n",
       "      <th></th>\n",
       "      <th>Open</th>\n",
       "      <th>High</th>\n",
       "      <th>Low</th>\n",
       "      <th>Close</th>\n",
       "      <th>Adj Close</th>\n",
       "      <th>Volume</th>\n",
       "    </tr>\n",
       "    <tr>\n",
       "      <th>Datetime</th>\n",
       "      <th></th>\n",
       "      <th></th>\n",
       "      <th></th>\n",
       "      <th></th>\n",
       "      <th></th>\n",
       "      <th></th>\n",
       "    </tr>\n",
       "  </thead>\n",
       "  <tbody>\n",
       "    <tr>\n",
       "      <th>2022-07-12 12:08:00-04:00</th>\n",
       "      <td>3857.179932</td>\n",
       "      <td>3857.179932</td>\n",
       "      <td>3852.909912</td>\n",
       "      <td>3853.010010</td>\n",
       "      <td>3853.010010</td>\n",
       "      <td>4744094</td>\n",
       "    </tr>\n",
       "    <tr>\n",
       "      <th>2022-07-12 12:09:00-04:00</th>\n",
       "      <td>3853.020020</td>\n",
       "      <td>3853.030029</td>\n",
       "      <td>3851.610107</td>\n",
       "      <td>3851.639893</td>\n",
       "      <td>3851.639893</td>\n",
       "      <td>3091963</td>\n",
       "    </tr>\n",
       "    <tr>\n",
       "      <th>2022-07-12 12:10:00-04:00</th>\n",
       "      <td>3851.639893</td>\n",
       "      <td>3852.739990</td>\n",
       "      <td>3851.439941</td>\n",
       "      <td>3852.080078</td>\n",
       "      <td>3852.080078</td>\n",
       "      <td>2591403</td>\n",
       "    </tr>\n",
       "    <tr>\n",
       "      <th>2022-07-12 12:11:00-04:00</th>\n",
       "      <td>3852.060059</td>\n",
       "      <td>3852.310059</td>\n",
       "      <td>3851.600098</td>\n",
       "      <td>3851.800049</td>\n",
       "      <td>3851.800049</td>\n",
       "      <td>2968578</td>\n",
       "    </tr>\n",
       "    <tr>\n",
       "      <th>2022-07-12 12:12:20-04:00</th>\n",
       "      <td>3852.540039</td>\n",
       "      <td>3852.540039</td>\n",
       "      <td>3852.540039</td>\n",
       "      <td>3852.540039</td>\n",
       "      <td>3852.540039</td>\n",
       "      <td>0</td>\n",
       "    </tr>\n",
       "  </tbody>\n",
       "</table>\n",
       "</div>"
      ],
      "text/plain": [
       "                                  Open         High          Low        Close  \\\n",
       "Datetime                                                                        \n",
       "2022-07-12 12:08:00-04:00  3857.179932  3857.179932  3852.909912  3853.010010   \n",
       "2022-07-12 12:09:00-04:00  3853.020020  3853.030029  3851.610107  3851.639893   \n",
       "2022-07-12 12:10:00-04:00  3851.639893  3852.739990  3851.439941  3852.080078   \n",
       "2022-07-12 12:11:00-04:00  3852.060059  3852.310059  3851.600098  3851.800049   \n",
       "2022-07-12 12:12:20-04:00  3852.540039  3852.540039  3852.540039  3852.540039   \n",
       "\n",
       "                             Adj Close   Volume  \n",
       "Datetime                                         \n",
       "2022-07-12 12:08:00-04:00  3853.010010  4744094  \n",
       "2022-07-12 12:09:00-04:00  3851.639893  3091963  \n",
       "2022-07-12 12:10:00-04:00  3852.080078  2591403  \n",
       "2022-07-12 12:11:00-04:00  3851.800049  2968578  \n",
       "2022-07-12 12:12:20-04:00  3852.540039        0  "
      ]
     },
     "execution_count": 23,
     "metadata": {},
     "output_type": "execute_result"
    }
   ],
   "source": [
    "# Retrieve intraday data for last five days\n",
    "df5 = yf.download(tickers='^GSPC', period='5d', interval='1m', progress=False)\n",
    "\n",
    "# Display last five rows of the dataframe\n",
    "df5.tail()"
   ]
  },
  {
   "cell_type": "code",
   "execution_count": 24,
   "metadata": {},
   "outputs": [
    {
     "data": {
      "text/plain": [
       "Options(calls=        contractSymbol             lastTradeDate  strike  lastPrice    bid  \\\n",
       "0   SPY220713C00290000 2022-07-11 18:40:08+00:00   290.0      94.79  93.94   \n",
       "1   SPY220713C00295000 2022-07-05 13:37:47+00:00   295.0      79.28  88.94   \n",
       "2   SPY220713C00300000 2022-07-05 13:37:47+00:00   300.0      74.28  83.73   \n",
       "3   SPY220713C00310000 2022-06-21 17:06:16+00:00   310.0      65.84  73.94   \n",
       "4   SPY220713C00320000 2022-07-12 15:10:13+00:00   320.0      64.57  63.87   \n",
       "..                 ...                       ...     ...        ...    ...   \n",
       "73  SPY220713C00450000 2022-07-11 15:01:34+00:00   450.0       0.01   0.00   \n",
       "74  SPY220713C00455000 2022-06-30 13:58:52+00:00   455.0       0.01   0.00   \n",
       "75  SPY220713C00460000 2022-06-29 18:02:37+00:00   460.0       0.01   0.00   \n",
       "76  SPY220713C00465000 2022-06-27 13:55:42+00:00   465.0       0.02   0.00   \n",
       "77  SPY220713C00470000 2022-07-11 19:41:30+00:00   470.0       0.01   0.00   \n",
       "\n",
       "      ask    change  percentChange  volume  openInterest  impliedVolatility  \\\n",
       "0   94.18 -0.389999      -0.409749     2.0            23           1.550783   \n",
       "1   89.18  0.000000       0.000000     1.0             1           1.464846   \n",
       "2   84.12  0.000000       0.000000     1.0             1           1.226566   \n",
       "3   74.19  0.000000       0.000000     1.0             1           1.232426   \n",
       "4   64.19  0.449997       0.701804     4.0            29           1.070317   \n",
       "..    ...       ...            ...     ...           ...                ...   \n",
       "73   0.01  0.000000       0.000000     1.0            49           0.687503   \n",
       "74   0.01  0.000000       0.000000     1.0            66           0.718753   \n",
       "75   0.01  0.000000       0.000000   100.0           173           0.765627   \n",
       "76   0.01  0.000000       0.000000    10.0            57           0.812502   \n",
       "77   0.01  0.000000       0.000000    15.0            86           0.843752   \n",
       "\n",
       "    inTheMoney contractSize currency  \n",
       "0         True      REGULAR      USD  \n",
       "1         True      REGULAR      USD  \n",
       "2         True      REGULAR      USD  \n",
       "3         True      REGULAR      USD  \n",
       "4         True      REGULAR      USD  \n",
       "..         ...          ...      ...  \n",
       "73       False      REGULAR      USD  \n",
       "74       False      REGULAR      USD  \n",
       "75       False      REGULAR      USD  \n",
       "76       False      REGULAR      USD  \n",
       "77       False      REGULAR      USD  \n",
       "\n",
       "[78 rows x 14 columns], puts=        contractSymbol             lastTradeDate  strike  lastPrice    bid  \\\n",
       "0   SPY220713P00290000 2022-07-11 18:00:56+00:00   290.0       0.01   0.00   \n",
       "1   SPY220713P00295000 2022-07-08 13:51:58+00:00   295.0       0.01   0.00   \n",
       "2   SPY220713P00300000 2022-07-11 15:01:34+00:00   300.0       0.01   0.00   \n",
       "3   SPY220713P00305000 2022-07-08 13:52:15+00:00   305.0       0.01   0.00   \n",
       "4   SPY220713P00310000 2022-07-08 13:58:27+00:00   310.0       0.01   0.00   \n",
       "..                 ...                       ...     ...        ...    ...   \n",
       "69  SPY220713P00434000 2022-06-24 14:32:00+00:00   434.0      47.52  49.62   \n",
       "70  SPY220713P00435000 2022-06-09 13:33:13+00:00   435.0      29.00  45.65   \n",
       "71  SPY220713P00436000 2022-06-08 19:58:53+00:00   436.0      27.81  46.65   \n",
       "72  SPY220713P00440000 2022-07-12 14:11:14+00:00   440.0      57.19  55.83   \n",
       "73  SPY220713P00445000 2022-06-08 18:39:38+00:00   445.0      36.32  55.65   \n",
       "\n",
       "      ask    change  percentChange  volume  openInterest  impliedVolatility  \\\n",
       "0    0.01  0.000000       0.000000     1.0          1231           1.187504   \n",
       "1    0.01  0.000000       0.000000     1.0           476           1.125004   \n",
       "2    0.01  0.000000       0.000000     1.0           596           1.031255   \n",
       "3    0.01  0.000000       0.000000     1.0          1831           0.968750   \n",
       "4    0.01  0.000000       0.000000     2.0          1752           0.906251   \n",
       "..    ...       ...            ...     ...           ...                ...   \n",
       "69  49.99  0.000000       0.000000     5.0             0           0.718753   \n",
       "70  46.29  0.000000       0.000000     1.0             0           0.000010   \n",
       "71  47.29  0.000000       0.000000     NaN             0           0.000010   \n",
       "72  56.20  1.189999       2.124998     4.0             0           0.816408   \n",
       "73  56.29  0.000000       0.000000     NaN             0           0.000010   \n",
       "\n",
       "    inTheMoney contractSize currency  \n",
       "0        False      REGULAR      USD  \n",
       "1        False      REGULAR      USD  \n",
       "2        False      REGULAR      USD  \n",
       "3        False      REGULAR      USD  \n",
       "4        False      REGULAR      USD  \n",
       "..         ...          ...      ...  \n",
       "69        True      REGULAR      USD  \n",
       "70        True      REGULAR      USD  \n",
       "71        True      REGULAR      USD  \n",
       "72        True      REGULAR      USD  \n",
       "73        True      REGULAR      USD  \n",
       "\n",
       "[74 rows x 14 columns])"
      ]
     },
     "execution_count": 24,
     "metadata": {},
     "output_type": "execute_result"
    }
   ],
   "source": [
    "# Get SPY option chain\n",
    "spy = yf.Ticker('SPY')\n",
    "options = spy.option_chain('2022-07-13')\n",
    "options"
   ]
  },
  {
   "cell_type": "code",
   "execution_count": 25,
   "metadata": {},
   "outputs": [],
   "source": [
    "# read data from HTML\n",
    "sp500 = pd.read_html('https://en.wikipedia.org/wiki/List_of_S%26P_500_companies')"
   ]
  },
  {
   "cell_type": "code",
   "execution_count": 26,
   "metadata": {},
   "outputs": [
    {
     "data": {
      "text/plain": [
       "[    Symbol              Security SEC filings             GICS Sector  \\\n",
       " 0      MMM                    3M     reports             Industrials   \n",
       " 1      AOS           A. O. Smith     reports             Industrials   \n",
       " 2      ABT                Abbott     reports             Health Care   \n",
       " 3     ABBV                AbbVie     reports             Health Care   \n",
       " 4     ABMD               Abiomed     reports             Health Care   \n",
       " ..     ...                   ...         ...                     ...   \n",
       " 498    YUM           Yum! Brands     reports  Consumer Discretionary   \n",
       " 499   ZBRA    Zebra Technologies     reports  Information Technology   \n",
       " 500    ZBH         Zimmer Biomet     reports             Health Care   \n",
       " 501   ZION  Zions Bancorporation     reports              Financials   \n",
       " 502    ZTS                Zoetis     reports             Health Care   \n",
       " \n",
       "                       GICS Sub-Industry    Headquarters Location  \\\n",
       " 0              Industrial Conglomerates    Saint Paul, Minnesota   \n",
       " 1                     Building Products     Milwaukee, Wisconsin   \n",
       " 2                 Health Care Equipment  North Chicago, Illinois   \n",
       " 3                       Pharmaceuticals  North Chicago, Illinois   \n",
       " 4                 Health Care Equipment   Danvers, Massachusetts   \n",
       " ..                                  ...                      ...   \n",
       " 498                         Restaurants     Louisville, Kentucky   \n",
       " 499  Electronic Equipment & Instruments   Lincolnshire, Illinois   \n",
       " 500               Health Care Equipment          Warsaw, Indiana   \n",
       " 501                      Regional Banks     Salt Lake City, Utah   \n",
       " 502                     Pharmaceuticals   Parsippany, New Jersey   \n",
       " \n",
       "     Date first added      CIK      Founded  \n",
       " 0         1976-08-09    66740         1902  \n",
       " 1         2017-07-26    91142         1916  \n",
       " 2         1964-03-31     1800         1888  \n",
       " 3         2012-12-31  1551152  2013 (1888)  \n",
       " 4         2018-05-31   815094         1981  \n",
       " ..               ...      ...          ...  \n",
       " 498       1997-10-06  1041061         1997  \n",
       " 499       2019-12-23   877212         1969  \n",
       " 500       2001-08-07  1136869         1927  \n",
       " 501       2001-06-22   109380         1873  \n",
       " 502       2013-06-21  1555280         1952  \n",
       " \n",
       " [503 rows x 9 columns],\n",
       "                  Date  Added                                Removed  \\\n",
       "                  Date Ticker                       Security  Ticker   \n",
       " 0       June 21, 2022    KDP               Keurig Dr Pepper  UA/UAA   \n",
       " 1       June 21, 2022     ON               ON Semiconductor    IPGP   \n",
       " 2        June 8, 2022   VICI                Vici Properties    CERN   \n",
       " 3       April 4, 2022    CPT          Camden Property Trust    PBCT   \n",
       " 4       March 2, 2022    MOH              Molina Healthcare    INFO   \n",
       " ..                ...    ...                            ...     ...   \n",
       " 297     July 27, 2000   JDSU                   JDS Uniphase     RAD   \n",
       " 298     June 12, 2000    CVG                      Convergys     TMC   \n",
       " 299      June 7, 2000   SBUX                      Starbucks     SMS   \n",
       " 300  December 7, 1999   YHOO                         Yahoo!     LDW   \n",
       " 301     June 17, 1997    CCI  Countrywide Credit Industries     USL   \n",
       " \n",
       "                                 \\\n",
       "                       Security   \n",
       " 0                 Under Armour   \n",
       " 1                IPG Photonics   \n",
       " 2                       Cerner   \n",
       " 3    People's United Financial   \n",
       " 4                   IHS Markit   \n",
       " ..                         ...   \n",
       " 297                    RiteAid   \n",
       " 298               Times Mirror   \n",
       " 299     Shared Medical Systems   \n",
       " 300                    Laidlaw   \n",
       " 301                     USLife   \n",
       " \n",
       "                                                 Reason  \n",
       "                                                 Reason  \n",
       " 0                     Market capitalization change.[5]  \n",
       " 1                     Market capitalization change.[5]  \n",
       " 2    S&P 500 constituent Oracle Corp. acquired Cern...  \n",
       " 3    S&P 500 constituent M&T Bank Corp. acquired Pe...  \n",
       " 4    S&P 500 constituent S&P Global Inc. acquired I...  \n",
       " ..                                                 ...  \n",
       " 297                            Market Cap change.[229]  \n",
       " 298            Tribune Co. acquired Times Mirror.[230]  \n",
       " 299   Siemens AG acquired Shared Medical Systems.[231]  \n",
       " 300                 Market capitalization change.[232]  \n",
       " 301                          AIG acquired USLife.[233]  \n",
       " \n",
       " [302 rows x 6 columns]]"
      ]
     },
     "execution_count": 26,
     "metadata": {},
     "output_type": "execute_result"
    }
   ],
   "source": [
    "sp500"
   ]
  },
  {
   "cell_type": "code",
   "execution_count": 27,
   "metadata": {},
   "outputs": [
    {
     "data": {
      "text/plain": [
       "0       MMM\n",
       "1       AOS\n",
       "2       ABT\n",
       "3      ABBV\n",
       "4      ABMD\n",
       "       ... \n",
       "498     YUM\n",
       "499    ZBRA\n",
       "500     ZBH\n",
       "501    ZION\n",
       "502     ZTS\n",
       "Name: Symbol, Length: 503, dtype: object"
      ]
     },
     "execution_count": 27,
     "metadata": {},
     "output_type": "execute_result"
    }
   ],
   "source": [
    "sp500[0]['Symbol']"
   ]
  },
  {
   "cell_type": "code",
   "execution_count": 28,
   "metadata": {},
   "outputs": [
    {
     "data": {
      "text/plain": [
       "503"
      ]
     },
     "execution_count": 28,
     "metadata": {},
     "output_type": "execute_result"
    }
   ],
   "source": [
    "# filter table for symbols\n",
    "stocklist = list(sp500[0]['Symbol'])\n",
    "len(stocklist)"
   ]
  },
  {
   "cell_type": "code",
   "execution_count": 29,
   "metadata": {},
   "outputs": [
    {
     "name": "stdout",
     "output_type": "stream",
     "text": [
      "[*********************100%***********************]  1 of 1 completed\n"
     ]
    },
    {
     "data": {
      "text/html": [
       "<div>\n",
       "<style scoped>\n",
       "    .dataframe tbody tr th:only-of-type {\n",
       "        vertical-align: middle;\n",
       "    }\n",
       "\n",
       "    .dataframe tbody tr th {\n",
       "        vertical-align: top;\n",
       "    }\n",
       "\n",
       "    .dataframe thead th {\n",
       "        text-align: right;\n",
       "    }\n",
       "</style>\n",
       "<table border=\"1\" class=\"dataframe\">\n",
       "  <thead>\n",
       "    <tr style=\"text-align: right;\">\n",
       "      <th></th>\n",
       "      <th>Open</th>\n",
       "      <th>High</th>\n",
       "      <th>Low</th>\n",
       "      <th>Close</th>\n",
       "    </tr>\n",
       "    <tr>\n",
       "      <th>Date</th>\n",
       "      <th></th>\n",
       "      <th></th>\n",
       "      <th></th>\n",
       "      <th></th>\n",
       "    </tr>\n",
       "  </thead>\n",
       "  <tbody>\n",
       "    <tr>\n",
       "      <th>2018-01-22</th>\n",
       "      <td>9900.0</td>\n",
       "      <td>10000.0</td>\n",
       "      <td>9600.0</td>\n",
       "      <td>9800.0</td>\n",
       "    </tr>\n",
       "    <tr>\n",
       "      <th>2018-01-23</th>\n",
       "      <td>9900.0</td>\n",
       "      <td>9900.0</td>\n",
       "      <td>9700.0</td>\n",
       "      <td>9900.0</td>\n",
       "    </tr>\n",
       "    <tr>\n",
       "      <th>2018-01-26</th>\n",
       "      <td>9300.0</td>\n",
       "      <td>9500.0</td>\n",
       "      <td>8400.0</td>\n",
       "      <td>9300.0</td>\n",
       "    </tr>\n",
       "    <tr>\n",
       "      <th>2018-01-30</th>\n",
       "      <td>9700.0</td>\n",
       "      <td>9700.0</td>\n",
       "      <td>9300.0</td>\n",
       "      <td>9300.0</td>\n",
       "    </tr>\n",
       "    <tr>\n",
       "      <th>2018-01-31</th>\n",
       "      <td>9400.0</td>\n",
       "      <td>9400.0</td>\n",
       "      <td>9100.0</td>\n",
       "      <td>9300.0</td>\n",
       "    </tr>\n",
       "  </tbody>\n",
       "</table>\n",
       "</div>"
      ],
      "text/plain": [
       "              Open     High     Low   Close\n",
       "Date                                       \n",
       "2018-01-22  9900.0  10000.0  9600.0  9800.0\n",
       "2018-01-23  9900.0   9900.0  9700.0  9900.0\n",
       "2018-01-26  9300.0   9500.0  8400.0  9300.0\n",
       "2018-01-30  9700.0   9700.0  9300.0  9300.0\n",
       "2018-01-31  9400.0   9400.0  9100.0  9300.0"
      ]
     },
     "execution_count": 29,
     "metadata": {},
     "output_type": "execute_result"
    }
   ],
   "source": [
    "# VIX data\n",
    "vix = yf.download('VIX')\n",
    "\n",
    "# Manipulate the index to datetime from object\n",
    "vix.index = pd.to_datetime(vix.index)\n",
    "vix = vix.iloc[:,:4]\n",
    "\n",
    "# Check the last five values\n",
    "vix.tail()"
   ]
  },
  {
   "cell_type": "code",
   "execution_count": 30,
   "metadata": {},
   "outputs": [
    {
     "data": {
      "application/vnd.plotly.v1+json": {
       "config": {
        "linkText": "Export to plot.ly",
        "plotlyServerURL": "https://plot.ly",
        "showLink": true
       },
       "data": [
        {
         "line": {
          "color": "rgba(255, 153, 51, 1.0)",
          "dash": "solid",
          "shape": "linear",
          "width": 1.3
         },
         "mode": "lines",
         "name": "Open",
         "text": "",
         "type": "scatter",
         "x": [
          "2014-12-04",
          "2014-12-05",
          "2014-12-08",
          "2014-12-09",
          "2014-12-10",
          "2014-12-11",
          "2014-12-12",
          "2014-12-15",
          "2014-12-16",
          "2014-12-17",
          "2014-12-18",
          "2014-12-19",
          "2014-12-22",
          "2014-12-23",
          "2014-12-24",
          "2014-12-26",
          "2014-12-29",
          "2014-12-30",
          "2014-12-31",
          "2015-01-02",
          "2015-01-05",
          "2015-01-06",
          "2015-01-07",
          "2015-01-08",
          "2015-01-09",
          "2015-01-12",
          "2015-01-13",
          "2015-01-14",
          "2015-01-15",
          "2015-01-16",
          "2015-01-20",
          "2015-01-21",
          "2015-01-22",
          "2015-01-23",
          "2015-01-26",
          "2015-01-27",
          "2015-01-28",
          "2015-01-29",
          "2015-01-30",
          "2015-02-02",
          "2015-02-03",
          "2015-02-04",
          "2015-02-05",
          "2015-02-06",
          "2015-02-09",
          "2015-02-10",
          "2015-02-11",
          "2015-02-12",
          "2015-02-13",
          "2015-02-18",
          "2015-02-19",
          "2015-02-20",
          "2015-02-23",
          "2015-02-24",
          "2015-02-25",
          "2015-02-26",
          "2015-02-27",
          "2015-03-02",
          "2015-03-03",
          "2015-03-04",
          "2015-03-05",
          "2015-03-06",
          "2015-03-09",
          "2015-03-10",
          "2015-03-11",
          "2015-03-12",
          "2015-03-13",
          "2015-03-16",
          "2015-03-17",
          "2015-03-18",
          "2015-03-19",
          "2015-03-20",
          "2015-03-23",
          "2015-03-24",
          "2015-03-25",
          "2015-03-26",
          "2015-03-27",
          "2015-03-30",
          "2015-03-31",
          "2015-04-01",
          "2015-04-02",
          "2015-04-06",
          "2015-04-07",
          "2015-04-08",
          "2015-04-09",
          "2015-04-10",
          "2015-04-13",
          "2015-04-14",
          "2015-04-15",
          "2015-04-16",
          "2015-04-17",
          "2015-04-20",
          "2015-04-21",
          "2015-04-22",
          "2015-04-23",
          "2015-04-24",
          "2015-04-27",
          "2015-04-28",
          "2015-04-29",
          "2015-04-30",
          "2015-05-01",
          "2015-05-04",
          "2015-05-05",
          "2015-05-06",
          "2015-05-07",
          "2015-05-08",
          "2015-05-11",
          "2015-05-12",
          "2015-05-13",
          "2015-05-14",
          "2015-05-15",
          "2015-05-18",
          "2015-05-19",
          "2015-05-20",
          "2015-05-21",
          "2015-05-22",
          "2015-05-26",
          "2015-05-27",
          "2015-05-28",
          "2015-05-29",
          "2015-06-01",
          "2015-06-02",
          "2015-06-03",
          "2015-06-04",
          "2015-06-05",
          "2015-06-08",
          "2015-06-09",
          "2015-06-10",
          "2015-06-11",
          "2015-06-12",
          "2015-06-15",
          "2015-06-16",
          "2015-06-17",
          "2015-06-18",
          "2015-06-19",
          "2015-06-22",
          "2015-06-23",
          "2015-06-24",
          "2015-06-25",
          "2015-06-26",
          "2015-06-29",
          "2015-06-30",
          "2015-07-01",
          "2015-07-02",
          "2015-07-06",
          "2015-07-07",
          "2015-07-08",
          "2015-07-09",
          "2015-07-10",
          "2015-07-13",
          "2015-07-14",
          "2015-07-15",
          "2015-07-16",
          "2015-07-17",
          "2015-07-20",
          "2015-07-21",
          "2015-07-22",
          "2015-07-23",
          "2015-07-24",
          "2015-07-27",
          "2015-07-28",
          "2015-07-29",
          "2015-07-30",
          "2015-07-31",
          "2015-08-03",
          "2015-08-04",
          "2015-08-05",
          "2015-08-06",
          "2015-08-07",
          "2015-08-10",
          "2015-08-11",
          "2015-08-12",
          "2015-08-13",
          "2015-08-14",
          "2015-08-17",
          "2015-08-18",
          "2015-08-19",
          "2015-08-20",
          "2015-08-21",
          "2015-08-24",
          "2015-08-25",
          "2015-08-26",
          "2015-08-27",
          "2015-08-28",
          "2015-08-31",
          "2015-09-01",
          "2015-09-02",
          "2015-09-03",
          "2015-09-04",
          "2015-09-08",
          "2015-09-09",
          "2015-09-10",
          "2015-09-11",
          "2015-09-14",
          "2015-09-15",
          "2015-09-16",
          "2015-09-17",
          "2015-09-18",
          "2015-09-21",
          "2015-09-22",
          "2015-09-23",
          "2015-09-24",
          "2015-09-25",
          "2015-09-28",
          "2015-09-29",
          "2015-09-30",
          "2015-10-01",
          "2015-10-02",
          "2015-10-05",
          "2015-10-06",
          "2015-10-07",
          "2015-10-08",
          "2015-10-09",
          "2015-10-12",
          "2015-10-13",
          "2015-10-14",
          "2015-10-15",
          "2015-10-16",
          "2015-10-19",
          "2015-10-20",
          "2015-10-21",
          "2015-10-22",
          "2015-10-23",
          "2015-10-26",
          "2015-10-27",
          "2015-10-28",
          "2015-10-29",
          "2015-10-30",
          "2015-11-02",
          "2015-11-03",
          "2015-11-04",
          "2015-11-05",
          "2015-11-06",
          "2015-11-09",
          "2015-11-10",
          "2015-11-11",
          "2015-11-12",
          "2015-11-13",
          "2015-11-16",
          "2015-11-17",
          "2015-11-18",
          "2015-11-19",
          "2015-11-20",
          "2015-11-23",
          "2015-11-24",
          "2015-11-25",
          "2015-11-27",
          "2015-11-30",
          "2015-12-01",
          "2015-12-02",
          "2015-12-03",
          "2015-12-04",
          "2015-12-07",
          "2015-12-08",
          "2015-12-09",
          "2015-12-10",
          "2015-12-11",
          "2015-12-14",
          "2015-12-15",
          "2015-12-16",
          "2015-12-17",
          "2015-12-18",
          "2015-12-21",
          "2015-12-22",
          "2015-12-23",
          "2015-12-24",
          "2015-12-28",
          "2015-12-29",
          "2015-12-30",
          "2015-12-31",
          "2016-01-04",
          "2016-01-05",
          "2016-01-06",
          "2016-01-07",
          "2016-01-08",
          "2016-01-11",
          "2016-01-12",
          "2016-01-13",
          "2016-01-14",
          "2016-01-15",
          "2016-01-19",
          "2016-01-20",
          "2016-01-21",
          "2016-01-22",
          "2016-01-25",
          "2016-01-26",
          "2016-01-27",
          "2016-01-28",
          "2016-01-29",
          "2016-02-01",
          "2016-02-02",
          "2016-02-03",
          "2016-02-04",
          "2016-02-05",
          "2016-02-08",
          "2016-02-09",
          "2016-02-10",
          "2016-02-11",
          "2016-02-12",
          "2016-02-16",
          "2016-02-17",
          "2016-02-18",
          "2016-02-19",
          "2016-02-22",
          "2016-02-23",
          "2016-02-24",
          "2016-02-25",
          "2016-02-26",
          "2016-02-29",
          "2016-03-01",
          "2016-03-02",
          "2016-03-03",
          "2016-03-04",
          "2016-03-07",
          "2016-03-08",
          "2016-03-09",
          "2016-03-10",
          "2016-03-11",
          "2016-03-14",
          "2016-03-15",
          "2016-03-16",
          "2016-03-17",
          "2016-03-18",
          "2016-03-21",
          "2016-03-22",
          "2016-03-23",
          "2016-03-24",
          "2016-03-28",
          "2016-03-29",
          "2016-03-30",
          "2016-03-31",
          "2016-04-01",
          "2016-04-04",
          "2016-04-05",
          "2016-04-06",
          "2016-04-07",
          "2016-04-08",
          "2016-04-11",
          "2016-04-12",
          "2016-04-13",
          "2016-04-14",
          "2016-04-15",
          "2016-04-18",
          "2016-04-19",
          "2016-04-20",
          "2016-04-21",
          "2016-04-22",
          "2016-04-26",
          "2016-04-27",
          "2016-04-28",
          "2016-04-29",
          "2016-05-02",
          "2016-05-03",
          "2016-05-04",
          "2016-05-05",
          "2016-05-06",
          "2016-05-09",
          "2016-05-10",
          "2016-05-11",
          "2016-05-12",
          "2016-05-13",
          "2016-05-16",
          "2016-05-17",
          "2016-05-18",
          "2016-05-19",
          "2016-05-20",
          "2016-05-23",
          "2016-05-24",
          "2016-05-25",
          "2016-05-26",
          "2016-05-27",
          "2016-05-31",
          "2016-06-01",
          "2016-06-02",
          "2016-06-03",
          "2016-06-06",
          "2016-06-07",
          "2016-06-08",
          "2016-06-09",
          "2016-06-10",
          "2016-06-13",
          "2016-06-14",
          "2016-06-15",
          "2016-06-16",
          "2016-06-17",
          "2016-06-20",
          "2016-06-21",
          "2016-06-22",
          "2016-06-23",
          "2016-06-24",
          "2016-06-27",
          "2016-06-28",
          "2016-06-29",
          "2016-06-30",
          "2016-07-01",
          "2016-07-05",
          "2016-07-06",
          "2016-07-07",
          "2016-07-08",
          "2016-07-11",
          "2016-07-12",
          "2016-07-13",
          "2016-07-14",
          "2016-07-15",
          "2016-07-18",
          "2016-07-19",
          "2016-07-20",
          "2016-07-21",
          "2016-07-22",
          "2016-07-25",
          "2016-07-26",
          "2016-07-27",
          "2016-07-28",
          "2016-07-29",
          "2016-08-01",
          "2016-08-02",
          "2016-08-03",
          "2016-08-04",
          "2016-08-05",
          "2016-08-08",
          "2016-08-09",
          "2016-08-10",
          "2016-08-11",
          "2016-08-12",
          "2016-08-15",
          "2016-08-16",
          "2016-08-17",
          "2016-08-18",
          "2016-08-19",
          "2016-08-22",
          "2016-08-23",
          "2016-08-24",
          "2016-08-25",
          "2016-08-26",
          "2016-08-29",
          "2016-08-30",
          "2016-08-31",
          "2016-09-01",
          "2016-09-02",
          "2016-09-06",
          "2016-09-07",
          "2016-09-08",
          "2016-09-09",
          "2016-09-12",
          "2016-09-13",
          "2016-09-14",
          "2016-09-15",
          "2016-09-16",
          "2016-09-19",
          "2016-09-20",
          "2016-09-21",
          "2016-09-22",
          "2016-09-23",
          "2016-09-26",
          "2016-09-27",
          "2016-09-28",
          "2016-09-29",
          "2016-09-30",
          "2016-10-03",
          "2016-10-04",
          "2016-10-05",
          "2016-10-06",
          "2016-10-07",
          "2016-10-10",
          "2016-10-11",
          "2016-10-12",
          "2016-10-13",
          "2016-10-14",
          "2016-10-17",
          "2016-10-18",
          "2016-10-19",
          "2016-10-20",
          "2016-10-21",
          "2016-10-24",
          "2016-10-25",
          "2016-10-26",
          "2016-10-27",
          "2016-10-28",
          "2016-10-31",
          "2016-11-01",
          "2016-11-02",
          "2016-11-03",
          "2016-11-04",
          "2016-11-07",
          "2016-11-08",
          "2016-11-09",
          "2016-11-10",
          "2016-11-11",
          "2016-11-14",
          "2016-11-15",
          "2016-11-16",
          "2016-11-17",
          "2016-11-18",
          "2016-11-21",
          "2016-11-22",
          "2016-11-23",
          "2016-11-25",
          "2016-11-28",
          "2016-11-29",
          "2016-11-30",
          "2016-12-01",
          "2016-12-02",
          "2016-12-05",
          "2016-12-06",
          "2016-12-07",
          "2016-12-08",
          "2016-12-09",
          "2016-12-12",
          "2016-12-13",
          "2016-12-14",
          "2016-12-15",
          "2016-12-16",
          "2016-12-19",
          "2016-12-20",
          "2016-12-21",
          "2016-12-22",
          "2016-12-23",
          "2016-12-27",
          "2016-12-28",
          "2016-12-29",
          "2016-12-30",
          "2017-01-03",
          "2017-01-04",
          "2017-01-05",
          "2017-01-06",
          "2017-01-09",
          "2017-01-10",
          "2017-01-11",
          "2017-01-12",
          "2017-01-13",
          "2017-01-17",
          "2017-01-18",
          "2017-01-19",
          "2017-01-20",
          "2017-01-23",
          "2017-01-24",
          "2017-01-25",
          "2017-01-26",
          "2017-01-27",
          "2017-01-30",
          "2017-01-31",
          "2017-02-01",
          "2017-02-02",
          "2017-02-03",
          "2017-02-06",
          "2017-02-07",
          "2017-02-08",
          "2017-02-09",
          "2017-02-10",
          "2017-02-13",
          "2017-02-14",
          "2017-02-16",
          "2017-02-17",
          "2017-02-21",
          "2017-02-22",
          "2017-02-23",
          "2017-02-24",
          "2017-02-27",
          "2017-02-28",
          "2017-03-01",
          "2017-03-02",
          "2017-03-03",
          "2017-03-06",
          "2017-03-07",
          "2017-03-08",
          "2017-03-09",
          "2017-03-10",
          "2017-03-13",
          "2017-03-14",
          "2017-03-15",
          "2017-03-16",
          "2017-03-17",
          "2017-03-20",
          "2017-03-21",
          "2017-03-22",
          "2017-03-23",
          "2017-03-24",
          "2017-03-27",
          "2017-03-28",
          "2017-03-29",
          "2017-03-30",
          "2017-03-31",
          "2017-04-03",
          "2017-04-04",
          "2017-04-05",
          "2017-04-06",
          "2017-04-07",
          "2017-04-10",
          "2017-04-11",
          "2017-04-12",
          "2017-04-13",
          "2017-04-17",
          "2017-04-18",
          "2017-04-19",
          "2017-04-20",
          "2017-04-21",
          "2017-04-24",
          "2017-04-25",
          "2017-04-26",
          "2017-04-27",
          "2017-04-28",
          "2017-05-01",
          "2017-05-02",
          "2017-05-03",
          "2017-05-04",
          "2017-05-05",
          "2017-05-08",
          "2017-05-09",
          "2017-05-10",
          "2017-05-11",
          "2017-05-12",
          "2017-05-15",
          "2017-05-16",
          "2017-05-17",
          "2017-05-18",
          "2017-05-19",
          "2017-05-22",
          "2017-05-23",
          "2017-05-24",
          "2017-05-25",
          "2017-05-26",
          "2017-05-30",
          "2017-05-31",
          "2017-06-01",
          "2017-06-02",
          "2017-06-05",
          "2017-06-06",
          "2017-06-07",
          "2017-06-08",
          "2017-06-09",
          "2017-06-12",
          "2017-06-13",
          "2017-06-14",
          "2017-06-15",
          "2017-06-16",
          "2017-06-19",
          "2017-06-20",
          "2017-06-21",
          "2017-06-22",
          "2017-06-26",
          "2017-06-27",
          "2017-06-28",
          "2017-06-29",
          "2017-06-30",
          "2017-07-03",
          "2017-07-05",
          "2017-07-06",
          "2017-07-07",
          "2017-07-10",
          "2017-07-11",
          "2017-07-12",
          "2017-07-13",
          "2017-07-14",
          "2017-07-17",
          "2017-07-18",
          "2017-07-19",
          "2017-07-20",
          "2017-07-21",
          "2017-07-24",
          "2017-07-25",
          "2017-07-26",
          "2017-07-27",
          "2017-07-28",
          "2017-07-31",
          "2017-08-01",
          "2017-08-02",
          "2017-08-03",
          "2017-08-04",
          "2017-08-07",
          "2017-08-08",
          "2017-08-09",
          "2017-08-10",
          "2017-08-11",
          "2017-08-14",
          "2017-08-15",
          "2017-08-16",
          "2017-08-17",
          "2017-08-18",
          "2017-08-21",
          "2017-08-22",
          "2017-08-23",
          "2017-08-24",
          "2017-08-25",
          "2017-08-28",
          "2017-08-29",
          "2017-08-30",
          "2017-08-31",
          "2017-09-01",
          "2017-09-05",
          "2017-09-06",
          "2017-09-07",
          "2017-09-08",
          "2017-09-11",
          "2017-09-12",
          "2017-09-13",
          "2017-09-14",
          "2017-09-15",
          "2017-09-18",
          "2017-09-19",
          "2017-09-20",
          "2017-09-21",
          "2017-09-22",
          "2017-09-25",
          "2017-09-26",
          "2017-09-27",
          "2017-09-28",
          "2017-09-29",
          "2017-10-02",
          "2017-10-03",
          "2017-10-04",
          "2017-10-05",
          "2017-10-06",
          "2017-10-09",
          "2017-10-10",
          "2017-10-11",
          "2017-10-12",
          "2017-10-13",
          "2017-10-16",
          "2017-10-17",
          "2017-10-18",
          "2017-10-19",
          "2017-10-20",
          "2017-10-23",
          "2017-10-24",
          "2017-10-25",
          "2017-10-26",
          "2017-10-27",
          "2017-10-30",
          "2017-10-31",
          "2017-11-01",
          "2017-11-02",
          "2017-11-03",
          "2017-11-06",
          "2017-11-07",
          "2017-11-08",
          "2017-11-09",
          "2017-11-10",
          "2017-11-13",
          "2017-11-14",
          "2017-11-15",
          "2017-11-16",
          "2017-11-17",
          "2017-11-20",
          "2017-11-21",
          "2017-11-22",
          "2017-11-24",
          "2017-11-27",
          "2017-11-28",
          "2017-11-29",
          "2017-11-30",
          "2017-12-01",
          "2017-12-04",
          "2017-12-05",
          "2017-12-06",
          "2017-12-07",
          "2017-12-08",
          "2017-12-11",
          "2017-12-12",
          "2017-12-13",
          "2017-12-14",
          "2017-12-15",
          "2017-12-18",
          "2017-12-19",
          "2017-12-20",
          "2017-12-21",
          "2017-12-22",
          "2017-12-26",
          "2017-12-27",
          "2017-12-28",
          "2017-12-29",
          "2018-01-02",
          "2018-01-03",
          "2018-01-04",
          "2018-01-05",
          "2018-01-08",
          "2018-01-10",
          "2018-01-11",
          "2018-01-12",
          "2018-01-16",
          "2018-01-17",
          "2018-01-18",
          "2018-01-19",
          "2018-01-22",
          "2018-01-23",
          "2018-01-26",
          "2018-01-30",
          "2018-01-31"
         ],
         "y": [
          28200.400390625,
          26551.19921875,
          25231.900390625,
          23582.80078125,
          19789.69921875,
          18635.30078125,
          17645.80078125,
          19377.400390625,
          18552.900390625,
          16573.900390625,
          16491.400390625,
          17316,
          16491.400390625,
          16491.400390625,
          19954.599609375,
          17893.19921875,
          16491.400390625,
          15666.900390625,
          15914.2001953125,
          16903.69921875,
          16491.400390625,
          16491.400390625,
          20284.5,
          19377.400390625,
          20614.30078125,
          21026.599609375,
          18140.599609375,
          18965.19921875,
          20119.599609375,
          22428.400390625,
          21109,
          21109,
          21191.5,
          21851.19921875,
          22181,
          22016.099609375,
          21026.599609375,
          21026.599609375,
          21933.599609375,
          22263.5,
          22263.5,
          22428.400390625,
          21109,
          20202,
          20614.30078125,
          20202,
          17810.80078125,
          19130.099609375,
          18965.19921875,
          18717.80078125,
          18717.80078125,
          18717.80078125,
          18717.80078125,
          18717.80078125,
          18223,
          17068.599609375,
          16573.900390625,
          16244.099609375,
          16244.099609375,
          13440.5,
          14759.7998046875,
          13770.400390625,
          12945.7998046875,
          12451,
          12863.2998046875,
          12533.5,
          12780.900390625,
          12945.7998046875,
          12451,
          12863.2998046875,
          12698.400390625,
          12451,
          12616,
          12616,
          12616,
          12616,
          12616,
          12616,
          12616,
          12616,
          12616,
          12616,
          12616,
          12616,
          12616,
          12616,
          12616,
          12616,
          12616,
          12616,
          12616,
          12616,
          12616,
          12616,
          12616,
          12616,
          12616,
          12616,
          12616,
          12616,
          12616,
          12616,
          12616,
          12616,
          12616,
          12616,
          12616,
          12616,
          12616,
          12616,
          12616,
          12616,
          12616,
          12616,
          7668.52001953125,
          8245.7197265625,
          10389.599609375,
          9070.2900390625,
          9894.8701171875,
          10142.2001953125,
          9482.580078125,
          9565.0400390625,
          9729.9501953125,
          9894.8701171875,
          11379.099609375,
          11791.400390625,
          11379.099609375,
          10389.599609375,
          10637,
          10719.400390625,
          10801.900390625,
          10637,
          9812.41015625,
          8658.009765625,
          9565.0400390625,
          9317.669921875,
          9317.669921875,
          9152.75,
          9070.2900390625,
          8987.83984375,
          10059.7998046875,
          9812.41015625,
          9070.2900390625,
          9482.580078125,
          9400.1201171875,
          9647.5,
          9400.1201171875,
          9070.2900390625,
          9235.2099609375,
          8740.4697265625,
          8163.27001953125,
          7998.35009765625,
          7586.06005859375,
          7421.14990234375,
          8080.81005859375,
          7750.97998046875,
          7586.06005859375,
          7998.35009765625,
          7421.14990234375,
          7173.77978515625,
          7338.68994140625,
          7421.14990234375,
          7915.89013671875,
          8575.5498046875,
          7421.14990234375,
          7008.85986328125,
          7091.31982421875,
          8080.81005859375,
          7503.60986328125,
          7503.60986328125,
          7915.89013671875,
          7256.240234375,
          8575.5498046875,
          7668.52001953125,
          7668.52001953125,
          8245.7197265625,
          8080.81005859375,
          7833.43994140625,
          7915.89013671875,
          6761.490234375,
          5607.08984375,
          5194.81005859375,
          6926.41015625,
          7586.06005859375,
          7421.14990234375,
          7338.68994140625,
          6596.580078125,
          7173.77978515625,
          7256.240234375,
          6431.66015625,
          7338.68994140625,
          7256.240234375,
          7008.85986328125,
          7750.97998046875,
          6761.490234375,
          7421.14990234375,
          7338.68994140625,
          7173.77978515625,
          7586.06005859375,
          7709.75,
          8072.56005859375,
          6893.419921875,
          7709.75,
          7619.0498046875,
          7256.240234375,
          7528.33984375,
          7437.64013671875,
          7437.64013671875,
          7346.93994140625,
          7437.64013671875,
          7709.75,
          7528.33984375,
          7619.0498046875,
          7528.33984375,
          7528.33984375,
          7528.33984375,
          7346.93994140625,
          7437.64013671875,
          7346.93994140625,
          7346.93994140625,
          7256.240234375,
          6893.419921875,
          7256.240234375,
          7165.52978515625,
          6893.419921875,
          6893.419921875,
          6802.72021484375,
          7074.830078125,
          7437.64013671875,
          6802.72021484375,
          7165.52978515625,
          6712.02001953125,
          6893.419921875,
          6621.31982421875,
          6621.31982421875,
          6530.60986328125,
          6349.2099609375,
          6258.5,
          6349.2099609375,
          6893.419921875,
          6712.02001953125,
          6712.02001953125,
          6893.419921875,
          6984.1298828125,
          7256.240234375,
          6984.1298828125,
          7437.64013671875,
          6984.1298828125,
          6712.02001953125,
          6802.72021484375,
          6802.72021484375,
          6893.419921875,
          6802.72021484375,
          6712.02001953125,
          6802.72021484375,
          6712.02001953125,
          6530.60986328125,
          6621.31982421875,
          6621.31982421875,
          6712.02001953125,
          6712.02001953125,
          6530.60986328125,
          6530.60986328125,
          6439.91015625,
          7074.830078125,
          6439.91015625,
          6258.5,
          6077.10009765625,
          6621.31982421875,
          6802.72021484375,
          6258.5,
          6077.10009765625,
          6077.10009765625,
          6530.60986328125,
          6167.7998046875,
          5351.47021484375,
          5351.47021484375,
          5714.2900390625,
          5714.2900390625,
          5442.18017578125,
          4988.66015625,
          5170.06982421875,
          5170.06982421875,
          5351.47021484375,
          5532.8798828125,
          5804.990234375,
          5623.580078125,
          5804.990234375,
          5714.2900390625,
          5714.2900390625,
          5623.580078125,
          5442.18017578125,
          5532.8798828125,
          5532.8798828125,
          5714.2900390625,
          5714.2900390625,
          5714.2900390625,
          5714.2900390625,
          5714.2900390625,
          5623.580078125,
          5714.2900390625,
          5714.2900390625,
          5804.990234375,
          5804.990234375,
          5804.990234375,
          5986.39013671875,
          6167.7998046875,
          5895.68994140625,
          5986.39013671875,
          5986.39013671875,
          6077.10009765625,
          6258.5,
          6077.10009765625,
          6077.10009765625,
          6077.10009765625,
          6258.5,
          6167.7998046875,
          6258.5,
          6439.91015625,
          6621.31982421875,
          6258.5,
          6439.91015625,
          6349.2099609375,
          6530.60986328125,
          6893.419921875,
          7256.240234375,
          7346.93994140625,
          6984.1298828125,
          6984.1298828125,
          6621.31982421875,
          6984.1298828125,
          6712.02001953125,
          7165.52978515625,
          6984.1298828125,
          7074.830078125,
          7074.830078125,
          6984.1298828125,
          7709.75,
          7981.85986328125,
          8163.27001953125,
          8072.56005859375,
          8253.9697265625,
          8253.9697265625,
          8253.9697265625,
          7619.0498046875,
          7800.4501953125,
          7709.75,
          8072.56005859375,
          7981.85986328125,
          7981.85986328125,
          7981.85986328125,
          7981.85986328125,
          7981.85986328125,
          7981.85986328125,
          6984.1298828125,
          7074.830078125,
          7074.830078125,
          6712.02001953125,
          6712.02001953125,
          6984.1298828125,
          6893.419921875,
          6802.72021484375,
          6802.72021484375,
          6802.72021484375,
          6893.419921875,
          6802.72021484375,
          6802.72021484375,
          6712.02001953125,
          6802.72021484375,
          6802.72021484375,
          6984.1298828125,
          7346.93994140625,
          6984.1298828125,
          7074.830078125,
          7074.830078125,
          6984.1298828125,
          6984.1298828125,
          6984.1298828125,
          6952.3798828125,
          6761.89990234375,
          6666.669921875,
          6952.3798828125,
          7238.10009765625,
          7047.6201171875,
          7142.85986328125,
          7047.6201171875,
          6857.14013671875,
          6952.3798828125,
          6666.669921875,
          6666.669921875,
          6190.47998046875,
          6285.7099609375,
          6380.9501953125,
          6666.669921875,
          6571.43017578125,
          7142.85986328125,
          7238.10009765625,
          7428.56982421875,
          7428.56982421875,
          7428.56982421875,
          7047.6201171875,
          7238.10009765625,
          7333.330078125,
          6952.3798828125,
          7142.85986328125,
          7142.85986328125,
          7333.330078125,
          7142.85986328125,
          6952.3798828125,
          7142.85986328125,
          7142.85986328125,
          7142.85986328125,
          7047.6201171875,
          6952.3798828125,
          6857.14013671875,
          6571.43017578125,
          6380.9501953125,
          6571.43017578125,
          6380.9501953125,
          6285.7099609375,
          6190.47998046875,
          6380.9501953125,
          6380.9501953125,
          6476.18994140625,
          6190.47998046875,
          6380.9501953125,
          6380.9501953125,
          6285.7099609375,
          6285.7099609375,
          6095.240234375,
          5809.52001953125,
          5809.52001953125,
          5809.52001953125,
          5809.52001953125,
          6190.47998046875,
          5904.759765625,
          5904.759765625,
          5904.759765625,
          5904.759765625,
          5619.0498046875,
          5428.56982421875,
          5333.330078125,
          5523.81005859375,
          5714.2900390625,
          5523.81005859375,
          4952.3798828125,
          5142.85986328125,
          4857.14013671875,
          5238.10009765625,
          5333.330078125,
          5333.330078125,
          5238.10009765625,
          5333.330078125,
          5428.56982421875,
          5238.10009765625,
          5238.10009765625,
          5333.330078125,
          5428.56982421875,
          5428.56982421875,
          5333.330078125,
          5523.81005859375,
          5714.2900390625,
          5714.2900390625,
          5619.0498046875,
          5619.0498046875,
          5619.0498046875,
          5809.52001953125,
          5904.759765625,
          5809.52001953125,
          5904.759765625,
          5809.52001953125,
          5904.759765625,
          5904.759765625,
          5904.759765625,
          5809.52001953125,
          5809.52001953125,
          5809.52001953125,
          5619.0498046875,
          5714.2900390625,
          5714.2900390625,
          5714.2900390625,
          5619.0498046875,
          5714.2900390625,
          5714.2900390625,
          5809.52001953125,
          5714.2900390625,
          5619.0498046875,
          5714.2900390625,
          5714.2900390625,
          5714.2900390625,
          5714.2900390625,
          5714.2900390625,
          5714.2900390625,
          5714.2900390625,
          5714.2900390625,
          5619.0498046875,
          5619.0498046875,
          5523.81005859375,
          5333.330078125,
          5428.56982421875,
          5238.10009765625,
          5238.10009765625,
          5428.56982421875,
          5238.10009765625,
          5142.85986328125,
          5142.85986328125,
          5142.85986328125,
          4952.3798828125,
          4857.14013671875,
          5047.6201171875,
          5047.6201171875,
          5238.10009765625,
          5238.10009765625,
          5619.0498046875,
          5428.56982421875,
          5333.330078125,
          5238.10009765625,
          5142.85986328125,
          5047.6201171875,
          5238.10009765625,
          5047.6201171875,
          4952.3798828125,
          5142.85986328125,
          5142.85986328125,
          5142.85986328125,
          4952.3798828125,
          5047.6201171875,
          5047.6201171875,
          5238.10009765625,
          5238.10009765625,
          5047.6201171875,
          5142.85986328125,
          5619.0498046875,
          5523.81005859375,
          5428.56982421875,
          5523.81005859375,
          5714.2900390625,
          6095.240234375,
          6095.240234375,
          6095.240234375,
          6095.240234375,
          6095.240234375,
          6095.240234375,
          5904.759765625,
          5619.0498046875,
          5904.759765625,
          5714.2900390625,
          5619.0498046875,
          5619.0498046875,
          5619.0498046875,
          5809.52001953125,
          5619.0498046875,
          5523.81005859375,
          5809.52001953125,
          5809.52001953125,
          6000,
          5904.759765625,
          5714.2900390625,
          5904.759765625,
          5714.2900390625,
          5714.2900390625,
          5619.0498046875,
          5619.0498046875,
          5619.0498046875,
          5619.0498046875,
          5619.0498046875,
          5619.0498046875,
          5619.0498046875,
          5714.2900390625,
          5714.2900390625,
          5619.0498046875,
          5904.759765625,
          6000,
          6380.9501953125,
          6190.47998046875,
          6190.47998046875,
          6095.240234375,
          6190.47998046875,
          6190.47998046875,
          6285.7099609375,
          6285.7099609375,
          6190.47998046875,
          6000,
          5809.52001953125,
          5809.52001953125,
          5809.52001953125,
          5809.52001953125,
          5714.2900390625,
          5904.759765625,
          5714.2900390625,
          5619.0498046875,
          5428.56982421875,
          5428.56982421875,
          5619.0498046875,
          5523.81005859375,
          5523.81005859375,
          5714.2900390625,
          5904.759765625,
          5904.759765625,
          5904.759765625,
          6000,
          6000,
          6000,
          5904.759765625,
          6571.43017578125,
          6476.18994140625,
          6476.18994140625,
          6476.18994140625,
          6857.14013671875,
          6476.18994140625,
          6761.89990234375,
          6000,
          6761.89990234375,
          6857.14013671875,
          6952.3798828125,
          6666.669921875,
          6857.14013671875,
          6476.18994140625,
          6190.47998046875,
          6285.7099609375,
          6571.43017578125,
          6190.47998046875,
          6095.240234375,
          6095.240234375,
          6095.240234375,
          6476.18994140625,
          6380.9501953125,
          6666.669921875,
          6700,
          6800,
          6800,
          6700,
          7100,
          7000,
          6800,
          6800,
          6900,
          7400,
          7100,
          7100,
          7000,
          6900,
          6900,
          7200,
          7100,
          7600,
          8000,
          8100,
          7700,
          7200,
          7300,
          7200,
          7200,
          7000,
          6800,
          7000,
          6800,
          6900,
          6700,
          6900,
          6900,
          7000,
          7000,
          7200,
          7000,
          7100,
          7200,
          7800,
          8100,
          8000,
          7800,
          7500,
          7800,
          7800,
          7900,
          7600,
          7800,
          7500,
          7500,
          7700,
          7500,
          7300,
          7300,
          7500,
          7600,
          7500,
          7500,
          7700,
          7600,
          7400,
          7400,
          7600,
          7500,
          7300,
          7300,
          7500,
          7300,
          7400,
          7300,
          7300,
          7300,
          7400,
          7400,
          7400,
          7300,
          7300,
          7300,
          7200,
          7100,
          6900,
          7000,
          7000,
          7100,
          7100,
          7100,
          7000,
          7100,
          7100,
          7100,
          7300,
          7200,
          7300,
          7200,
          7300,
          7500,
          7500,
          7400,
          7300,
          7300,
          7200,
          7200,
          7100,
          7100,
          7100,
          7300,
          7200,
          7300,
          7200,
          7400,
          7600,
          7600,
          7700,
          7700,
          7700,
          8000,
          9200,
          9600,
          10400,
          10500,
          11000,
          12000,
          12500,
          10500,
          10000,
          11400,
          11700,
          12300,
          12900,
          12700,
          10600,
          11100,
          11000,
          10500,
          10000,
          10400,
          10500,
          10100,
          10300,
          9900,
          10700,
          10500,
          11000,
          10800,
          10600,
          10700,
          10400,
          10200,
          10000,
          9900,
          9900,
          9600,
          9700,
          9900,
          9900,
          9300,
          9700,
          9400
         ]
        },
        {
         "line": {
          "color": "rgba(55, 128, 191, 1.0)",
          "dash": "solid",
          "shape": "linear",
          "width": 1.3
         },
         "mode": "lines",
         "name": "High",
         "text": "",
         "type": "scatter",
         "x": [
          "2014-12-04",
          "2014-12-05",
          "2014-12-08",
          "2014-12-09",
          "2014-12-10",
          "2014-12-11",
          "2014-12-12",
          "2014-12-15",
          "2014-12-16",
          "2014-12-17",
          "2014-12-18",
          "2014-12-19",
          "2014-12-22",
          "2014-12-23",
          "2014-12-24",
          "2014-12-26",
          "2014-12-29",
          "2014-12-30",
          "2014-12-31",
          "2015-01-02",
          "2015-01-05",
          "2015-01-06",
          "2015-01-07",
          "2015-01-08",
          "2015-01-09",
          "2015-01-12",
          "2015-01-13",
          "2015-01-14",
          "2015-01-15",
          "2015-01-16",
          "2015-01-20",
          "2015-01-21",
          "2015-01-22",
          "2015-01-23",
          "2015-01-26",
          "2015-01-27",
          "2015-01-28",
          "2015-01-29",
          "2015-01-30",
          "2015-02-02",
          "2015-02-03",
          "2015-02-04",
          "2015-02-05",
          "2015-02-06",
          "2015-02-09",
          "2015-02-10",
          "2015-02-11",
          "2015-02-12",
          "2015-02-13",
          "2015-02-18",
          "2015-02-19",
          "2015-02-20",
          "2015-02-23",
          "2015-02-24",
          "2015-02-25",
          "2015-02-26",
          "2015-02-27",
          "2015-03-02",
          "2015-03-03",
          "2015-03-04",
          "2015-03-05",
          "2015-03-06",
          "2015-03-09",
          "2015-03-10",
          "2015-03-11",
          "2015-03-12",
          "2015-03-13",
          "2015-03-16",
          "2015-03-17",
          "2015-03-18",
          "2015-03-19",
          "2015-03-20",
          "2015-03-23",
          "2015-03-24",
          "2015-03-25",
          "2015-03-26",
          "2015-03-27",
          "2015-03-30",
          "2015-03-31",
          "2015-04-01",
          "2015-04-02",
          "2015-04-06",
          "2015-04-07",
          "2015-04-08",
          "2015-04-09",
          "2015-04-10",
          "2015-04-13",
          "2015-04-14",
          "2015-04-15",
          "2015-04-16",
          "2015-04-17",
          "2015-04-20",
          "2015-04-21",
          "2015-04-22",
          "2015-04-23",
          "2015-04-24",
          "2015-04-27",
          "2015-04-28",
          "2015-04-29",
          "2015-04-30",
          "2015-05-01",
          "2015-05-04",
          "2015-05-05",
          "2015-05-06",
          "2015-05-07",
          "2015-05-08",
          "2015-05-11",
          "2015-05-12",
          "2015-05-13",
          "2015-05-14",
          "2015-05-15",
          "2015-05-18",
          "2015-05-19",
          "2015-05-20",
          "2015-05-21",
          "2015-05-22",
          "2015-05-26",
          "2015-05-27",
          "2015-05-28",
          "2015-05-29",
          "2015-06-01",
          "2015-06-02",
          "2015-06-03",
          "2015-06-04",
          "2015-06-05",
          "2015-06-08",
          "2015-06-09",
          "2015-06-10",
          "2015-06-11",
          "2015-06-12",
          "2015-06-15",
          "2015-06-16",
          "2015-06-17",
          "2015-06-18",
          "2015-06-19",
          "2015-06-22",
          "2015-06-23",
          "2015-06-24",
          "2015-06-25",
          "2015-06-26",
          "2015-06-29",
          "2015-06-30",
          "2015-07-01",
          "2015-07-02",
          "2015-07-06",
          "2015-07-07",
          "2015-07-08",
          "2015-07-09",
          "2015-07-10",
          "2015-07-13",
          "2015-07-14",
          "2015-07-15",
          "2015-07-16",
          "2015-07-17",
          "2015-07-20",
          "2015-07-21",
          "2015-07-22",
          "2015-07-23",
          "2015-07-24",
          "2015-07-27",
          "2015-07-28",
          "2015-07-29",
          "2015-07-30",
          "2015-07-31",
          "2015-08-03",
          "2015-08-04",
          "2015-08-05",
          "2015-08-06",
          "2015-08-07",
          "2015-08-10",
          "2015-08-11",
          "2015-08-12",
          "2015-08-13",
          "2015-08-14",
          "2015-08-17",
          "2015-08-18",
          "2015-08-19",
          "2015-08-20",
          "2015-08-21",
          "2015-08-24",
          "2015-08-25",
          "2015-08-26",
          "2015-08-27",
          "2015-08-28",
          "2015-08-31",
          "2015-09-01",
          "2015-09-02",
          "2015-09-03",
          "2015-09-04",
          "2015-09-08",
          "2015-09-09",
          "2015-09-10",
          "2015-09-11",
          "2015-09-14",
          "2015-09-15",
          "2015-09-16",
          "2015-09-17",
          "2015-09-18",
          "2015-09-21",
          "2015-09-22",
          "2015-09-23",
          "2015-09-24",
          "2015-09-25",
          "2015-09-28",
          "2015-09-29",
          "2015-09-30",
          "2015-10-01",
          "2015-10-02",
          "2015-10-05",
          "2015-10-06",
          "2015-10-07",
          "2015-10-08",
          "2015-10-09",
          "2015-10-12",
          "2015-10-13",
          "2015-10-14",
          "2015-10-15",
          "2015-10-16",
          "2015-10-19",
          "2015-10-20",
          "2015-10-21",
          "2015-10-22",
          "2015-10-23",
          "2015-10-26",
          "2015-10-27",
          "2015-10-28",
          "2015-10-29",
          "2015-10-30",
          "2015-11-02",
          "2015-11-03",
          "2015-11-04",
          "2015-11-05",
          "2015-11-06",
          "2015-11-09",
          "2015-11-10",
          "2015-11-11",
          "2015-11-12",
          "2015-11-13",
          "2015-11-16",
          "2015-11-17",
          "2015-11-18",
          "2015-11-19",
          "2015-11-20",
          "2015-11-23",
          "2015-11-24",
          "2015-11-25",
          "2015-11-27",
          "2015-11-30",
          "2015-12-01",
          "2015-12-02",
          "2015-12-03",
          "2015-12-04",
          "2015-12-07",
          "2015-12-08",
          "2015-12-09",
          "2015-12-10",
          "2015-12-11",
          "2015-12-14",
          "2015-12-15",
          "2015-12-16",
          "2015-12-17",
          "2015-12-18",
          "2015-12-21",
          "2015-12-22",
          "2015-12-23",
          "2015-12-24",
          "2015-12-28",
          "2015-12-29",
          "2015-12-30",
          "2015-12-31",
          "2016-01-04",
          "2016-01-05",
          "2016-01-06",
          "2016-01-07",
          "2016-01-08",
          "2016-01-11",
          "2016-01-12",
          "2016-01-13",
          "2016-01-14",
          "2016-01-15",
          "2016-01-19",
          "2016-01-20",
          "2016-01-21",
          "2016-01-22",
          "2016-01-25",
          "2016-01-26",
          "2016-01-27",
          "2016-01-28",
          "2016-01-29",
          "2016-02-01",
          "2016-02-02",
          "2016-02-03",
          "2016-02-04",
          "2016-02-05",
          "2016-02-08",
          "2016-02-09",
          "2016-02-10",
          "2016-02-11",
          "2016-02-12",
          "2016-02-16",
          "2016-02-17",
          "2016-02-18",
          "2016-02-19",
          "2016-02-22",
          "2016-02-23",
          "2016-02-24",
          "2016-02-25",
          "2016-02-26",
          "2016-02-29",
          "2016-03-01",
          "2016-03-02",
          "2016-03-03",
          "2016-03-04",
          "2016-03-07",
          "2016-03-08",
          "2016-03-09",
          "2016-03-10",
          "2016-03-11",
          "2016-03-14",
          "2016-03-15",
          "2016-03-16",
          "2016-03-17",
          "2016-03-18",
          "2016-03-21",
          "2016-03-22",
          "2016-03-23",
          "2016-03-24",
          "2016-03-28",
          "2016-03-29",
          "2016-03-30",
          "2016-03-31",
          "2016-04-01",
          "2016-04-04",
          "2016-04-05",
          "2016-04-06",
          "2016-04-07",
          "2016-04-08",
          "2016-04-11",
          "2016-04-12",
          "2016-04-13",
          "2016-04-14",
          "2016-04-15",
          "2016-04-18",
          "2016-04-19",
          "2016-04-20",
          "2016-04-21",
          "2016-04-22",
          "2016-04-26",
          "2016-04-27",
          "2016-04-28",
          "2016-04-29",
          "2016-05-02",
          "2016-05-03",
          "2016-05-04",
          "2016-05-05",
          "2016-05-06",
          "2016-05-09",
          "2016-05-10",
          "2016-05-11",
          "2016-05-12",
          "2016-05-13",
          "2016-05-16",
          "2016-05-17",
          "2016-05-18",
          "2016-05-19",
          "2016-05-20",
          "2016-05-23",
          "2016-05-24",
          "2016-05-25",
          "2016-05-26",
          "2016-05-27",
          "2016-05-31",
          "2016-06-01",
          "2016-06-02",
          "2016-06-03",
          "2016-06-06",
          "2016-06-07",
          "2016-06-08",
          "2016-06-09",
          "2016-06-10",
          "2016-06-13",
          "2016-06-14",
          "2016-06-15",
          "2016-06-16",
          "2016-06-17",
          "2016-06-20",
          "2016-06-21",
          "2016-06-22",
          "2016-06-23",
          "2016-06-24",
          "2016-06-27",
          "2016-06-28",
          "2016-06-29",
          "2016-06-30",
          "2016-07-01",
          "2016-07-05",
          "2016-07-06",
          "2016-07-07",
          "2016-07-08",
          "2016-07-11",
          "2016-07-12",
          "2016-07-13",
          "2016-07-14",
          "2016-07-15",
          "2016-07-18",
          "2016-07-19",
          "2016-07-20",
          "2016-07-21",
          "2016-07-22",
          "2016-07-25",
          "2016-07-26",
          "2016-07-27",
          "2016-07-28",
          "2016-07-29",
          "2016-08-01",
          "2016-08-02",
          "2016-08-03",
          "2016-08-04",
          "2016-08-05",
          "2016-08-08",
          "2016-08-09",
          "2016-08-10",
          "2016-08-11",
          "2016-08-12",
          "2016-08-15",
          "2016-08-16",
          "2016-08-17",
          "2016-08-18",
          "2016-08-19",
          "2016-08-22",
          "2016-08-23",
          "2016-08-24",
          "2016-08-25",
          "2016-08-26",
          "2016-08-29",
          "2016-08-30",
          "2016-08-31",
          "2016-09-01",
          "2016-09-02",
          "2016-09-06",
          "2016-09-07",
          "2016-09-08",
          "2016-09-09",
          "2016-09-12",
          "2016-09-13",
          "2016-09-14",
          "2016-09-15",
          "2016-09-16",
          "2016-09-19",
          "2016-09-20",
          "2016-09-21",
          "2016-09-22",
          "2016-09-23",
          "2016-09-26",
          "2016-09-27",
          "2016-09-28",
          "2016-09-29",
          "2016-09-30",
          "2016-10-03",
          "2016-10-04",
          "2016-10-05",
          "2016-10-06",
          "2016-10-07",
          "2016-10-10",
          "2016-10-11",
          "2016-10-12",
          "2016-10-13",
          "2016-10-14",
          "2016-10-17",
          "2016-10-18",
          "2016-10-19",
          "2016-10-20",
          "2016-10-21",
          "2016-10-24",
          "2016-10-25",
          "2016-10-26",
          "2016-10-27",
          "2016-10-28",
          "2016-10-31",
          "2016-11-01",
          "2016-11-02",
          "2016-11-03",
          "2016-11-04",
          "2016-11-07",
          "2016-11-08",
          "2016-11-09",
          "2016-11-10",
          "2016-11-11",
          "2016-11-14",
          "2016-11-15",
          "2016-11-16",
          "2016-11-17",
          "2016-11-18",
          "2016-11-21",
          "2016-11-22",
          "2016-11-23",
          "2016-11-25",
          "2016-11-28",
          "2016-11-29",
          "2016-11-30",
          "2016-12-01",
          "2016-12-02",
          "2016-12-05",
          "2016-12-06",
          "2016-12-07",
          "2016-12-08",
          "2016-12-09",
          "2016-12-12",
          "2016-12-13",
          "2016-12-14",
          "2016-12-15",
          "2016-12-16",
          "2016-12-19",
          "2016-12-20",
          "2016-12-21",
          "2016-12-22",
          "2016-12-23",
          "2016-12-27",
          "2016-12-28",
          "2016-12-29",
          "2016-12-30",
          "2017-01-03",
          "2017-01-04",
          "2017-01-05",
          "2017-01-06",
          "2017-01-09",
          "2017-01-10",
          "2017-01-11",
          "2017-01-12",
          "2017-01-13",
          "2017-01-17",
          "2017-01-18",
          "2017-01-19",
          "2017-01-20",
          "2017-01-23",
          "2017-01-24",
          "2017-01-25",
          "2017-01-26",
          "2017-01-27",
          "2017-01-30",
          "2017-01-31",
          "2017-02-01",
          "2017-02-02",
          "2017-02-03",
          "2017-02-06",
          "2017-02-07",
          "2017-02-08",
          "2017-02-09",
          "2017-02-10",
          "2017-02-13",
          "2017-02-14",
          "2017-02-16",
          "2017-02-17",
          "2017-02-21",
          "2017-02-22",
          "2017-02-23",
          "2017-02-24",
          "2017-02-27",
          "2017-02-28",
          "2017-03-01",
          "2017-03-02",
          "2017-03-03",
          "2017-03-06",
          "2017-03-07",
          "2017-03-08",
          "2017-03-09",
          "2017-03-10",
          "2017-03-13",
          "2017-03-14",
          "2017-03-15",
          "2017-03-16",
          "2017-03-17",
          "2017-03-20",
          "2017-03-21",
          "2017-03-22",
          "2017-03-23",
          "2017-03-24",
          "2017-03-27",
          "2017-03-28",
          "2017-03-29",
          "2017-03-30",
          "2017-03-31",
          "2017-04-03",
          "2017-04-04",
          "2017-04-05",
          "2017-04-06",
          "2017-04-07",
          "2017-04-10",
          "2017-04-11",
          "2017-04-12",
          "2017-04-13",
          "2017-04-17",
          "2017-04-18",
          "2017-04-19",
          "2017-04-20",
          "2017-04-21",
          "2017-04-24",
          "2017-04-25",
          "2017-04-26",
          "2017-04-27",
          "2017-04-28",
          "2017-05-01",
          "2017-05-02",
          "2017-05-03",
          "2017-05-04",
          "2017-05-05",
          "2017-05-08",
          "2017-05-09",
          "2017-05-10",
          "2017-05-11",
          "2017-05-12",
          "2017-05-15",
          "2017-05-16",
          "2017-05-17",
          "2017-05-18",
          "2017-05-19",
          "2017-05-22",
          "2017-05-23",
          "2017-05-24",
          "2017-05-25",
          "2017-05-26",
          "2017-05-30",
          "2017-05-31",
          "2017-06-01",
          "2017-06-02",
          "2017-06-05",
          "2017-06-06",
          "2017-06-07",
          "2017-06-08",
          "2017-06-09",
          "2017-06-12",
          "2017-06-13",
          "2017-06-14",
          "2017-06-15",
          "2017-06-16",
          "2017-06-19",
          "2017-06-20",
          "2017-06-21",
          "2017-06-22",
          "2017-06-26",
          "2017-06-27",
          "2017-06-28",
          "2017-06-29",
          "2017-06-30",
          "2017-07-03",
          "2017-07-05",
          "2017-07-06",
          "2017-07-07",
          "2017-07-10",
          "2017-07-11",
          "2017-07-12",
          "2017-07-13",
          "2017-07-14",
          "2017-07-17",
          "2017-07-18",
          "2017-07-19",
          "2017-07-20",
          "2017-07-21",
          "2017-07-24",
          "2017-07-25",
          "2017-07-26",
          "2017-07-27",
          "2017-07-28",
          "2017-07-31",
          "2017-08-01",
          "2017-08-02",
          "2017-08-03",
          "2017-08-04",
          "2017-08-07",
          "2017-08-08",
          "2017-08-09",
          "2017-08-10",
          "2017-08-11",
          "2017-08-14",
          "2017-08-15",
          "2017-08-16",
          "2017-08-17",
          "2017-08-18",
          "2017-08-21",
          "2017-08-22",
          "2017-08-23",
          "2017-08-24",
          "2017-08-25",
          "2017-08-28",
          "2017-08-29",
          "2017-08-30",
          "2017-08-31",
          "2017-09-01",
          "2017-09-05",
          "2017-09-06",
          "2017-09-07",
          "2017-09-08",
          "2017-09-11",
          "2017-09-12",
          "2017-09-13",
          "2017-09-14",
          "2017-09-15",
          "2017-09-18",
          "2017-09-19",
          "2017-09-20",
          "2017-09-21",
          "2017-09-22",
          "2017-09-25",
          "2017-09-26",
          "2017-09-27",
          "2017-09-28",
          "2017-09-29",
          "2017-10-02",
          "2017-10-03",
          "2017-10-04",
          "2017-10-05",
          "2017-10-06",
          "2017-10-09",
          "2017-10-10",
          "2017-10-11",
          "2017-10-12",
          "2017-10-13",
          "2017-10-16",
          "2017-10-17",
          "2017-10-18",
          "2017-10-19",
          "2017-10-20",
          "2017-10-23",
          "2017-10-24",
          "2017-10-25",
          "2017-10-26",
          "2017-10-27",
          "2017-10-30",
          "2017-10-31",
          "2017-11-01",
          "2017-11-02",
          "2017-11-03",
          "2017-11-06",
          "2017-11-07",
          "2017-11-08",
          "2017-11-09",
          "2017-11-10",
          "2017-11-13",
          "2017-11-14",
          "2017-11-15",
          "2017-11-16",
          "2017-11-17",
          "2017-11-20",
          "2017-11-21",
          "2017-11-22",
          "2017-11-24",
          "2017-11-27",
          "2017-11-28",
          "2017-11-29",
          "2017-11-30",
          "2017-12-01",
          "2017-12-04",
          "2017-12-05",
          "2017-12-06",
          "2017-12-07",
          "2017-12-08",
          "2017-12-11",
          "2017-12-12",
          "2017-12-13",
          "2017-12-14",
          "2017-12-15",
          "2017-12-18",
          "2017-12-19",
          "2017-12-20",
          "2017-12-21",
          "2017-12-22",
          "2017-12-26",
          "2017-12-27",
          "2017-12-28",
          "2017-12-29",
          "2018-01-02",
          "2018-01-03",
          "2018-01-04",
          "2018-01-05",
          "2018-01-08",
          "2018-01-10",
          "2018-01-11",
          "2018-01-12",
          "2018-01-16",
          "2018-01-17",
          "2018-01-18",
          "2018-01-19",
          "2018-01-22",
          "2018-01-23",
          "2018-01-26",
          "2018-01-30",
          "2018-01-31"
         ],
         "y": [
          30096.900390625,
          27540.69921875,
          26056.5,
          23582.80078125,
          20202,
          19295,
          19295,
          19872.19921875,
          19047.599609375,
          17728.30078125,
          17645.80078125,
          17563.400390625,
          17233.599609375,
          18470.400390625,
          20037.099609375,
          18305.5,
          17893.19921875,
          17233.599609375,
          17480.900390625,
          16903.69921875,
          17316,
          18470.400390625,
          20284.5,
          21521.30078125,
          21356.400390625,
          21026.599609375,
          20037.099609375,
          20449.400390625,
          22098.5,
          22923.099609375,
          21521.30078125,
          22181,
          21438.900390625,
          21933.599609375,
          22758.19921875,
          22181,
          21851.19921875,
          22758.19921875,
          23252.900390625,
          24984.5,
          24489.80078125,
          22428.400390625,
          21356.400390625,
          21356.400390625,
          21026.599609375,
          20202,
          19459.900390625,
          19872.19921875,
          19212.5,
          18717.80078125,
          18717.80078125,
          18717.80078125,
          18717.80078125,
          18717.80078125,
          19212.5,
          17563.400390625,
          17398.5,
          16821.30078125,
          16738.80078125,
          13440.5,
          14759.7998046875,
          13852.7998046875,
          13028.2001953125,
          13275.599609375,
          12945.7998046875,
          12945.7998046875,
          13110.7001953125,
          12945.7998046875,
          13110.7001953125,
          13028.2001953125,
          13110.7001953125,
          12780.900390625,
          13028.2001953125,
          12616,
          12616,
          12616,
          12616,
          12616,
          12616,
          12616,
          12616,
          12616,
          12616,
          12616,
          12616,
          12616,
          12616,
          12616,
          12616,
          12616,
          12616,
          12616,
          12616,
          12616,
          12616,
          12616,
          12616,
          12616,
          12616,
          12616,
          12616,
          12616,
          12616,
          12616,
          12616,
          12616,
          12616,
          12616,
          12616,
          12616,
          12616,
          12616,
          12616,
          12616,
          7998.35009765625,
          8740.4697265625,
          10389.599609375,
          9812.41015625,
          10472.099609375,
          10142.2001953125,
          10142.2001953125,
          9977.3203125,
          9977.3203125,
          10884.400390625,
          11791.400390625,
          12038.7998046875,
          11461.599609375,
          10884.400390625,
          11049.2998046875,
          10966.7998046875,
          11049.2998046875,
          10719.400390625,
          9977.3203125,
          9729.9501953125,
          9729.9501953125,
          9647.5,
          9565.0400390625,
          9482.580078125,
          9152.75,
          9482.580078125,
          10307.2001953125,
          9894.8701171875,
          9894.8701171875,
          9729.9501953125,
          9894.8701171875,
          9812.41015625,
          9729.9501953125,
          9317.669921875,
          9482.580078125,
          9070.2900390625,
          8987.83984375,
          8822.919921875,
          8410.6396484375,
          8493.08984375,
          8163.27001953125,
          7998.35009765625,
          8163.27001953125,
          7998.35009765625,
          8080.81005859375,
          7998.35009765625,
          8163.27001953125,
          7915.89013671875,
          8658.009765625,
          8740.4697265625,
          8163.27001953125,
          7998.35009765625,
          8163.27001953125,
          8163.27001953125,
          7998.35009765625,
          8080.81005859375,
          8245.7197265625,
          8080.81005859375,
          8575.5498046875,
          7750.97998046875,
          7833.43994140625,
          8245.7197265625,
          8080.81005859375,
          7833.43994140625,
          7915.89013671875,
          6761.490234375,
          6266.75,
          6349.2099609375,
          6926.41015625,
          7586.06005859375,
          7421.14990234375,
          7338.68994140625,
          6596.580078125,
          7173.77978515625,
          7256.240234375,
          6761.490234375,
          7338.68994140625,
          7256.240234375,
          7503.60986328125,
          7750.97998046875,
          7008.85986328125,
          7421.14990234375,
          7338.68994140625,
          7256.240234375,
          7586.06005859375,
          7709.75,
          8072.56005859375,
          8072.56005859375,
          7800.4501953125,
          7619.0498046875,
          7437.64013671875,
          7528.33984375,
          7528.33984375,
          7437.64013671875,
          7437.64013671875,
          7709.75,
          7800.4501953125,
          7800.4501953125,
          7709.75,
          7709.75,
          7528.33984375,
          7528.33984375,
          7437.64013671875,
          7528.33984375,
          7437.64013671875,
          7346.93994140625,
          7256.240234375,
          7165.52978515625,
          7256.240234375,
          7165.52978515625,
          6984.1298828125,
          6984.1298828125,
          6984.1298828125,
          7074.830078125,
          7437.64013671875,
          6802.72021484375,
          7165.52978515625,
          6893.419921875,
          6893.419921875,
          6802.72021484375,
          6621.31982421875,
          6621.31982421875,
          6439.91015625,
          6349.2099609375,
          6802.72021484375,
          7165.52978515625,
          6802.72021484375,
          6893.419921875,
          6984.1298828125,
          7346.93994140625,
          7256.240234375,
          7709.75,
          7528.33984375,
          7074.830078125,
          6893.419921875,
          6893.419921875,
          7074.830078125,
          6893.419921875,
          6802.72021484375,
          6802.72021484375,
          6984.1298828125,
          6712.02001953125,
          6712.02001953125,
          6621.31982421875,
          6712.02001953125,
          6893.419921875,
          6802.72021484375,
          6712.02001953125,
          6530.60986328125,
          6621.31982421875,
          7074.830078125,
          6530.60986328125,
          6349.2099609375,
          6258.5,
          6621.31982421875,
          6802.72021484375,
          6258.5,
          6077.10009765625,
          6077.10009765625,
          6530.60986328125,
          6167.7998046875,
          5442.18017578125,
          5804.990234375,
          6077.10009765625,
          5714.2900390625,
          5623.580078125,
          5170.06982421875,
          5532.8798828125,
          5442.18017578125,
          5532.8798828125,
          5986.39013671875,
          5804.990234375,
          5895.68994140625,
          5804.990234375,
          5804.990234375,
          5714.2900390625,
          5623.580078125,
          5623.580078125,
          5623.580078125,
          5714.2900390625,
          5714.2900390625,
          5714.2900390625,
          5714.2900390625,
          5714.2900390625,
          5714.2900390625,
          5714.2900390625,
          5895.68994140625,
          5895.68994140625,
          5804.990234375,
          5804.990234375,
          5804.990234375,
          6258.5,
          6167.7998046875,
          6077.10009765625,
          6167.7998046875,
          6077.10009765625,
          6258.5,
          6258.5,
          6167.7998046875,
          6167.7998046875,
          6258.5,
          6349.2099609375,
          6349.2099609375,
          6621.31982421875,
          6621.31982421875,
          6621.31982421875,
          6439.91015625,
          6621.31982421875,
          6712.02001953125,
          7074.830078125,
          7256.240234375,
          7437.64013671875,
          7528.33984375,
          6984.1298828125,
          6984.1298828125,
          7074.830078125,
          7074.830078125,
          7165.52978515625,
          7256.240234375,
          7165.52978515625,
          7165.52978515625,
          7165.52978515625,
          7619.0498046875,
          8344.669921875,
          8344.669921875,
          8163.27001953125,
          8526.080078125,
          8253.9697265625,
          8253.9697265625,
          8253.9697265625,
          7800.4501953125,
          7891.16015625,
          8072.56005859375,
          8072.56005859375,
          7981.85986328125,
          7981.85986328125,
          7981.85986328125,
          7981.85986328125,
          7981.85986328125,
          7981.85986328125,
          7165.52978515625,
          7256.240234375,
          7165.52978515625,
          6712.02001953125,
          6712.02001953125,
          7074.830078125,
          6984.1298828125,
          6802.72021484375,
          6802.72021484375,
          6802.72021484375,
          6893.419921875,
          6802.72021484375,
          6893.419921875,
          6802.72021484375,
          7074.830078125,
          6893.419921875,
          7074.830078125,
          7346.93994140625,
          7256.240234375,
          7165.52978515625,
          7074.830078125,
          7074.830078125,
          6984.1298828125,
          7074.830078125,
          7142.85986328125,
          6857.14013671875,
          7142.85986328125,
          7333.330078125,
          7238.10009765625,
          7238.10009765625,
          7238.10009765625,
          7142.85986328125,
          7047.6201171875,
          6952.3798828125,
          6761.89990234375,
          6666.669921875,
          6380.9501953125,
          6476.18994140625,
          6761.89990234375,
          6857.14013671875,
          6666.669921875,
          7619.0498046875,
          7523.81005859375,
          7619.0498046875,
          7523.81005859375,
          7523.81005859375,
          7238.10009765625,
          7333.330078125,
          7333.330078125,
          7142.85986328125,
          7238.10009765625,
          7428.56982421875,
          7333.330078125,
          7142.85986328125,
          7142.85986328125,
          7238.10009765625,
          7238.10009765625,
          7238.10009765625,
          7142.85986328125,
          7047.6201171875,
          6857.14013671875,
          6571.43017578125,
          6571.43017578125,
          6571.43017578125,
          6380.9501953125,
          6285.7099609375,
          6380.9501953125,
          6380.9501953125,
          6571.43017578125,
          6476.18994140625,
          6380.9501953125,
          6571.43017578125,
          6380.9501953125,
          6285.7099609375,
          6285.7099609375,
          6095.240234375,
          5904.759765625,
          6000,
          5904.759765625,
          6190.47998046875,
          6190.47998046875,
          5904.759765625,
          6000,
          6000,
          5904.759765625,
          5619.0498046875,
          5428.56982421875,
          5619.0498046875,
          5714.2900390625,
          5714.2900390625,
          5523.81005859375,
          5333.330078125,
          5333.330078125,
          5428.56982421875,
          5428.56982421875,
          5333.330078125,
          5333.330078125,
          5428.56982421875,
          5619.0498046875,
          5523.81005859375,
          5333.330078125,
          5619.0498046875,
          5523.81005859375,
          5428.56982421875,
          5428.56982421875,
          5714.2900390625,
          5809.52001953125,
          5809.52001953125,
          5809.52001953125,
          5714.2900390625,
          5619.0498046875,
          5809.52001953125,
          6000,
          6095.240234375,
          6000,
          5904.759765625,
          6000,
          6000,
          6000,
          6000,
          6000,
          5904.759765625,
          5809.52001953125,
          5809.52001953125,
          5714.2900390625,
          5809.52001953125,
          5714.2900390625,
          5809.52001953125,
          5714.2900390625,
          5809.52001953125,
          5809.52001953125,
          5714.2900390625,
          5714.2900390625,
          5809.52001953125,
          5714.2900390625,
          5714.2900390625,
          5809.52001953125,
          5714.2900390625,
          5714.2900390625,
          5809.52001953125,
          5714.2900390625,
          5714.2900390625,
          5619.0498046875,
          5523.81005859375,
          5428.56982421875,
          5428.56982421875,
          5333.330078125,
          5238.10009765625,
          5428.56982421875,
          5428.56982421875,
          5142.85986328125,
          5238.10009765625,
          5142.85986328125,
          5047.6201171875,
          5047.6201171875,
          5142.85986328125,
          5333.330078125,
          5333.330078125,
          5523.81005859375,
          5619.0498046875,
          5428.56982421875,
          5428.56982421875,
          5238.10009765625,
          5238.10009765625,
          5238.10009765625,
          5428.56982421875,
          5238.10009765625,
          5238.10009765625,
          5333.330078125,
          5238.10009765625,
          5238.10009765625,
          5142.85986328125,
          5142.85986328125,
          5428.56982421875,
          5238.10009765625,
          5333.330078125,
          5142.85986328125,
          5619.0498046875,
          5809.52001953125,
          5523.81005859375,
          5619.0498046875,
          5714.2900390625,
          6095.240234375,
          6095.240234375,
          6095.240234375,
          6095.240234375,
          6095.240234375,
          6095.240234375,
          6095.240234375,
          6000,
          6000,
          5904.759765625,
          5809.52001953125,
          5714.2900390625,
          5714.2900390625,
          5809.52001953125,
          5809.52001953125,
          5714.2900390625,
          5714.2900390625,
          5904.759765625,
          6095.240234375,
          6095.240234375,
          6095.240234375,
          5904.759765625,
          6000,
          5809.52001953125,
          5809.52001953125,
          5714.2900390625,
          5714.2900390625,
          5714.2900390625,
          5714.2900390625,
          5714.2900390625,
          5619.0498046875,
          5714.2900390625,
          5714.2900390625,
          5809.52001953125,
          5904.759765625,
          6095.240234375,
          6380.9501953125,
          6380.9501953125,
          6285.7099609375,
          6190.47998046875,
          6285.7099609375,
          6380.9501953125,
          6380.9501953125,
          6380.9501953125,
          6380.9501953125,
          6190.47998046875,
          6000,
          5904.759765625,
          5904.759765625,
          5809.52001953125,
          5809.52001953125,
          5904.759765625,
          5904.759765625,
          5809.52001953125,
          5714.2900390625,
          5523.81005859375,
          5619.0498046875,
          5619.0498046875,
          5523.81005859375,
          5809.52001953125,
          6095.240234375,
          6095.240234375,
          6095.240234375,
          6095.240234375,
          6000,
          6000,
          6000,
          6476.18994140625,
          6761.89990234375,
          6666.669921875,
          6666.669921875,
          6761.89990234375,
          6857.14013671875,
          6857.14013671875,
          6761.89990234375,
          6761.89990234375,
          7142.85986328125,
          7047.6201171875,
          7047.6201171875,
          7047.6201171875,
          6857.14013671875,
          6666.669921875,
          6476.18994140625,
          6666.669921875,
          6666.669921875,
          6380.9501953125,
          6190.47998046875,
          6190.47998046875,
          6571.43017578125,
          6666.669921875,
          6761.89990234375,
          6857.14013671875,
          6900,
          6900,
          6900,
          7200,
          7300,
          7100,
          7000,
          6900,
          7300,
          7400,
          7100,
          7100,
          7000,
          7000,
          7200,
          7400,
          7500,
          8000,
          8100,
          8200,
          7700,
          7400,
          7500,
          7200,
          7200,
          7100,
          6900,
          7100,
          6900,
          7000,
          6800,
          6900,
          7200,
          7100,
          7200,
          7200,
          7300,
          7300,
          7800,
          7800,
          8400,
          8300,
          7800,
          8100,
          7900,
          8000,
          7900,
          7800,
          7800,
          7700,
          7800,
          7800,
          7500,
          7300,
          7700,
          7900,
          7800,
          7600,
          7800,
          7700,
          7600,
          7500,
          7700,
          7700,
          7500,
          7400,
          7600,
          7500,
          7400,
          7500,
          7400,
          7300,
          7500,
          7400,
          7400,
          7400,
          7300,
          7400,
          7300,
          7200,
          7100,
          7000,
          7000,
          7100,
          7200,
          7200,
          7200,
          7000,
          7200,
          7300,
          7300,
          7400,
          7300,
          7400,
          7300,
          7600,
          7700,
          7700,
          7500,
          7500,
          7400,
          7400,
          7400,
          7200,
          7300,
          7300,
          7400,
          7300,
          7300,
          7500,
          7700,
          7700,
          7800,
          7900,
          7800,
          8000,
          8400,
          9800,
          10300,
          10500,
          11200,
          11800,
          12600,
          12800,
          11900,
          11200,
          11700,
          12800,
          12900,
          13000,
          12700,
          11600,
          11500,
          11300,
          10600,
          10900,
          10800,
          10600,
          10300,
          10500,
          10700,
          10800,
          11000,
          11200,
          10800,
          11200,
          10700,
          10600,
          10300,
          10300,
          10000,
          10000,
          9800,
          10000,
          10000,
          9900,
          9500,
          9700,
          9400
         ]
        },
        {
         "line": {
          "color": "rgba(50, 171, 96, 1.0)",
          "dash": "solid",
          "shape": "linear",
          "width": 1.3
         },
         "mode": "lines",
         "name": "Low",
         "text": "",
         "type": "scatter",
         "x": [
          "2014-12-04",
          "2014-12-05",
          "2014-12-08",
          "2014-12-09",
          "2014-12-10",
          "2014-12-11",
          "2014-12-12",
          "2014-12-15",
          "2014-12-16",
          "2014-12-17",
          "2014-12-18",
          "2014-12-19",
          "2014-12-22",
          "2014-12-23",
          "2014-12-24",
          "2014-12-26",
          "2014-12-29",
          "2014-12-30",
          "2014-12-31",
          "2015-01-02",
          "2015-01-05",
          "2015-01-06",
          "2015-01-07",
          "2015-01-08",
          "2015-01-09",
          "2015-01-12",
          "2015-01-13",
          "2015-01-14",
          "2015-01-15",
          "2015-01-16",
          "2015-01-20",
          "2015-01-21",
          "2015-01-22",
          "2015-01-23",
          "2015-01-26",
          "2015-01-27",
          "2015-01-28",
          "2015-01-29",
          "2015-01-30",
          "2015-02-02",
          "2015-02-03",
          "2015-02-04",
          "2015-02-05",
          "2015-02-06",
          "2015-02-09",
          "2015-02-10",
          "2015-02-11",
          "2015-02-12",
          "2015-02-13",
          "2015-02-18",
          "2015-02-19",
          "2015-02-20",
          "2015-02-23",
          "2015-02-24",
          "2015-02-25",
          "2015-02-26",
          "2015-02-27",
          "2015-03-02",
          "2015-03-03",
          "2015-03-04",
          "2015-03-05",
          "2015-03-06",
          "2015-03-09",
          "2015-03-10",
          "2015-03-11",
          "2015-03-12",
          "2015-03-13",
          "2015-03-16",
          "2015-03-17",
          "2015-03-18",
          "2015-03-19",
          "2015-03-20",
          "2015-03-23",
          "2015-03-24",
          "2015-03-25",
          "2015-03-26",
          "2015-03-27",
          "2015-03-30",
          "2015-03-31",
          "2015-04-01",
          "2015-04-02",
          "2015-04-06",
          "2015-04-07",
          "2015-04-08",
          "2015-04-09",
          "2015-04-10",
          "2015-04-13",
          "2015-04-14",
          "2015-04-15",
          "2015-04-16",
          "2015-04-17",
          "2015-04-20",
          "2015-04-21",
          "2015-04-22",
          "2015-04-23",
          "2015-04-24",
          "2015-04-27",
          "2015-04-28",
          "2015-04-29",
          "2015-04-30",
          "2015-05-01",
          "2015-05-04",
          "2015-05-05",
          "2015-05-06",
          "2015-05-07",
          "2015-05-08",
          "2015-05-11",
          "2015-05-12",
          "2015-05-13",
          "2015-05-14",
          "2015-05-15",
          "2015-05-18",
          "2015-05-19",
          "2015-05-20",
          "2015-05-21",
          "2015-05-22",
          "2015-05-26",
          "2015-05-27",
          "2015-05-28",
          "2015-05-29",
          "2015-06-01",
          "2015-06-02",
          "2015-06-03",
          "2015-06-04",
          "2015-06-05",
          "2015-06-08",
          "2015-06-09",
          "2015-06-10",
          "2015-06-11",
          "2015-06-12",
          "2015-06-15",
          "2015-06-16",
          "2015-06-17",
          "2015-06-18",
          "2015-06-19",
          "2015-06-22",
          "2015-06-23",
          "2015-06-24",
          "2015-06-25",
          "2015-06-26",
          "2015-06-29",
          "2015-06-30",
          "2015-07-01",
          "2015-07-02",
          "2015-07-06",
          "2015-07-07",
          "2015-07-08",
          "2015-07-09",
          "2015-07-10",
          "2015-07-13",
          "2015-07-14",
          "2015-07-15",
          "2015-07-16",
          "2015-07-17",
          "2015-07-20",
          "2015-07-21",
          "2015-07-22",
          "2015-07-23",
          "2015-07-24",
          "2015-07-27",
          "2015-07-28",
          "2015-07-29",
          "2015-07-30",
          "2015-07-31",
          "2015-08-03",
          "2015-08-04",
          "2015-08-05",
          "2015-08-06",
          "2015-08-07",
          "2015-08-10",
          "2015-08-11",
          "2015-08-12",
          "2015-08-13",
          "2015-08-14",
          "2015-08-17",
          "2015-08-18",
          "2015-08-19",
          "2015-08-20",
          "2015-08-21",
          "2015-08-24",
          "2015-08-25",
          "2015-08-26",
          "2015-08-27",
          "2015-08-28",
          "2015-08-31",
          "2015-09-01",
          "2015-09-02",
          "2015-09-03",
          "2015-09-04",
          "2015-09-08",
          "2015-09-09",
          "2015-09-10",
          "2015-09-11",
          "2015-09-14",
          "2015-09-15",
          "2015-09-16",
          "2015-09-17",
          "2015-09-18",
          "2015-09-21",
          "2015-09-22",
          "2015-09-23",
          "2015-09-24",
          "2015-09-25",
          "2015-09-28",
          "2015-09-29",
          "2015-09-30",
          "2015-10-01",
          "2015-10-02",
          "2015-10-05",
          "2015-10-06",
          "2015-10-07",
          "2015-10-08",
          "2015-10-09",
          "2015-10-12",
          "2015-10-13",
          "2015-10-14",
          "2015-10-15",
          "2015-10-16",
          "2015-10-19",
          "2015-10-20",
          "2015-10-21",
          "2015-10-22",
          "2015-10-23",
          "2015-10-26",
          "2015-10-27",
          "2015-10-28",
          "2015-10-29",
          "2015-10-30",
          "2015-11-02",
          "2015-11-03",
          "2015-11-04",
          "2015-11-05",
          "2015-11-06",
          "2015-11-09",
          "2015-11-10",
          "2015-11-11",
          "2015-11-12",
          "2015-11-13",
          "2015-11-16",
          "2015-11-17",
          "2015-11-18",
          "2015-11-19",
          "2015-11-20",
          "2015-11-23",
          "2015-11-24",
          "2015-11-25",
          "2015-11-27",
          "2015-11-30",
          "2015-12-01",
          "2015-12-02",
          "2015-12-03",
          "2015-12-04",
          "2015-12-07",
          "2015-12-08",
          "2015-12-09",
          "2015-12-10",
          "2015-12-11",
          "2015-12-14",
          "2015-12-15",
          "2015-12-16",
          "2015-12-17",
          "2015-12-18",
          "2015-12-21",
          "2015-12-22",
          "2015-12-23",
          "2015-12-24",
          "2015-12-28",
          "2015-12-29",
          "2015-12-30",
          "2015-12-31",
          "2016-01-04",
          "2016-01-05",
          "2016-01-06",
          "2016-01-07",
          "2016-01-08",
          "2016-01-11",
          "2016-01-12",
          "2016-01-13",
          "2016-01-14",
          "2016-01-15",
          "2016-01-19",
          "2016-01-20",
          "2016-01-21",
          "2016-01-22",
          "2016-01-25",
          "2016-01-26",
          "2016-01-27",
          "2016-01-28",
          "2016-01-29",
          "2016-02-01",
          "2016-02-02",
          "2016-02-03",
          "2016-02-04",
          "2016-02-05",
          "2016-02-08",
          "2016-02-09",
          "2016-02-10",
          "2016-02-11",
          "2016-02-12",
          "2016-02-16",
          "2016-02-17",
          "2016-02-18",
          "2016-02-19",
          "2016-02-22",
          "2016-02-23",
          "2016-02-24",
          "2016-02-25",
          "2016-02-26",
          "2016-02-29",
          "2016-03-01",
          "2016-03-02",
          "2016-03-03",
          "2016-03-04",
          "2016-03-07",
          "2016-03-08",
          "2016-03-09",
          "2016-03-10",
          "2016-03-11",
          "2016-03-14",
          "2016-03-15",
          "2016-03-16",
          "2016-03-17",
          "2016-03-18",
          "2016-03-21",
          "2016-03-22",
          "2016-03-23",
          "2016-03-24",
          "2016-03-28",
          "2016-03-29",
          "2016-03-30",
          "2016-03-31",
          "2016-04-01",
          "2016-04-04",
          "2016-04-05",
          "2016-04-06",
          "2016-04-07",
          "2016-04-08",
          "2016-04-11",
          "2016-04-12",
          "2016-04-13",
          "2016-04-14",
          "2016-04-15",
          "2016-04-18",
          "2016-04-19",
          "2016-04-20",
          "2016-04-21",
          "2016-04-22",
          "2016-04-26",
          "2016-04-27",
          "2016-04-28",
          "2016-04-29",
          "2016-05-02",
          "2016-05-03",
          "2016-05-04",
          "2016-05-05",
          "2016-05-06",
          "2016-05-09",
          "2016-05-10",
          "2016-05-11",
          "2016-05-12",
          "2016-05-13",
          "2016-05-16",
          "2016-05-17",
          "2016-05-18",
          "2016-05-19",
          "2016-05-20",
          "2016-05-23",
          "2016-05-24",
          "2016-05-25",
          "2016-05-26",
          "2016-05-27",
          "2016-05-31",
          "2016-06-01",
          "2016-06-02",
          "2016-06-03",
          "2016-06-06",
          "2016-06-07",
          "2016-06-08",
          "2016-06-09",
          "2016-06-10",
          "2016-06-13",
          "2016-06-14",
          "2016-06-15",
          "2016-06-16",
          "2016-06-17",
          "2016-06-20",
          "2016-06-21",
          "2016-06-22",
          "2016-06-23",
          "2016-06-24",
          "2016-06-27",
          "2016-06-28",
          "2016-06-29",
          "2016-06-30",
          "2016-07-01",
          "2016-07-05",
          "2016-07-06",
          "2016-07-07",
          "2016-07-08",
          "2016-07-11",
          "2016-07-12",
          "2016-07-13",
          "2016-07-14",
          "2016-07-15",
          "2016-07-18",
          "2016-07-19",
          "2016-07-20",
          "2016-07-21",
          "2016-07-22",
          "2016-07-25",
          "2016-07-26",
          "2016-07-27",
          "2016-07-28",
          "2016-07-29",
          "2016-08-01",
          "2016-08-02",
          "2016-08-03",
          "2016-08-04",
          "2016-08-05",
          "2016-08-08",
          "2016-08-09",
          "2016-08-10",
          "2016-08-11",
          "2016-08-12",
          "2016-08-15",
          "2016-08-16",
          "2016-08-17",
          "2016-08-18",
          "2016-08-19",
          "2016-08-22",
          "2016-08-23",
          "2016-08-24",
          "2016-08-25",
          "2016-08-26",
          "2016-08-29",
          "2016-08-30",
          "2016-08-31",
          "2016-09-01",
          "2016-09-02",
          "2016-09-06",
          "2016-09-07",
          "2016-09-08",
          "2016-09-09",
          "2016-09-12",
          "2016-09-13",
          "2016-09-14",
          "2016-09-15",
          "2016-09-16",
          "2016-09-19",
          "2016-09-20",
          "2016-09-21",
          "2016-09-22",
          "2016-09-23",
          "2016-09-26",
          "2016-09-27",
          "2016-09-28",
          "2016-09-29",
          "2016-09-30",
          "2016-10-03",
          "2016-10-04",
          "2016-10-05",
          "2016-10-06",
          "2016-10-07",
          "2016-10-10",
          "2016-10-11",
          "2016-10-12",
          "2016-10-13",
          "2016-10-14",
          "2016-10-17",
          "2016-10-18",
          "2016-10-19",
          "2016-10-20",
          "2016-10-21",
          "2016-10-24",
          "2016-10-25",
          "2016-10-26",
          "2016-10-27",
          "2016-10-28",
          "2016-10-31",
          "2016-11-01",
          "2016-11-02",
          "2016-11-03",
          "2016-11-04",
          "2016-11-07",
          "2016-11-08",
          "2016-11-09",
          "2016-11-10",
          "2016-11-11",
          "2016-11-14",
          "2016-11-15",
          "2016-11-16",
          "2016-11-17",
          "2016-11-18",
          "2016-11-21",
          "2016-11-22",
          "2016-11-23",
          "2016-11-25",
          "2016-11-28",
          "2016-11-29",
          "2016-11-30",
          "2016-12-01",
          "2016-12-02",
          "2016-12-05",
          "2016-12-06",
          "2016-12-07",
          "2016-12-08",
          "2016-12-09",
          "2016-12-12",
          "2016-12-13",
          "2016-12-14",
          "2016-12-15",
          "2016-12-16",
          "2016-12-19",
          "2016-12-20",
          "2016-12-21",
          "2016-12-22",
          "2016-12-23",
          "2016-12-27",
          "2016-12-28",
          "2016-12-29",
          "2016-12-30",
          "2017-01-03",
          "2017-01-04",
          "2017-01-05",
          "2017-01-06",
          "2017-01-09",
          "2017-01-10",
          "2017-01-11",
          "2017-01-12",
          "2017-01-13",
          "2017-01-17",
          "2017-01-18",
          "2017-01-19",
          "2017-01-20",
          "2017-01-23",
          "2017-01-24",
          "2017-01-25",
          "2017-01-26",
          "2017-01-27",
          "2017-01-30",
          "2017-01-31",
          "2017-02-01",
          "2017-02-02",
          "2017-02-03",
          "2017-02-06",
          "2017-02-07",
          "2017-02-08",
          "2017-02-09",
          "2017-02-10",
          "2017-02-13",
          "2017-02-14",
          "2017-02-16",
          "2017-02-17",
          "2017-02-21",
          "2017-02-22",
          "2017-02-23",
          "2017-02-24",
          "2017-02-27",
          "2017-02-28",
          "2017-03-01",
          "2017-03-02",
          "2017-03-03",
          "2017-03-06",
          "2017-03-07",
          "2017-03-08",
          "2017-03-09",
          "2017-03-10",
          "2017-03-13",
          "2017-03-14",
          "2017-03-15",
          "2017-03-16",
          "2017-03-17",
          "2017-03-20",
          "2017-03-21",
          "2017-03-22",
          "2017-03-23",
          "2017-03-24",
          "2017-03-27",
          "2017-03-28",
          "2017-03-29",
          "2017-03-30",
          "2017-03-31",
          "2017-04-03",
          "2017-04-04",
          "2017-04-05",
          "2017-04-06",
          "2017-04-07",
          "2017-04-10",
          "2017-04-11",
          "2017-04-12",
          "2017-04-13",
          "2017-04-17",
          "2017-04-18",
          "2017-04-19",
          "2017-04-20",
          "2017-04-21",
          "2017-04-24",
          "2017-04-25",
          "2017-04-26",
          "2017-04-27",
          "2017-04-28",
          "2017-05-01",
          "2017-05-02",
          "2017-05-03",
          "2017-05-04",
          "2017-05-05",
          "2017-05-08",
          "2017-05-09",
          "2017-05-10",
          "2017-05-11",
          "2017-05-12",
          "2017-05-15",
          "2017-05-16",
          "2017-05-17",
          "2017-05-18",
          "2017-05-19",
          "2017-05-22",
          "2017-05-23",
          "2017-05-24",
          "2017-05-25",
          "2017-05-26",
          "2017-05-30",
          "2017-05-31",
          "2017-06-01",
          "2017-06-02",
          "2017-06-05",
          "2017-06-06",
          "2017-06-07",
          "2017-06-08",
          "2017-06-09",
          "2017-06-12",
          "2017-06-13",
          "2017-06-14",
          "2017-06-15",
          "2017-06-16",
          "2017-06-19",
          "2017-06-20",
          "2017-06-21",
          "2017-06-22",
          "2017-06-26",
          "2017-06-27",
          "2017-06-28",
          "2017-06-29",
          "2017-06-30",
          "2017-07-03",
          "2017-07-05",
          "2017-07-06",
          "2017-07-07",
          "2017-07-10",
          "2017-07-11",
          "2017-07-12",
          "2017-07-13",
          "2017-07-14",
          "2017-07-17",
          "2017-07-18",
          "2017-07-19",
          "2017-07-20",
          "2017-07-21",
          "2017-07-24",
          "2017-07-25",
          "2017-07-26",
          "2017-07-27",
          "2017-07-28",
          "2017-07-31",
          "2017-08-01",
          "2017-08-02",
          "2017-08-03",
          "2017-08-04",
          "2017-08-07",
          "2017-08-08",
          "2017-08-09",
          "2017-08-10",
          "2017-08-11",
          "2017-08-14",
          "2017-08-15",
          "2017-08-16",
          "2017-08-17",
          "2017-08-18",
          "2017-08-21",
          "2017-08-22",
          "2017-08-23",
          "2017-08-24",
          "2017-08-25",
          "2017-08-28",
          "2017-08-29",
          "2017-08-30",
          "2017-08-31",
          "2017-09-01",
          "2017-09-05",
          "2017-09-06",
          "2017-09-07",
          "2017-09-08",
          "2017-09-11",
          "2017-09-12",
          "2017-09-13",
          "2017-09-14",
          "2017-09-15",
          "2017-09-18",
          "2017-09-19",
          "2017-09-20",
          "2017-09-21",
          "2017-09-22",
          "2017-09-25",
          "2017-09-26",
          "2017-09-27",
          "2017-09-28",
          "2017-09-29",
          "2017-10-02",
          "2017-10-03",
          "2017-10-04",
          "2017-10-05",
          "2017-10-06",
          "2017-10-09",
          "2017-10-10",
          "2017-10-11",
          "2017-10-12",
          "2017-10-13",
          "2017-10-16",
          "2017-10-17",
          "2017-10-18",
          "2017-10-19",
          "2017-10-20",
          "2017-10-23",
          "2017-10-24",
          "2017-10-25",
          "2017-10-26",
          "2017-10-27",
          "2017-10-30",
          "2017-10-31",
          "2017-11-01",
          "2017-11-02",
          "2017-11-03",
          "2017-11-06",
          "2017-11-07",
          "2017-11-08",
          "2017-11-09",
          "2017-11-10",
          "2017-11-13",
          "2017-11-14",
          "2017-11-15",
          "2017-11-16",
          "2017-11-17",
          "2017-11-20",
          "2017-11-21",
          "2017-11-22",
          "2017-11-24",
          "2017-11-27",
          "2017-11-28",
          "2017-11-29",
          "2017-11-30",
          "2017-12-01",
          "2017-12-04",
          "2017-12-05",
          "2017-12-06",
          "2017-12-07",
          "2017-12-08",
          "2017-12-11",
          "2017-12-12",
          "2017-12-13",
          "2017-12-14",
          "2017-12-15",
          "2017-12-18",
          "2017-12-19",
          "2017-12-20",
          "2017-12-21",
          "2017-12-22",
          "2017-12-26",
          "2017-12-27",
          "2017-12-28",
          "2017-12-29",
          "2018-01-02",
          "2018-01-03",
          "2018-01-04",
          "2018-01-05",
          "2018-01-08",
          "2018-01-10",
          "2018-01-11",
          "2018-01-12",
          "2018-01-16",
          "2018-01-17",
          "2018-01-18",
          "2018-01-19",
          "2018-01-22",
          "2018-01-23",
          "2018-01-26",
          "2018-01-30",
          "2018-01-31"
         ],
         "y": [
          27953,
          25974,
          23582.80078125,
          21274,
          19212.5,
          17398.5,
          17233.599609375,
          18800.19921875,
          17316,
          16079.2001953125,
          16491.400390625,
          16161.599609375,
          16079.2001953125,
          16491.400390625,
          18470.400390625,
          16986.19921875,
          15419.5,
          14594.900390625,
          15914.2001953125,
          16903.69921875,
          16491.400390625,
          15666.900390625,
          18965.19921875,
          19377.400390625,
          20119.599609375,
          18717.80078125,
          17728.30078125,
          18965.19921875,
          19624.80078125,
          21438.900390625,
          20944.099609375,
          21026.599609375,
          20614.30078125,
          20861.69921875,
          21026.599609375,
          20944.099609375,
          20944.099609375,
          20614.30078125,
          21851.19921875,
          22263.5,
          22263.5,
          21274,
          20366.900390625,
          20202,
          19295,
          18140.599609375,
          17480.900390625,
          18965.19921875,
          18635.30078125,
          18717.80078125,
          18717.80078125,
          18717.80078125,
          18717.80078125,
          18717.80078125,
          16903.69921875,
          16161.599609375,
          15419.5,
          16161.599609375,
          15419.5,
          13440.5,
          13687.900390625,
          12945.7998046875,
          12203.7001953125,
          12368.599609375,
          12698.400390625,
          12368.599609375,
          12698.400390625,
          12616,
          12368.599609375,
          12698.400390625,
          12698.400390625,
          12368.599609375,
          12451,
          12616,
          12616,
          12616,
          12616,
          12616,
          12616,
          12616,
          12616,
          12616,
          12616,
          12616,
          12616,
          12616,
          12616,
          12616,
          12616,
          12616,
          12616,
          12616,
          12616,
          12616,
          12616,
          12616,
          12616,
          12616,
          12616,
          12616,
          12616,
          12616,
          12616,
          12616,
          12616,
          12616,
          12616,
          12616,
          12616,
          12616,
          12616,
          12616,
          12616,
          12616,
          7503.60986328125,
          7998.35009765625,
          8987.83984375,
          8740.4697265625,
          9647.5,
          9317.669921875,
          9400.1201171875,
          9565.0400390625,
          9647.5,
          9894.8701171875,
          11131.7001953125,
          11379.099609375,
          10307.2001953125,
          10307.2001953125,
          10389.599609375,
          10389.599609375,
          10389.599609375,
          9812.41015625,
          9317.669921875,
          8493.08984375,
          9235.2099609375,
          8905.3798828125,
          9317.669921875,
          9070.2900390625,
          8658.009765625,
          8493.08984375,
          9647.5,
          9235.2099609375,
          8493.08984375,
          8987.83984375,
          9400.1201171875,
          9482.580078125,
          9070.2900390625,
          8905.3798828125,
          8987.83984375,
          8575.5498046875,
          8163.27001953125,
          7998.35009765625,
          7586.06005859375,
          7421.14990234375,
          7833.43994140625,
          7586.06005859375,
          7503.60986328125,
          7750.97998046875,
          7421.14990234375,
          7173.77978515625,
          7338.68994140625,
          7421.14990234375,
          7833.43994140625,
          8163.27001953125,
          7421.14990234375,
          7008.85986328125,
          7091.31982421875,
          7915.89013671875,
          7503.60986328125,
          7503.60986328125,
          7915.89013671875,
          7256.240234375,
          7503.60986328125,
          7503.60986328125,
          7338.68994140625,
          7421.14990234375,
          7338.68994140625,
          7256.240234375,
          6596.580078125,
          6184.2900390625,
          5607.08984375,
          5194.81005859375,
          6679.0400390625,
          6679.0400390625,
          6596.580078125,
          6514.1201171875,
          6596.580078125,
          6596.580078125,
          6596.580078125,
          6431.66015625,
          6679.0400390625,
          6596.580078125,
          6843.9501953125,
          6761.490234375,
          6761.490234375,
          6761.490234375,
          6843.9501953125,
          6926.41015625,
          6843.9501953125,
          7437.64013671875,
          7346.93994140625,
          6893.419921875,
          7619.0498046875,
          7256.240234375,
          7165.52978515625,
          7346.93994140625,
          7346.93994140625,
          7256.240234375,
          7256.240234375,
          7437.64013671875,
          7437.64013671875,
          7437.64013671875,
          7437.64013671875,
          7437.64013671875,
          7437.64013671875,
          7256.240234375,
          7256.240234375,
          7346.93994140625,
          7256.240234375,
          7165.52978515625,
          6984.1298828125,
          6893.419921875,
          7074.830078125,
          6893.419921875,
          6893.419921875,
          6712.02001953125,
          6712.02001953125,
          6802.72021484375,
          6712.02001953125,
          6712.02001953125,
          6712.02001953125,
          6712.02001953125,
          6621.31982421875,
          6621.31982421875,
          6439.91015625,
          6349.2099609375,
          6167.7998046875,
          6258.5,
          6349.2099609375,
          6712.02001953125,
          6712.02001953125,
          6621.31982421875,
          6712.02001953125,
          6984.1298828125,
          6984.1298828125,
          6621.31982421875,
          7074.830078125,
          6802.72021484375,
          6621.31982421875,
          6712.02001953125,
          6712.02001953125,
          6712.02001953125,
          6621.31982421875,
          6621.31982421875,
          6712.02001953125,
          6439.91015625,
          6439.91015625,
          6439.91015625,
          6439.91015625,
          6621.31982421875,
          6530.60986328125,
          6530.60986328125,
          6349.2099609375,
          6349.2099609375,
          6258.5,
          6349.2099609375,
          6077.10009765625,
          5895.68994140625,
          6167.7998046875,
          6167.7998046875,
          6077.10009765625,
          5895.68994140625,
          5895.68994140625,
          5623.580078125,
          5260.77001953125,
          5260.77001953125,
          5260.77001953125,
          5714.2900390625,
          5442.18017578125,
          5351.47021484375,
          4988.66015625,
          4988.66015625,
          5170.06982421875,
          5170.06982421875,
          5532.8798828125,
          5532.8798828125,
          5623.580078125,
          5623.580078125,
          5623.580078125,
          5532.8798828125,
          5442.18017578125,
          5442.18017578125,
          5532.8798828125,
          5532.8798828125,
          5714.2900390625,
          5714.2900390625,
          5714.2900390625,
          5714.2900390625,
          5714.2900390625,
          5623.580078125,
          5623.580078125,
          5714.2900390625,
          5804.990234375,
          5804.990234375,
          5804.990234375,
          5986.39013671875,
          5895.68994140625,
          5895.68994140625,
          5986.39013671875,
          5986.39013671875,
          6077.10009765625,
          6077.10009765625,
          5986.39013671875,
          5986.39013671875,
          6077.10009765625,
          6077.10009765625,
          6077.10009765625,
          6258.5,
          6439.91015625,
          6349.2099609375,
          6258.5,
          6349.2099609375,
          6349.2099609375,
          6530.60986328125,
          6802.72021484375,
          7256.240234375,
          7256.240234375,
          6893.419921875,
          6621.31982421875,
          6621.31982421875,
          6712.02001953125,
          6621.31982421875,
          6984.1298828125,
          6893.419921875,
          6984.1298828125,
          6984.1298828125,
          6893.419921875,
          7709.75,
          7891.16015625,
          7891.16015625,
          7981.85986328125,
          8253.9697265625,
          8253.9697265625,
          8253.9697265625,
          7437.64013671875,
          7619.0498046875,
          7709.75,
          7800.4501953125,
          7981.85986328125,
          7981.85986328125,
          7981.85986328125,
          7981.85986328125,
          7981.85986328125,
          7981.85986328125,
          6984.1298828125,
          6984.1298828125,
          6712.02001953125,
          6712.02001953125,
          6712.02001953125,
          6802.72021484375,
          6712.02001953125,
          6802.72021484375,
          6802.72021484375,
          6802.72021484375,
          6712.02001953125,
          6802.72021484375,
          6621.31982421875,
          6621.31982421875,
          6712.02001953125,
          6621.31982421875,
          6802.72021484375,
          6984.1298828125,
          6984.1298828125,
          6984.1298828125,
          6984.1298828125,
          6893.419921875,
          6893.419921875,
          6893.419921875,
          6666.669921875,
          6761.89990234375,
          6666.669921875,
          6857.14013671875,
          6952.3798828125,
          6952.3798828125,
          7047.6201171875,
          6857.14013671875,
          6761.89990234375,
          6666.669921875,
          6666.669921875,
          6000,
          6000,
          6285.7099609375,
          6380.9501953125,
          6571.43017578125,
          6476.18994140625,
          7142.85986328125,
          7142.85986328125,
          7333.330078125,
          7047.6201171875,
          6952.3798828125,
          6952.3798828125,
          7238.10009765625,
          6952.3798828125,
          6952.3798828125,
          7047.6201171875,
          7047.6201171875,
          7047.6201171875,
          6952.3798828125,
          6857.14013671875,
          7142.85986328125,
          7047.6201171875,
          6952.3798828125,
          6857.14013671875,
          6857.14013671875,
          6666.669921875,
          6285.7099609375,
          6380.9501953125,
          6476.18994140625,
          6095.240234375,
          6190.47998046875,
          6190.47998046875,
          6190.47998046875,
          6285.7099609375,
          6190.47998046875,
          6190.47998046875,
          6285.7099609375,
          6285.7099609375,
          6190.47998046875,
          6095.240234375,
          5809.52001953125,
          5809.52001953125,
          5809.52001953125,
          5714.2900390625,
          5809.52001953125,
          5809.52001953125,
          5809.52001953125,
          5809.52001953125,
          5809.52001953125,
          5904.759765625,
          5428.56982421875,
          5333.330078125,
          5333.330078125,
          5428.56982421875,
          5428.56982421875,
          5428.56982421875,
          4952.3798828125,
          5142.85986328125,
          4857.14013671875,
          5238.10009765625,
          5238.10009765625,
          5238.10009765625,
          5238.10009765625,
          5333.330078125,
          5238.10009765625,
          5238.10009765625,
          5238.10009765625,
          5333.330078125,
          5238.10009765625,
          5238.10009765625,
          5333.330078125,
          5523.81005859375,
          5523.81005859375,
          5619.0498046875,
          5523.81005859375,
          5523.81005859375,
          5619.0498046875,
          5714.2900390625,
          5809.52001953125,
          5714.2900390625,
          5809.52001953125,
          5809.52001953125,
          5904.759765625,
          5904.759765625,
          5904.759765625,
          5809.52001953125,
          5809.52001953125,
          5619.0498046875,
          5619.0498046875,
          5619.0498046875,
          5714.2900390625,
          5619.0498046875,
          5619.0498046875,
          5619.0498046875,
          5619.0498046875,
          5619.0498046875,
          5428.56982421875,
          5619.0498046875,
          5619.0498046875,
          5523.81005859375,
          5714.2900390625,
          5714.2900390625,
          5714.2900390625,
          5619.0498046875,
          5714.2900390625,
          5619.0498046875,
          5619.0498046875,
          5523.81005859375,
          5238.10009765625,
          5333.330078125,
          5238.10009765625,
          5238.10009765625,
          5142.85986328125,
          5047.6201171875,
          5142.85986328125,
          5047.6201171875,
          5047.6201171875,
          4952.3798828125,
          4952.3798828125,
          4571.43017578125,
          4666.669921875,
          4952.3798828125,
          5238.10009765625,
          4952.3798828125,
          5333.330078125,
          5238.10009765625,
          5238.10009765625,
          5238.10009765625,
          5047.6201171875,
          5047.6201171875,
          5047.6201171875,
          5047.6201171875,
          4761.89990234375,
          5142.85986328125,
          5047.6201171875,
          5047.6201171875,
          4952.3798828125,
          4952.3798828125,
          5047.6201171875,
          5142.85986328125,
          5047.6201171875,
          5047.6201171875,
          5142.85986328125,
          5428.56982421875,
          5428.56982421875,
          5238.10009765625,
          5523.81005859375,
          5714.2900390625,
          6095.240234375,
          6095.240234375,
          6095.240234375,
          6095.240234375,
          6095.240234375,
          6095.240234375,
          5714.2900390625,
          5523.81005859375,
          5714.2900390625,
          5619.0498046875,
          5619.0498046875,
          5523.81005859375,
          5619.0498046875,
          5523.81005859375,
          5523.81005859375,
          5428.56982421875,
          5714.2900390625,
          5714.2900390625,
          5904.759765625,
          5714.2900390625,
          5714.2900390625,
          5714.2900390625,
          5619.0498046875,
          5619.0498046875,
          5619.0498046875,
          5619.0498046875,
          5619.0498046875,
          5619.0498046875,
          5619.0498046875,
          5619.0498046875,
          5523.81005859375,
          5523.81005859375,
          5619.0498046875,
          5619.0498046875,
          5904.759765625,
          6000,
          6190.47998046875,
          6095.240234375,
          6000,
          6095.240234375,
          6095.240234375,
          6095.240234375,
          6190.47998046875,
          6095.240234375,
          6000,
          5809.52001953125,
          5714.2900390625,
          5809.52001953125,
          5809.52001953125,
          5714.2900390625,
          5714.2900390625,
          5714.2900390625,
          5714.2900390625,
          5523.81005859375,
          5333.330078125,
          5333.330078125,
          5428.56982421875,
          5428.56982421875,
          5523.81005859375,
          5619.0498046875,
          5809.52001953125,
          5809.52001953125,
          5904.759765625,
          5904.759765625,
          6000,
          6000,
          5714.2900390625,
          6285.7099609375,
          6380.9501953125,
          6285.7099609375,
          6285.7099609375,
          6476.18994140625,
          6476.18994140625,
          6476.18994140625,
          6000,
          6761.89990234375,
          6666.669921875,
          6761.89990234375,
          6571.43017578125,
          6476.18994140625,
          6190.47998046875,
          6095.240234375,
          6285.7099609375,
          6380.9501953125,
          6000,
          6000,
          6095.240234375,
          6000,
          6380.9501953125,
          6380.9501953125,
          6571.43017578125,
          6600,
          6700,
          6600,
          6600,
          7000,
          6800,
          6800,
          6800,
          6900,
          7000,
          6900,
          6900,
          6800,
          6800,
          6800,
          7100,
          7000,
          7600,
          7900,
          7600,
          7300,
          7100,
          7000,
          7000,
          7000,
          6800,
          6700,
          6800,
          6700,
          6800,
          6600,
          6700,
          6700,
          7000,
          7000,
          7000,
          7000,
          7000,
          7100,
          7800,
          7800,
          7800,
          7300,
          7400,
          7600,
          7700,
          7600,
          7400,
          7500,
          7400,
          7400,
          7400,
          7100,
          7100,
          7100,
          7500,
          7500,
          7400,
          7300,
          7500,
          7400,
          7400,
          7400,
          7500,
          7300,
          7300,
          7300,
          7300,
          7300,
          7300,
          7300,
          7300,
          7300,
          7300,
          7400,
          7300,
          7200,
          7200,
          7200,
          7000,
          6800,
          6800,
          7000,
          7000,
          7100,
          7100,
          7000,
          7000,
          7000,
          7100,
          7000,
          7200,
          7200,
          7200,
          7200,
          7200,
          7400,
          7300,
          7200,
          7200,
          7100,
          7100,
          7100,
          7000,
          7000,
          7100,
          7200,
          7200,
          7200,
          7200,
          7400,
          7500,
          7500,
          7600,
          7500,
          7700,
          7900,
          9000,
          9500,
          10000,
          9700,
          10800,
          11700,
          11300,
          10300,
          9900,
          10800,
          11500,
          11600,
          11600,
          11600,
          10500,
          10500,
          10500,
          10000,
          10000,
          10100,
          10100,
          9900,
          10000,
          9900,
          10500,
          10400,
          10600,
          10500,
          10300,
          10500,
          10100,
          10000,
          9900,
          9600,
          9700,
          9400,
          9500,
          9600,
          9700,
          8400,
          9300,
          9100
         ]
        },
        {
         "line": {
          "color": "rgba(128, 0, 128, 1.0)",
          "dash": "solid",
          "shape": "linear",
          "width": 1.3
         },
         "mode": "lines",
         "name": "Close",
         "text": "",
         "type": "scatter",
         "x": [
          "2014-12-04",
          "2014-12-05",
          "2014-12-08",
          "2014-12-09",
          "2014-12-10",
          "2014-12-11",
          "2014-12-12",
          "2014-12-15",
          "2014-12-16",
          "2014-12-17",
          "2014-12-18",
          "2014-12-19",
          "2014-12-22",
          "2014-12-23",
          "2014-12-24",
          "2014-12-26",
          "2014-12-29",
          "2014-12-30",
          "2014-12-31",
          "2015-01-02",
          "2015-01-05",
          "2015-01-06",
          "2015-01-07",
          "2015-01-08",
          "2015-01-09",
          "2015-01-12",
          "2015-01-13",
          "2015-01-14",
          "2015-01-15",
          "2015-01-16",
          "2015-01-20",
          "2015-01-21",
          "2015-01-22",
          "2015-01-23",
          "2015-01-26",
          "2015-01-27",
          "2015-01-28",
          "2015-01-29",
          "2015-01-30",
          "2015-02-02",
          "2015-02-03",
          "2015-02-04",
          "2015-02-05",
          "2015-02-06",
          "2015-02-09",
          "2015-02-10",
          "2015-02-11",
          "2015-02-12",
          "2015-02-13",
          "2015-02-18",
          "2015-02-19",
          "2015-02-20",
          "2015-02-23",
          "2015-02-24",
          "2015-02-25",
          "2015-02-26",
          "2015-02-27",
          "2015-03-02",
          "2015-03-03",
          "2015-03-04",
          "2015-03-05",
          "2015-03-06",
          "2015-03-09",
          "2015-03-10",
          "2015-03-11",
          "2015-03-12",
          "2015-03-13",
          "2015-03-16",
          "2015-03-17",
          "2015-03-18",
          "2015-03-19",
          "2015-03-20",
          "2015-03-23",
          "2015-03-24",
          "2015-03-25",
          "2015-03-26",
          "2015-03-27",
          "2015-03-30",
          "2015-03-31",
          "2015-04-01",
          "2015-04-02",
          "2015-04-06",
          "2015-04-07",
          "2015-04-08",
          "2015-04-09",
          "2015-04-10",
          "2015-04-13",
          "2015-04-14",
          "2015-04-15",
          "2015-04-16",
          "2015-04-17",
          "2015-04-20",
          "2015-04-21",
          "2015-04-22",
          "2015-04-23",
          "2015-04-24",
          "2015-04-27",
          "2015-04-28",
          "2015-04-29",
          "2015-04-30",
          "2015-05-01",
          "2015-05-04",
          "2015-05-05",
          "2015-05-06",
          "2015-05-07",
          "2015-05-08",
          "2015-05-11",
          "2015-05-12",
          "2015-05-13",
          "2015-05-14",
          "2015-05-15",
          "2015-05-18",
          "2015-05-19",
          "2015-05-20",
          "2015-05-21",
          "2015-05-22",
          "2015-05-26",
          "2015-05-27",
          "2015-05-28",
          "2015-05-29",
          "2015-06-01",
          "2015-06-02",
          "2015-06-03",
          "2015-06-04",
          "2015-06-05",
          "2015-06-08",
          "2015-06-09",
          "2015-06-10",
          "2015-06-11",
          "2015-06-12",
          "2015-06-15",
          "2015-06-16",
          "2015-06-17",
          "2015-06-18",
          "2015-06-19",
          "2015-06-22",
          "2015-06-23",
          "2015-06-24",
          "2015-06-25",
          "2015-06-26",
          "2015-06-29",
          "2015-06-30",
          "2015-07-01",
          "2015-07-02",
          "2015-07-06",
          "2015-07-07",
          "2015-07-08",
          "2015-07-09",
          "2015-07-10",
          "2015-07-13",
          "2015-07-14",
          "2015-07-15",
          "2015-07-16",
          "2015-07-17",
          "2015-07-20",
          "2015-07-21",
          "2015-07-22",
          "2015-07-23",
          "2015-07-24",
          "2015-07-27",
          "2015-07-28",
          "2015-07-29",
          "2015-07-30",
          "2015-07-31",
          "2015-08-03",
          "2015-08-04",
          "2015-08-05",
          "2015-08-06",
          "2015-08-07",
          "2015-08-10",
          "2015-08-11",
          "2015-08-12",
          "2015-08-13",
          "2015-08-14",
          "2015-08-17",
          "2015-08-18",
          "2015-08-19",
          "2015-08-20",
          "2015-08-21",
          "2015-08-24",
          "2015-08-25",
          "2015-08-26",
          "2015-08-27",
          "2015-08-28",
          "2015-08-31",
          "2015-09-01",
          "2015-09-02",
          "2015-09-03",
          "2015-09-04",
          "2015-09-08",
          "2015-09-09",
          "2015-09-10",
          "2015-09-11",
          "2015-09-14",
          "2015-09-15",
          "2015-09-16",
          "2015-09-17",
          "2015-09-18",
          "2015-09-21",
          "2015-09-22",
          "2015-09-23",
          "2015-09-24",
          "2015-09-25",
          "2015-09-28",
          "2015-09-29",
          "2015-09-30",
          "2015-10-01",
          "2015-10-02",
          "2015-10-05",
          "2015-10-06",
          "2015-10-07",
          "2015-10-08",
          "2015-10-09",
          "2015-10-12",
          "2015-10-13",
          "2015-10-14",
          "2015-10-15",
          "2015-10-16",
          "2015-10-19",
          "2015-10-20",
          "2015-10-21",
          "2015-10-22",
          "2015-10-23",
          "2015-10-26",
          "2015-10-27",
          "2015-10-28",
          "2015-10-29",
          "2015-10-30",
          "2015-11-02",
          "2015-11-03",
          "2015-11-04",
          "2015-11-05",
          "2015-11-06",
          "2015-11-09",
          "2015-11-10",
          "2015-11-11",
          "2015-11-12",
          "2015-11-13",
          "2015-11-16",
          "2015-11-17",
          "2015-11-18",
          "2015-11-19",
          "2015-11-20",
          "2015-11-23",
          "2015-11-24",
          "2015-11-25",
          "2015-11-27",
          "2015-11-30",
          "2015-12-01",
          "2015-12-02",
          "2015-12-03",
          "2015-12-04",
          "2015-12-07",
          "2015-12-08",
          "2015-12-09",
          "2015-12-10",
          "2015-12-11",
          "2015-12-14",
          "2015-12-15",
          "2015-12-16",
          "2015-12-17",
          "2015-12-18",
          "2015-12-21",
          "2015-12-22",
          "2015-12-23",
          "2015-12-24",
          "2015-12-28",
          "2015-12-29",
          "2015-12-30",
          "2015-12-31",
          "2016-01-04",
          "2016-01-05",
          "2016-01-06",
          "2016-01-07",
          "2016-01-08",
          "2016-01-11",
          "2016-01-12",
          "2016-01-13",
          "2016-01-14",
          "2016-01-15",
          "2016-01-19",
          "2016-01-20",
          "2016-01-21",
          "2016-01-22",
          "2016-01-25",
          "2016-01-26",
          "2016-01-27",
          "2016-01-28",
          "2016-01-29",
          "2016-02-01",
          "2016-02-02",
          "2016-02-03",
          "2016-02-04",
          "2016-02-05",
          "2016-02-08",
          "2016-02-09",
          "2016-02-10",
          "2016-02-11",
          "2016-02-12",
          "2016-02-16",
          "2016-02-17",
          "2016-02-18",
          "2016-02-19",
          "2016-02-22",
          "2016-02-23",
          "2016-02-24",
          "2016-02-25",
          "2016-02-26",
          "2016-02-29",
          "2016-03-01",
          "2016-03-02",
          "2016-03-03",
          "2016-03-04",
          "2016-03-07",
          "2016-03-08",
          "2016-03-09",
          "2016-03-10",
          "2016-03-11",
          "2016-03-14",
          "2016-03-15",
          "2016-03-16",
          "2016-03-17",
          "2016-03-18",
          "2016-03-21",
          "2016-03-22",
          "2016-03-23",
          "2016-03-24",
          "2016-03-28",
          "2016-03-29",
          "2016-03-30",
          "2016-03-31",
          "2016-04-01",
          "2016-04-04",
          "2016-04-05",
          "2016-04-06",
          "2016-04-07",
          "2016-04-08",
          "2016-04-11",
          "2016-04-12",
          "2016-04-13",
          "2016-04-14",
          "2016-04-15",
          "2016-04-18",
          "2016-04-19",
          "2016-04-20",
          "2016-04-21",
          "2016-04-22",
          "2016-04-26",
          "2016-04-27",
          "2016-04-28",
          "2016-04-29",
          "2016-05-02",
          "2016-05-03",
          "2016-05-04",
          "2016-05-05",
          "2016-05-06",
          "2016-05-09",
          "2016-05-10",
          "2016-05-11",
          "2016-05-12",
          "2016-05-13",
          "2016-05-16",
          "2016-05-17",
          "2016-05-18",
          "2016-05-19",
          "2016-05-20",
          "2016-05-23",
          "2016-05-24",
          "2016-05-25",
          "2016-05-26",
          "2016-05-27",
          "2016-05-31",
          "2016-06-01",
          "2016-06-02",
          "2016-06-03",
          "2016-06-06",
          "2016-06-07",
          "2016-06-08",
          "2016-06-09",
          "2016-06-10",
          "2016-06-13",
          "2016-06-14",
          "2016-06-15",
          "2016-06-16",
          "2016-06-17",
          "2016-06-20",
          "2016-06-21",
          "2016-06-22",
          "2016-06-23",
          "2016-06-24",
          "2016-06-27",
          "2016-06-28",
          "2016-06-29",
          "2016-06-30",
          "2016-07-01",
          "2016-07-05",
          "2016-07-06",
          "2016-07-07",
          "2016-07-08",
          "2016-07-11",
          "2016-07-12",
          "2016-07-13",
          "2016-07-14",
          "2016-07-15",
          "2016-07-18",
          "2016-07-19",
          "2016-07-20",
          "2016-07-21",
          "2016-07-22",
          "2016-07-25",
          "2016-07-26",
          "2016-07-27",
          "2016-07-28",
          "2016-07-29",
          "2016-08-01",
          "2016-08-02",
          "2016-08-03",
          "2016-08-04",
          "2016-08-05",
          "2016-08-08",
          "2016-08-09",
          "2016-08-10",
          "2016-08-11",
          "2016-08-12",
          "2016-08-15",
          "2016-08-16",
          "2016-08-17",
          "2016-08-18",
          "2016-08-19",
          "2016-08-22",
          "2016-08-23",
          "2016-08-24",
          "2016-08-25",
          "2016-08-26",
          "2016-08-29",
          "2016-08-30",
          "2016-08-31",
          "2016-09-01",
          "2016-09-02",
          "2016-09-06",
          "2016-09-07",
          "2016-09-08",
          "2016-09-09",
          "2016-09-12",
          "2016-09-13",
          "2016-09-14",
          "2016-09-15",
          "2016-09-16",
          "2016-09-19",
          "2016-09-20",
          "2016-09-21",
          "2016-09-22",
          "2016-09-23",
          "2016-09-26",
          "2016-09-27",
          "2016-09-28",
          "2016-09-29",
          "2016-09-30",
          "2016-10-03",
          "2016-10-04",
          "2016-10-05",
          "2016-10-06",
          "2016-10-07",
          "2016-10-10",
          "2016-10-11",
          "2016-10-12",
          "2016-10-13",
          "2016-10-14",
          "2016-10-17",
          "2016-10-18",
          "2016-10-19",
          "2016-10-20",
          "2016-10-21",
          "2016-10-24",
          "2016-10-25",
          "2016-10-26",
          "2016-10-27",
          "2016-10-28",
          "2016-10-31",
          "2016-11-01",
          "2016-11-02",
          "2016-11-03",
          "2016-11-04",
          "2016-11-07",
          "2016-11-08",
          "2016-11-09",
          "2016-11-10",
          "2016-11-11",
          "2016-11-14",
          "2016-11-15",
          "2016-11-16",
          "2016-11-17",
          "2016-11-18",
          "2016-11-21",
          "2016-11-22",
          "2016-11-23",
          "2016-11-25",
          "2016-11-28",
          "2016-11-29",
          "2016-11-30",
          "2016-12-01",
          "2016-12-02",
          "2016-12-05",
          "2016-12-06",
          "2016-12-07",
          "2016-12-08",
          "2016-12-09",
          "2016-12-12",
          "2016-12-13",
          "2016-12-14",
          "2016-12-15",
          "2016-12-16",
          "2016-12-19",
          "2016-12-20",
          "2016-12-21",
          "2016-12-22",
          "2016-12-23",
          "2016-12-27",
          "2016-12-28",
          "2016-12-29",
          "2016-12-30",
          "2017-01-03",
          "2017-01-04",
          "2017-01-05",
          "2017-01-06",
          "2017-01-09",
          "2017-01-10",
          "2017-01-11",
          "2017-01-12",
          "2017-01-13",
          "2017-01-17",
          "2017-01-18",
          "2017-01-19",
          "2017-01-20",
          "2017-01-23",
          "2017-01-24",
          "2017-01-25",
          "2017-01-26",
          "2017-01-27",
          "2017-01-30",
          "2017-01-31",
          "2017-02-01",
          "2017-02-02",
          "2017-02-03",
          "2017-02-06",
          "2017-02-07",
          "2017-02-08",
          "2017-02-09",
          "2017-02-10",
          "2017-02-13",
          "2017-02-14",
          "2017-02-16",
          "2017-02-17",
          "2017-02-21",
          "2017-02-22",
          "2017-02-23",
          "2017-02-24",
          "2017-02-27",
          "2017-02-28",
          "2017-03-01",
          "2017-03-02",
          "2017-03-03",
          "2017-03-06",
          "2017-03-07",
          "2017-03-08",
          "2017-03-09",
          "2017-03-10",
          "2017-03-13",
          "2017-03-14",
          "2017-03-15",
          "2017-03-16",
          "2017-03-17",
          "2017-03-20",
          "2017-03-21",
          "2017-03-22",
          "2017-03-23",
          "2017-03-24",
          "2017-03-27",
          "2017-03-28",
          "2017-03-29",
          "2017-03-30",
          "2017-03-31",
          "2017-04-03",
          "2017-04-04",
          "2017-04-05",
          "2017-04-06",
          "2017-04-07",
          "2017-04-10",
          "2017-04-11",
          "2017-04-12",
          "2017-04-13",
          "2017-04-17",
          "2017-04-18",
          "2017-04-19",
          "2017-04-20",
          "2017-04-21",
          "2017-04-24",
          "2017-04-25",
          "2017-04-26",
          "2017-04-27",
          "2017-04-28",
          "2017-05-01",
          "2017-05-02",
          "2017-05-03",
          "2017-05-04",
          "2017-05-05",
          "2017-05-08",
          "2017-05-09",
          "2017-05-10",
          "2017-05-11",
          "2017-05-12",
          "2017-05-15",
          "2017-05-16",
          "2017-05-17",
          "2017-05-18",
          "2017-05-19",
          "2017-05-22",
          "2017-05-23",
          "2017-05-24",
          "2017-05-25",
          "2017-05-26",
          "2017-05-30",
          "2017-05-31",
          "2017-06-01",
          "2017-06-02",
          "2017-06-05",
          "2017-06-06",
          "2017-06-07",
          "2017-06-08",
          "2017-06-09",
          "2017-06-12",
          "2017-06-13",
          "2017-06-14",
          "2017-06-15",
          "2017-06-16",
          "2017-06-19",
          "2017-06-20",
          "2017-06-21",
          "2017-06-22",
          "2017-06-26",
          "2017-06-27",
          "2017-06-28",
          "2017-06-29",
          "2017-06-30",
          "2017-07-03",
          "2017-07-05",
          "2017-07-06",
          "2017-07-07",
          "2017-07-10",
          "2017-07-11",
          "2017-07-12",
          "2017-07-13",
          "2017-07-14",
          "2017-07-17",
          "2017-07-18",
          "2017-07-19",
          "2017-07-20",
          "2017-07-21",
          "2017-07-24",
          "2017-07-25",
          "2017-07-26",
          "2017-07-27",
          "2017-07-28",
          "2017-07-31",
          "2017-08-01",
          "2017-08-02",
          "2017-08-03",
          "2017-08-04",
          "2017-08-07",
          "2017-08-08",
          "2017-08-09",
          "2017-08-10",
          "2017-08-11",
          "2017-08-14",
          "2017-08-15",
          "2017-08-16",
          "2017-08-17",
          "2017-08-18",
          "2017-08-21",
          "2017-08-22",
          "2017-08-23",
          "2017-08-24",
          "2017-08-25",
          "2017-08-28",
          "2017-08-29",
          "2017-08-30",
          "2017-08-31",
          "2017-09-01",
          "2017-09-05",
          "2017-09-06",
          "2017-09-07",
          "2017-09-08",
          "2017-09-11",
          "2017-09-12",
          "2017-09-13",
          "2017-09-14",
          "2017-09-15",
          "2017-09-18",
          "2017-09-19",
          "2017-09-20",
          "2017-09-21",
          "2017-09-22",
          "2017-09-25",
          "2017-09-26",
          "2017-09-27",
          "2017-09-28",
          "2017-09-29",
          "2017-10-02",
          "2017-10-03",
          "2017-10-04",
          "2017-10-05",
          "2017-10-06",
          "2017-10-09",
          "2017-10-10",
          "2017-10-11",
          "2017-10-12",
          "2017-10-13",
          "2017-10-16",
          "2017-10-17",
          "2017-10-18",
          "2017-10-19",
          "2017-10-20",
          "2017-10-23",
          "2017-10-24",
          "2017-10-25",
          "2017-10-26",
          "2017-10-27",
          "2017-10-30",
          "2017-10-31",
          "2017-11-01",
          "2017-11-02",
          "2017-11-03",
          "2017-11-06",
          "2017-11-07",
          "2017-11-08",
          "2017-11-09",
          "2017-11-10",
          "2017-11-13",
          "2017-11-14",
          "2017-11-15",
          "2017-11-16",
          "2017-11-17",
          "2017-11-20",
          "2017-11-21",
          "2017-11-22",
          "2017-11-24",
          "2017-11-27",
          "2017-11-28",
          "2017-11-29",
          "2017-11-30",
          "2017-12-01",
          "2017-12-04",
          "2017-12-05",
          "2017-12-06",
          "2017-12-07",
          "2017-12-08",
          "2017-12-11",
          "2017-12-12",
          "2017-12-13",
          "2017-12-14",
          "2017-12-15",
          "2017-12-18",
          "2017-12-19",
          "2017-12-20",
          "2017-12-21",
          "2017-12-22",
          "2017-12-26",
          "2017-12-27",
          "2017-12-28",
          "2017-12-29",
          "2018-01-02",
          "2018-01-03",
          "2018-01-04",
          "2018-01-05",
          "2018-01-08",
          "2018-01-10",
          "2018-01-11",
          "2018-01-12",
          "2018-01-16",
          "2018-01-17",
          "2018-01-18",
          "2018-01-19",
          "2018-01-22",
          "2018-01-23",
          "2018-01-26",
          "2018-01-30",
          "2018-01-31"
         ],
         "y": [
          28447.69921875,
          26056.5,
          23582.80078125,
          21274,
          19295,
          17728.30078125,
          19047.599609375,
          19212.5,
          17480.900390625,
          16409,
          17563.400390625,
          16738.80078125,
          16821.30078125,
          18470.400390625,
          18800.19921875,
          17068.599609375,
          15914.2001953125,
          16409,
          16903.69921875,
          16903.69921875,
          16821.30078125,
          18470.400390625,
          19872.19921875,
          20119.599609375,
          20614.30078125,
          18965.19921875,
          19707.30078125,
          20119.599609375,
          22098.5,
          21521.30078125,
          21109,
          21109,
          21026.599609375,
          21851.19921875,
          22016.099609375,
          21438.900390625,
          21438.900390625,
          22758.19921875,
          22923.099609375,
          22840.69921875,
          22428.400390625,
          21356.400390625,
          20531.80078125,
          20614.30078125,
          19459.900390625,
          18635.30078125,
          19459.900390625,
          19212.5,
          18717.80078125,
          18717.80078125,
          18717.80078125,
          18717.80078125,
          18717.80078125,
          18717.80078125,
          17233.599609375,
          16491.400390625,
          16573.900390625,
          16409,
          16244.099609375,
          13440.5,
          13770.400390625,
          13110.7001953125,
          12698.400390625,
          13028.2001953125,
          12698.400390625,
          12945.7998046875,
          12945.7998046875,
          12698.400390625,
          13028.2001953125,
          12863.2998046875,
          12698.400390625,
          12698.400390625,
          12616,
          12616,
          12616,
          12616,
          12616,
          12616,
          12616,
          12616,
          12616,
          12616,
          12616,
          12616,
          12616,
          12616,
          12616,
          12616,
          12616,
          12616,
          12616,
          12616,
          12616,
          12616,
          12616,
          12616,
          12616,
          12616,
          12616,
          12616,
          12616,
          12616,
          12616,
          12616,
          12616,
          12616,
          12616,
          12616,
          12616,
          12616,
          12616,
          12616,
          12616,
          12616,
          7998.35009765625,
          8740.4697265625,
          8987.83984375,
          9647.5,
          10059.7998046875,
          9482.580078125,
          9565.0400390625,
          9647.5,
          9894.8701171875,
          10884.400390625,
          11544,
          11379.099609375,
          10801.900390625,
          10637,
          10472.099609375,
          10801.900390625,
          10637,
          9812.41015625,
          9317.669921875,
          9647.5,
          9317.669921875,
          9482.580078125,
          9400.1201171875,
          9070.2900390625,
          8658.009765625,
          9482.580078125,
          9894.8701171875,
          9235.2099609375,
          9317.669921875,
          9647.5,
          9812.41015625,
          9565.0400390625,
          9235.2099609375,
          9235.2099609375,
          8987.83984375,
          8575.5498046875,
          8822.919921875,
          8410.6396484375,
          8163.27001953125,
          8163.27001953125,
          7998.35009765625,
          7668.52001953125,
          7915.89013671875,
          7750.97998046875,
          7915.89013671875,
          7668.52001953125,
          7750.97998046875,
          7915.89013671875,
          8575.5498046875,
          8163.27001953125,
          7750.97998046875,
          7833.43994140625,
          8080.81005859375,
          7915.89013671875,
          7915.89013671875,
          7833.43994140625,
          7998.35009765625,
          7833.43994140625,
          7668.52001953125,
          7668.52001953125,
          7503.60986328125,
          7668.52001953125,
          7586.06005859375,
          7256.240234375,
          6843.9501953125,
          6184.2900390625,
          5772.009765625,
          6349.2099609375,
          6926.41015625,
          6926.41015625,
          6679.0400390625,
          6596.580078125,
          6596.580078125,
          6679.0400390625,
          6596.580078125,
          6761.490234375,
          6679.0400390625,
          6926.41015625,
          7091.31982421875,
          6761.490234375,
          6926.41015625,
          6926.41015625,
          6843.9501953125,
          6926.41015625,
          7091.31982421875,
          7437.64013671875,
          7619.0498046875,
          7800.4501953125,
          7619.0498046875,
          7256.240234375,
          7437.64013671875,
          7346.93994140625,
          7437.64013671875,
          7346.93994140625,
          7346.93994140625,
          7709.75,
          7437.64013671875,
          7619.0498046875,
          7528.33984375,
          7528.33984375,
          7437.64013671875,
          7346.93994140625,
          7346.93994140625,
          7346.93994140625,
          7346.93994140625,
          7256.240234375,
          6984.1298828125,
          7165.52978515625,
          7165.52978515625,
          6893.419921875,
          6893.419921875,
          6712.02001953125,
          6984.1298828125,
          6802.72021484375,
          6802.72021484375,
          6802.72021484375,
          6802.72021484375,
          6893.419921875,
          6621.31982421875,
          6621.31982421875,
          6530.60986328125,
          6349.2099609375,
          6349.2099609375,
          6258.5,
          6802.72021484375,
          6712.02001953125,
          6712.02001953125,
          6893.419921875,
          6893.419921875,
          7165.52978515625,
          7074.830078125,
          7437.64013671875,
          7074.830078125,
          6802.72021484375,
          6712.02001953125,
          6802.72021484375,
          6893.419921875,
          6802.72021484375,
          6802.72021484375,
          6802.72021484375,
          6712.02001953125,
          6439.91015625,
          6530.60986328125,
          6439.91015625,
          6712.02001953125,
          6621.31982421875,
          6621.31982421875,
          6530.60986328125,
          6439.91015625,
          6439.91015625,
          6349.2099609375,
          6349.2099609375,
          6077.10009765625,
          6167.7998046875,
          6258.5,
          6167.7998046875,
          6077.10009765625,
          5895.68994140625,
          5986.39013671875,
          5623.580078125,
          5351.47021484375,
          5351.47021484375,
          5804.990234375,
          5804.990234375,
          5532.8798828125,
          5351.47021484375,
          5170.06982421875,
          5260.77001953125,
          5260.77001953125,
          5442.18017578125,
          5895.68994140625,
          5532.8798828125,
          5804.990234375,
          5714.2900390625,
          5714.2900390625,
          5623.580078125,
          5532.8798828125,
          5532.8798828125,
          5532.8798828125,
          5714.2900390625,
          5714.2900390625,
          5714.2900390625,
          5714.2900390625,
          5714.2900390625,
          5714.2900390625,
          5714.2900390625,
          5714.2900390625,
          5804.990234375,
          5804.990234375,
          5804.990234375,
          5804.990234375,
          6167.7998046875,
          5895.68994140625,
          6077.10009765625,
          5986.39013671875,
          6077.10009765625,
          6258.5,
          6077.10009765625,
          6077.10009765625,
          6077.10009765625,
          6258.5,
          6167.7998046875,
          6258.5,
          6439.91015625,
          6530.60986328125,
          6349.2099609375,
          6439.91015625,
          6349.2099609375,
          6530.60986328125,
          6893.419921875,
          7256.240234375,
          7346.93994140625,
          7256.240234375,
          6984.1298828125,
          6712.02001953125,
          7074.830078125,
          6802.72021484375,
          7165.52978515625,
          6984.1298828125,
          7074.830078125,
          7074.830078125,
          6984.1298828125,
          7619.0498046875,
          7981.85986328125,
          8163.27001953125,
          8072.56005859375,
          8253.9697265625,
          8253.9697265625,
          8253.9697265625,
          8253.9697265625,
          7709.75,
          7709.75,
          7981.85986328125,
          7981.85986328125,
          7981.85986328125,
          7981.85986328125,
          7981.85986328125,
          7981.85986328125,
          7981.85986328125,
          7981.85986328125,
          7074.830078125,
          7074.830078125,
          6712.02001953125,
          6712.02001953125,
          6712.02001953125,
          6893.419921875,
          6802.72021484375,
          6802.72021484375,
          6802.72021484375,
          6802.72021484375,
          6802.72021484375,
          6802.72021484375,
          6712.02001953125,
          6802.72021484375,
          6802.72021484375,
          6802.72021484375,
          6984.1298828125,
          6984.1298828125,
          7074.830078125,
          7074.830078125,
          6984.1298828125,
          6984.1298828125,
          6893.419921875,
          6984.1298828125,
          6761.89990234375,
          6761.89990234375,
          6952.3798828125,
          7238.10009765625,
          7047.6201171875,
          7142.85986328125,
          7047.6201171875,
          6857.14013671875,
          6857.14013671875,
          6666.669921875,
          6666.669921875,
          6190.47998046875,
          6380.9501953125,
          6380.9501953125,
          6666.669921875,
          6571.43017578125,
          6476.18994140625,
          7238.10009765625,
          7428.56982421875,
          7428.56982421875,
          7333.330078125,
          6952.3798828125,
          7142.85986328125,
          7238.10009765625,
          6952.3798828125,
          7047.6201171875,
          7142.85986328125,
          7238.10009765625,
          7142.85986328125,
          6952.3798828125,
          7142.85986328125,
          7238.10009765625,
          7142.85986328125,
          6952.3798828125,
          6952.3798828125,
          6952.3798828125,
          6666.669921875,
          6380.9501953125,
          6571.43017578125,
          6476.18994140625,
          6285.7099609375,
          6190.47998046875,
          6380.9501953125,
          6380.9501953125,
          6476.18994140625,
          6285.7099609375,
          6285.7099609375,
          6380.9501953125,
          6285.7099609375,
          6285.7099609375,
          6095.240234375,
          5809.52001953125,
          5809.52001953125,
          5809.52001953125,
          5809.52001953125,
          6095.240234375,
          5809.52001953125,
          5904.759765625,
          5809.52001953125,
          5904.759765625,
          5904.759765625,
          5428.56982421875,
          5333.330078125,
          5428.56982421875,
          5714.2900390625,
          5619.0498046875,
          5428.56982421875,
          5142.85986328125,
          5333.330078125,
          5238.10009765625,
          5238.10009765625,
          5238.10009765625,
          5333.330078125,
          5333.330078125,
          5428.56982421875,
          5238.10009765625,
          5238.10009765625,
          5428.56982421875,
          5428.56982421875,
          5428.56982421875,
          5238.10009765625,
          5523.81005859375,
          5714.2900390625,
          5714.2900390625,
          5619.0498046875,
          5619.0498046875,
          5619.0498046875,
          5619.0498046875,
          5904.759765625,
          5809.52001953125,
          5904.759765625,
          5904.759765625,
          6000,
          6000,
          5904.759765625,
          5904.759765625,
          5904.759765625,
          5809.52001953125,
          5619.0498046875,
          5714.2900390625,
          5619.0498046875,
          5809.52001953125,
          5714.2900390625,
          5714.2900390625,
          5714.2900390625,
          5809.52001953125,
          5809.52001953125,
          5619.0498046875,
          5714.2900390625,
          5809.52001953125,
          5714.2900390625,
          5714.2900390625,
          5714.2900390625,
          5714.2900390625,
          5714.2900390625,
          5809.52001953125,
          5619.0498046875,
          5714.2900390625,
          5523.81005859375,
          5333.330078125,
          5428.56982421875,
          5238.10009765625,
          5238.10009765625,
          5238.10009765625,
          5428.56982421875,
          5333.330078125,
          5142.85986328125,
          5142.85986328125,
          5047.6201171875,
          4952.3798828125,
          5047.6201171875,
          5142.85986328125,
          5333.330078125,
          5238.10009765625,
          5523.81005859375,
          5333.330078125,
          5428.56982421875,
          5238.10009765625,
          5238.10009765625,
          5142.85986328125,
          5142.85986328125,
          5238.10009765625,
          5238.10009765625,
          5238.10009765625,
          5238.10009765625,
          5238.10009765625,
          5047.6201171875,
          5047.6201171875,
          4952.3798828125,
          5333.330078125,
          5238.10009765625,
          5047.6201171875,
          5142.85986328125,
          5619.0498046875,
          5523.81005859375,
          5523.81005859375,
          5523.81005859375,
          5714.2900390625,
          6095.240234375,
          6095.240234375,
          6095.240234375,
          6095.240234375,
          6095.240234375,
          6095.240234375,
          6095.240234375,
          5714.2900390625,
          6000,
          5809.52001953125,
          5619.0498046875,
          5714.2900390625,
          5619.0498046875,
          5809.52001953125,
          5523.81005859375,
          5523.81005859375,
          5714.2900390625,
          5904.759765625,
          6000,
          6000,
          5714.2900390625,
          5904.759765625,
          5809.52001953125,
          5714.2900390625,
          5714.2900390625,
          5714.2900390625,
          5619.0498046875,
          5619.0498046875,
          5619.0498046875,
          5619.0498046875,
          5619.0498046875,
          5714.2900390625,
          5619.0498046875,
          5619.0498046875,
          5809.52001953125,
          5904.759765625,
          6380.9501953125,
          6285.7099609375,
          6190.47998046875,
          6095.240234375,
          6190.47998046875,
          6190.47998046875,
          6285.7099609375,
          6285.7099609375,
          6285.7099609375,
          6000,
          5904.759765625,
          5714.2900390625,
          5809.52001953125,
          5809.52001953125,
          5714.2900390625,
          5904.759765625,
          5714.2900390625,
          5714.2900390625,
          5523.81005859375,
          5333.330078125,
          5619.0498046875,
          5428.56982421875,
          5428.56982421875,
          5714.2900390625,
          5904.759765625,
          5904.759765625,
          6000,
          6095.240234375,
          6000,
          6000,
          6000,
          6476.18994140625,
          6476.18994140625,
          6476.18994140625,
          6476.18994140625,
          6761.89990234375,
          6571.43017578125,
          6666.669921875,
          6666.669921875,
          6761.89990234375,
          6857.14013671875,
          6952.3798828125,
          6761.89990234375,
          6666.669921875,
          6476.18994140625,
          6190.47998046875,
          6285.7099609375,
          6571.43017578125,
          6380.9501953125,
          6000,
          6000,
          6095.240234375,
          6476.18994140625,
          6380.9501953125,
          6666.669921875,
          6571.43017578125,
          6800,
          6800,
          6800,
          7200,
          7100,
          7000,
          7000,
          6800,
          7100,
          7200,
          7000,
          7000,
          6900,
          6900,
          7200,
          7100,
          7500,
          8000,
          8000,
          7600,
          7300,
          7300,
          7000,
          7100,
          7100,
          6800,
          6900,
          6800,
          6800,
          6800,
          6700,
          6900,
          7000,
          7000,
          7100,
          7100,
          7100,
          7200,
          7800,
          7800,
          8000,
          7800,
          7600,
          7800,
          7900,
          7900,
          7600,
          7800,
          7500,
          7700,
          7800,
          7600,
          7100,
          7100,
          7700,
          7800,
          7500,
          7400,
          7800,
          7700,
          7500,
          7400,
          7600,
          7600,
          7300,
          7300,
          7600,
          7300,
          7300,
          7300,
          7300,
          7300,
          7300,
          7400,
          7400,
          7300,
          7300,
          7300,
          7200,
          7000,
          6800,
          7000,
          7000,
          7000,
          7200,
          7100,
          7000,
          7000,
          7200,
          7100,
          7300,
          7200,
          7200,
          7200,
          7300,
          7500,
          7600,
          7300,
          7400,
          7200,
          7300,
          7100,
          7200,
          7200,
          7300,
          7300,
          7200,
          7300,
          7300,
          7400,
          7600,
          7600,
          7700,
          7700,
          7600,
          8000,
          8400,
          9800,
          10300,
          10500,
          11100,
          11800,
          12500,
          11300,
          10600,
          11000,
          11700,
          12600,
          12800,
          12800,
          11600,
          11200,
          11300,
          10600,
          10000,
          10400,
          10500,
          10400,
          10300,
          10100,
          10700,
          10600,
          11000,
          10600,
          10500,
          10500,
          10600,
          10400,
          10000,
          9900,
          10000,
          9700,
          9700,
          9900,
          9800,
          9900,
          9300,
          9300,
          9300
         ]
        }
       ],
       "layout": {
        "legend": {
         "bgcolor": "#F5F6F9",
         "font": {
          "color": "#4D5663"
         }
        },
        "paper_bgcolor": "#F5F6F9",
        "plot_bgcolor": "#F5F6F9",
        "template": {
         "data": {
          "bar": [
           {
            "error_x": {
             "color": "#2a3f5f"
            },
            "error_y": {
             "color": "#2a3f5f"
            },
            "marker": {
             "line": {
              "color": "#E5ECF6",
              "width": 0.5
             },
             "pattern": {
              "fillmode": "overlay",
              "size": 10,
              "solidity": 0.2
             }
            },
            "type": "bar"
           }
          ],
          "barpolar": [
           {
            "marker": {
             "line": {
              "color": "#E5ECF6",
              "width": 0.5
             },
             "pattern": {
              "fillmode": "overlay",
              "size": 10,
              "solidity": 0.2
             }
            },
            "type": "barpolar"
           }
          ],
          "carpet": [
           {
            "aaxis": {
             "endlinecolor": "#2a3f5f",
             "gridcolor": "white",
             "linecolor": "white",
             "minorgridcolor": "white",
             "startlinecolor": "#2a3f5f"
            },
            "baxis": {
             "endlinecolor": "#2a3f5f",
             "gridcolor": "white",
             "linecolor": "white",
             "minorgridcolor": "white",
             "startlinecolor": "#2a3f5f"
            },
            "type": "carpet"
           }
          ],
          "choropleth": [
           {
            "colorbar": {
             "outlinewidth": 0,
             "ticks": ""
            },
            "type": "choropleth"
           }
          ],
          "contour": [
           {
            "colorbar": {
             "outlinewidth": 0,
             "ticks": ""
            },
            "colorscale": [
             [
              0,
              "#0d0887"
             ],
             [
              0.1111111111111111,
              "#46039f"
             ],
             [
              0.2222222222222222,
              "#7201a8"
             ],
             [
              0.3333333333333333,
              "#9c179e"
             ],
             [
              0.4444444444444444,
              "#bd3786"
             ],
             [
              0.5555555555555556,
              "#d8576b"
             ],
             [
              0.6666666666666666,
              "#ed7953"
             ],
             [
              0.7777777777777778,
              "#fb9f3a"
             ],
             [
              0.8888888888888888,
              "#fdca26"
             ],
             [
              1,
              "#f0f921"
             ]
            ],
            "type": "contour"
           }
          ],
          "contourcarpet": [
           {
            "colorbar": {
             "outlinewidth": 0,
             "ticks": ""
            },
            "type": "contourcarpet"
           }
          ],
          "heatmap": [
           {
            "colorbar": {
             "outlinewidth": 0,
             "ticks": ""
            },
            "colorscale": [
             [
              0,
              "#0d0887"
             ],
             [
              0.1111111111111111,
              "#46039f"
             ],
             [
              0.2222222222222222,
              "#7201a8"
             ],
             [
              0.3333333333333333,
              "#9c179e"
             ],
             [
              0.4444444444444444,
              "#bd3786"
             ],
             [
              0.5555555555555556,
              "#d8576b"
             ],
             [
              0.6666666666666666,
              "#ed7953"
             ],
             [
              0.7777777777777778,
              "#fb9f3a"
             ],
             [
              0.8888888888888888,
              "#fdca26"
             ],
             [
              1,
              "#f0f921"
             ]
            ],
            "type": "heatmap"
           }
          ],
          "heatmapgl": [
           {
            "colorbar": {
             "outlinewidth": 0,
             "ticks": ""
            },
            "colorscale": [
             [
              0,
              "#0d0887"
             ],
             [
              0.1111111111111111,
              "#46039f"
             ],
             [
              0.2222222222222222,
              "#7201a8"
             ],
             [
              0.3333333333333333,
              "#9c179e"
             ],
             [
              0.4444444444444444,
              "#bd3786"
             ],
             [
              0.5555555555555556,
              "#d8576b"
             ],
             [
              0.6666666666666666,
              "#ed7953"
             ],
             [
              0.7777777777777778,
              "#fb9f3a"
             ],
             [
              0.8888888888888888,
              "#fdca26"
             ],
             [
              1,
              "#f0f921"
             ]
            ],
            "type": "heatmapgl"
           }
          ],
          "histogram": [
           {
            "marker": {
             "pattern": {
              "fillmode": "overlay",
              "size": 10,
              "solidity": 0.2
             }
            },
            "type": "histogram"
           }
          ],
          "histogram2d": [
           {
            "colorbar": {
             "outlinewidth": 0,
             "ticks": ""
            },
            "colorscale": [
             [
              0,
              "#0d0887"
             ],
             [
              0.1111111111111111,
              "#46039f"
             ],
             [
              0.2222222222222222,
              "#7201a8"
             ],
             [
              0.3333333333333333,
              "#9c179e"
             ],
             [
              0.4444444444444444,
              "#bd3786"
             ],
             [
              0.5555555555555556,
              "#d8576b"
             ],
             [
              0.6666666666666666,
              "#ed7953"
             ],
             [
              0.7777777777777778,
              "#fb9f3a"
             ],
             [
              0.8888888888888888,
              "#fdca26"
             ],
             [
              1,
              "#f0f921"
             ]
            ],
            "type": "histogram2d"
           }
          ],
          "histogram2dcontour": [
           {
            "colorbar": {
             "outlinewidth": 0,
             "ticks": ""
            },
            "colorscale": [
             [
              0,
              "#0d0887"
             ],
             [
              0.1111111111111111,
              "#46039f"
             ],
             [
              0.2222222222222222,
              "#7201a8"
             ],
             [
              0.3333333333333333,
              "#9c179e"
             ],
             [
              0.4444444444444444,
              "#bd3786"
             ],
             [
              0.5555555555555556,
              "#d8576b"
             ],
             [
              0.6666666666666666,
              "#ed7953"
             ],
             [
              0.7777777777777778,
              "#fb9f3a"
             ],
             [
              0.8888888888888888,
              "#fdca26"
             ],
             [
              1,
              "#f0f921"
             ]
            ],
            "type": "histogram2dcontour"
           }
          ],
          "mesh3d": [
           {
            "colorbar": {
             "outlinewidth": 0,
             "ticks": ""
            },
            "type": "mesh3d"
           }
          ],
          "parcoords": [
           {
            "line": {
             "colorbar": {
              "outlinewidth": 0,
              "ticks": ""
             }
            },
            "type": "parcoords"
           }
          ],
          "pie": [
           {
            "automargin": true,
            "type": "pie"
           }
          ],
          "scatter": [
           {
            "fillpattern": {
             "fillmode": "overlay",
             "size": 10,
             "solidity": 0.2
            },
            "type": "scatter"
           }
          ],
          "scatter3d": [
           {
            "line": {
             "colorbar": {
              "outlinewidth": 0,
              "ticks": ""
             }
            },
            "marker": {
             "colorbar": {
              "outlinewidth": 0,
              "ticks": ""
             }
            },
            "type": "scatter3d"
           }
          ],
          "scattercarpet": [
           {
            "marker": {
             "colorbar": {
              "outlinewidth": 0,
              "ticks": ""
             }
            },
            "type": "scattercarpet"
           }
          ],
          "scattergeo": [
           {
            "marker": {
             "colorbar": {
              "outlinewidth": 0,
              "ticks": ""
             }
            },
            "type": "scattergeo"
           }
          ],
          "scattergl": [
           {
            "marker": {
             "colorbar": {
              "outlinewidth": 0,
              "ticks": ""
             }
            },
            "type": "scattergl"
           }
          ],
          "scattermapbox": [
           {
            "marker": {
             "colorbar": {
              "outlinewidth": 0,
              "ticks": ""
             }
            },
            "type": "scattermapbox"
           }
          ],
          "scatterpolar": [
           {
            "marker": {
             "colorbar": {
              "outlinewidth": 0,
              "ticks": ""
             }
            },
            "type": "scatterpolar"
           }
          ],
          "scatterpolargl": [
           {
            "marker": {
             "colorbar": {
              "outlinewidth": 0,
              "ticks": ""
             }
            },
            "type": "scatterpolargl"
           }
          ],
          "scatterternary": [
           {
            "marker": {
             "colorbar": {
              "outlinewidth": 0,
              "ticks": ""
             }
            },
            "type": "scatterternary"
           }
          ],
          "surface": [
           {
            "colorbar": {
             "outlinewidth": 0,
             "ticks": ""
            },
            "colorscale": [
             [
              0,
              "#0d0887"
             ],
             [
              0.1111111111111111,
              "#46039f"
             ],
             [
              0.2222222222222222,
              "#7201a8"
             ],
             [
              0.3333333333333333,
              "#9c179e"
             ],
             [
              0.4444444444444444,
              "#bd3786"
             ],
             [
              0.5555555555555556,
              "#d8576b"
             ],
             [
              0.6666666666666666,
              "#ed7953"
             ],
             [
              0.7777777777777778,
              "#fb9f3a"
             ],
             [
              0.8888888888888888,
              "#fdca26"
             ],
             [
              1,
              "#f0f921"
             ]
            ],
            "type": "surface"
           }
          ],
          "table": [
           {
            "cells": {
             "fill": {
              "color": "#EBF0F8"
             },
             "line": {
              "color": "white"
             }
            },
            "header": {
             "fill": {
              "color": "#C8D4E3"
             },
             "line": {
              "color": "white"
             }
            },
            "type": "table"
           }
          ]
         },
         "layout": {
          "annotationdefaults": {
           "arrowcolor": "#2a3f5f",
           "arrowhead": 0,
           "arrowwidth": 1
          },
          "autotypenumbers": "strict",
          "coloraxis": {
           "colorbar": {
            "outlinewidth": 0,
            "ticks": ""
           }
          },
          "colorscale": {
           "diverging": [
            [
             0,
             "#8e0152"
            ],
            [
             0.1,
             "#c51b7d"
            ],
            [
             0.2,
             "#de77ae"
            ],
            [
             0.3,
             "#f1b6da"
            ],
            [
             0.4,
             "#fde0ef"
            ],
            [
             0.5,
             "#f7f7f7"
            ],
            [
             0.6,
             "#e6f5d0"
            ],
            [
             0.7,
             "#b8e186"
            ],
            [
             0.8,
             "#7fbc41"
            ],
            [
             0.9,
             "#4d9221"
            ],
            [
             1,
             "#276419"
            ]
           ],
           "sequential": [
            [
             0,
             "#0d0887"
            ],
            [
             0.1111111111111111,
             "#46039f"
            ],
            [
             0.2222222222222222,
             "#7201a8"
            ],
            [
             0.3333333333333333,
             "#9c179e"
            ],
            [
             0.4444444444444444,
             "#bd3786"
            ],
            [
             0.5555555555555556,
             "#d8576b"
            ],
            [
             0.6666666666666666,
             "#ed7953"
            ],
            [
             0.7777777777777778,
             "#fb9f3a"
            ],
            [
             0.8888888888888888,
             "#fdca26"
            ],
            [
             1,
             "#f0f921"
            ]
           ],
           "sequentialminus": [
            [
             0,
             "#0d0887"
            ],
            [
             0.1111111111111111,
             "#46039f"
            ],
            [
             0.2222222222222222,
             "#7201a8"
            ],
            [
             0.3333333333333333,
             "#9c179e"
            ],
            [
             0.4444444444444444,
             "#bd3786"
            ],
            [
             0.5555555555555556,
             "#d8576b"
            ],
            [
             0.6666666666666666,
             "#ed7953"
            ],
            [
             0.7777777777777778,
             "#fb9f3a"
            ],
            [
             0.8888888888888888,
             "#fdca26"
            ],
            [
             1,
             "#f0f921"
            ]
           ]
          },
          "colorway": [
           "#636efa",
           "#EF553B",
           "#00cc96",
           "#ab63fa",
           "#FFA15A",
           "#19d3f3",
           "#FF6692",
           "#B6E880",
           "#FF97FF",
           "#FECB52"
          ],
          "font": {
           "color": "#2a3f5f"
          },
          "geo": {
           "bgcolor": "white",
           "lakecolor": "white",
           "landcolor": "#E5ECF6",
           "showlakes": true,
           "showland": true,
           "subunitcolor": "white"
          },
          "hoverlabel": {
           "align": "left"
          },
          "hovermode": "closest",
          "mapbox": {
           "style": "light"
          },
          "paper_bgcolor": "white",
          "plot_bgcolor": "#E5ECF6",
          "polar": {
           "angularaxis": {
            "gridcolor": "white",
            "linecolor": "white",
            "ticks": ""
           },
           "bgcolor": "#E5ECF6",
           "radialaxis": {
            "gridcolor": "white",
            "linecolor": "white",
            "ticks": ""
           }
          },
          "scene": {
           "xaxis": {
            "backgroundcolor": "#E5ECF6",
            "gridcolor": "white",
            "gridwidth": 2,
            "linecolor": "white",
            "showbackground": true,
            "ticks": "",
            "zerolinecolor": "white"
           },
           "yaxis": {
            "backgroundcolor": "#E5ECF6",
            "gridcolor": "white",
            "gridwidth": 2,
            "linecolor": "white",
            "showbackground": true,
            "ticks": "",
            "zerolinecolor": "white"
           },
           "zaxis": {
            "backgroundcolor": "#E5ECF6",
            "gridcolor": "white",
            "gridwidth": 2,
            "linecolor": "white",
            "showbackground": true,
            "ticks": "",
            "zerolinecolor": "white"
           }
          },
          "shapedefaults": {
           "line": {
            "color": "#2a3f5f"
           }
          },
          "ternary": {
           "aaxis": {
            "gridcolor": "white",
            "linecolor": "white",
            "ticks": ""
           },
           "baxis": {
            "gridcolor": "white",
            "linecolor": "white",
            "ticks": ""
           },
           "bgcolor": "#E5ECF6",
           "caxis": {
            "gridcolor": "white",
            "linecolor": "white",
            "ticks": ""
           }
          },
          "title": {
           "x": 0.05
          },
          "xaxis": {
           "automargin": true,
           "gridcolor": "white",
           "linecolor": "white",
           "ticks": "",
           "title": {
            "standoff": 15
           },
           "zerolinecolor": "white",
           "zerolinewidth": 2
          },
          "yaxis": {
           "automargin": true,
           "gridcolor": "white",
           "linecolor": "white",
           "ticks": "",
           "title": {
            "standoff": 15
           },
           "zerolinecolor": "white",
           "zerolinewidth": 2
          }
         }
        },
        "title": {
         "font": {
          "color": "#4D5663"
         },
         "text": "CBOE Volatily Index"
        },
        "xaxis": {
         "gridcolor": "#E1E5ED",
         "showgrid": true,
         "tickfont": {
          "color": "#4D5663"
         },
         "title": {
          "font": {
           "color": "#4D5663"
          },
          "text": ""
         },
         "zerolinecolor": "#E1E5ED"
        },
        "yaxis": {
         "gridcolor": "#E1E5ED",
         "showgrid": true,
         "tickfont": {
          "color": "#4D5663"
         },
         "title": {
          "font": {
           "color": "#4D5663"
          },
          "text": ""
         },
         "zerolinecolor": "#E1E5ED"
        }
       }
      },
      "text/html": [
       "<div>                            <div id=\"18a1f820-73b5-4a5a-99c2-00eb8bdce6af\" class=\"plotly-graph-div\" style=\"height:525px; width:100%;\"></div>            <script type=\"text/javascript\">                require([\"plotly\"], function(Plotly) {                    window.PLOTLYENV=window.PLOTLYENV || {};\n",
       "                    window.PLOTLYENV.BASE_URL='https://plot.ly';                                    if (document.getElementById(\"18a1f820-73b5-4a5a-99c2-00eb8bdce6af\")) {                    Plotly.newPlot(                        \"18a1f820-73b5-4a5a-99c2-00eb8bdce6af\",                        [{\"line\":{\"color\":\"rgba(255, 153, 51, 1.0)\",\"dash\":\"solid\",\"shape\":\"linear\",\"width\":1.3},\"mode\":\"lines\",\"name\":\"Open\",\"text\":\"\",\"x\":[\"2014-12-04\",\"2014-12-05\",\"2014-12-08\",\"2014-12-09\",\"2014-12-10\",\"2014-12-11\",\"2014-12-12\",\"2014-12-15\",\"2014-12-16\",\"2014-12-17\",\"2014-12-18\",\"2014-12-19\",\"2014-12-22\",\"2014-12-23\",\"2014-12-24\",\"2014-12-26\",\"2014-12-29\",\"2014-12-30\",\"2014-12-31\",\"2015-01-02\",\"2015-01-05\",\"2015-01-06\",\"2015-01-07\",\"2015-01-08\",\"2015-01-09\",\"2015-01-12\",\"2015-01-13\",\"2015-01-14\",\"2015-01-15\",\"2015-01-16\",\"2015-01-20\",\"2015-01-21\",\"2015-01-22\",\"2015-01-23\",\"2015-01-26\",\"2015-01-27\",\"2015-01-28\",\"2015-01-29\",\"2015-01-30\",\"2015-02-02\",\"2015-02-03\",\"2015-02-04\",\"2015-02-05\",\"2015-02-06\",\"2015-02-09\",\"2015-02-10\",\"2015-02-11\",\"2015-02-12\",\"2015-02-13\",\"2015-02-18\",\"2015-02-19\",\"2015-02-20\",\"2015-02-23\",\"2015-02-24\",\"2015-02-25\",\"2015-02-26\",\"2015-02-27\",\"2015-03-02\",\"2015-03-03\",\"2015-03-04\",\"2015-03-05\",\"2015-03-06\",\"2015-03-09\",\"2015-03-10\",\"2015-03-11\",\"2015-03-12\",\"2015-03-13\",\"2015-03-16\",\"2015-03-17\",\"2015-03-18\",\"2015-03-19\",\"2015-03-20\",\"2015-03-23\",\"2015-03-24\",\"2015-03-25\",\"2015-03-26\",\"2015-03-27\",\"2015-03-30\",\"2015-03-31\",\"2015-04-01\",\"2015-04-02\",\"2015-04-06\",\"2015-04-07\",\"2015-04-08\",\"2015-04-09\",\"2015-04-10\",\"2015-04-13\",\"2015-04-14\",\"2015-04-15\",\"2015-04-16\",\"2015-04-17\",\"2015-04-20\",\"2015-04-21\",\"2015-04-22\",\"2015-04-23\",\"2015-04-24\",\"2015-04-27\",\"2015-04-28\",\"2015-04-29\",\"2015-04-30\",\"2015-05-01\",\"2015-05-04\",\"2015-05-05\",\"2015-05-06\",\"2015-05-07\",\"2015-05-08\",\"2015-05-11\",\"2015-05-12\",\"2015-05-13\",\"2015-05-14\",\"2015-05-15\",\"2015-05-18\",\"2015-05-19\",\"2015-05-20\",\"2015-05-21\",\"2015-05-22\",\"2015-05-26\",\"2015-05-27\",\"2015-05-28\",\"2015-05-29\",\"2015-06-01\",\"2015-06-02\",\"2015-06-03\",\"2015-06-04\",\"2015-06-05\",\"2015-06-08\",\"2015-06-09\",\"2015-06-10\",\"2015-06-11\",\"2015-06-12\",\"2015-06-15\",\"2015-06-16\",\"2015-06-17\",\"2015-06-18\",\"2015-06-19\",\"2015-06-22\",\"2015-06-23\",\"2015-06-24\",\"2015-06-25\",\"2015-06-26\",\"2015-06-29\",\"2015-06-30\",\"2015-07-01\",\"2015-07-02\",\"2015-07-06\",\"2015-07-07\",\"2015-07-08\",\"2015-07-09\",\"2015-07-10\",\"2015-07-13\",\"2015-07-14\",\"2015-07-15\",\"2015-07-16\",\"2015-07-17\",\"2015-07-20\",\"2015-07-21\",\"2015-07-22\",\"2015-07-23\",\"2015-07-24\",\"2015-07-27\",\"2015-07-28\",\"2015-07-29\",\"2015-07-30\",\"2015-07-31\",\"2015-08-03\",\"2015-08-04\",\"2015-08-05\",\"2015-08-06\",\"2015-08-07\",\"2015-08-10\",\"2015-08-11\",\"2015-08-12\",\"2015-08-13\",\"2015-08-14\",\"2015-08-17\",\"2015-08-18\",\"2015-08-19\",\"2015-08-20\",\"2015-08-21\",\"2015-08-24\",\"2015-08-25\",\"2015-08-26\",\"2015-08-27\",\"2015-08-28\",\"2015-08-31\",\"2015-09-01\",\"2015-09-02\",\"2015-09-03\",\"2015-09-04\",\"2015-09-08\",\"2015-09-09\",\"2015-09-10\",\"2015-09-11\",\"2015-09-14\",\"2015-09-15\",\"2015-09-16\",\"2015-09-17\",\"2015-09-18\",\"2015-09-21\",\"2015-09-22\",\"2015-09-23\",\"2015-09-24\",\"2015-09-25\",\"2015-09-28\",\"2015-09-29\",\"2015-09-30\",\"2015-10-01\",\"2015-10-02\",\"2015-10-05\",\"2015-10-06\",\"2015-10-07\",\"2015-10-08\",\"2015-10-09\",\"2015-10-12\",\"2015-10-13\",\"2015-10-14\",\"2015-10-15\",\"2015-10-16\",\"2015-10-19\",\"2015-10-20\",\"2015-10-21\",\"2015-10-22\",\"2015-10-23\",\"2015-10-26\",\"2015-10-27\",\"2015-10-28\",\"2015-10-29\",\"2015-10-30\",\"2015-11-02\",\"2015-11-03\",\"2015-11-04\",\"2015-11-05\",\"2015-11-06\",\"2015-11-09\",\"2015-11-10\",\"2015-11-11\",\"2015-11-12\",\"2015-11-13\",\"2015-11-16\",\"2015-11-17\",\"2015-11-18\",\"2015-11-19\",\"2015-11-20\",\"2015-11-23\",\"2015-11-24\",\"2015-11-25\",\"2015-11-27\",\"2015-11-30\",\"2015-12-01\",\"2015-12-02\",\"2015-12-03\",\"2015-12-04\",\"2015-12-07\",\"2015-12-08\",\"2015-12-09\",\"2015-12-10\",\"2015-12-11\",\"2015-12-14\",\"2015-12-15\",\"2015-12-16\",\"2015-12-17\",\"2015-12-18\",\"2015-12-21\",\"2015-12-22\",\"2015-12-23\",\"2015-12-24\",\"2015-12-28\",\"2015-12-29\",\"2015-12-30\",\"2015-12-31\",\"2016-01-04\",\"2016-01-05\",\"2016-01-06\",\"2016-01-07\",\"2016-01-08\",\"2016-01-11\",\"2016-01-12\",\"2016-01-13\",\"2016-01-14\",\"2016-01-15\",\"2016-01-19\",\"2016-01-20\",\"2016-01-21\",\"2016-01-22\",\"2016-01-25\",\"2016-01-26\",\"2016-01-27\",\"2016-01-28\",\"2016-01-29\",\"2016-02-01\",\"2016-02-02\",\"2016-02-03\",\"2016-02-04\",\"2016-02-05\",\"2016-02-08\",\"2016-02-09\",\"2016-02-10\",\"2016-02-11\",\"2016-02-12\",\"2016-02-16\",\"2016-02-17\",\"2016-02-18\",\"2016-02-19\",\"2016-02-22\",\"2016-02-23\",\"2016-02-24\",\"2016-02-25\",\"2016-02-26\",\"2016-02-29\",\"2016-03-01\",\"2016-03-02\",\"2016-03-03\",\"2016-03-04\",\"2016-03-07\",\"2016-03-08\",\"2016-03-09\",\"2016-03-10\",\"2016-03-11\",\"2016-03-14\",\"2016-03-15\",\"2016-03-16\",\"2016-03-17\",\"2016-03-18\",\"2016-03-21\",\"2016-03-22\",\"2016-03-23\",\"2016-03-24\",\"2016-03-28\",\"2016-03-29\",\"2016-03-30\",\"2016-03-31\",\"2016-04-01\",\"2016-04-04\",\"2016-04-05\",\"2016-04-06\",\"2016-04-07\",\"2016-04-08\",\"2016-04-11\",\"2016-04-12\",\"2016-04-13\",\"2016-04-14\",\"2016-04-15\",\"2016-04-18\",\"2016-04-19\",\"2016-04-20\",\"2016-04-21\",\"2016-04-22\",\"2016-04-26\",\"2016-04-27\",\"2016-04-28\",\"2016-04-29\",\"2016-05-02\",\"2016-05-03\",\"2016-05-04\",\"2016-05-05\",\"2016-05-06\",\"2016-05-09\",\"2016-05-10\",\"2016-05-11\",\"2016-05-12\",\"2016-05-13\",\"2016-05-16\",\"2016-05-17\",\"2016-05-18\",\"2016-05-19\",\"2016-05-20\",\"2016-05-23\",\"2016-05-24\",\"2016-05-25\",\"2016-05-26\",\"2016-05-27\",\"2016-05-31\",\"2016-06-01\",\"2016-06-02\",\"2016-06-03\",\"2016-06-06\",\"2016-06-07\",\"2016-06-08\",\"2016-06-09\",\"2016-06-10\",\"2016-06-13\",\"2016-06-14\",\"2016-06-15\",\"2016-06-16\",\"2016-06-17\",\"2016-06-20\",\"2016-06-21\",\"2016-06-22\",\"2016-06-23\",\"2016-06-24\",\"2016-06-27\",\"2016-06-28\",\"2016-06-29\",\"2016-06-30\",\"2016-07-01\",\"2016-07-05\",\"2016-07-06\",\"2016-07-07\",\"2016-07-08\",\"2016-07-11\",\"2016-07-12\",\"2016-07-13\",\"2016-07-14\",\"2016-07-15\",\"2016-07-18\",\"2016-07-19\",\"2016-07-20\",\"2016-07-21\",\"2016-07-22\",\"2016-07-25\",\"2016-07-26\",\"2016-07-27\",\"2016-07-28\",\"2016-07-29\",\"2016-08-01\",\"2016-08-02\",\"2016-08-03\",\"2016-08-04\",\"2016-08-05\",\"2016-08-08\",\"2016-08-09\",\"2016-08-10\",\"2016-08-11\",\"2016-08-12\",\"2016-08-15\",\"2016-08-16\",\"2016-08-17\",\"2016-08-18\",\"2016-08-19\",\"2016-08-22\",\"2016-08-23\",\"2016-08-24\",\"2016-08-25\",\"2016-08-26\",\"2016-08-29\",\"2016-08-30\",\"2016-08-31\",\"2016-09-01\",\"2016-09-02\",\"2016-09-06\",\"2016-09-07\",\"2016-09-08\",\"2016-09-09\",\"2016-09-12\",\"2016-09-13\",\"2016-09-14\",\"2016-09-15\",\"2016-09-16\",\"2016-09-19\",\"2016-09-20\",\"2016-09-21\",\"2016-09-22\",\"2016-09-23\",\"2016-09-26\",\"2016-09-27\",\"2016-09-28\",\"2016-09-29\",\"2016-09-30\",\"2016-10-03\",\"2016-10-04\",\"2016-10-05\",\"2016-10-06\",\"2016-10-07\",\"2016-10-10\",\"2016-10-11\",\"2016-10-12\",\"2016-10-13\",\"2016-10-14\",\"2016-10-17\",\"2016-10-18\",\"2016-10-19\",\"2016-10-20\",\"2016-10-21\",\"2016-10-24\",\"2016-10-25\",\"2016-10-26\",\"2016-10-27\",\"2016-10-28\",\"2016-10-31\",\"2016-11-01\",\"2016-11-02\",\"2016-11-03\",\"2016-11-04\",\"2016-11-07\",\"2016-11-08\",\"2016-11-09\",\"2016-11-10\",\"2016-11-11\",\"2016-11-14\",\"2016-11-15\",\"2016-11-16\",\"2016-11-17\",\"2016-11-18\",\"2016-11-21\",\"2016-11-22\",\"2016-11-23\",\"2016-11-25\",\"2016-11-28\",\"2016-11-29\",\"2016-11-30\",\"2016-12-01\",\"2016-12-02\",\"2016-12-05\",\"2016-12-06\",\"2016-12-07\",\"2016-12-08\",\"2016-12-09\",\"2016-12-12\",\"2016-12-13\",\"2016-12-14\",\"2016-12-15\",\"2016-12-16\",\"2016-12-19\",\"2016-12-20\",\"2016-12-21\",\"2016-12-22\",\"2016-12-23\",\"2016-12-27\",\"2016-12-28\",\"2016-12-29\",\"2016-12-30\",\"2017-01-03\",\"2017-01-04\",\"2017-01-05\",\"2017-01-06\",\"2017-01-09\",\"2017-01-10\",\"2017-01-11\",\"2017-01-12\",\"2017-01-13\",\"2017-01-17\",\"2017-01-18\",\"2017-01-19\",\"2017-01-20\",\"2017-01-23\",\"2017-01-24\",\"2017-01-25\",\"2017-01-26\",\"2017-01-27\",\"2017-01-30\",\"2017-01-31\",\"2017-02-01\",\"2017-02-02\",\"2017-02-03\",\"2017-02-06\",\"2017-02-07\",\"2017-02-08\",\"2017-02-09\",\"2017-02-10\",\"2017-02-13\",\"2017-02-14\",\"2017-02-16\",\"2017-02-17\",\"2017-02-21\",\"2017-02-22\",\"2017-02-23\",\"2017-02-24\",\"2017-02-27\",\"2017-02-28\",\"2017-03-01\",\"2017-03-02\",\"2017-03-03\",\"2017-03-06\",\"2017-03-07\",\"2017-03-08\",\"2017-03-09\",\"2017-03-10\",\"2017-03-13\",\"2017-03-14\",\"2017-03-15\",\"2017-03-16\",\"2017-03-17\",\"2017-03-20\",\"2017-03-21\",\"2017-03-22\",\"2017-03-23\",\"2017-03-24\",\"2017-03-27\",\"2017-03-28\",\"2017-03-29\",\"2017-03-30\",\"2017-03-31\",\"2017-04-03\",\"2017-04-04\",\"2017-04-05\",\"2017-04-06\",\"2017-04-07\",\"2017-04-10\",\"2017-04-11\",\"2017-04-12\",\"2017-04-13\",\"2017-04-17\",\"2017-04-18\",\"2017-04-19\",\"2017-04-20\",\"2017-04-21\",\"2017-04-24\",\"2017-04-25\",\"2017-04-26\",\"2017-04-27\",\"2017-04-28\",\"2017-05-01\",\"2017-05-02\",\"2017-05-03\",\"2017-05-04\",\"2017-05-05\",\"2017-05-08\",\"2017-05-09\",\"2017-05-10\",\"2017-05-11\",\"2017-05-12\",\"2017-05-15\",\"2017-05-16\",\"2017-05-17\",\"2017-05-18\",\"2017-05-19\",\"2017-05-22\",\"2017-05-23\",\"2017-05-24\",\"2017-05-25\",\"2017-05-26\",\"2017-05-30\",\"2017-05-31\",\"2017-06-01\",\"2017-06-02\",\"2017-06-05\",\"2017-06-06\",\"2017-06-07\",\"2017-06-08\",\"2017-06-09\",\"2017-06-12\",\"2017-06-13\",\"2017-06-14\",\"2017-06-15\",\"2017-06-16\",\"2017-06-19\",\"2017-06-20\",\"2017-06-21\",\"2017-06-22\",\"2017-06-26\",\"2017-06-27\",\"2017-06-28\",\"2017-06-29\",\"2017-06-30\",\"2017-07-03\",\"2017-07-05\",\"2017-07-06\",\"2017-07-07\",\"2017-07-10\",\"2017-07-11\",\"2017-07-12\",\"2017-07-13\",\"2017-07-14\",\"2017-07-17\",\"2017-07-18\",\"2017-07-19\",\"2017-07-20\",\"2017-07-21\",\"2017-07-24\",\"2017-07-25\",\"2017-07-26\",\"2017-07-27\",\"2017-07-28\",\"2017-07-31\",\"2017-08-01\",\"2017-08-02\",\"2017-08-03\",\"2017-08-04\",\"2017-08-07\",\"2017-08-08\",\"2017-08-09\",\"2017-08-10\",\"2017-08-11\",\"2017-08-14\",\"2017-08-15\",\"2017-08-16\",\"2017-08-17\",\"2017-08-18\",\"2017-08-21\",\"2017-08-22\",\"2017-08-23\",\"2017-08-24\",\"2017-08-25\",\"2017-08-28\",\"2017-08-29\",\"2017-08-30\",\"2017-08-31\",\"2017-09-01\",\"2017-09-05\",\"2017-09-06\",\"2017-09-07\",\"2017-09-08\",\"2017-09-11\",\"2017-09-12\",\"2017-09-13\",\"2017-09-14\",\"2017-09-15\",\"2017-09-18\",\"2017-09-19\",\"2017-09-20\",\"2017-09-21\",\"2017-09-22\",\"2017-09-25\",\"2017-09-26\",\"2017-09-27\",\"2017-09-28\",\"2017-09-29\",\"2017-10-02\",\"2017-10-03\",\"2017-10-04\",\"2017-10-05\",\"2017-10-06\",\"2017-10-09\",\"2017-10-10\",\"2017-10-11\",\"2017-10-12\",\"2017-10-13\",\"2017-10-16\",\"2017-10-17\",\"2017-10-18\",\"2017-10-19\",\"2017-10-20\",\"2017-10-23\",\"2017-10-24\",\"2017-10-25\",\"2017-10-26\",\"2017-10-27\",\"2017-10-30\",\"2017-10-31\",\"2017-11-01\",\"2017-11-02\",\"2017-11-03\",\"2017-11-06\",\"2017-11-07\",\"2017-11-08\",\"2017-11-09\",\"2017-11-10\",\"2017-11-13\",\"2017-11-14\",\"2017-11-15\",\"2017-11-16\",\"2017-11-17\",\"2017-11-20\",\"2017-11-21\",\"2017-11-22\",\"2017-11-24\",\"2017-11-27\",\"2017-11-28\",\"2017-11-29\",\"2017-11-30\",\"2017-12-01\",\"2017-12-04\",\"2017-12-05\",\"2017-12-06\",\"2017-12-07\",\"2017-12-08\",\"2017-12-11\",\"2017-12-12\",\"2017-12-13\",\"2017-12-14\",\"2017-12-15\",\"2017-12-18\",\"2017-12-19\",\"2017-12-20\",\"2017-12-21\",\"2017-12-22\",\"2017-12-26\",\"2017-12-27\",\"2017-12-28\",\"2017-12-29\",\"2018-01-02\",\"2018-01-03\",\"2018-01-04\",\"2018-01-05\",\"2018-01-08\",\"2018-01-10\",\"2018-01-11\",\"2018-01-12\",\"2018-01-16\",\"2018-01-17\",\"2018-01-18\",\"2018-01-19\",\"2018-01-22\",\"2018-01-23\",\"2018-01-26\",\"2018-01-30\",\"2018-01-31\"],\"y\":[28200.400390625,26551.19921875,25231.900390625,23582.80078125,19789.69921875,18635.30078125,17645.80078125,19377.400390625,18552.900390625,16573.900390625,16491.400390625,17316.0,16491.400390625,16491.400390625,19954.599609375,17893.19921875,16491.400390625,15666.900390625,15914.2001953125,16903.69921875,16491.400390625,16491.400390625,20284.5,19377.400390625,20614.30078125,21026.599609375,18140.599609375,18965.19921875,20119.599609375,22428.400390625,21109.0,21109.0,21191.5,21851.19921875,22181.0,22016.099609375,21026.599609375,21026.599609375,21933.599609375,22263.5,22263.5,22428.400390625,21109.0,20202.0,20614.30078125,20202.0,17810.80078125,19130.099609375,18965.19921875,18717.80078125,18717.80078125,18717.80078125,18717.80078125,18717.80078125,18223.0,17068.599609375,16573.900390625,16244.099609375,16244.099609375,13440.5,14759.7998046875,13770.400390625,12945.7998046875,12451.0,12863.2998046875,12533.5,12780.900390625,12945.7998046875,12451.0,12863.2998046875,12698.400390625,12451.0,12616.0,12616.0,12616.0,12616.0,12616.0,12616.0,12616.0,12616.0,12616.0,12616.0,12616.0,12616.0,12616.0,12616.0,12616.0,12616.0,12616.0,12616.0,12616.0,12616.0,12616.0,12616.0,12616.0,12616.0,12616.0,12616.0,12616.0,12616.0,12616.0,12616.0,12616.0,12616.0,12616.0,12616.0,12616.0,12616.0,12616.0,12616.0,12616.0,12616.0,12616.0,12616.0,7668.52001953125,8245.7197265625,10389.599609375,9070.2900390625,9894.8701171875,10142.2001953125,9482.580078125,9565.0400390625,9729.9501953125,9894.8701171875,11379.099609375,11791.400390625,11379.099609375,10389.599609375,10637.0,10719.400390625,10801.900390625,10637.0,9812.41015625,8658.009765625,9565.0400390625,9317.669921875,9317.669921875,9152.75,9070.2900390625,8987.83984375,10059.7998046875,9812.41015625,9070.2900390625,9482.580078125,9400.1201171875,9647.5,9400.1201171875,9070.2900390625,9235.2099609375,8740.4697265625,8163.27001953125,7998.35009765625,7586.06005859375,7421.14990234375,8080.81005859375,7750.97998046875,7586.06005859375,7998.35009765625,7421.14990234375,7173.77978515625,7338.68994140625,7421.14990234375,7915.89013671875,8575.5498046875,7421.14990234375,7008.85986328125,7091.31982421875,8080.81005859375,7503.60986328125,7503.60986328125,7915.89013671875,7256.240234375,8575.5498046875,7668.52001953125,7668.52001953125,8245.7197265625,8080.81005859375,7833.43994140625,7915.89013671875,6761.490234375,5607.08984375,5194.81005859375,6926.41015625,7586.06005859375,7421.14990234375,7338.68994140625,6596.580078125,7173.77978515625,7256.240234375,6431.66015625,7338.68994140625,7256.240234375,7008.85986328125,7750.97998046875,6761.490234375,7421.14990234375,7338.68994140625,7173.77978515625,7586.06005859375,7709.75,8072.56005859375,6893.419921875,7709.75,7619.0498046875,7256.240234375,7528.33984375,7437.64013671875,7437.64013671875,7346.93994140625,7437.64013671875,7709.75,7528.33984375,7619.0498046875,7528.33984375,7528.33984375,7528.33984375,7346.93994140625,7437.64013671875,7346.93994140625,7346.93994140625,7256.240234375,6893.419921875,7256.240234375,7165.52978515625,6893.419921875,6893.419921875,6802.72021484375,7074.830078125,7437.64013671875,6802.72021484375,7165.52978515625,6712.02001953125,6893.419921875,6621.31982421875,6621.31982421875,6530.60986328125,6349.2099609375,6258.5,6349.2099609375,6893.419921875,6712.02001953125,6712.02001953125,6893.419921875,6984.1298828125,7256.240234375,6984.1298828125,7437.64013671875,6984.1298828125,6712.02001953125,6802.72021484375,6802.72021484375,6893.419921875,6802.72021484375,6712.02001953125,6802.72021484375,6712.02001953125,6530.60986328125,6621.31982421875,6621.31982421875,6712.02001953125,6712.02001953125,6530.60986328125,6530.60986328125,6439.91015625,7074.830078125,6439.91015625,6258.5,6077.10009765625,6621.31982421875,6802.72021484375,6258.5,6077.10009765625,6077.10009765625,6530.60986328125,6167.7998046875,5351.47021484375,5351.47021484375,5714.2900390625,5714.2900390625,5442.18017578125,4988.66015625,5170.06982421875,5170.06982421875,5351.47021484375,5532.8798828125,5804.990234375,5623.580078125,5804.990234375,5714.2900390625,5714.2900390625,5623.580078125,5442.18017578125,5532.8798828125,5532.8798828125,5714.2900390625,5714.2900390625,5714.2900390625,5714.2900390625,5714.2900390625,5623.580078125,5714.2900390625,5714.2900390625,5804.990234375,5804.990234375,5804.990234375,5986.39013671875,6167.7998046875,5895.68994140625,5986.39013671875,5986.39013671875,6077.10009765625,6258.5,6077.10009765625,6077.10009765625,6077.10009765625,6258.5,6167.7998046875,6258.5,6439.91015625,6621.31982421875,6258.5,6439.91015625,6349.2099609375,6530.60986328125,6893.419921875,7256.240234375,7346.93994140625,6984.1298828125,6984.1298828125,6621.31982421875,6984.1298828125,6712.02001953125,7165.52978515625,6984.1298828125,7074.830078125,7074.830078125,6984.1298828125,7709.75,7981.85986328125,8163.27001953125,8072.56005859375,8253.9697265625,8253.9697265625,8253.9697265625,7619.0498046875,7800.4501953125,7709.75,8072.56005859375,7981.85986328125,7981.85986328125,7981.85986328125,7981.85986328125,7981.85986328125,7981.85986328125,6984.1298828125,7074.830078125,7074.830078125,6712.02001953125,6712.02001953125,6984.1298828125,6893.419921875,6802.72021484375,6802.72021484375,6802.72021484375,6893.419921875,6802.72021484375,6802.72021484375,6712.02001953125,6802.72021484375,6802.72021484375,6984.1298828125,7346.93994140625,6984.1298828125,7074.830078125,7074.830078125,6984.1298828125,6984.1298828125,6984.1298828125,6952.3798828125,6761.89990234375,6666.669921875,6952.3798828125,7238.10009765625,7047.6201171875,7142.85986328125,7047.6201171875,6857.14013671875,6952.3798828125,6666.669921875,6666.669921875,6190.47998046875,6285.7099609375,6380.9501953125,6666.669921875,6571.43017578125,7142.85986328125,7238.10009765625,7428.56982421875,7428.56982421875,7428.56982421875,7047.6201171875,7238.10009765625,7333.330078125,6952.3798828125,7142.85986328125,7142.85986328125,7333.330078125,7142.85986328125,6952.3798828125,7142.85986328125,7142.85986328125,7142.85986328125,7047.6201171875,6952.3798828125,6857.14013671875,6571.43017578125,6380.9501953125,6571.43017578125,6380.9501953125,6285.7099609375,6190.47998046875,6380.9501953125,6380.9501953125,6476.18994140625,6190.47998046875,6380.9501953125,6380.9501953125,6285.7099609375,6285.7099609375,6095.240234375,5809.52001953125,5809.52001953125,5809.52001953125,5809.52001953125,6190.47998046875,5904.759765625,5904.759765625,5904.759765625,5904.759765625,5619.0498046875,5428.56982421875,5333.330078125,5523.81005859375,5714.2900390625,5523.81005859375,4952.3798828125,5142.85986328125,4857.14013671875,5238.10009765625,5333.330078125,5333.330078125,5238.10009765625,5333.330078125,5428.56982421875,5238.10009765625,5238.10009765625,5333.330078125,5428.56982421875,5428.56982421875,5333.330078125,5523.81005859375,5714.2900390625,5714.2900390625,5619.0498046875,5619.0498046875,5619.0498046875,5809.52001953125,5904.759765625,5809.52001953125,5904.759765625,5809.52001953125,5904.759765625,5904.759765625,5904.759765625,5809.52001953125,5809.52001953125,5809.52001953125,5619.0498046875,5714.2900390625,5714.2900390625,5714.2900390625,5619.0498046875,5714.2900390625,5714.2900390625,5809.52001953125,5714.2900390625,5619.0498046875,5714.2900390625,5714.2900390625,5714.2900390625,5714.2900390625,5714.2900390625,5714.2900390625,5714.2900390625,5714.2900390625,5619.0498046875,5619.0498046875,5523.81005859375,5333.330078125,5428.56982421875,5238.10009765625,5238.10009765625,5428.56982421875,5238.10009765625,5142.85986328125,5142.85986328125,5142.85986328125,4952.3798828125,4857.14013671875,5047.6201171875,5047.6201171875,5238.10009765625,5238.10009765625,5619.0498046875,5428.56982421875,5333.330078125,5238.10009765625,5142.85986328125,5047.6201171875,5238.10009765625,5047.6201171875,4952.3798828125,5142.85986328125,5142.85986328125,5142.85986328125,4952.3798828125,5047.6201171875,5047.6201171875,5238.10009765625,5238.10009765625,5047.6201171875,5142.85986328125,5619.0498046875,5523.81005859375,5428.56982421875,5523.81005859375,5714.2900390625,6095.240234375,6095.240234375,6095.240234375,6095.240234375,6095.240234375,6095.240234375,5904.759765625,5619.0498046875,5904.759765625,5714.2900390625,5619.0498046875,5619.0498046875,5619.0498046875,5809.52001953125,5619.0498046875,5523.81005859375,5809.52001953125,5809.52001953125,6000.0,5904.759765625,5714.2900390625,5904.759765625,5714.2900390625,5714.2900390625,5619.0498046875,5619.0498046875,5619.0498046875,5619.0498046875,5619.0498046875,5619.0498046875,5619.0498046875,5714.2900390625,5714.2900390625,5619.0498046875,5904.759765625,6000.0,6380.9501953125,6190.47998046875,6190.47998046875,6095.240234375,6190.47998046875,6190.47998046875,6285.7099609375,6285.7099609375,6190.47998046875,6000.0,5809.52001953125,5809.52001953125,5809.52001953125,5809.52001953125,5714.2900390625,5904.759765625,5714.2900390625,5619.0498046875,5428.56982421875,5428.56982421875,5619.0498046875,5523.81005859375,5523.81005859375,5714.2900390625,5904.759765625,5904.759765625,5904.759765625,6000.0,6000.0,6000.0,5904.759765625,6571.43017578125,6476.18994140625,6476.18994140625,6476.18994140625,6857.14013671875,6476.18994140625,6761.89990234375,6000.0,6761.89990234375,6857.14013671875,6952.3798828125,6666.669921875,6857.14013671875,6476.18994140625,6190.47998046875,6285.7099609375,6571.43017578125,6190.47998046875,6095.240234375,6095.240234375,6095.240234375,6476.18994140625,6380.9501953125,6666.669921875,6700.0,6800.0,6800.0,6700.0,7100.0,7000.0,6800.0,6800.0,6900.0,7400.0,7100.0,7100.0,7000.0,6900.0,6900.0,7200.0,7100.0,7600.0,8000.0,8100.0,7700.0,7200.0,7300.0,7200.0,7200.0,7000.0,6800.0,7000.0,6800.0,6900.0,6700.0,6900.0,6900.0,7000.0,7000.0,7200.0,7000.0,7100.0,7200.0,7800.0,8100.0,8000.0,7800.0,7500.0,7800.0,7800.0,7900.0,7600.0,7800.0,7500.0,7500.0,7700.0,7500.0,7300.0,7300.0,7500.0,7600.0,7500.0,7500.0,7700.0,7600.0,7400.0,7400.0,7600.0,7500.0,7300.0,7300.0,7500.0,7300.0,7400.0,7300.0,7300.0,7300.0,7400.0,7400.0,7400.0,7300.0,7300.0,7300.0,7200.0,7100.0,6900.0,7000.0,7000.0,7100.0,7100.0,7100.0,7000.0,7100.0,7100.0,7100.0,7300.0,7200.0,7300.0,7200.0,7300.0,7500.0,7500.0,7400.0,7300.0,7300.0,7200.0,7200.0,7100.0,7100.0,7100.0,7300.0,7200.0,7300.0,7200.0,7400.0,7600.0,7600.0,7700.0,7700.0,7700.0,8000.0,9200.0,9600.0,10400.0,10500.0,11000.0,12000.0,12500.0,10500.0,10000.0,11400.0,11700.0,12300.0,12900.0,12700.0,10600.0,11100.0,11000.0,10500.0,10000.0,10400.0,10500.0,10100.0,10300.0,9900.0,10700.0,10500.0,11000.0,10800.0,10600.0,10700.0,10400.0,10200.0,10000.0,9900.0,9900.0,9600.0,9700.0,9900.0,9900.0,9300.0,9700.0,9400.0],\"type\":\"scatter\"},{\"line\":{\"color\":\"rgba(55, 128, 191, 1.0)\",\"dash\":\"solid\",\"shape\":\"linear\",\"width\":1.3},\"mode\":\"lines\",\"name\":\"High\",\"text\":\"\",\"x\":[\"2014-12-04\",\"2014-12-05\",\"2014-12-08\",\"2014-12-09\",\"2014-12-10\",\"2014-12-11\",\"2014-12-12\",\"2014-12-15\",\"2014-12-16\",\"2014-12-17\",\"2014-12-18\",\"2014-12-19\",\"2014-12-22\",\"2014-12-23\",\"2014-12-24\",\"2014-12-26\",\"2014-12-29\",\"2014-12-30\",\"2014-12-31\",\"2015-01-02\",\"2015-01-05\",\"2015-01-06\",\"2015-01-07\",\"2015-01-08\",\"2015-01-09\",\"2015-01-12\",\"2015-01-13\",\"2015-01-14\",\"2015-01-15\",\"2015-01-16\",\"2015-01-20\",\"2015-01-21\",\"2015-01-22\",\"2015-01-23\",\"2015-01-26\",\"2015-01-27\",\"2015-01-28\",\"2015-01-29\",\"2015-01-30\",\"2015-02-02\",\"2015-02-03\",\"2015-02-04\",\"2015-02-05\",\"2015-02-06\",\"2015-02-09\",\"2015-02-10\",\"2015-02-11\",\"2015-02-12\",\"2015-02-13\",\"2015-02-18\",\"2015-02-19\",\"2015-02-20\",\"2015-02-23\",\"2015-02-24\",\"2015-02-25\",\"2015-02-26\",\"2015-02-27\",\"2015-03-02\",\"2015-03-03\",\"2015-03-04\",\"2015-03-05\",\"2015-03-06\",\"2015-03-09\",\"2015-03-10\",\"2015-03-11\",\"2015-03-12\",\"2015-03-13\",\"2015-03-16\",\"2015-03-17\",\"2015-03-18\",\"2015-03-19\",\"2015-03-20\",\"2015-03-23\",\"2015-03-24\",\"2015-03-25\",\"2015-03-26\",\"2015-03-27\",\"2015-03-30\",\"2015-03-31\",\"2015-04-01\",\"2015-04-02\",\"2015-04-06\",\"2015-04-07\",\"2015-04-08\",\"2015-04-09\",\"2015-04-10\",\"2015-04-13\",\"2015-04-14\",\"2015-04-15\",\"2015-04-16\",\"2015-04-17\",\"2015-04-20\",\"2015-04-21\",\"2015-04-22\",\"2015-04-23\",\"2015-04-24\",\"2015-04-27\",\"2015-04-28\",\"2015-04-29\",\"2015-04-30\",\"2015-05-01\",\"2015-05-04\",\"2015-05-05\",\"2015-05-06\",\"2015-05-07\",\"2015-05-08\",\"2015-05-11\",\"2015-05-12\",\"2015-05-13\",\"2015-05-14\",\"2015-05-15\",\"2015-05-18\",\"2015-05-19\",\"2015-05-20\",\"2015-05-21\",\"2015-05-22\",\"2015-05-26\",\"2015-05-27\",\"2015-05-28\",\"2015-05-29\",\"2015-06-01\",\"2015-06-02\",\"2015-06-03\",\"2015-06-04\",\"2015-06-05\",\"2015-06-08\",\"2015-06-09\",\"2015-06-10\",\"2015-06-11\",\"2015-06-12\",\"2015-06-15\",\"2015-06-16\",\"2015-06-17\",\"2015-06-18\",\"2015-06-19\",\"2015-06-22\",\"2015-06-23\",\"2015-06-24\",\"2015-06-25\",\"2015-06-26\",\"2015-06-29\",\"2015-06-30\",\"2015-07-01\",\"2015-07-02\",\"2015-07-06\",\"2015-07-07\",\"2015-07-08\",\"2015-07-09\",\"2015-07-10\",\"2015-07-13\",\"2015-07-14\",\"2015-07-15\",\"2015-07-16\",\"2015-07-17\",\"2015-07-20\",\"2015-07-21\",\"2015-07-22\",\"2015-07-23\",\"2015-07-24\",\"2015-07-27\",\"2015-07-28\",\"2015-07-29\",\"2015-07-30\",\"2015-07-31\",\"2015-08-03\",\"2015-08-04\",\"2015-08-05\",\"2015-08-06\",\"2015-08-07\",\"2015-08-10\",\"2015-08-11\",\"2015-08-12\",\"2015-08-13\",\"2015-08-14\",\"2015-08-17\",\"2015-08-18\",\"2015-08-19\",\"2015-08-20\",\"2015-08-21\",\"2015-08-24\",\"2015-08-25\",\"2015-08-26\",\"2015-08-27\",\"2015-08-28\",\"2015-08-31\",\"2015-09-01\",\"2015-09-02\",\"2015-09-03\",\"2015-09-04\",\"2015-09-08\",\"2015-09-09\",\"2015-09-10\",\"2015-09-11\",\"2015-09-14\",\"2015-09-15\",\"2015-09-16\",\"2015-09-17\",\"2015-09-18\",\"2015-09-21\",\"2015-09-22\",\"2015-09-23\",\"2015-09-24\",\"2015-09-25\",\"2015-09-28\",\"2015-09-29\",\"2015-09-30\",\"2015-10-01\",\"2015-10-02\",\"2015-10-05\",\"2015-10-06\",\"2015-10-07\",\"2015-10-08\",\"2015-10-09\",\"2015-10-12\",\"2015-10-13\",\"2015-10-14\",\"2015-10-15\",\"2015-10-16\",\"2015-10-19\",\"2015-10-20\",\"2015-10-21\",\"2015-10-22\",\"2015-10-23\",\"2015-10-26\",\"2015-10-27\",\"2015-10-28\",\"2015-10-29\",\"2015-10-30\",\"2015-11-02\",\"2015-11-03\",\"2015-11-04\",\"2015-11-05\",\"2015-11-06\",\"2015-11-09\",\"2015-11-10\",\"2015-11-11\",\"2015-11-12\",\"2015-11-13\",\"2015-11-16\",\"2015-11-17\",\"2015-11-18\",\"2015-11-19\",\"2015-11-20\",\"2015-11-23\",\"2015-11-24\",\"2015-11-25\",\"2015-11-27\",\"2015-11-30\",\"2015-12-01\",\"2015-12-02\",\"2015-12-03\",\"2015-12-04\",\"2015-12-07\",\"2015-12-08\",\"2015-12-09\",\"2015-12-10\",\"2015-12-11\",\"2015-12-14\",\"2015-12-15\",\"2015-12-16\",\"2015-12-17\",\"2015-12-18\",\"2015-12-21\",\"2015-12-22\",\"2015-12-23\",\"2015-12-24\",\"2015-12-28\",\"2015-12-29\",\"2015-12-30\",\"2015-12-31\",\"2016-01-04\",\"2016-01-05\",\"2016-01-06\",\"2016-01-07\",\"2016-01-08\",\"2016-01-11\",\"2016-01-12\",\"2016-01-13\",\"2016-01-14\",\"2016-01-15\",\"2016-01-19\",\"2016-01-20\",\"2016-01-21\",\"2016-01-22\",\"2016-01-25\",\"2016-01-26\",\"2016-01-27\",\"2016-01-28\",\"2016-01-29\",\"2016-02-01\",\"2016-02-02\",\"2016-02-03\",\"2016-02-04\",\"2016-02-05\",\"2016-02-08\",\"2016-02-09\",\"2016-02-10\",\"2016-02-11\",\"2016-02-12\",\"2016-02-16\",\"2016-02-17\",\"2016-02-18\",\"2016-02-19\",\"2016-02-22\",\"2016-02-23\",\"2016-02-24\",\"2016-02-25\",\"2016-02-26\",\"2016-02-29\",\"2016-03-01\",\"2016-03-02\",\"2016-03-03\",\"2016-03-04\",\"2016-03-07\",\"2016-03-08\",\"2016-03-09\",\"2016-03-10\",\"2016-03-11\",\"2016-03-14\",\"2016-03-15\",\"2016-03-16\",\"2016-03-17\",\"2016-03-18\",\"2016-03-21\",\"2016-03-22\",\"2016-03-23\",\"2016-03-24\",\"2016-03-28\",\"2016-03-29\",\"2016-03-30\",\"2016-03-31\",\"2016-04-01\",\"2016-04-04\",\"2016-04-05\",\"2016-04-06\",\"2016-04-07\",\"2016-04-08\",\"2016-04-11\",\"2016-04-12\",\"2016-04-13\",\"2016-04-14\",\"2016-04-15\",\"2016-04-18\",\"2016-04-19\",\"2016-04-20\",\"2016-04-21\",\"2016-04-22\",\"2016-04-26\",\"2016-04-27\",\"2016-04-28\",\"2016-04-29\",\"2016-05-02\",\"2016-05-03\",\"2016-05-04\",\"2016-05-05\",\"2016-05-06\",\"2016-05-09\",\"2016-05-10\",\"2016-05-11\",\"2016-05-12\",\"2016-05-13\",\"2016-05-16\",\"2016-05-17\",\"2016-05-18\",\"2016-05-19\",\"2016-05-20\",\"2016-05-23\",\"2016-05-24\",\"2016-05-25\",\"2016-05-26\",\"2016-05-27\",\"2016-05-31\",\"2016-06-01\",\"2016-06-02\",\"2016-06-03\",\"2016-06-06\",\"2016-06-07\",\"2016-06-08\",\"2016-06-09\",\"2016-06-10\",\"2016-06-13\",\"2016-06-14\",\"2016-06-15\",\"2016-06-16\",\"2016-06-17\",\"2016-06-20\",\"2016-06-21\",\"2016-06-22\",\"2016-06-23\",\"2016-06-24\",\"2016-06-27\",\"2016-06-28\",\"2016-06-29\",\"2016-06-30\",\"2016-07-01\",\"2016-07-05\",\"2016-07-06\",\"2016-07-07\",\"2016-07-08\",\"2016-07-11\",\"2016-07-12\",\"2016-07-13\",\"2016-07-14\",\"2016-07-15\",\"2016-07-18\",\"2016-07-19\",\"2016-07-20\",\"2016-07-21\",\"2016-07-22\",\"2016-07-25\",\"2016-07-26\",\"2016-07-27\",\"2016-07-28\",\"2016-07-29\",\"2016-08-01\",\"2016-08-02\",\"2016-08-03\",\"2016-08-04\",\"2016-08-05\",\"2016-08-08\",\"2016-08-09\",\"2016-08-10\",\"2016-08-11\",\"2016-08-12\",\"2016-08-15\",\"2016-08-16\",\"2016-08-17\",\"2016-08-18\",\"2016-08-19\",\"2016-08-22\",\"2016-08-23\",\"2016-08-24\",\"2016-08-25\",\"2016-08-26\",\"2016-08-29\",\"2016-08-30\",\"2016-08-31\",\"2016-09-01\",\"2016-09-02\",\"2016-09-06\",\"2016-09-07\",\"2016-09-08\",\"2016-09-09\",\"2016-09-12\",\"2016-09-13\",\"2016-09-14\",\"2016-09-15\",\"2016-09-16\",\"2016-09-19\",\"2016-09-20\",\"2016-09-21\",\"2016-09-22\",\"2016-09-23\",\"2016-09-26\",\"2016-09-27\",\"2016-09-28\",\"2016-09-29\",\"2016-09-30\",\"2016-10-03\",\"2016-10-04\",\"2016-10-05\",\"2016-10-06\",\"2016-10-07\",\"2016-10-10\",\"2016-10-11\",\"2016-10-12\",\"2016-10-13\",\"2016-10-14\",\"2016-10-17\",\"2016-10-18\",\"2016-10-19\",\"2016-10-20\",\"2016-10-21\",\"2016-10-24\",\"2016-10-25\",\"2016-10-26\",\"2016-10-27\",\"2016-10-28\",\"2016-10-31\",\"2016-11-01\",\"2016-11-02\",\"2016-11-03\",\"2016-11-04\",\"2016-11-07\",\"2016-11-08\",\"2016-11-09\",\"2016-11-10\",\"2016-11-11\",\"2016-11-14\",\"2016-11-15\",\"2016-11-16\",\"2016-11-17\",\"2016-11-18\",\"2016-11-21\",\"2016-11-22\",\"2016-11-23\",\"2016-11-25\",\"2016-11-28\",\"2016-11-29\",\"2016-11-30\",\"2016-12-01\",\"2016-12-02\",\"2016-12-05\",\"2016-12-06\",\"2016-12-07\",\"2016-12-08\",\"2016-12-09\",\"2016-12-12\",\"2016-12-13\",\"2016-12-14\",\"2016-12-15\",\"2016-12-16\",\"2016-12-19\",\"2016-12-20\",\"2016-12-21\",\"2016-12-22\",\"2016-12-23\",\"2016-12-27\",\"2016-12-28\",\"2016-12-29\",\"2016-12-30\",\"2017-01-03\",\"2017-01-04\",\"2017-01-05\",\"2017-01-06\",\"2017-01-09\",\"2017-01-10\",\"2017-01-11\",\"2017-01-12\",\"2017-01-13\",\"2017-01-17\",\"2017-01-18\",\"2017-01-19\",\"2017-01-20\",\"2017-01-23\",\"2017-01-24\",\"2017-01-25\",\"2017-01-26\",\"2017-01-27\",\"2017-01-30\",\"2017-01-31\",\"2017-02-01\",\"2017-02-02\",\"2017-02-03\",\"2017-02-06\",\"2017-02-07\",\"2017-02-08\",\"2017-02-09\",\"2017-02-10\",\"2017-02-13\",\"2017-02-14\",\"2017-02-16\",\"2017-02-17\",\"2017-02-21\",\"2017-02-22\",\"2017-02-23\",\"2017-02-24\",\"2017-02-27\",\"2017-02-28\",\"2017-03-01\",\"2017-03-02\",\"2017-03-03\",\"2017-03-06\",\"2017-03-07\",\"2017-03-08\",\"2017-03-09\",\"2017-03-10\",\"2017-03-13\",\"2017-03-14\",\"2017-03-15\",\"2017-03-16\",\"2017-03-17\",\"2017-03-20\",\"2017-03-21\",\"2017-03-22\",\"2017-03-23\",\"2017-03-24\",\"2017-03-27\",\"2017-03-28\",\"2017-03-29\",\"2017-03-30\",\"2017-03-31\",\"2017-04-03\",\"2017-04-04\",\"2017-04-05\",\"2017-04-06\",\"2017-04-07\",\"2017-04-10\",\"2017-04-11\",\"2017-04-12\",\"2017-04-13\",\"2017-04-17\",\"2017-04-18\",\"2017-04-19\",\"2017-04-20\",\"2017-04-21\",\"2017-04-24\",\"2017-04-25\",\"2017-04-26\",\"2017-04-27\",\"2017-04-28\",\"2017-05-01\",\"2017-05-02\",\"2017-05-03\",\"2017-05-04\",\"2017-05-05\",\"2017-05-08\",\"2017-05-09\",\"2017-05-10\",\"2017-05-11\",\"2017-05-12\",\"2017-05-15\",\"2017-05-16\",\"2017-05-17\",\"2017-05-18\",\"2017-05-19\",\"2017-05-22\",\"2017-05-23\",\"2017-05-24\",\"2017-05-25\",\"2017-05-26\",\"2017-05-30\",\"2017-05-31\",\"2017-06-01\",\"2017-06-02\",\"2017-06-05\",\"2017-06-06\",\"2017-06-07\",\"2017-06-08\",\"2017-06-09\",\"2017-06-12\",\"2017-06-13\",\"2017-06-14\",\"2017-06-15\",\"2017-06-16\",\"2017-06-19\",\"2017-06-20\",\"2017-06-21\",\"2017-06-22\",\"2017-06-26\",\"2017-06-27\",\"2017-06-28\",\"2017-06-29\",\"2017-06-30\",\"2017-07-03\",\"2017-07-05\",\"2017-07-06\",\"2017-07-07\",\"2017-07-10\",\"2017-07-11\",\"2017-07-12\",\"2017-07-13\",\"2017-07-14\",\"2017-07-17\",\"2017-07-18\",\"2017-07-19\",\"2017-07-20\",\"2017-07-21\",\"2017-07-24\",\"2017-07-25\",\"2017-07-26\",\"2017-07-27\",\"2017-07-28\",\"2017-07-31\",\"2017-08-01\",\"2017-08-02\",\"2017-08-03\",\"2017-08-04\",\"2017-08-07\",\"2017-08-08\",\"2017-08-09\",\"2017-08-10\",\"2017-08-11\",\"2017-08-14\",\"2017-08-15\",\"2017-08-16\",\"2017-08-17\",\"2017-08-18\",\"2017-08-21\",\"2017-08-22\",\"2017-08-23\",\"2017-08-24\",\"2017-08-25\",\"2017-08-28\",\"2017-08-29\",\"2017-08-30\",\"2017-08-31\",\"2017-09-01\",\"2017-09-05\",\"2017-09-06\",\"2017-09-07\",\"2017-09-08\",\"2017-09-11\",\"2017-09-12\",\"2017-09-13\",\"2017-09-14\",\"2017-09-15\",\"2017-09-18\",\"2017-09-19\",\"2017-09-20\",\"2017-09-21\",\"2017-09-22\",\"2017-09-25\",\"2017-09-26\",\"2017-09-27\",\"2017-09-28\",\"2017-09-29\",\"2017-10-02\",\"2017-10-03\",\"2017-10-04\",\"2017-10-05\",\"2017-10-06\",\"2017-10-09\",\"2017-10-10\",\"2017-10-11\",\"2017-10-12\",\"2017-10-13\",\"2017-10-16\",\"2017-10-17\",\"2017-10-18\",\"2017-10-19\",\"2017-10-20\",\"2017-10-23\",\"2017-10-24\",\"2017-10-25\",\"2017-10-26\",\"2017-10-27\",\"2017-10-30\",\"2017-10-31\",\"2017-11-01\",\"2017-11-02\",\"2017-11-03\",\"2017-11-06\",\"2017-11-07\",\"2017-11-08\",\"2017-11-09\",\"2017-11-10\",\"2017-11-13\",\"2017-11-14\",\"2017-11-15\",\"2017-11-16\",\"2017-11-17\",\"2017-11-20\",\"2017-11-21\",\"2017-11-22\",\"2017-11-24\",\"2017-11-27\",\"2017-11-28\",\"2017-11-29\",\"2017-11-30\",\"2017-12-01\",\"2017-12-04\",\"2017-12-05\",\"2017-12-06\",\"2017-12-07\",\"2017-12-08\",\"2017-12-11\",\"2017-12-12\",\"2017-12-13\",\"2017-12-14\",\"2017-12-15\",\"2017-12-18\",\"2017-12-19\",\"2017-12-20\",\"2017-12-21\",\"2017-12-22\",\"2017-12-26\",\"2017-12-27\",\"2017-12-28\",\"2017-12-29\",\"2018-01-02\",\"2018-01-03\",\"2018-01-04\",\"2018-01-05\",\"2018-01-08\",\"2018-01-10\",\"2018-01-11\",\"2018-01-12\",\"2018-01-16\",\"2018-01-17\",\"2018-01-18\",\"2018-01-19\",\"2018-01-22\",\"2018-01-23\",\"2018-01-26\",\"2018-01-30\",\"2018-01-31\"],\"y\":[30096.900390625,27540.69921875,26056.5,23582.80078125,20202.0,19295.0,19295.0,19872.19921875,19047.599609375,17728.30078125,17645.80078125,17563.400390625,17233.599609375,18470.400390625,20037.099609375,18305.5,17893.19921875,17233.599609375,17480.900390625,16903.69921875,17316.0,18470.400390625,20284.5,21521.30078125,21356.400390625,21026.599609375,20037.099609375,20449.400390625,22098.5,22923.099609375,21521.30078125,22181.0,21438.900390625,21933.599609375,22758.19921875,22181.0,21851.19921875,22758.19921875,23252.900390625,24984.5,24489.80078125,22428.400390625,21356.400390625,21356.400390625,21026.599609375,20202.0,19459.900390625,19872.19921875,19212.5,18717.80078125,18717.80078125,18717.80078125,18717.80078125,18717.80078125,19212.5,17563.400390625,17398.5,16821.30078125,16738.80078125,13440.5,14759.7998046875,13852.7998046875,13028.2001953125,13275.599609375,12945.7998046875,12945.7998046875,13110.7001953125,12945.7998046875,13110.7001953125,13028.2001953125,13110.7001953125,12780.900390625,13028.2001953125,12616.0,12616.0,12616.0,12616.0,12616.0,12616.0,12616.0,12616.0,12616.0,12616.0,12616.0,12616.0,12616.0,12616.0,12616.0,12616.0,12616.0,12616.0,12616.0,12616.0,12616.0,12616.0,12616.0,12616.0,12616.0,12616.0,12616.0,12616.0,12616.0,12616.0,12616.0,12616.0,12616.0,12616.0,12616.0,12616.0,12616.0,12616.0,12616.0,12616.0,12616.0,7998.35009765625,8740.4697265625,10389.599609375,9812.41015625,10472.099609375,10142.2001953125,10142.2001953125,9977.3203125,9977.3203125,10884.400390625,11791.400390625,12038.7998046875,11461.599609375,10884.400390625,11049.2998046875,10966.7998046875,11049.2998046875,10719.400390625,9977.3203125,9729.9501953125,9729.9501953125,9647.5,9565.0400390625,9482.580078125,9152.75,9482.580078125,10307.2001953125,9894.8701171875,9894.8701171875,9729.9501953125,9894.8701171875,9812.41015625,9729.9501953125,9317.669921875,9482.580078125,9070.2900390625,8987.83984375,8822.919921875,8410.6396484375,8493.08984375,8163.27001953125,7998.35009765625,8163.27001953125,7998.35009765625,8080.81005859375,7998.35009765625,8163.27001953125,7915.89013671875,8658.009765625,8740.4697265625,8163.27001953125,7998.35009765625,8163.27001953125,8163.27001953125,7998.35009765625,8080.81005859375,8245.7197265625,8080.81005859375,8575.5498046875,7750.97998046875,7833.43994140625,8245.7197265625,8080.81005859375,7833.43994140625,7915.89013671875,6761.490234375,6266.75,6349.2099609375,6926.41015625,7586.06005859375,7421.14990234375,7338.68994140625,6596.580078125,7173.77978515625,7256.240234375,6761.490234375,7338.68994140625,7256.240234375,7503.60986328125,7750.97998046875,7008.85986328125,7421.14990234375,7338.68994140625,7256.240234375,7586.06005859375,7709.75,8072.56005859375,8072.56005859375,7800.4501953125,7619.0498046875,7437.64013671875,7528.33984375,7528.33984375,7437.64013671875,7437.64013671875,7709.75,7800.4501953125,7800.4501953125,7709.75,7709.75,7528.33984375,7528.33984375,7437.64013671875,7528.33984375,7437.64013671875,7346.93994140625,7256.240234375,7165.52978515625,7256.240234375,7165.52978515625,6984.1298828125,6984.1298828125,6984.1298828125,7074.830078125,7437.64013671875,6802.72021484375,7165.52978515625,6893.419921875,6893.419921875,6802.72021484375,6621.31982421875,6621.31982421875,6439.91015625,6349.2099609375,6802.72021484375,7165.52978515625,6802.72021484375,6893.419921875,6984.1298828125,7346.93994140625,7256.240234375,7709.75,7528.33984375,7074.830078125,6893.419921875,6893.419921875,7074.830078125,6893.419921875,6802.72021484375,6802.72021484375,6984.1298828125,6712.02001953125,6712.02001953125,6621.31982421875,6712.02001953125,6893.419921875,6802.72021484375,6712.02001953125,6530.60986328125,6621.31982421875,7074.830078125,6530.60986328125,6349.2099609375,6258.5,6621.31982421875,6802.72021484375,6258.5,6077.10009765625,6077.10009765625,6530.60986328125,6167.7998046875,5442.18017578125,5804.990234375,6077.10009765625,5714.2900390625,5623.580078125,5170.06982421875,5532.8798828125,5442.18017578125,5532.8798828125,5986.39013671875,5804.990234375,5895.68994140625,5804.990234375,5804.990234375,5714.2900390625,5623.580078125,5623.580078125,5623.580078125,5714.2900390625,5714.2900390625,5714.2900390625,5714.2900390625,5714.2900390625,5714.2900390625,5714.2900390625,5895.68994140625,5895.68994140625,5804.990234375,5804.990234375,5804.990234375,6258.5,6167.7998046875,6077.10009765625,6167.7998046875,6077.10009765625,6258.5,6258.5,6167.7998046875,6167.7998046875,6258.5,6349.2099609375,6349.2099609375,6621.31982421875,6621.31982421875,6621.31982421875,6439.91015625,6621.31982421875,6712.02001953125,7074.830078125,7256.240234375,7437.64013671875,7528.33984375,6984.1298828125,6984.1298828125,7074.830078125,7074.830078125,7165.52978515625,7256.240234375,7165.52978515625,7165.52978515625,7165.52978515625,7619.0498046875,8344.669921875,8344.669921875,8163.27001953125,8526.080078125,8253.9697265625,8253.9697265625,8253.9697265625,7800.4501953125,7891.16015625,8072.56005859375,8072.56005859375,7981.85986328125,7981.85986328125,7981.85986328125,7981.85986328125,7981.85986328125,7981.85986328125,7165.52978515625,7256.240234375,7165.52978515625,6712.02001953125,6712.02001953125,7074.830078125,6984.1298828125,6802.72021484375,6802.72021484375,6802.72021484375,6893.419921875,6802.72021484375,6893.419921875,6802.72021484375,7074.830078125,6893.419921875,7074.830078125,7346.93994140625,7256.240234375,7165.52978515625,7074.830078125,7074.830078125,6984.1298828125,7074.830078125,7142.85986328125,6857.14013671875,7142.85986328125,7333.330078125,7238.10009765625,7238.10009765625,7238.10009765625,7142.85986328125,7047.6201171875,6952.3798828125,6761.89990234375,6666.669921875,6380.9501953125,6476.18994140625,6761.89990234375,6857.14013671875,6666.669921875,7619.0498046875,7523.81005859375,7619.0498046875,7523.81005859375,7523.81005859375,7238.10009765625,7333.330078125,7333.330078125,7142.85986328125,7238.10009765625,7428.56982421875,7333.330078125,7142.85986328125,7142.85986328125,7238.10009765625,7238.10009765625,7238.10009765625,7142.85986328125,7047.6201171875,6857.14013671875,6571.43017578125,6571.43017578125,6571.43017578125,6380.9501953125,6285.7099609375,6380.9501953125,6380.9501953125,6571.43017578125,6476.18994140625,6380.9501953125,6571.43017578125,6380.9501953125,6285.7099609375,6285.7099609375,6095.240234375,5904.759765625,6000.0,5904.759765625,6190.47998046875,6190.47998046875,5904.759765625,6000.0,6000.0,5904.759765625,5619.0498046875,5428.56982421875,5619.0498046875,5714.2900390625,5714.2900390625,5523.81005859375,5333.330078125,5333.330078125,5428.56982421875,5428.56982421875,5333.330078125,5333.330078125,5428.56982421875,5619.0498046875,5523.81005859375,5333.330078125,5619.0498046875,5523.81005859375,5428.56982421875,5428.56982421875,5714.2900390625,5809.52001953125,5809.52001953125,5809.52001953125,5714.2900390625,5619.0498046875,5809.52001953125,6000.0,6095.240234375,6000.0,5904.759765625,6000.0,6000.0,6000.0,6000.0,6000.0,5904.759765625,5809.52001953125,5809.52001953125,5714.2900390625,5809.52001953125,5714.2900390625,5809.52001953125,5714.2900390625,5809.52001953125,5809.52001953125,5714.2900390625,5714.2900390625,5809.52001953125,5714.2900390625,5714.2900390625,5809.52001953125,5714.2900390625,5714.2900390625,5809.52001953125,5714.2900390625,5714.2900390625,5619.0498046875,5523.81005859375,5428.56982421875,5428.56982421875,5333.330078125,5238.10009765625,5428.56982421875,5428.56982421875,5142.85986328125,5238.10009765625,5142.85986328125,5047.6201171875,5047.6201171875,5142.85986328125,5333.330078125,5333.330078125,5523.81005859375,5619.0498046875,5428.56982421875,5428.56982421875,5238.10009765625,5238.10009765625,5238.10009765625,5428.56982421875,5238.10009765625,5238.10009765625,5333.330078125,5238.10009765625,5238.10009765625,5142.85986328125,5142.85986328125,5428.56982421875,5238.10009765625,5333.330078125,5142.85986328125,5619.0498046875,5809.52001953125,5523.81005859375,5619.0498046875,5714.2900390625,6095.240234375,6095.240234375,6095.240234375,6095.240234375,6095.240234375,6095.240234375,6095.240234375,6000.0,6000.0,5904.759765625,5809.52001953125,5714.2900390625,5714.2900390625,5809.52001953125,5809.52001953125,5714.2900390625,5714.2900390625,5904.759765625,6095.240234375,6095.240234375,6095.240234375,5904.759765625,6000.0,5809.52001953125,5809.52001953125,5714.2900390625,5714.2900390625,5714.2900390625,5714.2900390625,5714.2900390625,5619.0498046875,5714.2900390625,5714.2900390625,5809.52001953125,5904.759765625,6095.240234375,6380.9501953125,6380.9501953125,6285.7099609375,6190.47998046875,6285.7099609375,6380.9501953125,6380.9501953125,6380.9501953125,6380.9501953125,6190.47998046875,6000.0,5904.759765625,5904.759765625,5809.52001953125,5809.52001953125,5904.759765625,5904.759765625,5809.52001953125,5714.2900390625,5523.81005859375,5619.0498046875,5619.0498046875,5523.81005859375,5809.52001953125,6095.240234375,6095.240234375,6095.240234375,6095.240234375,6000.0,6000.0,6000.0,6476.18994140625,6761.89990234375,6666.669921875,6666.669921875,6761.89990234375,6857.14013671875,6857.14013671875,6761.89990234375,6761.89990234375,7142.85986328125,7047.6201171875,7047.6201171875,7047.6201171875,6857.14013671875,6666.669921875,6476.18994140625,6666.669921875,6666.669921875,6380.9501953125,6190.47998046875,6190.47998046875,6571.43017578125,6666.669921875,6761.89990234375,6857.14013671875,6900.0,6900.0,6900.0,7200.0,7300.0,7100.0,7000.0,6900.0,7300.0,7400.0,7100.0,7100.0,7000.0,7000.0,7200.0,7400.0,7500.0,8000.0,8100.0,8200.0,7700.0,7400.0,7500.0,7200.0,7200.0,7100.0,6900.0,7100.0,6900.0,7000.0,6800.0,6900.0,7200.0,7100.0,7200.0,7200.0,7300.0,7300.0,7800.0,7800.0,8400.0,8300.0,7800.0,8100.0,7900.0,8000.0,7900.0,7800.0,7800.0,7700.0,7800.0,7800.0,7500.0,7300.0,7700.0,7900.0,7800.0,7600.0,7800.0,7700.0,7600.0,7500.0,7700.0,7700.0,7500.0,7400.0,7600.0,7500.0,7400.0,7500.0,7400.0,7300.0,7500.0,7400.0,7400.0,7400.0,7300.0,7400.0,7300.0,7200.0,7100.0,7000.0,7000.0,7100.0,7200.0,7200.0,7200.0,7000.0,7200.0,7300.0,7300.0,7400.0,7300.0,7400.0,7300.0,7600.0,7700.0,7700.0,7500.0,7500.0,7400.0,7400.0,7400.0,7200.0,7300.0,7300.0,7400.0,7300.0,7300.0,7500.0,7700.0,7700.0,7800.0,7900.0,7800.0,8000.0,8400.0,9800.0,10300.0,10500.0,11200.0,11800.0,12600.0,12800.0,11900.0,11200.0,11700.0,12800.0,12900.0,13000.0,12700.0,11600.0,11500.0,11300.0,10600.0,10900.0,10800.0,10600.0,10300.0,10500.0,10700.0,10800.0,11000.0,11200.0,10800.0,11200.0,10700.0,10600.0,10300.0,10300.0,10000.0,10000.0,9800.0,10000.0,10000.0,9900.0,9500.0,9700.0,9400.0],\"type\":\"scatter\"},{\"line\":{\"color\":\"rgba(50, 171, 96, 1.0)\",\"dash\":\"solid\",\"shape\":\"linear\",\"width\":1.3},\"mode\":\"lines\",\"name\":\"Low\",\"text\":\"\",\"x\":[\"2014-12-04\",\"2014-12-05\",\"2014-12-08\",\"2014-12-09\",\"2014-12-10\",\"2014-12-11\",\"2014-12-12\",\"2014-12-15\",\"2014-12-16\",\"2014-12-17\",\"2014-12-18\",\"2014-12-19\",\"2014-12-22\",\"2014-12-23\",\"2014-12-24\",\"2014-12-26\",\"2014-12-29\",\"2014-12-30\",\"2014-12-31\",\"2015-01-02\",\"2015-01-05\",\"2015-01-06\",\"2015-01-07\",\"2015-01-08\",\"2015-01-09\",\"2015-01-12\",\"2015-01-13\",\"2015-01-14\",\"2015-01-15\",\"2015-01-16\",\"2015-01-20\",\"2015-01-21\",\"2015-01-22\",\"2015-01-23\",\"2015-01-26\",\"2015-01-27\",\"2015-01-28\",\"2015-01-29\",\"2015-01-30\",\"2015-02-02\",\"2015-02-03\",\"2015-02-04\",\"2015-02-05\",\"2015-02-06\",\"2015-02-09\",\"2015-02-10\",\"2015-02-11\",\"2015-02-12\",\"2015-02-13\",\"2015-02-18\",\"2015-02-19\",\"2015-02-20\",\"2015-02-23\",\"2015-02-24\",\"2015-02-25\",\"2015-02-26\",\"2015-02-27\",\"2015-03-02\",\"2015-03-03\",\"2015-03-04\",\"2015-03-05\",\"2015-03-06\",\"2015-03-09\",\"2015-03-10\",\"2015-03-11\",\"2015-03-12\",\"2015-03-13\",\"2015-03-16\",\"2015-03-17\",\"2015-03-18\",\"2015-03-19\",\"2015-03-20\",\"2015-03-23\",\"2015-03-24\",\"2015-03-25\",\"2015-03-26\",\"2015-03-27\",\"2015-03-30\",\"2015-03-31\",\"2015-04-01\",\"2015-04-02\",\"2015-04-06\",\"2015-04-07\",\"2015-04-08\",\"2015-04-09\",\"2015-04-10\",\"2015-04-13\",\"2015-04-14\",\"2015-04-15\",\"2015-04-16\",\"2015-04-17\",\"2015-04-20\",\"2015-04-21\",\"2015-04-22\",\"2015-04-23\",\"2015-04-24\",\"2015-04-27\",\"2015-04-28\",\"2015-04-29\",\"2015-04-30\",\"2015-05-01\",\"2015-05-04\",\"2015-05-05\",\"2015-05-06\",\"2015-05-07\",\"2015-05-08\",\"2015-05-11\",\"2015-05-12\",\"2015-05-13\",\"2015-05-14\",\"2015-05-15\",\"2015-05-18\",\"2015-05-19\",\"2015-05-20\",\"2015-05-21\",\"2015-05-22\",\"2015-05-26\",\"2015-05-27\",\"2015-05-28\",\"2015-05-29\",\"2015-06-01\",\"2015-06-02\",\"2015-06-03\",\"2015-06-04\",\"2015-06-05\",\"2015-06-08\",\"2015-06-09\",\"2015-06-10\",\"2015-06-11\",\"2015-06-12\",\"2015-06-15\",\"2015-06-16\",\"2015-06-17\",\"2015-06-18\",\"2015-06-19\",\"2015-06-22\",\"2015-06-23\",\"2015-06-24\",\"2015-06-25\",\"2015-06-26\",\"2015-06-29\",\"2015-06-30\",\"2015-07-01\",\"2015-07-02\",\"2015-07-06\",\"2015-07-07\",\"2015-07-08\",\"2015-07-09\",\"2015-07-10\",\"2015-07-13\",\"2015-07-14\",\"2015-07-15\",\"2015-07-16\",\"2015-07-17\",\"2015-07-20\",\"2015-07-21\",\"2015-07-22\",\"2015-07-23\",\"2015-07-24\",\"2015-07-27\",\"2015-07-28\",\"2015-07-29\",\"2015-07-30\",\"2015-07-31\",\"2015-08-03\",\"2015-08-04\",\"2015-08-05\",\"2015-08-06\",\"2015-08-07\",\"2015-08-10\",\"2015-08-11\",\"2015-08-12\",\"2015-08-13\",\"2015-08-14\",\"2015-08-17\",\"2015-08-18\",\"2015-08-19\",\"2015-08-20\",\"2015-08-21\",\"2015-08-24\",\"2015-08-25\",\"2015-08-26\",\"2015-08-27\",\"2015-08-28\",\"2015-08-31\",\"2015-09-01\",\"2015-09-02\",\"2015-09-03\",\"2015-09-04\",\"2015-09-08\",\"2015-09-09\",\"2015-09-10\",\"2015-09-11\",\"2015-09-14\",\"2015-09-15\",\"2015-09-16\",\"2015-09-17\",\"2015-09-18\",\"2015-09-21\",\"2015-09-22\",\"2015-09-23\",\"2015-09-24\",\"2015-09-25\",\"2015-09-28\",\"2015-09-29\",\"2015-09-30\",\"2015-10-01\",\"2015-10-02\",\"2015-10-05\",\"2015-10-06\",\"2015-10-07\",\"2015-10-08\",\"2015-10-09\",\"2015-10-12\",\"2015-10-13\",\"2015-10-14\",\"2015-10-15\",\"2015-10-16\",\"2015-10-19\",\"2015-10-20\",\"2015-10-21\",\"2015-10-22\",\"2015-10-23\",\"2015-10-26\",\"2015-10-27\",\"2015-10-28\",\"2015-10-29\",\"2015-10-30\",\"2015-11-02\",\"2015-11-03\",\"2015-11-04\",\"2015-11-05\",\"2015-11-06\",\"2015-11-09\",\"2015-11-10\",\"2015-11-11\",\"2015-11-12\",\"2015-11-13\",\"2015-11-16\",\"2015-11-17\",\"2015-11-18\",\"2015-11-19\",\"2015-11-20\",\"2015-11-23\",\"2015-11-24\",\"2015-11-25\",\"2015-11-27\",\"2015-11-30\",\"2015-12-01\",\"2015-12-02\",\"2015-12-03\",\"2015-12-04\",\"2015-12-07\",\"2015-12-08\",\"2015-12-09\",\"2015-12-10\",\"2015-12-11\",\"2015-12-14\",\"2015-12-15\",\"2015-12-16\",\"2015-12-17\",\"2015-12-18\",\"2015-12-21\",\"2015-12-22\",\"2015-12-23\",\"2015-12-24\",\"2015-12-28\",\"2015-12-29\",\"2015-12-30\",\"2015-12-31\",\"2016-01-04\",\"2016-01-05\",\"2016-01-06\",\"2016-01-07\",\"2016-01-08\",\"2016-01-11\",\"2016-01-12\",\"2016-01-13\",\"2016-01-14\",\"2016-01-15\",\"2016-01-19\",\"2016-01-20\",\"2016-01-21\",\"2016-01-22\",\"2016-01-25\",\"2016-01-26\",\"2016-01-27\",\"2016-01-28\",\"2016-01-29\",\"2016-02-01\",\"2016-02-02\",\"2016-02-03\",\"2016-02-04\",\"2016-02-05\",\"2016-02-08\",\"2016-02-09\",\"2016-02-10\",\"2016-02-11\",\"2016-02-12\",\"2016-02-16\",\"2016-02-17\",\"2016-02-18\",\"2016-02-19\",\"2016-02-22\",\"2016-02-23\",\"2016-02-24\",\"2016-02-25\",\"2016-02-26\",\"2016-02-29\",\"2016-03-01\",\"2016-03-02\",\"2016-03-03\",\"2016-03-04\",\"2016-03-07\",\"2016-03-08\",\"2016-03-09\",\"2016-03-10\",\"2016-03-11\",\"2016-03-14\",\"2016-03-15\",\"2016-03-16\",\"2016-03-17\",\"2016-03-18\",\"2016-03-21\",\"2016-03-22\",\"2016-03-23\",\"2016-03-24\",\"2016-03-28\",\"2016-03-29\",\"2016-03-30\",\"2016-03-31\",\"2016-04-01\",\"2016-04-04\",\"2016-04-05\",\"2016-04-06\",\"2016-04-07\",\"2016-04-08\",\"2016-04-11\",\"2016-04-12\",\"2016-04-13\",\"2016-04-14\",\"2016-04-15\",\"2016-04-18\",\"2016-04-19\",\"2016-04-20\",\"2016-04-21\",\"2016-04-22\",\"2016-04-26\",\"2016-04-27\",\"2016-04-28\",\"2016-04-29\",\"2016-05-02\",\"2016-05-03\",\"2016-05-04\",\"2016-05-05\",\"2016-05-06\",\"2016-05-09\",\"2016-05-10\",\"2016-05-11\",\"2016-05-12\",\"2016-05-13\",\"2016-05-16\",\"2016-05-17\",\"2016-05-18\",\"2016-05-19\",\"2016-05-20\",\"2016-05-23\",\"2016-05-24\",\"2016-05-25\",\"2016-05-26\",\"2016-05-27\",\"2016-05-31\",\"2016-06-01\",\"2016-06-02\",\"2016-06-03\",\"2016-06-06\",\"2016-06-07\",\"2016-06-08\",\"2016-06-09\",\"2016-06-10\",\"2016-06-13\",\"2016-06-14\",\"2016-06-15\",\"2016-06-16\",\"2016-06-17\",\"2016-06-20\",\"2016-06-21\",\"2016-06-22\",\"2016-06-23\",\"2016-06-24\",\"2016-06-27\",\"2016-06-28\",\"2016-06-29\",\"2016-06-30\",\"2016-07-01\",\"2016-07-05\",\"2016-07-06\",\"2016-07-07\",\"2016-07-08\",\"2016-07-11\",\"2016-07-12\",\"2016-07-13\",\"2016-07-14\",\"2016-07-15\",\"2016-07-18\",\"2016-07-19\",\"2016-07-20\",\"2016-07-21\",\"2016-07-22\",\"2016-07-25\",\"2016-07-26\",\"2016-07-27\",\"2016-07-28\",\"2016-07-29\",\"2016-08-01\",\"2016-08-02\",\"2016-08-03\",\"2016-08-04\",\"2016-08-05\",\"2016-08-08\",\"2016-08-09\",\"2016-08-10\",\"2016-08-11\",\"2016-08-12\",\"2016-08-15\",\"2016-08-16\",\"2016-08-17\",\"2016-08-18\",\"2016-08-19\",\"2016-08-22\",\"2016-08-23\",\"2016-08-24\",\"2016-08-25\",\"2016-08-26\",\"2016-08-29\",\"2016-08-30\",\"2016-08-31\",\"2016-09-01\",\"2016-09-02\",\"2016-09-06\",\"2016-09-07\",\"2016-09-08\",\"2016-09-09\",\"2016-09-12\",\"2016-09-13\",\"2016-09-14\",\"2016-09-15\",\"2016-09-16\",\"2016-09-19\",\"2016-09-20\",\"2016-09-21\",\"2016-09-22\",\"2016-09-23\",\"2016-09-26\",\"2016-09-27\",\"2016-09-28\",\"2016-09-29\",\"2016-09-30\",\"2016-10-03\",\"2016-10-04\",\"2016-10-05\",\"2016-10-06\",\"2016-10-07\",\"2016-10-10\",\"2016-10-11\",\"2016-10-12\",\"2016-10-13\",\"2016-10-14\",\"2016-10-17\",\"2016-10-18\",\"2016-10-19\",\"2016-10-20\",\"2016-10-21\",\"2016-10-24\",\"2016-10-25\",\"2016-10-26\",\"2016-10-27\",\"2016-10-28\",\"2016-10-31\",\"2016-11-01\",\"2016-11-02\",\"2016-11-03\",\"2016-11-04\",\"2016-11-07\",\"2016-11-08\",\"2016-11-09\",\"2016-11-10\",\"2016-11-11\",\"2016-11-14\",\"2016-11-15\",\"2016-11-16\",\"2016-11-17\",\"2016-11-18\",\"2016-11-21\",\"2016-11-22\",\"2016-11-23\",\"2016-11-25\",\"2016-11-28\",\"2016-11-29\",\"2016-11-30\",\"2016-12-01\",\"2016-12-02\",\"2016-12-05\",\"2016-12-06\",\"2016-12-07\",\"2016-12-08\",\"2016-12-09\",\"2016-12-12\",\"2016-12-13\",\"2016-12-14\",\"2016-12-15\",\"2016-12-16\",\"2016-12-19\",\"2016-12-20\",\"2016-12-21\",\"2016-12-22\",\"2016-12-23\",\"2016-12-27\",\"2016-12-28\",\"2016-12-29\",\"2016-12-30\",\"2017-01-03\",\"2017-01-04\",\"2017-01-05\",\"2017-01-06\",\"2017-01-09\",\"2017-01-10\",\"2017-01-11\",\"2017-01-12\",\"2017-01-13\",\"2017-01-17\",\"2017-01-18\",\"2017-01-19\",\"2017-01-20\",\"2017-01-23\",\"2017-01-24\",\"2017-01-25\",\"2017-01-26\",\"2017-01-27\",\"2017-01-30\",\"2017-01-31\",\"2017-02-01\",\"2017-02-02\",\"2017-02-03\",\"2017-02-06\",\"2017-02-07\",\"2017-02-08\",\"2017-02-09\",\"2017-02-10\",\"2017-02-13\",\"2017-02-14\",\"2017-02-16\",\"2017-02-17\",\"2017-02-21\",\"2017-02-22\",\"2017-02-23\",\"2017-02-24\",\"2017-02-27\",\"2017-02-28\",\"2017-03-01\",\"2017-03-02\",\"2017-03-03\",\"2017-03-06\",\"2017-03-07\",\"2017-03-08\",\"2017-03-09\",\"2017-03-10\",\"2017-03-13\",\"2017-03-14\",\"2017-03-15\",\"2017-03-16\",\"2017-03-17\",\"2017-03-20\",\"2017-03-21\",\"2017-03-22\",\"2017-03-23\",\"2017-03-24\",\"2017-03-27\",\"2017-03-28\",\"2017-03-29\",\"2017-03-30\",\"2017-03-31\",\"2017-04-03\",\"2017-04-04\",\"2017-04-05\",\"2017-04-06\",\"2017-04-07\",\"2017-04-10\",\"2017-04-11\",\"2017-04-12\",\"2017-04-13\",\"2017-04-17\",\"2017-04-18\",\"2017-04-19\",\"2017-04-20\",\"2017-04-21\",\"2017-04-24\",\"2017-04-25\",\"2017-04-26\",\"2017-04-27\",\"2017-04-28\",\"2017-05-01\",\"2017-05-02\",\"2017-05-03\",\"2017-05-04\",\"2017-05-05\",\"2017-05-08\",\"2017-05-09\",\"2017-05-10\",\"2017-05-11\",\"2017-05-12\",\"2017-05-15\",\"2017-05-16\",\"2017-05-17\",\"2017-05-18\",\"2017-05-19\",\"2017-05-22\",\"2017-05-23\",\"2017-05-24\",\"2017-05-25\",\"2017-05-26\",\"2017-05-30\",\"2017-05-31\",\"2017-06-01\",\"2017-06-02\",\"2017-06-05\",\"2017-06-06\",\"2017-06-07\",\"2017-06-08\",\"2017-06-09\",\"2017-06-12\",\"2017-06-13\",\"2017-06-14\",\"2017-06-15\",\"2017-06-16\",\"2017-06-19\",\"2017-06-20\",\"2017-06-21\",\"2017-06-22\",\"2017-06-26\",\"2017-06-27\",\"2017-06-28\",\"2017-06-29\",\"2017-06-30\",\"2017-07-03\",\"2017-07-05\",\"2017-07-06\",\"2017-07-07\",\"2017-07-10\",\"2017-07-11\",\"2017-07-12\",\"2017-07-13\",\"2017-07-14\",\"2017-07-17\",\"2017-07-18\",\"2017-07-19\",\"2017-07-20\",\"2017-07-21\",\"2017-07-24\",\"2017-07-25\",\"2017-07-26\",\"2017-07-27\",\"2017-07-28\",\"2017-07-31\",\"2017-08-01\",\"2017-08-02\",\"2017-08-03\",\"2017-08-04\",\"2017-08-07\",\"2017-08-08\",\"2017-08-09\",\"2017-08-10\",\"2017-08-11\",\"2017-08-14\",\"2017-08-15\",\"2017-08-16\",\"2017-08-17\",\"2017-08-18\",\"2017-08-21\",\"2017-08-22\",\"2017-08-23\",\"2017-08-24\",\"2017-08-25\",\"2017-08-28\",\"2017-08-29\",\"2017-08-30\",\"2017-08-31\",\"2017-09-01\",\"2017-09-05\",\"2017-09-06\",\"2017-09-07\",\"2017-09-08\",\"2017-09-11\",\"2017-09-12\",\"2017-09-13\",\"2017-09-14\",\"2017-09-15\",\"2017-09-18\",\"2017-09-19\",\"2017-09-20\",\"2017-09-21\",\"2017-09-22\",\"2017-09-25\",\"2017-09-26\",\"2017-09-27\",\"2017-09-28\",\"2017-09-29\",\"2017-10-02\",\"2017-10-03\",\"2017-10-04\",\"2017-10-05\",\"2017-10-06\",\"2017-10-09\",\"2017-10-10\",\"2017-10-11\",\"2017-10-12\",\"2017-10-13\",\"2017-10-16\",\"2017-10-17\",\"2017-10-18\",\"2017-10-19\",\"2017-10-20\",\"2017-10-23\",\"2017-10-24\",\"2017-10-25\",\"2017-10-26\",\"2017-10-27\",\"2017-10-30\",\"2017-10-31\",\"2017-11-01\",\"2017-11-02\",\"2017-11-03\",\"2017-11-06\",\"2017-11-07\",\"2017-11-08\",\"2017-11-09\",\"2017-11-10\",\"2017-11-13\",\"2017-11-14\",\"2017-11-15\",\"2017-11-16\",\"2017-11-17\",\"2017-11-20\",\"2017-11-21\",\"2017-11-22\",\"2017-11-24\",\"2017-11-27\",\"2017-11-28\",\"2017-11-29\",\"2017-11-30\",\"2017-12-01\",\"2017-12-04\",\"2017-12-05\",\"2017-12-06\",\"2017-12-07\",\"2017-12-08\",\"2017-12-11\",\"2017-12-12\",\"2017-12-13\",\"2017-12-14\",\"2017-12-15\",\"2017-12-18\",\"2017-12-19\",\"2017-12-20\",\"2017-12-21\",\"2017-12-22\",\"2017-12-26\",\"2017-12-27\",\"2017-12-28\",\"2017-12-29\",\"2018-01-02\",\"2018-01-03\",\"2018-01-04\",\"2018-01-05\",\"2018-01-08\",\"2018-01-10\",\"2018-01-11\",\"2018-01-12\",\"2018-01-16\",\"2018-01-17\",\"2018-01-18\",\"2018-01-19\",\"2018-01-22\",\"2018-01-23\",\"2018-01-26\",\"2018-01-30\",\"2018-01-31\"],\"y\":[27953.0,25974.0,23582.80078125,21274.0,19212.5,17398.5,17233.599609375,18800.19921875,17316.0,16079.2001953125,16491.400390625,16161.599609375,16079.2001953125,16491.400390625,18470.400390625,16986.19921875,15419.5,14594.900390625,15914.2001953125,16903.69921875,16491.400390625,15666.900390625,18965.19921875,19377.400390625,20119.599609375,18717.80078125,17728.30078125,18965.19921875,19624.80078125,21438.900390625,20944.099609375,21026.599609375,20614.30078125,20861.69921875,21026.599609375,20944.099609375,20944.099609375,20614.30078125,21851.19921875,22263.5,22263.5,21274.0,20366.900390625,20202.0,19295.0,18140.599609375,17480.900390625,18965.19921875,18635.30078125,18717.80078125,18717.80078125,18717.80078125,18717.80078125,18717.80078125,16903.69921875,16161.599609375,15419.5,16161.599609375,15419.5,13440.5,13687.900390625,12945.7998046875,12203.7001953125,12368.599609375,12698.400390625,12368.599609375,12698.400390625,12616.0,12368.599609375,12698.400390625,12698.400390625,12368.599609375,12451.0,12616.0,12616.0,12616.0,12616.0,12616.0,12616.0,12616.0,12616.0,12616.0,12616.0,12616.0,12616.0,12616.0,12616.0,12616.0,12616.0,12616.0,12616.0,12616.0,12616.0,12616.0,12616.0,12616.0,12616.0,12616.0,12616.0,12616.0,12616.0,12616.0,12616.0,12616.0,12616.0,12616.0,12616.0,12616.0,12616.0,12616.0,12616.0,12616.0,12616.0,12616.0,7503.60986328125,7998.35009765625,8987.83984375,8740.4697265625,9647.5,9317.669921875,9400.1201171875,9565.0400390625,9647.5,9894.8701171875,11131.7001953125,11379.099609375,10307.2001953125,10307.2001953125,10389.599609375,10389.599609375,10389.599609375,9812.41015625,9317.669921875,8493.08984375,9235.2099609375,8905.3798828125,9317.669921875,9070.2900390625,8658.009765625,8493.08984375,9647.5,9235.2099609375,8493.08984375,8987.83984375,9400.1201171875,9482.580078125,9070.2900390625,8905.3798828125,8987.83984375,8575.5498046875,8163.27001953125,7998.35009765625,7586.06005859375,7421.14990234375,7833.43994140625,7586.06005859375,7503.60986328125,7750.97998046875,7421.14990234375,7173.77978515625,7338.68994140625,7421.14990234375,7833.43994140625,8163.27001953125,7421.14990234375,7008.85986328125,7091.31982421875,7915.89013671875,7503.60986328125,7503.60986328125,7915.89013671875,7256.240234375,7503.60986328125,7503.60986328125,7338.68994140625,7421.14990234375,7338.68994140625,7256.240234375,6596.580078125,6184.2900390625,5607.08984375,5194.81005859375,6679.0400390625,6679.0400390625,6596.580078125,6514.1201171875,6596.580078125,6596.580078125,6596.580078125,6431.66015625,6679.0400390625,6596.580078125,6843.9501953125,6761.490234375,6761.490234375,6761.490234375,6843.9501953125,6926.41015625,6843.9501953125,7437.64013671875,7346.93994140625,6893.419921875,7619.0498046875,7256.240234375,7165.52978515625,7346.93994140625,7346.93994140625,7256.240234375,7256.240234375,7437.64013671875,7437.64013671875,7437.64013671875,7437.64013671875,7437.64013671875,7437.64013671875,7256.240234375,7256.240234375,7346.93994140625,7256.240234375,7165.52978515625,6984.1298828125,6893.419921875,7074.830078125,6893.419921875,6893.419921875,6712.02001953125,6712.02001953125,6802.72021484375,6712.02001953125,6712.02001953125,6712.02001953125,6712.02001953125,6621.31982421875,6621.31982421875,6439.91015625,6349.2099609375,6167.7998046875,6258.5,6349.2099609375,6712.02001953125,6712.02001953125,6621.31982421875,6712.02001953125,6984.1298828125,6984.1298828125,6621.31982421875,7074.830078125,6802.72021484375,6621.31982421875,6712.02001953125,6712.02001953125,6712.02001953125,6621.31982421875,6621.31982421875,6712.02001953125,6439.91015625,6439.91015625,6439.91015625,6439.91015625,6621.31982421875,6530.60986328125,6530.60986328125,6349.2099609375,6349.2099609375,6258.5,6349.2099609375,6077.10009765625,5895.68994140625,6167.7998046875,6167.7998046875,6077.10009765625,5895.68994140625,5895.68994140625,5623.580078125,5260.77001953125,5260.77001953125,5260.77001953125,5714.2900390625,5442.18017578125,5351.47021484375,4988.66015625,4988.66015625,5170.06982421875,5170.06982421875,5532.8798828125,5532.8798828125,5623.580078125,5623.580078125,5623.580078125,5532.8798828125,5442.18017578125,5442.18017578125,5532.8798828125,5532.8798828125,5714.2900390625,5714.2900390625,5714.2900390625,5714.2900390625,5714.2900390625,5623.580078125,5623.580078125,5714.2900390625,5804.990234375,5804.990234375,5804.990234375,5986.39013671875,5895.68994140625,5895.68994140625,5986.39013671875,5986.39013671875,6077.10009765625,6077.10009765625,5986.39013671875,5986.39013671875,6077.10009765625,6077.10009765625,6077.10009765625,6258.5,6439.91015625,6349.2099609375,6258.5,6349.2099609375,6349.2099609375,6530.60986328125,6802.72021484375,7256.240234375,7256.240234375,6893.419921875,6621.31982421875,6621.31982421875,6712.02001953125,6621.31982421875,6984.1298828125,6893.419921875,6984.1298828125,6984.1298828125,6893.419921875,7709.75,7891.16015625,7891.16015625,7981.85986328125,8253.9697265625,8253.9697265625,8253.9697265625,7437.64013671875,7619.0498046875,7709.75,7800.4501953125,7981.85986328125,7981.85986328125,7981.85986328125,7981.85986328125,7981.85986328125,7981.85986328125,6984.1298828125,6984.1298828125,6712.02001953125,6712.02001953125,6712.02001953125,6802.72021484375,6712.02001953125,6802.72021484375,6802.72021484375,6802.72021484375,6712.02001953125,6802.72021484375,6621.31982421875,6621.31982421875,6712.02001953125,6621.31982421875,6802.72021484375,6984.1298828125,6984.1298828125,6984.1298828125,6984.1298828125,6893.419921875,6893.419921875,6893.419921875,6666.669921875,6761.89990234375,6666.669921875,6857.14013671875,6952.3798828125,6952.3798828125,7047.6201171875,6857.14013671875,6761.89990234375,6666.669921875,6666.669921875,6000.0,6000.0,6285.7099609375,6380.9501953125,6571.43017578125,6476.18994140625,7142.85986328125,7142.85986328125,7333.330078125,7047.6201171875,6952.3798828125,6952.3798828125,7238.10009765625,6952.3798828125,6952.3798828125,7047.6201171875,7047.6201171875,7047.6201171875,6952.3798828125,6857.14013671875,7142.85986328125,7047.6201171875,6952.3798828125,6857.14013671875,6857.14013671875,6666.669921875,6285.7099609375,6380.9501953125,6476.18994140625,6095.240234375,6190.47998046875,6190.47998046875,6190.47998046875,6285.7099609375,6190.47998046875,6190.47998046875,6285.7099609375,6285.7099609375,6190.47998046875,6095.240234375,5809.52001953125,5809.52001953125,5809.52001953125,5714.2900390625,5809.52001953125,5809.52001953125,5809.52001953125,5809.52001953125,5809.52001953125,5904.759765625,5428.56982421875,5333.330078125,5333.330078125,5428.56982421875,5428.56982421875,5428.56982421875,4952.3798828125,5142.85986328125,4857.14013671875,5238.10009765625,5238.10009765625,5238.10009765625,5238.10009765625,5333.330078125,5238.10009765625,5238.10009765625,5238.10009765625,5333.330078125,5238.10009765625,5238.10009765625,5333.330078125,5523.81005859375,5523.81005859375,5619.0498046875,5523.81005859375,5523.81005859375,5619.0498046875,5714.2900390625,5809.52001953125,5714.2900390625,5809.52001953125,5809.52001953125,5904.759765625,5904.759765625,5904.759765625,5809.52001953125,5809.52001953125,5619.0498046875,5619.0498046875,5619.0498046875,5714.2900390625,5619.0498046875,5619.0498046875,5619.0498046875,5619.0498046875,5619.0498046875,5428.56982421875,5619.0498046875,5619.0498046875,5523.81005859375,5714.2900390625,5714.2900390625,5714.2900390625,5619.0498046875,5714.2900390625,5619.0498046875,5619.0498046875,5523.81005859375,5238.10009765625,5333.330078125,5238.10009765625,5238.10009765625,5142.85986328125,5047.6201171875,5142.85986328125,5047.6201171875,5047.6201171875,4952.3798828125,4952.3798828125,4571.43017578125,4666.669921875,4952.3798828125,5238.10009765625,4952.3798828125,5333.330078125,5238.10009765625,5238.10009765625,5238.10009765625,5047.6201171875,5047.6201171875,5047.6201171875,5047.6201171875,4761.89990234375,5142.85986328125,5047.6201171875,5047.6201171875,4952.3798828125,4952.3798828125,5047.6201171875,5142.85986328125,5047.6201171875,5047.6201171875,5142.85986328125,5428.56982421875,5428.56982421875,5238.10009765625,5523.81005859375,5714.2900390625,6095.240234375,6095.240234375,6095.240234375,6095.240234375,6095.240234375,6095.240234375,5714.2900390625,5523.81005859375,5714.2900390625,5619.0498046875,5619.0498046875,5523.81005859375,5619.0498046875,5523.81005859375,5523.81005859375,5428.56982421875,5714.2900390625,5714.2900390625,5904.759765625,5714.2900390625,5714.2900390625,5714.2900390625,5619.0498046875,5619.0498046875,5619.0498046875,5619.0498046875,5619.0498046875,5619.0498046875,5619.0498046875,5619.0498046875,5523.81005859375,5523.81005859375,5619.0498046875,5619.0498046875,5904.759765625,6000.0,6190.47998046875,6095.240234375,6000.0,6095.240234375,6095.240234375,6095.240234375,6190.47998046875,6095.240234375,6000.0,5809.52001953125,5714.2900390625,5809.52001953125,5809.52001953125,5714.2900390625,5714.2900390625,5714.2900390625,5714.2900390625,5523.81005859375,5333.330078125,5333.330078125,5428.56982421875,5428.56982421875,5523.81005859375,5619.0498046875,5809.52001953125,5809.52001953125,5904.759765625,5904.759765625,6000.0,6000.0,5714.2900390625,6285.7099609375,6380.9501953125,6285.7099609375,6285.7099609375,6476.18994140625,6476.18994140625,6476.18994140625,6000.0,6761.89990234375,6666.669921875,6761.89990234375,6571.43017578125,6476.18994140625,6190.47998046875,6095.240234375,6285.7099609375,6380.9501953125,6000.0,6000.0,6095.240234375,6000.0,6380.9501953125,6380.9501953125,6571.43017578125,6600.0,6700.0,6600.0,6600.0,7000.0,6800.0,6800.0,6800.0,6900.0,7000.0,6900.0,6900.0,6800.0,6800.0,6800.0,7100.0,7000.0,7600.0,7900.0,7600.0,7300.0,7100.0,7000.0,7000.0,7000.0,6800.0,6700.0,6800.0,6700.0,6800.0,6600.0,6700.0,6700.0,7000.0,7000.0,7000.0,7000.0,7000.0,7100.0,7800.0,7800.0,7800.0,7300.0,7400.0,7600.0,7700.0,7600.0,7400.0,7500.0,7400.0,7400.0,7400.0,7100.0,7100.0,7100.0,7500.0,7500.0,7400.0,7300.0,7500.0,7400.0,7400.0,7400.0,7500.0,7300.0,7300.0,7300.0,7300.0,7300.0,7300.0,7300.0,7300.0,7300.0,7300.0,7400.0,7300.0,7200.0,7200.0,7200.0,7000.0,6800.0,6800.0,7000.0,7000.0,7100.0,7100.0,7000.0,7000.0,7000.0,7100.0,7000.0,7200.0,7200.0,7200.0,7200.0,7200.0,7400.0,7300.0,7200.0,7200.0,7100.0,7100.0,7100.0,7000.0,7000.0,7100.0,7200.0,7200.0,7200.0,7200.0,7400.0,7500.0,7500.0,7600.0,7500.0,7700.0,7900.0,9000.0,9500.0,10000.0,9700.0,10800.0,11700.0,11300.0,10300.0,9900.0,10800.0,11500.0,11600.0,11600.0,11600.0,10500.0,10500.0,10500.0,10000.0,10000.0,10100.0,10100.0,9900.0,10000.0,9900.0,10500.0,10400.0,10600.0,10500.0,10300.0,10500.0,10100.0,10000.0,9900.0,9600.0,9700.0,9400.0,9500.0,9600.0,9700.0,8400.0,9300.0,9100.0],\"type\":\"scatter\"},{\"line\":{\"color\":\"rgba(128, 0, 128, 1.0)\",\"dash\":\"solid\",\"shape\":\"linear\",\"width\":1.3},\"mode\":\"lines\",\"name\":\"Close\",\"text\":\"\",\"x\":[\"2014-12-04\",\"2014-12-05\",\"2014-12-08\",\"2014-12-09\",\"2014-12-10\",\"2014-12-11\",\"2014-12-12\",\"2014-12-15\",\"2014-12-16\",\"2014-12-17\",\"2014-12-18\",\"2014-12-19\",\"2014-12-22\",\"2014-12-23\",\"2014-12-24\",\"2014-12-26\",\"2014-12-29\",\"2014-12-30\",\"2014-12-31\",\"2015-01-02\",\"2015-01-05\",\"2015-01-06\",\"2015-01-07\",\"2015-01-08\",\"2015-01-09\",\"2015-01-12\",\"2015-01-13\",\"2015-01-14\",\"2015-01-15\",\"2015-01-16\",\"2015-01-20\",\"2015-01-21\",\"2015-01-22\",\"2015-01-23\",\"2015-01-26\",\"2015-01-27\",\"2015-01-28\",\"2015-01-29\",\"2015-01-30\",\"2015-02-02\",\"2015-02-03\",\"2015-02-04\",\"2015-02-05\",\"2015-02-06\",\"2015-02-09\",\"2015-02-10\",\"2015-02-11\",\"2015-02-12\",\"2015-02-13\",\"2015-02-18\",\"2015-02-19\",\"2015-02-20\",\"2015-02-23\",\"2015-02-24\",\"2015-02-25\",\"2015-02-26\",\"2015-02-27\",\"2015-03-02\",\"2015-03-03\",\"2015-03-04\",\"2015-03-05\",\"2015-03-06\",\"2015-03-09\",\"2015-03-10\",\"2015-03-11\",\"2015-03-12\",\"2015-03-13\",\"2015-03-16\",\"2015-03-17\",\"2015-03-18\",\"2015-03-19\",\"2015-03-20\",\"2015-03-23\",\"2015-03-24\",\"2015-03-25\",\"2015-03-26\",\"2015-03-27\",\"2015-03-30\",\"2015-03-31\",\"2015-04-01\",\"2015-04-02\",\"2015-04-06\",\"2015-04-07\",\"2015-04-08\",\"2015-04-09\",\"2015-04-10\",\"2015-04-13\",\"2015-04-14\",\"2015-04-15\",\"2015-04-16\",\"2015-04-17\",\"2015-04-20\",\"2015-04-21\",\"2015-04-22\",\"2015-04-23\",\"2015-04-24\",\"2015-04-27\",\"2015-04-28\",\"2015-04-29\",\"2015-04-30\",\"2015-05-01\",\"2015-05-04\",\"2015-05-05\",\"2015-05-06\",\"2015-05-07\",\"2015-05-08\",\"2015-05-11\",\"2015-05-12\",\"2015-05-13\",\"2015-05-14\",\"2015-05-15\",\"2015-05-18\",\"2015-05-19\",\"2015-05-20\",\"2015-05-21\",\"2015-05-22\",\"2015-05-26\",\"2015-05-27\",\"2015-05-28\",\"2015-05-29\",\"2015-06-01\",\"2015-06-02\",\"2015-06-03\",\"2015-06-04\",\"2015-06-05\",\"2015-06-08\",\"2015-06-09\",\"2015-06-10\",\"2015-06-11\",\"2015-06-12\",\"2015-06-15\",\"2015-06-16\",\"2015-06-17\",\"2015-06-18\",\"2015-06-19\",\"2015-06-22\",\"2015-06-23\",\"2015-06-24\",\"2015-06-25\",\"2015-06-26\",\"2015-06-29\",\"2015-06-30\",\"2015-07-01\",\"2015-07-02\",\"2015-07-06\",\"2015-07-07\",\"2015-07-08\",\"2015-07-09\",\"2015-07-10\",\"2015-07-13\",\"2015-07-14\",\"2015-07-15\",\"2015-07-16\",\"2015-07-17\",\"2015-07-20\",\"2015-07-21\",\"2015-07-22\",\"2015-07-23\",\"2015-07-24\",\"2015-07-27\",\"2015-07-28\",\"2015-07-29\",\"2015-07-30\",\"2015-07-31\",\"2015-08-03\",\"2015-08-04\",\"2015-08-05\",\"2015-08-06\",\"2015-08-07\",\"2015-08-10\",\"2015-08-11\",\"2015-08-12\",\"2015-08-13\",\"2015-08-14\",\"2015-08-17\",\"2015-08-18\",\"2015-08-19\",\"2015-08-20\",\"2015-08-21\",\"2015-08-24\",\"2015-08-25\",\"2015-08-26\",\"2015-08-27\",\"2015-08-28\",\"2015-08-31\",\"2015-09-01\",\"2015-09-02\",\"2015-09-03\",\"2015-09-04\",\"2015-09-08\",\"2015-09-09\",\"2015-09-10\",\"2015-09-11\",\"2015-09-14\",\"2015-09-15\",\"2015-09-16\",\"2015-09-17\",\"2015-09-18\",\"2015-09-21\",\"2015-09-22\",\"2015-09-23\",\"2015-09-24\",\"2015-09-25\",\"2015-09-28\",\"2015-09-29\",\"2015-09-30\",\"2015-10-01\",\"2015-10-02\",\"2015-10-05\",\"2015-10-06\",\"2015-10-07\",\"2015-10-08\",\"2015-10-09\",\"2015-10-12\",\"2015-10-13\",\"2015-10-14\",\"2015-10-15\",\"2015-10-16\",\"2015-10-19\",\"2015-10-20\",\"2015-10-21\",\"2015-10-22\",\"2015-10-23\",\"2015-10-26\",\"2015-10-27\",\"2015-10-28\",\"2015-10-29\",\"2015-10-30\",\"2015-11-02\",\"2015-11-03\",\"2015-11-04\",\"2015-11-05\",\"2015-11-06\",\"2015-11-09\",\"2015-11-10\",\"2015-11-11\",\"2015-11-12\",\"2015-11-13\",\"2015-11-16\",\"2015-11-17\",\"2015-11-18\",\"2015-11-19\",\"2015-11-20\",\"2015-11-23\",\"2015-11-24\",\"2015-11-25\",\"2015-11-27\",\"2015-11-30\",\"2015-12-01\",\"2015-12-02\",\"2015-12-03\",\"2015-12-04\",\"2015-12-07\",\"2015-12-08\",\"2015-12-09\",\"2015-12-10\",\"2015-12-11\",\"2015-12-14\",\"2015-12-15\",\"2015-12-16\",\"2015-12-17\",\"2015-12-18\",\"2015-12-21\",\"2015-12-22\",\"2015-12-23\",\"2015-12-24\",\"2015-12-28\",\"2015-12-29\",\"2015-12-30\",\"2015-12-31\",\"2016-01-04\",\"2016-01-05\",\"2016-01-06\",\"2016-01-07\",\"2016-01-08\",\"2016-01-11\",\"2016-01-12\",\"2016-01-13\",\"2016-01-14\",\"2016-01-15\",\"2016-01-19\",\"2016-01-20\",\"2016-01-21\",\"2016-01-22\",\"2016-01-25\",\"2016-01-26\",\"2016-01-27\",\"2016-01-28\",\"2016-01-29\",\"2016-02-01\",\"2016-02-02\",\"2016-02-03\",\"2016-02-04\",\"2016-02-05\",\"2016-02-08\",\"2016-02-09\",\"2016-02-10\",\"2016-02-11\",\"2016-02-12\",\"2016-02-16\",\"2016-02-17\",\"2016-02-18\",\"2016-02-19\",\"2016-02-22\",\"2016-02-23\",\"2016-02-24\",\"2016-02-25\",\"2016-02-26\",\"2016-02-29\",\"2016-03-01\",\"2016-03-02\",\"2016-03-03\",\"2016-03-04\",\"2016-03-07\",\"2016-03-08\",\"2016-03-09\",\"2016-03-10\",\"2016-03-11\",\"2016-03-14\",\"2016-03-15\",\"2016-03-16\",\"2016-03-17\",\"2016-03-18\",\"2016-03-21\",\"2016-03-22\",\"2016-03-23\",\"2016-03-24\",\"2016-03-28\",\"2016-03-29\",\"2016-03-30\",\"2016-03-31\",\"2016-04-01\",\"2016-04-04\",\"2016-04-05\",\"2016-04-06\",\"2016-04-07\",\"2016-04-08\",\"2016-04-11\",\"2016-04-12\",\"2016-04-13\",\"2016-04-14\",\"2016-04-15\",\"2016-04-18\",\"2016-04-19\",\"2016-04-20\",\"2016-04-21\",\"2016-04-22\",\"2016-04-26\",\"2016-04-27\",\"2016-04-28\",\"2016-04-29\",\"2016-05-02\",\"2016-05-03\",\"2016-05-04\",\"2016-05-05\",\"2016-05-06\",\"2016-05-09\",\"2016-05-10\",\"2016-05-11\",\"2016-05-12\",\"2016-05-13\",\"2016-05-16\",\"2016-05-17\",\"2016-05-18\",\"2016-05-19\",\"2016-05-20\",\"2016-05-23\",\"2016-05-24\",\"2016-05-25\",\"2016-05-26\",\"2016-05-27\",\"2016-05-31\",\"2016-06-01\",\"2016-06-02\",\"2016-06-03\",\"2016-06-06\",\"2016-06-07\",\"2016-06-08\",\"2016-06-09\",\"2016-06-10\",\"2016-06-13\",\"2016-06-14\",\"2016-06-15\",\"2016-06-16\",\"2016-06-17\",\"2016-06-20\",\"2016-06-21\",\"2016-06-22\",\"2016-06-23\",\"2016-06-24\",\"2016-06-27\",\"2016-06-28\",\"2016-06-29\",\"2016-06-30\",\"2016-07-01\",\"2016-07-05\",\"2016-07-06\",\"2016-07-07\",\"2016-07-08\",\"2016-07-11\",\"2016-07-12\",\"2016-07-13\",\"2016-07-14\",\"2016-07-15\",\"2016-07-18\",\"2016-07-19\",\"2016-07-20\",\"2016-07-21\",\"2016-07-22\",\"2016-07-25\",\"2016-07-26\",\"2016-07-27\",\"2016-07-28\",\"2016-07-29\",\"2016-08-01\",\"2016-08-02\",\"2016-08-03\",\"2016-08-04\",\"2016-08-05\",\"2016-08-08\",\"2016-08-09\",\"2016-08-10\",\"2016-08-11\",\"2016-08-12\",\"2016-08-15\",\"2016-08-16\",\"2016-08-17\",\"2016-08-18\",\"2016-08-19\",\"2016-08-22\",\"2016-08-23\",\"2016-08-24\",\"2016-08-25\",\"2016-08-26\",\"2016-08-29\",\"2016-08-30\",\"2016-08-31\",\"2016-09-01\",\"2016-09-02\",\"2016-09-06\",\"2016-09-07\",\"2016-09-08\",\"2016-09-09\",\"2016-09-12\",\"2016-09-13\",\"2016-09-14\",\"2016-09-15\",\"2016-09-16\",\"2016-09-19\",\"2016-09-20\",\"2016-09-21\",\"2016-09-22\",\"2016-09-23\",\"2016-09-26\",\"2016-09-27\",\"2016-09-28\",\"2016-09-29\",\"2016-09-30\",\"2016-10-03\",\"2016-10-04\",\"2016-10-05\",\"2016-10-06\",\"2016-10-07\",\"2016-10-10\",\"2016-10-11\",\"2016-10-12\",\"2016-10-13\",\"2016-10-14\",\"2016-10-17\",\"2016-10-18\",\"2016-10-19\",\"2016-10-20\",\"2016-10-21\",\"2016-10-24\",\"2016-10-25\",\"2016-10-26\",\"2016-10-27\",\"2016-10-28\",\"2016-10-31\",\"2016-11-01\",\"2016-11-02\",\"2016-11-03\",\"2016-11-04\",\"2016-11-07\",\"2016-11-08\",\"2016-11-09\",\"2016-11-10\",\"2016-11-11\",\"2016-11-14\",\"2016-11-15\",\"2016-11-16\",\"2016-11-17\",\"2016-11-18\",\"2016-11-21\",\"2016-11-22\",\"2016-11-23\",\"2016-11-25\",\"2016-11-28\",\"2016-11-29\",\"2016-11-30\",\"2016-12-01\",\"2016-12-02\",\"2016-12-05\",\"2016-12-06\",\"2016-12-07\",\"2016-12-08\",\"2016-12-09\",\"2016-12-12\",\"2016-12-13\",\"2016-12-14\",\"2016-12-15\",\"2016-12-16\",\"2016-12-19\",\"2016-12-20\",\"2016-12-21\",\"2016-12-22\",\"2016-12-23\",\"2016-12-27\",\"2016-12-28\",\"2016-12-29\",\"2016-12-30\",\"2017-01-03\",\"2017-01-04\",\"2017-01-05\",\"2017-01-06\",\"2017-01-09\",\"2017-01-10\",\"2017-01-11\",\"2017-01-12\",\"2017-01-13\",\"2017-01-17\",\"2017-01-18\",\"2017-01-19\",\"2017-01-20\",\"2017-01-23\",\"2017-01-24\",\"2017-01-25\",\"2017-01-26\",\"2017-01-27\",\"2017-01-30\",\"2017-01-31\",\"2017-02-01\",\"2017-02-02\",\"2017-02-03\",\"2017-02-06\",\"2017-02-07\",\"2017-02-08\",\"2017-02-09\",\"2017-02-10\",\"2017-02-13\",\"2017-02-14\",\"2017-02-16\",\"2017-02-17\",\"2017-02-21\",\"2017-02-22\",\"2017-02-23\",\"2017-02-24\",\"2017-02-27\",\"2017-02-28\",\"2017-03-01\",\"2017-03-02\",\"2017-03-03\",\"2017-03-06\",\"2017-03-07\",\"2017-03-08\",\"2017-03-09\",\"2017-03-10\",\"2017-03-13\",\"2017-03-14\",\"2017-03-15\",\"2017-03-16\",\"2017-03-17\",\"2017-03-20\",\"2017-03-21\",\"2017-03-22\",\"2017-03-23\",\"2017-03-24\",\"2017-03-27\",\"2017-03-28\",\"2017-03-29\",\"2017-03-30\",\"2017-03-31\",\"2017-04-03\",\"2017-04-04\",\"2017-04-05\",\"2017-04-06\",\"2017-04-07\",\"2017-04-10\",\"2017-04-11\",\"2017-04-12\",\"2017-04-13\",\"2017-04-17\",\"2017-04-18\",\"2017-04-19\",\"2017-04-20\",\"2017-04-21\",\"2017-04-24\",\"2017-04-25\",\"2017-04-26\",\"2017-04-27\",\"2017-04-28\",\"2017-05-01\",\"2017-05-02\",\"2017-05-03\",\"2017-05-04\",\"2017-05-05\",\"2017-05-08\",\"2017-05-09\",\"2017-05-10\",\"2017-05-11\",\"2017-05-12\",\"2017-05-15\",\"2017-05-16\",\"2017-05-17\",\"2017-05-18\",\"2017-05-19\",\"2017-05-22\",\"2017-05-23\",\"2017-05-24\",\"2017-05-25\",\"2017-05-26\",\"2017-05-30\",\"2017-05-31\",\"2017-06-01\",\"2017-06-02\",\"2017-06-05\",\"2017-06-06\",\"2017-06-07\",\"2017-06-08\",\"2017-06-09\",\"2017-06-12\",\"2017-06-13\",\"2017-06-14\",\"2017-06-15\",\"2017-06-16\",\"2017-06-19\",\"2017-06-20\",\"2017-06-21\",\"2017-06-22\",\"2017-06-26\",\"2017-06-27\",\"2017-06-28\",\"2017-06-29\",\"2017-06-30\",\"2017-07-03\",\"2017-07-05\",\"2017-07-06\",\"2017-07-07\",\"2017-07-10\",\"2017-07-11\",\"2017-07-12\",\"2017-07-13\",\"2017-07-14\",\"2017-07-17\",\"2017-07-18\",\"2017-07-19\",\"2017-07-20\",\"2017-07-21\",\"2017-07-24\",\"2017-07-25\",\"2017-07-26\",\"2017-07-27\",\"2017-07-28\",\"2017-07-31\",\"2017-08-01\",\"2017-08-02\",\"2017-08-03\",\"2017-08-04\",\"2017-08-07\",\"2017-08-08\",\"2017-08-09\",\"2017-08-10\",\"2017-08-11\",\"2017-08-14\",\"2017-08-15\",\"2017-08-16\",\"2017-08-17\",\"2017-08-18\",\"2017-08-21\",\"2017-08-22\",\"2017-08-23\",\"2017-08-24\",\"2017-08-25\",\"2017-08-28\",\"2017-08-29\",\"2017-08-30\",\"2017-08-31\",\"2017-09-01\",\"2017-09-05\",\"2017-09-06\",\"2017-09-07\",\"2017-09-08\",\"2017-09-11\",\"2017-09-12\",\"2017-09-13\",\"2017-09-14\",\"2017-09-15\",\"2017-09-18\",\"2017-09-19\",\"2017-09-20\",\"2017-09-21\",\"2017-09-22\",\"2017-09-25\",\"2017-09-26\",\"2017-09-27\",\"2017-09-28\",\"2017-09-29\",\"2017-10-02\",\"2017-10-03\",\"2017-10-04\",\"2017-10-05\",\"2017-10-06\",\"2017-10-09\",\"2017-10-10\",\"2017-10-11\",\"2017-10-12\",\"2017-10-13\",\"2017-10-16\",\"2017-10-17\",\"2017-10-18\",\"2017-10-19\",\"2017-10-20\",\"2017-10-23\",\"2017-10-24\",\"2017-10-25\",\"2017-10-26\",\"2017-10-27\",\"2017-10-30\",\"2017-10-31\",\"2017-11-01\",\"2017-11-02\",\"2017-11-03\",\"2017-11-06\",\"2017-11-07\",\"2017-11-08\",\"2017-11-09\",\"2017-11-10\",\"2017-11-13\",\"2017-11-14\",\"2017-11-15\",\"2017-11-16\",\"2017-11-17\",\"2017-11-20\",\"2017-11-21\",\"2017-11-22\",\"2017-11-24\",\"2017-11-27\",\"2017-11-28\",\"2017-11-29\",\"2017-11-30\",\"2017-12-01\",\"2017-12-04\",\"2017-12-05\",\"2017-12-06\",\"2017-12-07\",\"2017-12-08\",\"2017-12-11\",\"2017-12-12\",\"2017-12-13\",\"2017-12-14\",\"2017-12-15\",\"2017-12-18\",\"2017-12-19\",\"2017-12-20\",\"2017-12-21\",\"2017-12-22\",\"2017-12-26\",\"2017-12-27\",\"2017-12-28\",\"2017-12-29\",\"2018-01-02\",\"2018-01-03\",\"2018-01-04\",\"2018-01-05\",\"2018-01-08\",\"2018-01-10\",\"2018-01-11\",\"2018-01-12\",\"2018-01-16\",\"2018-01-17\",\"2018-01-18\",\"2018-01-19\",\"2018-01-22\",\"2018-01-23\",\"2018-01-26\",\"2018-01-30\",\"2018-01-31\"],\"y\":[28447.69921875,26056.5,23582.80078125,21274.0,19295.0,17728.30078125,19047.599609375,19212.5,17480.900390625,16409.0,17563.400390625,16738.80078125,16821.30078125,18470.400390625,18800.19921875,17068.599609375,15914.2001953125,16409.0,16903.69921875,16903.69921875,16821.30078125,18470.400390625,19872.19921875,20119.599609375,20614.30078125,18965.19921875,19707.30078125,20119.599609375,22098.5,21521.30078125,21109.0,21109.0,21026.599609375,21851.19921875,22016.099609375,21438.900390625,21438.900390625,22758.19921875,22923.099609375,22840.69921875,22428.400390625,21356.400390625,20531.80078125,20614.30078125,19459.900390625,18635.30078125,19459.900390625,19212.5,18717.80078125,18717.80078125,18717.80078125,18717.80078125,18717.80078125,18717.80078125,17233.599609375,16491.400390625,16573.900390625,16409.0,16244.099609375,13440.5,13770.400390625,13110.7001953125,12698.400390625,13028.2001953125,12698.400390625,12945.7998046875,12945.7998046875,12698.400390625,13028.2001953125,12863.2998046875,12698.400390625,12698.400390625,12616.0,12616.0,12616.0,12616.0,12616.0,12616.0,12616.0,12616.0,12616.0,12616.0,12616.0,12616.0,12616.0,12616.0,12616.0,12616.0,12616.0,12616.0,12616.0,12616.0,12616.0,12616.0,12616.0,12616.0,12616.0,12616.0,12616.0,12616.0,12616.0,12616.0,12616.0,12616.0,12616.0,12616.0,12616.0,12616.0,12616.0,12616.0,12616.0,12616.0,12616.0,12616.0,7998.35009765625,8740.4697265625,8987.83984375,9647.5,10059.7998046875,9482.580078125,9565.0400390625,9647.5,9894.8701171875,10884.400390625,11544.0,11379.099609375,10801.900390625,10637.0,10472.099609375,10801.900390625,10637.0,9812.41015625,9317.669921875,9647.5,9317.669921875,9482.580078125,9400.1201171875,9070.2900390625,8658.009765625,9482.580078125,9894.8701171875,9235.2099609375,9317.669921875,9647.5,9812.41015625,9565.0400390625,9235.2099609375,9235.2099609375,8987.83984375,8575.5498046875,8822.919921875,8410.6396484375,8163.27001953125,8163.27001953125,7998.35009765625,7668.52001953125,7915.89013671875,7750.97998046875,7915.89013671875,7668.52001953125,7750.97998046875,7915.89013671875,8575.5498046875,8163.27001953125,7750.97998046875,7833.43994140625,8080.81005859375,7915.89013671875,7915.89013671875,7833.43994140625,7998.35009765625,7833.43994140625,7668.52001953125,7668.52001953125,7503.60986328125,7668.52001953125,7586.06005859375,7256.240234375,6843.9501953125,6184.2900390625,5772.009765625,6349.2099609375,6926.41015625,6926.41015625,6679.0400390625,6596.580078125,6596.580078125,6679.0400390625,6596.580078125,6761.490234375,6679.0400390625,6926.41015625,7091.31982421875,6761.490234375,6926.41015625,6926.41015625,6843.9501953125,6926.41015625,7091.31982421875,7437.64013671875,7619.0498046875,7800.4501953125,7619.0498046875,7256.240234375,7437.64013671875,7346.93994140625,7437.64013671875,7346.93994140625,7346.93994140625,7709.75,7437.64013671875,7619.0498046875,7528.33984375,7528.33984375,7437.64013671875,7346.93994140625,7346.93994140625,7346.93994140625,7346.93994140625,7256.240234375,6984.1298828125,7165.52978515625,7165.52978515625,6893.419921875,6893.419921875,6712.02001953125,6984.1298828125,6802.72021484375,6802.72021484375,6802.72021484375,6802.72021484375,6893.419921875,6621.31982421875,6621.31982421875,6530.60986328125,6349.2099609375,6349.2099609375,6258.5,6802.72021484375,6712.02001953125,6712.02001953125,6893.419921875,6893.419921875,7165.52978515625,7074.830078125,7437.64013671875,7074.830078125,6802.72021484375,6712.02001953125,6802.72021484375,6893.419921875,6802.72021484375,6802.72021484375,6802.72021484375,6712.02001953125,6439.91015625,6530.60986328125,6439.91015625,6712.02001953125,6621.31982421875,6621.31982421875,6530.60986328125,6439.91015625,6439.91015625,6349.2099609375,6349.2099609375,6077.10009765625,6167.7998046875,6258.5,6167.7998046875,6077.10009765625,5895.68994140625,5986.39013671875,5623.580078125,5351.47021484375,5351.47021484375,5804.990234375,5804.990234375,5532.8798828125,5351.47021484375,5170.06982421875,5260.77001953125,5260.77001953125,5442.18017578125,5895.68994140625,5532.8798828125,5804.990234375,5714.2900390625,5714.2900390625,5623.580078125,5532.8798828125,5532.8798828125,5532.8798828125,5714.2900390625,5714.2900390625,5714.2900390625,5714.2900390625,5714.2900390625,5714.2900390625,5714.2900390625,5714.2900390625,5804.990234375,5804.990234375,5804.990234375,5804.990234375,6167.7998046875,5895.68994140625,6077.10009765625,5986.39013671875,6077.10009765625,6258.5,6077.10009765625,6077.10009765625,6077.10009765625,6258.5,6167.7998046875,6258.5,6439.91015625,6530.60986328125,6349.2099609375,6439.91015625,6349.2099609375,6530.60986328125,6893.419921875,7256.240234375,7346.93994140625,7256.240234375,6984.1298828125,6712.02001953125,7074.830078125,6802.72021484375,7165.52978515625,6984.1298828125,7074.830078125,7074.830078125,6984.1298828125,7619.0498046875,7981.85986328125,8163.27001953125,8072.56005859375,8253.9697265625,8253.9697265625,8253.9697265625,8253.9697265625,7709.75,7709.75,7981.85986328125,7981.85986328125,7981.85986328125,7981.85986328125,7981.85986328125,7981.85986328125,7981.85986328125,7981.85986328125,7074.830078125,7074.830078125,6712.02001953125,6712.02001953125,6712.02001953125,6893.419921875,6802.72021484375,6802.72021484375,6802.72021484375,6802.72021484375,6802.72021484375,6802.72021484375,6712.02001953125,6802.72021484375,6802.72021484375,6802.72021484375,6984.1298828125,6984.1298828125,7074.830078125,7074.830078125,6984.1298828125,6984.1298828125,6893.419921875,6984.1298828125,6761.89990234375,6761.89990234375,6952.3798828125,7238.10009765625,7047.6201171875,7142.85986328125,7047.6201171875,6857.14013671875,6857.14013671875,6666.669921875,6666.669921875,6190.47998046875,6380.9501953125,6380.9501953125,6666.669921875,6571.43017578125,6476.18994140625,7238.10009765625,7428.56982421875,7428.56982421875,7333.330078125,6952.3798828125,7142.85986328125,7238.10009765625,6952.3798828125,7047.6201171875,7142.85986328125,7238.10009765625,7142.85986328125,6952.3798828125,7142.85986328125,7238.10009765625,7142.85986328125,6952.3798828125,6952.3798828125,6952.3798828125,6666.669921875,6380.9501953125,6571.43017578125,6476.18994140625,6285.7099609375,6190.47998046875,6380.9501953125,6380.9501953125,6476.18994140625,6285.7099609375,6285.7099609375,6380.9501953125,6285.7099609375,6285.7099609375,6095.240234375,5809.52001953125,5809.52001953125,5809.52001953125,5809.52001953125,6095.240234375,5809.52001953125,5904.759765625,5809.52001953125,5904.759765625,5904.759765625,5428.56982421875,5333.330078125,5428.56982421875,5714.2900390625,5619.0498046875,5428.56982421875,5142.85986328125,5333.330078125,5238.10009765625,5238.10009765625,5238.10009765625,5333.330078125,5333.330078125,5428.56982421875,5238.10009765625,5238.10009765625,5428.56982421875,5428.56982421875,5428.56982421875,5238.10009765625,5523.81005859375,5714.2900390625,5714.2900390625,5619.0498046875,5619.0498046875,5619.0498046875,5619.0498046875,5904.759765625,5809.52001953125,5904.759765625,5904.759765625,6000.0,6000.0,5904.759765625,5904.759765625,5904.759765625,5809.52001953125,5619.0498046875,5714.2900390625,5619.0498046875,5809.52001953125,5714.2900390625,5714.2900390625,5714.2900390625,5809.52001953125,5809.52001953125,5619.0498046875,5714.2900390625,5809.52001953125,5714.2900390625,5714.2900390625,5714.2900390625,5714.2900390625,5714.2900390625,5809.52001953125,5619.0498046875,5714.2900390625,5523.81005859375,5333.330078125,5428.56982421875,5238.10009765625,5238.10009765625,5238.10009765625,5428.56982421875,5333.330078125,5142.85986328125,5142.85986328125,5047.6201171875,4952.3798828125,5047.6201171875,5142.85986328125,5333.330078125,5238.10009765625,5523.81005859375,5333.330078125,5428.56982421875,5238.10009765625,5238.10009765625,5142.85986328125,5142.85986328125,5238.10009765625,5238.10009765625,5238.10009765625,5238.10009765625,5238.10009765625,5047.6201171875,5047.6201171875,4952.3798828125,5333.330078125,5238.10009765625,5047.6201171875,5142.85986328125,5619.0498046875,5523.81005859375,5523.81005859375,5523.81005859375,5714.2900390625,6095.240234375,6095.240234375,6095.240234375,6095.240234375,6095.240234375,6095.240234375,6095.240234375,5714.2900390625,6000.0,5809.52001953125,5619.0498046875,5714.2900390625,5619.0498046875,5809.52001953125,5523.81005859375,5523.81005859375,5714.2900390625,5904.759765625,6000.0,6000.0,5714.2900390625,5904.759765625,5809.52001953125,5714.2900390625,5714.2900390625,5714.2900390625,5619.0498046875,5619.0498046875,5619.0498046875,5619.0498046875,5619.0498046875,5714.2900390625,5619.0498046875,5619.0498046875,5809.52001953125,5904.759765625,6380.9501953125,6285.7099609375,6190.47998046875,6095.240234375,6190.47998046875,6190.47998046875,6285.7099609375,6285.7099609375,6285.7099609375,6000.0,5904.759765625,5714.2900390625,5809.52001953125,5809.52001953125,5714.2900390625,5904.759765625,5714.2900390625,5714.2900390625,5523.81005859375,5333.330078125,5619.0498046875,5428.56982421875,5428.56982421875,5714.2900390625,5904.759765625,5904.759765625,6000.0,6095.240234375,6000.0,6000.0,6000.0,6476.18994140625,6476.18994140625,6476.18994140625,6476.18994140625,6761.89990234375,6571.43017578125,6666.669921875,6666.669921875,6761.89990234375,6857.14013671875,6952.3798828125,6761.89990234375,6666.669921875,6476.18994140625,6190.47998046875,6285.7099609375,6571.43017578125,6380.9501953125,6000.0,6000.0,6095.240234375,6476.18994140625,6380.9501953125,6666.669921875,6571.43017578125,6800.0,6800.0,6800.0,7200.0,7100.0,7000.0,7000.0,6800.0,7100.0,7200.0,7000.0,7000.0,6900.0,6900.0,7200.0,7100.0,7500.0,8000.0,8000.0,7600.0,7300.0,7300.0,7000.0,7100.0,7100.0,6800.0,6900.0,6800.0,6800.0,6800.0,6700.0,6900.0,7000.0,7000.0,7100.0,7100.0,7100.0,7200.0,7800.0,7800.0,8000.0,7800.0,7600.0,7800.0,7900.0,7900.0,7600.0,7800.0,7500.0,7700.0,7800.0,7600.0,7100.0,7100.0,7700.0,7800.0,7500.0,7400.0,7800.0,7700.0,7500.0,7400.0,7600.0,7600.0,7300.0,7300.0,7600.0,7300.0,7300.0,7300.0,7300.0,7300.0,7300.0,7400.0,7400.0,7300.0,7300.0,7300.0,7200.0,7000.0,6800.0,7000.0,7000.0,7000.0,7200.0,7100.0,7000.0,7000.0,7200.0,7100.0,7300.0,7200.0,7200.0,7200.0,7300.0,7500.0,7600.0,7300.0,7400.0,7200.0,7300.0,7100.0,7200.0,7200.0,7300.0,7300.0,7200.0,7300.0,7300.0,7400.0,7600.0,7600.0,7700.0,7700.0,7600.0,8000.0,8400.0,9800.0,10300.0,10500.0,11100.0,11800.0,12500.0,11300.0,10600.0,11000.0,11700.0,12600.0,12800.0,12800.0,11600.0,11200.0,11300.0,10600.0,10000.0,10400.0,10500.0,10400.0,10300.0,10100.0,10700.0,10600.0,11000.0,10600.0,10500.0,10500.0,10600.0,10400.0,10000.0,9900.0,10000.0,9700.0,9700.0,9900.0,9800.0,9900.0,9300.0,9300.0,9300.0],\"type\":\"scatter\"}],                        {\"legend\":{\"bgcolor\":\"#F5F6F9\",\"font\":{\"color\":\"#4D5663\"}},\"paper_bgcolor\":\"#F5F6F9\",\"plot_bgcolor\":\"#F5F6F9\",\"template\":{\"data\":{\"barpolar\":[{\"marker\":{\"line\":{\"color\":\"#E5ECF6\",\"width\":0.5},\"pattern\":{\"fillmode\":\"overlay\",\"size\":10,\"solidity\":0.2}},\"type\":\"barpolar\"}],\"bar\":[{\"error_x\":{\"color\":\"#2a3f5f\"},\"error_y\":{\"color\":\"#2a3f5f\"},\"marker\":{\"line\":{\"color\":\"#E5ECF6\",\"width\":0.5},\"pattern\":{\"fillmode\":\"overlay\",\"size\":10,\"solidity\":0.2}},\"type\":\"bar\"}],\"carpet\":[{\"aaxis\":{\"endlinecolor\":\"#2a3f5f\",\"gridcolor\":\"white\",\"linecolor\":\"white\",\"minorgridcolor\":\"white\",\"startlinecolor\":\"#2a3f5f\"},\"baxis\":{\"endlinecolor\":\"#2a3f5f\",\"gridcolor\":\"white\",\"linecolor\":\"white\",\"minorgridcolor\":\"white\",\"startlinecolor\":\"#2a3f5f\"},\"type\":\"carpet\"}],\"choropleth\":[{\"colorbar\":{\"outlinewidth\":0,\"ticks\":\"\"},\"type\":\"choropleth\"}],\"contourcarpet\":[{\"colorbar\":{\"outlinewidth\":0,\"ticks\":\"\"},\"type\":\"contourcarpet\"}],\"contour\":[{\"colorbar\":{\"outlinewidth\":0,\"ticks\":\"\"},\"colorscale\":[[0.0,\"#0d0887\"],[0.1111111111111111,\"#46039f\"],[0.2222222222222222,\"#7201a8\"],[0.3333333333333333,\"#9c179e\"],[0.4444444444444444,\"#bd3786\"],[0.5555555555555556,\"#d8576b\"],[0.6666666666666666,\"#ed7953\"],[0.7777777777777778,\"#fb9f3a\"],[0.8888888888888888,\"#fdca26\"],[1.0,\"#f0f921\"]],\"type\":\"contour\"}],\"heatmapgl\":[{\"colorbar\":{\"outlinewidth\":0,\"ticks\":\"\"},\"colorscale\":[[0.0,\"#0d0887\"],[0.1111111111111111,\"#46039f\"],[0.2222222222222222,\"#7201a8\"],[0.3333333333333333,\"#9c179e\"],[0.4444444444444444,\"#bd3786\"],[0.5555555555555556,\"#d8576b\"],[0.6666666666666666,\"#ed7953\"],[0.7777777777777778,\"#fb9f3a\"],[0.8888888888888888,\"#fdca26\"],[1.0,\"#f0f921\"]],\"type\":\"heatmapgl\"}],\"heatmap\":[{\"colorbar\":{\"outlinewidth\":0,\"ticks\":\"\"},\"colorscale\":[[0.0,\"#0d0887\"],[0.1111111111111111,\"#46039f\"],[0.2222222222222222,\"#7201a8\"],[0.3333333333333333,\"#9c179e\"],[0.4444444444444444,\"#bd3786\"],[0.5555555555555556,\"#d8576b\"],[0.6666666666666666,\"#ed7953\"],[0.7777777777777778,\"#fb9f3a\"],[0.8888888888888888,\"#fdca26\"],[1.0,\"#f0f921\"]],\"type\":\"heatmap\"}],\"histogram2dcontour\":[{\"colorbar\":{\"outlinewidth\":0,\"ticks\":\"\"},\"colorscale\":[[0.0,\"#0d0887\"],[0.1111111111111111,\"#46039f\"],[0.2222222222222222,\"#7201a8\"],[0.3333333333333333,\"#9c179e\"],[0.4444444444444444,\"#bd3786\"],[0.5555555555555556,\"#d8576b\"],[0.6666666666666666,\"#ed7953\"],[0.7777777777777778,\"#fb9f3a\"],[0.8888888888888888,\"#fdca26\"],[1.0,\"#f0f921\"]],\"type\":\"histogram2dcontour\"}],\"histogram2d\":[{\"colorbar\":{\"outlinewidth\":0,\"ticks\":\"\"},\"colorscale\":[[0.0,\"#0d0887\"],[0.1111111111111111,\"#46039f\"],[0.2222222222222222,\"#7201a8\"],[0.3333333333333333,\"#9c179e\"],[0.4444444444444444,\"#bd3786\"],[0.5555555555555556,\"#d8576b\"],[0.6666666666666666,\"#ed7953\"],[0.7777777777777778,\"#fb9f3a\"],[0.8888888888888888,\"#fdca26\"],[1.0,\"#f0f921\"]],\"type\":\"histogram2d\"}],\"histogram\":[{\"marker\":{\"pattern\":{\"fillmode\":\"overlay\",\"size\":10,\"solidity\":0.2}},\"type\":\"histogram\"}],\"mesh3d\":[{\"colorbar\":{\"outlinewidth\":0,\"ticks\":\"\"},\"type\":\"mesh3d\"}],\"parcoords\":[{\"line\":{\"colorbar\":{\"outlinewidth\":0,\"ticks\":\"\"}},\"type\":\"parcoords\"}],\"pie\":[{\"automargin\":true,\"type\":\"pie\"}],\"scatter3d\":[{\"line\":{\"colorbar\":{\"outlinewidth\":0,\"ticks\":\"\"}},\"marker\":{\"colorbar\":{\"outlinewidth\":0,\"ticks\":\"\"}},\"type\":\"scatter3d\"}],\"scattercarpet\":[{\"marker\":{\"colorbar\":{\"outlinewidth\":0,\"ticks\":\"\"}},\"type\":\"scattercarpet\"}],\"scattergeo\":[{\"marker\":{\"colorbar\":{\"outlinewidth\":0,\"ticks\":\"\"}},\"type\":\"scattergeo\"}],\"scattergl\":[{\"marker\":{\"colorbar\":{\"outlinewidth\":0,\"ticks\":\"\"}},\"type\":\"scattergl\"}],\"scattermapbox\":[{\"marker\":{\"colorbar\":{\"outlinewidth\":0,\"ticks\":\"\"}},\"type\":\"scattermapbox\"}],\"scatterpolargl\":[{\"marker\":{\"colorbar\":{\"outlinewidth\":0,\"ticks\":\"\"}},\"type\":\"scatterpolargl\"}],\"scatterpolar\":[{\"marker\":{\"colorbar\":{\"outlinewidth\":0,\"ticks\":\"\"}},\"type\":\"scatterpolar\"}],\"scatter\":[{\"fillpattern\":{\"fillmode\":\"overlay\",\"size\":10,\"solidity\":0.2},\"type\":\"scatter\"}],\"scatterternary\":[{\"marker\":{\"colorbar\":{\"outlinewidth\":0,\"ticks\":\"\"}},\"type\":\"scatterternary\"}],\"surface\":[{\"colorbar\":{\"outlinewidth\":0,\"ticks\":\"\"},\"colorscale\":[[0.0,\"#0d0887\"],[0.1111111111111111,\"#46039f\"],[0.2222222222222222,\"#7201a8\"],[0.3333333333333333,\"#9c179e\"],[0.4444444444444444,\"#bd3786\"],[0.5555555555555556,\"#d8576b\"],[0.6666666666666666,\"#ed7953\"],[0.7777777777777778,\"#fb9f3a\"],[0.8888888888888888,\"#fdca26\"],[1.0,\"#f0f921\"]],\"type\":\"surface\"}],\"table\":[{\"cells\":{\"fill\":{\"color\":\"#EBF0F8\"},\"line\":{\"color\":\"white\"}},\"header\":{\"fill\":{\"color\":\"#C8D4E3\"},\"line\":{\"color\":\"white\"}},\"type\":\"table\"}]},\"layout\":{\"annotationdefaults\":{\"arrowcolor\":\"#2a3f5f\",\"arrowhead\":0,\"arrowwidth\":1},\"autotypenumbers\":\"strict\",\"coloraxis\":{\"colorbar\":{\"outlinewidth\":0,\"ticks\":\"\"}},\"colorscale\":{\"diverging\":[[0,\"#8e0152\"],[0.1,\"#c51b7d\"],[0.2,\"#de77ae\"],[0.3,\"#f1b6da\"],[0.4,\"#fde0ef\"],[0.5,\"#f7f7f7\"],[0.6,\"#e6f5d0\"],[0.7,\"#b8e186\"],[0.8,\"#7fbc41\"],[0.9,\"#4d9221\"],[1,\"#276419\"]],\"sequential\":[[0.0,\"#0d0887\"],[0.1111111111111111,\"#46039f\"],[0.2222222222222222,\"#7201a8\"],[0.3333333333333333,\"#9c179e\"],[0.4444444444444444,\"#bd3786\"],[0.5555555555555556,\"#d8576b\"],[0.6666666666666666,\"#ed7953\"],[0.7777777777777778,\"#fb9f3a\"],[0.8888888888888888,\"#fdca26\"],[1.0,\"#f0f921\"]],\"sequentialminus\":[[0.0,\"#0d0887\"],[0.1111111111111111,\"#46039f\"],[0.2222222222222222,\"#7201a8\"],[0.3333333333333333,\"#9c179e\"],[0.4444444444444444,\"#bd3786\"],[0.5555555555555556,\"#d8576b\"],[0.6666666666666666,\"#ed7953\"],[0.7777777777777778,\"#fb9f3a\"],[0.8888888888888888,\"#fdca26\"],[1.0,\"#f0f921\"]]},\"colorway\":[\"#636efa\",\"#EF553B\",\"#00cc96\",\"#ab63fa\",\"#FFA15A\",\"#19d3f3\",\"#FF6692\",\"#B6E880\",\"#FF97FF\",\"#FECB52\"],\"font\":{\"color\":\"#2a3f5f\"},\"geo\":{\"bgcolor\":\"white\",\"lakecolor\":\"white\",\"landcolor\":\"#E5ECF6\",\"showlakes\":true,\"showland\":true,\"subunitcolor\":\"white\"},\"hoverlabel\":{\"align\":\"left\"},\"hovermode\":\"closest\",\"mapbox\":{\"style\":\"light\"},\"paper_bgcolor\":\"white\",\"plot_bgcolor\":\"#E5ECF6\",\"polar\":{\"angularaxis\":{\"gridcolor\":\"white\",\"linecolor\":\"white\",\"ticks\":\"\"},\"bgcolor\":\"#E5ECF6\",\"radialaxis\":{\"gridcolor\":\"white\",\"linecolor\":\"white\",\"ticks\":\"\"}},\"scene\":{\"xaxis\":{\"backgroundcolor\":\"#E5ECF6\",\"gridcolor\":\"white\",\"gridwidth\":2,\"linecolor\":\"white\",\"showbackground\":true,\"ticks\":\"\",\"zerolinecolor\":\"white\"},\"yaxis\":{\"backgroundcolor\":\"#E5ECF6\",\"gridcolor\":\"white\",\"gridwidth\":2,\"linecolor\":\"white\",\"showbackground\":true,\"ticks\":\"\",\"zerolinecolor\":\"white\"},\"zaxis\":{\"backgroundcolor\":\"#E5ECF6\",\"gridcolor\":\"white\",\"gridwidth\":2,\"linecolor\":\"white\",\"showbackground\":true,\"ticks\":\"\",\"zerolinecolor\":\"white\"}},\"shapedefaults\":{\"line\":{\"color\":\"#2a3f5f\"}},\"ternary\":{\"aaxis\":{\"gridcolor\":\"white\",\"linecolor\":\"white\",\"ticks\":\"\"},\"baxis\":{\"gridcolor\":\"white\",\"linecolor\":\"white\",\"ticks\":\"\"},\"bgcolor\":\"#E5ECF6\",\"caxis\":{\"gridcolor\":\"white\",\"linecolor\":\"white\",\"ticks\":\"\"}},\"title\":{\"x\":0.05},\"xaxis\":{\"automargin\":true,\"gridcolor\":\"white\",\"linecolor\":\"white\",\"ticks\":\"\",\"title\":{\"standoff\":15},\"zerolinecolor\":\"white\",\"zerolinewidth\":2},\"yaxis\":{\"automargin\":true,\"gridcolor\":\"white\",\"linecolor\":\"white\",\"ticks\":\"\",\"title\":{\"standoff\":15},\"zerolinecolor\":\"white\",\"zerolinewidth\":2}}},\"title\":{\"font\":{\"color\":\"#4D5663\"},\"text\":\"CBOE Volatily Index\"},\"xaxis\":{\"gridcolor\":\"#E1E5ED\",\"showgrid\":true,\"tickfont\":{\"color\":\"#4D5663\"},\"title\":{\"font\":{\"color\":\"#4D5663\"},\"text\":\"\"},\"zerolinecolor\":\"#E1E5ED\"},\"yaxis\":{\"gridcolor\":\"#E1E5ED\",\"showgrid\":true,\"tickfont\":{\"color\":\"#4D5663\"},\"title\":{\"font\":{\"color\":\"#4D5663\"},\"text\":\"\"},\"zerolinecolor\":\"#E1E5ED\"}},                        {\"showLink\": true, \"linkText\": \"Export to plot.ly\", \"plotlyServerURL\": \"https://plot.ly\", \"responsive\": true}                    ).then(function(){\n",
       "                            \n",
       "var gd = document.getElementById('18a1f820-73b5-4a5a-99c2-00eb8bdce6af');\n",
       "var x = new MutationObserver(function (mutations, observer) {{\n",
       "        var display = window.getComputedStyle(gd).display;\n",
       "        if (!display || display === 'none') {{\n",
       "            console.log([gd, 'removed!']);\n",
       "            Plotly.purge(gd);\n",
       "            observer.disconnect();\n",
       "        }}\n",
       "}});\n",
       "\n",
       "// Listen for the removal of the full notebook cells\n",
       "var notebookContainer = gd.closest('#notebook-container');\n",
       "if (notebookContainer) {{\n",
       "    x.observe(notebookContainer, {childList: true});\n",
       "}}\n",
       "\n",
       "// Listen for the clearing of the current output cell\n",
       "var outputEl = gd.closest('.output');\n",
       "if (outputEl) {{\n",
       "    x.observe(outputEl, {childList: true});\n",
       "}}\n",
       "\n",
       "                        })                };                });            </script>        </div>"
      ]
     },
     "metadata": {},
     "output_type": "display_data"
    }
   ],
   "source": [
    "vix.iplot(kind='line', title='CBOE Volatily Index')"
   ]
  },
  {
   "cell_type": "code",
   "execution_count": 31,
   "metadata": {},
   "outputs": [
    {
     "data": {
      "application/vnd.plotly.v1+json": {
       "config": {
        "linkText": "Export to plot.ly",
        "plotlyServerURL": "https://plot.ly",
        "showLink": true
       },
       "data": [
        {
         "close": [
          4158.240234375,
          4132.14990234375,
          4101.22998046875,
          4176.81982421875,
          4108.5400390625,
          4121.43017578125,
          4160.68017578125,
          4115.77001953125,
          4017.820068359375,
          3900.860107421875,
          3749.6298828125,
          3735.47998046875,
          3789.989990234375,
          3666.77001953125,
          3674.840087890625,
          3764.7900390625,
          3759.889892578125,
          3795.72998046875,
          3911.739990234375,
          3900.110107421875,
          3821.550048828125,
          3818.830078125,
          3785.3798828125,
          3825.330078125,
          3831.389892578125,
          3845.080078125,
          3902.6201171875,
          3899.3798828125,
          3854.429931640625,
          3852.669921875
         ],
         "high": [
          4158.490234375,
          4168.33984375,
          4166.5400390625,
          4177.509765625,
          4142.669921875,
          4168.77978515625,
          4164.85986328125,
          4160.14013671875,
          4119.10009765625,
          3974.389892578125,
          3838.14990234375,
          3778.179931640625,
          3837.56005859375,
          3728.179931640625,
          3707.7099609375,
          3779.64990234375,
          3801.7900390625,
          3802.580078125,
          3913.64990234375,
          3927.719970703125,
          3945.860107421875,
          3836.5,
          3818.989990234375,
          3829.820068359375,
          3832.18994140625,
          3870.909912109375,
          3910.6298828125,
          3918.5,
          3880.93994140625,
          3873.409912109375
         ],
         "low": [
          4077.429931640625,
          4104.8798828125,
          4073.85009765625,
          4074.3701171875,
          4098.669921875,
          4109.18017578125,
          4080.18994140625,
          4107.2001953125,
          4017.169921875,
          3900.159912109375,
          3734.300048828125,
          3705.679931640625,
          3722.300048828125,
          3639.77001953125,
          3636.8701171875,
          3715.31005859375,
          3717.68994140625,
          3743.52001953125,
          3821.75,
          3889.659912109375,
          3820.139892578125,
          3799.02001953125,
          3738.669921875,
          3752.10009765625,
          3742.06005859375,
          3809.3701171875,
          3858.85009765625,
          3869.340087890625,
          3847.219970703125,
          3837.8701171875
         ],
         "open": [
          4077.429931640625,
          4151.08984375,
          4149.77978515625,
          4095.409912109375,
          4137.56982421875,
          4134.72021484375,
          4096.47021484375,
          4147.1201171875,
          4101.64990234375,
          3974.389892578125,
          3838.14990234375,
          3763.52001953125,
          3764.050048828125,
          3728.179931640625,
          3665.89990234375,
          3715.31005859375,
          3733.889892578125,
          3774.7099609375,
          3821.75,
          3920.760009765625,
          3913,
          3825.090087890625,
          3785.989990234375,
          3781,
          3792.610107421875,
          3831.97998046875,
          3858.85009765625,
          3888.260009765625,
          3880.93994140625,
          3851.949951171875
         ],
         "showlegend": false,
         "type": "ohlc",
         "x": [
          "2022-05-27",
          "2022-05-31",
          "2022-06-01",
          "2022-06-02",
          "2022-06-03",
          "2022-06-06",
          "2022-06-07",
          "2022-06-08",
          "2022-06-09",
          "2022-06-10",
          "2022-06-13",
          "2022-06-14",
          "2022-06-15",
          "2022-06-16",
          "2022-06-17",
          "2022-06-21",
          "2022-06-22",
          "2022-06-23",
          "2022-06-24",
          "2022-06-27",
          "2022-06-28",
          "2022-06-29",
          "2022-06-30",
          "2022-07-01",
          "2022-07-05",
          "2022-07-06",
          "2022-07-07",
          "2022-07-08",
          "2022-07-11",
          "2022-07-12"
         ],
         "yaxis": "y2"
        }
       ],
       "layout": {
        "legend": {
         "bgcolor": "#F5F6F9",
         "font": {
          "color": "#4D5663"
         }
        },
        "paper_bgcolor": "#F5F6F9",
        "plot_bgcolor": "#F5F6F9",
        "template": {
         "data": {
          "bar": [
           {
            "error_x": {
             "color": "#2a3f5f"
            },
            "error_y": {
             "color": "#2a3f5f"
            },
            "marker": {
             "line": {
              "color": "#E5ECF6",
              "width": 0.5
             },
             "pattern": {
              "fillmode": "overlay",
              "size": 10,
              "solidity": 0.2
             }
            },
            "type": "bar"
           }
          ],
          "barpolar": [
           {
            "marker": {
             "line": {
              "color": "#E5ECF6",
              "width": 0.5
             },
             "pattern": {
              "fillmode": "overlay",
              "size": 10,
              "solidity": 0.2
             }
            },
            "type": "barpolar"
           }
          ],
          "carpet": [
           {
            "aaxis": {
             "endlinecolor": "#2a3f5f",
             "gridcolor": "white",
             "linecolor": "white",
             "minorgridcolor": "white",
             "startlinecolor": "#2a3f5f"
            },
            "baxis": {
             "endlinecolor": "#2a3f5f",
             "gridcolor": "white",
             "linecolor": "white",
             "minorgridcolor": "white",
             "startlinecolor": "#2a3f5f"
            },
            "type": "carpet"
           }
          ],
          "choropleth": [
           {
            "colorbar": {
             "outlinewidth": 0,
             "ticks": ""
            },
            "type": "choropleth"
           }
          ],
          "contour": [
           {
            "colorbar": {
             "outlinewidth": 0,
             "ticks": ""
            },
            "colorscale": [
             [
              0,
              "#0d0887"
             ],
             [
              0.1111111111111111,
              "#46039f"
             ],
             [
              0.2222222222222222,
              "#7201a8"
             ],
             [
              0.3333333333333333,
              "#9c179e"
             ],
             [
              0.4444444444444444,
              "#bd3786"
             ],
             [
              0.5555555555555556,
              "#d8576b"
             ],
             [
              0.6666666666666666,
              "#ed7953"
             ],
             [
              0.7777777777777778,
              "#fb9f3a"
             ],
             [
              0.8888888888888888,
              "#fdca26"
             ],
             [
              1,
              "#f0f921"
             ]
            ],
            "type": "contour"
           }
          ],
          "contourcarpet": [
           {
            "colorbar": {
             "outlinewidth": 0,
             "ticks": ""
            },
            "type": "contourcarpet"
           }
          ],
          "heatmap": [
           {
            "colorbar": {
             "outlinewidth": 0,
             "ticks": ""
            },
            "colorscale": [
             [
              0,
              "#0d0887"
             ],
             [
              0.1111111111111111,
              "#46039f"
             ],
             [
              0.2222222222222222,
              "#7201a8"
             ],
             [
              0.3333333333333333,
              "#9c179e"
             ],
             [
              0.4444444444444444,
              "#bd3786"
             ],
             [
              0.5555555555555556,
              "#d8576b"
             ],
             [
              0.6666666666666666,
              "#ed7953"
             ],
             [
              0.7777777777777778,
              "#fb9f3a"
             ],
             [
              0.8888888888888888,
              "#fdca26"
             ],
             [
              1,
              "#f0f921"
             ]
            ],
            "type": "heatmap"
           }
          ],
          "heatmapgl": [
           {
            "colorbar": {
             "outlinewidth": 0,
             "ticks": ""
            },
            "colorscale": [
             [
              0,
              "#0d0887"
             ],
             [
              0.1111111111111111,
              "#46039f"
             ],
             [
              0.2222222222222222,
              "#7201a8"
             ],
             [
              0.3333333333333333,
              "#9c179e"
             ],
             [
              0.4444444444444444,
              "#bd3786"
             ],
             [
              0.5555555555555556,
              "#d8576b"
             ],
             [
              0.6666666666666666,
              "#ed7953"
             ],
             [
              0.7777777777777778,
              "#fb9f3a"
             ],
             [
              0.8888888888888888,
              "#fdca26"
             ],
             [
              1,
              "#f0f921"
             ]
            ],
            "type": "heatmapgl"
           }
          ],
          "histogram": [
           {
            "marker": {
             "pattern": {
              "fillmode": "overlay",
              "size": 10,
              "solidity": 0.2
             }
            },
            "type": "histogram"
           }
          ],
          "histogram2d": [
           {
            "colorbar": {
             "outlinewidth": 0,
             "ticks": ""
            },
            "colorscale": [
             [
              0,
              "#0d0887"
             ],
             [
              0.1111111111111111,
              "#46039f"
             ],
             [
              0.2222222222222222,
              "#7201a8"
             ],
             [
              0.3333333333333333,
              "#9c179e"
             ],
             [
              0.4444444444444444,
              "#bd3786"
             ],
             [
              0.5555555555555556,
              "#d8576b"
             ],
             [
              0.6666666666666666,
              "#ed7953"
             ],
             [
              0.7777777777777778,
              "#fb9f3a"
             ],
             [
              0.8888888888888888,
              "#fdca26"
             ],
             [
              1,
              "#f0f921"
             ]
            ],
            "type": "histogram2d"
           }
          ],
          "histogram2dcontour": [
           {
            "colorbar": {
             "outlinewidth": 0,
             "ticks": ""
            },
            "colorscale": [
             [
              0,
              "#0d0887"
             ],
             [
              0.1111111111111111,
              "#46039f"
             ],
             [
              0.2222222222222222,
              "#7201a8"
             ],
             [
              0.3333333333333333,
              "#9c179e"
             ],
             [
              0.4444444444444444,
              "#bd3786"
             ],
             [
              0.5555555555555556,
              "#d8576b"
             ],
             [
              0.6666666666666666,
              "#ed7953"
             ],
             [
              0.7777777777777778,
              "#fb9f3a"
             ],
             [
              0.8888888888888888,
              "#fdca26"
             ],
             [
              1,
              "#f0f921"
             ]
            ],
            "type": "histogram2dcontour"
           }
          ],
          "mesh3d": [
           {
            "colorbar": {
             "outlinewidth": 0,
             "ticks": ""
            },
            "type": "mesh3d"
           }
          ],
          "parcoords": [
           {
            "line": {
             "colorbar": {
              "outlinewidth": 0,
              "ticks": ""
             }
            },
            "type": "parcoords"
           }
          ],
          "pie": [
           {
            "automargin": true,
            "type": "pie"
           }
          ],
          "scatter": [
           {
            "fillpattern": {
             "fillmode": "overlay",
             "size": 10,
             "solidity": 0.2
            },
            "type": "scatter"
           }
          ],
          "scatter3d": [
           {
            "line": {
             "colorbar": {
              "outlinewidth": 0,
              "ticks": ""
             }
            },
            "marker": {
             "colorbar": {
              "outlinewidth": 0,
              "ticks": ""
             }
            },
            "type": "scatter3d"
           }
          ],
          "scattercarpet": [
           {
            "marker": {
             "colorbar": {
              "outlinewidth": 0,
              "ticks": ""
             }
            },
            "type": "scattercarpet"
           }
          ],
          "scattergeo": [
           {
            "marker": {
             "colorbar": {
              "outlinewidth": 0,
              "ticks": ""
             }
            },
            "type": "scattergeo"
           }
          ],
          "scattergl": [
           {
            "marker": {
             "colorbar": {
              "outlinewidth": 0,
              "ticks": ""
             }
            },
            "type": "scattergl"
           }
          ],
          "scattermapbox": [
           {
            "marker": {
             "colorbar": {
              "outlinewidth": 0,
              "ticks": ""
             }
            },
            "type": "scattermapbox"
           }
          ],
          "scatterpolar": [
           {
            "marker": {
             "colorbar": {
              "outlinewidth": 0,
              "ticks": ""
             }
            },
            "type": "scatterpolar"
           }
          ],
          "scatterpolargl": [
           {
            "marker": {
             "colorbar": {
              "outlinewidth": 0,
              "ticks": ""
             }
            },
            "type": "scatterpolargl"
           }
          ],
          "scatterternary": [
           {
            "marker": {
             "colorbar": {
              "outlinewidth": 0,
              "ticks": ""
             }
            },
            "type": "scatterternary"
           }
          ],
          "surface": [
           {
            "colorbar": {
             "outlinewidth": 0,
             "ticks": ""
            },
            "colorscale": [
             [
              0,
              "#0d0887"
             ],
             [
              0.1111111111111111,
              "#46039f"
             ],
             [
              0.2222222222222222,
              "#7201a8"
             ],
             [
              0.3333333333333333,
              "#9c179e"
             ],
             [
              0.4444444444444444,
              "#bd3786"
             ],
             [
              0.5555555555555556,
              "#d8576b"
             ],
             [
              0.6666666666666666,
              "#ed7953"
             ],
             [
              0.7777777777777778,
              "#fb9f3a"
             ],
             [
              0.8888888888888888,
              "#fdca26"
             ],
             [
              1,
              "#f0f921"
             ]
            ],
            "type": "surface"
           }
          ],
          "table": [
           {
            "cells": {
             "fill": {
              "color": "#EBF0F8"
             },
             "line": {
              "color": "white"
             }
            },
            "header": {
             "fill": {
              "color": "#C8D4E3"
             },
             "line": {
              "color": "white"
             }
            },
            "type": "table"
           }
          ]
         },
         "layout": {
          "annotationdefaults": {
           "arrowcolor": "#2a3f5f",
           "arrowhead": 0,
           "arrowwidth": 1
          },
          "autotypenumbers": "strict",
          "coloraxis": {
           "colorbar": {
            "outlinewidth": 0,
            "ticks": ""
           }
          },
          "colorscale": {
           "diverging": [
            [
             0,
             "#8e0152"
            ],
            [
             0.1,
             "#c51b7d"
            ],
            [
             0.2,
             "#de77ae"
            ],
            [
             0.3,
             "#f1b6da"
            ],
            [
             0.4,
             "#fde0ef"
            ],
            [
             0.5,
             "#f7f7f7"
            ],
            [
             0.6,
             "#e6f5d0"
            ],
            [
             0.7,
             "#b8e186"
            ],
            [
             0.8,
             "#7fbc41"
            ],
            [
             0.9,
             "#4d9221"
            ],
            [
             1,
             "#276419"
            ]
           ],
           "sequential": [
            [
             0,
             "#0d0887"
            ],
            [
             0.1111111111111111,
             "#46039f"
            ],
            [
             0.2222222222222222,
             "#7201a8"
            ],
            [
             0.3333333333333333,
             "#9c179e"
            ],
            [
             0.4444444444444444,
             "#bd3786"
            ],
            [
             0.5555555555555556,
             "#d8576b"
            ],
            [
             0.6666666666666666,
             "#ed7953"
            ],
            [
             0.7777777777777778,
             "#fb9f3a"
            ],
            [
             0.8888888888888888,
             "#fdca26"
            ],
            [
             1,
             "#f0f921"
            ]
           ],
           "sequentialminus": [
            [
             0,
             "#0d0887"
            ],
            [
             0.1111111111111111,
             "#46039f"
            ],
            [
             0.2222222222222222,
             "#7201a8"
            ],
            [
             0.3333333333333333,
             "#9c179e"
            ],
            [
             0.4444444444444444,
             "#bd3786"
            ],
            [
             0.5555555555555556,
             "#d8576b"
            ],
            [
             0.6666666666666666,
             "#ed7953"
            ],
            [
             0.7777777777777778,
             "#fb9f3a"
            ],
            [
             0.8888888888888888,
             "#fdca26"
            ],
            [
             1,
             "#f0f921"
            ]
           ]
          },
          "colorway": [
           "#636efa",
           "#EF553B",
           "#00cc96",
           "#ab63fa",
           "#FFA15A",
           "#19d3f3",
           "#FF6692",
           "#B6E880",
           "#FF97FF",
           "#FECB52"
          ],
          "font": {
           "color": "#2a3f5f"
          },
          "geo": {
           "bgcolor": "white",
           "lakecolor": "white",
           "landcolor": "#E5ECF6",
           "showlakes": true,
           "showland": true,
           "subunitcolor": "white"
          },
          "hoverlabel": {
           "align": "left"
          },
          "hovermode": "closest",
          "mapbox": {
           "style": "light"
          },
          "paper_bgcolor": "white",
          "plot_bgcolor": "#E5ECF6",
          "polar": {
           "angularaxis": {
            "gridcolor": "white",
            "linecolor": "white",
            "ticks": ""
           },
           "bgcolor": "#E5ECF6",
           "radialaxis": {
            "gridcolor": "white",
            "linecolor": "white",
            "ticks": ""
           }
          },
          "scene": {
           "xaxis": {
            "backgroundcolor": "#E5ECF6",
            "gridcolor": "white",
            "gridwidth": 2,
            "linecolor": "white",
            "showbackground": true,
            "ticks": "",
            "zerolinecolor": "white"
           },
           "yaxis": {
            "backgroundcolor": "#E5ECF6",
            "gridcolor": "white",
            "gridwidth": 2,
            "linecolor": "white",
            "showbackground": true,
            "ticks": "",
            "zerolinecolor": "white"
           },
           "zaxis": {
            "backgroundcolor": "#E5ECF6",
            "gridcolor": "white",
            "gridwidth": 2,
            "linecolor": "white",
            "showbackground": true,
            "ticks": "",
            "zerolinecolor": "white"
           }
          },
          "shapedefaults": {
           "line": {
            "color": "#2a3f5f"
           }
          },
          "ternary": {
           "aaxis": {
            "gridcolor": "white",
            "linecolor": "white",
            "ticks": ""
           },
           "baxis": {
            "gridcolor": "white",
            "linecolor": "white",
            "ticks": ""
           },
           "bgcolor": "#E5ECF6",
           "caxis": {
            "gridcolor": "white",
            "linecolor": "white",
            "ticks": ""
           }
          },
          "title": {
           "x": 0.05
          },
          "xaxis": {
           "automargin": true,
           "gridcolor": "white",
           "linecolor": "white",
           "ticks": "",
           "title": {
            "standoff": 15
           },
           "zerolinecolor": "white",
           "zerolinewidth": 2
          },
          "yaxis": {
           "automargin": true,
           "gridcolor": "white",
           "linecolor": "white",
           "ticks": "",
           "title": {
            "standoff": 15
           },
           "zerolinecolor": "white",
           "zerolinewidth": 2
          }
         }
        },
        "title": {
         "font": {
          "color": "#4D5663"
         },
         "text": "SPY Price"
        },
        "xaxis": {
         "gridcolor": "#E1E5ED",
         "rangeslider": {
          "visible": false
         },
         "showgrid": true,
         "tickfont": {
          "color": "#4D5663"
         },
         "title": {
          "font": {
           "color": "#4D5663"
          },
          "text": ""
         },
         "zerolinecolor": "#E1E5ED"
        },
        "yaxis": {
         "gridcolor": "#E1E5ED",
         "showgrid": true,
         "showticklabels": false,
         "tickfont": {
          "color": "#4D5663"
         },
         "title": {
          "font": {
           "color": "#4D5663"
          },
          "text": ""
         },
         "zerolinecolor": "#E1E5ED"
        },
        "yaxis2": {
         "gridcolor": "#E1E5ED",
         "showgrid": true,
         "tickfont": {
          "color": "#4D5663"
         },
         "title": {
          "font": {
           "color": "#4D5663"
          },
          "text": ""
         },
         "zerolinecolor": "#E1E5ED"
        }
       }
      },
      "text/html": [
       "<div>                            <div id=\"a07b745b-1463-442f-a34f-f3d605a181ab\" class=\"plotly-graph-div\" style=\"height:525px; width:100%;\"></div>            <script type=\"text/javascript\">                require([\"plotly\"], function(Plotly) {                    window.PLOTLYENV=window.PLOTLYENV || {};\n",
       "                    window.PLOTLYENV.BASE_URL='https://plot.ly';                                    if (document.getElementById(\"a07b745b-1463-442f-a34f-f3d605a181ab\")) {                    Plotly.newPlot(                        \"a07b745b-1463-442f-a34f-f3d605a181ab\",                        [{\"close\":[4158.240234375,4132.14990234375,4101.22998046875,4176.81982421875,4108.5400390625,4121.43017578125,4160.68017578125,4115.77001953125,4017.820068359375,3900.860107421875,3749.6298828125,3735.47998046875,3789.989990234375,3666.77001953125,3674.840087890625,3764.7900390625,3759.889892578125,3795.72998046875,3911.739990234375,3900.110107421875,3821.550048828125,3818.830078125,3785.3798828125,3825.330078125,3831.389892578125,3845.080078125,3902.6201171875,3899.3798828125,3854.429931640625,3852.669921875],\"high\":[4158.490234375,4168.33984375,4166.5400390625,4177.509765625,4142.669921875,4168.77978515625,4164.85986328125,4160.14013671875,4119.10009765625,3974.389892578125,3838.14990234375,3778.179931640625,3837.56005859375,3728.179931640625,3707.7099609375,3779.64990234375,3801.7900390625,3802.580078125,3913.64990234375,3927.719970703125,3945.860107421875,3836.5,3818.989990234375,3829.820068359375,3832.18994140625,3870.909912109375,3910.6298828125,3918.5,3880.93994140625,3873.409912109375],\"low\":[4077.429931640625,4104.8798828125,4073.85009765625,4074.3701171875,4098.669921875,4109.18017578125,4080.18994140625,4107.2001953125,4017.169921875,3900.159912109375,3734.300048828125,3705.679931640625,3722.300048828125,3639.77001953125,3636.8701171875,3715.31005859375,3717.68994140625,3743.52001953125,3821.75,3889.659912109375,3820.139892578125,3799.02001953125,3738.669921875,3752.10009765625,3742.06005859375,3809.3701171875,3858.85009765625,3869.340087890625,3847.219970703125,3837.8701171875],\"open\":[4077.429931640625,4151.08984375,4149.77978515625,4095.409912109375,4137.56982421875,4134.72021484375,4096.47021484375,4147.1201171875,4101.64990234375,3974.389892578125,3838.14990234375,3763.52001953125,3764.050048828125,3728.179931640625,3665.89990234375,3715.31005859375,3733.889892578125,3774.7099609375,3821.75,3920.760009765625,3913.0,3825.090087890625,3785.989990234375,3781.0,3792.610107421875,3831.97998046875,3858.85009765625,3888.260009765625,3880.93994140625,3851.949951171875],\"showlegend\":false,\"x\":[\"2022-05-27\",\"2022-05-31\",\"2022-06-01\",\"2022-06-02\",\"2022-06-03\",\"2022-06-06\",\"2022-06-07\",\"2022-06-08\",\"2022-06-09\",\"2022-06-10\",\"2022-06-13\",\"2022-06-14\",\"2022-06-15\",\"2022-06-16\",\"2022-06-17\",\"2022-06-21\",\"2022-06-22\",\"2022-06-23\",\"2022-06-24\",\"2022-06-27\",\"2022-06-28\",\"2022-06-29\",\"2022-06-30\",\"2022-07-01\",\"2022-07-05\",\"2022-07-06\",\"2022-07-07\",\"2022-07-08\",\"2022-07-11\",\"2022-07-12\"],\"yaxis\":\"y2\",\"type\":\"ohlc\"}],                        {\"legend\":{\"bgcolor\":\"#F5F6F9\",\"font\":{\"color\":\"#4D5663\"}},\"paper_bgcolor\":\"#F5F6F9\",\"plot_bgcolor\":\"#F5F6F9\",\"template\":{\"data\":{\"barpolar\":[{\"marker\":{\"line\":{\"color\":\"#E5ECF6\",\"width\":0.5},\"pattern\":{\"fillmode\":\"overlay\",\"size\":10,\"solidity\":0.2}},\"type\":\"barpolar\"}],\"bar\":[{\"error_x\":{\"color\":\"#2a3f5f\"},\"error_y\":{\"color\":\"#2a3f5f\"},\"marker\":{\"line\":{\"color\":\"#E5ECF6\",\"width\":0.5},\"pattern\":{\"fillmode\":\"overlay\",\"size\":10,\"solidity\":0.2}},\"type\":\"bar\"}],\"carpet\":[{\"aaxis\":{\"endlinecolor\":\"#2a3f5f\",\"gridcolor\":\"white\",\"linecolor\":\"white\",\"minorgridcolor\":\"white\",\"startlinecolor\":\"#2a3f5f\"},\"baxis\":{\"endlinecolor\":\"#2a3f5f\",\"gridcolor\":\"white\",\"linecolor\":\"white\",\"minorgridcolor\":\"white\",\"startlinecolor\":\"#2a3f5f\"},\"type\":\"carpet\"}],\"choropleth\":[{\"colorbar\":{\"outlinewidth\":0,\"ticks\":\"\"},\"type\":\"choropleth\"}],\"contourcarpet\":[{\"colorbar\":{\"outlinewidth\":0,\"ticks\":\"\"},\"type\":\"contourcarpet\"}],\"contour\":[{\"colorbar\":{\"outlinewidth\":0,\"ticks\":\"\"},\"colorscale\":[[0.0,\"#0d0887\"],[0.1111111111111111,\"#46039f\"],[0.2222222222222222,\"#7201a8\"],[0.3333333333333333,\"#9c179e\"],[0.4444444444444444,\"#bd3786\"],[0.5555555555555556,\"#d8576b\"],[0.6666666666666666,\"#ed7953\"],[0.7777777777777778,\"#fb9f3a\"],[0.8888888888888888,\"#fdca26\"],[1.0,\"#f0f921\"]],\"type\":\"contour\"}],\"heatmapgl\":[{\"colorbar\":{\"outlinewidth\":0,\"ticks\":\"\"},\"colorscale\":[[0.0,\"#0d0887\"],[0.1111111111111111,\"#46039f\"],[0.2222222222222222,\"#7201a8\"],[0.3333333333333333,\"#9c179e\"],[0.4444444444444444,\"#bd3786\"],[0.5555555555555556,\"#d8576b\"],[0.6666666666666666,\"#ed7953\"],[0.7777777777777778,\"#fb9f3a\"],[0.8888888888888888,\"#fdca26\"],[1.0,\"#f0f921\"]],\"type\":\"heatmapgl\"}],\"heatmap\":[{\"colorbar\":{\"outlinewidth\":0,\"ticks\":\"\"},\"colorscale\":[[0.0,\"#0d0887\"],[0.1111111111111111,\"#46039f\"],[0.2222222222222222,\"#7201a8\"],[0.3333333333333333,\"#9c179e\"],[0.4444444444444444,\"#bd3786\"],[0.5555555555555556,\"#d8576b\"],[0.6666666666666666,\"#ed7953\"],[0.7777777777777778,\"#fb9f3a\"],[0.8888888888888888,\"#fdca26\"],[1.0,\"#f0f921\"]],\"type\":\"heatmap\"}],\"histogram2dcontour\":[{\"colorbar\":{\"outlinewidth\":0,\"ticks\":\"\"},\"colorscale\":[[0.0,\"#0d0887\"],[0.1111111111111111,\"#46039f\"],[0.2222222222222222,\"#7201a8\"],[0.3333333333333333,\"#9c179e\"],[0.4444444444444444,\"#bd3786\"],[0.5555555555555556,\"#d8576b\"],[0.6666666666666666,\"#ed7953\"],[0.7777777777777778,\"#fb9f3a\"],[0.8888888888888888,\"#fdca26\"],[1.0,\"#f0f921\"]],\"type\":\"histogram2dcontour\"}],\"histogram2d\":[{\"colorbar\":{\"outlinewidth\":0,\"ticks\":\"\"},\"colorscale\":[[0.0,\"#0d0887\"],[0.1111111111111111,\"#46039f\"],[0.2222222222222222,\"#7201a8\"],[0.3333333333333333,\"#9c179e\"],[0.4444444444444444,\"#bd3786\"],[0.5555555555555556,\"#d8576b\"],[0.6666666666666666,\"#ed7953\"],[0.7777777777777778,\"#fb9f3a\"],[0.8888888888888888,\"#fdca26\"],[1.0,\"#f0f921\"]],\"type\":\"histogram2d\"}],\"histogram\":[{\"marker\":{\"pattern\":{\"fillmode\":\"overlay\",\"size\":10,\"solidity\":0.2}},\"type\":\"histogram\"}],\"mesh3d\":[{\"colorbar\":{\"outlinewidth\":0,\"ticks\":\"\"},\"type\":\"mesh3d\"}],\"parcoords\":[{\"line\":{\"colorbar\":{\"outlinewidth\":0,\"ticks\":\"\"}},\"type\":\"parcoords\"}],\"pie\":[{\"automargin\":true,\"type\":\"pie\"}],\"scatter3d\":[{\"line\":{\"colorbar\":{\"outlinewidth\":0,\"ticks\":\"\"}},\"marker\":{\"colorbar\":{\"outlinewidth\":0,\"ticks\":\"\"}},\"type\":\"scatter3d\"}],\"scattercarpet\":[{\"marker\":{\"colorbar\":{\"outlinewidth\":0,\"ticks\":\"\"}},\"type\":\"scattercarpet\"}],\"scattergeo\":[{\"marker\":{\"colorbar\":{\"outlinewidth\":0,\"ticks\":\"\"}},\"type\":\"scattergeo\"}],\"scattergl\":[{\"marker\":{\"colorbar\":{\"outlinewidth\":0,\"ticks\":\"\"}},\"type\":\"scattergl\"}],\"scattermapbox\":[{\"marker\":{\"colorbar\":{\"outlinewidth\":0,\"ticks\":\"\"}},\"type\":\"scattermapbox\"}],\"scatterpolargl\":[{\"marker\":{\"colorbar\":{\"outlinewidth\":0,\"ticks\":\"\"}},\"type\":\"scatterpolargl\"}],\"scatterpolar\":[{\"marker\":{\"colorbar\":{\"outlinewidth\":0,\"ticks\":\"\"}},\"type\":\"scatterpolar\"}],\"scatter\":[{\"fillpattern\":{\"fillmode\":\"overlay\",\"size\":10,\"solidity\":0.2},\"type\":\"scatter\"}],\"scatterternary\":[{\"marker\":{\"colorbar\":{\"outlinewidth\":0,\"ticks\":\"\"}},\"type\":\"scatterternary\"}],\"surface\":[{\"colorbar\":{\"outlinewidth\":0,\"ticks\":\"\"},\"colorscale\":[[0.0,\"#0d0887\"],[0.1111111111111111,\"#46039f\"],[0.2222222222222222,\"#7201a8\"],[0.3333333333333333,\"#9c179e\"],[0.4444444444444444,\"#bd3786\"],[0.5555555555555556,\"#d8576b\"],[0.6666666666666666,\"#ed7953\"],[0.7777777777777778,\"#fb9f3a\"],[0.8888888888888888,\"#fdca26\"],[1.0,\"#f0f921\"]],\"type\":\"surface\"}],\"table\":[{\"cells\":{\"fill\":{\"color\":\"#EBF0F8\"},\"line\":{\"color\":\"white\"}},\"header\":{\"fill\":{\"color\":\"#C8D4E3\"},\"line\":{\"color\":\"white\"}},\"type\":\"table\"}]},\"layout\":{\"annotationdefaults\":{\"arrowcolor\":\"#2a3f5f\",\"arrowhead\":0,\"arrowwidth\":1},\"autotypenumbers\":\"strict\",\"coloraxis\":{\"colorbar\":{\"outlinewidth\":0,\"ticks\":\"\"}},\"colorscale\":{\"diverging\":[[0,\"#8e0152\"],[0.1,\"#c51b7d\"],[0.2,\"#de77ae\"],[0.3,\"#f1b6da\"],[0.4,\"#fde0ef\"],[0.5,\"#f7f7f7\"],[0.6,\"#e6f5d0\"],[0.7,\"#b8e186\"],[0.8,\"#7fbc41\"],[0.9,\"#4d9221\"],[1,\"#276419\"]],\"sequential\":[[0.0,\"#0d0887\"],[0.1111111111111111,\"#46039f\"],[0.2222222222222222,\"#7201a8\"],[0.3333333333333333,\"#9c179e\"],[0.4444444444444444,\"#bd3786\"],[0.5555555555555556,\"#d8576b\"],[0.6666666666666666,\"#ed7953\"],[0.7777777777777778,\"#fb9f3a\"],[0.8888888888888888,\"#fdca26\"],[1.0,\"#f0f921\"]],\"sequentialminus\":[[0.0,\"#0d0887\"],[0.1111111111111111,\"#46039f\"],[0.2222222222222222,\"#7201a8\"],[0.3333333333333333,\"#9c179e\"],[0.4444444444444444,\"#bd3786\"],[0.5555555555555556,\"#d8576b\"],[0.6666666666666666,\"#ed7953\"],[0.7777777777777778,\"#fb9f3a\"],[0.8888888888888888,\"#fdca26\"],[1.0,\"#f0f921\"]]},\"colorway\":[\"#636efa\",\"#EF553B\",\"#00cc96\",\"#ab63fa\",\"#FFA15A\",\"#19d3f3\",\"#FF6692\",\"#B6E880\",\"#FF97FF\",\"#FECB52\"],\"font\":{\"color\":\"#2a3f5f\"},\"geo\":{\"bgcolor\":\"white\",\"lakecolor\":\"white\",\"landcolor\":\"#E5ECF6\",\"showlakes\":true,\"showland\":true,\"subunitcolor\":\"white\"},\"hoverlabel\":{\"align\":\"left\"},\"hovermode\":\"closest\",\"mapbox\":{\"style\":\"light\"},\"paper_bgcolor\":\"white\",\"plot_bgcolor\":\"#E5ECF6\",\"polar\":{\"angularaxis\":{\"gridcolor\":\"white\",\"linecolor\":\"white\",\"ticks\":\"\"},\"bgcolor\":\"#E5ECF6\",\"radialaxis\":{\"gridcolor\":\"white\",\"linecolor\":\"white\",\"ticks\":\"\"}},\"scene\":{\"xaxis\":{\"backgroundcolor\":\"#E5ECF6\",\"gridcolor\":\"white\",\"gridwidth\":2,\"linecolor\":\"white\",\"showbackground\":true,\"ticks\":\"\",\"zerolinecolor\":\"white\"},\"yaxis\":{\"backgroundcolor\":\"#E5ECF6\",\"gridcolor\":\"white\",\"gridwidth\":2,\"linecolor\":\"white\",\"showbackground\":true,\"ticks\":\"\",\"zerolinecolor\":\"white\"},\"zaxis\":{\"backgroundcolor\":\"#E5ECF6\",\"gridcolor\":\"white\",\"gridwidth\":2,\"linecolor\":\"white\",\"showbackground\":true,\"ticks\":\"\",\"zerolinecolor\":\"white\"}},\"shapedefaults\":{\"line\":{\"color\":\"#2a3f5f\"}},\"ternary\":{\"aaxis\":{\"gridcolor\":\"white\",\"linecolor\":\"white\",\"ticks\":\"\"},\"baxis\":{\"gridcolor\":\"white\",\"linecolor\":\"white\",\"ticks\":\"\"},\"bgcolor\":\"#E5ECF6\",\"caxis\":{\"gridcolor\":\"white\",\"linecolor\":\"white\",\"ticks\":\"\"}},\"title\":{\"x\":0.05},\"xaxis\":{\"automargin\":true,\"gridcolor\":\"white\",\"linecolor\":\"white\",\"ticks\":\"\",\"title\":{\"standoff\":15},\"zerolinecolor\":\"white\",\"zerolinewidth\":2},\"yaxis\":{\"automargin\":true,\"gridcolor\":\"white\",\"linecolor\":\"white\",\"ticks\":\"\",\"title\":{\"standoff\":15},\"zerolinecolor\":\"white\",\"zerolinewidth\":2}}},\"title\":{\"font\":{\"color\":\"#4D5663\"},\"text\":\"SPY Price\"},\"xaxis\":{\"gridcolor\":\"#E1E5ED\",\"rangeslider\":{\"visible\":false},\"showgrid\":true,\"tickfont\":{\"color\":\"#4D5663\"},\"title\":{\"font\":{\"color\":\"#4D5663\"},\"text\":\"\"},\"zerolinecolor\":\"#E1E5ED\"},\"yaxis\":{\"gridcolor\":\"#E1E5ED\",\"showgrid\":true,\"showticklabels\":false,\"tickfont\":{\"color\":\"#4D5663\"},\"title\":{\"font\":{\"color\":\"#4D5663\"},\"text\":\"\"},\"zerolinecolor\":\"#E1E5ED\"},\"yaxis2\":{\"gridcolor\":\"#E1E5ED\",\"showgrid\":true,\"tickfont\":{\"color\":\"#4D5663\"},\"title\":{\"font\":{\"color\":\"#4D5663\"},\"text\":\"\"},\"zerolinecolor\":\"#E1E5ED\"}},                        {\"showLink\": true, \"linkText\": \"Export to plot.ly\", \"plotlyServerURL\": \"https://plot.ly\", \"responsive\": true}                    ).then(function(){\n",
       "                            \n",
       "var gd = document.getElementById('a07b745b-1463-442f-a34f-f3d605a181ab');\n",
       "var x = new MutationObserver(function (mutations, observer) {{\n",
       "        var display = window.getComputedStyle(gd).display;\n",
       "        if (!display || display === 'none') {{\n",
       "            console.log([gd, 'removed!']);\n",
       "            Plotly.purge(gd);\n",
       "            observer.disconnect();\n",
       "        }}\n",
       "}});\n",
       "\n",
       "// Listen for the removal of the full notebook cells\n",
       "var notebookContainer = gd.closest('#notebook-container');\n",
       "if (notebookContainer) {{\n",
       "    x.observe(notebookContainer, {childList: true});\n",
       "}}\n",
       "\n",
       "// Listen for the clearing of the current output cell\n",
       "var outputEl = gd.closest('.output');\n",
       "if (outputEl) {{\n",
       "    x.observe(outputEl, {childList: true});\n",
       "}}\n",
       "\n",
       "                        })                };                });            </script>        </div>"
      ]
     },
     "metadata": {},
     "output_type": "display_data"
    }
   ],
   "source": [
    "df3[-30:].iplot(kind='ohlc',title='SPY Price')"
   ]
  },
  {
   "cell_type": "code",
   "execution_count": 32,
   "metadata": {},
   "outputs": [
    {
     "data": {
      "application/vnd.plotly.v1+json": {
       "config": {
        "linkText": "Export to plot.ly",
        "plotlyServerURL": "https://plot.ly",
        "showLink": true
       },
       "data": [
        {
         "close": [
          4158.240234375,
          4132.14990234375,
          4101.22998046875,
          4176.81982421875,
          4108.5400390625,
          4121.43017578125,
          4160.68017578125,
          4115.77001953125,
          4017.820068359375,
          3900.860107421875,
          3749.6298828125,
          3735.47998046875,
          3789.989990234375,
          3666.77001953125,
          3674.840087890625,
          3764.7900390625,
          3759.889892578125,
          3795.72998046875,
          3911.739990234375,
          3900.110107421875,
          3821.550048828125,
          3818.830078125,
          3785.3798828125,
          3825.330078125,
          3831.389892578125,
          3845.080078125,
          3902.6201171875,
          3899.3798828125,
          3854.429931640625,
          3852.669921875
         ],
         "high": [
          4158.490234375,
          4168.33984375,
          4166.5400390625,
          4177.509765625,
          4142.669921875,
          4168.77978515625,
          4164.85986328125,
          4160.14013671875,
          4119.10009765625,
          3974.389892578125,
          3838.14990234375,
          3778.179931640625,
          3837.56005859375,
          3728.179931640625,
          3707.7099609375,
          3779.64990234375,
          3801.7900390625,
          3802.580078125,
          3913.64990234375,
          3927.719970703125,
          3945.860107421875,
          3836.5,
          3818.989990234375,
          3829.820068359375,
          3832.18994140625,
          3870.909912109375,
          3910.6298828125,
          3918.5,
          3880.93994140625,
          3873.409912109375
         ],
         "low": [
          4077.429931640625,
          4104.8798828125,
          4073.85009765625,
          4074.3701171875,
          4098.669921875,
          4109.18017578125,
          4080.18994140625,
          4107.2001953125,
          4017.169921875,
          3900.159912109375,
          3734.300048828125,
          3705.679931640625,
          3722.300048828125,
          3639.77001953125,
          3636.8701171875,
          3715.31005859375,
          3717.68994140625,
          3743.52001953125,
          3821.75,
          3889.659912109375,
          3820.139892578125,
          3799.02001953125,
          3738.669921875,
          3752.10009765625,
          3742.06005859375,
          3809.3701171875,
          3858.85009765625,
          3869.340087890625,
          3847.219970703125,
          3837.8701171875
         ],
         "open": [
          4077.429931640625,
          4151.08984375,
          4149.77978515625,
          4095.409912109375,
          4137.56982421875,
          4134.72021484375,
          4096.47021484375,
          4147.1201171875,
          4101.64990234375,
          3974.389892578125,
          3838.14990234375,
          3763.52001953125,
          3764.050048828125,
          3728.179931640625,
          3665.89990234375,
          3715.31005859375,
          3733.889892578125,
          3774.7099609375,
          3821.75,
          3920.760009765625,
          3913,
          3825.090087890625,
          3785.989990234375,
          3781,
          3792.610107421875,
          3831.97998046875,
          3858.85009765625,
          3888.260009765625,
          3880.93994140625,
          3851.949951171875
         ],
         "showlegend": false,
         "type": "candlestick",
         "x": [
          "2022-05-27",
          "2022-05-31",
          "2022-06-01",
          "2022-06-02",
          "2022-06-03",
          "2022-06-06",
          "2022-06-07",
          "2022-06-08",
          "2022-06-09",
          "2022-06-10",
          "2022-06-13",
          "2022-06-14",
          "2022-06-15",
          "2022-06-16",
          "2022-06-17",
          "2022-06-21",
          "2022-06-22",
          "2022-06-23",
          "2022-06-24",
          "2022-06-27",
          "2022-06-28",
          "2022-06-29",
          "2022-06-30",
          "2022-07-01",
          "2022-07-05",
          "2022-07-06",
          "2022-07-07",
          "2022-07-08",
          "2022-07-11",
          "2022-07-12"
         ],
         "yaxis": "y2"
        }
       ],
       "layout": {
        "legend": {
         "bgcolor": "#F5F6F9",
         "font": {
          "color": "#4D5663"
         }
        },
        "paper_bgcolor": "#F5F6F9",
        "plot_bgcolor": "#F5F6F9",
        "template": {
         "data": {
          "bar": [
           {
            "error_x": {
             "color": "#2a3f5f"
            },
            "error_y": {
             "color": "#2a3f5f"
            },
            "marker": {
             "line": {
              "color": "#E5ECF6",
              "width": 0.5
             },
             "pattern": {
              "fillmode": "overlay",
              "size": 10,
              "solidity": 0.2
             }
            },
            "type": "bar"
           }
          ],
          "barpolar": [
           {
            "marker": {
             "line": {
              "color": "#E5ECF6",
              "width": 0.5
             },
             "pattern": {
              "fillmode": "overlay",
              "size": 10,
              "solidity": 0.2
             }
            },
            "type": "barpolar"
           }
          ],
          "carpet": [
           {
            "aaxis": {
             "endlinecolor": "#2a3f5f",
             "gridcolor": "white",
             "linecolor": "white",
             "minorgridcolor": "white",
             "startlinecolor": "#2a3f5f"
            },
            "baxis": {
             "endlinecolor": "#2a3f5f",
             "gridcolor": "white",
             "linecolor": "white",
             "minorgridcolor": "white",
             "startlinecolor": "#2a3f5f"
            },
            "type": "carpet"
           }
          ],
          "choropleth": [
           {
            "colorbar": {
             "outlinewidth": 0,
             "ticks": ""
            },
            "type": "choropleth"
           }
          ],
          "contour": [
           {
            "colorbar": {
             "outlinewidth": 0,
             "ticks": ""
            },
            "colorscale": [
             [
              0,
              "#0d0887"
             ],
             [
              0.1111111111111111,
              "#46039f"
             ],
             [
              0.2222222222222222,
              "#7201a8"
             ],
             [
              0.3333333333333333,
              "#9c179e"
             ],
             [
              0.4444444444444444,
              "#bd3786"
             ],
             [
              0.5555555555555556,
              "#d8576b"
             ],
             [
              0.6666666666666666,
              "#ed7953"
             ],
             [
              0.7777777777777778,
              "#fb9f3a"
             ],
             [
              0.8888888888888888,
              "#fdca26"
             ],
             [
              1,
              "#f0f921"
             ]
            ],
            "type": "contour"
           }
          ],
          "contourcarpet": [
           {
            "colorbar": {
             "outlinewidth": 0,
             "ticks": ""
            },
            "type": "contourcarpet"
           }
          ],
          "heatmap": [
           {
            "colorbar": {
             "outlinewidth": 0,
             "ticks": ""
            },
            "colorscale": [
             [
              0,
              "#0d0887"
             ],
             [
              0.1111111111111111,
              "#46039f"
             ],
             [
              0.2222222222222222,
              "#7201a8"
             ],
             [
              0.3333333333333333,
              "#9c179e"
             ],
             [
              0.4444444444444444,
              "#bd3786"
             ],
             [
              0.5555555555555556,
              "#d8576b"
             ],
             [
              0.6666666666666666,
              "#ed7953"
             ],
             [
              0.7777777777777778,
              "#fb9f3a"
             ],
             [
              0.8888888888888888,
              "#fdca26"
             ],
             [
              1,
              "#f0f921"
             ]
            ],
            "type": "heatmap"
           }
          ],
          "heatmapgl": [
           {
            "colorbar": {
             "outlinewidth": 0,
             "ticks": ""
            },
            "colorscale": [
             [
              0,
              "#0d0887"
             ],
             [
              0.1111111111111111,
              "#46039f"
             ],
             [
              0.2222222222222222,
              "#7201a8"
             ],
             [
              0.3333333333333333,
              "#9c179e"
             ],
             [
              0.4444444444444444,
              "#bd3786"
             ],
             [
              0.5555555555555556,
              "#d8576b"
             ],
             [
              0.6666666666666666,
              "#ed7953"
             ],
             [
              0.7777777777777778,
              "#fb9f3a"
             ],
             [
              0.8888888888888888,
              "#fdca26"
             ],
             [
              1,
              "#f0f921"
             ]
            ],
            "type": "heatmapgl"
           }
          ],
          "histogram": [
           {
            "marker": {
             "pattern": {
              "fillmode": "overlay",
              "size": 10,
              "solidity": 0.2
             }
            },
            "type": "histogram"
           }
          ],
          "histogram2d": [
           {
            "colorbar": {
             "outlinewidth": 0,
             "ticks": ""
            },
            "colorscale": [
             [
              0,
              "#0d0887"
             ],
             [
              0.1111111111111111,
              "#46039f"
             ],
             [
              0.2222222222222222,
              "#7201a8"
             ],
             [
              0.3333333333333333,
              "#9c179e"
             ],
             [
              0.4444444444444444,
              "#bd3786"
             ],
             [
              0.5555555555555556,
              "#d8576b"
             ],
             [
              0.6666666666666666,
              "#ed7953"
             ],
             [
              0.7777777777777778,
              "#fb9f3a"
             ],
             [
              0.8888888888888888,
              "#fdca26"
             ],
             [
              1,
              "#f0f921"
             ]
            ],
            "type": "histogram2d"
           }
          ],
          "histogram2dcontour": [
           {
            "colorbar": {
             "outlinewidth": 0,
             "ticks": ""
            },
            "colorscale": [
             [
              0,
              "#0d0887"
             ],
             [
              0.1111111111111111,
              "#46039f"
             ],
             [
              0.2222222222222222,
              "#7201a8"
             ],
             [
              0.3333333333333333,
              "#9c179e"
             ],
             [
              0.4444444444444444,
              "#bd3786"
             ],
             [
              0.5555555555555556,
              "#d8576b"
             ],
             [
              0.6666666666666666,
              "#ed7953"
             ],
             [
              0.7777777777777778,
              "#fb9f3a"
             ],
             [
              0.8888888888888888,
              "#fdca26"
             ],
             [
              1,
              "#f0f921"
             ]
            ],
            "type": "histogram2dcontour"
           }
          ],
          "mesh3d": [
           {
            "colorbar": {
             "outlinewidth": 0,
             "ticks": ""
            },
            "type": "mesh3d"
           }
          ],
          "parcoords": [
           {
            "line": {
             "colorbar": {
              "outlinewidth": 0,
              "ticks": ""
             }
            },
            "type": "parcoords"
           }
          ],
          "pie": [
           {
            "automargin": true,
            "type": "pie"
           }
          ],
          "scatter": [
           {
            "fillpattern": {
             "fillmode": "overlay",
             "size": 10,
             "solidity": 0.2
            },
            "type": "scatter"
           }
          ],
          "scatter3d": [
           {
            "line": {
             "colorbar": {
              "outlinewidth": 0,
              "ticks": ""
             }
            },
            "marker": {
             "colorbar": {
              "outlinewidth": 0,
              "ticks": ""
             }
            },
            "type": "scatter3d"
           }
          ],
          "scattercarpet": [
           {
            "marker": {
             "colorbar": {
              "outlinewidth": 0,
              "ticks": ""
             }
            },
            "type": "scattercarpet"
           }
          ],
          "scattergeo": [
           {
            "marker": {
             "colorbar": {
              "outlinewidth": 0,
              "ticks": ""
             }
            },
            "type": "scattergeo"
           }
          ],
          "scattergl": [
           {
            "marker": {
             "colorbar": {
              "outlinewidth": 0,
              "ticks": ""
             }
            },
            "type": "scattergl"
           }
          ],
          "scattermapbox": [
           {
            "marker": {
             "colorbar": {
              "outlinewidth": 0,
              "ticks": ""
             }
            },
            "type": "scattermapbox"
           }
          ],
          "scatterpolar": [
           {
            "marker": {
             "colorbar": {
              "outlinewidth": 0,
              "ticks": ""
             }
            },
            "type": "scatterpolar"
           }
          ],
          "scatterpolargl": [
           {
            "marker": {
             "colorbar": {
              "outlinewidth": 0,
              "ticks": ""
             }
            },
            "type": "scatterpolargl"
           }
          ],
          "scatterternary": [
           {
            "marker": {
             "colorbar": {
              "outlinewidth": 0,
              "ticks": ""
             }
            },
            "type": "scatterternary"
           }
          ],
          "surface": [
           {
            "colorbar": {
             "outlinewidth": 0,
             "ticks": ""
            },
            "colorscale": [
             [
              0,
              "#0d0887"
             ],
             [
              0.1111111111111111,
              "#46039f"
             ],
             [
              0.2222222222222222,
              "#7201a8"
             ],
             [
              0.3333333333333333,
              "#9c179e"
             ],
             [
              0.4444444444444444,
              "#bd3786"
             ],
             [
              0.5555555555555556,
              "#d8576b"
             ],
             [
              0.6666666666666666,
              "#ed7953"
             ],
             [
              0.7777777777777778,
              "#fb9f3a"
             ],
             [
              0.8888888888888888,
              "#fdca26"
             ],
             [
              1,
              "#f0f921"
             ]
            ],
            "type": "surface"
           }
          ],
          "table": [
           {
            "cells": {
             "fill": {
              "color": "#EBF0F8"
             },
             "line": {
              "color": "white"
             }
            },
            "header": {
             "fill": {
              "color": "#C8D4E3"
             },
             "line": {
              "color": "white"
             }
            },
            "type": "table"
           }
          ]
         },
         "layout": {
          "annotationdefaults": {
           "arrowcolor": "#2a3f5f",
           "arrowhead": 0,
           "arrowwidth": 1
          },
          "autotypenumbers": "strict",
          "coloraxis": {
           "colorbar": {
            "outlinewidth": 0,
            "ticks": ""
           }
          },
          "colorscale": {
           "diverging": [
            [
             0,
             "#8e0152"
            ],
            [
             0.1,
             "#c51b7d"
            ],
            [
             0.2,
             "#de77ae"
            ],
            [
             0.3,
             "#f1b6da"
            ],
            [
             0.4,
             "#fde0ef"
            ],
            [
             0.5,
             "#f7f7f7"
            ],
            [
             0.6,
             "#e6f5d0"
            ],
            [
             0.7,
             "#b8e186"
            ],
            [
             0.8,
             "#7fbc41"
            ],
            [
             0.9,
             "#4d9221"
            ],
            [
             1,
             "#276419"
            ]
           ],
           "sequential": [
            [
             0,
             "#0d0887"
            ],
            [
             0.1111111111111111,
             "#46039f"
            ],
            [
             0.2222222222222222,
             "#7201a8"
            ],
            [
             0.3333333333333333,
             "#9c179e"
            ],
            [
             0.4444444444444444,
             "#bd3786"
            ],
            [
             0.5555555555555556,
             "#d8576b"
            ],
            [
             0.6666666666666666,
             "#ed7953"
            ],
            [
             0.7777777777777778,
             "#fb9f3a"
            ],
            [
             0.8888888888888888,
             "#fdca26"
            ],
            [
             1,
             "#f0f921"
            ]
           ],
           "sequentialminus": [
            [
             0,
             "#0d0887"
            ],
            [
             0.1111111111111111,
             "#46039f"
            ],
            [
             0.2222222222222222,
             "#7201a8"
            ],
            [
             0.3333333333333333,
             "#9c179e"
            ],
            [
             0.4444444444444444,
             "#bd3786"
            ],
            [
             0.5555555555555556,
             "#d8576b"
            ],
            [
             0.6666666666666666,
             "#ed7953"
            ],
            [
             0.7777777777777778,
             "#fb9f3a"
            ],
            [
             0.8888888888888888,
             "#fdca26"
            ],
            [
             1,
             "#f0f921"
            ]
           ]
          },
          "colorway": [
           "#636efa",
           "#EF553B",
           "#00cc96",
           "#ab63fa",
           "#FFA15A",
           "#19d3f3",
           "#FF6692",
           "#B6E880",
           "#FF97FF",
           "#FECB52"
          ],
          "font": {
           "color": "#2a3f5f"
          },
          "geo": {
           "bgcolor": "white",
           "lakecolor": "white",
           "landcolor": "#E5ECF6",
           "showlakes": true,
           "showland": true,
           "subunitcolor": "white"
          },
          "hoverlabel": {
           "align": "left"
          },
          "hovermode": "closest",
          "mapbox": {
           "style": "light"
          },
          "paper_bgcolor": "white",
          "plot_bgcolor": "#E5ECF6",
          "polar": {
           "angularaxis": {
            "gridcolor": "white",
            "linecolor": "white",
            "ticks": ""
           },
           "bgcolor": "#E5ECF6",
           "radialaxis": {
            "gridcolor": "white",
            "linecolor": "white",
            "ticks": ""
           }
          },
          "scene": {
           "xaxis": {
            "backgroundcolor": "#E5ECF6",
            "gridcolor": "white",
            "gridwidth": 2,
            "linecolor": "white",
            "showbackground": true,
            "ticks": "",
            "zerolinecolor": "white"
           },
           "yaxis": {
            "backgroundcolor": "#E5ECF6",
            "gridcolor": "white",
            "gridwidth": 2,
            "linecolor": "white",
            "showbackground": true,
            "ticks": "",
            "zerolinecolor": "white"
           },
           "zaxis": {
            "backgroundcolor": "#E5ECF6",
            "gridcolor": "white",
            "gridwidth": 2,
            "linecolor": "white",
            "showbackground": true,
            "ticks": "",
            "zerolinecolor": "white"
           }
          },
          "shapedefaults": {
           "line": {
            "color": "#2a3f5f"
           }
          },
          "ternary": {
           "aaxis": {
            "gridcolor": "white",
            "linecolor": "white",
            "ticks": ""
           },
           "baxis": {
            "gridcolor": "white",
            "linecolor": "white",
            "ticks": ""
           },
           "bgcolor": "#E5ECF6",
           "caxis": {
            "gridcolor": "white",
            "linecolor": "white",
            "ticks": ""
           }
          },
          "title": {
           "x": 0.05
          },
          "xaxis": {
           "automargin": true,
           "gridcolor": "white",
           "linecolor": "white",
           "ticks": "",
           "title": {
            "standoff": 15
           },
           "zerolinecolor": "white",
           "zerolinewidth": 2
          },
          "yaxis": {
           "automargin": true,
           "gridcolor": "white",
           "linecolor": "white",
           "ticks": "",
           "title": {
            "standoff": 15
           },
           "zerolinecolor": "white",
           "zerolinewidth": 2
          }
         }
        },
        "title": {
         "font": {
          "color": "#4D5663"
         },
         "text": "SPY Price"
        },
        "xaxis": {
         "gridcolor": "#E1E5ED",
         "rangeslider": {
          "visible": false
         },
         "showgrid": true,
         "tickfont": {
          "color": "#4D5663"
         },
         "title": {
          "font": {
           "color": "#4D5663"
          },
          "text": ""
         },
         "zerolinecolor": "#E1E5ED"
        },
        "yaxis": {
         "gridcolor": "#E1E5ED",
         "showgrid": true,
         "showticklabels": false,
         "tickfont": {
          "color": "#4D5663"
         },
         "title": {
          "font": {
           "color": "#4D5663"
          },
          "text": ""
         },
         "zerolinecolor": "#E1E5ED"
        },
        "yaxis2": {
         "gridcolor": "#E1E5ED",
         "showgrid": true,
         "tickfont": {
          "color": "#4D5663"
         },
         "title": {
          "font": {
           "color": "#4D5663"
          },
          "text": ""
         },
         "zerolinecolor": "#E1E5ED"
        }
       }
      },
      "text/html": [
       "<div>                            <div id=\"8668777d-8701-4ca7-9876-e3c136100997\" class=\"plotly-graph-div\" style=\"height:525px; width:100%;\"></div>            <script type=\"text/javascript\">                require([\"plotly\"], function(Plotly) {                    window.PLOTLYENV=window.PLOTLYENV || {};\n",
       "                    window.PLOTLYENV.BASE_URL='https://plot.ly';                                    if (document.getElementById(\"8668777d-8701-4ca7-9876-e3c136100997\")) {                    Plotly.newPlot(                        \"8668777d-8701-4ca7-9876-e3c136100997\",                        [{\"close\":[4158.240234375,4132.14990234375,4101.22998046875,4176.81982421875,4108.5400390625,4121.43017578125,4160.68017578125,4115.77001953125,4017.820068359375,3900.860107421875,3749.6298828125,3735.47998046875,3789.989990234375,3666.77001953125,3674.840087890625,3764.7900390625,3759.889892578125,3795.72998046875,3911.739990234375,3900.110107421875,3821.550048828125,3818.830078125,3785.3798828125,3825.330078125,3831.389892578125,3845.080078125,3902.6201171875,3899.3798828125,3854.429931640625,3852.669921875],\"high\":[4158.490234375,4168.33984375,4166.5400390625,4177.509765625,4142.669921875,4168.77978515625,4164.85986328125,4160.14013671875,4119.10009765625,3974.389892578125,3838.14990234375,3778.179931640625,3837.56005859375,3728.179931640625,3707.7099609375,3779.64990234375,3801.7900390625,3802.580078125,3913.64990234375,3927.719970703125,3945.860107421875,3836.5,3818.989990234375,3829.820068359375,3832.18994140625,3870.909912109375,3910.6298828125,3918.5,3880.93994140625,3873.409912109375],\"low\":[4077.429931640625,4104.8798828125,4073.85009765625,4074.3701171875,4098.669921875,4109.18017578125,4080.18994140625,4107.2001953125,4017.169921875,3900.159912109375,3734.300048828125,3705.679931640625,3722.300048828125,3639.77001953125,3636.8701171875,3715.31005859375,3717.68994140625,3743.52001953125,3821.75,3889.659912109375,3820.139892578125,3799.02001953125,3738.669921875,3752.10009765625,3742.06005859375,3809.3701171875,3858.85009765625,3869.340087890625,3847.219970703125,3837.8701171875],\"open\":[4077.429931640625,4151.08984375,4149.77978515625,4095.409912109375,4137.56982421875,4134.72021484375,4096.47021484375,4147.1201171875,4101.64990234375,3974.389892578125,3838.14990234375,3763.52001953125,3764.050048828125,3728.179931640625,3665.89990234375,3715.31005859375,3733.889892578125,3774.7099609375,3821.75,3920.760009765625,3913.0,3825.090087890625,3785.989990234375,3781.0,3792.610107421875,3831.97998046875,3858.85009765625,3888.260009765625,3880.93994140625,3851.949951171875],\"showlegend\":false,\"x\":[\"2022-05-27\",\"2022-05-31\",\"2022-06-01\",\"2022-06-02\",\"2022-06-03\",\"2022-06-06\",\"2022-06-07\",\"2022-06-08\",\"2022-06-09\",\"2022-06-10\",\"2022-06-13\",\"2022-06-14\",\"2022-06-15\",\"2022-06-16\",\"2022-06-17\",\"2022-06-21\",\"2022-06-22\",\"2022-06-23\",\"2022-06-24\",\"2022-06-27\",\"2022-06-28\",\"2022-06-29\",\"2022-06-30\",\"2022-07-01\",\"2022-07-05\",\"2022-07-06\",\"2022-07-07\",\"2022-07-08\",\"2022-07-11\",\"2022-07-12\"],\"yaxis\":\"y2\",\"type\":\"candlestick\"}],                        {\"legend\":{\"bgcolor\":\"#F5F6F9\",\"font\":{\"color\":\"#4D5663\"}},\"paper_bgcolor\":\"#F5F6F9\",\"plot_bgcolor\":\"#F5F6F9\",\"template\":{\"data\":{\"barpolar\":[{\"marker\":{\"line\":{\"color\":\"#E5ECF6\",\"width\":0.5},\"pattern\":{\"fillmode\":\"overlay\",\"size\":10,\"solidity\":0.2}},\"type\":\"barpolar\"}],\"bar\":[{\"error_x\":{\"color\":\"#2a3f5f\"},\"error_y\":{\"color\":\"#2a3f5f\"},\"marker\":{\"line\":{\"color\":\"#E5ECF6\",\"width\":0.5},\"pattern\":{\"fillmode\":\"overlay\",\"size\":10,\"solidity\":0.2}},\"type\":\"bar\"}],\"carpet\":[{\"aaxis\":{\"endlinecolor\":\"#2a3f5f\",\"gridcolor\":\"white\",\"linecolor\":\"white\",\"minorgridcolor\":\"white\",\"startlinecolor\":\"#2a3f5f\"},\"baxis\":{\"endlinecolor\":\"#2a3f5f\",\"gridcolor\":\"white\",\"linecolor\":\"white\",\"minorgridcolor\":\"white\",\"startlinecolor\":\"#2a3f5f\"},\"type\":\"carpet\"}],\"choropleth\":[{\"colorbar\":{\"outlinewidth\":0,\"ticks\":\"\"},\"type\":\"choropleth\"}],\"contourcarpet\":[{\"colorbar\":{\"outlinewidth\":0,\"ticks\":\"\"},\"type\":\"contourcarpet\"}],\"contour\":[{\"colorbar\":{\"outlinewidth\":0,\"ticks\":\"\"},\"colorscale\":[[0.0,\"#0d0887\"],[0.1111111111111111,\"#46039f\"],[0.2222222222222222,\"#7201a8\"],[0.3333333333333333,\"#9c179e\"],[0.4444444444444444,\"#bd3786\"],[0.5555555555555556,\"#d8576b\"],[0.6666666666666666,\"#ed7953\"],[0.7777777777777778,\"#fb9f3a\"],[0.8888888888888888,\"#fdca26\"],[1.0,\"#f0f921\"]],\"type\":\"contour\"}],\"heatmapgl\":[{\"colorbar\":{\"outlinewidth\":0,\"ticks\":\"\"},\"colorscale\":[[0.0,\"#0d0887\"],[0.1111111111111111,\"#46039f\"],[0.2222222222222222,\"#7201a8\"],[0.3333333333333333,\"#9c179e\"],[0.4444444444444444,\"#bd3786\"],[0.5555555555555556,\"#d8576b\"],[0.6666666666666666,\"#ed7953\"],[0.7777777777777778,\"#fb9f3a\"],[0.8888888888888888,\"#fdca26\"],[1.0,\"#f0f921\"]],\"type\":\"heatmapgl\"}],\"heatmap\":[{\"colorbar\":{\"outlinewidth\":0,\"ticks\":\"\"},\"colorscale\":[[0.0,\"#0d0887\"],[0.1111111111111111,\"#46039f\"],[0.2222222222222222,\"#7201a8\"],[0.3333333333333333,\"#9c179e\"],[0.4444444444444444,\"#bd3786\"],[0.5555555555555556,\"#d8576b\"],[0.6666666666666666,\"#ed7953\"],[0.7777777777777778,\"#fb9f3a\"],[0.8888888888888888,\"#fdca26\"],[1.0,\"#f0f921\"]],\"type\":\"heatmap\"}],\"histogram2dcontour\":[{\"colorbar\":{\"outlinewidth\":0,\"ticks\":\"\"},\"colorscale\":[[0.0,\"#0d0887\"],[0.1111111111111111,\"#46039f\"],[0.2222222222222222,\"#7201a8\"],[0.3333333333333333,\"#9c179e\"],[0.4444444444444444,\"#bd3786\"],[0.5555555555555556,\"#d8576b\"],[0.6666666666666666,\"#ed7953\"],[0.7777777777777778,\"#fb9f3a\"],[0.8888888888888888,\"#fdca26\"],[1.0,\"#f0f921\"]],\"type\":\"histogram2dcontour\"}],\"histogram2d\":[{\"colorbar\":{\"outlinewidth\":0,\"ticks\":\"\"},\"colorscale\":[[0.0,\"#0d0887\"],[0.1111111111111111,\"#46039f\"],[0.2222222222222222,\"#7201a8\"],[0.3333333333333333,\"#9c179e\"],[0.4444444444444444,\"#bd3786\"],[0.5555555555555556,\"#d8576b\"],[0.6666666666666666,\"#ed7953\"],[0.7777777777777778,\"#fb9f3a\"],[0.8888888888888888,\"#fdca26\"],[1.0,\"#f0f921\"]],\"type\":\"histogram2d\"}],\"histogram\":[{\"marker\":{\"pattern\":{\"fillmode\":\"overlay\",\"size\":10,\"solidity\":0.2}},\"type\":\"histogram\"}],\"mesh3d\":[{\"colorbar\":{\"outlinewidth\":0,\"ticks\":\"\"},\"type\":\"mesh3d\"}],\"parcoords\":[{\"line\":{\"colorbar\":{\"outlinewidth\":0,\"ticks\":\"\"}},\"type\":\"parcoords\"}],\"pie\":[{\"automargin\":true,\"type\":\"pie\"}],\"scatter3d\":[{\"line\":{\"colorbar\":{\"outlinewidth\":0,\"ticks\":\"\"}},\"marker\":{\"colorbar\":{\"outlinewidth\":0,\"ticks\":\"\"}},\"type\":\"scatter3d\"}],\"scattercarpet\":[{\"marker\":{\"colorbar\":{\"outlinewidth\":0,\"ticks\":\"\"}},\"type\":\"scattercarpet\"}],\"scattergeo\":[{\"marker\":{\"colorbar\":{\"outlinewidth\":0,\"ticks\":\"\"}},\"type\":\"scattergeo\"}],\"scattergl\":[{\"marker\":{\"colorbar\":{\"outlinewidth\":0,\"ticks\":\"\"}},\"type\":\"scattergl\"}],\"scattermapbox\":[{\"marker\":{\"colorbar\":{\"outlinewidth\":0,\"ticks\":\"\"}},\"type\":\"scattermapbox\"}],\"scatterpolargl\":[{\"marker\":{\"colorbar\":{\"outlinewidth\":0,\"ticks\":\"\"}},\"type\":\"scatterpolargl\"}],\"scatterpolar\":[{\"marker\":{\"colorbar\":{\"outlinewidth\":0,\"ticks\":\"\"}},\"type\":\"scatterpolar\"}],\"scatter\":[{\"fillpattern\":{\"fillmode\":\"overlay\",\"size\":10,\"solidity\":0.2},\"type\":\"scatter\"}],\"scatterternary\":[{\"marker\":{\"colorbar\":{\"outlinewidth\":0,\"ticks\":\"\"}},\"type\":\"scatterternary\"}],\"surface\":[{\"colorbar\":{\"outlinewidth\":0,\"ticks\":\"\"},\"colorscale\":[[0.0,\"#0d0887\"],[0.1111111111111111,\"#46039f\"],[0.2222222222222222,\"#7201a8\"],[0.3333333333333333,\"#9c179e\"],[0.4444444444444444,\"#bd3786\"],[0.5555555555555556,\"#d8576b\"],[0.6666666666666666,\"#ed7953\"],[0.7777777777777778,\"#fb9f3a\"],[0.8888888888888888,\"#fdca26\"],[1.0,\"#f0f921\"]],\"type\":\"surface\"}],\"table\":[{\"cells\":{\"fill\":{\"color\":\"#EBF0F8\"},\"line\":{\"color\":\"white\"}},\"header\":{\"fill\":{\"color\":\"#C8D4E3\"},\"line\":{\"color\":\"white\"}},\"type\":\"table\"}]},\"layout\":{\"annotationdefaults\":{\"arrowcolor\":\"#2a3f5f\",\"arrowhead\":0,\"arrowwidth\":1},\"autotypenumbers\":\"strict\",\"coloraxis\":{\"colorbar\":{\"outlinewidth\":0,\"ticks\":\"\"}},\"colorscale\":{\"diverging\":[[0,\"#8e0152\"],[0.1,\"#c51b7d\"],[0.2,\"#de77ae\"],[0.3,\"#f1b6da\"],[0.4,\"#fde0ef\"],[0.5,\"#f7f7f7\"],[0.6,\"#e6f5d0\"],[0.7,\"#b8e186\"],[0.8,\"#7fbc41\"],[0.9,\"#4d9221\"],[1,\"#276419\"]],\"sequential\":[[0.0,\"#0d0887\"],[0.1111111111111111,\"#46039f\"],[0.2222222222222222,\"#7201a8\"],[0.3333333333333333,\"#9c179e\"],[0.4444444444444444,\"#bd3786\"],[0.5555555555555556,\"#d8576b\"],[0.6666666666666666,\"#ed7953\"],[0.7777777777777778,\"#fb9f3a\"],[0.8888888888888888,\"#fdca26\"],[1.0,\"#f0f921\"]],\"sequentialminus\":[[0.0,\"#0d0887\"],[0.1111111111111111,\"#46039f\"],[0.2222222222222222,\"#7201a8\"],[0.3333333333333333,\"#9c179e\"],[0.4444444444444444,\"#bd3786\"],[0.5555555555555556,\"#d8576b\"],[0.6666666666666666,\"#ed7953\"],[0.7777777777777778,\"#fb9f3a\"],[0.8888888888888888,\"#fdca26\"],[1.0,\"#f0f921\"]]},\"colorway\":[\"#636efa\",\"#EF553B\",\"#00cc96\",\"#ab63fa\",\"#FFA15A\",\"#19d3f3\",\"#FF6692\",\"#B6E880\",\"#FF97FF\",\"#FECB52\"],\"font\":{\"color\":\"#2a3f5f\"},\"geo\":{\"bgcolor\":\"white\",\"lakecolor\":\"white\",\"landcolor\":\"#E5ECF6\",\"showlakes\":true,\"showland\":true,\"subunitcolor\":\"white\"},\"hoverlabel\":{\"align\":\"left\"},\"hovermode\":\"closest\",\"mapbox\":{\"style\":\"light\"},\"paper_bgcolor\":\"white\",\"plot_bgcolor\":\"#E5ECF6\",\"polar\":{\"angularaxis\":{\"gridcolor\":\"white\",\"linecolor\":\"white\",\"ticks\":\"\"},\"bgcolor\":\"#E5ECF6\",\"radialaxis\":{\"gridcolor\":\"white\",\"linecolor\":\"white\",\"ticks\":\"\"}},\"scene\":{\"xaxis\":{\"backgroundcolor\":\"#E5ECF6\",\"gridcolor\":\"white\",\"gridwidth\":2,\"linecolor\":\"white\",\"showbackground\":true,\"ticks\":\"\",\"zerolinecolor\":\"white\"},\"yaxis\":{\"backgroundcolor\":\"#E5ECF6\",\"gridcolor\":\"white\",\"gridwidth\":2,\"linecolor\":\"white\",\"showbackground\":true,\"ticks\":\"\",\"zerolinecolor\":\"white\"},\"zaxis\":{\"backgroundcolor\":\"#E5ECF6\",\"gridcolor\":\"white\",\"gridwidth\":2,\"linecolor\":\"white\",\"showbackground\":true,\"ticks\":\"\",\"zerolinecolor\":\"white\"}},\"shapedefaults\":{\"line\":{\"color\":\"#2a3f5f\"}},\"ternary\":{\"aaxis\":{\"gridcolor\":\"white\",\"linecolor\":\"white\",\"ticks\":\"\"},\"baxis\":{\"gridcolor\":\"white\",\"linecolor\":\"white\",\"ticks\":\"\"},\"bgcolor\":\"#E5ECF6\",\"caxis\":{\"gridcolor\":\"white\",\"linecolor\":\"white\",\"ticks\":\"\"}},\"title\":{\"x\":0.05},\"xaxis\":{\"automargin\":true,\"gridcolor\":\"white\",\"linecolor\":\"white\",\"ticks\":\"\",\"title\":{\"standoff\":15},\"zerolinecolor\":\"white\",\"zerolinewidth\":2},\"yaxis\":{\"automargin\":true,\"gridcolor\":\"white\",\"linecolor\":\"white\",\"ticks\":\"\",\"title\":{\"standoff\":15},\"zerolinecolor\":\"white\",\"zerolinewidth\":2}}},\"title\":{\"font\":{\"color\":\"#4D5663\"},\"text\":\"SPY Price\"},\"xaxis\":{\"gridcolor\":\"#E1E5ED\",\"rangeslider\":{\"visible\":false},\"showgrid\":true,\"tickfont\":{\"color\":\"#4D5663\"},\"title\":{\"font\":{\"color\":\"#4D5663\"},\"text\":\"\"},\"zerolinecolor\":\"#E1E5ED\"},\"yaxis\":{\"gridcolor\":\"#E1E5ED\",\"showgrid\":true,\"showticklabels\":false,\"tickfont\":{\"color\":\"#4D5663\"},\"title\":{\"font\":{\"color\":\"#4D5663\"},\"text\":\"\"},\"zerolinecolor\":\"#E1E5ED\"},\"yaxis2\":{\"gridcolor\":\"#E1E5ED\",\"showgrid\":true,\"tickfont\":{\"color\":\"#4D5663\"},\"title\":{\"font\":{\"color\":\"#4D5663\"},\"text\":\"\"},\"zerolinecolor\":\"#E1E5ED\"}},                        {\"showLink\": true, \"linkText\": \"Export to plot.ly\", \"plotlyServerURL\": \"https://plot.ly\", \"responsive\": true}                    ).then(function(){\n",
       "                            \n",
       "var gd = document.getElementById('8668777d-8701-4ca7-9876-e3c136100997');\n",
       "var x = new MutationObserver(function (mutations, observer) {{\n",
       "        var display = window.getComputedStyle(gd).display;\n",
       "        if (!display || display === 'none') {{\n",
       "            console.log([gd, 'removed!']);\n",
       "            Plotly.purge(gd);\n",
       "            observer.disconnect();\n",
       "        }}\n",
       "}});\n",
       "\n",
       "// Listen for the removal of the full notebook cells\n",
       "var notebookContainer = gd.closest('#notebook-container');\n",
       "if (notebookContainer) {{\n",
       "    x.observe(notebookContainer, {childList: true});\n",
       "}}\n",
       "\n",
       "// Listen for the clearing of the current output cell\n",
       "var outputEl = gd.closest('.output');\n",
       "if (outputEl) {{\n",
       "    x.observe(outputEl, {childList: true});\n",
       "}}\n",
       "\n",
       "                        })                };                });            </script>        </div>"
      ]
     },
     "metadata": {},
     "output_type": "display_data"
    }
   ],
   "source": [
    "df3[-30:].iplot(kind='candle', title='SPY Price')"
   ]
  },
  {
   "cell_type": "code",
   "execution_count": 33,
   "metadata": {},
   "outputs": [
    {
     "data": {
      "application/vnd.plotly.v1+json": {
       "config": {
        "linkText": "Export to plot.ly",
        "plotlyServerURL": "https://plot.ly",
        "showLink": true
       },
       "data": [
        {
         "line": {
          "color": "rgba(255, 153, 51, 1.0)",
          "dash": "solid",
          "shape": "linear",
          "width": 1.3
         },
         "mode": "lines",
         "name": "AMZN",
         "text": "",
         "type": "scatter",
         "x": [
          "2022-01-03",
          "2022-01-04",
          "2022-01-05",
          "2022-01-06",
          "2022-01-07",
          "2022-01-10",
          "2022-01-11",
          "2022-01-12",
          "2022-01-13",
          "2022-01-14",
          "2022-01-18",
          "2022-01-19",
          "2022-01-20",
          "2022-01-21",
          "2022-01-24",
          "2022-01-25",
          "2022-01-26",
          "2022-01-27",
          "2022-01-28",
          "2022-01-31",
          "2022-02-01",
          "2022-02-02",
          "2022-02-03",
          "2022-02-04",
          "2022-02-07",
          "2022-02-08",
          "2022-02-09",
          "2022-02-10",
          "2022-02-11",
          "2022-02-14",
          "2022-02-15",
          "2022-02-16",
          "2022-02-17",
          "2022-02-18",
          "2022-02-22",
          "2022-02-23",
          "2022-02-24",
          "2022-02-25",
          "2022-02-28",
          "2022-03-01",
          "2022-03-02",
          "2022-03-03",
          "2022-03-04",
          "2022-03-07",
          "2022-03-08",
          "2022-03-09",
          "2022-03-10",
          "2022-03-11",
          "2022-03-14",
          "2022-03-15",
          "2022-03-16",
          "2022-03-17",
          "2022-03-18",
          "2022-03-21",
          "2022-03-22",
          "2022-03-23",
          "2022-03-24",
          "2022-03-25",
          "2022-03-28",
          "2022-03-29",
          "2022-03-30",
          "2022-03-31",
          "2022-04-01",
          "2022-04-04",
          "2022-04-05",
          "2022-04-06",
          "2022-04-07",
          "2022-04-08",
          "2022-04-11",
          "2022-04-12",
          "2022-04-13",
          "2022-04-14",
          "2022-04-18",
          "2022-04-19",
          "2022-04-20",
          "2022-04-21",
          "2022-04-22",
          "2022-04-25",
          "2022-04-26",
          "2022-04-27",
          "2022-04-28",
          "2022-04-29",
          "2022-05-02",
          "2022-05-03",
          "2022-05-04",
          "2022-05-05",
          "2022-05-06",
          "2022-05-09",
          "2022-05-10",
          "2022-05-11",
          "2022-05-12",
          "2022-05-13",
          "2022-05-16",
          "2022-05-17",
          "2022-05-18",
          "2022-05-19",
          "2022-05-20",
          "2022-05-23",
          "2022-05-24",
          "2022-05-25",
          "2022-05-26",
          "2022-05-27",
          "2022-05-31",
          "2022-06-01",
          "2022-06-02",
          "2022-06-03",
          "2022-06-06",
          "2022-06-07",
          "2022-06-08",
          "2022-06-09",
          "2022-06-10",
          "2022-06-13",
          "2022-06-14",
          "2022-06-15",
          "2022-06-16",
          "2022-06-17",
          "2022-06-21",
          "2022-06-22",
          "2022-06-23",
          "2022-06-24",
          "2022-06-27",
          "2022-06-28",
          "2022-06-29",
          "2022-06-30",
          "2022-07-01",
          "2022-07-05",
          "2022-07-06",
          "2022-07-07",
          "2022-07-08",
          "2022-07-11",
          "2022-07-12"
         ],
         "y": [
          170.4044952392578,
          167.52200317382812,
          164.35699462890625,
          163.25399780273438,
          162.5540008544922,
          161.48599243164062,
          165.36199951171875,
          165.20700073242188,
          161.21400451660156,
          162.13800048828125,
          158.91749572753906,
          156.2989959716797,
          151.66749572753906,
          142.64300537109375,
          144.54400634765625,
          139.98599243164062,
          138.87249755859375,
          139.6374969482422,
          143.97799682617188,
          149.57350158691406,
          151.19349670410156,
          150.6125030517578,
          138.8455047607422,
          157.63949584960938,
          157.9355010986328,
          161.4134979248047,
          161.1894989013672,
          159.0034942626953,
          153.2935028076172,
          155.16700744628906,
          156.510498046875,
          158.10049438476562,
          154.65249633789062,
          152.60150146484375,
          150.19749450683594,
          144.82699584960938,
          151.35800170898438,
          153.7884979248047,
          153.56300354003906,
          151.14199829101562,
          152.05250549316406,
          147.89849853515625,
          145.64100646972656,
          137.4530029296875,
          136.01449584960938,
          139.2790069580078,
          146.8175048828125,
          145.52450561523438,
          141.85299682617188,
          147.3665008544922,
          153.10400390625,
          157.23899841308594,
          161.25050354003906,
          161.4915008544922,
          164.88900756835938,
          163.4080047607422,
          163.64950561523438,
          164.77349853515625,
          168.99049377441406,
          169.31500244140625,
          166.30099487304688,
          162.99749755859375,
          163.55999755859375,
          168.34649658203125,
          164.05499267578125,
          158.75599670410156,
          157.7845001220703,
          154.4604949951172,
          151.1219940185547,
          150.78750610351562,
          155.54100036621094,
          151.7064971923828,
          152.78500366210938,
          158.11549377441406,
          153.9980010986328,
          148.29600524902344,
          144.35000610351562,
          146.07400512695312,
          139.39100646972656,
          138.16700744628906,
          144.59649658203125,
          124.28150177001953,
          124.5,
          124.25350189208984,
          125.92849731445312,
          116.40699768066406,
          114.77249908447266,
          108.78900146484375,
          108.85900115966797,
          105.37200164794922,
          106.93049621582031,
          113.05500030517578,
          110.81050109863281,
          115.36849975585938,
          107.11250305175781,
          107.31900024414062,
          107.59100341796875,
          107.55699920654297,
          104.0999984741211,
          106.7750015258789,
          111.07749938964844,
          115.14649963378906,
          120.20950317382812,
          121.68399810791016,
          125.51100158691406,
          122.3499984741211,
          124.79000091552734,
          123,
          121.18000030517578,
          116.1500015258789,
          109.6500015258789,
          103.66999816894531,
          102.30999755859375,
          107.66999816894531,
          103.66000366210938,
          106.22000122070312,
          108.68000030517578,
          108.94999694824219,
          112.44000244140625,
          116.45999908447266,
          113.22000122070312,
          107.4000015258789,
          108.91999816894531,
          106.20999908447266,
          109.55999755859375,
          113.5,
          114.33000183105469,
          116.33000183105469,
          115.54000091552734,
          111.75,
          110.4000015258789
         ]
        },
        {
         "line": {
          "color": "rgba(55, 128, 191, 1.0)",
          "dash": "solid",
          "shape": "linear",
          "width": 1.3
         },
         "mode": "lines",
         "name": "AAPL",
         "text": "",
         "type": "scatter",
         "x": [
          "2022-01-03",
          "2022-01-04",
          "2022-01-05",
          "2022-01-06",
          "2022-01-07",
          "2022-01-10",
          "2022-01-11",
          "2022-01-12",
          "2022-01-13",
          "2022-01-14",
          "2022-01-18",
          "2022-01-19",
          "2022-01-20",
          "2022-01-21",
          "2022-01-24",
          "2022-01-25",
          "2022-01-26",
          "2022-01-27",
          "2022-01-28",
          "2022-01-31",
          "2022-02-01",
          "2022-02-02",
          "2022-02-03",
          "2022-02-04",
          "2022-02-07",
          "2022-02-08",
          "2022-02-09",
          "2022-02-10",
          "2022-02-11",
          "2022-02-14",
          "2022-02-15",
          "2022-02-16",
          "2022-02-17",
          "2022-02-18",
          "2022-02-22",
          "2022-02-23",
          "2022-02-24",
          "2022-02-25",
          "2022-02-28",
          "2022-03-01",
          "2022-03-02",
          "2022-03-03",
          "2022-03-04",
          "2022-03-07",
          "2022-03-08",
          "2022-03-09",
          "2022-03-10",
          "2022-03-11",
          "2022-03-14",
          "2022-03-15",
          "2022-03-16",
          "2022-03-17",
          "2022-03-18",
          "2022-03-21",
          "2022-03-22",
          "2022-03-23",
          "2022-03-24",
          "2022-03-25",
          "2022-03-28",
          "2022-03-29",
          "2022-03-30",
          "2022-03-31",
          "2022-04-01",
          "2022-04-04",
          "2022-04-05",
          "2022-04-06",
          "2022-04-07",
          "2022-04-08",
          "2022-04-11",
          "2022-04-12",
          "2022-04-13",
          "2022-04-14",
          "2022-04-18",
          "2022-04-19",
          "2022-04-20",
          "2022-04-21",
          "2022-04-22",
          "2022-04-25",
          "2022-04-26",
          "2022-04-27",
          "2022-04-28",
          "2022-04-29",
          "2022-05-02",
          "2022-05-03",
          "2022-05-04",
          "2022-05-05",
          "2022-05-06",
          "2022-05-09",
          "2022-05-10",
          "2022-05-11",
          "2022-05-12",
          "2022-05-13",
          "2022-05-16",
          "2022-05-17",
          "2022-05-18",
          "2022-05-19",
          "2022-05-20",
          "2022-05-23",
          "2022-05-24",
          "2022-05-25",
          "2022-05-26",
          "2022-05-27",
          "2022-05-31",
          "2022-06-01",
          "2022-06-02",
          "2022-06-03",
          "2022-06-06",
          "2022-06-07",
          "2022-06-08",
          "2022-06-09",
          "2022-06-10",
          "2022-06-13",
          "2022-06-14",
          "2022-06-15",
          "2022-06-16",
          "2022-06-17",
          "2022-06-21",
          "2022-06-22",
          "2022-06-23",
          "2022-06-24",
          "2022-06-27",
          "2022-06-28",
          "2022-06-29",
          "2022-06-30",
          "2022-07-01",
          "2022-07-05",
          "2022-07-06",
          "2022-07-07",
          "2022-07-08",
          "2022-07-11",
          "2022-07-12"
         ],
         "xaxis": "x",
         "y": [
          181.51170349121094,
          179.20803833007812,
          174.44113159179688,
          171.52911376953125,
          171.6986541748047,
          171.71859741210938,
          174.60067749023438,
          175.04945373535156,
          171.71859741210938,
          172.59620666503906,
          169.33514404296875,
          165.77490234375,
          164.05963134765625,
          161.9653778076172,
          161.17752075195312,
          159.34255981445312,
          159.25282287597656,
          158.7841033935547,
          169.8636932373047,
          174.30149841308594,
          174.13198852539062,
          175.3585968017578,
          172.42665100097656,
          172.1370849609375,
          171.4081573486328,
          174.57350158691406,
          176.02137756347656,
          171.8674774169922,
          168.39259338378906,
          168.63223266601562,
          172.5364990234375,
          172.29685974121094,
          168.63223266601562,
          167.05455017089844,
          164.0789337158203,
          159.83517456054688,
          162.50125122070312,
          164.608154296875,
          164.87774658203125,
          162.9605712890625,
          166.31564331054688,
          165.98611450195312,
          162.93060302734375,
          159.06629943847656,
          157.20901489257812,
          162.7109375,
          158.28744506835938,
          154.50299072265625,
          150.39901733398438,
          154.86245727539062,
          159.35586547851562,
          160.3843536376953,
          163.7394256591797,
          165.1373748779297,
          168.57232666015625,
          169.96029663085938,
          173.8146209716797,
          174.4636688232422,
          175.34237670898438,
          178.69744873046875,
          177.5092010498047,
          174.3538360595703,
          174.05426025390625,
          178.17820739746094,
          174.80316162109375,
          171.57791137695312,
          171.887451171875,
          169.8404541015625,
          165.50682067871094,
          167.41403198242188,
          170.14999389648438,
          165.04750061035156,
          164.8278350830078,
          167.15440368652344,
          166.98464965820312,
          166.17584228515625,
          161.55262756347656,
          162.6410369873047,
          156.56996154785156,
          156.34030151367188,
          163.39991760253906,
          157.418701171875,
          157.72825622558594,
          159.2460174560547,
          165.77642822265625,
          156.54000854492188,
          157.27999877929688,
          152.05999755859375,
          154.50999450683594,
          146.5,
          142.55999755859375,
          147.11000061035156,
          145.5399932861328,
          149.24000549316406,
          140.82000732421875,
          137.35000610351562,
          137.58999633789062,
          143.11000061035156,
          140.36000061035156,
          140.52000427246094,
          143.77999877929688,
          149.63999938964844,
          148.83999633789062,
          148.7100067138672,
          151.2100067138672,
          145.3800048828125,
          146.13999938964844,
          148.7100067138672,
          147.9600067138672,
          142.63999938964844,
          137.1300048828125,
          131.8800048828125,
          132.75999450683594,
          135.42999267578125,
          130.05999755859375,
          131.55999755859375,
          135.8699951171875,
          135.35000610351562,
          138.27000427246094,
          141.66000366210938,
          141.66000366210938,
          137.44000244140625,
          139.22999572753906,
          136.72000122070312,
          138.92999267578125,
          141.55999755859375,
          142.9199981689453,
          146.35000610351562,
          147.0399932861328,
          144.8699951171875,
          147.44000244140625
         ],
         "yaxis": "y2"
        }
       ],
       "layout": {
        "legend": {
         "bgcolor": "#F5F6F9",
         "font": {
          "color": "#4D5663"
         }
        },
        "paper_bgcolor": "#F5F6F9",
        "plot_bgcolor": "#F5F6F9",
        "template": {
         "data": {
          "bar": [
           {
            "error_x": {
             "color": "#2a3f5f"
            },
            "error_y": {
             "color": "#2a3f5f"
            },
            "marker": {
             "line": {
              "color": "#E5ECF6",
              "width": 0.5
             },
             "pattern": {
              "fillmode": "overlay",
              "size": 10,
              "solidity": 0.2
             }
            },
            "type": "bar"
           }
          ],
          "barpolar": [
           {
            "marker": {
             "line": {
              "color": "#E5ECF6",
              "width": 0.5
             },
             "pattern": {
              "fillmode": "overlay",
              "size": 10,
              "solidity": 0.2
             }
            },
            "type": "barpolar"
           }
          ],
          "carpet": [
           {
            "aaxis": {
             "endlinecolor": "#2a3f5f",
             "gridcolor": "white",
             "linecolor": "white",
             "minorgridcolor": "white",
             "startlinecolor": "#2a3f5f"
            },
            "baxis": {
             "endlinecolor": "#2a3f5f",
             "gridcolor": "white",
             "linecolor": "white",
             "minorgridcolor": "white",
             "startlinecolor": "#2a3f5f"
            },
            "type": "carpet"
           }
          ],
          "choropleth": [
           {
            "colorbar": {
             "outlinewidth": 0,
             "ticks": ""
            },
            "type": "choropleth"
           }
          ],
          "contour": [
           {
            "colorbar": {
             "outlinewidth": 0,
             "ticks": ""
            },
            "colorscale": [
             [
              0,
              "#0d0887"
             ],
             [
              0.1111111111111111,
              "#46039f"
             ],
             [
              0.2222222222222222,
              "#7201a8"
             ],
             [
              0.3333333333333333,
              "#9c179e"
             ],
             [
              0.4444444444444444,
              "#bd3786"
             ],
             [
              0.5555555555555556,
              "#d8576b"
             ],
             [
              0.6666666666666666,
              "#ed7953"
             ],
             [
              0.7777777777777778,
              "#fb9f3a"
             ],
             [
              0.8888888888888888,
              "#fdca26"
             ],
             [
              1,
              "#f0f921"
             ]
            ],
            "type": "contour"
           }
          ],
          "contourcarpet": [
           {
            "colorbar": {
             "outlinewidth": 0,
             "ticks": ""
            },
            "type": "contourcarpet"
           }
          ],
          "heatmap": [
           {
            "colorbar": {
             "outlinewidth": 0,
             "ticks": ""
            },
            "colorscale": [
             [
              0,
              "#0d0887"
             ],
             [
              0.1111111111111111,
              "#46039f"
             ],
             [
              0.2222222222222222,
              "#7201a8"
             ],
             [
              0.3333333333333333,
              "#9c179e"
             ],
             [
              0.4444444444444444,
              "#bd3786"
             ],
             [
              0.5555555555555556,
              "#d8576b"
             ],
             [
              0.6666666666666666,
              "#ed7953"
             ],
             [
              0.7777777777777778,
              "#fb9f3a"
             ],
             [
              0.8888888888888888,
              "#fdca26"
             ],
             [
              1,
              "#f0f921"
             ]
            ],
            "type": "heatmap"
           }
          ],
          "heatmapgl": [
           {
            "colorbar": {
             "outlinewidth": 0,
             "ticks": ""
            },
            "colorscale": [
             [
              0,
              "#0d0887"
             ],
             [
              0.1111111111111111,
              "#46039f"
             ],
             [
              0.2222222222222222,
              "#7201a8"
             ],
             [
              0.3333333333333333,
              "#9c179e"
             ],
             [
              0.4444444444444444,
              "#bd3786"
             ],
             [
              0.5555555555555556,
              "#d8576b"
             ],
             [
              0.6666666666666666,
              "#ed7953"
             ],
             [
              0.7777777777777778,
              "#fb9f3a"
             ],
             [
              0.8888888888888888,
              "#fdca26"
             ],
             [
              1,
              "#f0f921"
             ]
            ],
            "type": "heatmapgl"
           }
          ],
          "histogram": [
           {
            "marker": {
             "pattern": {
              "fillmode": "overlay",
              "size": 10,
              "solidity": 0.2
             }
            },
            "type": "histogram"
           }
          ],
          "histogram2d": [
           {
            "colorbar": {
             "outlinewidth": 0,
             "ticks": ""
            },
            "colorscale": [
             [
              0,
              "#0d0887"
             ],
             [
              0.1111111111111111,
              "#46039f"
             ],
             [
              0.2222222222222222,
              "#7201a8"
             ],
             [
              0.3333333333333333,
              "#9c179e"
             ],
             [
              0.4444444444444444,
              "#bd3786"
             ],
             [
              0.5555555555555556,
              "#d8576b"
             ],
             [
              0.6666666666666666,
              "#ed7953"
             ],
             [
              0.7777777777777778,
              "#fb9f3a"
             ],
             [
              0.8888888888888888,
              "#fdca26"
             ],
             [
              1,
              "#f0f921"
             ]
            ],
            "type": "histogram2d"
           }
          ],
          "histogram2dcontour": [
           {
            "colorbar": {
             "outlinewidth": 0,
             "ticks": ""
            },
            "colorscale": [
             [
              0,
              "#0d0887"
             ],
             [
              0.1111111111111111,
              "#46039f"
             ],
             [
              0.2222222222222222,
              "#7201a8"
             ],
             [
              0.3333333333333333,
              "#9c179e"
             ],
             [
              0.4444444444444444,
              "#bd3786"
             ],
             [
              0.5555555555555556,
              "#d8576b"
             ],
             [
              0.6666666666666666,
              "#ed7953"
             ],
             [
              0.7777777777777778,
              "#fb9f3a"
             ],
             [
              0.8888888888888888,
              "#fdca26"
             ],
             [
              1,
              "#f0f921"
             ]
            ],
            "type": "histogram2dcontour"
           }
          ],
          "mesh3d": [
           {
            "colorbar": {
             "outlinewidth": 0,
             "ticks": ""
            },
            "type": "mesh3d"
           }
          ],
          "parcoords": [
           {
            "line": {
             "colorbar": {
              "outlinewidth": 0,
              "ticks": ""
             }
            },
            "type": "parcoords"
           }
          ],
          "pie": [
           {
            "automargin": true,
            "type": "pie"
           }
          ],
          "scatter": [
           {
            "fillpattern": {
             "fillmode": "overlay",
             "size": 10,
             "solidity": 0.2
            },
            "type": "scatter"
           }
          ],
          "scatter3d": [
           {
            "line": {
             "colorbar": {
              "outlinewidth": 0,
              "ticks": ""
             }
            },
            "marker": {
             "colorbar": {
              "outlinewidth": 0,
              "ticks": ""
             }
            },
            "type": "scatter3d"
           }
          ],
          "scattercarpet": [
           {
            "marker": {
             "colorbar": {
              "outlinewidth": 0,
              "ticks": ""
             }
            },
            "type": "scattercarpet"
           }
          ],
          "scattergeo": [
           {
            "marker": {
             "colorbar": {
              "outlinewidth": 0,
              "ticks": ""
             }
            },
            "type": "scattergeo"
           }
          ],
          "scattergl": [
           {
            "marker": {
             "colorbar": {
              "outlinewidth": 0,
              "ticks": ""
             }
            },
            "type": "scattergl"
           }
          ],
          "scattermapbox": [
           {
            "marker": {
             "colorbar": {
              "outlinewidth": 0,
              "ticks": ""
             }
            },
            "type": "scattermapbox"
           }
          ],
          "scatterpolar": [
           {
            "marker": {
             "colorbar": {
              "outlinewidth": 0,
              "ticks": ""
             }
            },
            "type": "scatterpolar"
           }
          ],
          "scatterpolargl": [
           {
            "marker": {
             "colorbar": {
              "outlinewidth": 0,
              "ticks": ""
             }
            },
            "type": "scatterpolargl"
           }
          ],
          "scatterternary": [
           {
            "marker": {
             "colorbar": {
              "outlinewidth": 0,
              "ticks": ""
             }
            },
            "type": "scatterternary"
           }
          ],
          "surface": [
           {
            "colorbar": {
             "outlinewidth": 0,
             "ticks": ""
            },
            "colorscale": [
             [
              0,
              "#0d0887"
             ],
             [
              0.1111111111111111,
              "#46039f"
             ],
             [
              0.2222222222222222,
              "#7201a8"
             ],
             [
              0.3333333333333333,
              "#9c179e"
             ],
             [
              0.4444444444444444,
              "#bd3786"
             ],
             [
              0.5555555555555556,
              "#d8576b"
             ],
             [
              0.6666666666666666,
              "#ed7953"
             ],
             [
              0.7777777777777778,
              "#fb9f3a"
             ],
             [
              0.8888888888888888,
              "#fdca26"
             ],
             [
              1,
              "#f0f921"
             ]
            ],
            "type": "surface"
           }
          ],
          "table": [
           {
            "cells": {
             "fill": {
              "color": "#EBF0F8"
             },
             "line": {
              "color": "white"
             }
            },
            "header": {
             "fill": {
              "color": "#C8D4E3"
             },
             "line": {
              "color": "white"
             }
            },
            "type": "table"
           }
          ]
         },
         "layout": {
          "annotationdefaults": {
           "arrowcolor": "#2a3f5f",
           "arrowhead": 0,
           "arrowwidth": 1
          },
          "autotypenumbers": "strict",
          "coloraxis": {
           "colorbar": {
            "outlinewidth": 0,
            "ticks": ""
           }
          },
          "colorscale": {
           "diverging": [
            [
             0,
             "#8e0152"
            ],
            [
             0.1,
             "#c51b7d"
            ],
            [
             0.2,
             "#de77ae"
            ],
            [
             0.3,
             "#f1b6da"
            ],
            [
             0.4,
             "#fde0ef"
            ],
            [
             0.5,
             "#f7f7f7"
            ],
            [
             0.6,
             "#e6f5d0"
            ],
            [
             0.7,
             "#b8e186"
            ],
            [
             0.8,
             "#7fbc41"
            ],
            [
             0.9,
             "#4d9221"
            ],
            [
             1,
             "#276419"
            ]
           ],
           "sequential": [
            [
             0,
             "#0d0887"
            ],
            [
             0.1111111111111111,
             "#46039f"
            ],
            [
             0.2222222222222222,
             "#7201a8"
            ],
            [
             0.3333333333333333,
             "#9c179e"
            ],
            [
             0.4444444444444444,
             "#bd3786"
            ],
            [
             0.5555555555555556,
             "#d8576b"
            ],
            [
             0.6666666666666666,
             "#ed7953"
            ],
            [
             0.7777777777777778,
             "#fb9f3a"
            ],
            [
             0.8888888888888888,
             "#fdca26"
            ],
            [
             1,
             "#f0f921"
            ]
           ],
           "sequentialminus": [
            [
             0,
             "#0d0887"
            ],
            [
             0.1111111111111111,
             "#46039f"
            ],
            [
             0.2222222222222222,
             "#7201a8"
            ],
            [
             0.3333333333333333,
             "#9c179e"
            ],
            [
             0.4444444444444444,
             "#bd3786"
            ],
            [
             0.5555555555555556,
             "#d8576b"
            ],
            [
             0.6666666666666666,
             "#ed7953"
            ],
            [
             0.7777777777777778,
             "#fb9f3a"
            ],
            [
             0.8888888888888888,
             "#fdca26"
            ],
            [
             1,
             "#f0f921"
            ]
           ]
          },
          "colorway": [
           "#636efa",
           "#EF553B",
           "#00cc96",
           "#ab63fa",
           "#FFA15A",
           "#19d3f3",
           "#FF6692",
           "#B6E880",
           "#FF97FF",
           "#FECB52"
          ],
          "font": {
           "color": "#2a3f5f"
          },
          "geo": {
           "bgcolor": "white",
           "lakecolor": "white",
           "landcolor": "#E5ECF6",
           "showlakes": true,
           "showland": true,
           "subunitcolor": "white"
          },
          "hoverlabel": {
           "align": "left"
          },
          "hovermode": "closest",
          "mapbox": {
           "style": "light"
          },
          "paper_bgcolor": "white",
          "plot_bgcolor": "#E5ECF6",
          "polar": {
           "angularaxis": {
            "gridcolor": "white",
            "linecolor": "white",
            "ticks": ""
           },
           "bgcolor": "#E5ECF6",
           "radialaxis": {
            "gridcolor": "white",
            "linecolor": "white",
            "ticks": ""
           }
          },
          "scene": {
           "xaxis": {
            "backgroundcolor": "#E5ECF6",
            "gridcolor": "white",
            "gridwidth": 2,
            "linecolor": "white",
            "showbackground": true,
            "ticks": "",
            "zerolinecolor": "white"
           },
           "yaxis": {
            "backgroundcolor": "#E5ECF6",
            "gridcolor": "white",
            "gridwidth": 2,
            "linecolor": "white",
            "showbackground": true,
            "ticks": "",
            "zerolinecolor": "white"
           },
           "zaxis": {
            "backgroundcolor": "#E5ECF6",
            "gridcolor": "white",
            "gridwidth": 2,
            "linecolor": "white",
            "showbackground": true,
            "ticks": "",
            "zerolinecolor": "white"
           }
          },
          "shapedefaults": {
           "line": {
            "color": "#2a3f5f"
           }
          },
          "ternary": {
           "aaxis": {
            "gridcolor": "white",
            "linecolor": "white",
            "ticks": ""
           },
           "baxis": {
            "gridcolor": "white",
            "linecolor": "white",
            "ticks": ""
           },
           "bgcolor": "#E5ECF6",
           "caxis": {
            "gridcolor": "white",
            "linecolor": "white",
            "ticks": ""
           }
          },
          "title": {
           "x": 0.05
          },
          "xaxis": {
           "automargin": true,
           "gridcolor": "white",
           "linecolor": "white",
           "ticks": "",
           "title": {
            "standoff": 15
           },
           "zerolinecolor": "white",
           "zerolinewidth": 2
          },
          "yaxis": {
           "automargin": true,
           "gridcolor": "white",
           "linecolor": "white",
           "ticks": "",
           "title": {
            "standoff": 15
           },
           "zerolinecolor": "white",
           "zerolinewidth": 2
          }
         }
        },
        "title": {
         "font": {
          "color": "#4D5663"
         },
         "text": "Amazon Vs Apple"
        },
        "xaxis": {
         "gridcolor": "#E1E5ED",
         "showgrid": true,
         "tickfont": {
          "color": "#4D5663"
         },
         "title": {
          "font": {
           "color": "#4D5663"
          },
          "text": ""
         },
         "zerolinecolor": "#E1E5ED"
        },
        "yaxis": {
         "gridcolor": "#E1E5ED",
         "showgrid": true,
         "tickfont": {
          "color": "#4D5663"
         },
         "title": {
          "font": {
           "color": "#4D5663"
          },
          "text": ""
         },
         "zerolinecolor": "#E1E5ED"
        },
        "yaxis2": {
         "anchor": "x",
         "gridcolor": "#E1E5ED",
         "overlaying": "y",
         "showgrid": true,
         "side": "right",
         "tickfont": {
          "color": "#4D5663"
         },
         "title": {
          "text": ""
         },
         "zerolinecolor": "#E1E5ED"
        }
       }
      },
      "text/html": [
       "<div>                            <div id=\"e1d52d42-5a25-49fb-9ce9-ba617163170f\" class=\"plotly-graph-div\" style=\"height:525px; width:100%;\"></div>            <script type=\"text/javascript\">                require([\"plotly\"], function(Plotly) {                    window.PLOTLYENV=window.PLOTLYENV || {};\n",
       "                    window.PLOTLYENV.BASE_URL='https://plot.ly';                                    if (document.getElementById(\"e1d52d42-5a25-49fb-9ce9-ba617163170f\")) {                    Plotly.newPlot(                        \"e1d52d42-5a25-49fb-9ce9-ba617163170f\",                        [{\"line\":{\"color\":\"rgba(255, 153, 51, 1.0)\",\"dash\":\"solid\",\"shape\":\"linear\",\"width\":1.3},\"mode\":\"lines\",\"name\":\"AMZN\",\"text\":\"\",\"x\":[\"2022-01-03\",\"2022-01-04\",\"2022-01-05\",\"2022-01-06\",\"2022-01-07\",\"2022-01-10\",\"2022-01-11\",\"2022-01-12\",\"2022-01-13\",\"2022-01-14\",\"2022-01-18\",\"2022-01-19\",\"2022-01-20\",\"2022-01-21\",\"2022-01-24\",\"2022-01-25\",\"2022-01-26\",\"2022-01-27\",\"2022-01-28\",\"2022-01-31\",\"2022-02-01\",\"2022-02-02\",\"2022-02-03\",\"2022-02-04\",\"2022-02-07\",\"2022-02-08\",\"2022-02-09\",\"2022-02-10\",\"2022-02-11\",\"2022-02-14\",\"2022-02-15\",\"2022-02-16\",\"2022-02-17\",\"2022-02-18\",\"2022-02-22\",\"2022-02-23\",\"2022-02-24\",\"2022-02-25\",\"2022-02-28\",\"2022-03-01\",\"2022-03-02\",\"2022-03-03\",\"2022-03-04\",\"2022-03-07\",\"2022-03-08\",\"2022-03-09\",\"2022-03-10\",\"2022-03-11\",\"2022-03-14\",\"2022-03-15\",\"2022-03-16\",\"2022-03-17\",\"2022-03-18\",\"2022-03-21\",\"2022-03-22\",\"2022-03-23\",\"2022-03-24\",\"2022-03-25\",\"2022-03-28\",\"2022-03-29\",\"2022-03-30\",\"2022-03-31\",\"2022-04-01\",\"2022-04-04\",\"2022-04-05\",\"2022-04-06\",\"2022-04-07\",\"2022-04-08\",\"2022-04-11\",\"2022-04-12\",\"2022-04-13\",\"2022-04-14\",\"2022-04-18\",\"2022-04-19\",\"2022-04-20\",\"2022-04-21\",\"2022-04-22\",\"2022-04-25\",\"2022-04-26\",\"2022-04-27\",\"2022-04-28\",\"2022-04-29\",\"2022-05-02\",\"2022-05-03\",\"2022-05-04\",\"2022-05-05\",\"2022-05-06\",\"2022-05-09\",\"2022-05-10\",\"2022-05-11\",\"2022-05-12\",\"2022-05-13\",\"2022-05-16\",\"2022-05-17\",\"2022-05-18\",\"2022-05-19\",\"2022-05-20\",\"2022-05-23\",\"2022-05-24\",\"2022-05-25\",\"2022-05-26\",\"2022-05-27\",\"2022-05-31\",\"2022-06-01\",\"2022-06-02\",\"2022-06-03\",\"2022-06-06\",\"2022-06-07\",\"2022-06-08\",\"2022-06-09\",\"2022-06-10\",\"2022-06-13\",\"2022-06-14\",\"2022-06-15\",\"2022-06-16\",\"2022-06-17\",\"2022-06-21\",\"2022-06-22\",\"2022-06-23\",\"2022-06-24\",\"2022-06-27\",\"2022-06-28\",\"2022-06-29\",\"2022-06-30\",\"2022-07-01\",\"2022-07-05\",\"2022-07-06\",\"2022-07-07\",\"2022-07-08\",\"2022-07-11\",\"2022-07-12\"],\"y\":[170.4044952392578,167.52200317382812,164.35699462890625,163.25399780273438,162.5540008544922,161.48599243164062,165.36199951171875,165.20700073242188,161.21400451660156,162.13800048828125,158.91749572753906,156.2989959716797,151.66749572753906,142.64300537109375,144.54400634765625,139.98599243164062,138.87249755859375,139.6374969482422,143.97799682617188,149.57350158691406,151.19349670410156,150.6125030517578,138.8455047607422,157.63949584960938,157.9355010986328,161.4134979248047,161.1894989013672,159.0034942626953,153.2935028076172,155.16700744628906,156.510498046875,158.10049438476562,154.65249633789062,152.60150146484375,150.19749450683594,144.82699584960938,151.35800170898438,153.7884979248047,153.56300354003906,151.14199829101562,152.05250549316406,147.89849853515625,145.64100646972656,137.4530029296875,136.01449584960938,139.2790069580078,146.8175048828125,145.52450561523438,141.85299682617188,147.3665008544922,153.10400390625,157.23899841308594,161.25050354003906,161.4915008544922,164.88900756835938,163.4080047607422,163.64950561523438,164.77349853515625,168.99049377441406,169.31500244140625,166.30099487304688,162.99749755859375,163.55999755859375,168.34649658203125,164.05499267578125,158.75599670410156,157.7845001220703,154.4604949951172,151.1219940185547,150.78750610351562,155.54100036621094,151.7064971923828,152.78500366210938,158.11549377441406,153.9980010986328,148.29600524902344,144.35000610351562,146.07400512695312,139.39100646972656,138.16700744628906,144.59649658203125,124.28150177001953,124.5,124.25350189208984,125.92849731445312,116.40699768066406,114.77249908447266,108.78900146484375,108.85900115966797,105.37200164794922,106.93049621582031,113.05500030517578,110.81050109863281,115.36849975585938,107.11250305175781,107.31900024414062,107.59100341796875,107.55699920654297,104.0999984741211,106.7750015258789,111.07749938964844,115.14649963378906,120.20950317382812,121.68399810791016,125.51100158691406,122.3499984741211,124.79000091552734,123.0,121.18000030517578,116.1500015258789,109.6500015258789,103.66999816894531,102.30999755859375,107.66999816894531,103.66000366210938,106.22000122070312,108.68000030517578,108.94999694824219,112.44000244140625,116.45999908447266,113.22000122070312,107.4000015258789,108.91999816894531,106.20999908447266,109.55999755859375,113.5,114.33000183105469,116.33000183105469,115.54000091552734,111.75,110.4000015258789],\"type\":\"scatter\"},{\"line\":{\"color\":\"rgba(55, 128, 191, 1.0)\",\"dash\":\"solid\",\"shape\":\"linear\",\"width\":1.3},\"mode\":\"lines\",\"name\":\"AAPL\",\"text\":\"\",\"x\":[\"2022-01-03\",\"2022-01-04\",\"2022-01-05\",\"2022-01-06\",\"2022-01-07\",\"2022-01-10\",\"2022-01-11\",\"2022-01-12\",\"2022-01-13\",\"2022-01-14\",\"2022-01-18\",\"2022-01-19\",\"2022-01-20\",\"2022-01-21\",\"2022-01-24\",\"2022-01-25\",\"2022-01-26\",\"2022-01-27\",\"2022-01-28\",\"2022-01-31\",\"2022-02-01\",\"2022-02-02\",\"2022-02-03\",\"2022-02-04\",\"2022-02-07\",\"2022-02-08\",\"2022-02-09\",\"2022-02-10\",\"2022-02-11\",\"2022-02-14\",\"2022-02-15\",\"2022-02-16\",\"2022-02-17\",\"2022-02-18\",\"2022-02-22\",\"2022-02-23\",\"2022-02-24\",\"2022-02-25\",\"2022-02-28\",\"2022-03-01\",\"2022-03-02\",\"2022-03-03\",\"2022-03-04\",\"2022-03-07\",\"2022-03-08\",\"2022-03-09\",\"2022-03-10\",\"2022-03-11\",\"2022-03-14\",\"2022-03-15\",\"2022-03-16\",\"2022-03-17\",\"2022-03-18\",\"2022-03-21\",\"2022-03-22\",\"2022-03-23\",\"2022-03-24\",\"2022-03-25\",\"2022-03-28\",\"2022-03-29\",\"2022-03-30\",\"2022-03-31\",\"2022-04-01\",\"2022-04-04\",\"2022-04-05\",\"2022-04-06\",\"2022-04-07\",\"2022-04-08\",\"2022-04-11\",\"2022-04-12\",\"2022-04-13\",\"2022-04-14\",\"2022-04-18\",\"2022-04-19\",\"2022-04-20\",\"2022-04-21\",\"2022-04-22\",\"2022-04-25\",\"2022-04-26\",\"2022-04-27\",\"2022-04-28\",\"2022-04-29\",\"2022-05-02\",\"2022-05-03\",\"2022-05-04\",\"2022-05-05\",\"2022-05-06\",\"2022-05-09\",\"2022-05-10\",\"2022-05-11\",\"2022-05-12\",\"2022-05-13\",\"2022-05-16\",\"2022-05-17\",\"2022-05-18\",\"2022-05-19\",\"2022-05-20\",\"2022-05-23\",\"2022-05-24\",\"2022-05-25\",\"2022-05-26\",\"2022-05-27\",\"2022-05-31\",\"2022-06-01\",\"2022-06-02\",\"2022-06-03\",\"2022-06-06\",\"2022-06-07\",\"2022-06-08\",\"2022-06-09\",\"2022-06-10\",\"2022-06-13\",\"2022-06-14\",\"2022-06-15\",\"2022-06-16\",\"2022-06-17\",\"2022-06-21\",\"2022-06-22\",\"2022-06-23\",\"2022-06-24\",\"2022-06-27\",\"2022-06-28\",\"2022-06-29\",\"2022-06-30\",\"2022-07-01\",\"2022-07-05\",\"2022-07-06\",\"2022-07-07\",\"2022-07-08\",\"2022-07-11\",\"2022-07-12\"],\"y\":[181.51170349121094,179.20803833007812,174.44113159179688,171.52911376953125,171.6986541748047,171.71859741210938,174.60067749023438,175.04945373535156,171.71859741210938,172.59620666503906,169.33514404296875,165.77490234375,164.05963134765625,161.9653778076172,161.17752075195312,159.34255981445312,159.25282287597656,158.7841033935547,169.8636932373047,174.30149841308594,174.13198852539062,175.3585968017578,172.42665100097656,172.1370849609375,171.4081573486328,174.57350158691406,176.02137756347656,171.8674774169922,168.39259338378906,168.63223266601562,172.5364990234375,172.29685974121094,168.63223266601562,167.05455017089844,164.0789337158203,159.83517456054688,162.50125122070312,164.608154296875,164.87774658203125,162.9605712890625,166.31564331054688,165.98611450195312,162.93060302734375,159.06629943847656,157.20901489257812,162.7109375,158.28744506835938,154.50299072265625,150.39901733398438,154.86245727539062,159.35586547851562,160.3843536376953,163.7394256591797,165.1373748779297,168.57232666015625,169.96029663085938,173.8146209716797,174.4636688232422,175.34237670898438,178.69744873046875,177.5092010498047,174.3538360595703,174.05426025390625,178.17820739746094,174.80316162109375,171.57791137695312,171.887451171875,169.8404541015625,165.50682067871094,167.41403198242188,170.14999389648438,165.04750061035156,164.8278350830078,167.15440368652344,166.98464965820312,166.17584228515625,161.55262756347656,162.6410369873047,156.56996154785156,156.34030151367188,163.39991760253906,157.418701171875,157.72825622558594,159.2460174560547,165.77642822265625,156.54000854492188,157.27999877929688,152.05999755859375,154.50999450683594,146.5,142.55999755859375,147.11000061035156,145.5399932861328,149.24000549316406,140.82000732421875,137.35000610351562,137.58999633789062,143.11000061035156,140.36000061035156,140.52000427246094,143.77999877929688,149.63999938964844,148.83999633789062,148.7100067138672,151.2100067138672,145.3800048828125,146.13999938964844,148.7100067138672,147.9600067138672,142.63999938964844,137.1300048828125,131.8800048828125,132.75999450683594,135.42999267578125,130.05999755859375,131.55999755859375,135.8699951171875,135.35000610351562,138.27000427246094,141.66000366210938,141.66000366210938,137.44000244140625,139.22999572753906,136.72000122070312,138.92999267578125,141.55999755859375,142.9199981689453,146.35000610351562,147.0399932861328,144.8699951171875,147.44000244140625],\"type\":\"scatter\",\"xaxis\":\"x\",\"yaxis\":\"y2\"}],                        {\"legend\":{\"bgcolor\":\"#F5F6F9\",\"font\":{\"color\":\"#4D5663\"}},\"paper_bgcolor\":\"#F5F6F9\",\"plot_bgcolor\":\"#F5F6F9\",\"title\":{\"text\":\"Amazon Vs Apple\",\"font\":{\"color\":\"#4D5663\"}},\"xaxis\":{\"gridcolor\":\"#E1E5ED\",\"showgrid\":true,\"tickfont\":{\"color\":\"#4D5663\"},\"title\":{\"text\":\"\",\"font\":{\"color\":\"#4D5663\"}},\"zerolinecolor\":\"#E1E5ED\"},\"yaxis\":{\"gridcolor\":\"#E1E5ED\",\"showgrid\":true,\"tickfont\":{\"color\":\"#4D5663\"},\"title\":{\"text\":\"\",\"font\":{\"color\":\"#4D5663\"}},\"zerolinecolor\":\"#E1E5ED\"},\"template\":{\"data\":{\"histogram2dcontour\":[{\"type\":\"histogram2dcontour\",\"colorbar\":{\"outlinewidth\":0,\"ticks\":\"\"},\"colorscale\":[[0.0,\"#0d0887\"],[0.1111111111111111,\"#46039f\"],[0.2222222222222222,\"#7201a8\"],[0.3333333333333333,\"#9c179e\"],[0.4444444444444444,\"#bd3786\"],[0.5555555555555556,\"#d8576b\"],[0.6666666666666666,\"#ed7953\"],[0.7777777777777778,\"#fb9f3a\"],[0.8888888888888888,\"#fdca26\"],[1.0,\"#f0f921\"]]}],\"choropleth\":[{\"type\":\"choropleth\",\"colorbar\":{\"outlinewidth\":0,\"ticks\":\"\"}}],\"histogram2d\":[{\"type\":\"histogram2d\",\"colorbar\":{\"outlinewidth\":0,\"ticks\":\"\"},\"colorscale\":[[0.0,\"#0d0887\"],[0.1111111111111111,\"#46039f\"],[0.2222222222222222,\"#7201a8\"],[0.3333333333333333,\"#9c179e\"],[0.4444444444444444,\"#bd3786\"],[0.5555555555555556,\"#d8576b\"],[0.6666666666666666,\"#ed7953\"],[0.7777777777777778,\"#fb9f3a\"],[0.8888888888888888,\"#fdca26\"],[1.0,\"#f0f921\"]]}],\"heatmap\":[{\"type\":\"heatmap\",\"colorbar\":{\"outlinewidth\":0,\"ticks\":\"\"},\"colorscale\":[[0.0,\"#0d0887\"],[0.1111111111111111,\"#46039f\"],[0.2222222222222222,\"#7201a8\"],[0.3333333333333333,\"#9c179e\"],[0.4444444444444444,\"#bd3786\"],[0.5555555555555556,\"#d8576b\"],[0.6666666666666666,\"#ed7953\"],[0.7777777777777778,\"#fb9f3a\"],[0.8888888888888888,\"#fdca26\"],[1.0,\"#f0f921\"]]}],\"heatmapgl\":[{\"type\":\"heatmapgl\",\"colorbar\":{\"outlinewidth\":0,\"ticks\":\"\"},\"colorscale\":[[0.0,\"#0d0887\"],[0.1111111111111111,\"#46039f\"],[0.2222222222222222,\"#7201a8\"],[0.3333333333333333,\"#9c179e\"],[0.4444444444444444,\"#bd3786\"],[0.5555555555555556,\"#d8576b\"],[0.6666666666666666,\"#ed7953\"],[0.7777777777777778,\"#fb9f3a\"],[0.8888888888888888,\"#fdca26\"],[1.0,\"#f0f921\"]]}],\"contourcarpet\":[{\"type\":\"contourcarpet\",\"colorbar\":{\"outlinewidth\":0,\"ticks\":\"\"}}],\"contour\":[{\"type\":\"contour\",\"colorbar\":{\"outlinewidth\":0,\"ticks\":\"\"},\"colorscale\":[[0.0,\"#0d0887\"],[0.1111111111111111,\"#46039f\"],[0.2222222222222222,\"#7201a8\"],[0.3333333333333333,\"#9c179e\"],[0.4444444444444444,\"#bd3786\"],[0.5555555555555556,\"#d8576b\"],[0.6666666666666666,\"#ed7953\"],[0.7777777777777778,\"#fb9f3a\"],[0.8888888888888888,\"#fdca26\"],[1.0,\"#f0f921\"]]}],\"surface\":[{\"type\":\"surface\",\"colorbar\":{\"outlinewidth\":0,\"ticks\":\"\"},\"colorscale\":[[0.0,\"#0d0887\"],[0.1111111111111111,\"#46039f\"],[0.2222222222222222,\"#7201a8\"],[0.3333333333333333,\"#9c179e\"],[0.4444444444444444,\"#bd3786\"],[0.5555555555555556,\"#d8576b\"],[0.6666666666666666,\"#ed7953\"],[0.7777777777777778,\"#fb9f3a\"],[0.8888888888888888,\"#fdca26\"],[1.0,\"#f0f921\"]]}],\"mesh3d\":[{\"type\":\"mesh3d\",\"colorbar\":{\"outlinewidth\":0,\"ticks\":\"\"}}],\"scatter\":[{\"fillpattern\":{\"fillmode\":\"overlay\",\"size\":10,\"solidity\":0.2},\"type\":\"scatter\"}],\"parcoords\":[{\"type\":\"parcoords\",\"line\":{\"colorbar\":{\"outlinewidth\":0,\"ticks\":\"\"}}}],\"scatterpolargl\":[{\"type\":\"scatterpolargl\",\"marker\":{\"colorbar\":{\"outlinewidth\":0,\"ticks\":\"\"}}}],\"bar\":[{\"error_x\":{\"color\":\"#2a3f5f\"},\"error_y\":{\"color\":\"#2a3f5f\"},\"marker\":{\"line\":{\"color\":\"#E5ECF6\",\"width\":0.5},\"pattern\":{\"fillmode\":\"overlay\",\"size\":10,\"solidity\":0.2}},\"type\":\"bar\"}],\"scattergeo\":[{\"type\":\"scattergeo\",\"marker\":{\"colorbar\":{\"outlinewidth\":0,\"ticks\":\"\"}}}],\"scatterpolar\":[{\"type\":\"scatterpolar\",\"marker\":{\"colorbar\":{\"outlinewidth\":0,\"ticks\":\"\"}}}],\"histogram\":[{\"marker\":{\"pattern\":{\"fillmode\":\"overlay\",\"size\":10,\"solidity\":0.2}},\"type\":\"histogram\"}],\"scattergl\":[{\"type\":\"scattergl\",\"marker\":{\"colorbar\":{\"outlinewidth\":0,\"ticks\":\"\"}}}],\"scatter3d\":[{\"type\":\"scatter3d\",\"line\":{\"colorbar\":{\"outlinewidth\":0,\"ticks\":\"\"}},\"marker\":{\"colorbar\":{\"outlinewidth\":0,\"ticks\":\"\"}}}],\"scattermapbox\":[{\"type\":\"scattermapbox\",\"marker\":{\"colorbar\":{\"outlinewidth\":0,\"ticks\":\"\"}}}],\"scatterternary\":[{\"type\":\"scatterternary\",\"marker\":{\"colorbar\":{\"outlinewidth\":0,\"ticks\":\"\"}}}],\"scattercarpet\":[{\"type\":\"scattercarpet\",\"marker\":{\"colorbar\":{\"outlinewidth\":0,\"ticks\":\"\"}}}],\"carpet\":[{\"aaxis\":{\"endlinecolor\":\"#2a3f5f\",\"gridcolor\":\"white\",\"linecolor\":\"white\",\"minorgridcolor\":\"white\",\"startlinecolor\":\"#2a3f5f\"},\"baxis\":{\"endlinecolor\":\"#2a3f5f\",\"gridcolor\":\"white\",\"linecolor\":\"white\",\"minorgridcolor\":\"white\",\"startlinecolor\":\"#2a3f5f\"},\"type\":\"carpet\"}],\"table\":[{\"cells\":{\"fill\":{\"color\":\"#EBF0F8\"},\"line\":{\"color\":\"white\"}},\"header\":{\"fill\":{\"color\":\"#C8D4E3\"},\"line\":{\"color\":\"white\"}},\"type\":\"table\"}],\"barpolar\":[{\"marker\":{\"line\":{\"color\":\"#E5ECF6\",\"width\":0.5},\"pattern\":{\"fillmode\":\"overlay\",\"size\":10,\"solidity\":0.2}},\"type\":\"barpolar\"}],\"pie\":[{\"automargin\":true,\"type\":\"pie\"}]},\"layout\":{\"autotypenumbers\":\"strict\",\"colorway\":[\"#636efa\",\"#EF553B\",\"#00cc96\",\"#ab63fa\",\"#FFA15A\",\"#19d3f3\",\"#FF6692\",\"#B6E880\",\"#FF97FF\",\"#FECB52\"],\"font\":{\"color\":\"#2a3f5f\"},\"hovermode\":\"closest\",\"hoverlabel\":{\"align\":\"left\"},\"paper_bgcolor\":\"white\",\"plot_bgcolor\":\"#E5ECF6\",\"polar\":{\"bgcolor\":\"#E5ECF6\",\"angularaxis\":{\"gridcolor\":\"white\",\"linecolor\":\"white\",\"ticks\":\"\"},\"radialaxis\":{\"gridcolor\":\"white\",\"linecolor\":\"white\",\"ticks\":\"\"}},\"ternary\":{\"bgcolor\":\"#E5ECF6\",\"aaxis\":{\"gridcolor\":\"white\",\"linecolor\":\"white\",\"ticks\":\"\"},\"baxis\":{\"gridcolor\":\"white\",\"linecolor\":\"white\",\"ticks\":\"\"},\"caxis\":{\"gridcolor\":\"white\",\"linecolor\":\"white\",\"ticks\":\"\"}},\"coloraxis\":{\"colorbar\":{\"outlinewidth\":0,\"ticks\":\"\"}},\"colorscale\":{\"sequential\":[[0.0,\"#0d0887\"],[0.1111111111111111,\"#46039f\"],[0.2222222222222222,\"#7201a8\"],[0.3333333333333333,\"#9c179e\"],[0.4444444444444444,\"#bd3786\"],[0.5555555555555556,\"#d8576b\"],[0.6666666666666666,\"#ed7953\"],[0.7777777777777778,\"#fb9f3a\"],[0.8888888888888888,\"#fdca26\"],[1.0,\"#f0f921\"]],\"sequentialminus\":[[0.0,\"#0d0887\"],[0.1111111111111111,\"#46039f\"],[0.2222222222222222,\"#7201a8\"],[0.3333333333333333,\"#9c179e\"],[0.4444444444444444,\"#bd3786\"],[0.5555555555555556,\"#d8576b\"],[0.6666666666666666,\"#ed7953\"],[0.7777777777777778,\"#fb9f3a\"],[0.8888888888888888,\"#fdca26\"],[1.0,\"#f0f921\"]],\"diverging\":[[0,\"#8e0152\"],[0.1,\"#c51b7d\"],[0.2,\"#de77ae\"],[0.3,\"#f1b6da\"],[0.4,\"#fde0ef\"],[0.5,\"#f7f7f7\"],[0.6,\"#e6f5d0\"],[0.7,\"#b8e186\"],[0.8,\"#7fbc41\"],[0.9,\"#4d9221\"],[1,\"#276419\"]]},\"xaxis\":{\"gridcolor\":\"white\",\"linecolor\":\"white\",\"ticks\":\"\",\"title\":{\"standoff\":15},\"zerolinecolor\":\"white\",\"automargin\":true,\"zerolinewidth\":2},\"yaxis\":{\"gridcolor\":\"white\",\"linecolor\":\"white\",\"ticks\":\"\",\"title\":{\"standoff\":15},\"zerolinecolor\":\"white\",\"automargin\":true,\"zerolinewidth\":2},\"scene\":{\"xaxis\":{\"backgroundcolor\":\"#E5ECF6\",\"gridcolor\":\"white\",\"linecolor\":\"white\",\"showbackground\":true,\"ticks\":\"\",\"zerolinecolor\":\"white\",\"gridwidth\":2},\"yaxis\":{\"backgroundcolor\":\"#E5ECF6\",\"gridcolor\":\"white\",\"linecolor\":\"white\",\"showbackground\":true,\"ticks\":\"\",\"zerolinecolor\":\"white\",\"gridwidth\":2},\"zaxis\":{\"backgroundcolor\":\"#E5ECF6\",\"gridcolor\":\"white\",\"linecolor\":\"white\",\"showbackground\":true,\"ticks\":\"\",\"zerolinecolor\":\"white\",\"gridwidth\":2}},\"shapedefaults\":{\"line\":{\"color\":\"#2a3f5f\"}},\"annotationdefaults\":{\"arrowcolor\":\"#2a3f5f\",\"arrowhead\":0,\"arrowwidth\":1},\"geo\":{\"bgcolor\":\"white\",\"landcolor\":\"#E5ECF6\",\"subunitcolor\":\"white\",\"showland\":true,\"showlakes\":true,\"lakecolor\":\"white\"},\"title\":{\"x\":0.05},\"mapbox\":{\"style\":\"light\"}}},\"yaxis2\":{\"anchor\":\"x\",\"gridcolor\":\"#E1E5ED\",\"overlaying\":\"y\",\"showgrid\":true,\"side\":\"right\",\"tickfont\":{\"color\":\"#4D5663\"},\"title\":{\"text\":\"\"},\"zerolinecolor\":\"#E1E5ED\"}},                        {\"showLink\": true, \"linkText\": \"Export to plot.ly\", \"plotlyServerURL\": \"https://plot.ly\", \"responsive\": true}                    ).then(function(){\n",
       "                            \n",
       "var gd = document.getElementById('e1d52d42-5a25-49fb-9ce9-ba617163170f');\n",
       "var x = new MutationObserver(function (mutations, observer) {{\n",
       "        var display = window.getComputedStyle(gd).display;\n",
       "        if (!display || display === 'none') {{\n",
       "            console.log([gd, 'removed!']);\n",
       "            Plotly.purge(gd);\n",
       "            observer.disconnect();\n",
       "        }}\n",
       "}});\n",
       "\n",
       "// Listen for the removal of the full notebook cells\n",
       "var notebookContainer = gd.closest('#notebook-container');\n",
       "if (notebookContainer) {{\n",
       "    x.observe(notebookContainer, {childList: true});\n",
       "}}\n",
       "\n",
       "// Listen for the clearing of the current output cell\n",
       "var outputEl = gd.closest('.output');\n",
       "if (outputEl) {{\n",
       "    x.observe(outputEl, {childList: true});\n",
       "}}\n",
       "\n",
       "                        })                };                });            </script>        </div>"
      ]
     },
     "metadata": {},
     "output_type": "display_data"
    }
   ],
   "source": [
    "# Use secondary axis\n",
    "df4[['AMZN', 'AAPL']].iplot(title='Amazon Vs Apple', secondary_y='AAPL')"
   ]
  },
  {
   "cell_type": "code",
   "execution_count": 34,
   "metadata": {},
   "outputs": [
    {
     "data": {
      "application/vnd.plotly.v1+json": {
       "config": {
        "linkText": "Export to plot.ly",
        "plotlyServerURL": "https://plot.ly",
        "showLink": true
       },
       "data": [
        {
         "line": {
          "color": "rgba(255, 153, 51, 1.0)",
          "dash": "solid",
          "shape": "linear",
          "width": 1.3
         },
         "mode": "lines",
         "name": "AMZN",
         "text": "",
         "type": "scatter",
         "x": [
          "2022-01-03",
          "2022-01-04",
          "2022-01-05",
          "2022-01-06",
          "2022-01-07",
          "2022-01-10",
          "2022-01-11",
          "2022-01-12",
          "2022-01-13",
          "2022-01-14",
          "2022-01-18",
          "2022-01-19",
          "2022-01-20",
          "2022-01-21",
          "2022-01-24",
          "2022-01-25",
          "2022-01-26",
          "2022-01-27",
          "2022-01-28",
          "2022-01-31",
          "2022-02-01",
          "2022-02-02",
          "2022-02-03",
          "2022-02-04",
          "2022-02-07",
          "2022-02-08",
          "2022-02-09",
          "2022-02-10",
          "2022-02-11",
          "2022-02-14",
          "2022-02-15",
          "2022-02-16",
          "2022-02-17",
          "2022-02-18",
          "2022-02-22",
          "2022-02-23",
          "2022-02-24",
          "2022-02-25",
          "2022-02-28",
          "2022-03-01",
          "2022-03-02",
          "2022-03-03",
          "2022-03-04",
          "2022-03-07",
          "2022-03-08",
          "2022-03-09",
          "2022-03-10",
          "2022-03-11",
          "2022-03-14",
          "2022-03-15",
          "2022-03-16",
          "2022-03-17",
          "2022-03-18",
          "2022-03-21",
          "2022-03-22",
          "2022-03-23",
          "2022-03-24",
          "2022-03-25",
          "2022-03-28",
          "2022-03-29",
          "2022-03-30",
          "2022-03-31",
          "2022-04-01",
          "2022-04-04",
          "2022-04-05",
          "2022-04-06",
          "2022-04-07",
          "2022-04-08",
          "2022-04-11",
          "2022-04-12",
          "2022-04-13",
          "2022-04-14",
          "2022-04-18",
          "2022-04-19",
          "2022-04-20",
          "2022-04-21",
          "2022-04-22",
          "2022-04-25",
          "2022-04-26",
          "2022-04-27",
          "2022-04-28",
          "2022-04-29",
          "2022-05-02",
          "2022-05-03",
          "2022-05-04",
          "2022-05-05",
          "2022-05-06",
          "2022-05-09",
          "2022-05-10",
          "2022-05-11",
          "2022-05-12",
          "2022-05-13",
          "2022-05-16",
          "2022-05-17",
          "2022-05-18",
          "2022-05-19",
          "2022-05-20",
          "2022-05-23",
          "2022-05-24",
          "2022-05-25",
          "2022-05-26",
          "2022-05-27",
          "2022-05-31",
          "2022-06-01",
          "2022-06-02",
          "2022-06-03",
          "2022-06-06",
          "2022-06-07",
          "2022-06-08",
          "2022-06-09",
          "2022-06-10",
          "2022-06-13",
          "2022-06-14",
          "2022-06-15",
          "2022-06-16",
          "2022-06-17",
          "2022-06-21",
          "2022-06-22",
          "2022-06-23",
          "2022-06-24",
          "2022-06-27",
          "2022-06-28",
          "2022-06-29",
          "2022-06-30",
          "2022-07-01",
          "2022-07-05",
          "2022-07-06",
          "2022-07-07",
          "2022-07-08",
          "2022-07-11",
          "2022-07-12"
         ],
         "xaxis": "x",
         "y": [
          170.4044952392578,
          167.52200317382812,
          164.35699462890625,
          163.25399780273438,
          162.5540008544922,
          161.48599243164062,
          165.36199951171875,
          165.20700073242188,
          161.21400451660156,
          162.13800048828125,
          158.91749572753906,
          156.2989959716797,
          151.66749572753906,
          142.64300537109375,
          144.54400634765625,
          139.98599243164062,
          138.87249755859375,
          139.6374969482422,
          143.97799682617188,
          149.57350158691406,
          151.19349670410156,
          150.6125030517578,
          138.8455047607422,
          157.63949584960938,
          157.9355010986328,
          161.4134979248047,
          161.1894989013672,
          159.0034942626953,
          153.2935028076172,
          155.16700744628906,
          156.510498046875,
          158.10049438476562,
          154.65249633789062,
          152.60150146484375,
          150.19749450683594,
          144.82699584960938,
          151.35800170898438,
          153.7884979248047,
          153.56300354003906,
          151.14199829101562,
          152.05250549316406,
          147.89849853515625,
          145.64100646972656,
          137.4530029296875,
          136.01449584960938,
          139.2790069580078,
          146.8175048828125,
          145.52450561523438,
          141.85299682617188,
          147.3665008544922,
          153.10400390625,
          157.23899841308594,
          161.25050354003906,
          161.4915008544922,
          164.88900756835938,
          163.4080047607422,
          163.64950561523438,
          164.77349853515625,
          168.99049377441406,
          169.31500244140625,
          166.30099487304688,
          162.99749755859375,
          163.55999755859375,
          168.34649658203125,
          164.05499267578125,
          158.75599670410156,
          157.7845001220703,
          154.4604949951172,
          151.1219940185547,
          150.78750610351562,
          155.54100036621094,
          151.7064971923828,
          152.78500366210938,
          158.11549377441406,
          153.9980010986328,
          148.29600524902344,
          144.35000610351562,
          146.07400512695312,
          139.39100646972656,
          138.16700744628906,
          144.59649658203125,
          124.28150177001953,
          124.5,
          124.25350189208984,
          125.92849731445312,
          116.40699768066406,
          114.77249908447266,
          108.78900146484375,
          108.85900115966797,
          105.37200164794922,
          106.93049621582031,
          113.05500030517578,
          110.81050109863281,
          115.36849975585938,
          107.11250305175781,
          107.31900024414062,
          107.59100341796875,
          107.55699920654297,
          104.0999984741211,
          106.7750015258789,
          111.07749938964844,
          115.14649963378906,
          120.20950317382812,
          121.68399810791016,
          125.51100158691406,
          122.3499984741211,
          124.79000091552734,
          123,
          121.18000030517578,
          116.1500015258789,
          109.6500015258789,
          103.66999816894531,
          102.30999755859375,
          107.66999816894531,
          103.66000366210938,
          106.22000122070312,
          108.68000030517578,
          108.94999694824219,
          112.44000244140625,
          116.45999908447266,
          113.22000122070312,
          107.4000015258789,
          108.91999816894531,
          106.20999908447266,
          109.55999755859375,
          113.5,
          114.33000183105469,
          116.33000183105469,
          115.54000091552734,
          111.75,
          110.4000015258789
         ],
         "yaxis": "y"
        },
        {
         "line": {
          "color": "rgba(55, 128, 191, 1.0)",
          "dash": "solid",
          "shape": "linear",
          "width": 1.3
         },
         "mode": "lines",
         "name": "AAPL",
         "text": "",
         "type": "scatter",
         "x": [
          "2022-01-03",
          "2022-01-04",
          "2022-01-05",
          "2022-01-06",
          "2022-01-07",
          "2022-01-10",
          "2022-01-11",
          "2022-01-12",
          "2022-01-13",
          "2022-01-14",
          "2022-01-18",
          "2022-01-19",
          "2022-01-20",
          "2022-01-21",
          "2022-01-24",
          "2022-01-25",
          "2022-01-26",
          "2022-01-27",
          "2022-01-28",
          "2022-01-31",
          "2022-02-01",
          "2022-02-02",
          "2022-02-03",
          "2022-02-04",
          "2022-02-07",
          "2022-02-08",
          "2022-02-09",
          "2022-02-10",
          "2022-02-11",
          "2022-02-14",
          "2022-02-15",
          "2022-02-16",
          "2022-02-17",
          "2022-02-18",
          "2022-02-22",
          "2022-02-23",
          "2022-02-24",
          "2022-02-25",
          "2022-02-28",
          "2022-03-01",
          "2022-03-02",
          "2022-03-03",
          "2022-03-04",
          "2022-03-07",
          "2022-03-08",
          "2022-03-09",
          "2022-03-10",
          "2022-03-11",
          "2022-03-14",
          "2022-03-15",
          "2022-03-16",
          "2022-03-17",
          "2022-03-18",
          "2022-03-21",
          "2022-03-22",
          "2022-03-23",
          "2022-03-24",
          "2022-03-25",
          "2022-03-28",
          "2022-03-29",
          "2022-03-30",
          "2022-03-31",
          "2022-04-01",
          "2022-04-04",
          "2022-04-05",
          "2022-04-06",
          "2022-04-07",
          "2022-04-08",
          "2022-04-11",
          "2022-04-12",
          "2022-04-13",
          "2022-04-14",
          "2022-04-18",
          "2022-04-19",
          "2022-04-20",
          "2022-04-21",
          "2022-04-22",
          "2022-04-25",
          "2022-04-26",
          "2022-04-27",
          "2022-04-28",
          "2022-04-29",
          "2022-05-02",
          "2022-05-03",
          "2022-05-04",
          "2022-05-05",
          "2022-05-06",
          "2022-05-09",
          "2022-05-10",
          "2022-05-11",
          "2022-05-12",
          "2022-05-13",
          "2022-05-16",
          "2022-05-17",
          "2022-05-18",
          "2022-05-19",
          "2022-05-20",
          "2022-05-23",
          "2022-05-24",
          "2022-05-25",
          "2022-05-26",
          "2022-05-27",
          "2022-05-31",
          "2022-06-01",
          "2022-06-02",
          "2022-06-03",
          "2022-06-06",
          "2022-06-07",
          "2022-06-08",
          "2022-06-09",
          "2022-06-10",
          "2022-06-13",
          "2022-06-14",
          "2022-06-15",
          "2022-06-16",
          "2022-06-17",
          "2022-06-21",
          "2022-06-22",
          "2022-06-23",
          "2022-06-24",
          "2022-06-27",
          "2022-06-28",
          "2022-06-29",
          "2022-06-30",
          "2022-07-01",
          "2022-07-05",
          "2022-07-06",
          "2022-07-07",
          "2022-07-08",
          "2022-07-11",
          "2022-07-12"
         ],
         "xaxis": "x2",
         "y": [
          181.51170349121094,
          179.20803833007812,
          174.44113159179688,
          171.52911376953125,
          171.6986541748047,
          171.71859741210938,
          174.60067749023438,
          175.04945373535156,
          171.71859741210938,
          172.59620666503906,
          169.33514404296875,
          165.77490234375,
          164.05963134765625,
          161.9653778076172,
          161.17752075195312,
          159.34255981445312,
          159.25282287597656,
          158.7841033935547,
          169.8636932373047,
          174.30149841308594,
          174.13198852539062,
          175.3585968017578,
          172.42665100097656,
          172.1370849609375,
          171.4081573486328,
          174.57350158691406,
          176.02137756347656,
          171.8674774169922,
          168.39259338378906,
          168.63223266601562,
          172.5364990234375,
          172.29685974121094,
          168.63223266601562,
          167.05455017089844,
          164.0789337158203,
          159.83517456054688,
          162.50125122070312,
          164.608154296875,
          164.87774658203125,
          162.9605712890625,
          166.31564331054688,
          165.98611450195312,
          162.93060302734375,
          159.06629943847656,
          157.20901489257812,
          162.7109375,
          158.28744506835938,
          154.50299072265625,
          150.39901733398438,
          154.86245727539062,
          159.35586547851562,
          160.3843536376953,
          163.7394256591797,
          165.1373748779297,
          168.57232666015625,
          169.96029663085938,
          173.8146209716797,
          174.4636688232422,
          175.34237670898438,
          178.69744873046875,
          177.5092010498047,
          174.3538360595703,
          174.05426025390625,
          178.17820739746094,
          174.80316162109375,
          171.57791137695312,
          171.887451171875,
          169.8404541015625,
          165.50682067871094,
          167.41403198242188,
          170.14999389648438,
          165.04750061035156,
          164.8278350830078,
          167.15440368652344,
          166.98464965820312,
          166.17584228515625,
          161.55262756347656,
          162.6410369873047,
          156.56996154785156,
          156.34030151367188,
          163.39991760253906,
          157.418701171875,
          157.72825622558594,
          159.2460174560547,
          165.77642822265625,
          156.54000854492188,
          157.27999877929688,
          152.05999755859375,
          154.50999450683594,
          146.5,
          142.55999755859375,
          147.11000061035156,
          145.5399932861328,
          149.24000549316406,
          140.82000732421875,
          137.35000610351562,
          137.58999633789062,
          143.11000061035156,
          140.36000061035156,
          140.52000427246094,
          143.77999877929688,
          149.63999938964844,
          148.83999633789062,
          148.7100067138672,
          151.2100067138672,
          145.3800048828125,
          146.13999938964844,
          148.7100067138672,
          147.9600067138672,
          142.63999938964844,
          137.1300048828125,
          131.8800048828125,
          132.75999450683594,
          135.42999267578125,
          130.05999755859375,
          131.55999755859375,
          135.8699951171875,
          135.35000610351562,
          138.27000427246094,
          141.66000366210938,
          141.66000366210938,
          137.44000244140625,
          139.22999572753906,
          136.72000122070312,
          138.92999267578125,
          141.55999755859375,
          142.9199981689453,
          146.35000610351562,
          147.0399932861328,
          144.8699951171875,
          147.44000244140625
         ],
         "yaxis": "y2"
        }
       ],
       "layout": {
        "legend": {
         "bgcolor": "#F5F6F9",
         "font": {
          "color": "#4D5663"
         }
        },
        "paper_bgcolor": "#F5F6F9",
        "plot_bgcolor": "#F5F6F9",
        "template": {
         "data": {
          "bar": [
           {
            "error_x": {
             "color": "#2a3f5f"
            },
            "error_y": {
             "color": "#2a3f5f"
            },
            "marker": {
             "line": {
              "color": "#E5ECF6",
              "width": 0.5
             },
             "pattern": {
              "fillmode": "overlay",
              "size": 10,
              "solidity": 0.2
             }
            },
            "type": "bar"
           }
          ],
          "barpolar": [
           {
            "marker": {
             "line": {
              "color": "#E5ECF6",
              "width": 0.5
             },
             "pattern": {
              "fillmode": "overlay",
              "size": 10,
              "solidity": 0.2
             }
            },
            "type": "barpolar"
           }
          ],
          "carpet": [
           {
            "aaxis": {
             "endlinecolor": "#2a3f5f",
             "gridcolor": "white",
             "linecolor": "white",
             "minorgridcolor": "white",
             "startlinecolor": "#2a3f5f"
            },
            "baxis": {
             "endlinecolor": "#2a3f5f",
             "gridcolor": "white",
             "linecolor": "white",
             "minorgridcolor": "white",
             "startlinecolor": "#2a3f5f"
            },
            "type": "carpet"
           }
          ],
          "choropleth": [
           {
            "colorbar": {
             "outlinewidth": 0,
             "ticks": ""
            },
            "type": "choropleth"
           }
          ],
          "contour": [
           {
            "colorbar": {
             "outlinewidth": 0,
             "ticks": ""
            },
            "colorscale": [
             [
              0,
              "#0d0887"
             ],
             [
              0.1111111111111111,
              "#46039f"
             ],
             [
              0.2222222222222222,
              "#7201a8"
             ],
             [
              0.3333333333333333,
              "#9c179e"
             ],
             [
              0.4444444444444444,
              "#bd3786"
             ],
             [
              0.5555555555555556,
              "#d8576b"
             ],
             [
              0.6666666666666666,
              "#ed7953"
             ],
             [
              0.7777777777777778,
              "#fb9f3a"
             ],
             [
              0.8888888888888888,
              "#fdca26"
             ],
             [
              1,
              "#f0f921"
             ]
            ],
            "type": "contour"
           }
          ],
          "contourcarpet": [
           {
            "colorbar": {
             "outlinewidth": 0,
             "ticks": ""
            },
            "type": "contourcarpet"
           }
          ],
          "heatmap": [
           {
            "colorbar": {
             "outlinewidth": 0,
             "ticks": ""
            },
            "colorscale": [
             [
              0,
              "#0d0887"
             ],
             [
              0.1111111111111111,
              "#46039f"
             ],
             [
              0.2222222222222222,
              "#7201a8"
             ],
             [
              0.3333333333333333,
              "#9c179e"
             ],
             [
              0.4444444444444444,
              "#bd3786"
             ],
             [
              0.5555555555555556,
              "#d8576b"
             ],
             [
              0.6666666666666666,
              "#ed7953"
             ],
             [
              0.7777777777777778,
              "#fb9f3a"
             ],
             [
              0.8888888888888888,
              "#fdca26"
             ],
             [
              1,
              "#f0f921"
             ]
            ],
            "type": "heatmap"
           }
          ],
          "heatmapgl": [
           {
            "colorbar": {
             "outlinewidth": 0,
             "ticks": ""
            },
            "colorscale": [
             [
              0,
              "#0d0887"
             ],
             [
              0.1111111111111111,
              "#46039f"
             ],
             [
              0.2222222222222222,
              "#7201a8"
             ],
             [
              0.3333333333333333,
              "#9c179e"
             ],
             [
              0.4444444444444444,
              "#bd3786"
             ],
             [
              0.5555555555555556,
              "#d8576b"
             ],
             [
              0.6666666666666666,
              "#ed7953"
             ],
             [
              0.7777777777777778,
              "#fb9f3a"
             ],
             [
              0.8888888888888888,
              "#fdca26"
             ],
             [
              1,
              "#f0f921"
             ]
            ],
            "type": "heatmapgl"
           }
          ],
          "histogram": [
           {
            "marker": {
             "pattern": {
              "fillmode": "overlay",
              "size": 10,
              "solidity": 0.2
             }
            },
            "type": "histogram"
           }
          ],
          "histogram2d": [
           {
            "colorbar": {
             "outlinewidth": 0,
             "ticks": ""
            },
            "colorscale": [
             [
              0,
              "#0d0887"
             ],
             [
              0.1111111111111111,
              "#46039f"
             ],
             [
              0.2222222222222222,
              "#7201a8"
             ],
             [
              0.3333333333333333,
              "#9c179e"
             ],
             [
              0.4444444444444444,
              "#bd3786"
             ],
             [
              0.5555555555555556,
              "#d8576b"
             ],
             [
              0.6666666666666666,
              "#ed7953"
             ],
             [
              0.7777777777777778,
              "#fb9f3a"
             ],
             [
              0.8888888888888888,
              "#fdca26"
             ],
             [
              1,
              "#f0f921"
             ]
            ],
            "type": "histogram2d"
           }
          ],
          "histogram2dcontour": [
           {
            "colorbar": {
             "outlinewidth": 0,
             "ticks": ""
            },
            "colorscale": [
             [
              0,
              "#0d0887"
             ],
             [
              0.1111111111111111,
              "#46039f"
             ],
             [
              0.2222222222222222,
              "#7201a8"
             ],
             [
              0.3333333333333333,
              "#9c179e"
             ],
             [
              0.4444444444444444,
              "#bd3786"
             ],
             [
              0.5555555555555556,
              "#d8576b"
             ],
             [
              0.6666666666666666,
              "#ed7953"
             ],
             [
              0.7777777777777778,
              "#fb9f3a"
             ],
             [
              0.8888888888888888,
              "#fdca26"
             ],
             [
              1,
              "#f0f921"
             ]
            ],
            "type": "histogram2dcontour"
           }
          ],
          "mesh3d": [
           {
            "colorbar": {
             "outlinewidth": 0,
             "ticks": ""
            },
            "type": "mesh3d"
           }
          ],
          "parcoords": [
           {
            "line": {
             "colorbar": {
              "outlinewidth": 0,
              "ticks": ""
             }
            },
            "type": "parcoords"
           }
          ],
          "pie": [
           {
            "automargin": true,
            "type": "pie"
           }
          ],
          "scatter": [
           {
            "fillpattern": {
             "fillmode": "overlay",
             "size": 10,
             "solidity": 0.2
            },
            "type": "scatter"
           }
          ],
          "scatter3d": [
           {
            "line": {
             "colorbar": {
              "outlinewidth": 0,
              "ticks": ""
             }
            },
            "marker": {
             "colorbar": {
              "outlinewidth": 0,
              "ticks": ""
             }
            },
            "type": "scatter3d"
           }
          ],
          "scattercarpet": [
           {
            "marker": {
             "colorbar": {
              "outlinewidth": 0,
              "ticks": ""
             }
            },
            "type": "scattercarpet"
           }
          ],
          "scattergeo": [
           {
            "marker": {
             "colorbar": {
              "outlinewidth": 0,
              "ticks": ""
             }
            },
            "type": "scattergeo"
           }
          ],
          "scattergl": [
           {
            "marker": {
             "colorbar": {
              "outlinewidth": 0,
              "ticks": ""
             }
            },
            "type": "scattergl"
           }
          ],
          "scattermapbox": [
           {
            "marker": {
             "colorbar": {
              "outlinewidth": 0,
              "ticks": ""
             }
            },
            "type": "scattermapbox"
           }
          ],
          "scatterpolar": [
           {
            "marker": {
             "colorbar": {
              "outlinewidth": 0,
              "ticks": ""
             }
            },
            "type": "scatterpolar"
           }
          ],
          "scatterpolargl": [
           {
            "marker": {
             "colorbar": {
              "outlinewidth": 0,
              "ticks": ""
             }
            },
            "type": "scatterpolargl"
           }
          ],
          "scatterternary": [
           {
            "marker": {
             "colorbar": {
              "outlinewidth": 0,
              "ticks": ""
             }
            },
            "type": "scatterternary"
           }
          ],
          "surface": [
           {
            "colorbar": {
             "outlinewidth": 0,
             "ticks": ""
            },
            "colorscale": [
             [
              0,
              "#0d0887"
             ],
             [
              0.1111111111111111,
              "#46039f"
             ],
             [
              0.2222222222222222,
              "#7201a8"
             ],
             [
              0.3333333333333333,
              "#9c179e"
             ],
             [
              0.4444444444444444,
              "#bd3786"
             ],
             [
              0.5555555555555556,
              "#d8576b"
             ],
             [
              0.6666666666666666,
              "#ed7953"
             ],
             [
              0.7777777777777778,
              "#fb9f3a"
             ],
             [
              0.8888888888888888,
              "#fdca26"
             ],
             [
              1,
              "#f0f921"
             ]
            ],
            "type": "surface"
           }
          ],
          "table": [
           {
            "cells": {
             "fill": {
              "color": "#EBF0F8"
             },
             "line": {
              "color": "white"
             }
            },
            "header": {
             "fill": {
              "color": "#C8D4E3"
             },
             "line": {
              "color": "white"
             }
            },
            "type": "table"
           }
          ]
         },
         "layout": {
          "annotationdefaults": {
           "arrowcolor": "#2a3f5f",
           "arrowhead": 0,
           "arrowwidth": 1
          },
          "autotypenumbers": "strict",
          "coloraxis": {
           "colorbar": {
            "outlinewidth": 0,
            "ticks": ""
           }
          },
          "colorscale": {
           "diverging": [
            [
             0,
             "#8e0152"
            ],
            [
             0.1,
             "#c51b7d"
            ],
            [
             0.2,
             "#de77ae"
            ],
            [
             0.3,
             "#f1b6da"
            ],
            [
             0.4,
             "#fde0ef"
            ],
            [
             0.5,
             "#f7f7f7"
            ],
            [
             0.6,
             "#e6f5d0"
            ],
            [
             0.7,
             "#b8e186"
            ],
            [
             0.8,
             "#7fbc41"
            ],
            [
             0.9,
             "#4d9221"
            ],
            [
             1,
             "#276419"
            ]
           ],
           "sequential": [
            [
             0,
             "#0d0887"
            ],
            [
             0.1111111111111111,
             "#46039f"
            ],
            [
             0.2222222222222222,
             "#7201a8"
            ],
            [
             0.3333333333333333,
             "#9c179e"
            ],
            [
             0.4444444444444444,
             "#bd3786"
            ],
            [
             0.5555555555555556,
             "#d8576b"
            ],
            [
             0.6666666666666666,
             "#ed7953"
            ],
            [
             0.7777777777777778,
             "#fb9f3a"
            ],
            [
             0.8888888888888888,
             "#fdca26"
            ],
            [
             1,
             "#f0f921"
            ]
           ],
           "sequentialminus": [
            [
             0,
             "#0d0887"
            ],
            [
             0.1111111111111111,
             "#46039f"
            ],
            [
             0.2222222222222222,
             "#7201a8"
            ],
            [
             0.3333333333333333,
             "#9c179e"
            ],
            [
             0.4444444444444444,
             "#bd3786"
            ],
            [
             0.5555555555555556,
             "#d8576b"
            ],
            [
             0.6666666666666666,
             "#ed7953"
            ],
            [
             0.7777777777777778,
             "#fb9f3a"
            ],
            [
             0.8888888888888888,
             "#fdca26"
            ],
            [
             1,
             "#f0f921"
            ]
           ]
          },
          "colorway": [
           "#636efa",
           "#EF553B",
           "#00cc96",
           "#ab63fa",
           "#FFA15A",
           "#19d3f3",
           "#FF6692",
           "#B6E880",
           "#FF97FF",
           "#FECB52"
          ],
          "font": {
           "color": "#2a3f5f"
          },
          "geo": {
           "bgcolor": "white",
           "lakecolor": "white",
           "landcolor": "#E5ECF6",
           "showlakes": true,
           "showland": true,
           "subunitcolor": "white"
          },
          "hoverlabel": {
           "align": "left"
          },
          "hovermode": "closest",
          "mapbox": {
           "style": "light"
          },
          "paper_bgcolor": "white",
          "plot_bgcolor": "#E5ECF6",
          "polar": {
           "angularaxis": {
            "gridcolor": "white",
            "linecolor": "white",
            "ticks": ""
           },
           "bgcolor": "#E5ECF6",
           "radialaxis": {
            "gridcolor": "white",
            "linecolor": "white",
            "ticks": ""
           }
          },
          "scene": {
           "xaxis": {
            "backgroundcolor": "#E5ECF6",
            "gridcolor": "white",
            "gridwidth": 2,
            "linecolor": "white",
            "showbackground": true,
            "ticks": "",
            "zerolinecolor": "white"
           },
           "yaxis": {
            "backgroundcolor": "#E5ECF6",
            "gridcolor": "white",
            "gridwidth": 2,
            "linecolor": "white",
            "showbackground": true,
            "ticks": "",
            "zerolinecolor": "white"
           },
           "zaxis": {
            "backgroundcolor": "#E5ECF6",
            "gridcolor": "white",
            "gridwidth": 2,
            "linecolor": "white",
            "showbackground": true,
            "ticks": "",
            "zerolinecolor": "white"
           }
          },
          "shapedefaults": {
           "line": {
            "color": "#2a3f5f"
           }
          },
          "ternary": {
           "aaxis": {
            "gridcolor": "white",
            "linecolor": "white",
            "ticks": ""
           },
           "baxis": {
            "gridcolor": "white",
            "linecolor": "white",
            "ticks": ""
           },
           "bgcolor": "#E5ECF6",
           "caxis": {
            "gridcolor": "white",
            "linecolor": "white",
            "ticks": ""
           }
          },
          "title": {
           "x": 0.05
          },
          "xaxis": {
           "automargin": true,
           "gridcolor": "white",
           "linecolor": "white",
           "ticks": "",
           "title": {
            "standoff": 15
           },
           "zerolinecolor": "white",
           "zerolinewidth": 2
          },
          "yaxis": {
           "automargin": true,
           "gridcolor": "white",
           "linecolor": "white",
           "ticks": "",
           "title": {
            "standoff": 15
           },
           "zerolinecolor": "white",
           "zerolinewidth": 2
          }
         }
        },
        "title": {
         "font": {
          "color": "#4D5663"
         },
         "text": "Amazon Vs Apple Price Movement"
        },
        "xaxis": {
         "anchor": "y",
         "domain": [
          0,
          0.45
         ],
         "gridcolor": "#E1E5ED",
         "showgrid": true,
         "tickfont": {
          "color": "#4D5663"
         },
         "title": {
          "font": {
           "color": "#4D5663"
          },
          "text": ""
         },
         "zerolinecolor": "#E1E5ED"
        },
        "xaxis2": {
         "anchor": "y2",
         "domain": [
          0.55,
          1
         ],
         "gridcolor": "#E1E5ED",
         "showgrid": true,
         "tickfont": {
          "color": "#4D5663"
         },
         "title": {
          "font": {
           "color": "#4D5663"
          },
          "text": ""
         },
         "zerolinecolor": "#E1E5ED"
        },
        "yaxis": {
         "anchor": "x",
         "domain": [
          0,
          1
         ],
         "gridcolor": "#E1E5ED",
         "showgrid": true,
         "tickfont": {
          "color": "#4D5663"
         },
         "title": {
          "font": {
           "color": "#4D5663"
          },
          "text": ""
         },
         "zerolinecolor": "#E1E5ED"
        },
        "yaxis2": {
         "anchor": "x2",
         "domain": [
          0,
          1
         ],
         "gridcolor": "#E1E5ED",
         "showgrid": true,
         "tickfont": {
          "color": "#4D5663"
         },
         "title": {
          "font": {
           "color": "#4D5663"
          },
          "text": ""
         },
         "zerolinecolor": "#E1E5ED"
        }
       }
      },
      "text/html": [
       "<div>                            <div id=\"edb64019-aaa2-43f9-9bb2-24b12c8f7205\" class=\"plotly-graph-div\" style=\"height:525px; width:100%;\"></div>            <script type=\"text/javascript\">                require([\"plotly\"], function(Plotly) {                    window.PLOTLYENV=window.PLOTLYENV || {};\n",
       "                    window.PLOTLYENV.BASE_URL='https://plot.ly';                                    if (document.getElementById(\"edb64019-aaa2-43f9-9bb2-24b12c8f7205\")) {                    Plotly.newPlot(                        \"edb64019-aaa2-43f9-9bb2-24b12c8f7205\",                        [{\"line\":{\"color\":\"rgba(255, 153, 51, 1.0)\",\"dash\":\"solid\",\"shape\":\"linear\",\"width\":1.3},\"mode\":\"lines\",\"name\":\"AMZN\",\"text\":\"\",\"x\":[\"2022-01-03\",\"2022-01-04\",\"2022-01-05\",\"2022-01-06\",\"2022-01-07\",\"2022-01-10\",\"2022-01-11\",\"2022-01-12\",\"2022-01-13\",\"2022-01-14\",\"2022-01-18\",\"2022-01-19\",\"2022-01-20\",\"2022-01-21\",\"2022-01-24\",\"2022-01-25\",\"2022-01-26\",\"2022-01-27\",\"2022-01-28\",\"2022-01-31\",\"2022-02-01\",\"2022-02-02\",\"2022-02-03\",\"2022-02-04\",\"2022-02-07\",\"2022-02-08\",\"2022-02-09\",\"2022-02-10\",\"2022-02-11\",\"2022-02-14\",\"2022-02-15\",\"2022-02-16\",\"2022-02-17\",\"2022-02-18\",\"2022-02-22\",\"2022-02-23\",\"2022-02-24\",\"2022-02-25\",\"2022-02-28\",\"2022-03-01\",\"2022-03-02\",\"2022-03-03\",\"2022-03-04\",\"2022-03-07\",\"2022-03-08\",\"2022-03-09\",\"2022-03-10\",\"2022-03-11\",\"2022-03-14\",\"2022-03-15\",\"2022-03-16\",\"2022-03-17\",\"2022-03-18\",\"2022-03-21\",\"2022-03-22\",\"2022-03-23\",\"2022-03-24\",\"2022-03-25\",\"2022-03-28\",\"2022-03-29\",\"2022-03-30\",\"2022-03-31\",\"2022-04-01\",\"2022-04-04\",\"2022-04-05\",\"2022-04-06\",\"2022-04-07\",\"2022-04-08\",\"2022-04-11\",\"2022-04-12\",\"2022-04-13\",\"2022-04-14\",\"2022-04-18\",\"2022-04-19\",\"2022-04-20\",\"2022-04-21\",\"2022-04-22\",\"2022-04-25\",\"2022-04-26\",\"2022-04-27\",\"2022-04-28\",\"2022-04-29\",\"2022-05-02\",\"2022-05-03\",\"2022-05-04\",\"2022-05-05\",\"2022-05-06\",\"2022-05-09\",\"2022-05-10\",\"2022-05-11\",\"2022-05-12\",\"2022-05-13\",\"2022-05-16\",\"2022-05-17\",\"2022-05-18\",\"2022-05-19\",\"2022-05-20\",\"2022-05-23\",\"2022-05-24\",\"2022-05-25\",\"2022-05-26\",\"2022-05-27\",\"2022-05-31\",\"2022-06-01\",\"2022-06-02\",\"2022-06-03\",\"2022-06-06\",\"2022-06-07\",\"2022-06-08\",\"2022-06-09\",\"2022-06-10\",\"2022-06-13\",\"2022-06-14\",\"2022-06-15\",\"2022-06-16\",\"2022-06-17\",\"2022-06-21\",\"2022-06-22\",\"2022-06-23\",\"2022-06-24\",\"2022-06-27\",\"2022-06-28\",\"2022-06-29\",\"2022-06-30\",\"2022-07-01\",\"2022-07-05\",\"2022-07-06\",\"2022-07-07\",\"2022-07-08\",\"2022-07-11\",\"2022-07-12\"],\"xaxis\":\"x\",\"y\":[170.4044952392578,167.52200317382812,164.35699462890625,163.25399780273438,162.5540008544922,161.48599243164062,165.36199951171875,165.20700073242188,161.21400451660156,162.13800048828125,158.91749572753906,156.2989959716797,151.66749572753906,142.64300537109375,144.54400634765625,139.98599243164062,138.87249755859375,139.6374969482422,143.97799682617188,149.57350158691406,151.19349670410156,150.6125030517578,138.8455047607422,157.63949584960938,157.9355010986328,161.4134979248047,161.1894989013672,159.0034942626953,153.2935028076172,155.16700744628906,156.510498046875,158.10049438476562,154.65249633789062,152.60150146484375,150.19749450683594,144.82699584960938,151.35800170898438,153.7884979248047,153.56300354003906,151.14199829101562,152.05250549316406,147.89849853515625,145.64100646972656,137.4530029296875,136.01449584960938,139.2790069580078,146.8175048828125,145.52450561523438,141.85299682617188,147.3665008544922,153.10400390625,157.23899841308594,161.25050354003906,161.4915008544922,164.88900756835938,163.4080047607422,163.64950561523438,164.77349853515625,168.99049377441406,169.31500244140625,166.30099487304688,162.99749755859375,163.55999755859375,168.34649658203125,164.05499267578125,158.75599670410156,157.7845001220703,154.4604949951172,151.1219940185547,150.78750610351562,155.54100036621094,151.7064971923828,152.78500366210938,158.11549377441406,153.9980010986328,148.29600524902344,144.35000610351562,146.07400512695312,139.39100646972656,138.16700744628906,144.59649658203125,124.28150177001953,124.5,124.25350189208984,125.92849731445312,116.40699768066406,114.77249908447266,108.78900146484375,108.85900115966797,105.37200164794922,106.93049621582031,113.05500030517578,110.81050109863281,115.36849975585938,107.11250305175781,107.31900024414062,107.59100341796875,107.55699920654297,104.0999984741211,106.7750015258789,111.07749938964844,115.14649963378906,120.20950317382812,121.68399810791016,125.51100158691406,122.3499984741211,124.79000091552734,123.0,121.18000030517578,116.1500015258789,109.6500015258789,103.66999816894531,102.30999755859375,107.66999816894531,103.66000366210938,106.22000122070312,108.68000030517578,108.94999694824219,112.44000244140625,116.45999908447266,113.22000122070312,107.4000015258789,108.91999816894531,106.20999908447266,109.55999755859375,113.5,114.33000183105469,116.33000183105469,115.54000091552734,111.75,110.4000015258789],\"yaxis\":\"y\",\"type\":\"scatter\"},{\"line\":{\"color\":\"rgba(55, 128, 191, 1.0)\",\"dash\":\"solid\",\"shape\":\"linear\",\"width\":1.3},\"mode\":\"lines\",\"name\":\"AAPL\",\"text\":\"\",\"x\":[\"2022-01-03\",\"2022-01-04\",\"2022-01-05\",\"2022-01-06\",\"2022-01-07\",\"2022-01-10\",\"2022-01-11\",\"2022-01-12\",\"2022-01-13\",\"2022-01-14\",\"2022-01-18\",\"2022-01-19\",\"2022-01-20\",\"2022-01-21\",\"2022-01-24\",\"2022-01-25\",\"2022-01-26\",\"2022-01-27\",\"2022-01-28\",\"2022-01-31\",\"2022-02-01\",\"2022-02-02\",\"2022-02-03\",\"2022-02-04\",\"2022-02-07\",\"2022-02-08\",\"2022-02-09\",\"2022-02-10\",\"2022-02-11\",\"2022-02-14\",\"2022-02-15\",\"2022-02-16\",\"2022-02-17\",\"2022-02-18\",\"2022-02-22\",\"2022-02-23\",\"2022-02-24\",\"2022-02-25\",\"2022-02-28\",\"2022-03-01\",\"2022-03-02\",\"2022-03-03\",\"2022-03-04\",\"2022-03-07\",\"2022-03-08\",\"2022-03-09\",\"2022-03-10\",\"2022-03-11\",\"2022-03-14\",\"2022-03-15\",\"2022-03-16\",\"2022-03-17\",\"2022-03-18\",\"2022-03-21\",\"2022-03-22\",\"2022-03-23\",\"2022-03-24\",\"2022-03-25\",\"2022-03-28\",\"2022-03-29\",\"2022-03-30\",\"2022-03-31\",\"2022-04-01\",\"2022-04-04\",\"2022-04-05\",\"2022-04-06\",\"2022-04-07\",\"2022-04-08\",\"2022-04-11\",\"2022-04-12\",\"2022-04-13\",\"2022-04-14\",\"2022-04-18\",\"2022-04-19\",\"2022-04-20\",\"2022-04-21\",\"2022-04-22\",\"2022-04-25\",\"2022-04-26\",\"2022-04-27\",\"2022-04-28\",\"2022-04-29\",\"2022-05-02\",\"2022-05-03\",\"2022-05-04\",\"2022-05-05\",\"2022-05-06\",\"2022-05-09\",\"2022-05-10\",\"2022-05-11\",\"2022-05-12\",\"2022-05-13\",\"2022-05-16\",\"2022-05-17\",\"2022-05-18\",\"2022-05-19\",\"2022-05-20\",\"2022-05-23\",\"2022-05-24\",\"2022-05-25\",\"2022-05-26\",\"2022-05-27\",\"2022-05-31\",\"2022-06-01\",\"2022-06-02\",\"2022-06-03\",\"2022-06-06\",\"2022-06-07\",\"2022-06-08\",\"2022-06-09\",\"2022-06-10\",\"2022-06-13\",\"2022-06-14\",\"2022-06-15\",\"2022-06-16\",\"2022-06-17\",\"2022-06-21\",\"2022-06-22\",\"2022-06-23\",\"2022-06-24\",\"2022-06-27\",\"2022-06-28\",\"2022-06-29\",\"2022-06-30\",\"2022-07-01\",\"2022-07-05\",\"2022-07-06\",\"2022-07-07\",\"2022-07-08\",\"2022-07-11\",\"2022-07-12\"],\"xaxis\":\"x2\",\"y\":[181.51170349121094,179.20803833007812,174.44113159179688,171.52911376953125,171.6986541748047,171.71859741210938,174.60067749023438,175.04945373535156,171.71859741210938,172.59620666503906,169.33514404296875,165.77490234375,164.05963134765625,161.9653778076172,161.17752075195312,159.34255981445312,159.25282287597656,158.7841033935547,169.8636932373047,174.30149841308594,174.13198852539062,175.3585968017578,172.42665100097656,172.1370849609375,171.4081573486328,174.57350158691406,176.02137756347656,171.8674774169922,168.39259338378906,168.63223266601562,172.5364990234375,172.29685974121094,168.63223266601562,167.05455017089844,164.0789337158203,159.83517456054688,162.50125122070312,164.608154296875,164.87774658203125,162.9605712890625,166.31564331054688,165.98611450195312,162.93060302734375,159.06629943847656,157.20901489257812,162.7109375,158.28744506835938,154.50299072265625,150.39901733398438,154.86245727539062,159.35586547851562,160.3843536376953,163.7394256591797,165.1373748779297,168.57232666015625,169.96029663085938,173.8146209716797,174.4636688232422,175.34237670898438,178.69744873046875,177.5092010498047,174.3538360595703,174.05426025390625,178.17820739746094,174.80316162109375,171.57791137695312,171.887451171875,169.8404541015625,165.50682067871094,167.41403198242188,170.14999389648438,165.04750061035156,164.8278350830078,167.15440368652344,166.98464965820312,166.17584228515625,161.55262756347656,162.6410369873047,156.56996154785156,156.34030151367188,163.39991760253906,157.418701171875,157.72825622558594,159.2460174560547,165.77642822265625,156.54000854492188,157.27999877929688,152.05999755859375,154.50999450683594,146.5,142.55999755859375,147.11000061035156,145.5399932861328,149.24000549316406,140.82000732421875,137.35000610351562,137.58999633789062,143.11000061035156,140.36000061035156,140.52000427246094,143.77999877929688,149.63999938964844,148.83999633789062,148.7100067138672,151.2100067138672,145.3800048828125,146.13999938964844,148.7100067138672,147.9600067138672,142.63999938964844,137.1300048828125,131.8800048828125,132.75999450683594,135.42999267578125,130.05999755859375,131.55999755859375,135.8699951171875,135.35000610351562,138.27000427246094,141.66000366210938,141.66000366210938,137.44000244140625,139.22999572753906,136.72000122070312,138.92999267578125,141.55999755859375,142.9199981689453,146.35000610351562,147.0399932861328,144.8699951171875,147.44000244140625],\"yaxis\":\"y2\",\"type\":\"scatter\"}],                        {\"legend\":{\"bgcolor\":\"#F5F6F9\",\"font\":{\"color\":\"#4D5663\"}},\"paper_bgcolor\":\"#F5F6F9\",\"plot_bgcolor\":\"#F5F6F9\",\"template\":{\"data\":{\"barpolar\":[{\"marker\":{\"line\":{\"color\":\"#E5ECF6\",\"width\":0.5},\"pattern\":{\"fillmode\":\"overlay\",\"size\":10,\"solidity\":0.2}},\"type\":\"barpolar\"}],\"bar\":[{\"error_x\":{\"color\":\"#2a3f5f\"},\"error_y\":{\"color\":\"#2a3f5f\"},\"marker\":{\"line\":{\"color\":\"#E5ECF6\",\"width\":0.5},\"pattern\":{\"fillmode\":\"overlay\",\"size\":10,\"solidity\":0.2}},\"type\":\"bar\"}],\"carpet\":[{\"aaxis\":{\"endlinecolor\":\"#2a3f5f\",\"gridcolor\":\"white\",\"linecolor\":\"white\",\"minorgridcolor\":\"white\",\"startlinecolor\":\"#2a3f5f\"},\"baxis\":{\"endlinecolor\":\"#2a3f5f\",\"gridcolor\":\"white\",\"linecolor\":\"white\",\"minorgridcolor\":\"white\",\"startlinecolor\":\"#2a3f5f\"},\"type\":\"carpet\"}],\"choropleth\":[{\"colorbar\":{\"outlinewidth\":0,\"ticks\":\"\"},\"type\":\"choropleth\"}],\"contourcarpet\":[{\"colorbar\":{\"outlinewidth\":0,\"ticks\":\"\"},\"type\":\"contourcarpet\"}],\"contour\":[{\"colorbar\":{\"outlinewidth\":0,\"ticks\":\"\"},\"colorscale\":[[0.0,\"#0d0887\"],[0.1111111111111111,\"#46039f\"],[0.2222222222222222,\"#7201a8\"],[0.3333333333333333,\"#9c179e\"],[0.4444444444444444,\"#bd3786\"],[0.5555555555555556,\"#d8576b\"],[0.6666666666666666,\"#ed7953\"],[0.7777777777777778,\"#fb9f3a\"],[0.8888888888888888,\"#fdca26\"],[1.0,\"#f0f921\"]],\"type\":\"contour\"}],\"heatmapgl\":[{\"colorbar\":{\"outlinewidth\":0,\"ticks\":\"\"},\"colorscale\":[[0.0,\"#0d0887\"],[0.1111111111111111,\"#46039f\"],[0.2222222222222222,\"#7201a8\"],[0.3333333333333333,\"#9c179e\"],[0.4444444444444444,\"#bd3786\"],[0.5555555555555556,\"#d8576b\"],[0.6666666666666666,\"#ed7953\"],[0.7777777777777778,\"#fb9f3a\"],[0.8888888888888888,\"#fdca26\"],[1.0,\"#f0f921\"]],\"type\":\"heatmapgl\"}],\"heatmap\":[{\"colorbar\":{\"outlinewidth\":0,\"ticks\":\"\"},\"colorscale\":[[0.0,\"#0d0887\"],[0.1111111111111111,\"#46039f\"],[0.2222222222222222,\"#7201a8\"],[0.3333333333333333,\"#9c179e\"],[0.4444444444444444,\"#bd3786\"],[0.5555555555555556,\"#d8576b\"],[0.6666666666666666,\"#ed7953\"],[0.7777777777777778,\"#fb9f3a\"],[0.8888888888888888,\"#fdca26\"],[1.0,\"#f0f921\"]],\"type\":\"heatmap\"}],\"histogram2dcontour\":[{\"colorbar\":{\"outlinewidth\":0,\"ticks\":\"\"},\"colorscale\":[[0.0,\"#0d0887\"],[0.1111111111111111,\"#46039f\"],[0.2222222222222222,\"#7201a8\"],[0.3333333333333333,\"#9c179e\"],[0.4444444444444444,\"#bd3786\"],[0.5555555555555556,\"#d8576b\"],[0.6666666666666666,\"#ed7953\"],[0.7777777777777778,\"#fb9f3a\"],[0.8888888888888888,\"#fdca26\"],[1.0,\"#f0f921\"]],\"type\":\"histogram2dcontour\"}],\"histogram2d\":[{\"colorbar\":{\"outlinewidth\":0,\"ticks\":\"\"},\"colorscale\":[[0.0,\"#0d0887\"],[0.1111111111111111,\"#46039f\"],[0.2222222222222222,\"#7201a8\"],[0.3333333333333333,\"#9c179e\"],[0.4444444444444444,\"#bd3786\"],[0.5555555555555556,\"#d8576b\"],[0.6666666666666666,\"#ed7953\"],[0.7777777777777778,\"#fb9f3a\"],[0.8888888888888888,\"#fdca26\"],[1.0,\"#f0f921\"]],\"type\":\"histogram2d\"}],\"histogram\":[{\"marker\":{\"pattern\":{\"fillmode\":\"overlay\",\"size\":10,\"solidity\":0.2}},\"type\":\"histogram\"}],\"mesh3d\":[{\"colorbar\":{\"outlinewidth\":0,\"ticks\":\"\"},\"type\":\"mesh3d\"}],\"parcoords\":[{\"line\":{\"colorbar\":{\"outlinewidth\":0,\"ticks\":\"\"}},\"type\":\"parcoords\"}],\"pie\":[{\"automargin\":true,\"type\":\"pie\"}],\"scatter3d\":[{\"line\":{\"colorbar\":{\"outlinewidth\":0,\"ticks\":\"\"}},\"marker\":{\"colorbar\":{\"outlinewidth\":0,\"ticks\":\"\"}},\"type\":\"scatter3d\"}],\"scattercarpet\":[{\"marker\":{\"colorbar\":{\"outlinewidth\":0,\"ticks\":\"\"}},\"type\":\"scattercarpet\"}],\"scattergeo\":[{\"marker\":{\"colorbar\":{\"outlinewidth\":0,\"ticks\":\"\"}},\"type\":\"scattergeo\"}],\"scattergl\":[{\"marker\":{\"colorbar\":{\"outlinewidth\":0,\"ticks\":\"\"}},\"type\":\"scattergl\"}],\"scattermapbox\":[{\"marker\":{\"colorbar\":{\"outlinewidth\":0,\"ticks\":\"\"}},\"type\":\"scattermapbox\"}],\"scatterpolargl\":[{\"marker\":{\"colorbar\":{\"outlinewidth\":0,\"ticks\":\"\"}},\"type\":\"scatterpolargl\"}],\"scatterpolar\":[{\"marker\":{\"colorbar\":{\"outlinewidth\":0,\"ticks\":\"\"}},\"type\":\"scatterpolar\"}],\"scatter\":[{\"fillpattern\":{\"fillmode\":\"overlay\",\"size\":10,\"solidity\":0.2},\"type\":\"scatter\"}],\"scatterternary\":[{\"marker\":{\"colorbar\":{\"outlinewidth\":0,\"ticks\":\"\"}},\"type\":\"scatterternary\"}],\"surface\":[{\"colorbar\":{\"outlinewidth\":0,\"ticks\":\"\"},\"colorscale\":[[0.0,\"#0d0887\"],[0.1111111111111111,\"#46039f\"],[0.2222222222222222,\"#7201a8\"],[0.3333333333333333,\"#9c179e\"],[0.4444444444444444,\"#bd3786\"],[0.5555555555555556,\"#d8576b\"],[0.6666666666666666,\"#ed7953\"],[0.7777777777777778,\"#fb9f3a\"],[0.8888888888888888,\"#fdca26\"],[1.0,\"#f0f921\"]],\"type\":\"surface\"}],\"table\":[{\"cells\":{\"fill\":{\"color\":\"#EBF0F8\"},\"line\":{\"color\":\"white\"}},\"header\":{\"fill\":{\"color\":\"#C8D4E3\"},\"line\":{\"color\":\"white\"}},\"type\":\"table\"}]},\"layout\":{\"annotationdefaults\":{\"arrowcolor\":\"#2a3f5f\",\"arrowhead\":0,\"arrowwidth\":1},\"autotypenumbers\":\"strict\",\"coloraxis\":{\"colorbar\":{\"outlinewidth\":0,\"ticks\":\"\"}},\"colorscale\":{\"diverging\":[[0,\"#8e0152\"],[0.1,\"#c51b7d\"],[0.2,\"#de77ae\"],[0.3,\"#f1b6da\"],[0.4,\"#fde0ef\"],[0.5,\"#f7f7f7\"],[0.6,\"#e6f5d0\"],[0.7,\"#b8e186\"],[0.8,\"#7fbc41\"],[0.9,\"#4d9221\"],[1,\"#276419\"]],\"sequential\":[[0.0,\"#0d0887\"],[0.1111111111111111,\"#46039f\"],[0.2222222222222222,\"#7201a8\"],[0.3333333333333333,\"#9c179e\"],[0.4444444444444444,\"#bd3786\"],[0.5555555555555556,\"#d8576b\"],[0.6666666666666666,\"#ed7953\"],[0.7777777777777778,\"#fb9f3a\"],[0.8888888888888888,\"#fdca26\"],[1.0,\"#f0f921\"]],\"sequentialminus\":[[0.0,\"#0d0887\"],[0.1111111111111111,\"#46039f\"],[0.2222222222222222,\"#7201a8\"],[0.3333333333333333,\"#9c179e\"],[0.4444444444444444,\"#bd3786\"],[0.5555555555555556,\"#d8576b\"],[0.6666666666666666,\"#ed7953\"],[0.7777777777777778,\"#fb9f3a\"],[0.8888888888888888,\"#fdca26\"],[1.0,\"#f0f921\"]]},\"colorway\":[\"#636efa\",\"#EF553B\",\"#00cc96\",\"#ab63fa\",\"#FFA15A\",\"#19d3f3\",\"#FF6692\",\"#B6E880\",\"#FF97FF\",\"#FECB52\"],\"font\":{\"color\":\"#2a3f5f\"},\"geo\":{\"bgcolor\":\"white\",\"lakecolor\":\"white\",\"landcolor\":\"#E5ECF6\",\"showlakes\":true,\"showland\":true,\"subunitcolor\":\"white\"},\"hoverlabel\":{\"align\":\"left\"},\"hovermode\":\"closest\",\"mapbox\":{\"style\":\"light\"},\"paper_bgcolor\":\"white\",\"plot_bgcolor\":\"#E5ECF6\",\"polar\":{\"angularaxis\":{\"gridcolor\":\"white\",\"linecolor\":\"white\",\"ticks\":\"\"},\"bgcolor\":\"#E5ECF6\",\"radialaxis\":{\"gridcolor\":\"white\",\"linecolor\":\"white\",\"ticks\":\"\"}},\"scene\":{\"xaxis\":{\"backgroundcolor\":\"#E5ECF6\",\"gridcolor\":\"white\",\"gridwidth\":2,\"linecolor\":\"white\",\"showbackground\":true,\"ticks\":\"\",\"zerolinecolor\":\"white\"},\"yaxis\":{\"backgroundcolor\":\"#E5ECF6\",\"gridcolor\":\"white\",\"gridwidth\":2,\"linecolor\":\"white\",\"showbackground\":true,\"ticks\":\"\",\"zerolinecolor\":\"white\"},\"zaxis\":{\"backgroundcolor\":\"#E5ECF6\",\"gridcolor\":\"white\",\"gridwidth\":2,\"linecolor\":\"white\",\"showbackground\":true,\"ticks\":\"\",\"zerolinecolor\":\"white\"}},\"shapedefaults\":{\"line\":{\"color\":\"#2a3f5f\"}},\"ternary\":{\"aaxis\":{\"gridcolor\":\"white\",\"linecolor\":\"white\",\"ticks\":\"\"},\"baxis\":{\"gridcolor\":\"white\",\"linecolor\":\"white\",\"ticks\":\"\"},\"bgcolor\":\"#E5ECF6\",\"caxis\":{\"gridcolor\":\"white\",\"linecolor\":\"white\",\"ticks\":\"\"}},\"title\":{\"x\":0.05},\"xaxis\":{\"automargin\":true,\"gridcolor\":\"white\",\"linecolor\":\"white\",\"ticks\":\"\",\"title\":{\"standoff\":15},\"zerolinecolor\":\"white\",\"zerolinewidth\":2},\"yaxis\":{\"automargin\":true,\"gridcolor\":\"white\",\"linecolor\":\"white\",\"ticks\":\"\",\"title\":{\"standoff\":15},\"zerolinecolor\":\"white\",\"zerolinewidth\":2}}},\"title\":{\"font\":{\"color\":\"#4D5663\"},\"text\":\"Amazon Vs Apple Price Movement\"},\"xaxis\":{\"anchor\":\"y\",\"domain\":[0.0,0.45],\"gridcolor\":\"#E1E5ED\",\"showgrid\":true,\"tickfont\":{\"color\":\"#4D5663\"},\"title\":{\"font\":{\"color\":\"#4D5663\"},\"text\":\"\"},\"zerolinecolor\":\"#E1E5ED\"},\"yaxis\":{\"anchor\":\"x\",\"domain\":[0.0,1.0],\"gridcolor\":\"#E1E5ED\",\"showgrid\":true,\"tickfont\":{\"color\":\"#4D5663\"},\"title\":{\"font\":{\"color\":\"#4D5663\"},\"text\":\"\"},\"zerolinecolor\":\"#E1E5ED\"},\"xaxis2\":{\"anchor\":\"y2\",\"domain\":[0.55,1.0],\"gridcolor\":\"#E1E5ED\",\"showgrid\":true,\"tickfont\":{\"color\":\"#4D5663\"},\"title\":{\"font\":{\"color\":\"#4D5663\"},\"text\":\"\"},\"zerolinecolor\":\"#E1E5ED\"},\"yaxis2\":{\"anchor\":\"x2\",\"domain\":[0.0,1.0],\"gridcolor\":\"#E1E5ED\",\"showgrid\":true,\"tickfont\":{\"color\":\"#4D5663\"},\"title\":{\"font\":{\"color\":\"#4D5663\"},\"text\":\"\"},\"zerolinecolor\":\"#E1E5ED\"}},                        {\"showLink\": true, \"linkText\": \"Export to plot.ly\", \"plotlyServerURL\": \"https://plot.ly\", \"responsive\": true}                    ).then(function(){\n",
       "                            \n",
       "var gd = document.getElementById('edb64019-aaa2-43f9-9bb2-24b12c8f7205');\n",
       "var x = new MutationObserver(function (mutations, observer) {{\n",
       "        var display = window.getComputedStyle(gd).display;\n",
       "        if (!display || display === 'none') {{\n",
       "            console.log([gd, 'removed!']);\n",
       "            Plotly.purge(gd);\n",
       "            observer.disconnect();\n",
       "        }}\n",
       "}});\n",
       "\n",
       "// Listen for the removal of the full notebook cells\n",
       "var notebookContainer = gd.closest('#notebook-container');\n",
       "if (notebookContainer) {{\n",
       "    x.observe(notebookContainer, {childList: true});\n",
       "}}\n",
       "\n",
       "// Listen for the clearing of the current output cell\n",
       "var outputEl = gd.closest('.output');\n",
       "if (outputEl) {{\n",
       "    x.observe(outputEl, {childList: true});\n",
       "}}\n",
       "\n",
       "                        })                };                });            </script>        </div>"
      ]
     },
     "metadata": {},
     "output_type": "display_data"
    }
   ],
   "source": [
    "# Use subplots\n",
    "df4[['AMZN', 'AAPL']].iplot(title='Amazon Vs Apple Price Movement', subplots=True)"
   ]
  },
  {
   "cell_type": "code",
   "execution_count": 35,
   "metadata": {},
   "outputs": [
    {
     "data": {
      "application/vnd.plotly.v1+json": {
       "config": {
        "linkText": "Export to plot.ly",
        "plotlyServerURL": "https://plot.ly",
        "showLink": true
       },
       "data": [
        {
         "line": {
          "color": "rgba(255, 153, 51, 1.0)",
          "dash": "solid",
          "shape": "linear",
          "width": 1.3
         },
         "mode": "lines",
         "name": "AAPL",
         "text": "",
         "type": "scatter",
         "x": [
          "2022-01-03",
          "2022-01-04",
          "2022-01-05",
          "2022-01-06",
          "2022-01-07",
          "2022-01-10",
          "2022-01-11",
          "2022-01-12",
          "2022-01-13",
          "2022-01-14",
          "2022-01-18",
          "2022-01-19",
          "2022-01-20",
          "2022-01-21",
          "2022-01-24",
          "2022-01-25",
          "2022-01-26",
          "2022-01-27",
          "2022-01-28",
          "2022-01-31",
          "2022-02-01",
          "2022-02-02",
          "2022-02-03",
          "2022-02-04",
          "2022-02-07",
          "2022-02-08",
          "2022-02-09",
          "2022-02-10",
          "2022-02-11",
          "2022-02-14",
          "2022-02-15",
          "2022-02-16",
          "2022-02-17",
          "2022-02-18",
          "2022-02-22",
          "2022-02-23",
          "2022-02-24",
          "2022-02-25",
          "2022-02-28",
          "2022-03-01",
          "2022-03-02",
          "2022-03-03",
          "2022-03-04",
          "2022-03-07",
          "2022-03-08",
          "2022-03-09",
          "2022-03-10",
          "2022-03-11",
          "2022-03-14",
          "2022-03-15",
          "2022-03-16",
          "2022-03-17",
          "2022-03-18",
          "2022-03-21",
          "2022-03-22",
          "2022-03-23",
          "2022-03-24",
          "2022-03-25",
          "2022-03-28",
          "2022-03-29",
          "2022-03-30",
          "2022-03-31",
          "2022-04-01",
          "2022-04-04",
          "2022-04-05",
          "2022-04-06",
          "2022-04-07",
          "2022-04-08",
          "2022-04-11",
          "2022-04-12",
          "2022-04-13",
          "2022-04-14",
          "2022-04-18",
          "2022-04-19",
          "2022-04-20",
          "2022-04-21",
          "2022-04-22",
          "2022-04-25",
          "2022-04-26",
          "2022-04-27",
          "2022-04-28",
          "2022-04-29",
          "2022-05-02",
          "2022-05-03",
          "2022-05-04",
          "2022-05-05",
          "2022-05-06",
          "2022-05-09",
          "2022-05-10",
          "2022-05-11",
          "2022-05-12",
          "2022-05-13",
          "2022-05-16",
          "2022-05-17",
          "2022-05-18",
          "2022-05-19",
          "2022-05-20",
          "2022-05-23",
          "2022-05-24",
          "2022-05-25",
          "2022-05-26",
          "2022-05-27",
          "2022-05-31",
          "2022-06-01",
          "2022-06-02",
          "2022-06-03",
          "2022-06-06",
          "2022-06-07",
          "2022-06-08",
          "2022-06-09",
          "2022-06-10",
          "2022-06-13",
          "2022-06-14",
          "2022-06-15",
          "2022-06-16",
          "2022-06-17",
          "2022-06-21",
          "2022-06-22",
          "2022-06-23",
          "2022-06-24",
          "2022-06-27",
          "2022-06-28",
          "2022-06-29",
          "2022-06-30",
          "2022-07-01",
          "2022-07-05",
          "2022-07-06",
          "2022-07-07",
          "2022-07-08",
          "2022-07-11",
          "2022-07-12"
         ],
         "y": [
          100,
          98.73084483434185,
          96.10461928161209,
          94.50030519813669,
          94.59370986682332,
          94.60469716787394,
          96.19251769001706,
          96.43976138642086,
          94.60469716787394,
          95.08819725963093,
          93.29158439150906,
          91.3301451946194,
          90.38515323922364,
          89.23136893784913,
          88.79731590407204,
          87.78638332936406,
          87.7369446778884,
          87.47871368043397,
          93.58277729211535,
          96.02769136124925,
          95.93430350557112,
          96.61007716246182,
          94.99478418444005,
          94.83525395334776,
          94.43366683897199,
          96.17754570595342,
          96.97522208092757,
          94.68671942981035,
          92.77230621767751,
          92.90433036687413,
          95.05530260851305,
          94.92327845931644,
          92.90433036687413,
          92.03513986027212,
          90.39578746709589,
          88.05777891246905,
          89.52659696049389,
          90.68735025388904,
          90.83587637092221,
          89.77964955133227,
          91.62805489211891,
          91.44650802640416,
          89.76313917699147,
          87.63418356997502,
          86.61095227955393,
          89.64211914185395,
          87.20509037370357,
          85.12012600341086,
          82.8591294341893,
          85.31816643045791,
          87.79371380106731,
          88.36033740681705,
          90.20874274760371,
          90.97891304068219,
          92.87132643120104,
          93.63599887050209,
          95.75945662374109,
          96.11703568838468,
          96.60114104844743,
          98.44954638923409,
          97.79490668401994,
          96.05652567081592,
          95.89148077293771,
          98.16348145621838,
          96.3040720013726,
          94.52718919871808,
          94.69772354386947,
          93.5699741861474,
          91.18245132150668,
          92.23318869382344,
          93.7405085312988,
          90.9293987306683,
          90.80837869553079,
          92.09015202406346,
          91.99662966431735,
          91.55103450020935,
          89.0039729979721,
          89.60360894589918,
          86.25887947519203,
          86.13235317977284,
          90.02169802811152,
          86.726474460914,
          86.89701721256964,
          87.73319537699432,
          91.33098584504408,
          86.24237750735549,
          86.65005933731022,
          83.77421104747481,
          85.12398458886015,
          80.71104903001131,
          78.54038875542629,
          81.04711585028723,
          80.18215381532137,
          82.2205965911121,
          77.58177826315065,
          75.6700551323768,
          75.80227263117109,
          78.84340120100364,
          77.32834737962118,
          77.41649798315353,
          79.21252239597813,
          82.44096469343874,
          82.00022008228119,
          81.92860507260235,
          83.30592672840459,
          80.09401161829327,
          80.51271437531561,
          81.92860507260235,
          81.51540857586168,
          78.58446405719248,
          75.54885015414587,
          72.65647467696115,
          73.14128618338066,
          74.61226470299694,
          71.65378047641508,
          72.48017346989644,
          74.85467465945882,
          74.56819780773502,
          76.17690849293152,
          78.04455632193918,
          78.04455632193918,
          75.71963669442466,
          76.70579530111719,
          75.32296738503328,
          76.54051502112009,
          77.98946009310541,
          78.73872341012199,
          80.62841309326487,
          81.00854680880272,
          79.81303262034687,
          81.22892331763363
         ]
        },
        {
         "line": {
          "color": "rgba(55, 128, 191, 1.0)",
          "dash": "solid",
          "shape": "linear",
          "width": 1.3
         },
         "mode": "lines",
         "name": "AMZN",
         "text": "",
         "type": "scatter",
         "x": [
          "2022-01-03",
          "2022-01-04",
          "2022-01-05",
          "2022-01-06",
          "2022-01-07",
          "2022-01-10",
          "2022-01-11",
          "2022-01-12",
          "2022-01-13",
          "2022-01-14",
          "2022-01-18",
          "2022-01-19",
          "2022-01-20",
          "2022-01-21",
          "2022-01-24",
          "2022-01-25",
          "2022-01-26",
          "2022-01-27",
          "2022-01-28",
          "2022-01-31",
          "2022-02-01",
          "2022-02-02",
          "2022-02-03",
          "2022-02-04",
          "2022-02-07",
          "2022-02-08",
          "2022-02-09",
          "2022-02-10",
          "2022-02-11",
          "2022-02-14",
          "2022-02-15",
          "2022-02-16",
          "2022-02-17",
          "2022-02-18",
          "2022-02-22",
          "2022-02-23",
          "2022-02-24",
          "2022-02-25",
          "2022-02-28",
          "2022-03-01",
          "2022-03-02",
          "2022-03-03",
          "2022-03-04",
          "2022-03-07",
          "2022-03-08",
          "2022-03-09",
          "2022-03-10",
          "2022-03-11",
          "2022-03-14",
          "2022-03-15",
          "2022-03-16",
          "2022-03-17",
          "2022-03-18",
          "2022-03-21",
          "2022-03-22",
          "2022-03-23",
          "2022-03-24",
          "2022-03-25",
          "2022-03-28",
          "2022-03-29",
          "2022-03-30",
          "2022-03-31",
          "2022-04-01",
          "2022-04-04",
          "2022-04-05",
          "2022-04-06",
          "2022-04-07",
          "2022-04-08",
          "2022-04-11",
          "2022-04-12",
          "2022-04-13",
          "2022-04-14",
          "2022-04-18",
          "2022-04-19",
          "2022-04-20",
          "2022-04-21",
          "2022-04-22",
          "2022-04-25",
          "2022-04-26",
          "2022-04-27",
          "2022-04-28",
          "2022-04-29",
          "2022-05-02",
          "2022-05-03",
          "2022-05-04",
          "2022-05-05",
          "2022-05-06",
          "2022-05-09",
          "2022-05-10",
          "2022-05-11",
          "2022-05-12",
          "2022-05-13",
          "2022-05-16",
          "2022-05-17",
          "2022-05-18",
          "2022-05-19",
          "2022-05-20",
          "2022-05-23",
          "2022-05-24",
          "2022-05-25",
          "2022-05-26",
          "2022-05-27",
          "2022-05-31",
          "2022-06-01",
          "2022-06-02",
          "2022-06-03",
          "2022-06-06",
          "2022-06-07",
          "2022-06-08",
          "2022-06-09",
          "2022-06-10",
          "2022-06-13",
          "2022-06-14",
          "2022-06-15",
          "2022-06-16",
          "2022-06-17",
          "2022-06-21",
          "2022-06-22",
          "2022-06-23",
          "2022-06-24",
          "2022-06-27",
          "2022-06-28",
          "2022-06-29",
          "2022-06-30",
          "2022-07-01",
          "2022-07-05",
          "2022-07-06",
          "2022-07-07",
          "2022-07-08",
          "2022-07-11",
          "2022-07-12"
         ],
         "y": [
          100,
          98.30844129940205,
          96.45109091643356,
          95.80380938514344,
          95.39302389074709,
          94.76627491833763,
          97.0408669557343,
          96.94990763034839,
          94.60666180798091,
          95.1488986605841,
          93.2589809349863,
          91.72234321179545,
          89.00439833737313,
          83.70847563077176,
          84.82405710289981,
          82.14923687024344,
          81.4957946758439,
          81.94472613658638,
          84.49190065321834,
          87.7755609538963,
          88.72623723442102,
          88.3852875126851,
          81.47995424991285,
          92.50900079148403,
          92.682708209594,
          94.7237323159643,
          94.59228095775745,
          93.30944822755126,
          89.95860267206226,
          91.05804822133686,
          91.84646087365546,
          92.77953270116693,
          90.75611304780989,
          89.55250931061552,
          88.1417443219147,
          84.99012637328836,
          88.82277518352375,
          90.24908510123322,
          90.11675620671139,
          88.69601595826651,
          89.23033707513028,
          86.79260387321249,
          85.46781953447773,
          80.66277989714737,
          79.8186078710172,
          81.73435023674229,
          86.158234661986,
          85.39945229197711,
          83.24486782288344,
          86.48040689747125,
          89.84739733026589,
          92.27397328475006,
          94.62808085762879,
          94.76950747557964,
          96.76329684662697,
          95.89418667113672,
          96.03590878601,
          96.69551164351896,
          99.17020882409328,
          99.3606431589015,
          97.5919060348441,
          95.65328504376355,
          95.98338196944043,
          98.79228616924863,
          96.27386439861138,
          93.16420701296579,
          92.5940949506829,
          90.64343917585371,
          88.68427667144029,
          88.48798612489723,
          91.27752184460999,
          89.0272859171808,
          89.66019555269969,
          92.78833492767355,
          90.37202972985583,
          87.02587630731644,
          84.71021019770625,
          85.72192002438477,
          81.80007591584571,
          81.08178557865774,
          84.85486041844692,
          72.93322960495911,
          73.06145288315004,
          72.91679818518327,
          73.899750788641,
          68.31216366517906,
          67.35297617784401,
          63.841626544005,
          63.882705093444635,
          61.836397860279924,
          62.75098322123702,
          66.3450809478001,
          65.0279213251085,
          67.70273260331267,
          62.85779192700617,
          62.97897252854657,
          63.13859459335549,
          63.11863959664132,
          61.089936816489875,
          62.65973287615482,
          65.1846063295978,
          67.57245427834324,
          70.54362210635759,
          71.40891320798713,
          73.65474802216299,
          71.7997481828954,
          73.2316367243217,
          72.18119441467834,
          71.11314765202175,
          68.16134830410286,
          64.34689494072555,
          60.83759587643895,
          60.03949450684652,
          63.18495179236344,
          60.83173071025193,
          62.33403706373125,
          63.77766041475768,
          63.93610496910311,
          65.98417622935003,
          68.34326695487466,
          66.44190991659913,
          63.02650723801803,
          63.91850051608985,
          62.32816742031814,
          64.29407710445967,
          66.60622411435767,
          67.09330154144627,
          68.2669794994085,
          67.8033761687463,
          65.5792559011407,
          64.7870241749614
         ]
        },
        {
         "line": {
          "color": "rgba(50, 171, 96, 1.0)",
          "dash": "solid",
          "shape": "linear",
          "width": 1.3
         },
         "mode": "lines",
         "name": "FB",
         "text": "",
         "type": "scatter",
         "x": [
          "2022-01-03",
          "2022-01-04",
          "2022-01-05",
          "2022-01-06",
          "2022-01-07",
          "2022-01-10",
          "2022-01-11",
          "2022-01-12",
          "2022-01-13",
          "2022-01-14",
          "2022-01-18",
          "2022-01-19",
          "2022-01-20",
          "2022-01-21",
          "2022-01-24",
          "2022-01-25",
          "2022-01-26",
          "2022-01-27",
          "2022-01-28",
          "2022-01-31",
          "2022-02-01",
          "2022-02-02",
          "2022-02-03",
          "2022-02-04",
          "2022-02-07",
          "2022-02-08",
          "2022-02-09",
          "2022-02-10",
          "2022-02-11",
          "2022-02-14",
          "2022-02-15",
          "2022-02-16",
          "2022-02-17",
          "2022-02-18",
          "2022-02-22",
          "2022-02-23",
          "2022-02-24",
          "2022-02-25",
          "2022-02-28",
          "2022-03-01",
          "2022-03-02",
          "2022-03-03",
          "2022-03-04",
          "2022-03-07",
          "2022-03-08",
          "2022-03-09",
          "2022-03-10",
          "2022-03-11",
          "2022-03-14",
          "2022-03-15",
          "2022-03-16",
          "2022-03-17",
          "2022-03-18",
          "2022-03-21",
          "2022-03-22",
          "2022-03-23",
          "2022-03-24",
          "2022-03-25",
          "2022-03-28",
          "2022-03-29",
          "2022-03-30",
          "2022-03-31",
          "2022-04-01",
          "2022-04-04",
          "2022-04-05",
          "2022-04-06",
          "2022-04-07",
          "2022-04-08",
          "2022-04-11",
          "2022-04-12",
          "2022-04-13",
          "2022-04-14",
          "2022-04-18",
          "2022-04-19",
          "2022-04-20",
          "2022-04-21",
          "2022-04-22",
          "2022-04-25",
          "2022-04-26",
          "2022-04-27",
          "2022-04-28",
          "2022-04-29",
          "2022-05-02",
          "2022-05-03",
          "2022-05-04",
          "2022-05-05",
          "2022-05-06",
          "2022-05-09",
          "2022-05-10",
          "2022-05-11",
          "2022-05-12",
          "2022-05-13",
          "2022-05-16",
          "2022-05-17",
          "2022-05-18",
          "2022-05-19",
          "2022-05-20",
          "2022-05-23",
          "2022-05-24",
          "2022-05-25",
          "2022-05-26",
          "2022-05-27",
          "2022-05-31",
          "2022-06-01",
          "2022-06-02",
          "2022-06-03",
          "2022-06-06",
          "2022-06-07",
          "2022-06-08",
          "2022-06-09",
          "2022-06-10",
          "2022-06-13",
          "2022-06-14",
          "2022-06-15",
          "2022-06-16",
          "2022-06-17",
          "2022-06-21",
          "2022-06-22",
          "2022-06-23",
          "2022-06-24",
          "2022-06-27",
          "2022-06-28",
          "2022-06-29",
          "2022-06-30",
          "2022-07-01",
          "2022-07-05",
          "2022-07-06",
          "2022-07-07",
          "2022-07-08",
          "2022-07-11",
          "2022-07-12"
         ],
         "y": [
          100,
          99.4062711304746,
          95.75530372940229,
          98.20404769410379,
          98.00614408057348,
          96.90730756884416,
          98.76823615452203,
          98.44036195249394,
          96.43764481178198,
          98.03863222046431,
          93.97707386607694,
          94.40243051671196,
          93.50741110901475,
          89.55219642451975,
          91.18862871834378,
          88.66012474760619,
          87.02959692981669,
          87.03255367506758,
          89.12092628338294,
          92.53264070974868,
          94.22815382178705,
          95.4096980703361,
          70.23098851115166,
          70.03308039038772,
          66.435280317028,
          65.03810099791055,
          68.52956641584512,
          67.3687013551178,
          64.85201084368292,
          64.30554482583554,
          65.28031973233523,
          63.962895912020244,
          61.35464094971379,
          60.89679165195431,
          59.69161597756624,
          58.61936312969321,
          61.32214830258934,
          62.1728570966258,
          62.335320332248024,
          60.108111406915846,
          61.47279357167525,
          59.954509392579055,
          59.09493487002355,
          55.37602542945147,
          56.20901178091707,
          58.6341333342468,
          57.66231517299799,
          55.417379297861345,
          55.12790221899224,
          56.72298515164002,
          60.14946527532572,
          61.39303807287278,
          63.94813021470027,
          62.47119990401395,
          63.995388559144686,
          63.05311080700305,
          64.85791982695108,
          65.52253846675991,
          66.04536855153468,
          67.89744042316073,
          67.30371606086892,
          65.68204495713125,
          66.41755787445713,
          69.08784589299522,
          68.4823035641671,
          65.95970857669765,
          65.85632165205617,
          65.67318373584583,
          63.93926899341484,
          63.25397116578425,
          63.50505112149437,
          62.084240376537906,
          62.25852157869644,
          64.19034444189134,
          59.20127403268231,
          55.55325886962728,
          54.38352808038093,
          55.234241381650996,
          53.45010704229111,
          51.67779066946753,
          60.769773301473805,
          59.2160442372359,
          62.36486074135519,
          62.630706394385285,
          65.9922012238221,
          61.52300866137055,
          60.19081914373559,
          57.95770123513526,
          58.38305337853667,
          55.75116699039121,
          56.48963214573437,
          58.66957821938852,
          59.089025886755394,
          59.851122467937564,
          56.78501820787163,
          56.50439784305434,
          57.16901648286318,
          57.9636057111698,
          53.54758498366443,
          54.30082034356117,
          56.60483252967855,
          57.63868374715898,
          57.198556891970355,
          55.721626581284035,
          58.74047249690556,
          56.35375257396844,
          57.37874257016343,
          57.79228125426216,
          58.084715078382146,
          54.35103543325648,
          51.86093309291149,
          48.5201129440628,
          48.36355869170873,
          50.023631425839014,
          47.51875437370682,
          48.366515436959624,
          46.39038196010395,
          46.035919586985955,
          46.892537364290575,
          50.26289341501282,
          50.064985294248885,
          47.462630300743356,
          48.42559174794035,
          47.63100251963374,
          47.270631163247586,
          49.68098251202372,
          50.14769303106863,
          50.86252676057278,
          50.47557174033034,
          48.11248324323223,
          ""
         ]
        },
        {
         "line": {
          "color": "rgba(128, 0, 128, 1.0)",
          "dash": "solid",
          "shape": "linear",
          "width": 1.3
         },
         "mode": "lines",
         "name": "GOOG",
         "text": "",
         "type": "scatter",
         "x": [
          "2022-01-03",
          "2022-01-04",
          "2022-01-05",
          "2022-01-06",
          "2022-01-07",
          "2022-01-10",
          "2022-01-11",
          "2022-01-12",
          "2022-01-13",
          "2022-01-14",
          "2022-01-18",
          "2022-01-19",
          "2022-01-20",
          "2022-01-21",
          "2022-01-24",
          "2022-01-25",
          "2022-01-26",
          "2022-01-27",
          "2022-01-28",
          "2022-01-31",
          "2022-02-01",
          "2022-02-02",
          "2022-02-03",
          "2022-02-04",
          "2022-02-07",
          "2022-02-08",
          "2022-02-09",
          "2022-02-10",
          "2022-02-11",
          "2022-02-14",
          "2022-02-15",
          "2022-02-16",
          "2022-02-17",
          "2022-02-18",
          "2022-02-22",
          "2022-02-23",
          "2022-02-24",
          "2022-02-25",
          "2022-02-28",
          "2022-03-01",
          "2022-03-02",
          "2022-03-03",
          "2022-03-04",
          "2022-03-07",
          "2022-03-08",
          "2022-03-09",
          "2022-03-10",
          "2022-03-11",
          "2022-03-14",
          "2022-03-15",
          "2022-03-16",
          "2022-03-17",
          "2022-03-18",
          "2022-03-21",
          "2022-03-22",
          "2022-03-23",
          "2022-03-24",
          "2022-03-25",
          "2022-03-28",
          "2022-03-29",
          "2022-03-30",
          "2022-03-31",
          "2022-04-01",
          "2022-04-04",
          "2022-04-05",
          "2022-04-06",
          "2022-04-07",
          "2022-04-08",
          "2022-04-11",
          "2022-04-12",
          "2022-04-13",
          "2022-04-14",
          "2022-04-18",
          "2022-04-19",
          "2022-04-20",
          "2022-04-21",
          "2022-04-22",
          "2022-04-25",
          "2022-04-26",
          "2022-04-27",
          "2022-04-28",
          "2022-04-29",
          "2022-05-02",
          "2022-05-03",
          "2022-05-04",
          "2022-05-05",
          "2022-05-06",
          "2022-05-09",
          "2022-05-10",
          "2022-05-11",
          "2022-05-12",
          "2022-05-13",
          "2022-05-16",
          "2022-05-17",
          "2022-05-18",
          "2022-05-19",
          "2022-05-20",
          "2022-05-23",
          "2022-05-24",
          "2022-05-25",
          "2022-05-26",
          "2022-05-27",
          "2022-05-31",
          "2022-06-01",
          "2022-06-02",
          "2022-06-03",
          "2022-06-06",
          "2022-06-07",
          "2022-06-08",
          "2022-06-09",
          "2022-06-10",
          "2022-06-13",
          "2022-06-14",
          "2022-06-15",
          "2022-06-16",
          "2022-06-17",
          "2022-06-21",
          "2022-06-22",
          "2022-06-23",
          "2022-06-24",
          "2022-06-27",
          "2022-06-28",
          "2022-06-29",
          "2022-06-30",
          "2022-07-01",
          "2022-07-05",
          "2022-07-06",
          "2022-07-07",
          "2022-07-08",
          "2022-07-11",
          "2022-07-12"
         ],
         "y": [
          100,
          99.54644296021465,
          94.88469984819727,
          94.81404481112925,
          94.43734416155223,
          95.51919840484705,
          96.51420846122046,
          97.6381090568112,
          95.90314378312664,
          96.35497588750661,
          93.94518222596267,
          93.50506285370116,
          92.02616213736493,
          89.67255088412195,
          89.86555012018592,
          87.3589076463694,
          89.08526507166518,
          89.00323387524072,
          91.87658920192119,
          93.53711299496496,
          95.03979257693823,
          102.04170927467476,
          98.32913500884302,
          98.58107654985656,
          95.77010498461736,
          95.95966276418963,
          97.50369872429667,
          95.53884583983024,
          92.45594872583229,
          93.2624275495576,
          94.03823618034343,
          94.77027352342795,
          91.2003808657375,
          89.93138375243794,
          89.19727648686697,
          87.9444685234208,
          91.45197741966997,
          92.72442440378028,
          92.98050578976672,
          92.48214250103686,
          92.88434695165628,
          92.57863791190931,
          91.0718268992822,
          87.17210976344573,
          87.73320180069794,
          92.27397224772463,
          91.45783378572919,
          89.9368951314161,
          87.36270250426122,
          89.37511312000174,
          92.15299958273391,
          92.78026182500017,
          94.29741403574049,
          94.0747711536612,
          96.69342504267952,
          95.47060571232974,
          97.40650492494302,
          97.55091146848967,
          97.84627931012344,
          98.74237063173781,
          98.32499516387013,
          96.26054198480155,
          96.9846530393404,
          99.01292464649131,
          97.23486964494855,
          94.55555692989434,
          94.06546491679121,
          92.37357254232676,
          89.46885704854465,
          88.48867302233842,
          89.80627124247434,
          87.7156242882012,
          88.20364637881785,
          89.97515504013924,
          88.39975049861151,
          86.1195457647661,
          82.45005281247352,
          84.95635029920898,
          82.37561133183272,
          79.28374455372682,
          82.31046767374286,
          79.24652802056595,
          80.75643550260368,
          81.42678747272814,
          84.49107211298613,
          80.47347878156957,
          79.72455390015047,
          77.94891380817523,
          78.98321032019598,
          78.55343214604767,
          78.00199133274653,
          80.31425462217477,
          79.12659031681846,
          80.44246360154901,
          77.47812424297423,
          76.33698270764877,
          75.34956236705902,
          76.97183466569868,
          73.01490016031802,
          72.95527629552537,
          74.64854020399507,
          77.75246470130051,
          78.6071996447811,
          78.67474979811945,
          81.16243481111495,
          78.96908267850999,
          80.65545525967724,
          80.80641655776434,
          80.81227292382357,
          79.21309793097785,
          76.80709071300667,
          73.67008111319421,
          73.88892913738168,
          76.09228589533782,
          73.50430219925899,
          74.35180082835605,
          77.21205506027471,
          77.22514774071747,
          77.67353838860573,
          81.70836424543795,
          80.38800612865342,
          77.59564703715418,
          77.37851553405304,
          75.39057375811173,
          75.18964823350207,
          78.50242454396283,
          79.4167833522361,
          82.23775112850743,
          82.83227325534774,
          80.31907602699077,
          80.03336782362712
         ]
        },
        {
         "line": {
          "color": "rgba(219, 64, 82, 1.0)",
          "dash": "solid",
          "shape": "linear",
          "width": 1.3
         },
         "mode": "lines",
         "name": "NFLX",
         "text": "",
         "type": "scatter",
         "x": [
          "2022-01-03",
          "2022-01-04",
          "2022-01-05",
          "2022-01-06",
          "2022-01-07",
          "2022-01-10",
          "2022-01-11",
          "2022-01-12",
          "2022-01-13",
          "2022-01-14",
          "2022-01-18",
          "2022-01-19",
          "2022-01-20",
          "2022-01-21",
          "2022-01-24",
          "2022-01-25",
          "2022-01-26",
          "2022-01-27",
          "2022-01-28",
          "2022-01-31",
          "2022-02-01",
          "2022-02-02",
          "2022-02-03",
          "2022-02-04",
          "2022-02-07",
          "2022-02-08",
          "2022-02-09",
          "2022-02-10",
          "2022-02-11",
          "2022-02-14",
          "2022-02-15",
          "2022-02-16",
          "2022-02-17",
          "2022-02-18",
          "2022-02-22",
          "2022-02-23",
          "2022-02-24",
          "2022-02-25",
          "2022-02-28",
          "2022-03-01",
          "2022-03-02",
          "2022-03-03",
          "2022-03-04",
          "2022-03-07",
          "2022-03-08",
          "2022-03-09",
          "2022-03-10",
          "2022-03-11",
          "2022-03-14",
          "2022-03-15",
          "2022-03-16",
          "2022-03-17",
          "2022-03-18",
          "2022-03-21",
          "2022-03-22",
          "2022-03-23",
          "2022-03-24",
          "2022-03-25",
          "2022-03-28",
          "2022-03-29",
          "2022-03-30",
          "2022-03-31",
          "2022-04-01",
          "2022-04-04",
          "2022-04-05",
          "2022-04-06",
          "2022-04-07",
          "2022-04-08",
          "2022-04-11",
          "2022-04-12",
          "2022-04-13",
          "2022-04-14",
          "2022-04-18",
          "2022-04-19",
          "2022-04-20",
          "2022-04-21",
          "2022-04-22",
          "2022-04-25",
          "2022-04-26",
          "2022-04-27",
          "2022-04-28",
          "2022-04-29",
          "2022-05-02",
          "2022-05-03",
          "2022-05-04",
          "2022-05-05",
          "2022-05-06",
          "2022-05-09",
          "2022-05-10",
          "2022-05-11",
          "2022-05-12",
          "2022-05-13",
          "2022-05-16",
          "2022-05-17",
          "2022-05-18",
          "2022-05-19",
          "2022-05-20",
          "2022-05-23",
          "2022-05-24",
          "2022-05-25",
          "2022-05-26",
          "2022-05-27",
          "2022-05-31",
          "2022-06-01",
          "2022-06-02",
          "2022-06-03",
          "2022-06-06",
          "2022-06-07",
          "2022-06-08",
          "2022-06-09",
          "2022-06-10",
          "2022-06-13",
          "2022-06-14",
          "2022-06-15",
          "2022-06-16",
          "2022-06-17",
          "2022-06-21",
          "2022-06-22",
          "2022-06-23",
          "2022-06-24",
          "2022-06-27",
          "2022-06-28",
          "2022-06-29",
          "2022-06-30",
          "2022-07-01",
          "2022-07-05",
          "2022-07-06",
          "2022-07-07",
          "2022-07-08",
          "2022-07-11",
          "2022-07-12"
         ],
         "y": [
          100,
          98.9587741677744,
          95.00310095419476,
          92.62098574582801,
          90.57368163468819,
          90.37112342410734,
          90.5368584422073,
          89.93085944963427,
          86.9143104693731,
          88.00073768992705,
          85.50814268680567,
          86.35518850429791,
          85.08127360837656,
          66.5416748830884,
          64.80907930779755,
          61.33887145701934,
          60.21394029615901,
          64.7337521750103,
          64.34203064989256,
          71.50342637558225,
          76.52376393513642,
          71.89514279204398,
          67.89761946847499,
          68.66264070515801,
          67.3117179286239,
          67.55109933168562,
          69.11797010618852,
          68.00977490239913,
          65.50546575105928,
          66.38599370000541,
          68.20898183464098,
          66.63876489045509,
          64.7287303661578,
          65.50211958137629,
          63.17357884852937,
          61.51296423634277,
          65.29119339225998,
          65.42008989191106,
          66.04281973289903,
          64.65674429439754,
          63.61718899268543,
          61.615081161217944,
          60.553762984926394,
          58.63367973426815,
          57.210775994629785,
          60.061605282759004,
          59.7234531245051,
          56.969718952398566,
          55.41122126508714,
          57.543901235375195,
          59.85067909364269,
          62.17252237846763,
          63.71260846953861,
          62.706530190624385,
          64.10097871631736,
          62.689789124897445,
          62.89401786599178,
          62.58265549982579,
          63.36274216306626,
          65.5908416102075,
          63.85824603491665,
          62.706530190624385,
          62.519042515257006,
          65.53727224334368,
          63.63727622809536,
          61.661953080059796,
          60.62406830886117,
          59.57446938944408,
          58.255353105194374,
          57.60249241109151,
          58.66213494821355,
          57.105312900071624,
          56.557910191870896,
          58.35746492141355,
          37.86430592266925,
          36.530124211862095,
          36.07814353484257,
          35.139026964508126,
          33.21224626582789,
          31.561677825674266,
          33.399736495523285,
          31.866347852474274,
          33.38969287781832,
          33.45832511691159,
          34.151362836162335,
          31.52485207886539,
          30.29445782344689,
          28.977017178366683,
          29.740362775880197,
          27.85041037833685,
          29.17957028029152,
          31.411018451443756,
          31.221855136906875,
          31.899827429600165,
          29.661684364753953,
          30.714632008182026,
          31.19507300780296,
          31.377538874317867,
          30.188994728888733,
          31.442824943728155,
          32.04044318612571,
          32.67489228398814,
          33.05154327389242,
          32.29321948523138,
          34.332155617835745,
          33.30933882752258,
          33.00132263103958,
          33.24740148212328,
          33.95383154308998,
          32.26978352581046,
          30.62423689450932,
          28.40618106507304,
          28.046268586567706,
          30.150493342910362,
          29.01886728835604,
          29.380450297374868,
          28.610409806167375,
          29.946264601816026,
          30.418335068573487,
          31.948374987611512,
          31.662119111379937,
          30.065120038090136,
          29.857542572984812,
          29.273314117975215,
          30.12370865947845,
          31.116394596676717,
          30.81172456987671,
          31.683881985959374,
          31.300533548033115,
          29.68679340901637,
          29.538461027595936
         ]
        }
       ],
       "layout": {
        "legend": {
         "bgcolor": "#F5F6F9",
         "font": {
          "color": "#4D5663"
         }
        },
        "paper_bgcolor": "#F5F6F9",
        "plot_bgcolor": "#F5F6F9",
        "template": {
         "data": {
          "bar": [
           {
            "error_x": {
             "color": "#2a3f5f"
            },
            "error_y": {
             "color": "#2a3f5f"
            },
            "marker": {
             "line": {
              "color": "#E5ECF6",
              "width": 0.5
             },
             "pattern": {
              "fillmode": "overlay",
              "size": 10,
              "solidity": 0.2
             }
            },
            "type": "bar"
           }
          ],
          "barpolar": [
           {
            "marker": {
             "line": {
              "color": "#E5ECF6",
              "width": 0.5
             },
             "pattern": {
              "fillmode": "overlay",
              "size": 10,
              "solidity": 0.2
             }
            },
            "type": "barpolar"
           }
          ],
          "carpet": [
           {
            "aaxis": {
             "endlinecolor": "#2a3f5f",
             "gridcolor": "white",
             "linecolor": "white",
             "minorgridcolor": "white",
             "startlinecolor": "#2a3f5f"
            },
            "baxis": {
             "endlinecolor": "#2a3f5f",
             "gridcolor": "white",
             "linecolor": "white",
             "minorgridcolor": "white",
             "startlinecolor": "#2a3f5f"
            },
            "type": "carpet"
           }
          ],
          "choropleth": [
           {
            "colorbar": {
             "outlinewidth": 0,
             "ticks": ""
            },
            "type": "choropleth"
           }
          ],
          "contour": [
           {
            "colorbar": {
             "outlinewidth": 0,
             "ticks": ""
            },
            "colorscale": [
             [
              0,
              "#0d0887"
             ],
             [
              0.1111111111111111,
              "#46039f"
             ],
             [
              0.2222222222222222,
              "#7201a8"
             ],
             [
              0.3333333333333333,
              "#9c179e"
             ],
             [
              0.4444444444444444,
              "#bd3786"
             ],
             [
              0.5555555555555556,
              "#d8576b"
             ],
             [
              0.6666666666666666,
              "#ed7953"
             ],
             [
              0.7777777777777778,
              "#fb9f3a"
             ],
             [
              0.8888888888888888,
              "#fdca26"
             ],
             [
              1,
              "#f0f921"
             ]
            ],
            "type": "contour"
           }
          ],
          "contourcarpet": [
           {
            "colorbar": {
             "outlinewidth": 0,
             "ticks": ""
            },
            "type": "contourcarpet"
           }
          ],
          "heatmap": [
           {
            "colorbar": {
             "outlinewidth": 0,
             "ticks": ""
            },
            "colorscale": [
             [
              0,
              "#0d0887"
             ],
             [
              0.1111111111111111,
              "#46039f"
             ],
             [
              0.2222222222222222,
              "#7201a8"
             ],
             [
              0.3333333333333333,
              "#9c179e"
             ],
             [
              0.4444444444444444,
              "#bd3786"
             ],
             [
              0.5555555555555556,
              "#d8576b"
             ],
             [
              0.6666666666666666,
              "#ed7953"
             ],
             [
              0.7777777777777778,
              "#fb9f3a"
             ],
             [
              0.8888888888888888,
              "#fdca26"
             ],
             [
              1,
              "#f0f921"
             ]
            ],
            "type": "heatmap"
           }
          ],
          "heatmapgl": [
           {
            "colorbar": {
             "outlinewidth": 0,
             "ticks": ""
            },
            "colorscale": [
             [
              0,
              "#0d0887"
             ],
             [
              0.1111111111111111,
              "#46039f"
             ],
             [
              0.2222222222222222,
              "#7201a8"
             ],
             [
              0.3333333333333333,
              "#9c179e"
             ],
             [
              0.4444444444444444,
              "#bd3786"
             ],
             [
              0.5555555555555556,
              "#d8576b"
             ],
             [
              0.6666666666666666,
              "#ed7953"
             ],
             [
              0.7777777777777778,
              "#fb9f3a"
             ],
             [
              0.8888888888888888,
              "#fdca26"
             ],
             [
              1,
              "#f0f921"
             ]
            ],
            "type": "heatmapgl"
           }
          ],
          "histogram": [
           {
            "marker": {
             "pattern": {
              "fillmode": "overlay",
              "size": 10,
              "solidity": 0.2
             }
            },
            "type": "histogram"
           }
          ],
          "histogram2d": [
           {
            "colorbar": {
             "outlinewidth": 0,
             "ticks": ""
            },
            "colorscale": [
             [
              0,
              "#0d0887"
             ],
             [
              0.1111111111111111,
              "#46039f"
             ],
             [
              0.2222222222222222,
              "#7201a8"
             ],
             [
              0.3333333333333333,
              "#9c179e"
             ],
             [
              0.4444444444444444,
              "#bd3786"
             ],
             [
              0.5555555555555556,
              "#d8576b"
             ],
             [
              0.6666666666666666,
              "#ed7953"
             ],
             [
              0.7777777777777778,
              "#fb9f3a"
             ],
             [
              0.8888888888888888,
              "#fdca26"
             ],
             [
              1,
              "#f0f921"
             ]
            ],
            "type": "histogram2d"
           }
          ],
          "histogram2dcontour": [
           {
            "colorbar": {
             "outlinewidth": 0,
             "ticks": ""
            },
            "colorscale": [
             [
              0,
              "#0d0887"
             ],
             [
              0.1111111111111111,
              "#46039f"
             ],
             [
              0.2222222222222222,
              "#7201a8"
             ],
             [
              0.3333333333333333,
              "#9c179e"
             ],
             [
              0.4444444444444444,
              "#bd3786"
             ],
             [
              0.5555555555555556,
              "#d8576b"
             ],
             [
              0.6666666666666666,
              "#ed7953"
             ],
             [
              0.7777777777777778,
              "#fb9f3a"
             ],
             [
              0.8888888888888888,
              "#fdca26"
             ],
             [
              1,
              "#f0f921"
             ]
            ],
            "type": "histogram2dcontour"
           }
          ],
          "mesh3d": [
           {
            "colorbar": {
             "outlinewidth": 0,
             "ticks": ""
            },
            "type": "mesh3d"
           }
          ],
          "parcoords": [
           {
            "line": {
             "colorbar": {
              "outlinewidth": 0,
              "ticks": ""
             }
            },
            "type": "parcoords"
           }
          ],
          "pie": [
           {
            "automargin": true,
            "type": "pie"
           }
          ],
          "scatter": [
           {
            "fillpattern": {
             "fillmode": "overlay",
             "size": 10,
             "solidity": 0.2
            },
            "type": "scatter"
           }
          ],
          "scatter3d": [
           {
            "line": {
             "colorbar": {
              "outlinewidth": 0,
              "ticks": ""
             }
            },
            "marker": {
             "colorbar": {
              "outlinewidth": 0,
              "ticks": ""
             }
            },
            "type": "scatter3d"
           }
          ],
          "scattercarpet": [
           {
            "marker": {
             "colorbar": {
              "outlinewidth": 0,
              "ticks": ""
             }
            },
            "type": "scattercarpet"
           }
          ],
          "scattergeo": [
           {
            "marker": {
             "colorbar": {
              "outlinewidth": 0,
              "ticks": ""
             }
            },
            "type": "scattergeo"
           }
          ],
          "scattergl": [
           {
            "marker": {
             "colorbar": {
              "outlinewidth": 0,
              "ticks": ""
             }
            },
            "type": "scattergl"
           }
          ],
          "scattermapbox": [
           {
            "marker": {
             "colorbar": {
              "outlinewidth": 0,
              "ticks": ""
             }
            },
            "type": "scattermapbox"
           }
          ],
          "scatterpolar": [
           {
            "marker": {
             "colorbar": {
              "outlinewidth": 0,
              "ticks": ""
             }
            },
            "type": "scatterpolar"
           }
          ],
          "scatterpolargl": [
           {
            "marker": {
             "colorbar": {
              "outlinewidth": 0,
              "ticks": ""
             }
            },
            "type": "scatterpolargl"
           }
          ],
          "scatterternary": [
           {
            "marker": {
             "colorbar": {
              "outlinewidth": 0,
              "ticks": ""
             }
            },
            "type": "scatterternary"
           }
          ],
          "surface": [
           {
            "colorbar": {
             "outlinewidth": 0,
             "ticks": ""
            },
            "colorscale": [
             [
              0,
              "#0d0887"
             ],
             [
              0.1111111111111111,
              "#46039f"
             ],
             [
              0.2222222222222222,
              "#7201a8"
             ],
             [
              0.3333333333333333,
              "#9c179e"
             ],
             [
              0.4444444444444444,
              "#bd3786"
             ],
             [
              0.5555555555555556,
              "#d8576b"
             ],
             [
              0.6666666666666666,
              "#ed7953"
             ],
             [
              0.7777777777777778,
              "#fb9f3a"
             ],
             [
              0.8888888888888888,
              "#fdca26"
             ],
             [
              1,
              "#f0f921"
             ]
            ],
            "type": "surface"
           }
          ],
          "table": [
           {
            "cells": {
             "fill": {
              "color": "#EBF0F8"
             },
             "line": {
              "color": "white"
             }
            },
            "header": {
             "fill": {
              "color": "#C8D4E3"
             },
             "line": {
              "color": "white"
             }
            },
            "type": "table"
           }
          ]
         },
         "layout": {
          "annotationdefaults": {
           "arrowcolor": "#2a3f5f",
           "arrowhead": 0,
           "arrowwidth": 1
          },
          "autotypenumbers": "strict",
          "coloraxis": {
           "colorbar": {
            "outlinewidth": 0,
            "ticks": ""
           }
          },
          "colorscale": {
           "diverging": [
            [
             0,
             "#8e0152"
            ],
            [
             0.1,
             "#c51b7d"
            ],
            [
             0.2,
             "#de77ae"
            ],
            [
             0.3,
             "#f1b6da"
            ],
            [
             0.4,
             "#fde0ef"
            ],
            [
             0.5,
             "#f7f7f7"
            ],
            [
             0.6,
             "#e6f5d0"
            ],
            [
             0.7,
             "#b8e186"
            ],
            [
             0.8,
             "#7fbc41"
            ],
            [
             0.9,
             "#4d9221"
            ],
            [
             1,
             "#276419"
            ]
           ],
           "sequential": [
            [
             0,
             "#0d0887"
            ],
            [
             0.1111111111111111,
             "#46039f"
            ],
            [
             0.2222222222222222,
             "#7201a8"
            ],
            [
             0.3333333333333333,
             "#9c179e"
            ],
            [
             0.4444444444444444,
             "#bd3786"
            ],
            [
             0.5555555555555556,
             "#d8576b"
            ],
            [
             0.6666666666666666,
             "#ed7953"
            ],
            [
             0.7777777777777778,
             "#fb9f3a"
            ],
            [
             0.8888888888888888,
             "#fdca26"
            ],
            [
             1,
             "#f0f921"
            ]
           ],
           "sequentialminus": [
            [
             0,
             "#0d0887"
            ],
            [
             0.1111111111111111,
             "#46039f"
            ],
            [
             0.2222222222222222,
             "#7201a8"
            ],
            [
             0.3333333333333333,
             "#9c179e"
            ],
            [
             0.4444444444444444,
             "#bd3786"
            ],
            [
             0.5555555555555556,
             "#d8576b"
            ],
            [
             0.6666666666666666,
             "#ed7953"
            ],
            [
             0.7777777777777778,
             "#fb9f3a"
            ],
            [
             0.8888888888888888,
             "#fdca26"
            ],
            [
             1,
             "#f0f921"
            ]
           ]
          },
          "colorway": [
           "#636efa",
           "#EF553B",
           "#00cc96",
           "#ab63fa",
           "#FFA15A",
           "#19d3f3",
           "#FF6692",
           "#B6E880",
           "#FF97FF",
           "#FECB52"
          ],
          "font": {
           "color": "#2a3f5f"
          },
          "geo": {
           "bgcolor": "white",
           "lakecolor": "white",
           "landcolor": "#E5ECF6",
           "showlakes": true,
           "showland": true,
           "subunitcolor": "white"
          },
          "hoverlabel": {
           "align": "left"
          },
          "hovermode": "closest",
          "mapbox": {
           "style": "light"
          },
          "paper_bgcolor": "white",
          "plot_bgcolor": "#E5ECF6",
          "polar": {
           "angularaxis": {
            "gridcolor": "white",
            "linecolor": "white",
            "ticks": ""
           },
           "bgcolor": "#E5ECF6",
           "radialaxis": {
            "gridcolor": "white",
            "linecolor": "white",
            "ticks": ""
           }
          },
          "scene": {
           "xaxis": {
            "backgroundcolor": "#E5ECF6",
            "gridcolor": "white",
            "gridwidth": 2,
            "linecolor": "white",
            "showbackground": true,
            "ticks": "",
            "zerolinecolor": "white"
           },
           "yaxis": {
            "backgroundcolor": "#E5ECF6",
            "gridcolor": "white",
            "gridwidth": 2,
            "linecolor": "white",
            "showbackground": true,
            "ticks": "",
            "zerolinecolor": "white"
           },
           "zaxis": {
            "backgroundcolor": "#E5ECF6",
            "gridcolor": "white",
            "gridwidth": 2,
            "linecolor": "white",
            "showbackground": true,
            "ticks": "",
            "zerolinecolor": "white"
           }
          },
          "shapedefaults": {
           "line": {
            "color": "#2a3f5f"
           }
          },
          "ternary": {
           "aaxis": {
            "gridcolor": "white",
            "linecolor": "white",
            "ticks": ""
           },
           "baxis": {
            "gridcolor": "white",
            "linecolor": "white",
            "ticks": ""
           },
           "bgcolor": "#E5ECF6",
           "caxis": {
            "gridcolor": "white",
            "linecolor": "white",
            "ticks": ""
           }
          },
          "title": {
           "x": 0.05
          },
          "xaxis": {
           "automargin": true,
           "gridcolor": "white",
           "linecolor": "white",
           "ticks": "",
           "title": {
            "standoff": 15
           },
           "zerolinecolor": "white",
           "zerolinewidth": 2
          },
          "yaxis": {
           "automargin": true,
           "gridcolor": "white",
           "linecolor": "white",
           "ticks": "",
           "title": {
            "standoff": 15
           },
           "zerolinecolor": "white",
           "zerolinewidth": 2
          }
         }
        },
        "title": {
         "font": {
          "color": "#4D5663"
         },
         "text": "The FAANG Stocks"
        },
        "xaxis": {
         "gridcolor": "#E1E5ED",
         "showgrid": true,
         "tickfont": {
          "color": "#4D5663"
         },
         "title": {
          "font": {
           "color": "#4D5663"
          },
          "text": ""
         },
         "zerolinecolor": "#E1E5ED"
        },
        "yaxis": {
         "gridcolor": "#E1E5ED",
         "showgrid": true,
         "tickfont": {
          "color": "#4D5663"
         },
         "title": {
          "font": {
           "color": "#4D5663"
          },
          "text": ""
         },
         "zerolinecolor": "#E1E5ED"
        }
       }
      },
      "text/html": [
       "<div>                            <div id=\"1ababc92-f659-48f3-a00f-9c74e729216c\" class=\"plotly-graph-div\" style=\"height:525px; width:100%;\"></div>            <script type=\"text/javascript\">                require([\"plotly\"], function(Plotly) {                    window.PLOTLYENV=window.PLOTLYENV || {};\n",
       "                    window.PLOTLYENV.BASE_URL='https://plot.ly';                                    if (document.getElementById(\"1ababc92-f659-48f3-a00f-9c74e729216c\")) {                    Plotly.newPlot(                        \"1ababc92-f659-48f3-a00f-9c74e729216c\",                        [{\"line\":{\"color\":\"rgba(255, 153, 51, 1.0)\",\"dash\":\"solid\",\"shape\":\"linear\",\"width\":1.3},\"mode\":\"lines\",\"name\":\"AAPL\",\"text\":\"\",\"x\":[\"2022-01-03\",\"2022-01-04\",\"2022-01-05\",\"2022-01-06\",\"2022-01-07\",\"2022-01-10\",\"2022-01-11\",\"2022-01-12\",\"2022-01-13\",\"2022-01-14\",\"2022-01-18\",\"2022-01-19\",\"2022-01-20\",\"2022-01-21\",\"2022-01-24\",\"2022-01-25\",\"2022-01-26\",\"2022-01-27\",\"2022-01-28\",\"2022-01-31\",\"2022-02-01\",\"2022-02-02\",\"2022-02-03\",\"2022-02-04\",\"2022-02-07\",\"2022-02-08\",\"2022-02-09\",\"2022-02-10\",\"2022-02-11\",\"2022-02-14\",\"2022-02-15\",\"2022-02-16\",\"2022-02-17\",\"2022-02-18\",\"2022-02-22\",\"2022-02-23\",\"2022-02-24\",\"2022-02-25\",\"2022-02-28\",\"2022-03-01\",\"2022-03-02\",\"2022-03-03\",\"2022-03-04\",\"2022-03-07\",\"2022-03-08\",\"2022-03-09\",\"2022-03-10\",\"2022-03-11\",\"2022-03-14\",\"2022-03-15\",\"2022-03-16\",\"2022-03-17\",\"2022-03-18\",\"2022-03-21\",\"2022-03-22\",\"2022-03-23\",\"2022-03-24\",\"2022-03-25\",\"2022-03-28\",\"2022-03-29\",\"2022-03-30\",\"2022-03-31\",\"2022-04-01\",\"2022-04-04\",\"2022-04-05\",\"2022-04-06\",\"2022-04-07\",\"2022-04-08\",\"2022-04-11\",\"2022-04-12\",\"2022-04-13\",\"2022-04-14\",\"2022-04-18\",\"2022-04-19\",\"2022-04-20\",\"2022-04-21\",\"2022-04-22\",\"2022-04-25\",\"2022-04-26\",\"2022-04-27\",\"2022-04-28\",\"2022-04-29\",\"2022-05-02\",\"2022-05-03\",\"2022-05-04\",\"2022-05-05\",\"2022-05-06\",\"2022-05-09\",\"2022-05-10\",\"2022-05-11\",\"2022-05-12\",\"2022-05-13\",\"2022-05-16\",\"2022-05-17\",\"2022-05-18\",\"2022-05-19\",\"2022-05-20\",\"2022-05-23\",\"2022-05-24\",\"2022-05-25\",\"2022-05-26\",\"2022-05-27\",\"2022-05-31\",\"2022-06-01\",\"2022-06-02\",\"2022-06-03\",\"2022-06-06\",\"2022-06-07\",\"2022-06-08\",\"2022-06-09\",\"2022-06-10\",\"2022-06-13\",\"2022-06-14\",\"2022-06-15\",\"2022-06-16\",\"2022-06-17\",\"2022-06-21\",\"2022-06-22\",\"2022-06-23\",\"2022-06-24\",\"2022-06-27\",\"2022-06-28\",\"2022-06-29\",\"2022-06-30\",\"2022-07-01\",\"2022-07-05\",\"2022-07-06\",\"2022-07-07\",\"2022-07-08\",\"2022-07-11\",\"2022-07-12\"],\"y\":[100.0,98.73084483434185,96.10461928161209,94.50030519813669,94.59370986682332,94.60469716787394,96.19251769001706,96.43976138642086,94.60469716787394,95.08819725963093,93.29158439150906,91.3301451946194,90.38515323922364,89.23136893784913,88.79731590407204,87.78638332936406,87.7369446778884,87.47871368043397,93.58277729211535,96.02769136124925,95.93430350557112,96.61007716246182,94.99478418444005,94.83525395334776,94.43366683897199,96.17754570595342,96.97522208092757,94.68671942981035,92.77230621767751,92.90433036687413,95.05530260851305,94.92327845931644,92.90433036687413,92.03513986027212,90.39578746709589,88.05777891246905,89.52659696049389,90.68735025388904,90.83587637092221,89.77964955133227,91.62805489211891,91.44650802640416,89.76313917699147,87.63418356997502,86.61095227955393,89.64211914185395,87.20509037370357,85.12012600341086,82.8591294341893,85.31816643045791,87.79371380106731,88.36033740681705,90.20874274760371,90.97891304068219,92.87132643120104,93.63599887050209,95.75945662374109,96.11703568838468,96.60114104844743,98.44954638923409,97.79490668401994,96.05652567081592,95.89148077293771,98.16348145621838,96.3040720013726,94.52718919871808,94.69772354386947,93.5699741861474,91.18245132150668,92.23318869382344,93.7405085312988,90.9293987306683,90.80837869553079,92.09015202406346,91.99662966431735,91.55103450020935,89.0039729979721,89.60360894589918,86.25887947519203,86.13235317977284,90.02169802811152,86.726474460914,86.89701721256964,87.73319537699432,91.33098584504408,86.24237750735549,86.65005933731022,83.77421104747481,85.12398458886015,80.71104903001131,78.54038875542629,81.04711585028723,80.18215381532137,82.2205965911121,77.58177826315065,75.6700551323768,75.80227263117109,78.84340120100364,77.32834737962118,77.41649798315353,79.21252239597813,82.44096469343874,82.00022008228119,81.92860507260235,83.30592672840459,80.09401161829327,80.51271437531561,81.92860507260235,81.51540857586168,78.58446405719248,75.54885015414587,72.65647467696115,73.14128618338066,74.61226470299694,71.65378047641508,72.48017346989644,74.85467465945882,74.56819780773502,76.17690849293152,78.04455632193918,78.04455632193918,75.71963669442466,76.70579530111719,75.32296738503328,76.54051502112009,77.98946009310541,78.73872341012199,80.62841309326487,81.00854680880272,79.81303262034687,81.22892331763363],\"type\":\"scatter\"},{\"line\":{\"color\":\"rgba(55, 128, 191, 1.0)\",\"dash\":\"solid\",\"shape\":\"linear\",\"width\":1.3},\"mode\":\"lines\",\"name\":\"AMZN\",\"text\":\"\",\"x\":[\"2022-01-03\",\"2022-01-04\",\"2022-01-05\",\"2022-01-06\",\"2022-01-07\",\"2022-01-10\",\"2022-01-11\",\"2022-01-12\",\"2022-01-13\",\"2022-01-14\",\"2022-01-18\",\"2022-01-19\",\"2022-01-20\",\"2022-01-21\",\"2022-01-24\",\"2022-01-25\",\"2022-01-26\",\"2022-01-27\",\"2022-01-28\",\"2022-01-31\",\"2022-02-01\",\"2022-02-02\",\"2022-02-03\",\"2022-02-04\",\"2022-02-07\",\"2022-02-08\",\"2022-02-09\",\"2022-02-10\",\"2022-02-11\",\"2022-02-14\",\"2022-02-15\",\"2022-02-16\",\"2022-02-17\",\"2022-02-18\",\"2022-02-22\",\"2022-02-23\",\"2022-02-24\",\"2022-02-25\",\"2022-02-28\",\"2022-03-01\",\"2022-03-02\",\"2022-03-03\",\"2022-03-04\",\"2022-03-07\",\"2022-03-08\",\"2022-03-09\",\"2022-03-10\",\"2022-03-11\",\"2022-03-14\",\"2022-03-15\",\"2022-03-16\",\"2022-03-17\",\"2022-03-18\",\"2022-03-21\",\"2022-03-22\",\"2022-03-23\",\"2022-03-24\",\"2022-03-25\",\"2022-03-28\",\"2022-03-29\",\"2022-03-30\",\"2022-03-31\",\"2022-04-01\",\"2022-04-04\",\"2022-04-05\",\"2022-04-06\",\"2022-04-07\",\"2022-04-08\",\"2022-04-11\",\"2022-04-12\",\"2022-04-13\",\"2022-04-14\",\"2022-04-18\",\"2022-04-19\",\"2022-04-20\",\"2022-04-21\",\"2022-04-22\",\"2022-04-25\",\"2022-04-26\",\"2022-04-27\",\"2022-04-28\",\"2022-04-29\",\"2022-05-02\",\"2022-05-03\",\"2022-05-04\",\"2022-05-05\",\"2022-05-06\",\"2022-05-09\",\"2022-05-10\",\"2022-05-11\",\"2022-05-12\",\"2022-05-13\",\"2022-05-16\",\"2022-05-17\",\"2022-05-18\",\"2022-05-19\",\"2022-05-20\",\"2022-05-23\",\"2022-05-24\",\"2022-05-25\",\"2022-05-26\",\"2022-05-27\",\"2022-05-31\",\"2022-06-01\",\"2022-06-02\",\"2022-06-03\",\"2022-06-06\",\"2022-06-07\",\"2022-06-08\",\"2022-06-09\",\"2022-06-10\",\"2022-06-13\",\"2022-06-14\",\"2022-06-15\",\"2022-06-16\",\"2022-06-17\",\"2022-06-21\",\"2022-06-22\",\"2022-06-23\",\"2022-06-24\",\"2022-06-27\",\"2022-06-28\",\"2022-06-29\",\"2022-06-30\",\"2022-07-01\",\"2022-07-05\",\"2022-07-06\",\"2022-07-07\",\"2022-07-08\",\"2022-07-11\",\"2022-07-12\"],\"y\":[100.0,98.30844129940205,96.45109091643356,95.80380938514344,95.39302389074709,94.76627491833763,97.0408669557343,96.94990763034839,94.60666180798091,95.1488986605841,93.2589809349863,91.72234321179545,89.00439833737313,83.70847563077176,84.82405710289981,82.14923687024344,81.4957946758439,81.94472613658638,84.49190065321834,87.7755609538963,88.72623723442102,88.3852875126851,81.47995424991285,92.50900079148403,92.682708209594,94.7237323159643,94.59228095775745,93.30944822755126,89.95860267206226,91.05804822133686,91.84646087365546,92.77953270116693,90.75611304780989,89.55250931061552,88.1417443219147,84.99012637328836,88.82277518352375,90.24908510123322,90.11675620671139,88.69601595826651,89.23033707513028,86.79260387321249,85.46781953447773,80.66277989714737,79.8186078710172,81.73435023674229,86.158234661986,85.39945229197711,83.24486782288344,86.48040689747125,89.84739733026589,92.27397328475006,94.62808085762879,94.76950747557964,96.76329684662697,95.89418667113672,96.03590878601,96.69551164351896,99.17020882409328,99.3606431589015,97.5919060348441,95.65328504376355,95.98338196944043,98.79228616924863,96.27386439861138,93.16420701296579,92.5940949506829,90.64343917585371,88.68427667144029,88.48798612489723,91.27752184460999,89.0272859171808,89.66019555269969,92.78833492767355,90.37202972985583,87.02587630731644,84.71021019770625,85.72192002438477,81.80007591584571,81.08178557865774,84.85486041844692,72.93322960495911,73.06145288315004,72.91679818518327,73.899750788641,68.31216366517906,67.35297617784401,63.841626544005,63.882705093444635,61.836397860279924,62.75098322123702,66.3450809478001,65.0279213251085,67.70273260331267,62.85779192700617,62.97897252854657,63.13859459335549,63.11863959664132,61.089936816489875,62.65973287615482,65.1846063295978,67.57245427834324,70.54362210635759,71.40891320798713,73.65474802216299,71.7997481828954,73.2316367243217,72.18119441467834,71.11314765202175,68.16134830410286,64.34689494072555,60.83759587643895,60.03949450684652,63.18495179236344,60.83173071025193,62.33403706373125,63.77766041475768,63.93610496910311,65.98417622935003,68.34326695487466,66.44190991659913,63.02650723801803,63.91850051608985,62.32816742031814,64.29407710445967,66.60622411435767,67.09330154144627,68.2669794994085,67.8033761687463,65.5792559011407,64.7870241749614],\"type\":\"scatter\"},{\"line\":{\"color\":\"rgba(50, 171, 96, 1.0)\",\"dash\":\"solid\",\"shape\":\"linear\",\"width\":1.3},\"mode\":\"lines\",\"name\":\"FB\",\"text\":\"\",\"x\":[\"2022-01-03\",\"2022-01-04\",\"2022-01-05\",\"2022-01-06\",\"2022-01-07\",\"2022-01-10\",\"2022-01-11\",\"2022-01-12\",\"2022-01-13\",\"2022-01-14\",\"2022-01-18\",\"2022-01-19\",\"2022-01-20\",\"2022-01-21\",\"2022-01-24\",\"2022-01-25\",\"2022-01-26\",\"2022-01-27\",\"2022-01-28\",\"2022-01-31\",\"2022-02-01\",\"2022-02-02\",\"2022-02-03\",\"2022-02-04\",\"2022-02-07\",\"2022-02-08\",\"2022-02-09\",\"2022-02-10\",\"2022-02-11\",\"2022-02-14\",\"2022-02-15\",\"2022-02-16\",\"2022-02-17\",\"2022-02-18\",\"2022-02-22\",\"2022-02-23\",\"2022-02-24\",\"2022-02-25\",\"2022-02-28\",\"2022-03-01\",\"2022-03-02\",\"2022-03-03\",\"2022-03-04\",\"2022-03-07\",\"2022-03-08\",\"2022-03-09\",\"2022-03-10\",\"2022-03-11\",\"2022-03-14\",\"2022-03-15\",\"2022-03-16\",\"2022-03-17\",\"2022-03-18\",\"2022-03-21\",\"2022-03-22\",\"2022-03-23\",\"2022-03-24\",\"2022-03-25\",\"2022-03-28\",\"2022-03-29\",\"2022-03-30\",\"2022-03-31\",\"2022-04-01\",\"2022-04-04\",\"2022-04-05\",\"2022-04-06\",\"2022-04-07\",\"2022-04-08\",\"2022-04-11\",\"2022-04-12\",\"2022-04-13\",\"2022-04-14\",\"2022-04-18\",\"2022-04-19\",\"2022-04-20\",\"2022-04-21\",\"2022-04-22\",\"2022-04-25\",\"2022-04-26\",\"2022-04-27\",\"2022-04-28\",\"2022-04-29\",\"2022-05-02\",\"2022-05-03\",\"2022-05-04\",\"2022-05-05\",\"2022-05-06\",\"2022-05-09\",\"2022-05-10\",\"2022-05-11\",\"2022-05-12\",\"2022-05-13\",\"2022-05-16\",\"2022-05-17\",\"2022-05-18\",\"2022-05-19\",\"2022-05-20\",\"2022-05-23\",\"2022-05-24\",\"2022-05-25\",\"2022-05-26\",\"2022-05-27\",\"2022-05-31\",\"2022-06-01\",\"2022-06-02\",\"2022-06-03\",\"2022-06-06\",\"2022-06-07\",\"2022-06-08\",\"2022-06-09\",\"2022-06-10\",\"2022-06-13\",\"2022-06-14\",\"2022-06-15\",\"2022-06-16\",\"2022-06-17\",\"2022-06-21\",\"2022-06-22\",\"2022-06-23\",\"2022-06-24\",\"2022-06-27\",\"2022-06-28\",\"2022-06-29\",\"2022-06-30\",\"2022-07-01\",\"2022-07-05\",\"2022-07-06\",\"2022-07-07\",\"2022-07-08\",\"2022-07-11\",\"2022-07-12\"],\"y\":[100.0,99.4062711304746,95.75530372940229,98.20404769410379,98.00614408057348,96.90730756884416,98.76823615452203,98.44036195249394,96.43764481178198,98.03863222046431,93.97707386607694,94.40243051671196,93.50741110901475,89.55219642451975,91.18862871834378,88.66012474760619,87.02959692981669,87.03255367506758,89.12092628338294,92.53264070974868,94.22815382178705,95.4096980703361,70.23098851115166,70.03308039038772,66.435280317028,65.03810099791055,68.52956641584512,67.3687013551178,64.85201084368292,64.30554482583554,65.28031973233523,63.962895912020244,61.35464094971379,60.89679165195431,59.69161597756624,58.61936312969321,61.32214830258934,62.1728570966258,62.335320332248024,60.108111406915846,61.47279357167525,59.954509392579055,59.09493487002355,55.37602542945147,56.20901178091707,58.6341333342468,57.66231517299799,55.417379297861345,55.12790221899224,56.72298515164002,60.14946527532572,61.39303807287278,63.94813021470027,62.47119990401395,63.995388559144686,63.05311080700305,64.85791982695108,65.52253846675991,66.04536855153468,67.89744042316073,67.30371606086892,65.68204495713125,66.41755787445713,69.08784589299522,68.4823035641671,65.95970857669765,65.85632165205617,65.67318373584583,63.93926899341484,63.25397116578425,63.50505112149437,62.084240376537906,62.25852157869644,64.19034444189134,59.20127403268231,55.55325886962728,54.38352808038093,55.234241381650996,53.45010704229111,51.67779066946753,60.769773301473805,59.2160442372359,62.36486074135519,62.630706394385285,65.9922012238221,61.52300866137055,60.19081914373559,57.95770123513526,58.38305337853667,55.75116699039121,56.48963214573437,58.66957821938852,59.089025886755394,59.851122467937564,56.78501820787163,56.50439784305434,57.16901648286318,57.9636057111698,53.54758498366443,54.30082034356117,56.60483252967855,57.63868374715898,57.198556891970355,55.721626581284035,58.74047249690556,56.35375257396844,57.37874257016343,57.79228125426216,58.084715078382146,54.35103543325648,51.86093309291149,48.5201129440628,48.36355869170873,50.023631425839014,47.51875437370682,48.366515436959624,46.39038196010395,46.035919586985955,46.892537364290575,50.26289341501282,50.064985294248885,47.462630300743356,48.42559174794035,47.63100251963374,47.270631163247586,49.68098251202372,50.14769303106863,50.86252676057278,50.47557174033034,48.11248324323223,\"\"],\"type\":\"scatter\"},{\"line\":{\"color\":\"rgba(128, 0, 128, 1.0)\",\"dash\":\"solid\",\"shape\":\"linear\",\"width\":1.3},\"mode\":\"lines\",\"name\":\"GOOG\",\"text\":\"\",\"x\":[\"2022-01-03\",\"2022-01-04\",\"2022-01-05\",\"2022-01-06\",\"2022-01-07\",\"2022-01-10\",\"2022-01-11\",\"2022-01-12\",\"2022-01-13\",\"2022-01-14\",\"2022-01-18\",\"2022-01-19\",\"2022-01-20\",\"2022-01-21\",\"2022-01-24\",\"2022-01-25\",\"2022-01-26\",\"2022-01-27\",\"2022-01-28\",\"2022-01-31\",\"2022-02-01\",\"2022-02-02\",\"2022-02-03\",\"2022-02-04\",\"2022-02-07\",\"2022-02-08\",\"2022-02-09\",\"2022-02-10\",\"2022-02-11\",\"2022-02-14\",\"2022-02-15\",\"2022-02-16\",\"2022-02-17\",\"2022-02-18\",\"2022-02-22\",\"2022-02-23\",\"2022-02-24\",\"2022-02-25\",\"2022-02-28\",\"2022-03-01\",\"2022-03-02\",\"2022-03-03\",\"2022-03-04\",\"2022-03-07\",\"2022-03-08\",\"2022-03-09\",\"2022-03-10\",\"2022-03-11\",\"2022-03-14\",\"2022-03-15\",\"2022-03-16\",\"2022-03-17\",\"2022-03-18\",\"2022-03-21\",\"2022-03-22\",\"2022-03-23\",\"2022-03-24\",\"2022-03-25\",\"2022-03-28\",\"2022-03-29\",\"2022-03-30\",\"2022-03-31\",\"2022-04-01\",\"2022-04-04\",\"2022-04-05\",\"2022-04-06\",\"2022-04-07\",\"2022-04-08\",\"2022-04-11\",\"2022-04-12\",\"2022-04-13\",\"2022-04-14\",\"2022-04-18\",\"2022-04-19\",\"2022-04-20\",\"2022-04-21\",\"2022-04-22\",\"2022-04-25\",\"2022-04-26\",\"2022-04-27\",\"2022-04-28\",\"2022-04-29\",\"2022-05-02\",\"2022-05-03\",\"2022-05-04\",\"2022-05-05\",\"2022-05-06\",\"2022-05-09\",\"2022-05-10\",\"2022-05-11\",\"2022-05-12\",\"2022-05-13\",\"2022-05-16\",\"2022-05-17\",\"2022-05-18\",\"2022-05-19\",\"2022-05-20\",\"2022-05-23\",\"2022-05-24\",\"2022-05-25\",\"2022-05-26\",\"2022-05-27\",\"2022-05-31\",\"2022-06-01\",\"2022-06-02\",\"2022-06-03\",\"2022-06-06\",\"2022-06-07\",\"2022-06-08\",\"2022-06-09\",\"2022-06-10\",\"2022-06-13\",\"2022-06-14\",\"2022-06-15\",\"2022-06-16\",\"2022-06-17\",\"2022-06-21\",\"2022-06-22\",\"2022-06-23\",\"2022-06-24\",\"2022-06-27\",\"2022-06-28\",\"2022-06-29\",\"2022-06-30\",\"2022-07-01\",\"2022-07-05\",\"2022-07-06\",\"2022-07-07\",\"2022-07-08\",\"2022-07-11\",\"2022-07-12\"],\"y\":[100.0,99.54644296021465,94.88469984819727,94.81404481112925,94.43734416155223,95.51919840484705,96.51420846122046,97.6381090568112,95.90314378312664,96.35497588750661,93.94518222596267,93.50506285370116,92.02616213736493,89.67255088412195,89.86555012018592,87.3589076463694,89.08526507166518,89.00323387524072,91.87658920192119,93.53711299496496,95.03979257693823,102.04170927467476,98.32913500884302,98.58107654985656,95.77010498461736,95.95966276418963,97.50369872429667,95.53884583983024,92.45594872583229,93.2624275495576,94.03823618034343,94.77027352342795,91.2003808657375,89.93138375243794,89.19727648686697,87.9444685234208,91.45197741966997,92.72442440378028,92.98050578976672,92.48214250103686,92.88434695165628,92.57863791190931,91.0718268992822,87.17210976344573,87.73320180069794,92.27397224772463,91.45783378572919,89.9368951314161,87.36270250426122,89.37511312000174,92.15299958273391,92.78026182500017,94.29741403574049,94.0747711536612,96.69342504267952,95.47060571232974,97.40650492494302,97.55091146848967,97.84627931012344,98.74237063173781,98.32499516387013,96.26054198480155,96.9846530393404,99.01292464649131,97.23486964494855,94.55555692989434,94.06546491679121,92.37357254232676,89.46885704854465,88.48867302233842,89.80627124247434,87.7156242882012,88.20364637881785,89.97515504013924,88.39975049861151,86.1195457647661,82.45005281247352,84.95635029920898,82.37561133183272,79.28374455372682,82.31046767374286,79.24652802056595,80.75643550260368,81.42678747272814,84.49107211298613,80.47347878156957,79.72455390015047,77.94891380817523,78.98321032019598,78.55343214604767,78.00199133274653,80.31425462217477,79.12659031681846,80.44246360154901,77.47812424297423,76.33698270764877,75.34956236705902,76.97183466569868,73.01490016031802,72.95527629552537,74.64854020399507,77.75246470130051,78.6071996447811,78.67474979811945,81.16243481111495,78.96908267850999,80.65545525967724,80.80641655776434,80.81227292382357,79.21309793097785,76.80709071300667,73.67008111319421,73.88892913738168,76.09228589533782,73.50430219925899,74.35180082835605,77.21205506027471,77.22514774071747,77.67353838860573,81.70836424543795,80.38800612865342,77.59564703715418,77.37851553405304,75.39057375811173,75.18964823350207,78.50242454396283,79.4167833522361,82.23775112850743,82.83227325534774,80.31907602699077,80.03336782362712],\"type\":\"scatter\"},{\"line\":{\"color\":\"rgba(219, 64, 82, 1.0)\",\"dash\":\"solid\",\"shape\":\"linear\",\"width\":1.3},\"mode\":\"lines\",\"name\":\"NFLX\",\"text\":\"\",\"x\":[\"2022-01-03\",\"2022-01-04\",\"2022-01-05\",\"2022-01-06\",\"2022-01-07\",\"2022-01-10\",\"2022-01-11\",\"2022-01-12\",\"2022-01-13\",\"2022-01-14\",\"2022-01-18\",\"2022-01-19\",\"2022-01-20\",\"2022-01-21\",\"2022-01-24\",\"2022-01-25\",\"2022-01-26\",\"2022-01-27\",\"2022-01-28\",\"2022-01-31\",\"2022-02-01\",\"2022-02-02\",\"2022-02-03\",\"2022-02-04\",\"2022-02-07\",\"2022-02-08\",\"2022-02-09\",\"2022-02-10\",\"2022-02-11\",\"2022-02-14\",\"2022-02-15\",\"2022-02-16\",\"2022-02-17\",\"2022-02-18\",\"2022-02-22\",\"2022-02-23\",\"2022-02-24\",\"2022-02-25\",\"2022-02-28\",\"2022-03-01\",\"2022-03-02\",\"2022-03-03\",\"2022-03-04\",\"2022-03-07\",\"2022-03-08\",\"2022-03-09\",\"2022-03-10\",\"2022-03-11\",\"2022-03-14\",\"2022-03-15\",\"2022-03-16\",\"2022-03-17\",\"2022-03-18\",\"2022-03-21\",\"2022-03-22\",\"2022-03-23\",\"2022-03-24\",\"2022-03-25\",\"2022-03-28\",\"2022-03-29\",\"2022-03-30\",\"2022-03-31\",\"2022-04-01\",\"2022-04-04\",\"2022-04-05\",\"2022-04-06\",\"2022-04-07\",\"2022-04-08\",\"2022-04-11\",\"2022-04-12\",\"2022-04-13\",\"2022-04-14\",\"2022-04-18\",\"2022-04-19\",\"2022-04-20\",\"2022-04-21\",\"2022-04-22\",\"2022-04-25\",\"2022-04-26\",\"2022-04-27\",\"2022-04-28\",\"2022-04-29\",\"2022-05-02\",\"2022-05-03\",\"2022-05-04\",\"2022-05-05\",\"2022-05-06\",\"2022-05-09\",\"2022-05-10\",\"2022-05-11\",\"2022-05-12\",\"2022-05-13\",\"2022-05-16\",\"2022-05-17\",\"2022-05-18\",\"2022-05-19\",\"2022-05-20\",\"2022-05-23\",\"2022-05-24\",\"2022-05-25\",\"2022-05-26\",\"2022-05-27\",\"2022-05-31\",\"2022-06-01\",\"2022-06-02\",\"2022-06-03\",\"2022-06-06\",\"2022-06-07\",\"2022-06-08\",\"2022-06-09\",\"2022-06-10\",\"2022-06-13\",\"2022-06-14\",\"2022-06-15\",\"2022-06-16\",\"2022-06-17\",\"2022-06-21\",\"2022-06-22\",\"2022-06-23\",\"2022-06-24\",\"2022-06-27\",\"2022-06-28\",\"2022-06-29\",\"2022-06-30\",\"2022-07-01\",\"2022-07-05\",\"2022-07-06\",\"2022-07-07\",\"2022-07-08\",\"2022-07-11\",\"2022-07-12\"],\"y\":[100.0,98.9587741677744,95.00310095419476,92.62098574582801,90.57368163468819,90.37112342410734,90.5368584422073,89.93085944963427,86.9143104693731,88.00073768992705,85.50814268680567,86.35518850429791,85.08127360837656,66.5416748830884,64.80907930779755,61.33887145701934,60.21394029615901,64.7337521750103,64.34203064989256,71.50342637558225,76.52376393513642,71.89514279204398,67.89761946847499,68.66264070515801,67.3117179286239,67.55109933168562,69.11797010618852,68.00977490239913,65.50546575105928,66.38599370000541,68.20898183464098,66.63876489045509,64.7287303661578,65.50211958137629,63.17357884852937,61.51296423634277,65.29119339225998,65.42008989191106,66.04281973289903,64.65674429439754,63.61718899268543,61.615081161217944,60.553762984926394,58.63367973426815,57.210775994629785,60.061605282759004,59.7234531245051,56.969718952398566,55.41122126508714,57.543901235375195,59.85067909364269,62.17252237846763,63.71260846953861,62.706530190624385,64.10097871631736,62.689789124897445,62.89401786599178,62.58265549982579,63.36274216306626,65.5908416102075,63.85824603491665,62.706530190624385,62.519042515257006,65.53727224334368,63.63727622809536,61.661953080059796,60.62406830886117,59.57446938944408,58.255353105194374,57.60249241109151,58.66213494821355,57.105312900071624,56.557910191870896,58.35746492141355,37.86430592266925,36.530124211862095,36.07814353484257,35.139026964508126,33.21224626582789,31.561677825674266,33.399736495523285,31.866347852474274,33.38969287781832,33.45832511691159,34.151362836162335,31.52485207886539,30.29445782344689,28.977017178366683,29.740362775880197,27.85041037833685,29.17957028029152,31.411018451443756,31.221855136906875,31.899827429600165,29.661684364753953,30.714632008182026,31.19507300780296,31.377538874317867,30.188994728888733,31.442824943728155,32.04044318612571,32.67489228398814,33.05154327389242,32.29321948523138,34.332155617835745,33.30933882752258,33.00132263103958,33.24740148212328,33.95383154308998,32.26978352581046,30.62423689450932,28.40618106507304,28.046268586567706,30.150493342910362,29.01886728835604,29.380450297374868,28.610409806167375,29.946264601816026,30.418335068573487,31.948374987611512,31.662119111379937,30.065120038090136,29.857542572984812,29.273314117975215,30.12370865947845,31.116394596676717,30.81172456987671,31.683881985959374,31.300533548033115,29.68679340901637,29.538461027595936],\"type\":\"scatter\"}],                        {\"legend\":{\"bgcolor\":\"#F5F6F9\",\"font\":{\"color\":\"#4D5663\"}},\"paper_bgcolor\":\"#F5F6F9\",\"plot_bgcolor\":\"#F5F6F9\",\"template\":{\"data\":{\"barpolar\":[{\"marker\":{\"line\":{\"color\":\"#E5ECF6\",\"width\":0.5},\"pattern\":{\"fillmode\":\"overlay\",\"size\":10,\"solidity\":0.2}},\"type\":\"barpolar\"}],\"bar\":[{\"error_x\":{\"color\":\"#2a3f5f\"},\"error_y\":{\"color\":\"#2a3f5f\"},\"marker\":{\"line\":{\"color\":\"#E5ECF6\",\"width\":0.5},\"pattern\":{\"fillmode\":\"overlay\",\"size\":10,\"solidity\":0.2}},\"type\":\"bar\"}],\"carpet\":[{\"aaxis\":{\"endlinecolor\":\"#2a3f5f\",\"gridcolor\":\"white\",\"linecolor\":\"white\",\"minorgridcolor\":\"white\",\"startlinecolor\":\"#2a3f5f\"},\"baxis\":{\"endlinecolor\":\"#2a3f5f\",\"gridcolor\":\"white\",\"linecolor\":\"white\",\"minorgridcolor\":\"white\",\"startlinecolor\":\"#2a3f5f\"},\"type\":\"carpet\"}],\"choropleth\":[{\"colorbar\":{\"outlinewidth\":0,\"ticks\":\"\"},\"type\":\"choropleth\"}],\"contourcarpet\":[{\"colorbar\":{\"outlinewidth\":0,\"ticks\":\"\"},\"type\":\"contourcarpet\"}],\"contour\":[{\"colorbar\":{\"outlinewidth\":0,\"ticks\":\"\"},\"colorscale\":[[0.0,\"#0d0887\"],[0.1111111111111111,\"#46039f\"],[0.2222222222222222,\"#7201a8\"],[0.3333333333333333,\"#9c179e\"],[0.4444444444444444,\"#bd3786\"],[0.5555555555555556,\"#d8576b\"],[0.6666666666666666,\"#ed7953\"],[0.7777777777777778,\"#fb9f3a\"],[0.8888888888888888,\"#fdca26\"],[1.0,\"#f0f921\"]],\"type\":\"contour\"}],\"heatmapgl\":[{\"colorbar\":{\"outlinewidth\":0,\"ticks\":\"\"},\"colorscale\":[[0.0,\"#0d0887\"],[0.1111111111111111,\"#46039f\"],[0.2222222222222222,\"#7201a8\"],[0.3333333333333333,\"#9c179e\"],[0.4444444444444444,\"#bd3786\"],[0.5555555555555556,\"#d8576b\"],[0.6666666666666666,\"#ed7953\"],[0.7777777777777778,\"#fb9f3a\"],[0.8888888888888888,\"#fdca26\"],[1.0,\"#f0f921\"]],\"type\":\"heatmapgl\"}],\"heatmap\":[{\"colorbar\":{\"outlinewidth\":0,\"ticks\":\"\"},\"colorscale\":[[0.0,\"#0d0887\"],[0.1111111111111111,\"#46039f\"],[0.2222222222222222,\"#7201a8\"],[0.3333333333333333,\"#9c179e\"],[0.4444444444444444,\"#bd3786\"],[0.5555555555555556,\"#d8576b\"],[0.6666666666666666,\"#ed7953\"],[0.7777777777777778,\"#fb9f3a\"],[0.8888888888888888,\"#fdca26\"],[1.0,\"#f0f921\"]],\"type\":\"heatmap\"}],\"histogram2dcontour\":[{\"colorbar\":{\"outlinewidth\":0,\"ticks\":\"\"},\"colorscale\":[[0.0,\"#0d0887\"],[0.1111111111111111,\"#46039f\"],[0.2222222222222222,\"#7201a8\"],[0.3333333333333333,\"#9c179e\"],[0.4444444444444444,\"#bd3786\"],[0.5555555555555556,\"#d8576b\"],[0.6666666666666666,\"#ed7953\"],[0.7777777777777778,\"#fb9f3a\"],[0.8888888888888888,\"#fdca26\"],[1.0,\"#f0f921\"]],\"type\":\"histogram2dcontour\"}],\"histogram2d\":[{\"colorbar\":{\"outlinewidth\":0,\"ticks\":\"\"},\"colorscale\":[[0.0,\"#0d0887\"],[0.1111111111111111,\"#46039f\"],[0.2222222222222222,\"#7201a8\"],[0.3333333333333333,\"#9c179e\"],[0.4444444444444444,\"#bd3786\"],[0.5555555555555556,\"#d8576b\"],[0.6666666666666666,\"#ed7953\"],[0.7777777777777778,\"#fb9f3a\"],[0.8888888888888888,\"#fdca26\"],[1.0,\"#f0f921\"]],\"type\":\"histogram2d\"}],\"histogram\":[{\"marker\":{\"pattern\":{\"fillmode\":\"overlay\",\"size\":10,\"solidity\":0.2}},\"type\":\"histogram\"}],\"mesh3d\":[{\"colorbar\":{\"outlinewidth\":0,\"ticks\":\"\"},\"type\":\"mesh3d\"}],\"parcoords\":[{\"line\":{\"colorbar\":{\"outlinewidth\":0,\"ticks\":\"\"}},\"type\":\"parcoords\"}],\"pie\":[{\"automargin\":true,\"type\":\"pie\"}],\"scatter3d\":[{\"line\":{\"colorbar\":{\"outlinewidth\":0,\"ticks\":\"\"}},\"marker\":{\"colorbar\":{\"outlinewidth\":0,\"ticks\":\"\"}},\"type\":\"scatter3d\"}],\"scattercarpet\":[{\"marker\":{\"colorbar\":{\"outlinewidth\":0,\"ticks\":\"\"}},\"type\":\"scattercarpet\"}],\"scattergeo\":[{\"marker\":{\"colorbar\":{\"outlinewidth\":0,\"ticks\":\"\"}},\"type\":\"scattergeo\"}],\"scattergl\":[{\"marker\":{\"colorbar\":{\"outlinewidth\":0,\"ticks\":\"\"}},\"type\":\"scattergl\"}],\"scattermapbox\":[{\"marker\":{\"colorbar\":{\"outlinewidth\":0,\"ticks\":\"\"}},\"type\":\"scattermapbox\"}],\"scatterpolargl\":[{\"marker\":{\"colorbar\":{\"outlinewidth\":0,\"ticks\":\"\"}},\"type\":\"scatterpolargl\"}],\"scatterpolar\":[{\"marker\":{\"colorbar\":{\"outlinewidth\":0,\"ticks\":\"\"}},\"type\":\"scatterpolar\"}],\"scatter\":[{\"fillpattern\":{\"fillmode\":\"overlay\",\"size\":10,\"solidity\":0.2},\"type\":\"scatter\"}],\"scatterternary\":[{\"marker\":{\"colorbar\":{\"outlinewidth\":0,\"ticks\":\"\"}},\"type\":\"scatterternary\"}],\"surface\":[{\"colorbar\":{\"outlinewidth\":0,\"ticks\":\"\"},\"colorscale\":[[0.0,\"#0d0887\"],[0.1111111111111111,\"#46039f\"],[0.2222222222222222,\"#7201a8\"],[0.3333333333333333,\"#9c179e\"],[0.4444444444444444,\"#bd3786\"],[0.5555555555555556,\"#d8576b\"],[0.6666666666666666,\"#ed7953\"],[0.7777777777777778,\"#fb9f3a\"],[0.8888888888888888,\"#fdca26\"],[1.0,\"#f0f921\"]],\"type\":\"surface\"}],\"table\":[{\"cells\":{\"fill\":{\"color\":\"#EBF0F8\"},\"line\":{\"color\":\"white\"}},\"header\":{\"fill\":{\"color\":\"#C8D4E3\"},\"line\":{\"color\":\"white\"}},\"type\":\"table\"}]},\"layout\":{\"annotationdefaults\":{\"arrowcolor\":\"#2a3f5f\",\"arrowhead\":0,\"arrowwidth\":1},\"autotypenumbers\":\"strict\",\"coloraxis\":{\"colorbar\":{\"outlinewidth\":0,\"ticks\":\"\"}},\"colorscale\":{\"diverging\":[[0,\"#8e0152\"],[0.1,\"#c51b7d\"],[0.2,\"#de77ae\"],[0.3,\"#f1b6da\"],[0.4,\"#fde0ef\"],[0.5,\"#f7f7f7\"],[0.6,\"#e6f5d0\"],[0.7,\"#b8e186\"],[0.8,\"#7fbc41\"],[0.9,\"#4d9221\"],[1,\"#276419\"]],\"sequential\":[[0.0,\"#0d0887\"],[0.1111111111111111,\"#46039f\"],[0.2222222222222222,\"#7201a8\"],[0.3333333333333333,\"#9c179e\"],[0.4444444444444444,\"#bd3786\"],[0.5555555555555556,\"#d8576b\"],[0.6666666666666666,\"#ed7953\"],[0.7777777777777778,\"#fb9f3a\"],[0.8888888888888888,\"#fdca26\"],[1.0,\"#f0f921\"]],\"sequentialminus\":[[0.0,\"#0d0887\"],[0.1111111111111111,\"#46039f\"],[0.2222222222222222,\"#7201a8\"],[0.3333333333333333,\"#9c179e\"],[0.4444444444444444,\"#bd3786\"],[0.5555555555555556,\"#d8576b\"],[0.6666666666666666,\"#ed7953\"],[0.7777777777777778,\"#fb9f3a\"],[0.8888888888888888,\"#fdca26\"],[1.0,\"#f0f921\"]]},\"colorway\":[\"#636efa\",\"#EF553B\",\"#00cc96\",\"#ab63fa\",\"#FFA15A\",\"#19d3f3\",\"#FF6692\",\"#B6E880\",\"#FF97FF\",\"#FECB52\"],\"font\":{\"color\":\"#2a3f5f\"},\"geo\":{\"bgcolor\":\"white\",\"lakecolor\":\"white\",\"landcolor\":\"#E5ECF6\",\"showlakes\":true,\"showland\":true,\"subunitcolor\":\"white\"},\"hoverlabel\":{\"align\":\"left\"},\"hovermode\":\"closest\",\"mapbox\":{\"style\":\"light\"},\"paper_bgcolor\":\"white\",\"plot_bgcolor\":\"#E5ECF6\",\"polar\":{\"angularaxis\":{\"gridcolor\":\"white\",\"linecolor\":\"white\",\"ticks\":\"\"},\"bgcolor\":\"#E5ECF6\",\"radialaxis\":{\"gridcolor\":\"white\",\"linecolor\":\"white\",\"ticks\":\"\"}},\"scene\":{\"xaxis\":{\"backgroundcolor\":\"#E5ECF6\",\"gridcolor\":\"white\",\"gridwidth\":2,\"linecolor\":\"white\",\"showbackground\":true,\"ticks\":\"\",\"zerolinecolor\":\"white\"},\"yaxis\":{\"backgroundcolor\":\"#E5ECF6\",\"gridcolor\":\"white\",\"gridwidth\":2,\"linecolor\":\"white\",\"showbackground\":true,\"ticks\":\"\",\"zerolinecolor\":\"white\"},\"zaxis\":{\"backgroundcolor\":\"#E5ECF6\",\"gridcolor\":\"white\",\"gridwidth\":2,\"linecolor\":\"white\",\"showbackground\":true,\"ticks\":\"\",\"zerolinecolor\":\"white\"}},\"shapedefaults\":{\"line\":{\"color\":\"#2a3f5f\"}},\"ternary\":{\"aaxis\":{\"gridcolor\":\"white\",\"linecolor\":\"white\",\"ticks\":\"\"},\"baxis\":{\"gridcolor\":\"white\",\"linecolor\":\"white\",\"ticks\":\"\"},\"bgcolor\":\"#E5ECF6\",\"caxis\":{\"gridcolor\":\"white\",\"linecolor\":\"white\",\"ticks\":\"\"}},\"title\":{\"x\":0.05},\"xaxis\":{\"automargin\":true,\"gridcolor\":\"white\",\"linecolor\":\"white\",\"ticks\":\"\",\"title\":{\"standoff\":15},\"zerolinecolor\":\"white\",\"zerolinewidth\":2},\"yaxis\":{\"automargin\":true,\"gridcolor\":\"white\",\"linecolor\":\"white\",\"ticks\":\"\",\"title\":{\"standoff\":15},\"zerolinecolor\":\"white\",\"zerolinewidth\":2}}},\"title\":{\"font\":{\"color\":\"#4D5663\"},\"text\":\"The FAANG Stocks\"},\"xaxis\":{\"gridcolor\":\"#E1E5ED\",\"showgrid\":true,\"tickfont\":{\"color\":\"#4D5663\"},\"title\":{\"font\":{\"color\":\"#4D5663\"},\"text\":\"\"},\"zerolinecolor\":\"#E1E5ED\"},\"yaxis\":{\"gridcolor\":\"#E1E5ED\",\"showgrid\":true,\"tickfont\":{\"color\":\"#4D5663\"},\"title\":{\"font\":{\"color\":\"#4D5663\"},\"text\":\"\"},\"zerolinecolor\":\"#E1E5ED\"}},                        {\"showLink\": true, \"linkText\": \"Export to plot.ly\", \"plotlyServerURL\": \"https://plot.ly\", \"responsive\": true}                    ).then(function(){\n",
       "                            \n",
       "var gd = document.getElementById('1ababc92-f659-48f3-a00f-9c74e729216c');\n",
       "var x = new MutationObserver(function (mutations, observer) {{\n",
       "        var display = window.getComputedStyle(gd).display;\n",
       "        if (!display || display === 'none') {{\n",
       "            console.log([gd, 'removed!']);\n",
       "            Plotly.purge(gd);\n",
       "            observer.disconnect();\n",
       "        }}\n",
       "}});\n",
       "\n",
       "// Listen for the removal of the full notebook cells\n",
       "var notebookContainer = gd.closest('#notebook-container');\n",
       "if (notebookContainer) {{\n",
       "    x.observe(notebookContainer, {childList: true});\n",
       "}}\n",
       "\n",
       "// Listen for the clearing of the current output cell\n",
       "var outputEl = gd.closest('.output');\n",
       "if (outputEl) {{\n",
       "    x.observe(outputEl, {childList: true});\n",
       "}}\n",
       "\n",
       "                        })                };                });            </script>        </div>"
      ]
     },
     "metadata": {},
     "output_type": "display_data"
    }
   ],
   "source": [
    "df4.normalize().iplot(title='The FAANG Stocks')"
   ]
  },
  {
   "cell_type": "code",
   "execution_count": 36,
   "metadata": {},
   "outputs": [
    {
     "data": {
      "text/html": [
       "<div>\n",
       "<style scoped>\n",
       "    .dataframe tbody tr th:only-of-type {\n",
       "        vertical-align: middle;\n",
       "    }\n",
       "\n",
       "    .dataframe tbody tr th {\n",
       "        vertical-align: top;\n",
       "    }\n",
       "\n",
       "    .dataframe thead th {\n",
       "        text-align: right;\n",
       "    }\n",
       "</style>\n",
       "<table border=\"1\" class=\"dataframe\">\n",
       "  <thead>\n",
       "    <tr style=\"text-align: right;\">\n",
       "      <th></th>\n",
       "      <th>AAPL</th>\n",
       "      <th>AMZN</th>\n",
       "      <th>FB</th>\n",
       "      <th>GOOG</th>\n",
       "      <th>NFLX</th>\n",
       "    </tr>\n",
       "    <tr>\n",
       "      <th>Date</th>\n",
       "      <th></th>\n",
       "      <th></th>\n",
       "      <th></th>\n",
       "      <th></th>\n",
       "      <th></th>\n",
       "    </tr>\n",
       "  </thead>\n",
       "  <tbody>\n",
       "    <tr>\n",
       "      <th>2022-01-04</th>\n",
       "      <td>-0.012773</td>\n",
       "      <td>-0.017060</td>\n",
       "      <td>-0.005955</td>\n",
       "      <td>-0.004546</td>\n",
       "      <td>-0.010467</td>\n",
       "    </tr>\n",
       "    <tr>\n",
       "      <th>2022-01-05</th>\n",
       "      <td>-0.026960</td>\n",
       "      <td>-0.019074</td>\n",
       "      <td>-0.037419</td>\n",
       "      <td>-0.047962</td>\n",
       "      <td>-0.040794</td>\n",
       "    </tr>\n",
       "    <tr>\n",
       "      <th>2022-01-06</th>\n",
       "      <td>-0.016834</td>\n",
       "      <td>-0.006734</td>\n",
       "      <td>0.025251</td>\n",
       "      <td>-0.000745</td>\n",
       "      <td>-0.025394</td>\n",
       "    </tr>\n",
       "    <tr>\n",
       "      <th>2022-01-07</th>\n",
       "      <td>0.000988</td>\n",
       "      <td>-0.004297</td>\n",
       "      <td>-0.002017</td>\n",
       "      <td>-0.003981</td>\n",
       "      <td>-0.022352</td>\n",
       "    </tr>\n",
       "    <tr>\n",
       "      <th>2022-01-10</th>\n",
       "      <td>0.000116</td>\n",
       "      <td>-0.006592</td>\n",
       "      <td>-0.011275</td>\n",
       "      <td>0.011391</td>\n",
       "      <td>-0.002239</td>\n",
       "    </tr>\n",
       "  </tbody>\n",
       "</table>\n",
       "</div>"
      ],
      "text/plain": [
       "                AAPL      AMZN        FB      GOOG      NFLX\n",
       "Date                                                        \n",
       "2022-01-04 -0.012773 -0.017060 -0.005955 -0.004546 -0.010467\n",
       "2022-01-05 -0.026960 -0.019074 -0.037419 -0.047962 -0.040794\n",
       "2022-01-06 -0.016834 -0.006734  0.025251 -0.000745 -0.025394\n",
       "2022-01-07  0.000988 -0.004297 -0.002017 -0.003981 -0.022352\n",
       "2022-01-10  0.000116 -0.006592 -0.011275  0.011391 -0.002239"
      ]
     },
     "execution_count": 36,
     "metadata": {},
     "output_type": "execute_result"
    }
   ],
   "source": [
    "# Log normal returns\n",
    "daily_returns = np.log(df4).diff().dropna()\n",
    "\n",
    "# Display the last five rows\n",
    "daily_returns.head(5)"
   ]
  },
  {
   "cell_type": "code",
   "execution_count": 37,
   "metadata": {},
   "outputs": [
    {
     "data": {
      "application/vnd.plotly.v1+json": {
       "config": {
        "linkText": "Export to plot.ly",
        "plotlyServerURL": "https://plot.ly",
        "showLink": true
       },
       "data": [
        {
         "line": {
          "color": "rgba(255, 153, 51, 1.0)",
          "dash": "solid",
          "shape": "linear",
          "width": 1.3
         },
         "mode": "lines",
         "name": "AAPL",
         "text": "",
         "type": "scatter",
         "x": [
          "2022-01-04",
          "2022-01-05",
          "2022-01-06",
          "2022-01-07",
          "2022-01-10",
          "2022-01-11",
          "2022-01-12",
          "2022-01-13",
          "2022-01-14",
          "2022-01-18",
          "2022-01-19",
          "2022-01-20",
          "2022-01-21",
          "2022-01-24",
          "2022-01-25",
          "2022-01-26",
          "2022-01-27",
          "2022-01-28",
          "2022-01-31",
          "2022-02-01",
          "2022-02-02",
          "2022-02-03",
          "2022-02-04",
          "2022-02-07",
          "2022-02-08",
          "2022-02-09",
          "2022-02-10",
          "2022-02-11",
          "2022-02-14",
          "2022-02-15",
          "2022-02-16",
          "2022-02-17",
          "2022-02-18",
          "2022-02-22",
          "2022-02-23",
          "2022-02-24",
          "2022-02-25",
          "2022-02-28",
          "2022-03-01",
          "2022-03-02",
          "2022-03-03",
          "2022-03-04",
          "2022-03-07",
          "2022-03-08",
          "2022-03-09",
          "2022-03-10",
          "2022-03-11",
          "2022-03-14",
          "2022-03-15",
          "2022-03-16",
          "2022-03-17",
          "2022-03-18",
          "2022-03-21",
          "2022-03-22",
          "2022-03-23",
          "2022-03-24",
          "2022-03-25",
          "2022-03-28",
          "2022-03-29",
          "2022-03-30",
          "2022-03-31",
          "2022-04-01",
          "2022-04-04",
          "2022-04-05",
          "2022-04-06",
          "2022-04-07",
          "2022-04-08",
          "2022-04-11",
          "2022-04-12",
          "2022-04-13",
          "2022-04-14",
          "2022-04-18",
          "2022-04-19",
          "2022-04-20",
          "2022-04-21",
          "2022-04-22",
          "2022-04-25",
          "2022-04-26",
          "2022-04-27",
          "2022-04-28",
          "2022-04-29",
          "2022-05-02",
          "2022-05-03",
          "2022-05-04",
          "2022-05-05",
          "2022-05-06",
          "2022-05-09",
          "2022-05-10",
          "2022-05-11",
          "2022-05-12",
          "2022-05-13",
          "2022-05-16",
          "2022-05-17",
          "2022-05-18",
          "2022-05-19",
          "2022-05-20",
          "2022-05-23",
          "2022-05-24",
          "2022-05-25",
          "2022-05-26",
          "2022-05-27",
          "2022-05-31",
          "2022-06-01",
          "2022-06-02",
          "2022-06-03",
          "2022-06-06",
          "2022-06-07",
          "2022-06-08",
          "2022-06-09",
          "2022-06-10",
          "2022-06-13",
          "2022-06-14",
          "2022-06-15",
          "2022-06-16",
          "2022-06-17",
          "2022-06-21",
          "2022-06-22",
          "2022-06-23",
          "2022-06-24",
          "2022-06-27",
          "2022-06-28",
          "2022-06-29",
          "2022-06-30",
          "2022-07-01",
          "2022-07-05",
          "2022-07-06",
          "2022-07-07",
          "2022-07-08",
          "2022-07-11"
         ],
         "y": [
          -0.01277277738380267,
          -0.026960026336708687,
          -0.016834318163185813,
          0.0009879178487093299,
          0.0001161458094198764,
          0.01664444819416655,
          0.0025670031352689193,
          -0.01921145132943547,
          0.005097725355159177,
          -0.019074948780518852,
          -0.021248993854708687,
          -0.01040089065160199,
          -0.012847372359358289,
          -0.004876224235689008,
          -0.011450021986897596,
          -0.0005633285711290625,
          -0.002947581133309285,
          0.06745087171902853,
          0.025790238289830292,
          -0.0009729828355906633,
          0.007019435511929295,
          -0.016861067458052048,
          -0.0016807694947882368,
          -0.004243567463039888,
          0.01829826799288181,
          0.0082595856010661,
          -0.023881751383592942,
          -0.020425581147877736,
          0.001422087063562394,
          0.02288859700838053,
          -0.0013898847934123992,
          -0.02149871221496813,
          -0.009399798814071048,
          -0.017972791628694473,
          -0.02620448992146418,
          0.01654257630108802,
          0.012882125534259714,
          0.0016364423764407832,
          -0.011695991856986332,
          0.02037917097156594,
          -0.0019833113058469465,
          -0.018579775427575385,
          -0.024003268942005995,
          -0.01174486791396312,
          0.034399011923650136,
          -0.027562584179868566,
          -0.024199199160887197,
          -0.02692157576786336,
          0.02924547274365885,
          0.028602498407856558,
          0.006433295812552586,
          0.020703151528238095,
          0.008501406216924856,
          0.020587193515188673,
          0.008199964507954682,
          0.022424474018388096,
          0.0037271838179755434,
          0.0050239825480966616,
          0.01895364430579516,
          -0.0066717007611174495,
          -0.01793566953032677,
          -0.0017196837999007286,
          0.02341712347271052,
          -0.019123664479714364,
          -0.01862309294606046,
          0.0018024517897723413,
          -0.011980417885259165,
          -0.025847084565423728,
          0.01145757108733747,
          0.016210387460104947,
          -0.030447050118184826,
          -0.0013318095416305908,
          0.014016452819911152,
          -0.0010160682579636315,
          -0.004855371399369979,
          -0.02821556173268025,
          0.0067145884213459794,
          -0.03804259653433917,
          -0.0014678973656563343,
          0.044165626790383605,
          -0.037291536195700914,
          0.0019645130374925657,
          0.009576631015178805,
          0.04018977663197987,
          -0.057328439683420385,
          0.004716025674640356,
          -0.033752484892773715,
          0.015983619865422405,
          -0.05323335515304528,
          -0.027262481860088172,
          0.031417663814033325,
          -0.010729693622863579,
          0.025104868372338274,
          -0.05807325405834529,
          -0.024950074123233357,
          0.0017457648446601581,
          0.03933534776407299,
          -0.019403014524209894,
          0.001139302738785375,
          0.022934487263377434,
          0.03994806033549647,
          -0.0053605265270606495,
          -0.0008737330261121556,
          0.016671497677550384,
          -0.039318605882486146,
          0.005214024543549023,
          0.01743308366138674,
          -0.0050561335074892355,
          -0.036618043064564176,
          -0.039394552656978554,
          -0.03903696139074864,
          0.0066504902469306515,
          0.01991190211094196,
          -0.040458983916443536,
          0.011467139093874756,
          0.03223550753534976,
          -0.0038344491442217077,
          0.021344265145308405,
          0.024221519876943987,
          0,
          -0.030242370177498756,
          0.012939735235462102,
          -0.0181921634990152,
          0.016035108706173418,
          0.018753481788822413,
          0.009561382112642569,
          0.023716034499354777,
          0.004703558104416139,
          -0.014867858098461362
         ]
        },
        {
         "line": {
          "color": "rgba(55, 128, 191, 1.0)",
          "dash": "solid",
          "shape": "linear",
          "width": 1.3
         },
         "mode": "lines",
         "name": "GOOG",
         "text": "",
         "type": "scatter",
         "x": [
          "2022-01-04",
          "2022-01-05",
          "2022-01-06",
          "2022-01-07",
          "2022-01-10",
          "2022-01-11",
          "2022-01-12",
          "2022-01-13",
          "2022-01-14",
          "2022-01-18",
          "2022-01-19",
          "2022-01-20",
          "2022-01-21",
          "2022-01-24",
          "2022-01-25",
          "2022-01-26",
          "2022-01-27",
          "2022-01-28",
          "2022-01-31",
          "2022-02-01",
          "2022-02-02",
          "2022-02-03",
          "2022-02-04",
          "2022-02-07",
          "2022-02-08",
          "2022-02-09",
          "2022-02-10",
          "2022-02-11",
          "2022-02-14",
          "2022-02-15",
          "2022-02-16",
          "2022-02-17",
          "2022-02-18",
          "2022-02-22",
          "2022-02-23",
          "2022-02-24",
          "2022-02-25",
          "2022-02-28",
          "2022-03-01",
          "2022-03-02",
          "2022-03-03",
          "2022-03-04",
          "2022-03-07",
          "2022-03-08",
          "2022-03-09",
          "2022-03-10",
          "2022-03-11",
          "2022-03-14",
          "2022-03-15",
          "2022-03-16",
          "2022-03-17",
          "2022-03-18",
          "2022-03-21",
          "2022-03-22",
          "2022-03-23",
          "2022-03-24",
          "2022-03-25",
          "2022-03-28",
          "2022-03-29",
          "2022-03-30",
          "2022-03-31",
          "2022-04-01",
          "2022-04-04",
          "2022-04-05",
          "2022-04-06",
          "2022-04-07",
          "2022-04-08",
          "2022-04-11",
          "2022-04-12",
          "2022-04-13",
          "2022-04-14",
          "2022-04-18",
          "2022-04-19",
          "2022-04-20",
          "2022-04-21",
          "2022-04-22",
          "2022-04-25",
          "2022-04-26",
          "2022-04-27",
          "2022-04-28",
          "2022-04-29",
          "2022-05-02",
          "2022-05-03",
          "2022-05-04",
          "2022-05-05",
          "2022-05-06",
          "2022-05-09",
          "2022-05-10",
          "2022-05-11",
          "2022-05-12",
          "2022-05-13",
          "2022-05-16",
          "2022-05-17",
          "2022-05-18",
          "2022-05-19",
          "2022-05-20",
          "2022-05-23",
          "2022-05-24",
          "2022-05-25",
          "2022-05-26",
          "2022-05-27",
          "2022-05-31",
          "2022-06-01",
          "2022-06-02",
          "2022-06-03",
          "2022-06-06",
          "2022-06-07",
          "2022-06-08",
          "2022-06-09",
          "2022-06-10",
          "2022-06-13",
          "2022-06-14",
          "2022-06-15",
          "2022-06-16",
          "2022-06-17",
          "2022-06-21",
          "2022-06-22",
          "2022-06-23",
          "2022-06-24",
          "2022-06-27",
          "2022-06-28",
          "2022-06-29",
          "2022-06-30",
          "2022-07-01",
          "2022-07-05",
          "2022-07-06",
          "2022-07-07",
          "2022-07-08",
          "2022-07-11"
         ],
         "y": [
          -0.004545887304460372,
          -0.047961830004636496,
          -0.0007449183753127642,
          -0.003980960447574233,
          0.011390667843917512,
          0.010362977746582125,
          0.011577643409784066,
          -0.01792911561560917,
          0.004700274162654949,
          -0.025327593050825215,
          -0.004695861356002418,
          -0.015942675315040233,
          -0.025908195657954103,
          0.002149953790599568,
          -0.028289657943765256,
          0.019568937752612037,
          -0.0009212408741836597,
          0.03177355007040106,
          0.017912033146752826,
          0.015937385164210838,
          0.07108597102889203,
          -0.03706127222419919,
          0.0025589498533369337,
          -0.028928742039229682,
          0.0019773438789441045,
          0.015962389290089085,
          -0.020357385416184037,
          -0.032800626408031164,
          0.008685019859161258,
          0.008284146485351584,
          0.007754322221141585,
          -0.03839671642854636,
          -0.01401209642817225,
          -0.008196470341405693,
          -0.014144930678996914,
          0.03910842178046714,
          0.013817918231167958,
          0.0027579402231001637,
          -0.005374284178924604,
          0.004339566261346128,
          -0.0032967151569431863,
          -0.016409921178864195,
          -0.043764064171542216,
          0.006415973957561327,
          0.05046169937660672,
          -0.008884077803877233,
          -0.016769773930003673,
          -0.029039812414977995,
          0.022773819914202242,
          0.030607967982070328,
          0.006783686644110887,
          0.016219845206807193,
          -0.0023638626427775478,
          0.02745550291179022,
          -0.01272700027336704,
          0.020074587575112268,
          0.0014814165331848983,
          0.003023258066616741,
          0.009116472675867904,
          -0.004235872238405491,
          -0.021219774847663686,
          0.007494255611564249,
          0.02069764370155891,
          -0.018121005260853806,
          -0.027941822565450636,
          -0.005196590615376806,
          -0.018150048864616686,
          -0.031950327503317055,
          -0.01101604341405693,
          0.014780253157545609,
          -0.02355476894199704,
          0.0055482647315914235,
          0.01988527278882568,
          -0.017664429884757915,
          -0.026132749188819915,
          -0.04354370849209488,
          0.029944909154275834,
          -0.03084818457668881,
          -0.038256293206381464,
          0.03746516791053445,
          -0.03793468749490447,
          0.01887405422219146,
          0.00826664774980923,
          0.036941570009937585,
          -0.048718199301222676,
          -0.009350056614477964,
          -0.022523956459743033,
          0.013181641349243378,
          -0.005456244765018603,
          -0.007044701251642138,
          0.02921276601581102,
          -0.014898143233409655,
          0.016493211955560305,
          -0.03754656232702924,
          -0.014838106541157359,
          -0.013019405086724056,
          0.021301454322436797,
          -0.052776039270610475,
          -0.0008169321919897499,
          0.022944368676037996,
          0.0407392823055277,
          0.010933042879212707,
          0.0008589689755371666,
          0.031130251894651018,
          -0.02739609727814596,
          0.021130026078761688,
          0.0018699317724495401,
          0.00007247139647681422,
          -0.01998718355076523,
          -0.03084470017931995,
          -0.04170020115564643,
          0.0029662463075501577,
          0.029383883695437873,
          -0.03460295390233359,
          0.011463955743538534,
          0.03774770489794932,
          0.0001695534526229281,
          0.005789486167088853,
          0.05064173608063971,
          -0.016291386618334514,
          -0.03535365681877689,
          -0.0028021657491477114,
          -0.026026914256581435,
          -0.002668685717147845,
          0.04311594521087159,
          0.011580212926506128,
          0.034904732957411255,
          0.007203302958847857,
          -0.030810606835293797
         ]
        }
       ],
       "layout": {
        "legend": {
         "bgcolor": "#F5F6F9",
         "font": {
          "color": "#4D5663"
         }
        },
        "paper_bgcolor": "#F5F6F9",
        "plot_bgcolor": "#F5F6F9",
        "template": {
         "data": {
          "bar": [
           {
            "error_x": {
             "color": "#2a3f5f"
            },
            "error_y": {
             "color": "#2a3f5f"
            },
            "marker": {
             "line": {
              "color": "#E5ECF6",
              "width": 0.5
             },
             "pattern": {
              "fillmode": "overlay",
              "size": 10,
              "solidity": 0.2
             }
            },
            "type": "bar"
           }
          ],
          "barpolar": [
           {
            "marker": {
             "line": {
              "color": "#E5ECF6",
              "width": 0.5
             },
             "pattern": {
              "fillmode": "overlay",
              "size": 10,
              "solidity": 0.2
             }
            },
            "type": "barpolar"
           }
          ],
          "carpet": [
           {
            "aaxis": {
             "endlinecolor": "#2a3f5f",
             "gridcolor": "white",
             "linecolor": "white",
             "minorgridcolor": "white",
             "startlinecolor": "#2a3f5f"
            },
            "baxis": {
             "endlinecolor": "#2a3f5f",
             "gridcolor": "white",
             "linecolor": "white",
             "minorgridcolor": "white",
             "startlinecolor": "#2a3f5f"
            },
            "type": "carpet"
           }
          ],
          "choropleth": [
           {
            "colorbar": {
             "outlinewidth": 0,
             "ticks": ""
            },
            "type": "choropleth"
           }
          ],
          "contour": [
           {
            "colorbar": {
             "outlinewidth": 0,
             "ticks": ""
            },
            "colorscale": [
             [
              0,
              "#0d0887"
             ],
             [
              0.1111111111111111,
              "#46039f"
             ],
             [
              0.2222222222222222,
              "#7201a8"
             ],
             [
              0.3333333333333333,
              "#9c179e"
             ],
             [
              0.4444444444444444,
              "#bd3786"
             ],
             [
              0.5555555555555556,
              "#d8576b"
             ],
             [
              0.6666666666666666,
              "#ed7953"
             ],
             [
              0.7777777777777778,
              "#fb9f3a"
             ],
             [
              0.8888888888888888,
              "#fdca26"
             ],
             [
              1,
              "#f0f921"
             ]
            ],
            "type": "contour"
           }
          ],
          "contourcarpet": [
           {
            "colorbar": {
             "outlinewidth": 0,
             "ticks": ""
            },
            "type": "contourcarpet"
           }
          ],
          "heatmap": [
           {
            "colorbar": {
             "outlinewidth": 0,
             "ticks": ""
            },
            "colorscale": [
             [
              0,
              "#0d0887"
             ],
             [
              0.1111111111111111,
              "#46039f"
             ],
             [
              0.2222222222222222,
              "#7201a8"
             ],
             [
              0.3333333333333333,
              "#9c179e"
             ],
             [
              0.4444444444444444,
              "#bd3786"
             ],
             [
              0.5555555555555556,
              "#d8576b"
             ],
             [
              0.6666666666666666,
              "#ed7953"
             ],
             [
              0.7777777777777778,
              "#fb9f3a"
             ],
             [
              0.8888888888888888,
              "#fdca26"
             ],
             [
              1,
              "#f0f921"
             ]
            ],
            "type": "heatmap"
           }
          ],
          "heatmapgl": [
           {
            "colorbar": {
             "outlinewidth": 0,
             "ticks": ""
            },
            "colorscale": [
             [
              0,
              "#0d0887"
             ],
             [
              0.1111111111111111,
              "#46039f"
             ],
             [
              0.2222222222222222,
              "#7201a8"
             ],
             [
              0.3333333333333333,
              "#9c179e"
             ],
             [
              0.4444444444444444,
              "#bd3786"
             ],
             [
              0.5555555555555556,
              "#d8576b"
             ],
             [
              0.6666666666666666,
              "#ed7953"
             ],
             [
              0.7777777777777778,
              "#fb9f3a"
             ],
             [
              0.8888888888888888,
              "#fdca26"
             ],
             [
              1,
              "#f0f921"
             ]
            ],
            "type": "heatmapgl"
           }
          ],
          "histogram": [
           {
            "marker": {
             "pattern": {
              "fillmode": "overlay",
              "size": 10,
              "solidity": 0.2
             }
            },
            "type": "histogram"
           }
          ],
          "histogram2d": [
           {
            "colorbar": {
             "outlinewidth": 0,
             "ticks": ""
            },
            "colorscale": [
             [
              0,
              "#0d0887"
             ],
             [
              0.1111111111111111,
              "#46039f"
             ],
             [
              0.2222222222222222,
              "#7201a8"
             ],
             [
              0.3333333333333333,
              "#9c179e"
             ],
             [
              0.4444444444444444,
              "#bd3786"
             ],
             [
              0.5555555555555556,
              "#d8576b"
             ],
             [
              0.6666666666666666,
              "#ed7953"
             ],
             [
              0.7777777777777778,
              "#fb9f3a"
             ],
             [
              0.8888888888888888,
              "#fdca26"
             ],
             [
              1,
              "#f0f921"
             ]
            ],
            "type": "histogram2d"
           }
          ],
          "histogram2dcontour": [
           {
            "colorbar": {
             "outlinewidth": 0,
             "ticks": ""
            },
            "colorscale": [
             [
              0,
              "#0d0887"
             ],
             [
              0.1111111111111111,
              "#46039f"
             ],
             [
              0.2222222222222222,
              "#7201a8"
             ],
             [
              0.3333333333333333,
              "#9c179e"
             ],
             [
              0.4444444444444444,
              "#bd3786"
             ],
             [
              0.5555555555555556,
              "#d8576b"
             ],
             [
              0.6666666666666666,
              "#ed7953"
             ],
             [
              0.7777777777777778,
              "#fb9f3a"
             ],
             [
              0.8888888888888888,
              "#fdca26"
             ],
             [
              1,
              "#f0f921"
             ]
            ],
            "type": "histogram2dcontour"
           }
          ],
          "mesh3d": [
           {
            "colorbar": {
             "outlinewidth": 0,
             "ticks": ""
            },
            "type": "mesh3d"
           }
          ],
          "parcoords": [
           {
            "line": {
             "colorbar": {
              "outlinewidth": 0,
              "ticks": ""
             }
            },
            "type": "parcoords"
           }
          ],
          "pie": [
           {
            "automargin": true,
            "type": "pie"
           }
          ],
          "scatter": [
           {
            "fillpattern": {
             "fillmode": "overlay",
             "size": 10,
             "solidity": 0.2
            },
            "type": "scatter"
           }
          ],
          "scatter3d": [
           {
            "line": {
             "colorbar": {
              "outlinewidth": 0,
              "ticks": ""
             }
            },
            "marker": {
             "colorbar": {
              "outlinewidth": 0,
              "ticks": ""
             }
            },
            "type": "scatter3d"
           }
          ],
          "scattercarpet": [
           {
            "marker": {
             "colorbar": {
              "outlinewidth": 0,
              "ticks": ""
             }
            },
            "type": "scattercarpet"
           }
          ],
          "scattergeo": [
           {
            "marker": {
             "colorbar": {
              "outlinewidth": 0,
              "ticks": ""
             }
            },
            "type": "scattergeo"
           }
          ],
          "scattergl": [
           {
            "marker": {
             "colorbar": {
              "outlinewidth": 0,
              "ticks": ""
             }
            },
            "type": "scattergl"
           }
          ],
          "scattermapbox": [
           {
            "marker": {
             "colorbar": {
              "outlinewidth": 0,
              "ticks": ""
             }
            },
            "type": "scattermapbox"
           }
          ],
          "scatterpolar": [
           {
            "marker": {
             "colorbar": {
              "outlinewidth": 0,
              "ticks": ""
             }
            },
            "type": "scatterpolar"
           }
          ],
          "scatterpolargl": [
           {
            "marker": {
             "colorbar": {
              "outlinewidth": 0,
              "ticks": ""
             }
            },
            "type": "scatterpolargl"
           }
          ],
          "scatterternary": [
           {
            "marker": {
             "colorbar": {
              "outlinewidth": 0,
              "ticks": ""
             }
            },
            "type": "scatterternary"
           }
          ],
          "surface": [
           {
            "colorbar": {
             "outlinewidth": 0,
             "ticks": ""
            },
            "colorscale": [
             [
              0,
              "#0d0887"
             ],
             [
              0.1111111111111111,
              "#46039f"
             ],
             [
              0.2222222222222222,
              "#7201a8"
             ],
             [
              0.3333333333333333,
              "#9c179e"
             ],
             [
              0.4444444444444444,
              "#bd3786"
             ],
             [
              0.5555555555555556,
              "#d8576b"
             ],
             [
              0.6666666666666666,
              "#ed7953"
             ],
             [
              0.7777777777777778,
              "#fb9f3a"
             ],
             [
              0.8888888888888888,
              "#fdca26"
             ],
             [
              1,
              "#f0f921"
             ]
            ],
            "type": "surface"
           }
          ],
          "table": [
           {
            "cells": {
             "fill": {
              "color": "#EBF0F8"
             },
             "line": {
              "color": "white"
             }
            },
            "header": {
             "fill": {
              "color": "#C8D4E3"
             },
             "line": {
              "color": "white"
             }
            },
            "type": "table"
           }
          ]
         },
         "layout": {
          "annotationdefaults": {
           "arrowcolor": "#2a3f5f",
           "arrowhead": 0,
           "arrowwidth": 1
          },
          "autotypenumbers": "strict",
          "coloraxis": {
           "colorbar": {
            "outlinewidth": 0,
            "ticks": ""
           }
          },
          "colorscale": {
           "diverging": [
            [
             0,
             "#8e0152"
            ],
            [
             0.1,
             "#c51b7d"
            ],
            [
             0.2,
             "#de77ae"
            ],
            [
             0.3,
             "#f1b6da"
            ],
            [
             0.4,
             "#fde0ef"
            ],
            [
             0.5,
             "#f7f7f7"
            ],
            [
             0.6,
             "#e6f5d0"
            ],
            [
             0.7,
             "#b8e186"
            ],
            [
             0.8,
             "#7fbc41"
            ],
            [
             0.9,
             "#4d9221"
            ],
            [
             1,
             "#276419"
            ]
           ],
           "sequential": [
            [
             0,
             "#0d0887"
            ],
            [
             0.1111111111111111,
             "#46039f"
            ],
            [
             0.2222222222222222,
             "#7201a8"
            ],
            [
             0.3333333333333333,
             "#9c179e"
            ],
            [
             0.4444444444444444,
             "#bd3786"
            ],
            [
             0.5555555555555556,
             "#d8576b"
            ],
            [
             0.6666666666666666,
             "#ed7953"
            ],
            [
             0.7777777777777778,
             "#fb9f3a"
            ],
            [
             0.8888888888888888,
             "#fdca26"
            ],
            [
             1,
             "#f0f921"
            ]
           ],
           "sequentialminus": [
            [
             0,
             "#0d0887"
            ],
            [
             0.1111111111111111,
             "#46039f"
            ],
            [
             0.2222222222222222,
             "#7201a8"
            ],
            [
             0.3333333333333333,
             "#9c179e"
            ],
            [
             0.4444444444444444,
             "#bd3786"
            ],
            [
             0.5555555555555556,
             "#d8576b"
            ],
            [
             0.6666666666666666,
             "#ed7953"
            ],
            [
             0.7777777777777778,
             "#fb9f3a"
            ],
            [
             0.8888888888888888,
             "#fdca26"
            ],
            [
             1,
             "#f0f921"
            ]
           ]
          },
          "colorway": [
           "#636efa",
           "#EF553B",
           "#00cc96",
           "#ab63fa",
           "#FFA15A",
           "#19d3f3",
           "#FF6692",
           "#B6E880",
           "#FF97FF",
           "#FECB52"
          ],
          "font": {
           "color": "#2a3f5f"
          },
          "geo": {
           "bgcolor": "white",
           "lakecolor": "white",
           "landcolor": "#E5ECF6",
           "showlakes": true,
           "showland": true,
           "subunitcolor": "white"
          },
          "hoverlabel": {
           "align": "left"
          },
          "hovermode": "closest",
          "mapbox": {
           "style": "light"
          },
          "paper_bgcolor": "white",
          "plot_bgcolor": "#E5ECF6",
          "polar": {
           "angularaxis": {
            "gridcolor": "white",
            "linecolor": "white",
            "ticks": ""
           },
           "bgcolor": "#E5ECF6",
           "radialaxis": {
            "gridcolor": "white",
            "linecolor": "white",
            "ticks": ""
           }
          },
          "scene": {
           "xaxis": {
            "backgroundcolor": "#E5ECF6",
            "gridcolor": "white",
            "gridwidth": 2,
            "linecolor": "white",
            "showbackground": true,
            "ticks": "",
            "zerolinecolor": "white"
           },
           "yaxis": {
            "backgroundcolor": "#E5ECF6",
            "gridcolor": "white",
            "gridwidth": 2,
            "linecolor": "white",
            "showbackground": true,
            "ticks": "",
            "zerolinecolor": "white"
           },
           "zaxis": {
            "backgroundcolor": "#E5ECF6",
            "gridcolor": "white",
            "gridwidth": 2,
            "linecolor": "white",
            "showbackground": true,
            "ticks": "",
            "zerolinecolor": "white"
           }
          },
          "shapedefaults": {
           "line": {
            "color": "#2a3f5f"
           }
          },
          "ternary": {
           "aaxis": {
            "gridcolor": "white",
            "linecolor": "white",
            "ticks": ""
           },
           "baxis": {
            "gridcolor": "white",
            "linecolor": "white",
            "ticks": ""
           },
           "bgcolor": "#E5ECF6",
           "caxis": {
            "gridcolor": "white",
            "linecolor": "white",
            "ticks": ""
           }
          },
          "title": {
           "x": 0.05
          },
          "xaxis": {
           "automargin": true,
           "gridcolor": "white",
           "linecolor": "white",
           "ticks": "",
           "title": {
            "standoff": 15
           },
           "zerolinecolor": "white",
           "zerolinewidth": 2
          },
          "yaxis": {
           "automargin": true,
           "gridcolor": "white",
           "linecolor": "white",
           "ticks": "",
           "title": {
            "standoff": 15
           },
           "zerolinecolor": "white",
           "zerolinewidth": 2
          }
         }
        },
        "title": {
         "font": {
          "color": "#4D5663"
         },
         "text": "Daily Log Returns"
        },
        "xaxis": {
         "gridcolor": "#E1E5ED",
         "showgrid": true,
         "tickfont": {
          "color": "#4D5663"
         },
         "title": {
          "font": {
           "color": "#4D5663"
          },
          "text": ""
         },
         "zerolinecolor": "#E1E5ED"
        },
        "yaxis": {
         "gridcolor": "#E1E5ED",
         "showgrid": true,
         "tickfont": {
          "color": "#4D5663"
         },
         "title": {
          "font": {
           "color": "#4D5663"
          },
          "text": ""
         },
         "zerolinecolor": "#E1E5ED"
        }
       }
      },
      "text/html": [
       "<div>                            <div id=\"d834b585-fb2e-428f-a89c-dc669ecedc82\" class=\"plotly-graph-div\" style=\"height:525px; width:100%;\"></div>            <script type=\"text/javascript\">                require([\"plotly\"], function(Plotly) {                    window.PLOTLYENV=window.PLOTLYENV || {};\n",
       "                    window.PLOTLYENV.BASE_URL='https://plot.ly';                                    if (document.getElementById(\"d834b585-fb2e-428f-a89c-dc669ecedc82\")) {                    Plotly.newPlot(                        \"d834b585-fb2e-428f-a89c-dc669ecedc82\",                        [{\"line\":{\"color\":\"rgba(255, 153, 51, 1.0)\",\"dash\":\"solid\",\"shape\":\"linear\",\"width\":1.3},\"mode\":\"lines\",\"name\":\"AAPL\",\"text\":\"\",\"x\":[\"2022-01-04\",\"2022-01-05\",\"2022-01-06\",\"2022-01-07\",\"2022-01-10\",\"2022-01-11\",\"2022-01-12\",\"2022-01-13\",\"2022-01-14\",\"2022-01-18\",\"2022-01-19\",\"2022-01-20\",\"2022-01-21\",\"2022-01-24\",\"2022-01-25\",\"2022-01-26\",\"2022-01-27\",\"2022-01-28\",\"2022-01-31\",\"2022-02-01\",\"2022-02-02\",\"2022-02-03\",\"2022-02-04\",\"2022-02-07\",\"2022-02-08\",\"2022-02-09\",\"2022-02-10\",\"2022-02-11\",\"2022-02-14\",\"2022-02-15\",\"2022-02-16\",\"2022-02-17\",\"2022-02-18\",\"2022-02-22\",\"2022-02-23\",\"2022-02-24\",\"2022-02-25\",\"2022-02-28\",\"2022-03-01\",\"2022-03-02\",\"2022-03-03\",\"2022-03-04\",\"2022-03-07\",\"2022-03-08\",\"2022-03-09\",\"2022-03-10\",\"2022-03-11\",\"2022-03-14\",\"2022-03-15\",\"2022-03-16\",\"2022-03-17\",\"2022-03-18\",\"2022-03-21\",\"2022-03-22\",\"2022-03-23\",\"2022-03-24\",\"2022-03-25\",\"2022-03-28\",\"2022-03-29\",\"2022-03-30\",\"2022-03-31\",\"2022-04-01\",\"2022-04-04\",\"2022-04-05\",\"2022-04-06\",\"2022-04-07\",\"2022-04-08\",\"2022-04-11\",\"2022-04-12\",\"2022-04-13\",\"2022-04-14\",\"2022-04-18\",\"2022-04-19\",\"2022-04-20\",\"2022-04-21\",\"2022-04-22\",\"2022-04-25\",\"2022-04-26\",\"2022-04-27\",\"2022-04-28\",\"2022-04-29\",\"2022-05-02\",\"2022-05-03\",\"2022-05-04\",\"2022-05-05\",\"2022-05-06\",\"2022-05-09\",\"2022-05-10\",\"2022-05-11\",\"2022-05-12\",\"2022-05-13\",\"2022-05-16\",\"2022-05-17\",\"2022-05-18\",\"2022-05-19\",\"2022-05-20\",\"2022-05-23\",\"2022-05-24\",\"2022-05-25\",\"2022-05-26\",\"2022-05-27\",\"2022-05-31\",\"2022-06-01\",\"2022-06-02\",\"2022-06-03\",\"2022-06-06\",\"2022-06-07\",\"2022-06-08\",\"2022-06-09\",\"2022-06-10\",\"2022-06-13\",\"2022-06-14\",\"2022-06-15\",\"2022-06-16\",\"2022-06-17\",\"2022-06-21\",\"2022-06-22\",\"2022-06-23\",\"2022-06-24\",\"2022-06-27\",\"2022-06-28\",\"2022-06-29\",\"2022-06-30\",\"2022-07-01\",\"2022-07-05\",\"2022-07-06\",\"2022-07-07\",\"2022-07-08\",\"2022-07-11\"],\"y\":[-0.01277277738380267,-0.026960026336708687,-0.016834318163185813,0.0009879178487093299,0.0001161458094198764,0.01664444819416655,0.0025670031352689193,-0.01921145132943547,0.005097725355159177,-0.019074948780518852,-0.021248993854708687,-0.01040089065160199,-0.012847372359358289,-0.004876224235689008,-0.011450021986897596,-0.0005633285711290625,-0.002947581133309285,0.06745087171902853,0.025790238289830292,-0.0009729828355906633,0.007019435511929295,-0.016861067458052048,-0.0016807694947882368,-0.004243567463039888,0.01829826799288181,0.0082595856010661,-0.023881751383592942,-0.020425581147877736,0.001422087063562394,0.02288859700838053,-0.0013898847934123992,-0.02149871221496813,-0.009399798814071048,-0.017972791628694473,-0.02620448992146418,0.01654257630108802,0.012882125534259714,0.0016364423764407832,-0.011695991856986332,0.02037917097156594,-0.0019833113058469465,-0.018579775427575385,-0.024003268942005995,-0.01174486791396312,0.034399011923650136,-0.027562584179868566,-0.024199199160887197,-0.02692157576786336,0.02924547274365885,0.028602498407856558,0.006433295812552586,0.020703151528238095,0.008501406216924856,0.020587193515188673,0.008199964507954682,0.022424474018388096,0.0037271838179755434,0.0050239825480966616,0.01895364430579516,-0.0066717007611174495,-0.01793566953032677,-0.0017196837999007286,0.02341712347271052,-0.019123664479714364,-0.01862309294606046,0.0018024517897723413,-0.011980417885259165,-0.025847084565423728,0.01145757108733747,0.016210387460104947,-0.030447050118184826,-0.0013318095416305908,0.014016452819911152,-0.0010160682579636315,-0.004855371399369979,-0.02821556173268025,0.0067145884213459794,-0.03804259653433917,-0.0014678973656563343,0.044165626790383605,-0.037291536195700914,0.0019645130374925657,0.009576631015178805,0.04018977663197987,-0.057328439683420385,0.004716025674640356,-0.033752484892773715,0.015983619865422405,-0.05323335515304528,-0.027262481860088172,0.031417663814033325,-0.010729693622863579,0.025104868372338274,-0.05807325405834529,-0.024950074123233357,0.0017457648446601581,0.03933534776407299,-0.019403014524209894,0.001139302738785375,0.022934487263377434,0.03994806033549647,-0.0053605265270606495,-0.0008737330261121556,0.016671497677550384,-0.039318605882486146,0.005214024543549023,0.01743308366138674,-0.0050561335074892355,-0.036618043064564176,-0.039394552656978554,-0.03903696139074864,0.0066504902469306515,0.01991190211094196,-0.040458983916443536,0.011467139093874756,0.03223550753534976,-0.0038344491442217077,0.021344265145308405,0.024221519876943987,0.0,-0.030242370177498756,0.012939735235462102,-0.0181921634990152,0.016035108706173418,0.018753481788822413,0.009561382112642569,0.023716034499354777,0.004703558104416139,-0.014867858098461362],\"type\":\"scatter\"},{\"line\":{\"color\":\"rgba(55, 128, 191, 1.0)\",\"dash\":\"solid\",\"shape\":\"linear\",\"width\":1.3},\"mode\":\"lines\",\"name\":\"GOOG\",\"text\":\"\",\"x\":[\"2022-01-04\",\"2022-01-05\",\"2022-01-06\",\"2022-01-07\",\"2022-01-10\",\"2022-01-11\",\"2022-01-12\",\"2022-01-13\",\"2022-01-14\",\"2022-01-18\",\"2022-01-19\",\"2022-01-20\",\"2022-01-21\",\"2022-01-24\",\"2022-01-25\",\"2022-01-26\",\"2022-01-27\",\"2022-01-28\",\"2022-01-31\",\"2022-02-01\",\"2022-02-02\",\"2022-02-03\",\"2022-02-04\",\"2022-02-07\",\"2022-02-08\",\"2022-02-09\",\"2022-02-10\",\"2022-02-11\",\"2022-02-14\",\"2022-02-15\",\"2022-02-16\",\"2022-02-17\",\"2022-02-18\",\"2022-02-22\",\"2022-02-23\",\"2022-02-24\",\"2022-02-25\",\"2022-02-28\",\"2022-03-01\",\"2022-03-02\",\"2022-03-03\",\"2022-03-04\",\"2022-03-07\",\"2022-03-08\",\"2022-03-09\",\"2022-03-10\",\"2022-03-11\",\"2022-03-14\",\"2022-03-15\",\"2022-03-16\",\"2022-03-17\",\"2022-03-18\",\"2022-03-21\",\"2022-03-22\",\"2022-03-23\",\"2022-03-24\",\"2022-03-25\",\"2022-03-28\",\"2022-03-29\",\"2022-03-30\",\"2022-03-31\",\"2022-04-01\",\"2022-04-04\",\"2022-04-05\",\"2022-04-06\",\"2022-04-07\",\"2022-04-08\",\"2022-04-11\",\"2022-04-12\",\"2022-04-13\",\"2022-04-14\",\"2022-04-18\",\"2022-04-19\",\"2022-04-20\",\"2022-04-21\",\"2022-04-22\",\"2022-04-25\",\"2022-04-26\",\"2022-04-27\",\"2022-04-28\",\"2022-04-29\",\"2022-05-02\",\"2022-05-03\",\"2022-05-04\",\"2022-05-05\",\"2022-05-06\",\"2022-05-09\",\"2022-05-10\",\"2022-05-11\",\"2022-05-12\",\"2022-05-13\",\"2022-05-16\",\"2022-05-17\",\"2022-05-18\",\"2022-05-19\",\"2022-05-20\",\"2022-05-23\",\"2022-05-24\",\"2022-05-25\",\"2022-05-26\",\"2022-05-27\",\"2022-05-31\",\"2022-06-01\",\"2022-06-02\",\"2022-06-03\",\"2022-06-06\",\"2022-06-07\",\"2022-06-08\",\"2022-06-09\",\"2022-06-10\",\"2022-06-13\",\"2022-06-14\",\"2022-06-15\",\"2022-06-16\",\"2022-06-17\",\"2022-06-21\",\"2022-06-22\",\"2022-06-23\",\"2022-06-24\",\"2022-06-27\",\"2022-06-28\",\"2022-06-29\",\"2022-06-30\",\"2022-07-01\",\"2022-07-05\",\"2022-07-06\",\"2022-07-07\",\"2022-07-08\",\"2022-07-11\"],\"y\":[-0.004545887304460372,-0.047961830004636496,-0.0007449183753127642,-0.003980960447574233,0.011390667843917512,0.010362977746582125,0.011577643409784066,-0.01792911561560917,0.004700274162654949,-0.025327593050825215,-0.004695861356002418,-0.015942675315040233,-0.025908195657954103,0.002149953790599568,-0.028289657943765256,0.019568937752612037,-0.0009212408741836597,0.03177355007040106,0.017912033146752826,0.015937385164210838,0.07108597102889203,-0.03706127222419919,0.0025589498533369337,-0.028928742039229682,0.0019773438789441045,0.015962389290089085,-0.020357385416184037,-0.032800626408031164,0.008685019859161258,0.008284146485351584,0.007754322221141585,-0.03839671642854636,-0.01401209642817225,-0.008196470341405693,-0.014144930678996914,0.03910842178046714,0.013817918231167958,0.0027579402231001637,-0.005374284178924604,0.004339566261346128,-0.0032967151569431863,-0.016409921178864195,-0.043764064171542216,0.006415973957561327,0.05046169937660672,-0.008884077803877233,-0.016769773930003673,-0.029039812414977995,0.022773819914202242,0.030607967982070328,0.006783686644110887,0.016219845206807193,-0.0023638626427775478,0.02745550291179022,-0.01272700027336704,0.020074587575112268,0.0014814165331848983,0.003023258066616741,0.009116472675867904,-0.004235872238405491,-0.021219774847663686,0.007494255611564249,0.02069764370155891,-0.018121005260853806,-0.027941822565450636,-0.005196590615376806,-0.018150048864616686,-0.031950327503317055,-0.01101604341405693,0.014780253157545609,-0.02355476894199704,0.0055482647315914235,0.01988527278882568,-0.017664429884757915,-0.026132749188819915,-0.04354370849209488,0.029944909154275834,-0.03084818457668881,-0.038256293206381464,0.03746516791053445,-0.03793468749490447,0.01887405422219146,0.00826664774980923,0.036941570009937585,-0.048718199301222676,-0.009350056614477964,-0.022523956459743033,0.013181641349243378,-0.005456244765018603,-0.007044701251642138,0.02921276601581102,-0.014898143233409655,0.016493211955560305,-0.03754656232702924,-0.014838106541157359,-0.013019405086724056,0.021301454322436797,-0.052776039270610475,-0.0008169321919897499,0.022944368676037996,0.0407392823055277,0.010933042879212707,0.0008589689755371666,0.031130251894651018,-0.02739609727814596,0.021130026078761688,0.0018699317724495401,7.247139647681422e-05,-0.01998718355076523,-0.03084470017931995,-0.04170020115564643,0.0029662463075501577,0.029383883695437873,-0.03460295390233359,0.011463955743538534,0.03774770489794932,0.0001695534526229281,0.005789486167088853,0.05064173608063971,-0.016291386618334514,-0.03535365681877689,-0.0028021657491477114,-0.026026914256581435,-0.002668685717147845,0.04311594521087159,0.011580212926506128,0.034904732957411255,0.007203302958847857,-0.030810606835293797],\"type\":\"scatter\"}],                        {\"legend\":{\"bgcolor\":\"#F5F6F9\",\"font\":{\"color\":\"#4D5663\"}},\"paper_bgcolor\":\"#F5F6F9\",\"plot_bgcolor\":\"#F5F6F9\",\"template\":{\"data\":{\"barpolar\":[{\"marker\":{\"line\":{\"color\":\"#E5ECF6\",\"width\":0.5},\"pattern\":{\"fillmode\":\"overlay\",\"size\":10,\"solidity\":0.2}},\"type\":\"barpolar\"}],\"bar\":[{\"error_x\":{\"color\":\"#2a3f5f\"},\"error_y\":{\"color\":\"#2a3f5f\"},\"marker\":{\"line\":{\"color\":\"#E5ECF6\",\"width\":0.5},\"pattern\":{\"fillmode\":\"overlay\",\"size\":10,\"solidity\":0.2}},\"type\":\"bar\"}],\"carpet\":[{\"aaxis\":{\"endlinecolor\":\"#2a3f5f\",\"gridcolor\":\"white\",\"linecolor\":\"white\",\"minorgridcolor\":\"white\",\"startlinecolor\":\"#2a3f5f\"},\"baxis\":{\"endlinecolor\":\"#2a3f5f\",\"gridcolor\":\"white\",\"linecolor\":\"white\",\"minorgridcolor\":\"white\",\"startlinecolor\":\"#2a3f5f\"},\"type\":\"carpet\"}],\"choropleth\":[{\"colorbar\":{\"outlinewidth\":0,\"ticks\":\"\"},\"type\":\"choropleth\"}],\"contourcarpet\":[{\"colorbar\":{\"outlinewidth\":0,\"ticks\":\"\"},\"type\":\"contourcarpet\"}],\"contour\":[{\"colorbar\":{\"outlinewidth\":0,\"ticks\":\"\"},\"colorscale\":[[0.0,\"#0d0887\"],[0.1111111111111111,\"#46039f\"],[0.2222222222222222,\"#7201a8\"],[0.3333333333333333,\"#9c179e\"],[0.4444444444444444,\"#bd3786\"],[0.5555555555555556,\"#d8576b\"],[0.6666666666666666,\"#ed7953\"],[0.7777777777777778,\"#fb9f3a\"],[0.8888888888888888,\"#fdca26\"],[1.0,\"#f0f921\"]],\"type\":\"contour\"}],\"heatmapgl\":[{\"colorbar\":{\"outlinewidth\":0,\"ticks\":\"\"},\"colorscale\":[[0.0,\"#0d0887\"],[0.1111111111111111,\"#46039f\"],[0.2222222222222222,\"#7201a8\"],[0.3333333333333333,\"#9c179e\"],[0.4444444444444444,\"#bd3786\"],[0.5555555555555556,\"#d8576b\"],[0.6666666666666666,\"#ed7953\"],[0.7777777777777778,\"#fb9f3a\"],[0.8888888888888888,\"#fdca26\"],[1.0,\"#f0f921\"]],\"type\":\"heatmapgl\"}],\"heatmap\":[{\"colorbar\":{\"outlinewidth\":0,\"ticks\":\"\"},\"colorscale\":[[0.0,\"#0d0887\"],[0.1111111111111111,\"#46039f\"],[0.2222222222222222,\"#7201a8\"],[0.3333333333333333,\"#9c179e\"],[0.4444444444444444,\"#bd3786\"],[0.5555555555555556,\"#d8576b\"],[0.6666666666666666,\"#ed7953\"],[0.7777777777777778,\"#fb9f3a\"],[0.8888888888888888,\"#fdca26\"],[1.0,\"#f0f921\"]],\"type\":\"heatmap\"}],\"histogram2dcontour\":[{\"colorbar\":{\"outlinewidth\":0,\"ticks\":\"\"},\"colorscale\":[[0.0,\"#0d0887\"],[0.1111111111111111,\"#46039f\"],[0.2222222222222222,\"#7201a8\"],[0.3333333333333333,\"#9c179e\"],[0.4444444444444444,\"#bd3786\"],[0.5555555555555556,\"#d8576b\"],[0.6666666666666666,\"#ed7953\"],[0.7777777777777778,\"#fb9f3a\"],[0.8888888888888888,\"#fdca26\"],[1.0,\"#f0f921\"]],\"type\":\"histogram2dcontour\"}],\"histogram2d\":[{\"colorbar\":{\"outlinewidth\":0,\"ticks\":\"\"},\"colorscale\":[[0.0,\"#0d0887\"],[0.1111111111111111,\"#46039f\"],[0.2222222222222222,\"#7201a8\"],[0.3333333333333333,\"#9c179e\"],[0.4444444444444444,\"#bd3786\"],[0.5555555555555556,\"#d8576b\"],[0.6666666666666666,\"#ed7953\"],[0.7777777777777778,\"#fb9f3a\"],[0.8888888888888888,\"#fdca26\"],[1.0,\"#f0f921\"]],\"type\":\"histogram2d\"}],\"histogram\":[{\"marker\":{\"pattern\":{\"fillmode\":\"overlay\",\"size\":10,\"solidity\":0.2}},\"type\":\"histogram\"}],\"mesh3d\":[{\"colorbar\":{\"outlinewidth\":0,\"ticks\":\"\"},\"type\":\"mesh3d\"}],\"parcoords\":[{\"line\":{\"colorbar\":{\"outlinewidth\":0,\"ticks\":\"\"}},\"type\":\"parcoords\"}],\"pie\":[{\"automargin\":true,\"type\":\"pie\"}],\"scatter3d\":[{\"line\":{\"colorbar\":{\"outlinewidth\":0,\"ticks\":\"\"}},\"marker\":{\"colorbar\":{\"outlinewidth\":0,\"ticks\":\"\"}},\"type\":\"scatter3d\"}],\"scattercarpet\":[{\"marker\":{\"colorbar\":{\"outlinewidth\":0,\"ticks\":\"\"}},\"type\":\"scattercarpet\"}],\"scattergeo\":[{\"marker\":{\"colorbar\":{\"outlinewidth\":0,\"ticks\":\"\"}},\"type\":\"scattergeo\"}],\"scattergl\":[{\"marker\":{\"colorbar\":{\"outlinewidth\":0,\"ticks\":\"\"}},\"type\":\"scattergl\"}],\"scattermapbox\":[{\"marker\":{\"colorbar\":{\"outlinewidth\":0,\"ticks\":\"\"}},\"type\":\"scattermapbox\"}],\"scatterpolargl\":[{\"marker\":{\"colorbar\":{\"outlinewidth\":0,\"ticks\":\"\"}},\"type\":\"scatterpolargl\"}],\"scatterpolar\":[{\"marker\":{\"colorbar\":{\"outlinewidth\":0,\"ticks\":\"\"}},\"type\":\"scatterpolar\"}],\"scatter\":[{\"fillpattern\":{\"fillmode\":\"overlay\",\"size\":10,\"solidity\":0.2},\"type\":\"scatter\"}],\"scatterternary\":[{\"marker\":{\"colorbar\":{\"outlinewidth\":0,\"ticks\":\"\"}},\"type\":\"scatterternary\"}],\"surface\":[{\"colorbar\":{\"outlinewidth\":0,\"ticks\":\"\"},\"colorscale\":[[0.0,\"#0d0887\"],[0.1111111111111111,\"#46039f\"],[0.2222222222222222,\"#7201a8\"],[0.3333333333333333,\"#9c179e\"],[0.4444444444444444,\"#bd3786\"],[0.5555555555555556,\"#d8576b\"],[0.6666666666666666,\"#ed7953\"],[0.7777777777777778,\"#fb9f3a\"],[0.8888888888888888,\"#fdca26\"],[1.0,\"#f0f921\"]],\"type\":\"surface\"}],\"table\":[{\"cells\":{\"fill\":{\"color\":\"#EBF0F8\"},\"line\":{\"color\":\"white\"}},\"header\":{\"fill\":{\"color\":\"#C8D4E3\"},\"line\":{\"color\":\"white\"}},\"type\":\"table\"}]},\"layout\":{\"annotationdefaults\":{\"arrowcolor\":\"#2a3f5f\",\"arrowhead\":0,\"arrowwidth\":1},\"autotypenumbers\":\"strict\",\"coloraxis\":{\"colorbar\":{\"outlinewidth\":0,\"ticks\":\"\"}},\"colorscale\":{\"diverging\":[[0,\"#8e0152\"],[0.1,\"#c51b7d\"],[0.2,\"#de77ae\"],[0.3,\"#f1b6da\"],[0.4,\"#fde0ef\"],[0.5,\"#f7f7f7\"],[0.6,\"#e6f5d0\"],[0.7,\"#b8e186\"],[0.8,\"#7fbc41\"],[0.9,\"#4d9221\"],[1,\"#276419\"]],\"sequential\":[[0.0,\"#0d0887\"],[0.1111111111111111,\"#46039f\"],[0.2222222222222222,\"#7201a8\"],[0.3333333333333333,\"#9c179e\"],[0.4444444444444444,\"#bd3786\"],[0.5555555555555556,\"#d8576b\"],[0.6666666666666666,\"#ed7953\"],[0.7777777777777778,\"#fb9f3a\"],[0.8888888888888888,\"#fdca26\"],[1.0,\"#f0f921\"]],\"sequentialminus\":[[0.0,\"#0d0887\"],[0.1111111111111111,\"#46039f\"],[0.2222222222222222,\"#7201a8\"],[0.3333333333333333,\"#9c179e\"],[0.4444444444444444,\"#bd3786\"],[0.5555555555555556,\"#d8576b\"],[0.6666666666666666,\"#ed7953\"],[0.7777777777777778,\"#fb9f3a\"],[0.8888888888888888,\"#fdca26\"],[1.0,\"#f0f921\"]]},\"colorway\":[\"#636efa\",\"#EF553B\",\"#00cc96\",\"#ab63fa\",\"#FFA15A\",\"#19d3f3\",\"#FF6692\",\"#B6E880\",\"#FF97FF\",\"#FECB52\"],\"font\":{\"color\":\"#2a3f5f\"},\"geo\":{\"bgcolor\":\"white\",\"lakecolor\":\"white\",\"landcolor\":\"#E5ECF6\",\"showlakes\":true,\"showland\":true,\"subunitcolor\":\"white\"},\"hoverlabel\":{\"align\":\"left\"},\"hovermode\":\"closest\",\"mapbox\":{\"style\":\"light\"},\"paper_bgcolor\":\"white\",\"plot_bgcolor\":\"#E5ECF6\",\"polar\":{\"angularaxis\":{\"gridcolor\":\"white\",\"linecolor\":\"white\",\"ticks\":\"\"},\"bgcolor\":\"#E5ECF6\",\"radialaxis\":{\"gridcolor\":\"white\",\"linecolor\":\"white\",\"ticks\":\"\"}},\"scene\":{\"xaxis\":{\"backgroundcolor\":\"#E5ECF6\",\"gridcolor\":\"white\",\"gridwidth\":2,\"linecolor\":\"white\",\"showbackground\":true,\"ticks\":\"\",\"zerolinecolor\":\"white\"},\"yaxis\":{\"backgroundcolor\":\"#E5ECF6\",\"gridcolor\":\"white\",\"gridwidth\":2,\"linecolor\":\"white\",\"showbackground\":true,\"ticks\":\"\",\"zerolinecolor\":\"white\"},\"zaxis\":{\"backgroundcolor\":\"#E5ECF6\",\"gridcolor\":\"white\",\"gridwidth\":2,\"linecolor\":\"white\",\"showbackground\":true,\"ticks\":\"\",\"zerolinecolor\":\"white\"}},\"shapedefaults\":{\"line\":{\"color\":\"#2a3f5f\"}},\"ternary\":{\"aaxis\":{\"gridcolor\":\"white\",\"linecolor\":\"white\",\"ticks\":\"\"},\"baxis\":{\"gridcolor\":\"white\",\"linecolor\":\"white\",\"ticks\":\"\"},\"bgcolor\":\"#E5ECF6\",\"caxis\":{\"gridcolor\":\"white\",\"linecolor\":\"white\",\"ticks\":\"\"}},\"title\":{\"x\":0.05},\"xaxis\":{\"automargin\":true,\"gridcolor\":\"white\",\"linecolor\":\"white\",\"ticks\":\"\",\"title\":{\"standoff\":15},\"zerolinecolor\":\"white\",\"zerolinewidth\":2},\"yaxis\":{\"automargin\":true,\"gridcolor\":\"white\",\"linecolor\":\"white\",\"ticks\":\"\",\"title\":{\"standoff\":15},\"zerolinecolor\":\"white\",\"zerolinewidth\":2}}},\"title\":{\"font\":{\"color\":\"#4D5663\"},\"text\":\"Daily Log Returns\"},\"xaxis\":{\"gridcolor\":\"#E1E5ED\",\"showgrid\":true,\"tickfont\":{\"color\":\"#4D5663\"},\"title\":{\"font\":{\"color\":\"#4D5663\"},\"text\":\"\"},\"zerolinecolor\":\"#E1E5ED\"},\"yaxis\":{\"gridcolor\":\"#E1E5ED\",\"showgrid\":true,\"tickfont\":{\"color\":\"#4D5663\"},\"title\":{\"font\":{\"color\":\"#4D5663\"},\"text\":\"\"},\"zerolinecolor\":\"#E1E5ED\"}},                        {\"showLink\": true, \"linkText\": \"Export to plot.ly\", \"plotlyServerURL\": \"https://plot.ly\", \"responsive\": true}                    ).then(function(){\n",
       "                            \n",
       "var gd = document.getElementById('d834b585-fb2e-428f-a89c-dc669ecedc82');\n",
       "var x = new MutationObserver(function (mutations, observer) {{\n",
       "        var display = window.getComputedStyle(gd).display;\n",
       "        if (!display || display === 'none') {{\n",
       "            console.log([gd, 'removed!']);\n",
       "            Plotly.purge(gd);\n",
       "            observer.disconnect();\n",
       "        }}\n",
       "}});\n",
       "\n",
       "// Listen for the removal of the full notebook cells\n",
       "var notebookContainer = gd.closest('#notebook-container');\n",
       "if (notebookContainer) {{\n",
       "    x.observe(notebookContainer, {childList: true});\n",
       "}}\n",
       "\n",
       "// Listen for the clearing of the current output cell\n",
       "var outputEl = gd.closest('.output');\n",
       "if (outputEl) {{\n",
       "    x.observe(outputEl, {childList: true});\n",
       "}}\n",
       "\n",
       "                        })                };                });            </script>        </div>"
      ]
     },
     "metadata": {},
     "output_type": "display_data"
    }
   ],
   "source": [
    "# Plot Daily Returns\n",
    "daily_returns[['AAPL','GOOG']].iplot(title='Daily Log Returns')"
   ]
  },
  {
   "cell_type": "code",
   "execution_count": 38,
   "metadata": {},
   "outputs": [
    {
     "data": {
      "application/vnd.plotly.v1+json": {
       "config": {
        "linkText": "Export to plot.ly",
        "plotlyServerURL": "https://plot.ly",
        "showLink": true
       },
       "data": [
        {
         "marker": {
          "color": "rgba(255, 153, 51, 0.6)",
          "line": {
           "color": "rgba(255, 153, 51, 1.0)",
           "width": 1
          }
         },
         "name": "None",
         "orientation": "v",
         "text": "",
         "type": "bar",
         "x": [
          "AAPL",
          "AMZN",
          "FB",
          "GOOG",
          "NFLX"
         ],
         "y": [
          -0.4404791586299881,
          -0.8241977658026721,
          -1.4292277980360817,
          -0.42813243804056833,
          -2.3724489315492527
         ]
        }
       ],
       "layout": {
        "legend": {
         "bgcolor": "#F5F6F9",
         "font": {
          "color": "#4D5663"
         }
        },
        "paper_bgcolor": "#F5F6F9",
        "plot_bgcolor": "#F5F6F9",
        "template": {
         "data": {
          "bar": [
           {
            "error_x": {
             "color": "#2a3f5f"
            },
            "error_y": {
             "color": "#2a3f5f"
            },
            "marker": {
             "line": {
              "color": "#E5ECF6",
              "width": 0.5
             },
             "pattern": {
              "fillmode": "overlay",
              "size": 10,
              "solidity": 0.2
             }
            },
            "type": "bar"
           }
          ],
          "barpolar": [
           {
            "marker": {
             "line": {
              "color": "#E5ECF6",
              "width": 0.5
             },
             "pattern": {
              "fillmode": "overlay",
              "size": 10,
              "solidity": 0.2
             }
            },
            "type": "barpolar"
           }
          ],
          "carpet": [
           {
            "aaxis": {
             "endlinecolor": "#2a3f5f",
             "gridcolor": "white",
             "linecolor": "white",
             "minorgridcolor": "white",
             "startlinecolor": "#2a3f5f"
            },
            "baxis": {
             "endlinecolor": "#2a3f5f",
             "gridcolor": "white",
             "linecolor": "white",
             "minorgridcolor": "white",
             "startlinecolor": "#2a3f5f"
            },
            "type": "carpet"
           }
          ],
          "choropleth": [
           {
            "colorbar": {
             "outlinewidth": 0,
             "ticks": ""
            },
            "type": "choropleth"
           }
          ],
          "contour": [
           {
            "colorbar": {
             "outlinewidth": 0,
             "ticks": ""
            },
            "colorscale": [
             [
              0,
              "#0d0887"
             ],
             [
              0.1111111111111111,
              "#46039f"
             ],
             [
              0.2222222222222222,
              "#7201a8"
             ],
             [
              0.3333333333333333,
              "#9c179e"
             ],
             [
              0.4444444444444444,
              "#bd3786"
             ],
             [
              0.5555555555555556,
              "#d8576b"
             ],
             [
              0.6666666666666666,
              "#ed7953"
             ],
             [
              0.7777777777777778,
              "#fb9f3a"
             ],
             [
              0.8888888888888888,
              "#fdca26"
             ],
             [
              1,
              "#f0f921"
             ]
            ],
            "type": "contour"
           }
          ],
          "contourcarpet": [
           {
            "colorbar": {
             "outlinewidth": 0,
             "ticks": ""
            },
            "type": "contourcarpet"
           }
          ],
          "heatmap": [
           {
            "colorbar": {
             "outlinewidth": 0,
             "ticks": ""
            },
            "colorscale": [
             [
              0,
              "#0d0887"
             ],
             [
              0.1111111111111111,
              "#46039f"
             ],
             [
              0.2222222222222222,
              "#7201a8"
             ],
             [
              0.3333333333333333,
              "#9c179e"
             ],
             [
              0.4444444444444444,
              "#bd3786"
             ],
             [
              0.5555555555555556,
              "#d8576b"
             ],
             [
              0.6666666666666666,
              "#ed7953"
             ],
             [
              0.7777777777777778,
              "#fb9f3a"
             ],
             [
              0.8888888888888888,
              "#fdca26"
             ],
             [
              1,
              "#f0f921"
             ]
            ],
            "type": "heatmap"
           }
          ],
          "heatmapgl": [
           {
            "colorbar": {
             "outlinewidth": 0,
             "ticks": ""
            },
            "colorscale": [
             [
              0,
              "#0d0887"
             ],
             [
              0.1111111111111111,
              "#46039f"
             ],
             [
              0.2222222222222222,
              "#7201a8"
             ],
             [
              0.3333333333333333,
              "#9c179e"
             ],
             [
              0.4444444444444444,
              "#bd3786"
             ],
             [
              0.5555555555555556,
              "#d8576b"
             ],
             [
              0.6666666666666666,
              "#ed7953"
             ],
             [
              0.7777777777777778,
              "#fb9f3a"
             ],
             [
              0.8888888888888888,
              "#fdca26"
             ],
             [
              1,
              "#f0f921"
             ]
            ],
            "type": "heatmapgl"
           }
          ],
          "histogram": [
           {
            "marker": {
             "pattern": {
              "fillmode": "overlay",
              "size": 10,
              "solidity": 0.2
             }
            },
            "type": "histogram"
           }
          ],
          "histogram2d": [
           {
            "colorbar": {
             "outlinewidth": 0,
             "ticks": ""
            },
            "colorscale": [
             [
              0,
              "#0d0887"
             ],
             [
              0.1111111111111111,
              "#46039f"
             ],
             [
              0.2222222222222222,
              "#7201a8"
             ],
             [
              0.3333333333333333,
              "#9c179e"
             ],
             [
              0.4444444444444444,
              "#bd3786"
             ],
             [
              0.5555555555555556,
              "#d8576b"
             ],
             [
              0.6666666666666666,
              "#ed7953"
             ],
             [
              0.7777777777777778,
              "#fb9f3a"
             ],
             [
              0.8888888888888888,
              "#fdca26"
             ],
             [
              1,
              "#f0f921"
             ]
            ],
            "type": "histogram2d"
           }
          ],
          "histogram2dcontour": [
           {
            "colorbar": {
             "outlinewidth": 0,
             "ticks": ""
            },
            "colorscale": [
             [
              0,
              "#0d0887"
             ],
             [
              0.1111111111111111,
              "#46039f"
             ],
             [
              0.2222222222222222,
              "#7201a8"
             ],
             [
              0.3333333333333333,
              "#9c179e"
             ],
             [
              0.4444444444444444,
              "#bd3786"
             ],
             [
              0.5555555555555556,
              "#d8576b"
             ],
             [
              0.6666666666666666,
              "#ed7953"
             ],
             [
              0.7777777777777778,
              "#fb9f3a"
             ],
             [
              0.8888888888888888,
              "#fdca26"
             ],
             [
              1,
              "#f0f921"
             ]
            ],
            "type": "histogram2dcontour"
           }
          ],
          "mesh3d": [
           {
            "colorbar": {
             "outlinewidth": 0,
             "ticks": ""
            },
            "type": "mesh3d"
           }
          ],
          "parcoords": [
           {
            "line": {
             "colorbar": {
              "outlinewidth": 0,
              "ticks": ""
             }
            },
            "type": "parcoords"
           }
          ],
          "pie": [
           {
            "automargin": true,
            "type": "pie"
           }
          ],
          "scatter": [
           {
            "fillpattern": {
             "fillmode": "overlay",
             "size": 10,
             "solidity": 0.2
            },
            "type": "scatter"
           }
          ],
          "scatter3d": [
           {
            "line": {
             "colorbar": {
              "outlinewidth": 0,
              "ticks": ""
             }
            },
            "marker": {
             "colorbar": {
              "outlinewidth": 0,
              "ticks": ""
             }
            },
            "type": "scatter3d"
           }
          ],
          "scattercarpet": [
           {
            "marker": {
             "colorbar": {
              "outlinewidth": 0,
              "ticks": ""
             }
            },
            "type": "scattercarpet"
           }
          ],
          "scattergeo": [
           {
            "marker": {
             "colorbar": {
              "outlinewidth": 0,
              "ticks": ""
             }
            },
            "type": "scattergeo"
           }
          ],
          "scattergl": [
           {
            "marker": {
             "colorbar": {
              "outlinewidth": 0,
              "ticks": ""
             }
            },
            "type": "scattergl"
           }
          ],
          "scattermapbox": [
           {
            "marker": {
             "colorbar": {
              "outlinewidth": 0,
              "ticks": ""
             }
            },
            "type": "scattermapbox"
           }
          ],
          "scatterpolar": [
           {
            "marker": {
             "colorbar": {
              "outlinewidth": 0,
              "ticks": ""
             }
            },
            "type": "scatterpolar"
           }
          ],
          "scatterpolargl": [
           {
            "marker": {
             "colorbar": {
              "outlinewidth": 0,
              "ticks": ""
             }
            },
            "type": "scatterpolargl"
           }
          ],
          "scatterternary": [
           {
            "marker": {
             "colorbar": {
              "outlinewidth": 0,
              "ticks": ""
             }
            },
            "type": "scatterternary"
           }
          ],
          "surface": [
           {
            "colorbar": {
             "outlinewidth": 0,
             "ticks": ""
            },
            "colorscale": [
             [
              0,
              "#0d0887"
             ],
             [
              0.1111111111111111,
              "#46039f"
             ],
             [
              0.2222222222222222,
              "#7201a8"
             ],
             [
              0.3333333333333333,
              "#9c179e"
             ],
             [
              0.4444444444444444,
              "#bd3786"
             ],
             [
              0.5555555555555556,
              "#d8576b"
             ],
             [
              0.6666666666666666,
              "#ed7953"
             ],
             [
              0.7777777777777778,
              "#fb9f3a"
             ],
             [
              0.8888888888888888,
              "#fdca26"
             ],
             [
              1,
              "#f0f921"
             ]
            ],
            "type": "surface"
           }
          ],
          "table": [
           {
            "cells": {
             "fill": {
              "color": "#EBF0F8"
             },
             "line": {
              "color": "white"
             }
            },
            "header": {
             "fill": {
              "color": "#C8D4E3"
             },
             "line": {
              "color": "white"
             }
            },
            "type": "table"
           }
          ]
         },
         "layout": {
          "annotationdefaults": {
           "arrowcolor": "#2a3f5f",
           "arrowhead": 0,
           "arrowwidth": 1
          },
          "autotypenumbers": "strict",
          "coloraxis": {
           "colorbar": {
            "outlinewidth": 0,
            "ticks": ""
           }
          },
          "colorscale": {
           "diverging": [
            [
             0,
             "#8e0152"
            ],
            [
             0.1,
             "#c51b7d"
            ],
            [
             0.2,
             "#de77ae"
            ],
            [
             0.3,
             "#f1b6da"
            ],
            [
             0.4,
             "#fde0ef"
            ],
            [
             0.5,
             "#f7f7f7"
            ],
            [
             0.6,
             "#e6f5d0"
            ],
            [
             0.7,
             "#b8e186"
            ],
            [
             0.8,
             "#7fbc41"
            ],
            [
             0.9,
             "#4d9221"
            ],
            [
             1,
             "#276419"
            ]
           ],
           "sequential": [
            [
             0,
             "#0d0887"
            ],
            [
             0.1111111111111111,
             "#46039f"
            ],
            [
             0.2222222222222222,
             "#7201a8"
            ],
            [
             0.3333333333333333,
             "#9c179e"
            ],
            [
             0.4444444444444444,
             "#bd3786"
            ],
            [
             0.5555555555555556,
             "#d8576b"
            ],
            [
             0.6666666666666666,
             "#ed7953"
            ],
            [
             0.7777777777777778,
             "#fb9f3a"
            ],
            [
             0.8888888888888888,
             "#fdca26"
            ],
            [
             1,
             "#f0f921"
            ]
           ],
           "sequentialminus": [
            [
             0,
             "#0d0887"
            ],
            [
             0.1111111111111111,
             "#46039f"
            ],
            [
             0.2222222222222222,
             "#7201a8"
            ],
            [
             0.3333333333333333,
             "#9c179e"
            ],
            [
             0.4444444444444444,
             "#bd3786"
            ],
            [
             0.5555555555555556,
             "#d8576b"
            ],
            [
             0.6666666666666666,
             "#ed7953"
            ],
            [
             0.7777777777777778,
             "#fb9f3a"
            ],
            [
             0.8888888888888888,
             "#fdca26"
            ],
            [
             1,
             "#f0f921"
            ]
           ]
          },
          "colorway": [
           "#636efa",
           "#EF553B",
           "#00cc96",
           "#ab63fa",
           "#FFA15A",
           "#19d3f3",
           "#FF6692",
           "#B6E880",
           "#FF97FF",
           "#FECB52"
          ],
          "font": {
           "color": "#2a3f5f"
          },
          "geo": {
           "bgcolor": "white",
           "lakecolor": "white",
           "landcolor": "#E5ECF6",
           "showlakes": true,
           "showland": true,
           "subunitcolor": "white"
          },
          "hoverlabel": {
           "align": "left"
          },
          "hovermode": "closest",
          "mapbox": {
           "style": "light"
          },
          "paper_bgcolor": "white",
          "plot_bgcolor": "#E5ECF6",
          "polar": {
           "angularaxis": {
            "gridcolor": "white",
            "linecolor": "white",
            "ticks": ""
           },
           "bgcolor": "#E5ECF6",
           "radialaxis": {
            "gridcolor": "white",
            "linecolor": "white",
            "ticks": ""
           }
          },
          "scene": {
           "xaxis": {
            "backgroundcolor": "#E5ECF6",
            "gridcolor": "white",
            "gridwidth": 2,
            "linecolor": "white",
            "showbackground": true,
            "ticks": "",
            "zerolinecolor": "white"
           },
           "yaxis": {
            "backgroundcolor": "#E5ECF6",
            "gridcolor": "white",
            "gridwidth": 2,
            "linecolor": "white",
            "showbackground": true,
            "ticks": "",
            "zerolinecolor": "white"
           },
           "zaxis": {
            "backgroundcolor": "#E5ECF6",
            "gridcolor": "white",
            "gridwidth": 2,
            "linecolor": "white",
            "showbackground": true,
            "ticks": "",
            "zerolinecolor": "white"
           }
          },
          "shapedefaults": {
           "line": {
            "color": "#2a3f5f"
           }
          },
          "ternary": {
           "aaxis": {
            "gridcolor": "white",
            "linecolor": "white",
            "ticks": ""
           },
           "baxis": {
            "gridcolor": "white",
            "linecolor": "white",
            "ticks": ""
           },
           "bgcolor": "#E5ECF6",
           "caxis": {
            "gridcolor": "white",
            "linecolor": "white",
            "ticks": ""
           }
          },
          "title": {
           "x": 0.05
          },
          "xaxis": {
           "automargin": true,
           "gridcolor": "white",
           "linecolor": "white",
           "ticks": "",
           "title": {
            "standoff": 15
           },
           "zerolinecolor": "white",
           "zerolinewidth": 2
          },
          "yaxis": {
           "automargin": true,
           "gridcolor": "white",
           "linecolor": "white",
           "ticks": "",
           "title": {
            "standoff": 15
           },
           "zerolinecolor": "white",
           "zerolinewidth": 2
          }
         }
        },
        "title": {
         "font": {
          "color": "#4D5663"
         }
        },
        "xaxis": {
         "gridcolor": "#E1E5ED",
         "showgrid": true,
         "tickfont": {
          "color": "#4D5663"
         },
         "title": {
          "font": {
           "color": "#4D5663"
          },
          "text": ""
         },
         "zerolinecolor": "#E1E5ED"
        },
        "yaxis": {
         "gridcolor": "#E1E5ED",
         "showgrid": true,
         "tickfont": {
          "color": "#4D5663"
         },
         "title": {
          "font": {
           "color": "#4D5663"
          },
          "text": ""
         },
         "zerolinecolor": "#E1E5ED"
        }
       }
      },
      "text/html": [
       "<div>                            <div id=\"cddcb1a6-871b-40b1-8738-d950850ec6f4\" class=\"plotly-graph-div\" style=\"height:525px; width:100%;\"></div>            <script type=\"text/javascript\">                require([\"plotly\"], function(Plotly) {                    window.PLOTLYENV=window.PLOTLYENV || {};\n",
       "                    window.PLOTLYENV.BASE_URL='https://plot.ly';                                    if (document.getElementById(\"cddcb1a6-871b-40b1-8738-d950850ec6f4\")) {                    Plotly.newPlot(                        \"cddcb1a6-871b-40b1-8738-d950850ec6f4\",                        [{\"marker\":{\"color\":\"rgba(255, 153, 51, 0.6)\",\"line\":{\"color\":\"rgba(255, 153, 51, 1.0)\",\"width\":1}},\"name\":\"None\",\"orientation\":\"v\",\"text\":\"\",\"x\":[\"AAPL\",\"AMZN\",\"FB\",\"GOOG\",\"NFLX\"],\"y\":[-0.4404791586299881,-0.8241977658026721,-1.4292277980360817,-0.42813243804056833,-2.3724489315492527],\"type\":\"bar\"}],                        {\"legend\":{\"bgcolor\":\"#F5F6F9\",\"font\":{\"color\":\"#4D5663\"}},\"paper_bgcolor\":\"#F5F6F9\",\"plot_bgcolor\":\"#F5F6F9\",\"template\":{\"data\":{\"barpolar\":[{\"marker\":{\"line\":{\"color\":\"#E5ECF6\",\"width\":0.5},\"pattern\":{\"fillmode\":\"overlay\",\"size\":10,\"solidity\":0.2}},\"type\":\"barpolar\"}],\"bar\":[{\"error_x\":{\"color\":\"#2a3f5f\"},\"error_y\":{\"color\":\"#2a3f5f\"},\"marker\":{\"line\":{\"color\":\"#E5ECF6\",\"width\":0.5},\"pattern\":{\"fillmode\":\"overlay\",\"size\":10,\"solidity\":0.2}},\"type\":\"bar\"}],\"carpet\":[{\"aaxis\":{\"endlinecolor\":\"#2a3f5f\",\"gridcolor\":\"white\",\"linecolor\":\"white\",\"minorgridcolor\":\"white\",\"startlinecolor\":\"#2a3f5f\"},\"baxis\":{\"endlinecolor\":\"#2a3f5f\",\"gridcolor\":\"white\",\"linecolor\":\"white\",\"minorgridcolor\":\"white\",\"startlinecolor\":\"#2a3f5f\"},\"type\":\"carpet\"}],\"choropleth\":[{\"colorbar\":{\"outlinewidth\":0,\"ticks\":\"\"},\"type\":\"choropleth\"}],\"contourcarpet\":[{\"colorbar\":{\"outlinewidth\":0,\"ticks\":\"\"},\"type\":\"contourcarpet\"}],\"contour\":[{\"colorbar\":{\"outlinewidth\":0,\"ticks\":\"\"},\"colorscale\":[[0.0,\"#0d0887\"],[0.1111111111111111,\"#46039f\"],[0.2222222222222222,\"#7201a8\"],[0.3333333333333333,\"#9c179e\"],[0.4444444444444444,\"#bd3786\"],[0.5555555555555556,\"#d8576b\"],[0.6666666666666666,\"#ed7953\"],[0.7777777777777778,\"#fb9f3a\"],[0.8888888888888888,\"#fdca26\"],[1.0,\"#f0f921\"]],\"type\":\"contour\"}],\"heatmapgl\":[{\"colorbar\":{\"outlinewidth\":0,\"ticks\":\"\"},\"colorscale\":[[0.0,\"#0d0887\"],[0.1111111111111111,\"#46039f\"],[0.2222222222222222,\"#7201a8\"],[0.3333333333333333,\"#9c179e\"],[0.4444444444444444,\"#bd3786\"],[0.5555555555555556,\"#d8576b\"],[0.6666666666666666,\"#ed7953\"],[0.7777777777777778,\"#fb9f3a\"],[0.8888888888888888,\"#fdca26\"],[1.0,\"#f0f921\"]],\"type\":\"heatmapgl\"}],\"heatmap\":[{\"colorbar\":{\"outlinewidth\":0,\"ticks\":\"\"},\"colorscale\":[[0.0,\"#0d0887\"],[0.1111111111111111,\"#46039f\"],[0.2222222222222222,\"#7201a8\"],[0.3333333333333333,\"#9c179e\"],[0.4444444444444444,\"#bd3786\"],[0.5555555555555556,\"#d8576b\"],[0.6666666666666666,\"#ed7953\"],[0.7777777777777778,\"#fb9f3a\"],[0.8888888888888888,\"#fdca26\"],[1.0,\"#f0f921\"]],\"type\":\"heatmap\"}],\"histogram2dcontour\":[{\"colorbar\":{\"outlinewidth\":0,\"ticks\":\"\"},\"colorscale\":[[0.0,\"#0d0887\"],[0.1111111111111111,\"#46039f\"],[0.2222222222222222,\"#7201a8\"],[0.3333333333333333,\"#9c179e\"],[0.4444444444444444,\"#bd3786\"],[0.5555555555555556,\"#d8576b\"],[0.6666666666666666,\"#ed7953\"],[0.7777777777777778,\"#fb9f3a\"],[0.8888888888888888,\"#fdca26\"],[1.0,\"#f0f921\"]],\"type\":\"histogram2dcontour\"}],\"histogram2d\":[{\"colorbar\":{\"outlinewidth\":0,\"ticks\":\"\"},\"colorscale\":[[0.0,\"#0d0887\"],[0.1111111111111111,\"#46039f\"],[0.2222222222222222,\"#7201a8\"],[0.3333333333333333,\"#9c179e\"],[0.4444444444444444,\"#bd3786\"],[0.5555555555555556,\"#d8576b\"],[0.6666666666666666,\"#ed7953\"],[0.7777777777777778,\"#fb9f3a\"],[0.8888888888888888,\"#fdca26\"],[1.0,\"#f0f921\"]],\"type\":\"histogram2d\"}],\"histogram\":[{\"marker\":{\"pattern\":{\"fillmode\":\"overlay\",\"size\":10,\"solidity\":0.2}},\"type\":\"histogram\"}],\"mesh3d\":[{\"colorbar\":{\"outlinewidth\":0,\"ticks\":\"\"},\"type\":\"mesh3d\"}],\"parcoords\":[{\"line\":{\"colorbar\":{\"outlinewidth\":0,\"ticks\":\"\"}},\"type\":\"parcoords\"}],\"pie\":[{\"automargin\":true,\"type\":\"pie\"}],\"scatter3d\":[{\"line\":{\"colorbar\":{\"outlinewidth\":0,\"ticks\":\"\"}},\"marker\":{\"colorbar\":{\"outlinewidth\":0,\"ticks\":\"\"}},\"type\":\"scatter3d\"}],\"scattercarpet\":[{\"marker\":{\"colorbar\":{\"outlinewidth\":0,\"ticks\":\"\"}},\"type\":\"scattercarpet\"}],\"scattergeo\":[{\"marker\":{\"colorbar\":{\"outlinewidth\":0,\"ticks\":\"\"}},\"type\":\"scattergeo\"}],\"scattergl\":[{\"marker\":{\"colorbar\":{\"outlinewidth\":0,\"ticks\":\"\"}},\"type\":\"scattergl\"}],\"scattermapbox\":[{\"marker\":{\"colorbar\":{\"outlinewidth\":0,\"ticks\":\"\"}},\"type\":\"scattermapbox\"}],\"scatterpolargl\":[{\"marker\":{\"colorbar\":{\"outlinewidth\":0,\"ticks\":\"\"}},\"type\":\"scatterpolargl\"}],\"scatterpolar\":[{\"marker\":{\"colorbar\":{\"outlinewidth\":0,\"ticks\":\"\"}},\"type\":\"scatterpolar\"}],\"scatter\":[{\"fillpattern\":{\"fillmode\":\"overlay\",\"size\":10,\"solidity\":0.2},\"type\":\"scatter\"}],\"scatterternary\":[{\"marker\":{\"colorbar\":{\"outlinewidth\":0,\"ticks\":\"\"}},\"type\":\"scatterternary\"}],\"surface\":[{\"colorbar\":{\"outlinewidth\":0,\"ticks\":\"\"},\"colorscale\":[[0.0,\"#0d0887\"],[0.1111111111111111,\"#46039f\"],[0.2222222222222222,\"#7201a8\"],[0.3333333333333333,\"#9c179e\"],[0.4444444444444444,\"#bd3786\"],[0.5555555555555556,\"#d8576b\"],[0.6666666666666666,\"#ed7953\"],[0.7777777777777778,\"#fb9f3a\"],[0.8888888888888888,\"#fdca26\"],[1.0,\"#f0f921\"]],\"type\":\"surface\"}],\"table\":[{\"cells\":{\"fill\":{\"color\":\"#EBF0F8\"},\"line\":{\"color\":\"white\"}},\"header\":{\"fill\":{\"color\":\"#C8D4E3\"},\"line\":{\"color\":\"white\"}},\"type\":\"table\"}]},\"layout\":{\"annotationdefaults\":{\"arrowcolor\":\"#2a3f5f\",\"arrowhead\":0,\"arrowwidth\":1},\"autotypenumbers\":\"strict\",\"coloraxis\":{\"colorbar\":{\"outlinewidth\":0,\"ticks\":\"\"}},\"colorscale\":{\"diverging\":[[0,\"#8e0152\"],[0.1,\"#c51b7d\"],[0.2,\"#de77ae\"],[0.3,\"#f1b6da\"],[0.4,\"#fde0ef\"],[0.5,\"#f7f7f7\"],[0.6,\"#e6f5d0\"],[0.7,\"#b8e186\"],[0.8,\"#7fbc41\"],[0.9,\"#4d9221\"],[1,\"#276419\"]],\"sequential\":[[0.0,\"#0d0887\"],[0.1111111111111111,\"#46039f\"],[0.2222222222222222,\"#7201a8\"],[0.3333333333333333,\"#9c179e\"],[0.4444444444444444,\"#bd3786\"],[0.5555555555555556,\"#d8576b\"],[0.6666666666666666,\"#ed7953\"],[0.7777777777777778,\"#fb9f3a\"],[0.8888888888888888,\"#fdca26\"],[1.0,\"#f0f921\"]],\"sequentialminus\":[[0.0,\"#0d0887\"],[0.1111111111111111,\"#46039f\"],[0.2222222222222222,\"#7201a8\"],[0.3333333333333333,\"#9c179e\"],[0.4444444444444444,\"#bd3786\"],[0.5555555555555556,\"#d8576b\"],[0.6666666666666666,\"#ed7953\"],[0.7777777777777778,\"#fb9f3a\"],[0.8888888888888888,\"#fdca26\"],[1.0,\"#f0f921\"]]},\"colorway\":[\"#636efa\",\"#EF553B\",\"#00cc96\",\"#ab63fa\",\"#FFA15A\",\"#19d3f3\",\"#FF6692\",\"#B6E880\",\"#FF97FF\",\"#FECB52\"],\"font\":{\"color\":\"#2a3f5f\"},\"geo\":{\"bgcolor\":\"white\",\"lakecolor\":\"white\",\"landcolor\":\"#E5ECF6\",\"showlakes\":true,\"showland\":true,\"subunitcolor\":\"white\"},\"hoverlabel\":{\"align\":\"left\"},\"hovermode\":\"closest\",\"mapbox\":{\"style\":\"light\"},\"paper_bgcolor\":\"white\",\"plot_bgcolor\":\"#E5ECF6\",\"polar\":{\"angularaxis\":{\"gridcolor\":\"white\",\"linecolor\":\"white\",\"ticks\":\"\"},\"bgcolor\":\"#E5ECF6\",\"radialaxis\":{\"gridcolor\":\"white\",\"linecolor\":\"white\",\"ticks\":\"\"}},\"scene\":{\"xaxis\":{\"backgroundcolor\":\"#E5ECF6\",\"gridcolor\":\"white\",\"gridwidth\":2,\"linecolor\":\"white\",\"showbackground\":true,\"ticks\":\"\",\"zerolinecolor\":\"white\"},\"yaxis\":{\"backgroundcolor\":\"#E5ECF6\",\"gridcolor\":\"white\",\"gridwidth\":2,\"linecolor\":\"white\",\"showbackground\":true,\"ticks\":\"\",\"zerolinecolor\":\"white\"},\"zaxis\":{\"backgroundcolor\":\"#E5ECF6\",\"gridcolor\":\"white\",\"gridwidth\":2,\"linecolor\":\"white\",\"showbackground\":true,\"ticks\":\"\",\"zerolinecolor\":\"white\"}},\"shapedefaults\":{\"line\":{\"color\":\"#2a3f5f\"}},\"ternary\":{\"aaxis\":{\"gridcolor\":\"white\",\"linecolor\":\"white\",\"ticks\":\"\"},\"baxis\":{\"gridcolor\":\"white\",\"linecolor\":\"white\",\"ticks\":\"\"},\"bgcolor\":\"#E5ECF6\",\"caxis\":{\"gridcolor\":\"white\",\"linecolor\":\"white\",\"ticks\":\"\"}},\"title\":{\"x\":0.05},\"xaxis\":{\"automargin\":true,\"gridcolor\":\"white\",\"linecolor\":\"white\",\"ticks\":\"\",\"title\":{\"standoff\":15},\"zerolinecolor\":\"white\",\"zerolinewidth\":2},\"yaxis\":{\"automargin\":true,\"gridcolor\":\"white\",\"linecolor\":\"white\",\"ticks\":\"\",\"title\":{\"standoff\":15},\"zerolinecolor\":\"white\",\"zerolinewidth\":2}}},\"title\":{\"font\":{\"color\":\"#4D5663\"}},\"xaxis\":{\"gridcolor\":\"#E1E5ED\",\"showgrid\":true,\"tickfont\":{\"color\":\"#4D5663\"},\"title\":{\"font\":{\"color\":\"#4D5663\"},\"text\":\"\"},\"zerolinecolor\":\"#E1E5ED\"},\"yaxis\":{\"gridcolor\":\"#E1E5ED\",\"showgrid\":true,\"tickfont\":{\"color\":\"#4D5663\"},\"title\":{\"font\":{\"color\":\"#4D5663\"},\"text\":\"\"},\"zerolinecolor\":\"#E1E5ED\"}},                        {\"showLink\": true, \"linkText\": \"Export to plot.ly\", \"plotlyServerURL\": \"https://plot.ly\", \"responsive\": true}                    ).then(function(){\n",
       "                            \n",
       "var gd = document.getElementById('cddcb1a6-871b-40b1-8738-d950850ec6f4');\n",
       "var x = new MutationObserver(function (mutations, observer) {{\n",
       "        var display = window.getComputedStyle(gd).display;\n",
       "        if (!display || display === 'none') {{\n",
       "            console.log([gd, 'removed!']);\n",
       "            Plotly.purge(gd);\n",
       "            observer.disconnect();\n",
       "        }}\n",
       "}});\n",
       "\n",
       "// Listen for the removal of the full notebook cells\n",
       "var notebookContainer = gd.closest('#notebook-container');\n",
       "if (notebookContainer) {{\n",
       "    x.observe(notebookContainer, {childList: true});\n",
       "}}\n",
       "\n",
       "// Listen for the clearing of the current output cell\n",
       "var outputEl = gd.closest('.output');\n",
       "if (outputEl) {{\n",
       "    x.observe(outputEl, {childList: true});\n",
       "}}\n",
       "\n",
       "                        })                };                });            </script>        </div>"
      ]
     },
     "metadata": {},
     "output_type": "display_data"
    }
   ],
   "source": [
    "# Plot Mean Annual Returns\n",
    "(daily_returns.mean()*252).iplot(kind='bar')"
   ]
  },
  {
   "cell_type": "code",
   "execution_count": 39,
   "metadata": {},
   "outputs": [
    {
     "data": {
      "text/html": [
       "<div>\n",
       "<style scoped>\n",
       "    .dataframe tbody tr th:only-of-type {\n",
       "        vertical-align: middle;\n",
       "    }\n",
       "\n",
       "    .dataframe tbody tr th {\n",
       "        vertical-align: top;\n",
       "    }\n",
       "\n",
       "    .dataframe thead th {\n",
       "        text-align: right;\n",
       "    }\n",
       "</style>\n",
       "<table border=\"1\" class=\"dataframe\">\n",
       "  <thead>\n",
       "    <tr style=\"text-align: right;\">\n",
       "      <th></th>\n",
       "      <th>AAPL</th>\n",
       "      <th>AMZN</th>\n",
       "      <th>FB</th>\n",
       "      <th>GOOG</th>\n",
       "      <th>NFLX</th>\n",
       "    </tr>\n",
       "    <tr>\n",
       "      <th>Date</th>\n",
       "      <th></th>\n",
       "      <th></th>\n",
       "      <th></th>\n",
       "      <th></th>\n",
       "      <th></th>\n",
       "    </tr>\n",
       "  </thead>\n",
       "  <tbody>\n",
       "    <tr>\n",
       "      <th>2022-01-10</th>\n",
       "      <td>-0.055463</td>\n",
       "      <td>-0.053757</td>\n",
       "      <td>-0.031415</td>\n",
       "      <td>-0.045843</td>\n",
       "      <td>-0.101245</td>\n",
       "    </tr>\n",
       "    <tr>\n",
       "      <th>2022-01-11</th>\n",
       "      <td>-0.026046</td>\n",
       "      <td>-0.012978</td>\n",
       "      <td>-0.006439</td>\n",
       "      <td>-0.030934</td>\n",
       "      <td>-0.088946</td>\n",
       "    </tr>\n",
       "    <tr>\n",
       "      <th>2022-01-12</th>\n",
       "      <td>0.003481</td>\n",
       "      <td>0.005158</td>\n",
       "      <td>0.027655</td>\n",
       "      <td>0.028605</td>\n",
       "      <td>-0.054868</td>\n",
       "    </tr>\n",
       "    <tr>\n",
       "      <th>2022-01-13</th>\n",
       "      <td>0.001104</td>\n",
       "      <td>-0.012575</td>\n",
       "      <td>-0.018151</td>\n",
       "      <td>0.011421</td>\n",
       "      <td>-0.063593</td>\n",
       "    </tr>\n",
       "    <tr>\n",
       "      <th>2022-01-14</th>\n",
       "      <td>0.005214</td>\n",
       "      <td>-0.002562</td>\n",
       "      <td>0.000331</td>\n",
       "      <td>0.020102</td>\n",
       "      <td>-0.028818</td>\n",
       "    </tr>\n",
       "  </tbody>\n",
       "</table>\n",
       "</div>"
      ],
      "text/plain": [
       "                AAPL      AMZN        FB      GOOG      NFLX\n",
       "Date                                                        \n",
       "2022-01-10 -0.055463 -0.053757 -0.031415 -0.045843 -0.101245\n",
       "2022-01-11 -0.026046 -0.012978 -0.006439 -0.030934 -0.088946\n",
       "2022-01-12  0.003481  0.005158  0.027655  0.028605 -0.054868\n",
       "2022-01-13  0.001104 -0.012575 -0.018151  0.011421 -0.063593\n",
       "2022-01-14  0.005214 -0.002562  0.000331  0.020102 -0.028818"
      ]
     },
     "execution_count": 39,
     "metadata": {},
     "output_type": "execute_result"
    }
   ],
   "source": [
    "# To calculate 5 days rolling returns, simply sum daily returns for 5 days as log returns are additive\n",
    "rolling_return = daily_returns.rolling(5).sum().dropna()\n",
    "\n",
    "# Display the last five rows of the data frame to check the output\n",
    "rolling_return.head(5)"
   ]
  },
  {
   "cell_type": "code",
   "execution_count": 40,
   "metadata": {},
   "outputs": [
    {
     "data": {
      "application/vnd.plotly.v1+json": {
       "config": {
        "linkText": "Export to plot.ly",
        "plotlyServerURL": "https://plot.ly",
        "showLink": true
       },
       "data": [
        {
         "line": {
          "color": "rgba(255, 153, 51, 1.0)",
          "dash": "solid",
          "shape": "linear",
          "width": 1.3
         },
         "mode": "lines",
         "name": "NFLX",
         "text": "",
         "type": "scatter",
         "x": [
          "2022-01-10",
          "2022-01-11",
          "2022-01-12",
          "2022-01-13",
          "2022-01-14",
          "2022-01-18",
          "2022-01-19",
          "2022-01-20",
          "2022-01-21",
          "2022-01-24",
          "2022-01-25",
          "2022-01-26",
          "2022-01-27",
          "2022-01-28",
          "2022-01-31",
          "2022-02-01",
          "2022-02-02",
          "2022-02-03",
          "2022-02-04",
          "2022-02-07",
          "2022-02-08",
          "2022-02-09",
          "2022-02-10",
          "2022-02-11",
          "2022-02-14",
          "2022-02-15",
          "2022-02-16",
          "2022-02-17",
          "2022-02-18",
          "2022-02-22",
          "2022-02-23",
          "2022-02-24",
          "2022-02-25",
          "2022-02-28",
          "2022-03-01",
          "2022-03-02",
          "2022-03-03",
          "2022-03-04",
          "2022-03-07",
          "2022-03-08",
          "2022-03-09",
          "2022-03-10",
          "2022-03-11",
          "2022-03-14",
          "2022-03-15",
          "2022-03-16",
          "2022-03-17",
          "2022-03-18",
          "2022-03-21",
          "2022-03-22",
          "2022-03-23",
          "2022-03-24",
          "2022-03-25",
          "2022-03-28",
          "2022-03-29",
          "2022-03-30",
          "2022-03-31",
          "2022-04-01",
          "2022-04-04",
          "2022-04-05",
          "2022-04-06",
          "2022-04-07",
          "2022-04-08",
          "2022-04-11",
          "2022-04-12",
          "2022-04-13",
          "2022-04-14",
          "2022-04-18",
          "2022-04-19",
          "2022-04-20",
          "2022-04-21",
          "2022-04-22",
          "2022-04-25",
          "2022-04-26",
          "2022-04-27",
          "2022-04-28",
          "2022-04-29",
          "2022-05-02",
          "2022-05-03",
          "2022-05-04",
          "2022-05-05",
          "2022-05-06",
          "2022-05-09",
          "2022-05-10",
          "2022-05-11",
          "2022-05-12",
          "2022-05-13",
          "2022-05-16",
          "2022-05-17",
          "2022-05-18",
          "2022-05-19",
          "2022-05-20",
          "2022-05-23",
          "2022-05-24",
          "2022-05-25",
          "2022-05-26",
          "2022-05-27",
          "2022-05-31",
          "2022-06-01",
          "2022-06-02",
          "2022-06-03",
          "2022-06-06",
          "2022-06-07",
          "2022-06-08",
          "2022-06-09",
          "2022-06-10",
          "2022-06-13",
          "2022-06-14",
          "2022-06-15",
          "2022-06-16",
          "2022-06-17",
          "2022-06-21",
          "2022-06-22",
          "2022-06-23",
          "2022-06-24",
          "2022-06-27",
          "2022-06-28",
          "2022-06-29",
          "2022-06-30",
          "2022-07-01",
          "2022-07-05",
          "2022-07-06",
          "2022-07-07",
          "2022-07-08",
          "2022-07-11"
         ],
         "y": [
          -0.10124540076821198,
          -0.08894629746272553,
          -0.054868385936655883,
          -0.06359304774898256,
          -0.028818483882128376,
          -0.05531317770884403,
          -0.047288153703049396,
          -0.055434186995285906,
          -0.26709425480672433,
          -0.305899490965146,
          -0.33219784715167133,
          -0.36056499780433615,
          -0.2733242223280179,
          -0.0336153587965633,
          0.09829966357058151,
          0.22118757190959748,
          0.17730481550819022,
          0.04771823714465029,
          0.06499216534688568,
          -0.060411033555739735,
          -0.12471699365490352,
          -0.039393951009097705,
          0.001650468834356822,
          -0.04707166215443692,
          -0.013848240353991237,
          0.009691916019024305,
          -0.03652829275785763,
          -0.04944628534804796,
          -0.000051083602147450335,
          -0.049599938430052504,
          -0.10332830144499372,
          -0.020429300267093886,
          0.01062423812122315,
          0.008220813350338751,
          0.023206262327057026,
          0.03363574782298073,
          -0.0579504987422359,
          -0.07729778137804999,
          -0.11899404451287143,
          -0.12235014771905384,
          -0.057512910828405595,
          -0.03118187171066822,
          -0.061011734581079224,
          -0.05652714782201684,
          0.005805884074495005,
          -0.0035180116491906332,
          0.040188346825283716,
          0.11186259792512043,
          0.12368346883229364,
          0.10791147616405361,
          0.04634580297098356,
          0.011537913979134728,
          -0.017894307126579356,
          0.010410433672067398,
          0.02297644420786593,
          0.018467139619153805,
          -0.002985461728065353,
          -0.0010169804416841899,
          0.03374299702292127,
          -0.03023667373380068,
          -0.034998624174387594,
          -0.03377361094809039,
          -0.04824407423339139,
          -0.11778303565638293,
          -0.09963356507784393,
          -0.049872638763650556,
          -0.05979482316939588,
          -0.051962043958906357,
          0.001751297053712797,
          -0.4195569657075584,
          -0.47365721711418995,
          -0.45920991813236345,
          -0.475952680266043,
          -0.563668612741103,
          -0.18206521447527013,
          -0.08958923047543887,
          -0.1241367130268074,
          -0.05106513623806741,
          0.0073819666894241465,
          0.07885883496645452,
          -0.05777182094104738,
          -0.050585741041767385,
          -0.14174425119172174,
          -0.1177954988219323,
          -0.20395479100214775,
          -0.07730737318371972,
          0.036193951790033374,
          0.07461533005475385,
          0.07009546084066809,
          0.06300842262590844,
          0.05127033722261043,
          -0.006898571529242226,
          0.004973979727568967,
          -0.05512315503017895,
          0.0583146912253536,
          0.04225980068679025,
          0.0463467969881286,
          0.051975945857789085,
          0.06737984011824505,
          0.08791158115573605,
          0.03883884855934472,
          0.009940677474897797,
          0.005908352801485606,
          0.05014442091491933,
          -0.061951098756517275,
          -0.08404605211579064,
          -0.14994087576907766,
          -0.17012101723137274,
          -0.1188004200604924,
          -0.10618508323277887,
          -0.04146225353230992,
          0.0071638662153512556,
          0.06554899973879902,
          0.008844267871481293,
          0.0961751038316967,
          0.07479148831908145,
          0.049595066264503274,
          -0.0029671052099455864,
          -0.03836923380617918,
          -0.05880879360581481,
          -0.017386147874978164,
          0.02452958829448537,
          0.059370606442897156,
          0.06695882361030137,
          -0.01461024426447377
         ]
        }
       ],
       "layout": {
        "legend": {
         "bgcolor": "#F5F6F9",
         "font": {
          "color": "#4D5663"
         }
        },
        "paper_bgcolor": "#F5F6F9",
        "plot_bgcolor": "#F5F6F9",
        "template": {
         "data": {
          "bar": [
           {
            "error_x": {
             "color": "#2a3f5f"
            },
            "error_y": {
             "color": "#2a3f5f"
            },
            "marker": {
             "line": {
              "color": "#E5ECF6",
              "width": 0.5
             },
             "pattern": {
              "fillmode": "overlay",
              "size": 10,
              "solidity": 0.2
             }
            },
            "type": "bar"
           }
          ],
          "barpolar": [
           {
            "marker": {
             "line": {
              "color": "#E5ECF6",
              "width": 0.5
             },
             "pattern": {
              "fillmode": "overlay",
              "size": 10,
              "solidity": 0.2
             }
            },
            "type": "barpolar"
           }
          ],
          "carpet": [
           {
            "aaxis": {
             "endlinecolor": "#2a3f5f",
             "gridcolor": "white",
             "linecolor": "white",
             "minorgridcolor": "white",
             "startlinecolor": "#2a3f5f"
            },
            "baxis": {
             "endlinecolor": "#2a3f5f",
             "gridcolor": "white",
             "linecolor": "white",
             "minorgridcolor": "white",
             "startlinecolor": "#2a3f5f"
            },
            "type": "carpet"
           }
          ],
          "choropleth": [
           {
            "colorbar": {
             "outlinewidth": 0,
             "ticks": ""
            },
            "type": "choropleth"
           }
          ],
          "contour": [
           {
            "colorbar": {
             "outlinewidth": 0,
             "ticks": ""
            },
            "colorscale": [
             [
              0,
              "#0d0887"
             ],
             [
              0.1111111111111111,
              "#46039f"
             ],
             [
              0.2222222222222222,
              "#7201a8"
             ],
             [
              0.3333333333333333,
              "#9c179e"
             ],
             [
              0.4444444444444444,
              "#bd3786"
             ],
             [
              0.5555555555555556,
              "#d8576b"
             ],
             [
              0.6666666666666666,
              "#ed7953"
             ],
             [
              0.7777777777777778,
              "#fb9f3a"
             ],
             [
              0.8888888888888888,
              "#fdca26"
             ],
             [
              1,
              "#f0f921"
             ]
            ],
            "type": "contour"
           }
          ],
          "contourcarpet": [
           {
            "colorbar": {
             "outlinewidth": 0,
             "ticks": ""
            },
            "type": "contourcarpet"
           }
          ],
          "heatmap": [
           {
            "colorbar": {
             "outlinewidth": 0,
             "ticks": ""
            },
            "colorscale": [
             [
              0,
              "#0d0887"
             ],
             [
              0.1111111111111111,
              "#46039f"
             ],
             [
              0.2222222222222222,
              "#7201a8"
             ],
             [
              0.3333333333333333,
              "#9c179e"
             ],
             [
              0.4444444444444444,
              "#bd3786"
             ],
             [
              0.5555555555555556,
              "#d8576b"
             ],
             [
              0.6666666666666666,
              "#ed7953"
             ],
             [
              0.7777777777777778,
              "#fb9f3a"
             ],
             [
              0.8888888888888888,
              "#fdca26"
             ],
             [
              1,
              "#f0f921"
             ]
            ],
            "type": "heatmap"
           }
          ],
          "heatmapgl": [
           {
            "colorbar": {
             "outlinewidth": 0,
             "ticks": ""
            },
            "colorscale": [
             [
              0,
              "#0d0887"
             ],
             [
              0.1111111111111111,
              "#46039f"
             ],
             [
              0.2222222222222222,
              "#7201a8"
             ],
             [
              0.3333333333333333,
              "#9c179e"
             ],
             [
              0.4444444444444444,
              "#bd3786"
             ],
             [
              0.5555555555555556,
              "#d8576b"
             ],
             [
              0.6666666666666666,
              "#ed7953"
             ],
             [
              0.7777777777777778,
              "#fb9f3a"
             ],
             [
              0.8888888888888888,
              "#fdca26"
             ],
             [
              1,
              "#f0f921"
             ]
            ],
            "type": "heatmapgl"
           }
          ],
          "histogram": [
           {
            "marker": {
             "pattern": {
              "fillmode": "overlay",
              "size": 10,
              "solidity": 0.2
             }
            },
            "type": "histogram"
           }
          ],
          "histogram2d": [
           {
            "colorbar": {
             "outlinewidth": 0,
             "ticks": ""
            },
            "colorscale": [
             [
              0,
              "#0d0887"
             ],
             [
              0.1111111111111111,
              "#46039f"
             ],
             [
              0.2222222222222222,
              "#7201a8"
             ],
             [
              0.3333333333333333,
              "#9c179e"
             ],
             [
              0.4444444444444444,
              "#bd3786"
             ],
             [
              0.5555555555555556,
              "#d8576b"
             ],
             [
              0.6666666666666666,
              "#ed7953"
             ],
             [
              0.7777777777777778,
              "#fb9f3a"
             ],
             [
              0.8888888888888888,
              "#fdca26"
             ],
             [
              1,
              "#f0f921"
             ]
            ],
            "type": "histogram2d"
           }
          ],
          "histogram2dcontour": [
           {
            "colorbar": {
             "outlinewidth": 0,
             "ticks": ""
            },
            "colorscale": [
             [
              0,
              "#0d0887"
             ],
             [
              0.1111111111111111,
              "#46039f"
             ],
             [
              0.2222222222222222,
              "#7201a8"
             ],
             [
              0.3333333333333333,
              "#9c179e"
             ],
             [
              0.4444444444444444,
              "#bd3786"
             ],
             [
              0.5555555555555556,
              "#d8576b"
             ],
             [
              0.6666666666666666,
              "#ed7953"
             ],
             [
              0.7777777777777778,
              "#fb9f3a"
             ],
             [
              0.8888888888888888,
              "#fdca26"
             ],
             [
              1,
              "#f0f921"
             ]
            ],
            "type": "histogram2dcontour"
           }
          ],
          "mesh3d": [
           {
            "colorbar": {
             "outlinewidth": 0,
             "ticks": ""
            },
            "type": "mesh3d"
           }
          ],
          "parcoords": [
           {
            "line": {
             "colorbar": {
              "outlinewidth": 0,
              "ticks": ""
             }
            },
            "type": "parcoords"
           }
          ],
          "pie": [
           {
            "automargin": true,
            "type": "pie"
           }
          ],
          "scatter": [
           {
            "fillpattern": {
             "fillmode": "overlay",
             "size": 10,
             "solidity": 0.2
            },
            "type": "scatter"
           }
          ],
          "scatter3d": [
           {
            "line": {
             "colorbar": {
              "outlinewidth": 0,
              "ticks": ""
             }
            },
            "marker": {
             "colorbar": {
              "outlinewidth": 0,
              "ticks": ""
             }
            },
            "type": "scatter3d"
           }
          ],
          "scattercarpet": [
           {
            "marker": {
             "colorbar": {
              "outlinewidth": 0,
              "ticks": ""
             }
            },
            "type": "scattercarpet"
           }
          ],
          "scattergeo": [
           {
            "marker": {
             "colorbar": {
              "outlinewidth": 0,
              "ticks": ""
             }
            },
            "type": "scattergeo"
           }
          ],
          "scattergl": [
           {
            "marker": {
             "colorbar": {
              "outlinewidth": 0,
              "ticks": ""
             }
            },
            "type": "scattergl"
           }
          ],
          "scattermapbox": [
           {
            "marker": {
             "colorbar": {
              "outlinewidth": 0,
              "ticks": ""
             }
            },
            "type": "scattermapbox"
           }
          ],
          "scatterpolar": [
           {
            "marker": {
             "colorbar": {
              "outlinewidth": 0,
              "ticks": ""
             }
            },
            "type": "scatterpolar"
           }
          ],
          "scatterpolargl": [
           {
            "marker": {
             "colorbar": {
              "outlinewidth": 0,
              "ticks": ""
             }
            },
            "type": "scatterpolargl"
           }
          ],
          "scatterternary": [
           {
            "marker": {
             "colorbar": {
              "outlinewidth": 0,
              "ticks": ""
             }
            },
            "type": "scatterternary"
           }
          ],
          "surface": [
           {
            "colorbar": {
             "outlinewidth": 0,
             "ticks": ""
            },
            "colorscale": [
             [
              0,
              "#0d0887"
             ],
             [
              0.1111111111111111,
              "#46039f"
             ],
             [
              0.2222222222222222,
              "#7201a8"
             ],
             [
              0.3333333333333333,
              "#9c179e"
             ],
             [
              0.4444444444444444,
              "#bd3786"
             ],
             [
              0.5555555555555556,
              "#d8576b"
             ],
             [
              0.6666666666666666,
              "#ed7953"
             ],
             [
              0.7777777777777778,
              "#fb9f3a"
             ],
             [
              0.8888888888888888,
              "#fdca26"
             ],
             [
              1,
              "#f0f921"
             ]
            ],
            "type": "surface"
           }
          ],
          "table": [
           {
            "cells": {
             "fill": {
              "color": "#EBF0F8"
             },
             "line": {
              "color": "white"
             }
            },
            "header": {
             "fill": {
              "color": "#C8D4E3"
             },
             "line": {
              "color": "white"
             }
            },
            "type": "table"
           }
          ]
         },
         "layout": {
          "annotationdefaults": {
           "arrowcolor": "#2a3f5f",
           "arrowhead": 0,
           "arrowwidth": 1
          },
          "autotypenumbers": "strict",
          "coloraxis": {
           "colorbar": {
            "outlinewidth": 0,
            "ticks": ""
           }
          },
          "colorscale": {
           "diverging": [
            [
             0,
             "#8e0152"
            ],
            [
             0.1,
             "#c51b7d"
            ],
            [
             0.2,
             "#de77ae"
            ],
            [
             0.3,
             "#f1b6da"
            ],
            [
             0.4,
             "#fde0ef"
            ],
            [
             0.5,
             "#f7f7f7"
            ],
            [
             0.6,
             "#e6f5d0"
            ],
            [
             0.7,
             "#b8e186"
            ],
            [
             0.8,
             "#7fbc41"
            ],
            [
             0.9,
             "#4d9221"
            ],
            [
             1,
             "#276419"
            ]
           ],
           "sequential": [
            [
             0,
             "#0d0887"
            ],
            [
             0.1111111111111111,
             "#46039f"
            ],
            [
             0.2222222222222222,
             "#7201a8"
            ],
            [
             0.3333333333333333,
             "#9c179e"
            ],
            [
             0.4444444444444444,
             "#bd3786"
            ],
            [
             0.5555555555555556,
             "#d8576b"
            ],
            [
             0.6666666666666666,
             "#ed7953"
            ],
            [
             0.7777777777777778,
             "#fb9f3a"
            ],
            [
             0.8888888888888888,
             "#fdca26"
            ],
            [
             1,
             "#f0f921"
            ]
           ],
           "sequentialminus": [
            [
             0,
             "#0d0887"
            ],
            [
             0.1111111111111111,
             "#46039f"
            ],
            [
             0.2222222222222222,
             "#7201a8"
            ],
            [
             0.3333333333333333,
             "#9c179e"
            ],
            [
             0.4444444444444444,
             "#bd3786"
            ],
            [
             0.5555555555555556,
             "#d8576b"
            ],
            [
             0.6666666666666666,
             "#ed7953"
            ],
            [
             0.7777777777777778,
             "#fb9f3a"
            ],
            [
             0.8888888888888888,
             "#fdca26"
            ],
            [
             1,
             "#f0f921"
            ]
           ]
          },
          "colorway": [
           "#636efa",
           "#EF553B",
           "#00cc96",
           "#ab63fa",
           "#FFA15A",
           "#19d3f3",
           "#FF6692",
           "#B6E880",
           "#FF97FF",
           "#FECB52"
          ],
          "font": {
           "color": "#2a3f5f"
          },
          "geo": {
           "bgcolor": "white",
           "lakecolor": "white",
           "landcolor": "#E5ECF6",
           "showlakes": true,
           "showland": true,
           "subunitcolor": "white"
          },
          "hoverlabel": {
           "align": "left"
          },
          "hovermode": "closest",
          "mapbox": {
           "style": "light"
          },
          "paper_bgcolor": "white",
          "plot_bgcolor": "#E5ECF6",
          "polar": {
           "angularaxis": {
            "gridcolor": "white",
            "linecolor": "white",
            "ticks": ""
           },
           "bgcolor": "#E5ECF6",
           "radialaxis": {
            "gridcolor": "white",
            "linecolor": "white",
            "ticks": ""
           }
          },
          "scene": {
           "xaxis": {
            "backgroundcolor": "#E5ECF6",
            "gridcolor": "white",
            "gridwidth": 2,
            "linecolor": "white",
            "showbackground": true,
            "ticks": "",
            "zerolinecolor": "white"
           },
           "yaxis": {
            "backgroundcolor": "#E5ECF6",
            "gridcolor": "white",
            "gridwidth": 2,
            "linecolor": "white",
            "showbackground": true,
            "ticks": "",
            "zerolinecolor": "white"
           },
           "zaxis": {
            "backgroundcolor": "#E5ECF6",
            "gridcolor": "white",
            "gridwidth": 2,
            "linecolor": "white",
            "showbackground": true,
            "ticks": "",
            "zerolinecolor": "white"
           }
          },
          "shapedefaults": {
           "line": {
            "color": "#2a3f5f"
           }
          },
          "ternary": {
           "aaxis": {
            "gridcolor": "white",
            "linecolor": "white",
            "ticks": ""
           },
           "baxis": {
            "gridcolor": "white",
            "linecolor": "white",
            "ticks": ""
           },
           "bgcolor": "#E5ECF6",
           "caxis": {
            "gridcolor": "white",
            "linecolor": "white",
            "ticks": ""
           }
          },
          "title": {
           "x": 0.05
          },
          "xaxis": {
           "automargin": true,
           "gridcolor": "white",
           "linecolor": "white",
           "ticks": "",
           "title": {
            "standoff": 15
           },
           "zerolinecolor": "white",
           "zerolinewidth": 2
          },
          "yaxis": {
           "automargin": true,
           "gridcolor": "white",
           "linecolor": "white",
           "ticks": "",
           "title": {
            "standoff": 15
           },
           "zerolinecolor": "white",
           "zerolinewidth": 2
          }
         }
        },
        "title": {
         "font": {
          "color": "#4D5663"
         },
         "text": "5-Days Rolling Returns of NetFlix"
        },
        "xaxis": {
         "gridcolor": "#E1E5ED",
         "showgrid": true,
         "tickfont": {
          "color": "#4D5663"
         },
         "title": {
          "font": {
           "color": "#4D5663"
          },
          "text": ""
         },
         "zerolinecolor": "#E1E5ED"
        },
        "yaxis": {
         "gridcolor": "#E1E5ED",
         "showgrid": true,
         "tickfont": {
          "color": "#4D5663"
         },
         "title": {
          "font": {
           "color": "#4D5663"
          },
          "text": ""
         },
         "zerolinecolor": "#E1E5ED"
        }
       }
      },
      "text/html": [
       "<div>                            <div id=\"fa53f8d2-050f-403a-ab8c-48c6aba16a88\" class=\"plotly-graph-div\" style=\"height:525px; width:100%;\"></div>            <script type=\"text/javascript\">                require([\"plotly\"], function(Plotly) {                    window.PLOTLYENV=window.PLOTLYENV || {};\n",
       "                    window.PLOTLYENV.BASE_URL='https://plot.ly';                                    if (document.getElementById(\"fa53f8d2-050f-403a-ab8c-48c6aba16a88\")) {                    Plotly.newPlot(                        \"fa53f8d2-050f-403a-ab8c-48c6aba16a88\",                        [{\"line\":{\"color\":\"rgba(255, 153, 51, 1.0)\",\"dash\":\"solid\",\"shape\":\"linear\",\"width\":1.3},\"mode\":\"lines\",\"name\":\"NFLX\",\"text\":\"\",\"x\":[\"2022-01-10\",\"2022-01-11\",\"2022-01-12\",\"2022-01-13\",\"2022-01-14\",\"2022-01-18\",\"2022-01-19\",\"2022-01-20\",\"2022-01-21\",\"2022-01-24\",\"2022-01-25\",\"2022-01-26\",\"2022-01-27\",\"2022-01-28\",\"2022-01-31\",\"2022-02-01\",\"2022-02-02\",\"2022-02-03\",\"2022-02-04\",\"2022-02-07\",\"2022-02-08\",\"2022-02-09\",\"2022-02-10\",\"2022-02-11\",\"2022-02-14\",\"2022-02-15\",\"2022-02-16\",\"2022-02-17\",\"2022-02-18\",\"2022-02-22\",\"2022-02-23\",\"2022-02-24\",\"2022-02-25\",\"2022-02-28\",\"2022-03-01\",\"2022-03-02\",\"2022-03-03\",\"2022-03-04\",\"2022-03-07\",\"2022-03-08\",\"2022-03-09\",\"2022-03-10\",\"2022-03-11\",\"2022-03-14\",\"2022-03-15\",\"2022-03-16\",\"2022-03-17\",\"2022-03-18\",\"2022-03-21\",\"2022-03-22\",\"2022-03-23\",\"2022-03-24\",\"2022-03-25\",\"2022-03-28\",\"2022-03-29\",\"2022-03-30\",\"2022-03-31\",\"2022-04-01\",\"2022-04-04\",\"2022-04-05\",\"2022-04-06\",\"2022-04-07\",\"2022-04-08\",\"2022-04-11\",\"2022-04-12\",\"2022-04-13\",\"2022-04-14\",\"2022-04-18\",\"2022-04-19\",\"2022-04-20\",\"2022-04-21\",\"2022-04-22\",\"2022-04-25\",\"2022-04-26\",\"2022-04-27\",\"2022-04-28\",\"2022-04-29\",\"2022-05-02\",\"2022-05-03\",\"2022-05-04\",\"2022-05-05\",\"2022-05-06\",\"2022-05-09\",\"2022-05-10\",\"2022-05-11\",\"2022-05-12\",\"2022-05-13\",\"2022-05-16\",\"2022-05-17\",\"2022-05-18\",\"2022-05-19\",\"2022-05-20\",\"2022-05-23\",\"2022-05-24\",\"2022-05-25\",\"2022-05-26\",\"2022-05-27\",\"2022-05-31\",\"2022-06-01\",\"2022-06-02\",\"2022-06-03\",\"2022-06-06\",\"2022-06-07\",\"2022-06-08\",\"2022-06-09\",\"2022-06-10\",\"2022-06-13\",\"2022-06-14\",\"2022-06-15\",\"2022-06-16\",\"2022-06-17\",\"2022-06-21\",\"2022-06-22\",\"2022-06-23\",\"2022-06-24\",\"2022-06-27\",\"2022-06-28\",\"2022-06-29\",\"2022-06-30\",\"2022-07-01\",\"2022-07-05\",\"2022-07-06\",\"2022-07-07\",\"2022-07-08\",\"2022-07-11\"],\"y\":[-0.10124540076821198,-0.08894629746272553,-0.054868385936655883,-0.06359304774898256,-0.028818483882128376,-0.05531317770884403,-0.047288153703049396,-0.055434186995285906,-0.26709425480672433,-0.305899490965146,-0.33219784715167133,-0.36056499780433615,-0.2733242223280179,-0.0336153587965633,0.09829966357058151,0.22118757190959748,0.17730481550819022,0.04771823714465029,0.06499216534688568,-0.060411033555739735,-0.12471699365490352,-0.039393951009097705,0.001650468834356822,-0.04707166215443692,-0.013848240353991237,0.009691916019024305,-0.03652829275785763,-0.04944628534804796,-5.1083602147450335e-05,-0.049599938430052504,-0.10332830144499372,-0.020429300267093886,0.01062423812122315,0.008220813350338751,0.023206262327057026,0.03363574782298073,-0.0579504987422359,-0.07729778137804999,-0.11899404451287143,-0.12235014771905384,-0.057512910828405595,-0.03118187171066822,-0.061011734581079224,-0.05652714782201684,0.005805884074495005,-0.0035180116491906332,0.040188346825283716,0.11186259792512043,0.12368346883229364,0.10791147616405361,0.04634580297098356,0.011537913979134728,-0.017894307126579356,0.010410433672067398,0.02297644420786593,0.018467139619153805,-0.002985461728065353,-0.0010169804416841899,0.03374299702292127,-0.03023667373380068,-0.034998624174387594,-0.03377361094809039,-0.04824407423339139,-0.11778303565638293,-0.09963356507784393,-0.049872638763650556,-0.05979482316939588,-0.051962043958906357,0.001751297053712797,-0.4195569657075584,-0.47365721711418995,-0.45920991813236345,-0.475952680266043,-0.563668612741103,-0.18206521447527013,-0.08958923047543887,-0.1241367130268074,-0.05106513623806741,0.0073819666894241465,0.07885883496645452,-0.05777182094104738,-0.050585741041767385,-0.14174425119172174,-0.1177954988219323,-0.20395479100214775,-0.07730737318371972,0.036193951790033374,0.07461533005475385,0.07009546084066809,0.06300842262590844,0.05127033722261043,-0.006898571529242226,0.004973979727568967,-0.05512315503017895,0.0583146912253536,0.04225980068679025,0.0463467969881286,0.051975945857789085,0.06737984011824505,0.08791158115573605,0.03883884855934472,0.009940677474897797,0.005908352801485606,0.05014442091491933,-0.061951098756517275,-0.08404605211579064,-0.14994087576907766,-0.17012101723137274,-0.1188004200604924,-0.10618508323277887,-0.04146225353230992,0.0071638662153512556,0.06554899973879902,0.008844267871481293,0.0961751038316967,0.07479148831908145,0.049595066264503274,-0.0029671052099455864,-0.03836923380617918,-0.05880879360581481,-0.017386147874978164,0.02452958829448537,0.059370606442897156,0.06695882361030137,-0.01461024426447377],\"type\":\"scatter\"}],                        {\"legend\":{\"bgcolor\":\"#F5F6F9\",\"font\":{\"color\":\"#4D5663\"}},\"paper_bgcolor\":\"#F5F6F9\",\"plot_bgcolor\":\"#F5F6F9\",\"template\":{\"data\":{\"barpolar\":[{\"marker\":{\"line\":{\"color\":\"#E5ECF6\",\"width\":0.5},\"pattern\":{\"fillmode\":\"overlay\",\"size\":10,\"solidity\":0.2}},\"type\":\"barpolar\"}],\"bar\":[{\"error_x\":{\"color\":\"#2a3f5f\"},\"error_y\":{\"color\":\"#2a3f5f\"},\"marker\":{\"line\":{\"color\":\"#E5ECF6\",\"width\":0.5},\"pattern\":{\"fillmode\":\"overlay\",\"size\":10,\"solidity\":0.2}},\"type\":\"bar\"}],\"carpet\":[{\"aaxis\":{\"endlinecolor\":\"#2a3f5f\",\"gridcolor\":\"white\",\"linecolor\":\"white\",\"minorgridcolor\":\"white\",\"startlinecolor\":\"#2a3f5f\"},\"baxis\":{\"endlinecolor\":\"#2a3f5f\",\"gridcolor\":\"white\",\"linecolor\":\"white\",\"minorgridcolor\":\"white\",\"startlinecolor\":\"#2a3f5f\"},\"type\":\"carpet\"}],\"choropleth\":[{\"colorbar\":{\"outlinewidth\":0,\"ticks\":\"\"},\"type\":\"choropleth\"}],\"contourcarpet\":[{\"colorbar\":{\"outlinewidth\":0,\"ticks\":\"\"},\"type\":\"contourcarpet\"}],\"contour\":[{\"colorbar\":{\"outlinewidth\":0,\"ticks\":\"\"},\"colorscale\":[[0.0,\"#0d0887\"],[0.1111111111111111,\"#46039f\"],[0.2222222222222222,\"#7201a8\"],[0.3333333333333333,\"#9c179e\"],[0.4444444444444444,\"#bd3786\"],[0.5555555555555556,\"#d8576b\"],[0.6666666666666666,\"#ed7953\"],[0.7777777777777778,\"#fb9f3a\"],[0.8888888888888888,\"#fdca26\"],[1.0,\"#f0f921\"]],\"type\":\"contour\"}],\"heatmapgl\":[{\"colorbar\":{\"outlinewidth\":0,\"ticks\":\"\"},\"colorscale\":[[0.0,\"#0d0887\"],[0.1111111111111111,\"#46039f\"],[0.2222222222222222,\"#7201a8\"],[0.3333333333333333,\"#9c179e\"],[0.4444444444444444,\"#bd3786\"],[0.5555555555555556,\"#d8576b\"],[0.6666666666666666,\"#ed7953\"],[0.7777777777777778,\"#fb9f3a\"],[0.8888888888888888,\"#fdca26\"],[1.0,\"#f0f921\"]],\"type\":\"heatmapgl\"}],\"heatmap\":[{\"colorbar\":{\"outlinewidth\":0,\"ticks\":\"\"},\"colorscale\":[[0.0,\"#0d0887\"],[0.1111111111111111,\"#46039f\"],[0.2222222222222222,\"#7201a8\"],[0.3333333333333333,\"#9c179e\"],[0.4444444444444444,\"#bd3786\"],[0.5555555555555556,\"#d8576b\"],[0.6666666666666666,\"#ed7953\"],[0.7777777777777778,\"#fb9f3a\"],[0.8888888888888888,\"#fdca26\"],[1.0,\"#f0f921\"]],\"type\":\"heatmap\"}],\"histogram2dcontour\":[{\"colorbar\":{\"outlinewidth\":0,\"ticks\":\"\"},\"colorscale\":[[0.0,\"#0d0887\"],[0.1111111111111111,\"#46039f\"],[0.2222222222222222,\"#7201a8\"],[0.3333333333333333,\"#9c179e\"],[0.4444444444444444,\"#bd3786\"],[0.5555555555555556,\"#d8576b\"],[0.6666666666666666,\"#ed7953\"],[0.7777777777777778,\"#fb9f3a\"],[0.8888888888888888,\"#fdca26\"],[1.0,\"#f0f921\"]],\"type\":\"histogram2dcontour\"}],\"histogram2d\":[{\"colorbar\":{\"outlinewidth\":0,\"ticks\":\"\"},\"colorscale\":[[0.0,\"#0d0887\"],[0.1111111111111111,\"#46039f\"],[0.2222222222222222,\"#7201a8\"],[0.3333333333333333,\"#9c179e\"],[0.4444444444444444,\"#bd3786\"],[0.5555555555555556,\"#d8576b\"],[0.6666666666666666,\"#ed7953\"],[0.7777777777777778,\"#fb9f3a\"],[0.8888888888888888,\"#fdca26\"],[1.0,\"#f0f921\"]],\"type\":\"histogram2d\"}],\"histogram\":[{\"marker\":{\"pattern\":{\"fillmode\":\"overlay\",\"size\":10,\"solidity\":0.2}},\"type\":\"histogram\"}],\"mesh3d\":[{\"colorbar\":{\"outlinewidth\":0,\"ticks\":\"\"},\"type\":\"mesh3d\"}],\"parcoords\":[{\"line\":{\"colorbar\":{\"outlinewidth\":0,\"ticks\":\"\"}},\"type\":\"parcoords\"}],\"pie\":[{\"automargin\":true,\"type\":\"pie\"}],\"scatter3d\":[{\"line\":{\"colorbar\":{\"outlinewidth\":0,\"ticks\":\"\"}},\"marker\":{\"colorbar\":{\"outlinewidth\":0,\"ticks\":\"\"}},\"type\":\"scatter3d\"}],\"scattercarpet\":[{\"marker\":{\"colorbar\":{\"outlinewidth\":0,\"ticks\":\"\"}},\"type\":\"scattercarpet\"}],\"scattergeo\":[{\"marker\":{\"colorbar\":{\"outlinewidth\":0,\"ticks\":\"\"}},\"type\":\"scattergeo\"}],\"scattergl\":[{\"marker\":{\"colorbar\":{\"outlinewidth\":0,\"ticks\":\"\"}},\"type\":\"scattergl\"}],\"scattermapbox\":[{\"marker\":{\"colorbar\":{\"outlinewidth\":0,\"ticks\":\"\"}},\"type\":\"scattermapbox\"}],\"scatterpolargl\":[{\"marker\":{\"colorbar\":{\"outlinewidth\":0,\"ticks\":\"\"}},\"type\":\"scatterpolargl\"}],\"scatterpolar\":[{\"marker\":{\"colorbar\":{\"outlinewidth\":0,\"ticks\":\"\"}},\"type\":\"scatterpolar\"}],\"scatter\":[{\"fillpattern\":{\"fillmode\":\"overlay\",\"size\":10,\"solidity\":0.2},\"type\":\"scatter\"}],\"scatterternary\":[{\"marker\":{\"colorbar\":{\"outlinewidth\":0,\"ticks\":\"\"}},\"type\":\"scatterternary\"}],\"surface\":[{\"colorbar\":{\"outlinewidth\":0,\"ticks\":\"\"},\"colorscale\":[[0.0,\"#0d0887\"],[0.1111111111111111,\"#46039f\"],[0.2222222222222222,\"#7201a8\"],[0.3333333333333333,\"#9c179e\"],[0.4444444444444444,\"#bd3786\"],[0.5555555555555556,\"#d8576b\"],[0.6666666666666666,\"#ed7953\"],[0.7777777777777778,\"#fb9f3a\"],[0.8888888888888888,\"#fdca26\"],[1.0,\"#f0f921\"]],\"type\":\"surface\"}],\"table\":[{\"cells\":{\"fill\":{\"color\":\"#EBF0F8\"},\"line\":{\"color\":\"white\"}},\"header\":{\"fill\":{\"color\":\"#C8D4E3\"},\"line\":{\"color\":\"white\"}},\"type\":\"table\"}]},\"layout\":{\"annotationdefaults\":{\"arrowcolor\":\"#2a3f5f\",\"arrowhead\":0,\"arrowwidth\":1},\"autotypenumbers\":\"strict\",\"coloraxis\":{\"colorbar\":{\"outlinewidth\":0,\"ticks\":\"\"}},\"colorscale\":{\"diverging\":[[0,\"#8e0152\"],[0.1,\"#c51b7d\"],[0.2,\"#de77ae\"],[0.3,\"#f1b6da\"],[0.4,\"#fde0ef\"],[0.5,\"#f7f7f7\"],[0.6,\"#e6f5d0\"],[0.7,\"#b8e186\"],[0.8,\"#7fbc41\"],[0.9,\"#4d9221\"],[1,\"#276419\"]],\"sequential\":[[0.0,\"#0d0887\"],[0.1111111111111111,\"#46039f\"],[0.2222222222222222,\"#7201a8\"],[0.3333333333333333,\"#9c179e\"],[0.4444444444444444,\"#bd3786\"],[0.5555555555555556,\"#d8576b\"],[0.6666666666666666,\"#ed7953\"],[0.7777777777777778,\"#fb9f3a\"],[0.8888888888888888,\"#fdca26\"],[1.0,\"#f0f921\"]],\"sequentialminus\":[[0.0,\"#0d0887\"],[0.1111111111111111,\"#46039f\"],[0.2222222222222222,\"#7201a8\"],[0.3333333333333333,\"#9c179e\"],[0.4444444444444444,\"#bd3786\"],[0.5555555555555556,\"#d8576b\"],[0.6666666666666666,\"#ed7953\"],[0.7777777777777778,\"#fb9f3a\"],[0.8888888888888888,\"#fdca26\"],[1.0,\"#f0f921\"]]},\"colorway\":[\"#636efa\",\"#EF553B\",\"#00cc96\",\"#ab63fa\",\"#FFA15A\",\"#19d3f3\",\"#FF6692\",\"#B6E880\",\"#FF97FF\",\"#FECB52\"],\"font\":{\"color\":\"#2a3f5f\"},\"geo\":{\"bgcolor\":\"white\",\"lakecolor\":\"white\",\"landcolor\":\"#E5ECF6\",\"showlakes\":true,\"showland\":true,\"subunitcolor\":\"white\"},\"hoverlabel\":{\"align\":\"left\"},\"hovermode\":\"closest\",\"mapbox\":{\"style\":\"light\"},\"paper_bgcolor\":\"white\",\"plot_bgcolor\":\"#E5ECF6\",\"polar\":{\"angularaxis\":{\"gridcolor\":\"white\",\"linecolor\":\"white\",\"ticks\":\"\"},\"bgcolor\":\"#E5ECF6\",\"radialaxis\":{\"gridcolor\":\"white\",\"linecolor\":\"white\",\"ticks\":\"\"}},\"scene\":{\"xaxis\":{\"backgroundcolor\":\"#E5ECF6\",\"gridcolor\":\"white\",\"gridwidth\":2,\"linecolor\":\"white\",\"showbackground\":true,\"ticks\":\"\",\"zerolinecolor\":\"white\"},\"yaxis\":{\"backgroundcolor\":\"#E5ECF6\",\"gridcolor\":\"white\",\"gridwidth\":2,\"linecolor\":\"white\",\"showbackground\":true,\"ticks\":\"\",\"zerolinecolor\":\"white\"},\"zaxis\":{\"backgroundcolor\":\"#E5ECF6\",\"gridcolor\":\"white\",\"gridwidth\":2,\"linecolor\":\"white\",\"showbackground\":true,\"ticks\":\"\",\"zerolinecolor\":\"white\"}},\"shapedefaults\":{\"line\":{\"color\":\"#2a3f5f\"}},\"ternary\":{\"aaxis\":{\"gridcolor\":\"white\",\"linecolor\":\"white\",\"ticks\":\"\"},\"baxis\":{\"gridcolor\":\"white\",\"linecolor\":\"white\",\"ticks\":\"\"},\"bgcolor\":\"#E5ECF6\",\"caxis\":{\"gridcolor\":\"white\",\"linecolor\":\"white\",\"ticks\":\"\"}},\"title\":{\"x\":0.05},\"xaxis\":{\"automargin\":true,\"gridcolor\":\"white\",\"linecolor\":\"white\",\"ticks\":\"\",\"title\":{\"standoff\":15},\"zerolinecolor\":\"white\",\"zerolinewidth\":2},\"yaxis\":{\"automargin\":true,\"gridcolor\":\"white\",\"linecolor\":\"white\",\"ticks\":\"\",\"title\":{\"standoff\":15},\"zerolinecolor\":\"white\",\"zerolinewidth\":2}}},\"title\":{\"font\":{\"color\":\"#4D5663\"},\"text\":\"5-Days Rolling Returns of NetFlix\"},\"xaxis\":{\"gridcolor\":\"#E1E5ED\",\"showgrid\":true,\"tickfont\":{\"color\":\"#4D5663\"},\"title\":{\"font\":{\"color\":\"#4D5663\"},\"text\":\"\"},\"zerolinecolor\":\"#E1E5ED\"},\"yaxis\":{\"gridcolor\":\"#E1E5ED\",\"showgrid\":true,\"tickfont\":{\"color\":\"#4D5663\"},\"title\":{\"font\":{\"color\":\"#4D5663\"},\"text\":\"\"},\"zerolinecolor\":\"#E1E5ED\"}},                        {\"showLink\": true, \"linkText\": \"Export to plot.ly\", \"plotlyServerURL\": \"https://plot.ly\", \"responsive\": true}                    ).then(function(){\n",
       "                            \n",
       "var gd = document.getElementById('fa53f8d2-050f-403a-ab8c-48c6aba16a88');\n",
       "var x = new MutationObserver(function (mutations, observer) {{\n",
       "        var display = window.getComputedStyle(gd).display;\n",
       "        if (!display || display === 'none') {{\n",
       "            console.log([gd, 'removed!']);\n",
       "            Plotly.purge(gd);\n",
       "            observer.disconnect();\n",
       "        }}\n",
       "}});\n",
       "\n",
       "// Listen for the removal of the full notebook cells\n",
       "var notebookContainer = gd.closest('#notebook-container');\n",
       "if (notebookContainer) {{\n",
       "    x.observe(notebookContainer, {childList: true});\n",
       "}}\n",
       "\n",
       "// Listen for the clearing of the current output cell\n",
       "var outputEl = gd.closest('.output');\n",
       "if (outputEl) {{\n",
       "    x.observe(outputEl, {childList: true});\n",
       "}}\n",
       "\n",
       "                        })                };                });            </script>        </div>"
      ]
     },
     "metadata": {},
     "output_type": "display_data"
    }
   ],
   "source": [
    "# Plot Rolling Returns\n",
    "rolling_return['NFLX'].iplot(title='5-Days Rolling Returns of NetFlix')"
   ]
  },
  {
   "cell_type": "code",
   "execution_count": 41,
   "metadata": {},
   "outputs": [
    {
     "data": {
      "text/html": [
       "<div>\n",
       "<style scoped>\n",
       "    .dataframe tbody tr th:only-of-type {\n",
       "        vertical-align: middle;\n",
       "    }\n",
       "\n",
       "    .dataframe tbody tr th {\n",
       "        vertical-align: top;\n",
       "    }\n",
       "\n",
       "    .dataframe thead th {\n",
       "        text-align: right;\n",
       "    }\n",
       "</style>\n",
       "<table border=\"1\" class=\"dataframe\">\n",
       "  <thead>\n",
       "    <tr style=\"text-align: right;\">\n",
       "      <th></th>\n",
       "      <th>count</th>\n",
       "      <th>mean</th>\n",
       "      <th>std</th>\n",
       "      <th>min</th>\n",
       "      <th>25%</th>\n",
       "      <th>50%</th>\n",
       "      <th>75%</th>\n",
       "      <th>max</th>\n",
       "    </tr>\n",
       "  </thead>\n",
       "  <tbody>\n",
       "    <tr>\n",
       "      <th>AAPL</th>\n",
       "      <td>129.0</td>\n",
       "      <td>-0.001748</td>\n",
       "      <td>0.022347</td>\n",
       "      <td>-0.058073</td>\n",
       "      <td>-0.018580</td>\n",
       "      <td>-0.000874</td>\n",
       "      <td>0.015984</td>\n",
       "      <td>0.067451</td>\n",
       "    </tr>\n",
       "    <tr>\n",
       "      <th>AMZN</th>\n",
       "      <td>129.0</td>\n",
       "      <td>-0.003271</td>\n",
       "      <td>0.033683</td>\n",
       "      <td>-0.151398</td>\n",
       "      <td>-0.022050</td>\n",
       "      <td>-0.001467</td>\n",
       "      <td>0.019747</td>\n",
       "      <td>0.126949</td>\n",
       "    </tr>\n",
       "    <tr>\n",
       "      <th>FB</th>\n",
       "      <td>129.0</td>\n",
       "      <td>-0.005672</td>\n",
       "      <td>0.043752</td>\n",
       "      <td>-0.306391</td>\n",
       "      <td>-0.025009</td>\n",
       "      <td>-0.003325</td>\n",
       "      <td>0.017683</td>\n",
       "      <td>0.162064</td>\n",
       "    </tr>\n",
       "    <tr>\n",
       "      <th>GOOG</th>\n",
       "      <td>129.0</td>\n",
       "      <td>-0.001699</td>\n",
       "      <td>0.024135</td>\n",
       "      <td>-0.052776</td>\n",
       "      <td>-0.018150</td>\n",
       "      <td>-0.000745</td>\n",
       "      <td>0.013818</td>\n",
       "      <td>0.071086</td>\n",
       "    </tr>\n",
       "    <tr>\n",
       "      <th>NFLX</th>\n",
       "      <td>129.0</td>\n",
       "      <td>-0.009414</td>\n",
       "      <td>0.055742</td>\n",
       "      <td>-0.432578</td>\n",
       "      <td>-0.028734</td>\n",
       "      <td>-0.009840</td>\n",
       "      <td>0.019608</td>\n",
       "      <td>0.105532</td>\n",
       "    </tr>\n",
       "  </tbody>\n",
       "</table>\n",
       "</div>"
      ],
      "text/plain": [
       "      count      mean       std       min       25%       50%       75%  \\\n",
       "AAPL  129.0 -0.001748  0.022347 -0.058073 -0.018580 -0.000874  0.015984   \n",
       "AMZN  129.0 -0.003271  0.033683 -0.151398 -0.022050 -0.001467  0.019747   \n",
       "FB    129.0 -0.005672  0.043752 -0.306391 -0.025009 -0.003325  0.017683   \n",
       "GOOG  129.0 -0.001699  0.024135 -0.052776 -0.018150 -0.000745  0.013818   \n",
       "NFLX  129.0 -0.009414  0.055742 -0.432578 -0.028734 -0.009840  0.019608   \n",
       "\n",
       "           max  \n",
       "AAPL  0.067451  \n",
       "AMZN  0.126949  \n",
       "FB    0.162064  \n",
       "GOOG  0.071086  \n",
       "NFLX  0.105532  "
      ]
     },
     "execution_count": 41,
     "metadata": {},
     "output_type": "execute_result"
    }
   ],
   "source": [
    "# Analysing the daily returns data\n",
    "daily_returns.describe().T"
   ]
  },
  {
   "cell_type": "code",
   "execution_count": 42,
   "metadata": {},
   "outputs": [
    {
     "data": {
      "application/vnd.plotly.v1+json": {
       "config": {
        "linkText": "Export to plot.ly",
        "plotlyServerURL": "https://plot.ly",
        "showLink": true
       },
       "data": [
        {
         "histfunc": "count",
         "histnorm": "",
         "marker": {
          "color": "rgba(255, 153, 51, 1.0)",
          "line": {
           "color": "#4D5663",
           "width": 1.3
          }
         },
         "name": "AAPL",
         "opacity": 0.8,
         "orientation": "v",
         "type": "histogram",
         "x": [
          -0.01277277738380267,
          -0.026960026336708687,
          -0.016834318163185813,
          0.0009879178487093299,
          0.0001161458094198764,
          0.01664444819416655,
          0.0025670031352689193,
          -0.01921145132943547,
          0.005097725355159177,
          -0.019074948780518852,
          -0.021248993854708687,
          -0.01040089065160199,
          -0.012847372359358289,
          -0.004876224235689008,
          -0.011450021986897596,
          -0.0005633285711290625,
          -0.002947581133309285,
          0.06745087171902853,
          0.025790238289830292,
          -0.0009729828355906633,
          0.007019435511929295,
          -0.016861067458052048,
          -0.0016807694947882368,
          -0.004243567463039888,
          0.01829826799288181,
          0.0082595856010661,
          -0.023881751383592942,
          -0.020425581147877736,
          0.001422087063562394,
          0.02288859700838053,
          -0.0013898847934123992,
          -0.02149871221496813,
          -0.009399798814071048,
          -0.017972791628694473,
          -0.02620448992146418,
          0.01654257630108802,
          0.012882125534259714,
          0.0016364423764407832,
          -0.011695991856986332,
          0.02037917097156594,
          -0.0019833113058469465,
          -0.018579775427575385,
          -0.024003268942005995,
          -0.01174486791396312,
          0.034399011923650136,
          -0.027562584179868566,
          -0.024199199160887197,
          -0.02692157576786336,
          0.02924547274365885,
          0.028602498407856558,
          0.006433295812552586,
          0.020703151528238095,
          0.008501406216924856,
          0.020587193515188673,
          0.008199964507954682,
          0.022424474018388096,
          0.0037271838179755434,
          0.0050239825480966616,
          0.01895364430579516,
          -0.0066717007611174495,
          -0.01793566953032677,
          -0.0017196837999007286,
          0.02341712347271052,
          -0.019123664479714364,
          -0.01862309294606046,
          0.0018024517897723413,
          -0.011980417885259165,
          -0.025847084565423728,
          0.01145757108733747,
          0.016210387460104947,
          -0.030447050118184826,
          -0.0013318095416305908,
          0.014016452819911152,
          -0.0010160682579636315,
          -0.004855371399369979,
          -0.02821556173268025,
          0.0067145884213459794,
          -0.03804259653433917,
          -0.0014678973656563343,
          0.044165626790383605,
          -0.037291536195700914,
          0.0019645130374925657,
          0.009576631015178805,
          0.04018977663197987,
          -0.057328439683420385,
          0.004716025674640356,
          -0.033752484892773715,
          0.015983619865422405,
          -0.05323335515304528,
          -0.027262481860088172,
          0.031417663814033325,
          -0.010729693622863579,
          0.025104868372338274,
          -0.05807325405834529,
          -0.024950074123233357,
          0.0017457648446601581,
          0.03933534776407299,
          -0.019403014524209894,
          0.001139302738785375,
          0.022934487263377434,
          0.03994806033549647,
          -0.0053605265270606495,
          -0.0008737330261121556,
          0.016671497677550384,
          -0.039318605882486146,
          0.005214024543549023,
          0.01743308366138674,
          -0.0050561335074892355,
          -0.036618043064564176,
          -0.039394552656978554,
          -0.03903696139074864,
          0.0066504902469306515,
          0.01991190211094196,
          -0.040458983916443536,
          0.011467139093874756,
          0.03223550753534976,
          -0.0038344491442217077,
          0.021344265145308405,
          0.024221519876943987,
          0,
          -0.030242370177498756,
          0.012939735235462102,
          -0.0181921634990152,
          0.016035108706173418,
          0.018753481788822413,
          0.009561382112642569,
          0.023716034499354777,
          0.004703558104416139,
          -0.014867858098461362
         ],
         "xaxis": "x",
         "yaxis": "y"
        },
        {
         "histfunc": "count",
         "histnorm": "",
         "marker": {
          "color": "rgba(55, 128, 191, 1.0)",
          "line": {
           "color": "#4D5663",
           "width": 1.3
          }
         },
         "name": "AMZN",
         "opacity": 0.8,
         "orientation": "v",
         "type": "histogram",
         "x": [
          -0.01706028968966322,
          -0.019073846316683962,
          -0.006733601858714522,
          -0.004296997177475781,
          -0.006591854785116702,
          0.023718602439307013,
          -0.0009377696670975766,
          -0.024466534551061514,
          0.005715124523055337,
          -0.02006265472349522,
          -0.01661435907124531,
          -0.030080217077817828,
          -0.061345553646915185,
          0.013238960430830282,
          -0.03204163984338493,
          -0.007986135126472504,
          0.005493528624727517,
          0.03061073104055989,
          0.038127433338897454,
          0.010772530182599382,
          -0.0038501180924557232,
          -0.08134849507057229,
          0.12694891576845713,
          0.0018759745778114123,
          0.021782653816836195,
          -0.0013886979453969772,
          -0.013654506185153181,
          -0.03657177570139858,
          0.012147601490993587,
          0.008621083638872484,
          0.010107783346744448,
          -0.02205023039300702,
          -0.013350682834785133,
          -0.015878899876572206,
          -0.03641116014436818,
          0.04410800497645084,
          0.015930365373768574,
          -0.0014673390183546076,
          -0.01589114836983363,
          0.0060061111126445965,
          -0.027699674301737254,
          -0.015381483821486519,
          -0.057862672145861715,
          -0.010520594620232693,
          0.023717698424230882,
          0.05271118653269635,
          -0.008845856240148109,
          -0.025553208143986872,
          0.038131399237698815,
          0.03819476755459039,
          0.026649476185547805,
          0.025192147663773312,
          0.0014934365899943458,
          0.02082005115512331,
          -0.009022396175223157,
          0.0014768099843154303,
          0.006844814730450288,
          0.025270668800861706,
          0.0019184362663260401,
          -0.017961531171231115,
          -0.020064520292899957,
          0.003445032282122895,
          0.028844454497230387,
          -0.02582264225660147,
          -0.03283328123701157,
          -0.006138232814440592,
          -0.021291810941382217,
          -0.021850949776512252,
          -0.0022158166719545846,
          0.031037763445815436,
          -0.02496165015949181,
          0.007084013688020363,
          0.0342940109084795,
          -0.026386116801539572,
          -0.03772931062801099,
          -0.026969363430673354,
          0.0118724293253063,
          -0.046830397470919216,
          -0.008819827903123745,
          0.04548392874815921,
          -0.15139791287665272,
          0.001756547690294319,
          -0.0019818670830202834,
          0.013390415419769042,
          -0.07862161321968131,
          -0.014140750847553285,
          -0.05354166033985841,
          0.0006432376717793176,
          -0.03255651570099172,
          0.014682093519508221,
          0.055695373338186194,
          -0.020052883582188485,
          0.04030980601090839,
          -0.07425163860523742,
          0.0019259973748422254,
          0.0025313230136676523,
          -0.00031610064973097707,
          -0.0326689712620567,
          0.025371870055026946,
          0.03950431937060639,
          0.035977077098845456,
          0.043030852834664124,
          0.012191424649069305,
          0.03096591180555297,
          -0.02550763935961431,
          0.0197465544390516,
          -0.014447976483889846,
          -0.01490730933720652,
          -0.04239457368165134,
          -0.057588983573757524,
          -0.05608072910712014,
          -0.013205363644664736,
          0.05106358079343565,
          -0.037954628731807105,
          0.02439607839682356,
          0.022895360879699567,
          0.0024812460138328163,
          0.03153073437129894,
          0.03512809079637069,
          -0.02821501915746527,
          -0.05277264310800245,
          0.014053454712350089,
          -0.025195393281078005,
          0.031054064397664227,
          0.035330514810318014,
          0.007286182647943562,
          0.0173419759994502,
          -0.00681419729183208,
          -0.03335256478334081
         ],
         "xaxis": "x2",
         "yaxis": "y2"
        },
        {
         "histfunc": "count",
         "histnorm": "",
         "marker": {
          "color": "rgba(50, 171, 96, 1.0)",
          "line": {
           "color": "#4D5663",
           "width": 1.3
          }
         },
         "name": "FB",
         "opacity": 0.8,
         "orientation": "v",
         "type": "histogram",
         "x": [
          -0.0059549844718347344,
          -0.03741918355976104,
          0.025251415435343816,
          -0.002017261986768659,
          -0.011275241844642458,
          0.01902112709062287,
          -0.0033251542506214093,
          -0.02055427066540272,
          0.016464975587910935,
          -0.04231074984190197,
          0.004515962338038193,
          -0.009526123467575864,
          -0.04321904079191441,
          0.018108548640987543,
          -0.028119967850972927,
          -0.01856198095248196,
          0.00003397344271416358,
          0.023711940949659116,
          0.03756728502184181,
          0.01815755496014404,
          0.01246122043781206,
          -0.30639058479708137,
          -0.0028219379866545324,
          -0.05273946197328527,
          -0.021254978088065535,
          0.05229201128874017,
          -0.01708474017434458,
          -0.03807262058418104,
          -0.008462056685462294,
          0.015044747295430483,
          -0.02038744464020592,
          -0.04163234846625663,
          -0.007490324303747187,
          -0.01998891644432277,
          -0.018126503812114336,
          0.045076016840991606,
          0.013777435741284982,
          0.0026096812463389796,
          -0.036383407058862005,
          0.02244989837729161,
          -0.02500859811441103,
          -0.014440881530075167,
          -0.0649984702331059,
          0.014930349911065122,
          0.04223991109562153,
          -0.016713163559193944,
          -0.03971059325923232,
          -0.005237269950717938,
          0.028523530107085193,
          0.05865304207608357,
          0.02046388976117086,
          0.04077584707065185,
          -0.023366640354799628,
          0.0241053779953857,
          -0.014833627075282685,
          0.028221628699950152,
          0.01019515355699685,
          0.007947725987687448,
          0.02765642941290114,
          -0.008782886098611442,
          -0.02438985166717167,
          0.011135847531400067,
          0.039417376391686965,
          -0.008803453976711673,
          -0.03753129026378499,
          -0.0015686551273352833,
          -0.0027847445182747066,
          -0.0267569689834648,
          -0.01077580000378564,
          0.003961537088966516,
          -0.022627269378758363,
          0.0028032402295954384,
          0.03055738247729245,
          -0.08090973880287944,
          -0.06360088259599905,
          -0.021280864513834707,
          0.01552176048138687,
          -0.0328344357210959,
          -0.03372053177445533,
          0.16206440734872096,
          -0.025899993013227096,
          0.051809464921443116,
          0.0042536877102064,
          0.05228089644530076,
          -0.07012534234871826,
          -0.02189139465390255,
          -0.03780637933014841,
          0.007312210412498743,
          -0.046127323164686374,
          0.013158776784246484,
          0.03786421440969168,
          0.007123886096557008,
          0.012814966539077766,
          -0.05258765952443234,
          -0.0049540539360100055,
          0.011693608696264235,
          0.013803244105531576,
          -0.07924462832261359,
          0.013968636909470256,
          0.04155502750545459,
          0.018099573169466865,
          -0.007665266210786115,
          -0.026160328365977925,
          0.052760629067654996,
          -0.041480137302603914,
          0.018025063929180796,
          0.007181328212571003,
          0.005047325253493717,
          -0.06643888510483542,
          -0.046897892111068984,
          -0.06658736062775628,
          -0.0032318013133112444,
          0.033748911747767174,
          -0.05137106025493665,
          0.017683282446710358,
          -0.04171559207997522,
          -0.007670200040313269,
          0.018436592396699147,
          0.06940855464074502,
          -0.003945231973624175,
          -0.053379196531482265,
          0.020085758208517213,
          -0.016544566441075048,
          -0.007594665645947352,
          0.04973301722517043,
          0.009350297733608848,
          0.014153927487940976,
          -0.00763694813031357,
          -0.047947821006208535
         ],
         "xaxis": "x3",
         "yaxis": "y3"
        },
        {
         "histfunc": "count",
         "histnorm": "",
         "marker": {
          "color": "rgba(128, 0, 128, 1.0)",
          "line": {
           "color": "#4D5663",
           "width": 1.3
          }
         },
         "name": "GOOG",
         "opacity": 0.8,
         "orientation": "v",
         "type": "histogram",
         "x": [
          -0.004545887304460372,
          -0.047961830004636496,
          -0.0007449183753127642,
          -0.003980960447574233,
          0.011390667843917512,
          0.010362977746582125,
          0.011577643409784066,
          -0.01792911561560917,
          0.004700274162654949,
          -0.025327593050825215,
          -0.004695861356002418,
          -0.015942675315040233,
          -0.025908195657954103,
          0.002149953790599568,
          -0.028289657943765256,
          0.019568937752612037,
          -0.0009212408741836597,
          0.03177355007040106,
          0.017912033146752826,
          0.015937385164210838,
          0.07108597102889203,
          -0.03706127222419919,
          0.0025589498533369337,
          -0.028928742039229682,
          0.0019773438789441045,
          0.015962389290089085,
          -0.020357385416184037,
          -0.032800626408031164,
          0.008685019859161258,
          0.008284146485351584,
          0.007754322221141585,
          -0.03839671642854636,
          -0.01401209642817225,
          -0.008196470341405693,
          -0.014144930678996914,
          0.03910842178046714,
          0.013817918231167958,
          0.0027579402231001637,
          -0.005374284178924604,
          0.004339566261346128,
          -0.0032967151569431863,
          -0.016409921178864195,
          -0.043764064171542216,
          0.006415973957561327,
          0.05046169937660672,
          -0.008884077803877233,
          -0.016769773930003673,
          -0.029039812414977995,
          0.022773819914202242,
          0.030607967982070328,
          0.006783686644110887,
          0.016219845206807193,
          -0.0023638626427775478,
          0.02745550291179022,
          -0.01272700027336704,
          0.020074587575112268,
          0.0014814165331848983,
          0.003023258066616741,
          0.009116472675867904,
          -0.004235872238405491,
          -0.021219774847663686,
          0.007494255611564249,
          0.02069764370155891,
          -0.018121005260853806,
          -0.027941822565450636,
          -0.005196590615376806,
          -0.018150048864616686,
          -0.031950327503317055,
          -0.01101604341405693,
          0.014780253157545609,
          -0.02355476894199704,
          0.0055482647315914235,
          0.01988527278882568,
          -0.017664429884757915,
          -0.026132749188819915,
          -0.04354370849209488,
          0.029944909154275834,
          -0.03084818457668881,
          -0.038256293206381464,
          0.03746516791053445,
          -0.03793468749490447,
          0.01887405422219146,
          0.00826664774980923,
          0.036941570009937585,
          -0.048718199301222676,
          -0.009350056614477964,
          -0.022523956459743033,
          0.013181641349243378,
          -0.005456244765018603,
          -0.007044701251642138,
          0.02921276601581102,
          -0.014898143233409655,
          0.016493211955560305,
          -0.03754656232702924,
          -0.014838106541157359,
          -0.013019405086724056,
          0.021301454322436797,
          -0.052776039270610475,
          -0.0008169321919897499,
          0.022944368676037996,
          0.0407392823055277,
          0.010933042879212707,
          0.0008589689755371666,
          0.031130251894651018,
          -0.02739609727814596,
          0.021130026078761688,
          0.0018699317724495401,
          0.00007247139647681422,
          -0.01998718355076523,
          -0.03084470017931995,
          -0.04170020115564643,
          0.0029662463075501577,
          0.029383883695437873,
          -0.03460295390233359,
          0.011463955743538534,
          0.03774770489794932,
          0.0001695534526229281,
          0.005789486167088853,
          0.05064173608063971,
          -0.016291386618334514,
          -0.03535365681877689,
          -0.0028021657491477114,
          -0.026026914256581435,
          -0.002668685717147845,
          0.04311594521087159,
          0.011580212926506128,
          0.034904732957411255,
          0.007203302958847857,
          -0.030810606835293797
         ],
         "xaxis": "x4",
         "yaxis": "y4"
        },
        {
         "histfunc": "count",
         "histnorm": "",
         "marker": {
          "color": "rgba(219, 64, 82, 1.0)",
          "line": {
           "color": "#4D5663",
           "width": 1.3
          }
         },
         "name": "NFLX",
         "opacity": 0.8,
         "orientation": "v",
         "type": "histogram",
         "x": [
          -0.010466845129181834,
          -0.04079380816799194,
          -0.025393788790304406,
          -0.022352062735333966,
          -0.0022388959453998325,
          0.001832258176304613,
          -0.006715896641922292,
          -0.03411845060263108,
          0.012422501131520214,
          -0.028733589772115486,
          0.009857282182099247,
          -0.014861929934158802,
          -0.2457785184140695,
          -0.02638273502690147,
          -0.055031945958640804,
          -0.01850986847056557,
          0.07237884554215945,
          -0.0060696548826149055,
          0.10553228734024334,
          0.06785596238037517,
          -0.062392624871972835,
          -0.057207732821380475,
          0.011204273319620484,
          -0.019870911562382076,
          0.003550002281211384,
          0.02293041777383298,
          -0.016163312977925948,
          -0.03751785766917326,
          0.013352510238063608,
          0.027090158654226926,
          -0.023289791003048954,
          -0.029081305568116278,
          0.011877344076727248,
          -0.036196344589841445,
          -0.02663820436071429,
          0.05960921017485088,
          0.001972232820200759,
          0.009473919305842848,
          -0.02121089561312317,
          -0.016208718864790583,
          -0.031977036390365754,
          -0.01737504981561333,
          -0.032222343828978595,
          -0.024566998819305574,
          0.04862851802585766,
          -0.005645997272628378,
          -0.047204912686024336,
          -0.027737757069916213,
          0.037766033077206274,
          0.03930462230217202,
          0.03806036120184597,
          0.02446933841381238,
          -0.015916886162743005,
          0.021994040408966242,
          -0.022261050890898026,
          0.003252472209997137,
          -0.004962882691901704,
          0.01238785463590375,
          0.034560050944764775,
          -0.026770355479610153,
          -0.01820012913722202,
          -0.0029944014055205415,
          0.04714783210050921,
          -0.029419619811957176,
          -0.03153230592019707,
          -0.01697511591092482,
          -0.017464864690821535,
          -0.022391129322482328,
          -0.01127014923341818,
          0.01822862039399631,
          -0.026897300316670147,
          -0.009632085480332009,
          0.031322211690136825,
          -0.4325784119946894,
          -0.03587163101263524,
          -0.012450001334843641,
          -0.026374847614011543,
          -0.05639372078492322,
          -0.05097501372885649,
          0.056604352987196016,
          -0.046997483886212166,
          0.046696729174728446,
          0.0020533821425683385,
          0.02050185454817388,
          -0.08002630292030588,
          -0.03981140398693217,
          -0.044461780975225906,
          0.026002134512357777,
          -0.06565743763204157,
          0.04662111489812215,
          0.07368992098682092,
          -0.0060404027105054325,
          0.02148226529827202,
          -0.07274447584680122,
          0.034883029494824136,
          0.015521012234968268,
          0.00583214854630576,
          -0.0386148694594759,
          0.04069337040873133,
          0.018828138956260787,
          0.01960800853630662,
          0.011461297415966243,
          -0.023210975199019934,
          0.061225111446222336,
          -0.030244593640130546,
          -0.009290162548140302,
          0.007428972742554052,
          0.02102509291441379,
          -0.05087040822521427,
          -0.05233954699940391,
          -0.07518498620142733,
          -0.012751168719741024,
          0.07234569008529412,
          -0.03825507139750073,
          0.012383282701065035,
          -0.02655886645376615,
          0.04563396480370674,
          0.015640958217976397,
          0.049075764562714674,
          -0.009000332811550216,
          -0.05175528850834432,
          -0.006928206670742121,
          -0.019761170378257198,
          0.028636204763079043,
          0.03242231291928643,
          -0.009839552338880786,
          0.027912811477669663,
          -0.012172953210852988,
          -0.052932863111696093
         ],
         "xaxis": "x5",
         "yaxis": "y5"
        }
       ],
       "layout": {
        "barmode": "overlay",
        "legend": {
         "bgcolor": "#F5F6F9",
         "font": {
          "color": "#4D5663"
         }
        },
        "paper_bgcolor": "#F5F6F9",
        "plot_bgcolor": "#F5F6F9",
        "template": {
         "data": {
          "bar": [
           {
            "error_x": {
             "color": "#2a3f5f"
            },
            "error_y": {
             "color": "#2a3f5f"
            },
            "marker": {
             "line": {
              "color": "#E5ECF6",
              "width": 0.5
             },
             "pattern": {
              "fillmode": "overlay",
              "size": 10,
              "solidity": 0.2
             }
            },
            "type": "bar"
           }
          ],
          "barpolar": [
           {
            "marker": {
             "line": {
              "color": "#E5ECF6",
              "width": 0.5
             },
             "pattern": {
              "fillmode": "overlay",
              "size": 10,
              "solidity": 0.2
             }
            },
            "type": "barpolar"
           }
          ],
          "carpet": [
           {
            "aaxis": {
             "endlinecolor": "#2a3f5f",
             "gridcolor": "white",
             "linecolor": "white",
             "minorgridcolor": "white",
             "startlinecolor": "#2a3f5f"
            },
            "baxis": {
             "endlinecolor": "#2a3f5f",
             "gridcolor": "white",
             "linecolor": "white",
             "minorgridcolor": "white",
             "startlinecolor": "#2a3f5f"
            },
            "type": "carpet"
           }
          ],
          "choropleth": [
           {
            "colorbar": {
             "outlinewidth": 0,
             "ticks": ""
            },
            "type": "choropleth"
           }
          ],
          "contour": [
           {
            "colorbar": {
             "outlinewidth": 0,
             "ticks": ""
            },
            "colorscale": [
             [
              0,
              "#0d0887"
             ],
             [
              0.1111111111111111,
              "#46039f"
             ],
             [
              0.2222222222222222,
              "#7201a8"
             ],
             [
              0.3333333333333333,
              "#9c179e"
             ],
             [
              0.4444444444444444,
              "#bd3786"
             ],
             [
              0.5555555555555556,
              "#d8576b"
             ],
             [
              0.6666666666666666,
              "#ed7953"
             ],
             [
              0.7777777777777778,
              "#fb9f3a"
             ],
             [
              0.8888888888888888,
              "#fdca26"
             ],
             [
              1,
              "#f0f921"
             ]
            ],
            "type": "contour"
           }
          ],
          "contourcarpet": [
           {
            "colorbar": {
             "outlinewidth": 0,
             "ticks": ""
            },
            "type": "contourcarpet"
           }
          ],
          "heatmap": [
           {
            "colorbar": {
             "outlinewidth": 0,
             "ticks": ""
            },
            "colorscale": [
             [
              0,
              "#0d0887"
             ],
             [
              0.1111111111111111,
              "#46039f"
             ],
             [
              0.2222222222222222,
              "#7201a8"
             ],
             [
              0.3333333333333333,
              "#9c179e"
             ],
             [
              0.4444444444444444,
              "#bd3786"
             ],
             [
              0.5555555555555556,
              "#d8576b"
             ],
             [
              0.6666666666666666,
              "#ed7953"
             ],
             [
              0.7777777777777778,
              "#fb9f3a"
             ],
             [
              0.8888888888888888,
              "#fdca26"
             ],
             [
              1,
              "#f0f921"
             ]
            ],
            "type": "heatmap"
           }
          ],
          "heatmapgl": [
           {
            "colorbar": {
             "outlinewidth": 0,
             "ticks": ""
            },
            "colorscale": [
             [
              0,
              "#0d0887"
             ],
             [
              0.1111111111111111,
              "#46039f"
             ],
             [
              0.2222222222222222,
              "#7201a8"
             ],
             [
              0.3333333333333333,
              "#9c179e"
             ],
             [
              0.4444444444444444,
              "#bd3786"
             ],
             [
              0.5555555555555556,
              "#d8576b"
             ],
             [
              0.6666666666666666,
              "#ed7953"
             ],
             [
              0.7777777777777778,
              "#fb9f3a"
             ],
             [
              0.8888888888888888,
              "#fdca26"
             ],
             [
              1,
              "#f0f921"
             ]
            ],
            "type": "heatmapgl"
           }
          ],
          "histogram": [
           {
            "marker": {
             "pattern": {
              "fillmode": "overlay",
              "size": 10,
              "solidity": 0.2
             }
            },
            "type": "histogram"
           }
          ],
          "histogram2d": [
           {
            "colorbar": {
             "outlinewidth": 0,
             "ticks": ""
            },
            "colorscale": [
             [
              0,
              "#0d0887"
             ],
             [
              0.1111111111111111,
              "#46039f"
             ],
             [
              0.2222222222222222,
              "#7201a8"
             ],
             [
              0.3333333333333333,
              "#9c179e"
             ],
             [
              0.4444444444444444,
              "#bd3786"
             ],
             [
              0.5555555555555556,
              "#d8576b"
             ],
             [
              0.6666666666666666,
              "#ed7953"
             ],
             [
              0.7777777777777778,
              "#fb9f3a"
             ],
             [
              0.8888888888888888,
              "#fdca26"
             ],
             [
              1,
              "#f0f921"
             ]
            ],
            "type": "histogram2d"
           }
          ],
          "histogram2dcontour": [
           {
            "colorbar": {
             "outlinewidth": 0,
             "ticks": ""
            },
            "colorscale": [
             [
              0,
              "#0d0887"
             ],
             [
              0.1111111111111111,
              "#46039f"
             ],
             [
              0.2222222222222222,
              "#7201a8"
             ],
             [
              0.3333333333333333,
              "#9c179e"
             ],
             [
              0.4444444444444444,
              "#bd3786"
             ],
             [
              0.5555555555555556,
              "#d8576b"
             ],
             [
              0.6666666666666666,
              "#ed7953"
             ],
             [
              0.7777777777777778,
              "#fb9f3a"
             ],
             [
              0.8888888888888888,
              "#fdca26"
             ],
             [
              1,
              "#f0f921"
             ]
            ],
            "type": "histogram2dcontour"
           }
          ],
          "mesh3d": [
           {
            "colorbar": {
             "outlinewidth": 0,
             "ticks": ""
            },
            "type": "mesh3d"
           }
          ],
          "parcoords": [
           {
            "line": {
             "colorbar": {
              "outlinewidth": 0,
              "ticks": ""
             }
            },
            "type": "parcoords"
           }
          ],
          "pie": [
           {
            "automargin": true,
            "type": "pie"
           }
          ],
          "scatter": [
           {
            "fillpattern": {
             "fillmode": "overlay",
             "size": 10,
             "solidity": 0.2
            },
            "type": "scatter"
           }
          ],
          "scatter3d": [
           {
            "line": {
             "colorbar": {
              "outlinewidth": 0,
              "ticks": ""
             }
            },
            "marker": {
             "colorbar": {
              "outlinewidth": 0,
              "ticks": ""
             }
            },
            "type": "scatter3d"
           }
          ],
          "scattercarpet": [
           {
            "marker": {
             "colorbar": {
              "outlinewidth": 0,
              "ticks": ""
             }
            },
            "type": "scattercarpet"
           }
          ],
          "scattergeo": [
           {
            "marker": {
             "colorbar": {
              "outlinewidth": 0,
              "ticks": ""
             }
            },
            "type": "scattergeo"
           }
          ],
          "scattergl": [
           {
            "marker": {
             "colorbar": {
              "outlinewidth": 0,
              "ticks": ""
             }
            },
            "type": "scattergl"
           }
          ],
          "scattermapbox": [
           {
            "marker": {
             "colorbar": {
              "outlinewidth": 0,
              "ticks": ""
             }
            },
            "type": "scattermapbox"
           }
          ],
          "scatterpolar": [
           {
            "marker": {
             "colorbar": {
              "outlinewidth": 0,
              "ticks": ""
             }
            },
            "type": "scatterpolar"
           }
          ],
          "scatterpolargl": [
           {
            "marker": {
             "colorbar": {
              "outlinewidth": 0,
              "ticks": ""
             }
            },
            "type": "scatterpolargl"
           }
          ],
          "scatterternary": [
           {
            "marker": {
             "colorbar": {
              "outlinewidth": 0,
              "ticks": ""
             }
            },
            "type": "scatterternary"
           }
          ],
          "surface": [
           {
            "colorbar": {
             "outlinewidth": 0,
             "ticks": ""
            },
            "colorscale": [
             [
              0,
              "#0d0887"
             ],
             [
              0.1111111111111111,
              "#46039f"
             ],
             [
              0.2222222222222222,
              "#7201a8"
             ],
             [
              0.3333333333333333,
              "#9c179e"
             ],
             [
              0.4444444444444444,
              "#bd3786"
             ],
             [
              0.5555555555555556,
              "#d8576b"
             ],
             [
              0.6666666666666666,
              "#ed7953"
             ],
             [
              0.7777777777777778,
              "#fb9f3a"
             ],
             [
              0.8888888888888888,
              "#fdca26"
             ],
             [
              1,
              "#f0f921"
             ]
            ],
            "type": "surface"
           }
          ],
          "table": [
           {
            "cells": {
             "fill": {
              "color": "#EBF0F8"
             },
             "line": {
              "color": "white"
             }
            },
            "header": {
             "fill": {
              "color": "#C8D4E3"
             },
             "line": {
              "color": "white"
             }
            },
            "type": "table"
           }
          ]
         },
         "layout": {
          "annotationdefaults": {
           "arrowcolor": "#2a3f5f",
           "arrowhead": 0,
           "arrowwidth": 1
          },
          "autotypenumbers": "strict",
          "coloraxis": {
           "colorbar": {
            "outlinewidth": 0,
            "ticks": ""
           }
          },
          "colorscale": {
           "diverging": [
            [
             0,
             "#8e0152"
            ],
            [
             0.1,
             "#c51b7d"
            ],
            [
             0.2,
             "#de77ae"
            ],
            [
             0.3,
             "#f1b6da"
            ],
            [
             0.4,
             "#fde0ef"
            ],
            [
             0.5,
             "#f7f7f7"
            ],
            [
             0.6,
             "#e6f5d0"
            ],
            [
             0.7,
             "#b8e186"
            ],
            [
             0.8,
             "#7fbc41"
            ],
            [
             0.9,
             "#4d9221"
            ],
            [
             1,
             "#276419"
            ]
           ],
           "sequential": [
            [
             0,
             "#0d0887"
            ],
            [
             0.1111111111111111,
             "#46039f"
            ],
            [
             0.2222222222222222,
             "#7201a8"
            ],
            [
             0.3333333333333333,
             "#9c179e"
            ],
            [
             0.4444444444444444,
             "#bd3786"
            ],
            [
             0.5555555555555556,
             "#d8576b"
            ],
            [
             0.6666666666666666,
             "#ed7953"
            ],
            [
             0.7777777777777778,
             "#fb9f3a"
            ],
            [
             0.8888888888888888,
             "#fdca26"
            ],
            [
             1,
             "#f0f921"
            ]
           ],
           "sequentialminus": [
            [
             0,
             "#0d0887"
            ],
            [
             0.1111111111111111,
             "#46039f"
            ],
            [
             0.2222222222222222,
             "#7201a8"
            ],
            [
             0.3333333333333333,
             "#9c179e"
            ],
            [
             0.4444444444444444,
             "#bd3786"
            ],
            [
             0.5555555555555556,
             "#d8576b"
            ],
            [
             0.6666666666666666,
             "#ed7953"
            ],
            [
             0.7777777777777778,
             "#fb9f3a"
            ],
            [
             0.8888888888888888,
             "#fdca26"
            ],
            [
             1,
             "#f0f921"
            ]
           ]
          },
          "colorway": [
           "#636efa",
           "#EF553B",
           "#00cc96",
           "#ab63fa",
           "#FFA15A",
           "#19d3f3",
           "#FF6692",
           "#B6E880",
           "#FF97FF",
           "#FECB52"
          ],
          "font": {
           "color": "#2a3f5f"
          },
          "geo": {
           "bgcolor": "white",
           "lakecolor": "white",
           "landcolor": "#E5ECF6",
           "showlakes": true,
           "showland": true,
           "subunitcolor": "white"
          },
          "hoverlabel": {
           "align": "left"
          },
          "hovermode": "closest",
          "mapbox": {
           "style": "light"
          },
          "paper_bgcolor": "white",
          "plot_bgcolor": "#E5ECF6",
          "polar": {
           "angularaxis": {
            "gridcolor": "white",
            "linecolor": "white",
            "ticks": ""
           },
           "bgcolor": "#E5ECF6",
           "radialaxis": {
            "gridcolor": "white",
            "linecolor": "white",
            "ticks": ""
           }
          },
          "scene": {
           "xaxis": {
            "backgroundcolor": "#E5ECF6",
            "gridcolor": "white",
            "gridwidth": 2,
            "linecolor": "white",
            "showbackground": true,
            "ticks": "",
            "zerolinecolor": "white"
           },
           "yaxis": {
            "backgroundcolor": "#E5ECF6",
            "gridcolor": "white",
            "gridwidth": 2,
            "linecolor": "white",
            "showbackground": true,
            "ticks": "",
            "zerolinecolor": "white"
           },
           "zaxis": {
            "backgroundcolor": "#E5ECF6",
            "gridcolor": "white",
            "gridwidth": 2,
            "linecolor": "white",
            "showbackground": true,
            "ticks": "",
            "zerolinecolor": "white"
           }
          },
          "shapedefaults": {
           "line": {
            "color": "#2a3f5f"
           }
          },
          "ternary": {
           "aaxis": {
            "gridcolor": "white",
            "linecolor": "white",
            "ticks": ""
           },
           "baxis": {
            "gridcolor": "white",
            "linecolor": "white",
            "ticks": ""
           },
           "bgcolor": "#E5ECF6",
           "caxis": {
            "gridcolor": "white",
            "linecolor": "white",
            "ticks": ""
           }
          },
          "title": {
           "x": 0.05
          },
          "xaxis": {
           "automargin": true,
           "gridcolor": "white",
           "linecolor": "white",
           "ticks": "",
           "title": {
            "standoff": 15
           },
           "zerolinecolor": "white",
           "zerolinewidth": 2
          },
          "yaxis": {
           "automargin": true,
           "gridcolor": "white",
           "linecolor": "white",
           "ticks": "",
           "title": {
            "standoff": 15
           },
           "zerolinecolor": "white",
           "zerolinewidth": 2
          }
         }
        },
        "title": {
         "font": {
          "color": "#4D5663"
         },
         "text": "Histogram of Daily Returns"
        },
        "xaxis": {
         "anchor": "y",
         "domain": [
          0,
          0.45
         ],
         "gridcolor": "#E1E5ED",
         "showgrid": true,
         "tickfont": {
          "color": "#4D5663"
         },
         "title": {
          "font": {
           "color": "#4D5663"
          },
          "text": ""
         },
         "zerolinecolor": "#E1E5ED"
        },
        "xaxis2": {
         "anchor": "y2",
         "domain": [
          0.55,
          1
         ],
         "gridcolor": "#E1E5ED",
         "showgrid": true,
         "tickfont": {
          "color": "#4D5663"
         },
         "title": {
          "font": {
           "color": "#4D5663"
          },
          "text": ""
         },
         "zerolinecolor": "#E1E5ED"
        },
        "xaxis3": {
         "anchor": "y3",
         "domain": [
          0,
          0.45
         ],
         "gridcolor": "#E1E5ED",
         "showgrid": true,
         "tickfont": {
          "color": "#4D5663"
         },
         "title": {
          "font": {
           "color": "#4D5663"
          },
          "text": ""
         },
         "zerolinecolor": "#E1E5ED"
        },
        "xaxis4": {
         "anchor": "y4",
         "domain": [
          0.55,
          1
         ],
         "gridcolor": "#E1E5ED",
         "showgrid": true,
         "tickfont": {
          "color": "#4D5663"
         },
         "title": {
          "font": {
           "color": "#4D5663"
          },
          "text": ""
         },
         "zerolinecolor": "#E1E5ED"
        },
        "xaxis5": {
         "anchor": "y5",
         "domain": [
          0,
          0.45
         ],
         "gridcolor": "#E1E5ED",
         "showgrid": true,
         "tickfont": {
          "color": "#4D5663"
         },
         "title": {
          "font": {
           "color": "#4D5663"
          },
          "text": ""
         },
         "zerolinecolor": "#E1E5ED"
        },
        "yaxis": {
         "anchor": "x",
         "domain": [
          0.7333333333333333,
          1
         ],
         "gridcolor": "#E1E5ED",
         "showgrid": true,
         "tickfont": {
          "color": "#4D5663"
         },
         "title": {
          "font": {
           "color": "#4D5663"
          },
          "text": ""
         },
         "zerolinecolor": "#E1E5ED"
        },
        "yaxis2": {
         "anchor": "x2",
         "domain": [
          0.7333333333333333,
          1
         ],
         "gridcolor": "#E1E5ED",
         "showgrid": true,
         "tickfont": {
          "color": "#4D5663"
         },
         "title": {
          "font": {
           "color": "#4D5663"
          },
          "text": ""
         },
         "zerolinecolor": "#E1E5ED"
        },
        "yaxis3": {
         "anchor": "x3",
         "domain": [
          0.36666666666666664,
          0.6333333333333333
         ],
         "gridcolor": "#E1E5ED",
         "showgrid": true,
         "tickfont": {
          "color": "#4D5663"
         },
         "title": {
          "font": {
           "color": "#4D5663"
          },
          "text": ""
         },
         "zerolinecolor": "#E1E5ED"
        },
        "yaxis4": {
         "anchor": "x4",
         "domain": [
          0.36666666666666664,
          0.6333333333333333
         ],
         "gridcolor": "#E1E5ED",
         "showgrid": true,
         "tickfont": {
          "color": "#4D5663"
         },
         "title": {
          "font": {
           "color": "#4D5663"
          },
          "text": ""
         },
         "zerolinecolor": "#E1E5ED"
        },
        "yaxis5": {
         "anchor": "x5",
         "domain": [
          0,
          0.26666666666666666
         ],
         "gridcolor": "#E1E5ED",
         "showgrid": true,
         "tickfont": {
          "color": "#4D5663"
         },
         "title": {
          "font": {
           "color": "#4D5663"
          },
          "text": ""
         },
         "zerolinecolor": "#E1E5ED"
        }
       }
      },
      "text/html": [
       "<div>                            <div id=\"ab427ad3-3406-4103-8675-69b484ca88ae\" class=\"plotly-graph-div\" style=\"height:525px; width:100%;\"></div>            <script type=\"text/javascript\">                require([\"plotly\"], function(Plotly) {                    window.PLOTLYENV=window.PLOTLYENV || {};\n",
       "                    window.PLOTLYENV.BASE_URL='https://plot.ly';                                    if (document.getElementById(\"ab427ad3-3406-4103-8675-69b484ca88ae\")) {                    Plotly.newPlot(                        \"ab427ad3-3406-4103-8675-69b484ca88ae\",                        [{\"histfunc\":\"count\",\"histnorm\":\"\",\"marker\":{\"color\":\"rgba(255, 153, 51, 1.0)\",\"line\":{\"color\":\"#4D5663\",\"width\":1.3}},\"name\":\"AAPL\",\"opacity\":0.8,\"orientation\":\"v\",\"x\":[-0.01277277738380267,-0.026960026336708687,-0.016834318163185813,0.0009879178487093299,0.0001161458094198764,0.01664444819416655,0.0025670031352689193,-0.01921145132943547,0.005097725355159177,-0.019074948780518852,-0.021248993854708687,-0.01040089065160199,-0.012847372359358289,-0.004876224235689008,-0.011450021986897596,-0.0005633285711290625,-0.002947581133309285,0.06745087171902853,0.025790238289830292,-0.0009729828355906633,0.007019435511929295,-0.016861067458052048,-0.0016807694947882368,-0.004243567463039888,0.01829826799288181,0.0082595856010661,-0.023881751383592942,-0.020425581147877736,0.001422087063562394,0.02288859700838053,-0.0013898847934123992,-0.02149871221496813,-0.009399798814071048,-0.017972791628694473,-0.02620448992146418,0.01654257630108802,0.012882125534259714,0.0016364423764407832,-0.011695991856986332,0.02037917097156594,-0.0019833113058469465,-0.018579775427575385,-0.024003268942005995,-0.01174486791396312,0.034399011923650136,-0.027562584179868566,-0.024199199160887197,-0.02692157576786336,0.02924547274365885,0.028602498407856558,0.006433295812552586,0.020703151528238095,0.008501406216924856,0.020587193515188673,0.008199964507954682,0.022424474018388096,0.0037271838179755434,0.0050239825480966616,0.01895364430579516,-0.0066717007611174495,-0.01793566953032677,-0.0017196837999007286,0.02341712347271052,-0.019123664479714364,-0.01862309294606046,0.0018024517897723413,-0.011980417885259165,-0.025847084565423728,0.01145757108733747,0.016210387460104947,-0.030447050118184826,-0.0013318095416305908,0.014016452819911152,-0.0010160682579636315,-0.004855371399369979,-0.02821556173268025,0.0067145884213459794,-0.03804259653433917,-0.0014678973656563343,0.044165626790383605,-0.037291536195700914,0.0019645130374925657,0.009576631015178805,0.04018977663197987,-0.057328439683420385,0.004716025674640356,-0.033752484892773715,0.015983619865422405,-0.05323335515304528,-0.027262481860088172,0.031417663814033325,-0.010729693622863579,0.025104868372338274,-0.05807325405834529,-0.024950074123233357,0.0017457648446601581,0.03933534776407299,-0.019403014524209894,0.001139302738785375,0.022934487263377434,0.03994806033549647,-0.0053605265270606495,-0.0008737330261121556,0.016671497677550384,-0.039318605882486146,0.005214024543549023,0.01743308366138674,-0.0050561335074892355,-0.036618043064564176,-0.039394552656978554,-0.03903696139074864,0.0066504902469306515,0.01991190211094196,-0.040458983916443536,0.011467139093874756,0.03223550753534976,-0.0038344491442217077,0.021344265145308405,0.024221519876943987,0.0,-0.030242370177498756,0.012939735235462102,-0.0181921634990152,0.016035108706173418,0.018753481788822413,0.009561382112642569,0.023716034499354777,0.004703558104416139,-0.014867858098461362],\"xaxis\":\"x\",\"yaxis\":\"y\",\"type\":\"histogram\"},{\"histfunc\":\"count\",\"histnorm\":\"\",\"marker\":{\"color\":\"rgba(55, 128, 191, 1.0)\",\"line\":{\"color\":\"#4D5663\",\"width\":1.3}},\"name\":\"AMZN\",\"opacity\":0.8,\"orientation\":\"v\",\"x\":[-0.01706028968966322,-0.019073846316683962,-0.006733601858714522,-0.004296997177475781,-0.006591854785116702,0.023718602439307013,-0.0009377696670975766,-0.024466534551061514,0.005715124523055337,-0.02006265472349522,-0.01661435907124531,-0.030080217077817828,-0.061345553646915185,0.013238960430830282,-0.03204163984338493,-0.007986135126472504,0.005493528624727517,0.03061073104055989,0.038127433338897454,0.010772530182599382,-0.0038501180924557232,-0.08134849507057229,0.12694891576845713,0.0018759745778114123,0.021782653816836195,-0.0013886979453969772,-0.013654506185153181,-0.03657177570139858,0.012147601490993587,0.008621083638872484,0.010107783346744448,-0.02205023039300702,-0.013350682834785133,-0.015878899876572206,-0.03641116014436818,0.04410800497645084,0.015930365373768574,-0.0014673390183546076,-0.01589114836983363,0.0060061111126445965,-0.027699674301737254,-0.015381483821486519,-0.057862672145861715,-0.010520594620232693,0.023717698424230882,0.05271118653269635,-0.008845856240148109,-0.025553208143986872,0.038131399237698815,0.03819476755459039,0.026649476185547805,0.025192147663773312,0.0014934365899943458,0.02082005115512331,-0.009022396175223157,0.0014768099843154303,0.006844814730450288,0.025270668800861706,0.0019184362663260401,-0.017961531171231115,-0.020064520292899957,0.003445032282122895,0.028844454497230387,-0.02582264225660147,-0.03283328123701157,-0.006138232814440592,-0.021291810941382217,-0.021850949776512252,-0.0022158166719545846,0.031037763445815436,-0.02496165015949181,0.007084013688020363,0.0342940109084795,-0.026386116801539572,-0.03772931062801099,-0.026969363430673354,0.0118724293253063,-0.046830397470919216,-0.008819827903123745,0.04548392874815921,-0.15139791287665272,0.001756547690294319,-0.0019818670830202834,0.013390415419769042,-0.07862161321968131,-0.014140750847553285,-0.05354166033985841,0.0006432376717793176,-0.03255651570099172,0.014682093519508221,0.055695373338186194,-0.020052883582188485,0.04030980601090839,-0.07425163860523742,0.0019259973748422254,0.0025313230136676523,-0.00031610064973097707,-0.0326689712620567,0.025371870055026946,0.03950431937060639,0.035977077098845456,0.043030852834664124,0.012191424649069305,0.03096591180555297,-0.02550763935961431,0.0197465544390516,-0.014447976483889846,-0.01490730933720652,-0.04239457368165134,-0.057588983573757524,-0.05608072910712014,-0.013205363644664736,0.05106358079343565,-0.037954628731807105,0.02439607839682356,0.022895360879699567,0.0024812460138328163,0.03153073437129894,0.03512809079637069,-0.02821501915746527,-0.05277264310800245,0.014053454712350089,-0.025195393281078005,0.031054064397664227,0.035330514810318014,0.007286182647943562,0.0173419759994502,-0.00681419729183208,-0.03335256478334081],\"xaxis\":\"x2\",\"yaxis\":\"y2\",\"type\":\"histogram\"},{\"histfunc\":\"count\",\"histnorm\":\"\",\"marker\":{\"color\":\"rgba(50, 171, 96, 1.0)\",\"line\":{\"color\":\"#4D5663\",\"width\":1.3}},\"name\":\"FB\",\"opacity\":0.8,\"orientation\":\"v\",\"x\":[-0.0059549844718347344,-0.03741918355976104,0.025251415435343816,-0.002017261986768659,-0.011275241844642458,0.01902112709062287,-0.0033251542506214093,-0.02055427066540272,0.016464975587910935,-0.04231074984190197,0.004515962338038193,-0.009526123467575864,-0.04321904079191441,0.018108548640987543,-0.028119967850972927,-0.01856198095248196,3.397344271416358e-05,0.023711940949659116,0.03756728502184181,0.01815755496014404,0.01246122043781206,-0.30639058479708137,-0.0028219379866545324,-0.05273946197328527,-0.021254978088065535,0.05229201128874017,-0.01708474017434458,-0.03807262058418104,-0.008462056685462294,0.015044747295430483,-0.02038744464020592,-0.04163234846625663,-0.007490324303747187,-0.01998891644432277,-0.018126503812114336,0.045076016840991606,0.013777435741284982,0.0026096812463389796,-0.036383407058862005,0.02244989837729161,-0.02500859811441103,-0.014440881530075167,-0.0649984702331059,0.014930349911065122,0.04223991109562153,-0.016713163559193944,-0.03971059325923232,-0.005237269950717938,0.028523530107085193,0.05865304207608357,0.02046388976117086,0.04077584707065185,-0.023366640354799628,0.0241053779953857,-0.014833627075282685,0.028221628699950152,0.01019515355699685,0.007947725987687448,0.02765642941290114,-0.008782886098611442,-0.02438985166717167,0.011135847531400067,0.039417376391686965,-0.008803453976711673,-0.03753129026378499,-0.0015686551273352833,-0.0027847445182747066,-0.0267569689834648,-0.01077580000378564,0.003961537088966516,-0.022627269378758363,0.0028032402295954384,0.03055738247729245,-0.08090973880287944,-0.06360088259599905,-0.021280864513834707,0.01552176048138687,-0.0328344357210959,-0.03372053177445533,0.16206440734872096,-0.025899993013227096,0.051809464921443116,0.0042536877102064,0.05228089644530076,-0.07012534234871826,-0.02189139465390255,-0.03780637933014841,0.007312210412498743,-0.046127323164686374,0.013158776784246484,0.03786421440969168,0.007123886096557008,0.012814966539077766,-0.05258765952443234,-0.0049540539360100055,0.011693608696264235,0.013803244105531576,-0.07924462832261359,0.013968636909470256,0.04155502750545459,0.018099573169466865,-0.007665266210786115,-0.026160328365977925,0.052760629067654996,-0.041480137302603914,0.018025063929180796,0.007181328212571003,0.005047325253493717,-0.06643888510483542,-0.046897892111068984,-0.06658736062775628,-0.0032318013133112444,0.033748911747767174,-0.05137106025493665,0.017683282446710358,-0.04171559207997522,-0.007670200040313269,0.018436592396699147,0.06940855464074502,-0.003945231973624175,-0.053379196531482265,0.020085758208517213,-0.016544566441075048,-0.007594665645947352,0.04973301722517043,0.009350297733608848,0.014153927487940976,-0.00763694813031357,-0.047947821006208535],\"xaxis\":\"x3\",\"yaxis\":\"y3\",\"type\":\"histogram\"},{\"histfunc\":\"count\",\"histnorm\":\"\",\"marker\":{\"color\":\"rgba(128, 0, 128, 1.0)\",\"line\":{\"color\":\"#4D5663\",\"width\":1.3}},\"name\":\"GOOG\",\"opacity\":0.8,\"orientation\":\"v\",\"x\":[-0.004545887304460372,-0.047961830004636496,-0.0007449183753127642,-0.003980960447574233,0.011390667843917512,0.010362977746582125,0.011577643409784066,-0.01792911561560917,0.004700274162654949,-0.025327593050825215,-0.004695861356002418,-0.015942675315040233,-0.025908195657954103,0.002149953790599568,-0.028289657943765256,0.019568937752612037,-0.0009212408741836597,0.03177355007040106,0.017912033146752826,0.015937385164210838,0.07108597102889203,-0.03706127222419919,0.0025589498533369337,-0.028928742039229682,0.0019773438789441045,0.015962389290089085,-0.020357385416184037,-0.032800626408031164,0.008685019859161258,0.008284146485351584,0.007754322221141585,-0.03839671642854636,-0.01401209642817225,-0.008196470341405693,-0.014144930678996914,0.03910842178046714,0.013817918231167958,0.0027579402231001637,-0.005374284178924604,0.004339566261346128,-0.0032967151569431863,-0.016409921178864195,-0.043764064171542216,0.006415973957561327,0.05046169937660672,-0.008884077803877233,-0.016769773930003673,-0.029039812414977995,0.022773819914202242,0.030607967982070328,0.006783686644110887,0.016219845206807193,-0.0023638626427775478,0.02745550291179022,-0.01272700027336704,0.020074587575112268,0.0014814165331848983,0.003023258066616741,0.009116472675867904,-0.004235872238405491,-0.021219774847663686,0.007494255611564249,0.02069764370155891,-0.018121005260853806,-0.027941822565450636,-0.005196590615376806,-0.018150048864616686,-0.031950327503317055,-0.01101604341405693,0.014780253157545609,-0.02355476894199704,0.0055482647315914235,0.01988527278882568,-0.017664429884757915,-0.026132749188819915,-0.04354370849209488,0.029944909154275834,-0.03084818457668881,-0.038256293206381464,0.03746516791053445,-0.03793468749490447,0.01887405422219146,0.00826664774980923,0.036941570009937585,-0.048718199301222676,-0.009350056614477964,-0.022523956459743033,0.013181641349243378,-0.005456244765018603,-0.007044701251642138,0.02921276601581102,-0.014898143233409655,0.016493211955560305,-0.03754656232702924,-0.014838106541157359,-0.013019405086724056,0.021301454322436797,-0.052776039270610475,-0.0008169321919897499,0.022944368676037996,0.0407392823055277,0.010933042879212707,0.0008589689755371666,0.031130251894651018,-0.02739609727814596,0.021130026078761688,0.0018699317724495401,7.247139647681422e-05,-0.01998718355076523,-0.03084470017931995,-0.04170020115564643,0.0029662463075501577,0.029383883695437873,-0.03460295390233359,0.011463955743538534,0.03774770489794932,0.0001695534526229281,0.005789486167088853,0.05064173608063971,-0.016291386618334514,-0.03535365681877689,-0.0028021657491477114,-0.026026914256581435,-0.002668685717147845,0.04311594521087159,0.011580212926506128,0.034904732957411255,0.007203302958847857,-0.030810606835293797],\"xaxis\":\"x4\",\"yaxis\":\"y4\",\"type\":\"histogram\"},{\"histfunc\":\"count\",\"histnorm\":\"\",\"marker\":{\"color\":\"rgba(219, 64, 82, 1.0)\",\"line\":{\"color\":\"#4D5663\",\"width\":1.3}},\"name\":\"NFLX\",\"opacity\":0.8,\"orientation\":\"v\",\"x\":[-0.010466845129181834,-0.04079380816799194,-0.025393788790304406,-0.022352062735333966,-0.0022388959453998325,0.001832258176304613,-0.006715896641922292,-0.03411845060263108,0.012422501131520214,-0.028733589772115486,0.009857282182099247,-0.014861929934158802,-0.2457785184140695,-0.02638273502690147,-0.055031945958640804,-0.01850986847056557,0.07237884554215945,-0.0060696548826149055,0.10553228734024334,0.06785596238037517,-0.062392624871972835,-0.057207732821380475,0.011204273319620484,-0.019870911562382076,0.003550002281211384,0.02293041777383298,-0.016163312977925948,-0.03751785766917326,0.013352510238063608,0.027090158654226926,-0.023289791003048954,-0.029081305568116278,0.011877344076727248,-0.036196344589841445,-0.02663820436071429,0.05960921017485088,0.001972232820200759,0.009473919305842848,-0.02121089561312317,-0.016208718864790583,-0.031977036390365754,-0.01737504981561333,-0.032222343828978595,-0.024566998819305574,0.04862851802585766,-0.005645997272628378,-0.047204912686024336,-0.027737757069916213,0.037766033077206274,0.03930462230217202,0.03806036120184597,0.02446933841381238,-0.015916886162743005,0.021994040408966242,-0.022261050890898026,0.003252472209997137,-0.004962882691901704,0.01238785463590375,0.034560050944764775,-0.026770355479610153,-0.01820012913722202,-0.0029944014055205415,0.04714783210050921,-0.029419619811957176,-0.03153230592019707,-0.01697511591092482,-0.017464864690821535,-0.022391129322482328,-0.01127014923341818,0.01822862039399631,-0.026897300316670147,-0.009632085480332009,0.031322211690136825,-0.4325784119946894,-0.03587163101263524,-0.012450001334843641,-0.026374847614011543,-0.05639372078492322,-0.05097501372885649,0.056604352987196016,-0.046997483886212166,0.046696729174728446,0.0020533821425683385,0.02050185454817388,-0.08002630292030588,-0.03981140398693217,-0.044461780975225906,0.026002134512357777,-0.06565743763204157,0.04662111489812215,0.07368992098682092,-0.0060404027105054325,0.02148226529827202,-0.07274447584680122,0.034883029494824136,0.015521012234968268,0.00583214854630576,-0.0386148694594759,0.04069337040873133,0.018828138956260787,0.01960800853630662,0.011461297415966243,-0.023210975199019934,0.061225111446222336,-0.030244593640130546,-0.009290162548140302,0.007428972742554052,0.02102509291441379,-0.05087040822521427,-0.05233954699940391,-0.07518498620142733,-0.012751168719741024,0.07234569008529412,-0.03825507139750073,0.012383282701065035,-0.02655886645376615,0.04563396480370674,0.015640958217976397,0.049075764562714674,-0.009000332811550216,-0.05175528850834432,-0.006928206670742121,-0.019761170378257198,0.028636204763079043,0.03242231291928643,-0.009839552338880786,0.027912811477669663,-0.012172953210852988,-0.052932863111696093],\"xaxis\":\"x5\",\"yaxis\":\"y5\",\"type\":\"histogram\"}],                        {\"barmode\":\"overlay\",\"legend\":{\"bgcolor\":\"#F5F6F9\",\"font\":{\"color\":\"#4D5663\"}},\"paper_bgcolor\":\"#F5F6F9\",\"plot_bgcolor\":\"#F5F6F9\",\"template\":{\"data\":{\"barpolar\":[{\"marker\":{\"line\":{\"color\":\"#E5ECF6\",\"width\":0.5},\"pattern\":{\"fillmode\":\"overlay\",\"size\":10,\"solidity\":0.2}},\"type\":\"barpolar\"}],\"bar\":[{\"error_x\":{\"color\":\"#2a3f5f\"},\"error_y\":{\"color\":\"#2a3f5f\"},\"marker\":{\"line\":{\"color\":\"#E5ECF6\",\"width\":0.5},\"pattern\":{\"fillmode\":\"overlay\",\"size\":10,\"solidity\":0.2}},\"type\":\"bar\"}],\"carpet\":[{\"aaxis\":{\"endlinecolor\":\"#2a3f5f\",\"gridcolor\":\"white\",\"linecolor\":\"white\",\"minorgridcolor\":\"white\",\"startlinecolor\":\"#2a3f5f\"},\"baxis\":{\"endlinecolor\":\"#2a3f5f\",\"gridcolor\":\"white\",\"linecolor\":\"white\",\"minorgridcolor\":\"white\",\"startlinecolor\":\"#2a3f5f\"},\"type\":\"carpet\"}],\"choropleth\":[{\"colorbar\":{\"outlinewidth\":0,\"ticks\":\"\"},\"type\":\"choropleth\"}],\"contourcarpet\":[{\"colorbar\":{\"outlinewidth\":0,\"ticks\":\"\"},\"type\":\"contourcarpet\"}],\"contour\":[{\"colorbar\":{\"outlinewidth\":0,\"ticks\":\"\"},\"colorscale\":[[0.0,\"#0d0887\"],[0.1111111111111111,\"#46039f\"],[0.2222222222222222,\"#7201a8\"],[0.3333333333333333,\"#9c179e\"],[0.4444444444444444,\"#bd3786\"],[0.5555555555555556,\"#d8576b\"],[0.6666666666666666,\"#ed7953\"],[0.7777777777777778,\"#fb9f3a\"],[0.8888888888888888,\"#fdca26\"],[1.0,\"#f0f921\"]],\"type\":\"contour\"}],\"heatmapgl\":[{\"colorbar\":{\"outlinewidth\":0,\"ticks\":\"\"},\"colorscale\":[[0.0,\"#0d0887\"],[0.1111111111111111,\"#46039f\"],[0.2222222222222222,\"#7201a8\"],[0.3333333333333333,\"#9c179e\"],[0.4444444444444444,\"#bd3786\"],[0.5555555555555556,\"#d8576b\"],[0.6666666666666666,\"#ed7953\"],[0.7777777777777778,\"#fb9f3a\"],[0.8888888888888888,\"#fdca26\"],[1.0,\"#f0f921\"]],\"type\":\"heatmapgl\"}],\"heatmap\":[{\"colorbar\":{\"outlinewidth\":0,\"ticks\":\"\"},\"colorscale\":[[0.0,\"#0d0887\"],[0.1111111111111111,\"#46039f\"],[0.2222222222222222,\"#7201a8\"],[0.3333333333333333,\"#9c179e\"],[0.4444444444444444,\"#bd3786\"],[0.5555555555555556,\"#d8576b\"],[0.6666666666666666,\"#ed7953\"],[0.7777777777777778,\"#fb9f3a\"],[0.8888888888888888,\"#fdca26\"],[1.0,\"#f0f921\"]],\"type\":\"heatmap\"}],\"histogram2dcontour\":[{\"colorbar\":{\"outlinewidth\":0,\"ticks\":\"\"},\"colorscale\":[[0.0,\"#0d0887\"],[0.1111111111111111,\"#46039f\"],[0.2222222222222222,\"#7201a8\"],[0.3333333333333333,\"#9c179e\"],[0.4444444444444444,\"#bd3786\"],[0.5555555555555556,\"#d8576b\"],[0.6666666666666666,\"#ed7953\"],[0.7777777777777778,\"#fb9f3a\"],[0.8888888888888888,\"#fdca26\"],[1.0,\"#f0f921\"]],\"type\":\"histogram2dcontour\"}],\"histogram2d\":[{\"colorbar\":{\"outlinewidth\":0,\"ticks\":\"\"},\"colorscale\":[[0.0,\"#0d0887\"],[0.1111111111111111,\"#46039f\"],[0.2222222222222222,\"#7201a8\"],[0.3333333333333333,\"#9c179e\"],[0.4444444444444444,\"#bd3786\"],[0.5555555555555556,\"#d8576b\"],[0.6666666666666666,\"#ed7953\"],[0.7777777777777778,\"#fb9f3a\"],[0.8888888888888888,\"#fdca26\"],[1.0,\"#f0f921\"]],\"type\":\"histogram2d\"}],\"histogram\":[{\"marker\":{\"pattern\":{\"fillmode\":\"overlay\",\"size\":10,\"solidity\":0.2}},\"type\":\"histogram\"}],\"mesh3d\":[{\"colorbar\":{\"outlinewidth\":0,\"ticks\":\"\"},\"type\":\"mesh3d\"}],\"parcoords\":[{\"line\":{\"colorbar\":{\"outlinewidth\":0,\"ticks\":\"\"}},\"type\":\"parcoords\"}],\"pie\":[{\"automargin\":true,\"type\":\"pie\"}],\"scatter3d\":[{\"line\":{\"colorbar\":{\"outlinewidth\":0,\"ticks\":\"\"}},\"marker\":{\"colorbar\":{\"outlinewidth\":0,\"ticks\":\"\"}},\"type\":\"scatter3d\"}],\"scattercarpet\":[{\"marker\":{\"colorbar\":{\"outlinewidth\":0,\"ticks\":\"\"}},\"type\":\"scattercarpet\"}],\"scattergeo\":[{\"marker\":{\"colorbar\":{\"outlinewidth\":0,\"ticks\":\"\"}},\"type\":\"scattergeo\"}],\"scattergl\":[{\"marker\":{\"colorbar\":{\"outlinewidth\":0,\"ticks\":\"\"}},\"type\":\"scattergl\"}],\"scattermapbox\":[{\"marker\":{\"colorbar\":{\"outlinewidth\":0,\"ticks\":\"\"}},\"type\":\"scattermapbox\"}],\"scatterpolargl\":[{\"marker\":{\"colorbar\":{\"outlinewidth\":0,\"ticks\":\"\"}},\"type\":\"scatterpolargl\"}],\"scatterpolar\":[{\"marker\":{\"colorbar\":{\"outlinewidth\":0,\"ticks\":\"\"}},\"type\":\"scatterpolar\"}],\"scatter\":[{\"fillpattern\":{\"fillmode\":\"overlay\",\"size\":10,\"solidity\":0.2},\"type\":\"scatter\"}],\"scatterternary\":[{\"marker\":{\"colorbar\":{\"outlinewidth\":0,\"ticks\":\"\"}},\"type\":\"scatterternary\"}],\"surface\":[{\"colorbar\":{\"outlinewidth\":0,\"ticks\":\"\"},\"colorscale\":[[0.0,\"#0d0887\"],[0.1111111111111111,\"#46039f\"],[0.2222222222222222,\"#7201a8\"],[0.3333333333333333,\"#9c179e\"],[0.4444444444444444,\"#bd3786\"],[0.5555555555555556,\"#d8576b\"],[0.6666666666666666,\"#ed7953\"],[0.7777777777777778,\"#fb9f3a\"],[0.8888888888888888,\"#fdca26\"],[1.0,\"#f0f921\"]],\"type\":\"surface\"}],\"table\":[{\"cells\":{\"fill\":{\"color\":\"#EBF0F8\"},\"line\":{\"color\":\"white\"}},\"header\":{\"fill\":{\"color\":\"#C8D4E3\"},\"line\":{\"color\":\"white\"}},\"type\":\"table\"}]},\"layout\":{\"annotationdefaults\":{\"arrowcolor\":\"#2a3f5f\",\"arrowhead\":0,\"arrowwidth\":1},\"autotypenumbers\":\"strict\",\"coloraxis\":{\"colorbar\":{\"outlinewidth\":0,\"ticks\":\"\"}},\"colorscale\":{\"diverging\":[[0,\"#8e0152\"],[0.1,\"#c51b7d\"],[0.2,\"#de77ae\"],[0.3,\"#f1b6da\"],[0.4,\"#fde0ef\"],[0.5,\"#f7f7f7\"],[0.6,\"#e6f5d0\"],[0.7,\"#b8e186\"],[0.8,\"#7fbc41\"],[0.9,\"#4d9221\"],[1,\"#276419\"]],\"sequential\":[[0.0,\"#0d0887\"],[0.1111111111111111,\"#46039f\"],[0.2222222222222222,\"#7201a8\"],[0.3333333333333333,\"#9c179e\"],[0.4444444444444444,\"#bd3786\"],[0.5555555555555556,\"#d8576b\"],[0.6666666666666666,\"#ed7953\"],[0.7777777777777778,\"#fb9f3a\"],[0.8888888888888888,\"#fdca26\"],[1.0,\"#f0f921\"]],\"sequentialminus\":[[0.0,\"#0d0887\"],[0.1111111111111111,\"#46039f\"],[0.2222222222222222,\"#7201a8\"],[0.3333333333333333,\"#9c179e\"],[0.4444444444444444,\"#bd3786\"],[0.5555555555555556,\"#d8576b\"],[0.6666666666666666,\"#ed7953\"],[0.7777777777777778,\"#fb9f3a\"],[0.8888888888888888,\"#fdca26\"],[1.0,\"#f0f921\"]]},\"colorway\":[\"#636efa\",\"#EF553B\",\"#00cc96\",\"#ab63fa\",\"#FFA15A\",\"#19d3f3\",\"#FF6692\",\"#B6E880\",\"#FF97FF\",\"#FECB52\"],\"font\":{\"color\":\"#2a3f5f\"},\"geo\":{\"bgcolor\":\"white\",\"lakecolor\":\"white\",\"landcolor\":\"#E5ECF6\",\"showlakes\":true,\"showland\":true,\"subunitcolor\":\"white\"},\"hoverlabel\":{\"align\":\"left\"},\"hovermode\":\"closest\",\"mapbox\":{\"style\":\"light\"},\"paper_bgcolor\":\"white\",\"plot_bgcolor\":\"#E5ECF6\",\"polar\":{\"angularaxis\":{\"gridcolor\":\"white\",\"linecolor\":\"white\",\"ticks\":\"\"},\"bgcolor\":\"#E5ECF6\",\"radialaxis\":{\"gridcolor\":\"white\",\"linecolor\":\"white\",\"ticks\":\"\"}},\"scene\":{\"xaxis\":{\"backgroundcolor\":\"#E5ECF6\",\"gridcolor\":\"white\",\"gridwidth\":2,\"linecolor\":\"white\",\"showbackground\":true,\"ticks\":\"\",\"zerolinecolor\":\"white\"},\"yaxis\":{\"backgroundcolor\":\"#E5ECF6\",\"gridcolor\":\"white\",\"gridwidth\":2,\"linecolor\":\"white\",\"showbackground\":true,\"ticks\":\"\",\"zerolinecolor\":\"white\"},\"zaxis\":{\"backgroundcolor\":\"#E5ECF6\",\"gridcolor\":\"white\",\"gridwidth\":2,\"linecolor\":\"white\",\"showbackground\":true,\"ticks\":\"\",\"zerolinecolor\":\"white\"}},\"shapedefaults\":{\"line\":{\"color\":\"#2a3f5f\"}},\"ternary\":{\"aaxis\":{\"gridcolor\":\"white\",\"linecolor\":\"white\",\"ticks\":\"\"},\"baxis\":{\"gridcolor\":\"white\",\"linecolor\":\"white\",\"ticks\":\"\"},\"bgcolor\":\"#E5ECF6\",\"caxis\":{\"gridcolor\":\"white\",\"linecolor\":\"white\",\"ticks\":\"\"}},\"title\":{\"x\":0.05},\"xaxis\":{\"automargin\":true,\"gridcolor\":\"white\",\"linecolor\":\"white\",\"ticks\":\"\",\"title\":{\"standoff\":15},\"zerolinecolor\":\"white\",\"zerolinewidth\":2},\"yaxis\":{\"automargin\":true,\"gridcolor\":\"white\",\"linecolor\":\"white\",\"ticks\":\"\",\"title\":{\"standoff\":15},\"zerolinecolor\":\"white\",\"zerolinewidth\":2}}},\"title\":{\"font\":{\"color\":\"#4D5663\"},\"text\":\"Histogram of Daily Returns\"},\"xaxis\":{\"anchor\":\"y\",\"domain\":[0.0,0.45],\"gridcolor\":\"#E1E5ED\",\"showgrid\":true,\"tickfont\":{\"color\":\"#4D5663\"},\"title\":{\"font\":{\"color\":\"#4D5663\"},\"text\":\"\"},\"zerolinecolor\":\"#E1E5ED\"},\"yaxis\":{\"anchor\":\"x\",\"domain\":[0.7333333333333333,1.0],\"gridcolor\":\"#E1E5ED\",\"showgrid\":true,\"tickfont\":{\"color\":\"#4D5663\"},\"title\":{\"font\":{\"color\":\"#4D5663\"},\"text\":\"\"},\"zerolinecolor\":\"#E1E5ED\"},\"xaxis2\":{\"anchor\":\"y2\",\"domain\":[0.55,1.0],\"gridcolor\":\"#E1E5ED\",\"showgrid\":true,\"tickfont\":{\"color\":\"#4D5663\"},\"title\":{\"font\":{\"color\":\"#4D5663\"},\"text\":\"\"},\"zerolinecolor\":\"#E1E5ED\"},\"yaxis2\":{\"anchor\":\"x2\",\"domain\":[0.7333333333333333,1.0],\"gridcolor\":\"#E1E5ED\",\"showgrid\":true,\"tickfont\":{\"color\":\"#4D5663\"},\"title\":{\"font\":{\"color\":\"#4D5663\"},\"text\":\"\"},\"zerolinecolor\":\"#E1E5ED\"},\"xaxis3\":{\"anchor\":\"y3\",\"domain\":[0.0,0.45],\"gridcolor\":\"#E1E5ED\",\"showgrid\":true,\"tickfont\":{\"color\":\"#4D5663\"},\"title\":{\"font\":{\"color\":\"#4D5663\"},\"text\":\"\"},\"zerolinecolor\":\"#E1E5ED\"},\"yaxis3\":{\"anchor\":\"x3\",\"domain\":[0.36666666666666664,0.6333333333333333],\"gridcolor\":\"#E1E5ED\",\"showgrid\":true,\"tickfont\":{\"color\":\"#4D5663\"},\"title\":{\"font\":{\"color\":\"#4D5663\"},\"text\":\"\"},\"zerolinecolor\":\"#E1E5ED\"},\"xaxis4\":{\"anchor\":\"y4\",\"domain\":[0.55,1.0],\"gridcolor\":\"#E1E5ED\",\"showgrid\":true,\"tickfont\":{\"color\":\"#4D5663\"},\"title\":{\"font\":{\"color\":\"#4D5663\"},\"text\":\"\"},\"zerolinecolor\":\"#E1E5ED\"},\"yaxis4\":{\"anchor\":\"x4\",\"domain\":[0.36666666666666664,0.6333333333333333],\"gridcolor\":\"#E1E5ED\",\"showgrid\":true,\"tickfont\":{\"color\":\"#4D5663\"},\"title\":{\"font\":{\"color\":\"#4D5663\"},\"text\":\"\"},\"zerolinecolor\":\"#E1E5ED\"},\"xaxis5\":{\"anchor\":\"y5\",\"domain\":[0.0,0.45],\"gridcolor\":\"#E1E5ED\",\"showgrid\":true,\"tickfont\":{\"color\":\"#4D5663\"},\"title\":{\"font\":{\"color\":\"#4D5663\"},\"text\":\"\"},\"zerolinecolor\":\"#E1E5ED\"},\"yaxis5\":{\"anchor\":\"x5\",\"domain\":[0.0,0.26666666666666666],\"gridcolor\":\"#E1E5ED\",\"showgrid\":true,\"tickfont\":{\"color\":\"#4D5663\"},\"title\":{\"font\":{\"color\":\"#4D5663\"},\"text\":\"\"},\"zerolinecolor\":\"#E1E5ED\"}},                        {\"showLink\": true, \"linkText\": \"Export to plot.ly\", \"plotlyServerURL\": \"https://plot.ly\", \"responsive\": true}                    ).then(function(){\n",
       "                            \n",
       "var gd = document.getElementById('ab427ad3-3406-4103-8675-69b484ca88ae');\n",
       "var x = new MutationObserver(function (mutations, observer) {{\n",
       "        var display = window.getComputedStyle(gd).display;\n",
       "        if (!display || display === 'none') {{\n",
       "            console.log([gd, 'removed!']);\n",
       "            Plotly.purge(gd);\n",
       "            observer.disconnect();\n",
       "        }}\n",
       "}});\n",
       "\n",
       "// Listen for the removal of the full notebook cells\n",
       "var notebookContainer = gd.closest('#notebook-container');\n",
       "if (notebookContainer) {{\n",
       "    x.observe(notebookContainer, {childList: true});\n",
       "}}\n",
       "\n",
       "// Listen for the clearing of the current output cell\n",
       "var outputEl = gd.closest('.output');\n",
       "if (outputEl) {{\n",
       "    x.observe(outputEl, {childList: true});\n",
       "}}\n",
       "\n",
       "                        })                };                });            </script>        </div>"
      ]
     },
     "metadata": {},
     "output_type": "display_data"
    }
   ],
   "source": [
    "# Plot log normal distribution of returns\n",
    "daily_returns.iplot(kind='histogram', title = 'Histogram of Daily Returns', subplots=True)"
   ]
  },
  {
   "cell_type": "code",
   "execution_count": 43,
   "metadata": {},
   "outputs": [
    {
     "data": {
      "application/vnd.plotly.v1+json": {
       "config": {
        "linkText": "Export to plot.ly",
        "plotlyServerURL": "https://plot.ly",
        "showLink": true
       },
       "data": [
        {
         "colorscale": [
          [
           0,
           "rgb(247,251,255)"
          ],
          [
           0.125,
           "rgb(222,235,247)"
          ],
          [
           0.25,
           "rgb(198,219,239)"
          ],
          [
           0.375,
           "rgb(158,202,225)"
          ],
          [
           0.5,
           "rgb(107,174,214)"
          ],
          [
           0.625,
           "rgb(66,146,198)"
          ],
          [
           0.75,
           "rgb(33,113,181)"
          ],
          [
           0.875,
           "rgb(8,81,156)"
          ],
          [
           1,
           "rgb(8,48,107)"
          ]
         ],
         "type": "heatmap",
         "x": [
          "AAPL",
          "AMZN",
          "FB",
          "GOOG",
          "NFLX"
         ],
         "y": [
          "AAPL",
          "AMZN",
          "FB",
          "GOOG",
          "NFLX"
         ],
         "z": [
          [
           1,
           0.7038164620606526,
           0.5966422912225123,
           0.8032437553782846,
           0.427778872679677
          ],
          [
           0.7038164620606526,
           1,
           0.6301052367666657,
           0.7183755313986633,
           0.5439999990040829
          ],
          [
           0.5966422912225123,
           0.6301052367666657,
           1,
           0.689273172913599,
           0.5502816295714863
          ],
          [
           0.8032437553782846,
           0.7183755313986633,
           0.689273172913599,
           1,
           0.4795115651512848
          ],
          [
           0.427778872679677,
           0.5439999990040829,
           0.5502816295714863,
           0.4795115651512848,
           1
          ]
         ],
         "zmax": 1,
         "zmin": 0.427778872679677
        }
       ],
       "layout": {
        "legend": {
         "bgcolor": "#F5F6F9",
         "font": {
          "color": "#4D5663"
         }
        },
        "paper_bgcolor": "#F5F6F9",
        "plot_bgcolor": "#F5F6F9",
        "template": {
         "data": {
          "bar": [
           {
            "error_x": {
             "color": "#2a3f5f"
            },
            "error_y": {
             "color": "#2a3f5f"
            },
            "marker": {
             "line": {
              "color": "#E5ECF6",
              "width": 0.5
             },
             "pattern": {
              "fillmode": "overlay",
              "size": 10,
              "solidity": 0.2
             }
            },
            "type": "bar"
           }
          ],
          "barpolar": [
           {
            "marker": {
             "line": {
              "color": "#E5ECF6",
              "width": 0.5
             },
             "pattern": {
              "fillmode": "overlay",
              "size": 10,
              "solidity": 0.2
             }
            },
            "type": "barpolar"
           }
          ],
          "carpet": [
           {
            "aaxis": {
             "endlinecolor": "#2a3f5f",
             "gridcolor": "white",
             "linecolor": "white",
             "minorgridcolor": "white",
             "startlinecolor": "#2a3f5f"
            },
            "baxis": {
             "endlinecolor": "#2a3f5f",
             "gridcolor": "white",
             "linecolor": "white",
             "minorgridcolor": "white",
             "startlinecolor": "#2a3f5f"
            },
            "type": "carpet"
           }
          ],
          "choropleth": [
           {
            "colorbar": {
             "outlinewidth": 0,
             "ticks": ""
            },
            "type": "choropleth"
           }
          ],
          "contour": [
           {
            "colorbar": {
             "outlinewidth": 0,
             "ticks": ""
            },
            "colorscale": [
             [
              0,
              "#0d0887"
             ],
             [
              0.1111111111111111,
              "#46039f"
             ],
             [
              0.2222222222222222,
              "#7201a8"
             ],
             [
              0.3333333333333333,
              "#9c179e"
             ],
             [
              0.4444444444444444,
              "#bd3786"
             ],
             [
              0.5555555555555556,
              "#d8576b"
             ],
             [
              0.6666666666666666,
              "#ed7953"
             ],
             [
              0.7777777777777778,
              "#fb9f3a"
             ],
             [
              0.8888888888888888,
              "#fdca26"
             ],
             [
              1,
              "#f0f921"
             ]
            ],
            "type": "contour"
           }
          ],
          "contourcarpet": [
           {
            "colorbar": {
             "outlinewidth": 0,
             "ticks": ""
            },
            "type": "contourcarpet"
           }
          ],
          "heatmap": [
           {
            "colorbar": {
             "outlinewidth": 0,
             "ticks": ""
            },
            "colorscale": [
             [
              0,
              "#0d0887"
             ],
             [
              0.1111111111111111,
              "#46039f"
             ],
             [
              0.2222222222222222,
              "#7201a8"
             ],
             [
              0.3333333333333333,
              "#9c179e"
             ],
             [
              0.4444444444444444,
              "#bd3786"
             ],
             [
              0.5555555555555556,
              "#d8576b"
             ],
             [
              0.6666666666666666,
              "#ed7953"
             ],
             [
              0.7777777777777778,
              "#fb9f3a"
             ],
             [
              0.8888888888888888,
              "#fdca26"
             ],
             [
              1,
              "#f0f921"
             ]
            ],
            "type": "heatmap"
           }
          ],
          "heatmapgl": [
           {
            "colorbar": {
             "outlinewidth": 0,
             "ticks": ""
            },
            "colorscale": [
             [
              0,
              "#0d0887"
             ],
             [
              0.1111111111111111,
              "#46039f"
             ],
             [
              0.2222222222222222,
              "#7201a8"
             ],
             [
              0.3333333333333333,
              "#9c179e"
             ],
             [
              0.4444444444444444,
              "#bd3786"
             ],
             [
              0.5555555555555556,
              "#d8576b"
             ],
             [
              0.6666666666666666,
              "#ed7953"
             ],
             [
              0.7777777777777778,
              "#fb9f3a"
             ],
             [
              0.8888888888888888,
              "#fdca26"
             ],
             [
              1,
              "#f0f921"
             ]
            ],
            "type": "heatmapgl"
           }
          ],
          "histogram": [
           {
            "marker": {
             "pattern": {
              "fillmode": "overlay",
              "size": 10,
              "solidity": 0.2
             }
            },
            "type": "histogram"
           }
          ],
          "histogram2d": [
           {
            "colorbar": {
             "outlinewidth": 0,
             "ticks": ""
            },
            "colorscale": [
             [
              0,
              "#0d0887"
             ],
             [
              0.1111111111111111,
              "#46039f"
             ],
             [
              0.2222222222222222,
              "#7201a8"
             ],
             [
              0.3333333333333333,
              "#9c179e"
             ],
             [
              0.4444444444444444,
              "#bd3786"
             ],
             [
              0.5555555555555556,
              "#d8576b"
             ],
             [
              0.6666666666666666,
              "#ed7953"
             ],
             [
              0.7777777777777778,
              "#fb9f3a"
             ],
             [
              0.8888888888888888,
              "#fdca26"
             ],
             [
              1,
              "#f0f921"
             ]
            ],
            "type": "histogram2d"
           }
          ],
          "histogram2dcontour": [
           {
            "colorbar": {
             "outlinewidth": 0,
             "ticks": ""
            },
            "colorscale": [
             [
              0,
              "#0d0887"
             ],
             [
              0.1111111111111111,
              "#46039f"
             ],
             [
              0.2222222222222222,
              "#7201a8"
             ],
             [
              0.3333333333333333,
              "#9c179e"
             ],
             [
              0.4444444444444444,
              "#bd3786"
             ],
             [
              0.5555555555555556,
              "#d8576b"
             ],
             [
              0.6666666666666666,
              "#ed7953"
             ],
             [
              0.7777777777777778,
              "#fb9f3a"
             ],
             [
              0.8888888888888888,
              "#fdca26"
             ],
             [
              1,
              "#f0f921"
             ]
            ],
            "type": "histogram2dcontour"
           }
          ],
          "mesh3d": [
           {
            "colorbar": {
             "outlinewidth": 0,
             "ticks": ""
            },
            "type": "mesh3d"
           }
          ],
          "parcoords": [
           {
            "line": {
             "colorbar": {
              "outlinewidth": 0,
              "ticks": ""
             }
            },
            "type": "parcoords"
           }
          ],
          "pie": [
           {
            "automargin": true,
            "type": "pie"
           }
          ],
          "scatter": [
           {
            "fillpattern": {
             "fillmode": "overlay",
             "size": 10,
             "solidity": 0.2
            },
            "type": "scatter"
           }
          ],
          "scatter3d": [
           {
            "line": {
             "colorbar": {
              "outlinewidth": 0,
              "ticks": ""
             }
            },
            "marker": {
             "colorbar": {
              "outlinewidth": 0,
              "ticks": ""
             }
            },
            "type": "scatter3d"
           }
          ],
          "scattercarpet": [
           {
            "marker": {
             "colorbar": {
              "outlinewidth": 0,
              "ticks": ""
             }
            },
            "type": "scattercarpet"
           }
          ],
          "scattergeo": [
           {
            "marker": {
             "colorbar": {
              "outlinewidth": 0,
              "ticks": ""
             }
            },
            "type": "scattergeo"
           }
          ],
          "scattergl": [
           {
            "marker": {
             "colorbar": {
              "outlinewidth": 0,
              "ticks": ""
             }
            },
            "type": "scattergl"
           }
          ],
          "scattermapbox": [
           {
            "marker": {
             "colorbar": {
              "outlinewidth": 0,
              "ticks": ""
             }
            },
            "type": "scattermapbox"
           }
          ],
          "scatterpolar": [
           {
            "marker": {
             "colorbar": {
              "outlinewidth": 0,
              "ticks": ""
             }
            },
            "type": "scatterpolar"
           }
          ],
          "scatterpolargl": [
           {
            "marker": {
             "colorbar": {
              "outlinewidth": 0,
              "ticks": ""
             }
            },
            "type": "scatterpolargl"
           }
          ],
          "scatterternary": [
           {
            "marker": {
             "colorbar": {
              "outlinewidth": 0,
              "ticks": ""
             }
            },
            "type": "scatterternary"
           }
          ],
          "surface": [
           {
            "colorbar": {
             "outlinewidth": 0,
             "ticks": ""
            },
            "colorscale": [
             [
              0,
              "#0d0887"
             ],
             [
              0.1111111111111111,
              "#46039f"
             ],
             [
              0.2222222222222222,
              "#7201a8"
             ],
             [
              0.3333333333333333,
              "#9c179e"
             ],
             [
              0.4444444444444444,
              "#bd3786"
             ],
             [
              0.5555555555555556,
              "#d8576b"
             ],
             [
              0.6666666666666666,
              "#ed7953"
             ],
             [
              0.7777777777777778,
              "#fb9f3a"
             ],
             [
              0.8888888888888888,
              "#fdca26"
             ],
             [
              1,
              "#f0f921"
             ]
            ],
            "type": "surface"
           }
          ],
          "table": [
           {
            "cells": {
             "fill": {
              "color": "#EBF0F8"
             },
             "line": {
              "color": "white"
             }
            },
            "header": {
             "fill": {
              "color": "#C8D4E3"
             },
             "line": {
              "color": "white"
             }
            },
            "type": "table"
           }
          ]
         },
         "layout": {
          "annotationdefaults": {
           "arrowcolor": "#2a3f5f",
           "arrowhead": 0,
           "arrowwidth": 1
          },
          "autotypenumbers": "strict",
          "coloraxis": {
           "colorbar": {
            "outlinewidth": 0,
            "ticks": ""
           }
          },
          "colorscale": {
           "diverging": [
            [
             0,
             "#8e0152"
            ],
            [
             0.1,
             "#c51b7d"
            ],
            [
             0.2,
             "#de77ae"
            ],
            [
             0.3,
             "#f1b6da"
            ],
            [
             0.4,
             "#fde0ef"
            ],
            [
             0.5,
             "#f7f7f7"
            ],
            [
             0.6,
             "#e6f5d0"
            ],
            [
             0.7,
             "#b8e186"
            ],
            [
             0.8,
             "#7fbc41"
            ],
            [
             0.9,
             "#4d9221"
            ],
            [
             1,
             "#276419"
            ]
           ],
           "sequential": [
            [
             0,
             "#0d0887"
            ],
            [
             0.1111111111111111,
             "#46039f"
            ],
            [
             0.2222222222222222,
             "#7201a8"
            ],
            [
             0.3333333333333333,
             "#9c179e"
            ],
            [
             0.4444444444444444,
             "#bd3786"
            ],
            [
             0.5555555555555556,
             "#d8576b"
            ],
            [
             0.6666666666666666,
             "#ed7953"
            ],
            [
             0.7777777777777778,
             "#fb9f3a"
            ],
            [
             0.8888888888888888,
             "#fdca26"
            ],
            [
             1,
             "#f0f921"
            ]
           ],
           "sequentialminus": [
            [
             0,
             "#0d0887"
            ],
            [
             0.1111111111111111,
             "#46039f"
            ],
            [
             0.2222222222222222,
             "#7201a8"
            ],
            [
             0.3333333333333333,
             "#9c179e"
            ],
            [
             0.4444444444444444,
             "#bd3786"
            ],
            [
             0.5555555555555556,
             "#d8576b"
            ],
            [
             0.6666666666666666,
             "#ed7953"
            ],
            [
             0.7777777777777778,
             "#fb9f3a"
            ],
            [
             0.8888888888888888,
             "#fdca26"
            ],
            [
             1,
             "#f0f921"
            ]
           ]
          },
          "colorway": [
           "#636efa",
           "#EF553B",
           "#00cc96",
           "#ab63fa",
           "#FFA15A",
           "#19d3f3",
           "#FF6692",
           "#B6E880",
           "#FF97FF",
           "#FECB52"
          ],
          "font": {
           "color": "#2a3f5f"
          },
          "geo": {
           "bgcolor": "white",
           "lakecolor": "white",
           "landcolor": "#E5ECF6",
           "showlakes": true,
           "showland": true,
           "subunitcolor": "white"
          },
          "hoverlabel": {
           "align": "left"
          },
          "hovermode": "closest",
          "mapbox": {
           "style": "light"
          },
          "paper_bgcolor": "white",
          "plot_bgcolor": "#E5ECF6",
          "polar": {
           "angularaxis": {
            "gridcolor": "white",
            "linecolor": "white",
            "ticks": ""
           },
           "bgcolor": "#E5ECF6",
           "radialaxis": {
            "gridcolor": "white",
            "linecolor": "white",
            "ticks": ""
           }
          },
          "scene": {
           "xaxis": {
            "backgroundcolor": "#E5ECF6",
            "gridcolor": "white",
            "gridwidth": 2,
            "linecolor": "white",
            "showbackground": true,
            "ticks": "",
            "zerolinecolor": "white"
           },
           "yaxis": {
            "backgroundcolor": "#E5ECF6",
            "gridcolor": "white",
            "gridwidth": 2,
            "linecolor": "white",
            "showbackground": true,
            "ticks": "",
            "zerolinecolor": "white"
           },
           "zaxis": {
            "backgroundcolor": "#E5ECF6",
            "gridcolor": "white",
            "gridwidth": 2,
            "linecolor": "white",
            "showbackground": true,
            "ticks": "",
            "zerolinecolor": "white"
           }
          },
          "shapedefaults": {
           "line": {
            "color": "#2a3f5f"
           }
          },
          "ternary": {
           "aaxis": {
            "gridcolor": "white",
            "linecolor": "white",
            "ticks": ""
           },
           "baxis": {
            "gridcolor": "white",
            "linecolor": "white",
            "ticks": ""
           },
           "bgcolor": "#E5ECF6",
           "caxis": {
            "gridcolor": "white",
            "linecolor": "white",
            "ticks": ""
           }
          },
          "title": {
           "x": 0.05
          },
          "xaxis": {
           "automargin": true,
           "gridcolor": "white",
           "linecolor": "white",
           "ticks": "",
           "title": {
            "standoff": 15
           },
           "zerolinecolor": "white",
           "zerolinewidth": 2
          },
          "yaxis": {
           "automargin": true,
           "gridcolor": "white",
           "linecolor": "white",
           "ticks": "",
           "title": {
            "standoff": 15
           },
           "zerolinecolor": "white",
           "zerolinewidth": 2
          }
         }
        },
        "title": {
         "font": {
          "color": "#4D5663"
         },
         "text": "Correlation Matrix"
        },
        "xaxis": {
         "gridcolor": "#E1E5ED",
         "showgrid": true,
         "tickfont": {
          "color": "#4D5663"
         },
         "title": {
          "font": {
           "color": "#4D5663"
          },
          "text": ""
         },
         "zerolinecolor": "#E1E5ED"
        },
        "yaxis": {
         "gridcolor": "#E1E5ED",
         "showgrid": true,
         "tickfont": {
          "color": "#4D5663"
         },
         "title": {
          "font": {
           "color": "#4D5663"
          },
          "text": ""
         },
         "zerolinecolor": "#E1E5ED"
        }
       }
      },
      "text/html": [
       "<div>                            <div id=\"2e3d5dad-fe68-461a-bef9-fe044d8b4d38\" class=\"plotly-graph-div\" style=\"height:525px; width:100%;\"></div>            <script type=\"text/javascript\">                require([\"plotly\"], function(Plotly) {                    window.PLOTLYENV=window.PLOTLYENV || {};\n",
       "                    window.PLOTLYENV.BASE_URL='https://plot.ly';                                    if (document.getElementById(\"2e3d5dad-fe68-461a-bef9-fe044d8b4d38\")) {                    Plotly.newPlot(                        \"2e3d5dad-fe68-461a-bef9-fe044d8b4d38\",                        [{\"colorscale\":[[0.0,\"rgb(247,251,255)\"],[0.125,\"rgb(222,235,247)\"],[0.25,\"rgb(198,219,239)\"],[0.375,\"rgb(158,202,225)\"],[0.5,\"rgb(107,174,214)\"],[0.625,\"rgb(66,146,198)\"],[0.75,\"rgb(33,113,181)\"],[0.875,\"rgb(8,81,156)\"],[1.0,\"rgb(8,48,107)\"]],\"x\":[\"AAPL\",\"AMZN\",\"FB\",\"GOOG\",\"NFLX\"],\"y\":[\"AAPL\",\"AMZN\",\"FB\",\"GOOG\",\"NFLX\"],\"z\":[[1.0,0.7038164620606526,0.5966422912225123,0.8032437553782846,0.427778872679677],[0.7038164620606526,1.0,0.6301052367666657,0.7183755313986633,0.5439999990040829],[0.5966422912225123,0.6301052367666657,1.0,0.689273172913599,0.5502816295714863],[0.8032437553782846,0.7183755313986633,0.689273172913599,1.0,0.4795115651512848],[0.427778872679677,0.5439999990040829,0.5502816295714863,0.4795115651512848,1.0]],\"zmax\":1.0,\"zmin\":0.427778872679677,\"type\":\"heatmap\"}],                        {\"legend\":{\"bgcolor\":\"#F5F6F9\",\"font\":{\"color\":\"#4D5663\"}},\"paper_bgcolor\":\"#F5F6F9\",\"plot_bgcolor\":\"#F5F6F9\",\"template\":{\"data\":{\"barpolar\":[{\"marker\":{\"line\":{\"color\":\"#E5ECF6\",\"width\":0.5},\"pattern\":{\"fillmode\":\"overlay\",\"size\":10,\"solidity\":0.2}},\"type\":\"barpolar\"}],\"bar\":[{\"error_x\":{\"color\":\"#2a3f5f\"},\"error_y\":{\"color\":\"#2a3f5f\"},\"marker\":{\"line\":{\"color\":\"#E5ECF6\",\"width\":0.5},\"pattern\":{\"fillmode\":\"overlay\",\"size\":10,\"solidity\":0.2}},\"type\":\"bar\"}],\"carpet\":[{\"aaxis\":{\"endlinecolor\":\"#2a3f5f\",\"gridcolor\":\"white\",\"linecolor\":\"white\",\"minorgridcolor\":\"white\",\"startlinecolor\":\"#2a3f5f\"},\"baxis\":{\"endlinecolor\":\"#2a3f5f\",\"gridcolor\":\"white\",\"linecolor\":\"white\",\"minorgridcolor\":\"white\",\"startlinecolor\":\"#2a3f5f\"},\"type\":\"carpet\"}],\"choropleth\":[{\"colorbar\":{\"outlinewidth\":0,\"ticks\":\"\"},\"type\":\"choropleth\"}],\"contourcarpet\":[{\"colorbar\":{\"outlinewidth\":0,\"ticks\":\"\"},\"type\":\"contourcarpet\"}],\"contour\":[{\"colorbar\":{\"outlinewidth\":0,\"ticks\":\"\"},\"colorscale\":[[0.0,\"#0d0887\"],[0.1111111111111111,\"#46039f\"],[0.2222222222222222,\"#7201a8\"],[0.3333333333333333,\"#9c179e\"],[0.4444444444444444,\"#bd3786\"],[0.5555555555555556,\"#d8576b\"],[0.6666666666666666,\"#ed7953\"],[0.7777777777777778,\"#fb9f3a\"],[0.8888888888888888,\"#fdca26\"],[1.0,\"#f0f921\"]],\"type\":\"contour\"}],\"heatmapgl\":[{\"colorbar\":{\"outlinewidth\":0,\"ticks\":\"\"},\"colorscale\":[[0.0,\"#0d0887\"],[0.1111111111111111,\"#46039f\"],[0.2222222222222222,\"#7201a8\"],[0.3333333333333333,\"#9c179e\"],[0.4444444444444444,\"#bd3786\"],[0.5555555555555556,\"#d8576b\"],[0.6666666666666666,\"#ed7953\"],[0.7777777777777778,\"#fb9f3a\"],[0.8888888888888888,\"#fdca26\"],[1.0,\"#f0f921\"]],\"type\":\"heatmapgl\"}],\"heatmap\":[{\"colorbar\":{\"outlinewidth\":0,\"ticks\":\"\"},\"colorscale\":[[0.0,\"#0d0887\"],[0.1111111111111111,\"#46039f\"],[0.2222222222222222,\"#7201a8\"],[0.3333333333333333,\"#9c179e\"],[0.4444444444444444,\"#bd3786\"],[0.5555555555555556,\"#d8576b\"],[0.6666666666666666,\"#ed7953\"],[0.7777777777777778,\"#fb9f3a\"],[0.8888888888888888,\"#fdca26\"],[1.0,\"#f0f921\"]],\"type\":\"heatmap\"}],\"histogram2dcontour\":[{\"colorbar\":{\"outlinewidth\":0,\"ticks\":\"\"},\"colorscale\":[[0.0,\"#0d0887\"],[0.1111111111111111,\"#46039f\"],[0.2222222222222222,\"#7201a8\"],[0.3333333333333333,\"#9c179e\"],[0.4444444444444444,\"#bd3786\"],[0.5555555555555556,\"#d8576b\"],[0.6666666666666666,\"#ed7953\"],[0.7777777777777778,\"#fb9f3a\"],[0.8888888888888888,\"#fdca26\"],[1.0,\"#f0f921\"]],\"type\":\"histogram2dcontour\"}],\"histogram2d\":[{\"colorbar\":{\"outlinewidth\":0,\"ticks\":\"\"},\"colorscale\":[[0.0,\"#0d0887\"],[0.1111111111111111,\"#46039f\"],[0.2222222222222222,\"#7201a8\"],[0.3333333333333333,\"#9c179e\"],[0.4444444444444444,\"#bd3786\"],[0.5555555555555556,\"#d8576b\"],[0.6666666666666666,\"#ed7953\"],[0.7777777777777778,\"#fb9f3a\"],[0.8888888888888888,\"#fdca26\"],[1.0,\"#f0f921\"]],\"type\":\"histogram2d\"}],\"histogram\":[{\"marker\":{\"pattern\":{\"fillmode\":\"overlay\",\"size\":10,\"solidity\":0.2}},\"type\":\"histogram\"}],\"mesh3d\":[{\"colorbar\":{\"outlinewidth\":0,\"ticks\":\"\"},\"type\":\"mesh3d\"}],\"parcoords\":[{\"line\":{\"colorbar\":{\"outlinewidth\":0,\"ticks\":\"\"}},\"type\":\"parcoords\"}],\"pie\":[{\"automargin\":true,\"type\":\"pie\"}],\"scatter3d\":[{\"line\":{\"colorbar\":{\"outlinewidth\":0,\"ticks\":\"\"}},\"marker\":{\"colorbar\":{\"outlinewidth\":0,\"ticks\":\"\"}},\"type\":\"scatter3d\"}],\"scattercarpet\":[{\"marker\":{\"colorbar\":{\"outlinewidth\":0,\"ticks\":\"\"}},\"type\":\"scattercarpet\"}],\"scattergeo\":[{\"marker\":{\"colorbar\":{\"outlinewidth\":0,\"ticks\":\"\"}},\"type\":\"scattergeo\"}],\"scattergl\":[{\"marker\":{\"colorbar\":{\"outlinewidth\":0,\"ticks\":\"\"}},\"type\":\"scattergl\"}],\"scattermapbox\":[{\"marker\":{\"colorbar\":{\"outlinewidth\":0,\"ticks\":\"\"}},\"type\":\"scattermapbox\"}],\"scatterpolargl\":[{\"marker\":{\"colorbar\":{\"outlinewidth\":0,\"ticks\":\"\"}},\"type\":\"scatterpolargl\"}],\"scatterpolar\":[{\"marker\":{\"colorbar\":{\"outlinewidth\":0,\"ticks\":\"\"}},\"type\":\"scatterpolar\"}],\"scatter\":[{\"fillpattern\":{\"fillmode\":\"overlay\",\"size\":10,\"solidity\":0.2},\"type\":\"scatter\"}],\"scatterternary\":[{\"marker\":{\"colorbar\":{\"outlinewidth\":0,\"ticks\":\"\"}},\"type\":\"scatterternary\"}],\"surface\":[{\"colorbar\":{\"outlinewidth\":0,\"ticks\":\"\"},\"colorscale\":[[0.0,\"#0d0887\"],[0.1111111111111111,\"#46039f\"],[0.2222222222222222,\"#7201a8\"],[0.3333333333333333,\"#9c179e\"],[0.4444444444444444,\"#bd3786\"],[0.5555555555555556,\"#d8576b\"],[0.6666666666666666,\"#ed7953\"],[0.7777777777777778,\"#fb9f3a\"],[0.8888888888888888,\"#fdca26\"],[1.0,\"#f0f921\"]],\"type\":\"surface\"}],\"table\":[{\"cells\":{\"fill\":{\"color\":\"#EBF0F8\"},\"line\":{\"color\":\"white\"}},\"header\":{\"fill\":{\"color\":\"#C8D4E3\"},\"line\":{\"color\":\"white\"}},\"type\":\"table\"}]},\"layout\":{\"annotationdefaults\":{\"arrowcolor\":\"#2a3f5f\",\"arrowhead\":0,\"arrowwidth\":1},\"autotypenumbers\":\"strict\",\"coloraxis\":{\"colorbar\":{\"outlinewidth\":0,\"ticks\":\"\"}},\"colorscale\":{\"diverging\":[[0,\"#8e0152\"],[0.1,\"#c51b7d\"],[0.2,\"#de77ae\"],[0.3,\"#f1b6da\"],[0.4,\"#fde0ef\"],[0.5,\"#f7f7f7\"],[0.6,\"#e6f5d0\"],[0.7,\"#b8e186\"],[0.8,\"#7fbc41\"],[0.9,\"#4d9221\"],[1,\"#276419\"]],\"sequential\":[[0.0,\"#0d0887\"],[0.1111111111111111,\"#46039f\"],[0.2222222222222222,\"#7201a8\"],[0.3333333333333333,\"#9c179e\"],[0.4444444444444444,\"#bd3786\"],[0.5555555555555556,\"#d8576b\"],[0.6666666666666666,\"#ed7953\"],[0.7777777777777778,\"#fb9f3a\"],[0.8888888888888888,\"#fdca26\"],[1.0,\"#f0f921\"]],\"sequentialminus\":[[0.0,\"#0d0887\"],[0.1111111111111111,\"#46039f\"],[0.2222222222222222,\"#7201a8\"],[0.3333333333333333,\"#9c179e\"],[0.4444444444444444,\"#bd3786\"],[0.5555555555555556,\"#d8576b\"],[0.6666666666666666,\"#ed7953\"],[0.7777777777777778,\"#fb9f3a\"],[0.8888888888888888,\"#fdca26\"],[1.0,\"#f0f921\"]]},\"colorway\":[\"#636efa\",\"#EF553B\",\"#00cc96\",\"#ab63fa\",\"#FFA15A\",\"#19d3f3\",\"#FF6692\",\"#B6E880\",\"#FF97FF\",\"#FECB52\"],\"font\":{\"color\":\"#2a3f5f\"},\"geo\":{\"bgcolor\":\"white\",\"lakecolor\":\"white\",\"landcolor\":\"#E5ECF6\",\"showlakes\":true,\"showland\":true,\"subunitcolor\":\"white\"},\"hoverlabel\":{\"align\":\"left\"},\"hovermode\":\"closest\",\"mapbox\":{\"style\":\"light\"},\"paper_bgcolor\":\"white\",\"plot_bgcolor\":\"#E5ECF6\",\"polar\":{\"angularaxis\":{\"gridcolor\":\"white\",\"linecolor\":\"white\",\"ticks\":\"\"},\"bgcolor\":\"#E5ECF6\",\"radialaxis\":{\"gridcolor\":\"white\",\"linecolor\":\"white\",\"ticks\":\"\"}},\"scene\":{\"xaxis\":{\"backgroundcolor\":\"#E5ECF6\",\"gridcolor\":\"white\",\"gridwidth\":2,\"linecolor\":\"white\",\"showbackground\":true,\"ticks\":\"\",\"zerolinecolor\":\"white\"},\"yaxis\":{\"backgroundcolor\":\"#E5ECF6\",\"gridcolor\":\"white\",\"gridwidth\":2,\"linecolor\":\"white\",\"showbackground\":true,\"ticks\":\"\",\"zerolinecolor\":\"white\"},\"zaxis\":{\"backgroundcolor\":\"#E5ECF6\",\"gridcolor\":\"white\",\"gridwidth\":2,\"linecolor\":\"white\",\"showbackground\":true,\"ticks\":\"\",\"zerolinecolor\":\"white\"}},\"shapedefaults\":{\"line\":{\"color\":\"#2a3f5f\"}},\"ternary\":{\"aaxis\":{\"gridcolor\":\"white\",\"linecolor\":\"white\",\"ticks\":\"\"},\"baxis\":{\"gridcolor\":\"white\",\"linecolor\":\"white\",\"ticks\":\"\"},\"bgcolor\":\"#E5ECF6\",\"caxis\":{\"gridcolor\":\"white\",\"linecolor\":\"white\",\"ticks\":\"\"}},\"title\":{\"x\":0.05},\"xaxis\":{\"automargin\":true,\"gridcolor\":\"white\",\"linecolor\":\"white\",\"ticks\":\"\",\"title\":{\"standoff\":15},\"zerolinecolor\":\"white\",\"zerolinewidth\":2},\"yaxis\":{\"automargin\":true,\"gridcolor\":\"white\",\"linecolor\":\"white\",\"ticks\":\"\",\"title\":{\"standoff\":15},\"zerolinecolor\":\"white\",\"zerolinewidth\":2}}},\"title\":{\"font\":{\"color\":\"#4D5663\"},\"text\":\"Correlation Matrix\"},\"xaxis\":{\"gridcolor\":\"#E1E5ED\",\"showgrid\":true,\"tickfont\":{\"color\":\"#4D5663\"},\"title\":{\"font\":{\"color\":\"#4D5663\"},\"text\":\"\"},\"zerolinecolor\":\"#E1E5ED\"},\"yaxis\":{\"gridcolor\":\"#E1E5ED\",\"showgrid\":true,\"tickfont\":{\"color\":\"#4D5663\"},\"title\":{\"font\":{\"color\":\"#4D5663\"},\"text\":\"\"},\"zerolinecolor\":\"#E1E5ED\"}},                        {\"showLink\": true, \"linkText\": \"Export to plot.ly\", \"plotlyServerURL\": \"https://plot.ly\", \"responsive\": true}                    ).then(function(){\n",
       "                            \n",
       "var gd = document.getElementById('2e3d5dad-fe68-461a-bef9-fe044d8b4d38');\n",
       "var x = new MutationObserver(function (mutations, observer) {{\n",
       "        var display = window.getComputedStyle(gd).display;\n",
       "        if (!display || display === 'none') {{\n",
       "            console.log([gd, 'removed!']);\n",
       "            Plotly.purge(gd);\n",
       "            observer.disconnect();\n",
       "        }}\n",
       "}});\n",
       "\n",
       "// Listen for the removal of the full notebook cells\n",
       "var notebookContainer = gd.closest('#notebook-container');\n",
       "if (notebookContainer) {{\n",
       "    x.observe(notebookContainer, {childList: true});\n",
       "}}\n",
       "\n",
       "// Listen for the clearing of the current output cell\n",
       "var outputEl = gd.closest('.output');\n",
       "if (outputEl) {{\n",
       "    x.observe(outputEl, {childList: true});\n",
       "}}\n",
       "\n",
       "                        })                };                });            </script>        </div>"
      ]
     },
     "metadata": {},
     "output_type": "display_data"
    }
   ],
   "source": [
    "# Plot correlation of returns\n",
    "daily_returns.corr().iplot(kind='heatmap', title=\"Correlation Matrix\", colorscale=\"Blues\")"
   ]
  },
  {
   "cell_type": "code",
   "execution_count": 44,
   "metadata": {},
   "outputs": [
    {
     "data": {
      "text/plain": [
       "AAPL    0.596642\n",
       "AMZN    0.630105\n",
       "FB      1.000000\n",
       "GOOG    0.689273\n",
       "NFLX    0.550282\n",
       "dtype: float64"
      ]
     },
     "execution_count": 44,
     "metadata": {},
     "output_type": "execute_result"
    }
   ],
   "source": [
    "# Compute pairwise correlation\n",
    "daily_returns.corrwith(daily_returns['FB'])"
   ]
  },
  {
   "cell_type": "code",
   "execution_count": 45,
   "metadata": {},
   "outputs": [
    {
     "data": {
      "text/html": [
       "<div>\n",
       "<style scoped>\n",
       "    .dataframe tbody tr th:only-of-type {\n",
       "        vertical-align: middle;\n",
       "    }\n",
       "\n",
       "    .dataframe tbody tr th {\n",
       "        vertical-align: top;\n",
       "    }\n",
       "\n",
       "    .dataframe thead th {\n",
       "        text-align: right;\n",
       "    }\n",
       "</style>\n",
       "<table border=\"1\" class=\"dataframe\">\n",
       "  <thead>\n",
       "    <tr style=\"text-align: right;\">\n",
       "      <th></th>\n",
       "      <th>AAPL</th>\n",
       "    </tr>\n",
       "    <tr>\n",
       "      <th>Date</th>\n",
       "      <th></th>\n",
       "    </tr>\n",
       "  </thead>\n",
       "  <tbody>\n",
       "    <tr>\n",
       "      <th>2022-06-19</th>\n",
       "      <td>131.559998</td>\n",
       "    </tr>\n",
       "    <tr>\n",
       "      <th>2022-06-26</th>\n",
       "      <td>141.660004</td>\n",
       "    </tr>\n",
       "    <tr>\n",
       "      <th>2022-07-03</th>\n",
       "      <td>138.929993</td>\n",
       "    </tr>\n",
       "    <tr>\n",
       "      <th>2022-07-10</th>\n",
       "      <td>147.039993</td>\n",
       "    </tr>\n",
       "    <tr>\n",
       "      <th>2022-07-17</th>\n",
       "      <td>147.440002</td>\n",
       "    </tr>\n",
       "  </tbody>\n",
       "</table>\n",
       "</div>"
      ],
      "text/plain": [
       "                  AAPL\n",
       "Date                  \n",
       "2022-06-19  131.559998\n",
       "2022-06-26  141.660004\n",
       "2022-07-03  138.929993\n",
       "2022-07-10  147.039993\n",
       "2022-07-17  147.440002"
      ]
     },
     "execution_count": 45,
     "metadata": {},
     "output_type": "execute_result"
    }
   ],
   "source": [
    "# Resampling to derive weekly values from daily time series\n",
    "df_weekly = df4[['AAPL']].resample('W').last()\n",
    "\n",
    "# Display the last five rows of the data frame to check the output\n",
    "df_weekly.tail(5)"
   ]
  },
  {
   "cell_type": "code",
   "execution_count": 46,
   "metadata": {},
   "outputs": [
    {
     "data": {
      "text/html": [
       "<div>\n",
       "<style scoped>\n",
       "    .dataframe tbody tr th:only-of-type {\n",
       "        vertical-align: middle;\n",
       "    }\n",
       "\n",
       "    .dataframe tbody tr th {\n",
       "        vertical-align: top;\n",
       "    }\n",
       "\n",
       "    .dataframe thead th {\n",
       "        text-align: right;\n",
       "    }\n",
       "</style>\n",
       "<table border=\"1\" class=\"dataframe\">\n",
       "  <thead>\n",
       "    <tr style=\"text-align: right;\">\n",
       "      <th></th>\n",
       "      <th>AAPL</th>\n",
       "    </tr>\n",
       "    <tr>\n",
       "      <th>Date</th>\n",
       "      <th></th>\n",
       "    </tr>\n",
       "  </thead>\n",
       "  <tbody>\n",
       "    <tr>\n",
       "      <th>2022-06-16</th>\n",
       "      <td>130.059998</td>\n",
       "    </tr>\n",
       "    <tr>\n",
       "      <th>2022-06-23</th>\n",
       "      <td>138.270004</td>\n",
       "    </tr>\n",
       "    <tr>\n",
       "      <th>2022-06-30</th>\n",
       "      <td>136.720001</td>\n",
       "    </tr>\n",
       "    <tr>\n",
       "      <th>2022-07-07</th>\n",
       "      <td>146.350006</td>\n",
       "    </tr>\n",
       "    <tr>\n",
       "      <th>2022-07-14</th>\n",
       "      <td>147.440002</td>\n",
       "    </tr>\n",
       "  </tbody>\n",
       "</table>\n",
       "</div>"
      ],
      "text/plain": [
       "                  AAPL\n",
       "Date                  \n",
       "2022-06-16  130.059998\n",
       "2022-06-23  138.270004\n",
       "2022-06-30  136.720001\n",
       "2022-07-07  146.350006\n",
       "2022-07-14  147.440002"
      ]
     },
     "execution_count": 46,
     "metadata": {},
     "output_type": "execute_result"
    }
   ],
   "source": [
    "# Resampling to a specific day of the week: Thursday\n",
    "df_weekly_thu = df4[['AAPL']].resample('W-THU').ffill()\n",
    "\n",
    "# Display the last five rows of the data frame to check the output\n",
    "df_weekly_thu.tail()"
   ]
  },
  {
   "cell_type": "code",
   "execution_count": 47,
   "metadata": {},
   "outputs": [
    {
     "data": {
      "text/html": [
       "<div>\n",
       "<style scoped>\n",
       "    .dataframe tbody tr th:only-of-type {\n",
       "        vertical-align: middle;\n",
       "    }\n",
       "\n",
       "    .dataframe tbody tr th {\n",
       "        vertical-align: top;\n",
       "    }\n",
       "\n",
       "    .dataframe thead th {\n",
       "        text-align: right;\n",
       "    }\n",
       "</style>\n",
       "<table border=\"1\" class=\"dataframe\">\n",
       "  <thead>\n",
       "    <tr style=\"text-align: right;\">\n",
       "      <th></th>\n",
       "      <th>AAPL</th>\n",
       "    </tr>\n",
       "    <tr>\n",
       "      <th>Date</th>\n",
       "      <th></th>\n",
       "    </tr>\n",
       "  </thead>\n",
       "  <tbody>\n",
       "    <tr>\n",
       "      <th>2022-03-31</th>\n",
       "      <td>174.353836</td>\n",
       "    </tr>\n",
       "    <tr>\n",
       "      <th>2022-04-30</th>\n",
       "      <td>157.418701</td>\n",
       "    </tr>\n",
       "    <tr>\n",
       "      <th>2022-05-31</th>\n",
       "      <td>148.839996</td>\n",
       "    </tr>\n",
       "    <tr>\n",
       "      <th>2022-06-30</th>\n",
       "      <td>136.720001</td>\n",
       "    </tr>\n",
       "    <tr>\n",
       "      <th>2022-07-31</th>\n",
       "      <td>147.440002</td>\n",
       "    </tr>\n",
       "  </tbody>\n",
       "</table>\n",
       "</div>"
      ],
      "text/plain": [
       "                  AAPL\n",
       "Date                  \n",
       "2022-03-31  174.353836\n",
       "2022-04-30  157.418701\n",
       "2022-05-31  148.839996\n",
       "2022-06-30  136.720001\n",
       "2022-07-31  147.440002"
      ]
     },
     "execution_count": 47,
     "metadata": {},
     "output_type": "execute_result"
    }
   ],
   "source": [
    "# Resampling to derive monthly values from daily time series\n",
    "df_monthly = df4[['AAPL']].resample('M').last()\n",
    "\n",
    "# Display the last five rows of the data frame to check the output\n",
    "df_monthly.tail()"
   ]
  },
  {
   "cell_type": "code",
   "execution_count": 48,
   "metadata": {},
   "outputs": [
    {
     "data": {
      "text/html": [
       "<div>\n",
       "<style scoped>\n",
       "    .dataframe tbody tr th:only-of-type {\n",
       "        vertical-align: middle;\n",
       "    }\n",
       "\n",
       "    .dataframe tbody tr th {\n",
       "        vertical-align: top;\n",
       "    }\n",
       "\n",
       "    .dataframe thead th {\n",
       "        text-align: right;\n",
       "    }\n",
       "</style>\n",
       "<table border=\"1\" class=\"dataframe\">\n",
       "  <thead>\n",
       "    <tr style=\"text-align: right;\">\n",
       "      <th></th>\n",
       "      <th>2014</th>\n",
       "      <th>2015</th>\n",
       "      <th>2016</th>\n",
       "      <th>2017</th>\n",
       "      <th>2018</th>\n",
       "    </tr>\n",
       "  </thead>\n",
       "  <tbody>\n",
       "    <tr>\n",
       "      <th>0</th>\n",
       "      <td>28447.699219</td>\n",
       "      <td>16903.699219</td>\n",
       "      <td>6077.100098</td>\n",
       "      <td>5238.100098</td>\n",
       "      <td>11000.0</td>\n",
       "    </tr>\n",
       "    <tr>\n",
       "      <th>1</th>\n",
       "      <td>26056.500000</td>\n",
       "      <td>16821.300781</td>\n",
       "      <td>5895.689941</td>\n",
       "      <td>5238.100098</td>\n",
       "      <td>10600.0</td>\n",
       "    </tr>\n",
       "    <tr>\n",
       "      <th>2</th>\n",
       "      <td>23582.800781</td>\n",
       "      <td>18470.400391</td>\n",
       "      <td>5986.390137</td>\n",
       "      <td>5238.100098</td>\n",
       "      <td>10500.0</td>\n",
       "    </tr>\n",
       "    <tr>\n",
       "      <th>3</th>\n",
       "      <td>21274.000000</td>\n",
       "      <td>19872.199219</td>\n",
       "      <td>5623.580078</td>\n",
       "      <td>5047.620117</td>\n",
       "      <td>10500.0</td>\n",
       "    </tr>\n",
       "    <tr>\n",
       "      <th>4</th>\n",
       "      <td>19295.000000</td>\n",
       "      <td>20119.599609</td>\n",
       "      <td>5351.470215</td>\n",
       "      <td>5047.620117</td>\n",
       "      <td>10600.0</td>\n",
       "    </tr>\n",
       "  </tbody>\n",
       "</table>\n",
       "</div>"
      ],
      "text/plain": [
       "           2014          2015         2016         2017     2018\n",
       "0  28447.699219  16903.699219  6077.100098  5238.100098  11000.0\n",
       "1  26056.500000  16821.300781  5895.689941  5238.100098  10600.0\n",
       "2  23582.800781  18470.400391  5986.390137  5238.100098  10500.0\n",
       "3  21274.000000  19872.199219  5623.580078  5047.620117  10500.0\n",
       "4  19295.000000  20119.599609  5351.470215  5047.620117  10600.0"
      ]
     },
     "execution_count": 48,
     "metadata": {},
     "output_type": "execute_result"
    }
   ],
   "source": [
    "# Retrive unique years from our data frame\n",
    "years = vix.index.year.unique()\n",
    "\n",
    "# Create an empty data frame\n",
    "newdf = pd.DataFrame()\n",
    "\n",
    "# Use generators to assign values to empty dataframe, reset and drop index\n",
    "for year in years:\n",
    "    newdf[year] = pd.Series(vix[vix.index.year==year]['Close']).reset_index(drop=True)\n",
    "\n",
    "# Fill missing values forward with latest values\n",
    "newdf = newdf.ffill(axis=1)\n",
    "\n",
    "# Display the first five rows of the data frame to check the results\n",
    "newdf.head()"
   ]
  },
  {
   "cell_type": "code",
   "execution_count": 49,
   "metadata": {},
   "outputs": [
    {
     "data": {
      "text/html": [
       "<div>\n",
       "<style scoped>\n",
       "    .dataframe tbody tr th:only-of-type {\n",
       "        vertical-align: middle;\n",
       "    }\n",
       "\n",
       "    .dataframe tbody tr th {\n",
       "        vertical-align: top;\n",
       "    }\n",
       "\n",
       "    .dataframe thead th {\n",
       "        text-align: right;\n",
       "    }\n",
       "</style>\n",
       "<table border=\"1\" class=\"dataframe\">\n",
       "  <thead>\n",
       "    <tr style=\"text-align: right;\">\n",
       "      <th></th>\n",
       "      <th>count</th>\n",
       "      <th>mean</th>\n",
       "      <th>std</th>\n",
       "      <th>min</th>\n",
       "      <th>25%</th>\n",
       "      <th>50%</th>\n",
       "      <th>75%</th>\n",
       "      <th>max</th>\n",
       "    </tr>\n",
       "  </thead>\n",
       "  <tbody>\n",
       "    <tr>\n",
       "      <th>2014</th>\n",
       "      <td>19.0</td>\n",
       "      <td>19117.047440</td>\n",
       "      <td>3434.650661</td>\n",
       "      <td>15914.200195</td>\n",
       "      <td>16862.500000</td>\n",
       "      <td>17728.300781</td>\n",
       "      <td>19253.750000</td>\n",
       "      <td>28447.699219</td>\n",
       "    </tr>\n",
       "    <tr>\n",
       "      <th>2015</th>\n",
       "      <td>19.0</td>\n",
       "      <td>20419.015728</td>\n",
       "      <td>1662.421590</td>\n",
       "      <td>16821.300781</td>\n",
       "      <td>19789.750000</td>\n",
       "      <td>21026.599609</td>\n",
       "      <td>21480.100586</td>\n",
       "      <td>22758.199219</td>\n",
       "    </tr>\n",
       "    <tr>\n",
       "      <th>2016</th>\n",
       "      <td>19.0</td>\n",
       "      <td>5609.261128</td>\n",
       "      <td>272.551030</td>\n",
       "      <td>5170.069824</td>\n",
       "      <td>5351.470215</td>\n",
       "      <td>5623.580078</td>\n",
       "      <td>5804.990234</td>\n",
       "      <td>6077.100098</td>\n",
       "    </tr>\n",
       "    <tr>\n",
       "      <th>2017</th>\n",
       "      <td>19.0</td>\n",
       "      <td>5463.661133</td>\n",
       "      <td>394.227266</td>\n",
       "      <td>4952.379883</td>\n",
       "      <td>5190.479980</td>\n",
       "      <td>5333.330078</td>\n",
       "      <td>5666.669922</td>\n",
       "      <td>6095.240234</td>\n",
       "    </tr>\n",
       "    <tr>\n",
       "      <th>2018</th>\n",
       "      <td>19.0</td>\n",
       "      <td>9610.025288</td>\n",
       "      <td>1327.168507</td>\n",
       "      <td>6095.240234</td>\n",
       "      <td>9500.000000</td>\n",
       "      <td>9900.000000</td>\n",
       "      <td>10450.000000</td>\n",
       "      <td>11000.000000</td>\n",
       "    </tr>\n",
       "  </tbody>\n",
       "</table>\n",
       "</div>"
      ],
      "text/plain": [
       "      count          mean          std           min           25%  \\\n",
       "2014   19.0  19117.047440  3434.650661  15914.200195  16862.500000   \n",
       "2015   19.0  20419.015728  1662.421590  16821.300781  19789.750000   \n",
       "2016   19.0   5609.261128   272.551030   5170.069824   5351.470215   \n",
       "2017   19.0   5463.661133   394.227266   4952.379883   5190.479980   \n",
       "2018   19.0   9610.025288  1327.168507   6095.240234   9500.000000   \n",
       "\n",
       "               50%           75%           max  \n",
       "2014  17728.300781  19253.750000  28447.699219  \n",
       "2015  21026.599609  21480.100586  22758.199219  \n",
       "2016   5623.580078   5804.990234   6077.100098  \n",
       "2017   5333.330078   5666.669922   6095.240234  \n",
       "2018   9900.000000  10450.000000  11000.000000  "
      ]
     },
     "execution_count": 49,
     "metadata": {},
     "output_type": "execute_result"
    }
   ],
   "source": [
    "# Analysing year wise statistics for India Volatility Index\n",
    "newdf.describe().T"
   ]
  },
  {
   "cell_type": "code",
   "execution_count": 50,
   "metadata": {},
   "outputs": [
    {
     "data": {
      "application/vnd.plotly.v1+json": {
       "config": {
        "linkText": "Export to plot.ly",
        "plotlyServerURL": "https://plot.ly",
        "showLink": true
       },
       "data": [
        {
         "boxpoints": "outliers",
         "line": {
          "width": 1.3
         },
         "marker": {
          "color": "rgba(255, 153, 51, 1.0)"
         },
         "name": "2016",
         "orientation": "v",
         "type": "box",
         "y": [
          6077.10009765625,
          5895.68994140625,
          5986.39013671875,
          5623.580078125,
          5351.47021484375,
          5351.47021484375,
          5804.990234375,
          5804.990234375,
          5532.8798828125,
          5351.47021484375,
          5170.06982421875,
          5260.77001953125,
          5260.77001953125,
          5442.18017578125,
          5895.68994140625,
          5532.8798828125,
          5804.990234375,
          5714.2900390625,
          5714.2900390625
         ]
        },
        {
         "boxpoints": "outliers",
         "line": {
          "width": 1.3
         },
         "marker": {
          "color": "rgba(55, 128, 191, 1.0)"
         },
         "name": "2017",
         "orientation": "v",
         "type": "box",
         "y": [
          5238.10009765625,
          5238.10009765625,
          5238.10009765625,
          5047.6201171875,
          5047.6201171875,
          4952.3798828125,
          5333.330078125,
          5238.10009765625,
          5047.6201171875,
          5142.85986328125,
          5619.0498046875,
          5523.81005859375,
          5523.81005859375,
          5523.81005859375,
          5714.2900390625,
          6095.240234375,
          6095.240234375,
          6095.240234375,
          6095.240234375
         ]
        },
        {
         "boxpoints": "outliers",
         "line": {
          "width": 1.3
         },
         "marker": {
          "color": "rgba(50, 171, 96, 1.0)"
         },
         "name": "2018",
         "orientation": "v",
         "type": "box",
         "y": [
          11000,
          10600,
          10500,
          10500,
          10600,
          10400,
          10000,
          9900,
          10000,
          9700,
          9700,
          9900,
          9800,
          9900,
          9300,
          9300,
          9300,
          6095.240234375,
          6095.240234375
         ]
        }
       ],
       "layout": {
        "legend": {
         "bgcolor": "#F5F6F9",
         "font": {
          "color": "#4D5663"
         }
        },
        "paper_bgcolor": "#F5F6F9",
        "plot_bgcolor": "#F5F6F9",
        "showlegend": false,
        "template": {
         "data": {
          "bar": [
           {
            "error_x": {
             "color": "#2a3f5f"
            },
            "error_y": {
             "color": "#2a3f5f"
            },
            "marker": {
             "line": {
              "color": "#E5ECF6",
              "width": 0.5
             },
             "pattern": {
              "fillmode": "overlay",
              "size": 10,
              "solidity": 0.2
             }
            },
            "type": "bar"
           }
          ],
          "barpolar": [
           {
            "marker": {
             "line": {
              "color": "#E5ECF6",
              "width": 0.5
             },
             "pattern": {
              "fillmode": "overlay",
              "size": 10,
              "solidity": 0.2
             }
            },
            "type": "barpolar"
           }
          ],
          "carpet": [
           {
            "aaxis": {
             "endlinecolor": "#2a3f5f",
             "gridcolor": "white",
             "linecolor": "white",
             "minorgridcolor": "white",
             "startlinecolor": "#2a3f5f"
            },
            "baxis": {
             "endlinecolor": "#2a3f5f",
             "gridcolor": "white",
             "linecolor": "white",
             "minorgridcolor": "white",
             "startlinecolor": "#2a3f5f"
            },
            "type": "carpet"
           }
          ],
          "choropleth": [
           {
            "colorbar": {
             "outlinewidth": 0,
             "ticks": ""
            },
            "type": "choropleth"
           }
          ],
          "contour": [
           {
            "colorbar": {
             "outlinewidth": 0,
             "ticks": ""
            },
            "colorscale": [
             [
              0,
              "#0d0887"
             ],
             [
              0.1111111111111111,
              "#46039f"
             ],
             [
              0.2222222222222222,
              "#7201a8"
             ],
             [
              0.3333333333333333,
              "#9c179e"
             ],
             [
              0.4444444444444444,
              "#bd3786"
             ],
             [
              0.5555555555555556,
              "#d8576b"
             ],
             [
              0.6666666666666666,
              "#ed7953"
             ],
             [
              0.7777777777777778,
              "#fb9f3a"
             ],
             [
              0.8888888888888888,
              "#fdca26"
             ],
             [
              1,
              "#f0f921"
             ]
            ],
            "type": "contour"
           }
          ],
          "contourcarpet": [
           {
            "colorbar": {
             "outlinewidth": 0,
             "ticks": ""
            },
            "type": "contourcarpet"
           }
          ],
          "heatmap": [
           {
            "colorbar": {
             "outlinewidth": 0,
             "ticks": ""
            },
            "colorscale": [
             [
              0,
              "#0d0887"
             ],
             [
              0.1111111111111111,
              "#46039f"
             ],
             [
              0.2222222222222222,
              "#7201a8"
             ],
             [
              0.3333333333333333,
              "#9c179e"
             ],
             [
              0.4444444444444444,
              "#bd3786"
             ],
             [
              0.5555555555555556,
              "#d8576b"
             ],
             [
              0.6666666666666666,
              "#ed7953"
             ],
             [
              0.7777777777777778,
              "#fb9f3a"
             ],
             [
              0.8888888888888888,
              "#fdca26"
             ],
             [
              1,
              "#f0f921"
             ]
            ],
            "type": "heatmap"
           }
          ],
          "heatmapgl": [
           {
            "colorbar": {
             "outlinewidth": 0,
             "ticks": ""
            },
            "colorscale": [
             [
              0,
              "#0d0887"
             ],
             [
              0.1111111111111111,
              "#46039f"
             ],
             [
              0.2222222222222222,
              "#7201a8"
             ],
             [
              0.3333333333333333,
              "#9c179e"
             ],
             [
              0.4444444444444444,
              "#bd3786"
             ],
             [
              0.5555555555555556,
              "#d8576b"
             ],
             [
              0.6666666666666666,
              "#ed7953"
             ],
             [
              0.7777777777777778,
              "#fb9f3a"
             ],
             [
              0.8888888888888888,
              "#fdca26"
             ],
             [
              1,
              "#f0f921"
             ]
            ],
            "type": "heatmapgl"
           }
          ],
          "histogram": [
           {
            "marker": {
             "pattern": {
              "fillmode": "overlay",
              "size": 10,
              "solidity": 0.2
             }
            },
            "type": "histogram"
           }
          ],
          "histogram2d": [
           {
            "colorbar": {
             "outlinewidth": 0,
             "ticks": ""
            },
            "colorscale": [
             [
              0,
              "#0d0887"
             ],
             [
              0.1111111111111111,
              "#46039f"
             ],
             [
              0.2222222222222222,
              "#7201a8"
             ],
             [
              0.3333333333333333,
              "#9c179e"
             ],
             [
              0.4444444444444444,
              "#bd3786"
             ],
             [
              0.5555555555555556,
              "#d8576b"
             ],
             [
              0.6666666666666666,
              "#ed7953"
             ],
             [
              0.7777777777777778,
              "#fb9f3a"
             ],
             [
              0.8888888888888888,
              "#fdca26"
             ],
             [
              1,
              "#f0f921"
             ]
            ],
            "type": "histogram2d"
           }
          ],
          "histogram2dcontour": [
           {
            "colorbar": {
             "outlinewidth": 0,
             "ticks": ""
            },
            "colorscale": [
             [
              0,
              "#0d0887"
             ],
             [
              0.1111111111111111,
              "#46039f"
             ],
             [
              0.2222222222222222,
              "#7201a8"
             ],
             [
              0.3333333333333333,
              "#9c179e"
             ],
             [
              0.4444444444444444,
              "#bd3786"
             ],
             [
              0.5555555555555556,
              "#d8576b"
             ],
             [
              0.6666666666666666,
              "#ed7953"
             ],
             [
              0.7777777777777778,
              "#fb9f3a"
             ],
             [
              0.8888888888888888,
              "#fdca26"
             ],
             [
              1,
              "#f0f921"
             ]
            ],
            "type": "histogram2dcontour"
           }
          ],
          "mesh3d": [
           {
            "colorbar": {
             "outlinewidth": 0,
             "ticks": ""
            },
            "type": "mesh3d"
           }
          ],
          "parcoords": [
           {
            "line": {
             "colorbar": {
              "outlinewidth": 0,
              "ticks": ""
             }
            },
            "type": "parcoords"
           }
          ],
          "pie": [
           {
            "automargin": true,
            "type": "pie"
           }
          ],
          "scatter": [
           {
            "fillpattern": {
             "fillmode": "overlay",
             "size": 10,
             "solidity": 0.2
            },
            "type": "scatter"
           }
          ],
          "scatter3d": [
           {
            "line": {
             "colorbar": {
              "outlinewidth": 0,
              "ticks": ""
             }
            },
            "marker": {
             "colorbar": {
              "outlinewidth": 0,
              "ticks": ""
             }
            },
            "type": "scatter3d"
           }
          ],
          "scattercarpet": [
           {
            "marker": {
             "colorbar": {
              "outlinewidth": 0,
              "ticks": ""
             }
            },
            "type": "scattercarpet"
           }
          ],
          "scattergeo": [
           {
            "marker": {
             "colorbar": {
              "outlinewidth": 0,
              "ticks": ""
             }
            },
            "type": "scattergeo"
           }
          ],
          "scattergl": [
           {
            "marker": {
             "colorbar": {
              "outlinewidth": 0,
              "ticks": ""
             }
            },
            "type": "scattergl"
           }
          ],
          "scattermapbox": [
           {
            "marker": {
             "colorbar": {
              "outlinewidth": 0,
              "ticks": ""
             }
            },
            "type": "scattermapbox"
           }
          ],
          "scatterpolar": [
           {
            "marker": {
             "colorbar": {
              "outlinewidth": 0,
              "ticks": ""
             }
            },
            "type": "scatterpolar"
           }
          ],
          "scatterpolargl": [
           {
            "marker": {
             "colorbar": {
              "outlinewidth": 0,
              "ticks": ""
             }
            },
            "type": "scatterpolargl"
           }
          ],
          "scatterternary": [
           {
            "marker": {
             "colorbar": {
              "outlinewidth": 0,
              "ticks": ""
             }
            },
            "type": "scatterternary"
           }
          ],
          "surface": [
           {
            "colorbar": {
             "outlinewidth": 0,
             "ticks": ""
            },
            "colorscale": [
             [
              0,
              "#0d0887"
             ],
             [
              0.1111111111111111,
              "#46039f"
             ],
             [
              0.2222222222222222,
              "#7201a8"
             ],
             [
              0.3333333333333333,
              "#9c179e"
             ],
             [
              0.4444444444444444,
              "#bd3786"
             ],
             [
              0.5555555555555556,
              "#d8576b"
             ],
             [
              0.6666666666666666,
              "#ed7953"
             ],
             [
              0.7777777777777778,
              "#fb9f3a"
             ],
             [
              0.8888888888888888,
              "#fdca26"
             ],
             [
              1,
              "#f0f921"
             ]
            ],
            "type": "surface"
           }
          ],
          "table": [
           {
            "cells": {
             "fill": {
              "color": "#EBF0F8"
             },
             "line": {
              "color": "white"
             }
            },
            "header": {
             "fill": {
              "color": "#C8D4E3"
             },
             "line": {
              "color": "white"
             }
            },
            "type": "table"
           }
          ]
         },
         "layout": {
          "annotationdefaults": {
           "arrowcolor": "#2a3f5f",
           "arrowhead": 0,
           "arrowwidth": 1
          },
          "autotypenumbers": "strict",
          "coloraxis": {
           "colorbar": {
            "outlinewidth": 0,
            "ticks": ""
           }
          },
          "colorscale": {
           "diverging": [
            [
             0,
             "#8e0152"
            ],
            [
             0.1,
             "#c51b7d"
            ],
            [
             0.2,
             "#de77ae"
            ],
            [
             0.3,
             "#f1b6da"
            ],
            [
             0.4,
             "#fde0ef"
            ],
            [
             0.5,
             "#f7f7f7"
            ],
            [
             0.6,
             "#e6f5d0"
            ],
            [
             0.7,
             "#b8e186"
            ],
            [
             0.8,
             "#7fbc41"
            ],
            [
             0.9,
             "#4d9221"
            ],
            [
             1,
             "#276419"
            ]
           ],
           "sequential": [
            [
             0,
             "#0d0887"
            ],
            [
             0.1111111111111111,
             "#46039f"
            ],
            [
             0.2222222222222222,
             "#7201a8"
            ],
            [
             0.3333333333333333,
             "#9c179e"
            ],
            [
             0.4444444444444444,
             "#bd3786"
            ],
            [
             0.5555555555555556,
             "#d8576b"
            ],
            [
             0.6666666666666666,
             "#ed7953"
            ],
            [
             0.7777777777777778,
             "#fb9f3a"
            ],
            [
             0.8888888888888888,
             "#fdca26"
            ],
            [
             1,
             "#f0f921"
            ]
           ],
           "sequentialminus": [
            [
             0,
             "#0d0887"
            ],
            [
             0.1111111111111111,
             "#46039f"
            ],
            [
             0.2222222222222222,
             "#7201a8"
            ],
            [
             0.3333333333333333,
             "#9c179e"
            ],
            [
             0.4444444444444444,
             "#bd3786"
            ],
            [
             0.5555555555555556,
             "#d8576b"
            ],
            [
             0.6666666666666666,
             "#ed7953"
            ],
            [
             0.7777777777777778,
             "#fb9f3a"
            ],
            [
             0.8888888888888888,
             "#fdca26"
            ],
            [
             1,
             "#f0f921"
            ]
           ]
          },
          "colorway": [
           "#636efa",
           "#EF553B",
           "#00cc96",
           "#ab63fa",
           "#FFA15A",
           "#19d3f3",
           "#FF6692",
           "#B6E880",
           "#FF97FF",
           "#FECB52"
          ],
          "font": {
           "color": "#2a3f5f"
          },
          "geo": {
           "bgcolor": "white",
           "lakecolor": "white",
           "landcolor": "#E5ECF6",
           "showlakes": true,
           "showland": true,
           "subunitcolor": "white"
          },
          "hoverlabel": {
           "align": "left"
          },
          "hovermode": "closest",
          "mapbox": {
           "style": "light"
          },
          "paper_bgcolor": "white",
          "plot_bgcolor": "#E5ECF6",
          "polar": {
           "angularaxis": {
            "gridcolor": "white",
            "linecolor": "white",
            "ticks": ""
           },
           "bgcolor": "#E5ECF6",
           "radialaxis": {
            "gridcolor": "white",
            "linecolor": "white",
            "ticks": ""
           }
          },
          "scene": {
           "xaxis": {
            "backgroundcolor": "#E5ECF6",
            "gridcolor": "white",
            "gridwidth": 2,
            "linecolor": "white",
            "showbackground": true,
            "ticks": "",
            "zerolinecolor": "white"
           },
           "yaxis": {
            "backgroundcolor": "#E5ECF6",
            "gridcolor": "white",
            "gridwidth": 2,
            "linecolor": "white",
            "showbackground": true,
            "ticks": "",
            "zerolinecolor": "white"
           },
           "zaxis": {
            "backgroundcolor": "#E5ECF6",
            "gridcolor": "white",
            "gridwidth": 2,
            "linecolor": "white",
            "showbackground": true,
            "ticks": "",
            "zerolinecolor": "white"
           }
          },
          "shapedefaults": {
           "line": {
            "color": "#2a3f5f"
           }
          },
          "ternary": {
           "aaxis": {
            "gridcolor": "white",
            "linecolor": "white",
            "ticks": ""
           },
           "baxis": {
            "gridcolor": "white",
            "linecolor": "white",
            "ticks": ""
           },
           "bgcolor": "#E5ECF6",
           "caxis": {
            "gridcolor": "white",
            "linecolor": "white",
            "ticks": ""
           }
          },
          "title": {
           "x": 0.05
          },
          "xaxis": {
           "automargin": true,
           "gridcolor": "white",
           "linecolor": "white",
           "ticks": "",
           "title": {
            "standoff": 15
           },
           "zerolinecolor": "white",
           "zerolinewidth": 2
          },
          "yaxis": {
           "automargin": true,
           "gridcolor": "white",
           "linecolor": "white",
           "ticks": "",
           "title": {
            "standoff": 15
           },
           "zerolinecolor": "white",
           "zerolinewidth": 2
          }
         }
        },
        "title": {
         "font": {
          "color": "#4D5663"
         },
         "text": "CBOE Volatility Index"
        },
        "xaxis": {
         "gridcolor": "#E1E5ED",
         "showgrid": true,
         "tickfont": {
          "color": "#4D5663"
         },
         "title": {
          "font": {
           "color": "#4D5663"
          },
          "text": ""
         },
         "zerolinecolor": "#E1E5ED"
        },
        "yaxis": {
         "gridcolor": "#E1E5ED",
         "showgrid": true,
         "tickfont": {
          "color": "#4D5663"
         },
         "title": {
          "font": {
           "color": "#4D5663"
          },
          "text": "Annualised Volatility (%)"
         },
         "zerolinecolor": "#E1E5ED"
        }
       }
      },
      "text/html": [
       "<div>                            <div id=\"e69b2a97-7c42-49a6-8092-507c06c8ea0e\" class=\"plotly-graph-div\" style=\"height:525px; width:100%;\"></div>            <script type=\"text/javascript\">                require([\"plotly\"], function(Plotly) {                    window.PLOTLYENV=window.PLOTLYENV || {};\n",
       "                    window.PLOTLYENV.BASE_URL='https://plot.ly';                                    if (document.getElementById(\"e69b2a97-7c42-49a6-8092-507c06c8ea0e\")) {                    Plotly.newPlot(                        \"e69b2a97-7c42-49a6-8092-507c06c8ea0e\",                        [{\"boxpoints\":\"outliers\",\"line\":{\"width\":1.3},\"marker\":{\"color\":\"rgba(255, 153, 51, 1.0)\"},\"name\":\"2016\",\"orientation\":\"v\",\"y\":[6077.10009765625,5895.68994140625,5986.39013671875,5623.580078125,5351.47021484375,5351.47021484375,5804.990234375,5804.990234375,5532.8798828125,5351.47021484375,5170.06982421875,5260.77001953125,5260.77001953125,5442.18017578125,5895.68994140625,5532.8798828125,5804.990234375,5714.2900390625,5714.2900390625],\"type\":\"box\"},{\"boxpoints\":\"outliers\",\"line\":{\"width\":1.3},\"marker\":{\"color\":\"rgba(55, 128, 191, 1.0)\"},\"name\":\"2017\",\"orientation\":\"v\",\"y\":[5238.10009765625,5238.10009765625,5238.10009765625,5047.6201171875,5047.6201171875,4952.3798828125,5333.330078125,5238.10009765625,5047.6201171875,5142.85986328125,5619.0498046875,5523.81005859375,5523.81005859375,5523.81005859375,5714.2900390625,6095.240234375,6095.240234375,6095.240234375,6095.240234375],\"type\":\"box\"},{\"boxpoints\":\"outliers\",\"line\":{\"width\":1.3},\"marker\":{\"color\":\"rgba(50, 171, 96, 1.0)\"},\"name\":\"2018\",\"orientation\":\"v\",\"y\":[11000.0,10600.0,10500.0,10500.0,10600.0,10400.0,10000.0,9900.0,10000.0,9700.0,9700.0,9900.0,9800.0,9900.0,9300.0,9300.0,9300.0,6095.240234375,6095.240234375],\"type\":\"box\"}],                        {\"legend\":{\"bgcolor\":\"#F5F6F9\",\"font\":{\"color\":\"#4D5663\"}},\"paper_bgcolor\":\"#F5F6F9\",\"plot_bgcolor\":\"#F5F6F9\",\"showlegend\":false,\"template\":{\"data\":{\"barpolar\":[{\"marker\":{\"line\":{\"color\":\"#E5ECF6\",\"width\":0.5},\"pattern\":{\"fillmode\":\"overlay\",\"size\":10,\"solidity\":0.2}},\"type\":\"barpolar\"}],\"bar\":[{\"error_x\":{\"color\":\"#2a3f5f\"},\"error_y\":{\"color\":\"#2a3f5f\"},\"marker\":{\"line\":{\"color\":\"#E5ECF6\",\"width\":0.5},\"pattern\":{\"fillmode\":\"overlay\",\"size\":10,\"solidity\":0.2}},\"type\":\"bar\"}],\"carpet\":[{\"aaxis\":{\"endlinecolor\":\"#2a3f5f\",\"gridcolor\":\"white\",\"linecolor\":\"white\",\"minorgridcolor\":\"white\",\"startlinecolor\":\"#2a3f5f\"},\"baxis\":{\"endlinecolor\":\"#2a3f5f\",\"gridcolor\":\"white\",\"linecolor\":\"white\",\"minorgridcolor\":\"white\",\"startlinecolor\":\"#2a3f5f\"},\"type\":\"carpet\"}],\"choropleth\":[{\"colorbar\":{\"outlinewidth\":0,\"ticks\":\"\"},\"type\":\"choropleth\"}],\"contourcarpet\":[{\"colorbar\":{\"outlinewidth\":0,\"ticks\":\"\"},\"type\":\"contourcarpet\"}],\"contour\":[{\"colorbar\":{\"outlinewidth\":0,\"ticks\":\"\"},\"colorscale\":[[0.0,\"#0d0887\"],[0.1111111111111111,\"#46039f\"],[0.2222222222222222,\"#7201a8\"],[0.3333333333333333,\"#9c179e\"],[0.4444444444444444,\"#bd3786\"],[0.5555555555555556,\"#d8576b\"],[0.6666666666666666,\"#ed7953\"],[0.7777777777777778,\"#fb9f3a\"],[0.8888888888888888,\"#fdca26\"],[1.0,\"#f0f921\"]],\"type\":\"contour\"}],\"heatmapgl\":[{\"colorbar\":{\"outlinewidth\":0,\"ticks\":\"\"},\"colorscale\":[[0.0,\"#0d0887\"],[0.1111111111111111,\"#46039f\"],[0.2222222222222222,\"#7201a8\"],[0.3333333333333333,\"#9c179e\"],[0.4444444444444444,\"#bd3786\"],[0.5555555555555556,\"#d8576b\"],[0.6666666666666666,\"#ed7953\"],[0.7777777777777778,\"#fb9f3a\"],[0.8888888888888888,\"#fdca26\"],[1.0,\"#f0f921\"]],\"type\":\"heatmapgl\"}],\"heatmap\":[{\"colorbar\":{\"outlinewidth\":0,\"ticks\":\"\"},\"colorscale\":[[0.0,\"#0d0887\"],[0.1111111111111111,\"#46039f\"],[0.2222222222222222,\"#7201a8\"],[0.3333333333333333,\"#9c179e\"],[0.4444444444444444,\"#bd3786\"],[0.5555555555555556,\"#d8576b\"],[0.6666666666666666,\"#ed7953\"],[0.7777777777777778,\"#fb9f3a\"],[0.8888888888888888,\"#fdca26\"],[1.0,\"#f0f921\"]],\"type\":\"heatmap\"}],\"histogram2dcontour\":[{\"colorbar\":{\"outlinewidth\":0,\"ticks\":\"\"},\"colorscale\":[[0.0,\"#0d0887\"],[0.1111111111111111,\"#46039f\"],[0.2222222222222222,\"#7201a8\"],[0.3333333333333333,\"#9c179e\"],[0.4444444444444444,\"#bd3786\"],[0.5555555555555556,\"#d8576b\"],[0.6666666666666666,\"#ed7953\"],[0.7777777777777778,\"#fb9f3a\"],[0.8888888888888888,\"#fdca26\"],[1.0,\"#f0f921\"]],\"type\":\"histogram2dcontour\"}],\"histogram2d\":[{\"colorbar\":{\"outlinewidth\":0,\"ticks\":\"\"},\"colorscale\":[[0.0,\"#0d0887\"],[0.1111111111111111,\"#46039f\"],[0.2222222222222222,\"#7201a8\"],[0.3333333333333333,\"#9c179e\"],[0.4444444444444444,\"#bd3786\"],[0.5555555555555556,\"#d8576b\"],[0.6666666666666666,\"#ed7953\"],[0.7777777777777778,\"#fb9f3a\"],[0.8888888888888888,\"#fdca26\"],[1.0,\"#f0f921\"]],\"type\":\"histogram2d\"}],\"histogram\":[{\"marker\":{\"pattern\":{\"fillmode\":\"overlay\",\"size\":10,\"solidity\":0.2}},\"type\":\"histogram\"}],\"mesh3d\":[{\"colorbar\":{\"outlinewidth\":0,\"ticks\":\"\"},\"type\":\"mesh3d\"}],\"parcoords\":[{\"line\":{\"colorbar\":{\"outlinewidth\":0,\"ticks\":\"\"}},\"type\":\"parcoords\"}],\"pie\":[{\"automargin\":true,\"type\":\"pie\"}],\"scatter3d\":[{\"line\":{\"colorbar\":{\"outlinewidth\":0,\"ticks\":\"\"}},\"marker\":{\"colorbar\":{\"outlinewidth\":0,\"ticks\":\"\"}},\"type\":\"scatter3d\"}],\"scattercarpet\":[{\"marker\":{\"colorbar\":{\"outlinewidth\":0,\"ticks\":\"\"}},\"type\":\"scattercarpet\"}],\"scattergeo\":[{\"marker\":{\"colorbar\":{\"outlinewidth\":0,\"ticks\":\"\"}},\"type\":\"scattergeo\"}],\"scattergl\":[{\"marker\":{\"colorbar\":{\"outlinewidth\":0,\"ticks\":\"\"}},\"type\":\"scattergl\"}],\"scattermapbox\":[{\"marker\":{\"colorbar\":{\"outlinewidth\":0,\"ticks\":\"\"}},\"type\":\"scattermapbox\"}],\"scatterpolargl\":[{\"marker\":{\"colorbar\":{\"outlinewidth\":0,\"ticks\":\"\"}},\"type\":\"scatterpolargl\"}],\"scatterpolar\":[{\"marker\":{\"colorbar\":{\"outlinewidth\":0,\"ticks\":\"\"}},\"type\":\"scatterpolar\"}],\"scatter\":[{\"fillpattern\":{\"fillmode\":\"overlay\",\"size\":10,\"solidity\":0.2},\"type\":\"scatter\"}],\"scatterternary\":[{\"marker\":{\"colorbar\":{\"outlinewidth\":0,\"ticks\":\"\"}},\"type\":\"scatterternary\"}],\"surface\":[{\"colorbar\":{\"outlinewidth\":0,\"ticks\":\"\"},\"colorscale\":[[0.0,\"#0d0887\"],[0.1111111111111111,\"#46039f\"],[0.2222222222222222,\"#7201a8\"],[0.3333333333333333,\"#9c179e\"],[0.4444444444444444,\"#bd3786\"],[0.5555555555555556,\"#d8576b\"],[0.6666666666666666,\"#ed7953\"],[0.7777777777777778,\"#fb9f3a\"],[0.8888888888888888,\"#fdca26\"],[1.0,\"#f0f921\"]],\"type\":\"surface\"}],\"table\":[{\"cells\":{\"fill\":{\"color\":\"#EBF0F8\"},\"line\":{\"color\":\"white\"}},\"header\":{\"fill\":{\"color\":\"#C8D4E3\"},\"line\":{\"color\":\"white\"}},\"type\":\"table\"}]},\"layout\":{\"annotationdefaults\":{\"arrowcolor\":\"#2a3f5f\",\"arrowhead\":0,\"arrowwidth\":1},\"autotypenumbers\":\"strict\",\"coloraxis\":{\"colorbar\":{\"outlinewidth\":0,\"ticks\":\"\"}},\"colorscale\":{\"diverging\":[[0,\"#8e0152\"],[0.1,\"#c51b7d\"],[0.2,\"#de77ae\"],[0.3,\"#f1b6da\"],[0.4,\"#fde0ef\"],[0.5,\"#f7f7f7\"],[0.6,\"#e6f5d0\"],[0.7,\"#b8e186\"],[0.8,\"#7fbc41\"],[0.9,\"#4d9221\"],[1,\"#276419\"]],\"sequential\":[[0.0,\"#0d0887\"],[0.1111111111111111,\"#46039f\"],[0.2222222222222222,\"#7201a8\"],[0.3333333333333333,\"#9c179e\"],[0.4444444444444444,\"#bd3786\"],[0.5555555555555556,\"#d8576b\"],[0.6666666666666666,\"#ed7953\"],[0.7777777777777778,\"#fb9f3a\"],[0.8888888888888888,\"#fdca26\"],[1.0,\"#f0f921\"]],\"sequentialminus\":[[0.0,\"#0d0887\"],[0.1111111111111111,\"#46039f\"],[0.2222222222222222,\"#7201a8\"],[0.3333333333333333,\"#9c179e\"],[0.4444444444444444,\"#bd3786\"],[0.5555555555555556,\"#d8576b\"],[0.6666666666666666,\"#ed7953\"],[0.7777777777777778,\"#fb9f3a\"],[0.8888888888888888,\"#fdca26\"],[1.0,\"#f0f921\"]]},\"colorway\":[\"#636efa\",\"#EF553B\",\"#00cc96\",\"#ab63fa\",\"#FFA15A\",\"#19d3f3\",\"#FF6692\",\"#B6E880\",\"#FF97FF\",\"#FECB52\"],\"font\":{\"color\":\"#2a3f5f\"},\"geo\":{\"bgcolor\":\"white\",\"lakecolor\":\"white\",\"landcolor\":\"#E5ECF6\",\"showlakes\":true,\"showland\":true,\"subunitcolor\":\"white\"},\"hoverlabel\":{\"align\":\"left\"},\"hovermode\":\"closest\",\"mapbox\":{\"style\":\"light\"},\"paper_bgcolor\":\"white\",\"plot_bgcolor\":\"#E5ECF6\",\"polar\":{\"angularaxis\":{\"gridcolor\":\"white\",\"linecolor\":\"white\",\"ticks\":\"\"},\"bgcolor\":\"#E5ECF6\",\"radialaxis\":{\"gridcolor\":\"white\",\"linecolor\":\"white\",\"ticks\":\"\"}},\"scene\":{\"xaxis\":{\"backgroundcolor\":\"#E5ECF6\",\"gridcolor\":\"white\",\"gridwidth\":2,\"linecolor\":\"white\",\"showbackground\":true,\"ticks\":\"\",\"zerolinecolor\":\"white\"},\"yaxis\":{\"backgroundcolor\":\"#E5ECF6\",\"gridcolor\":\"white\",\"gridwidth\":2,\"linecolor\":\"white\",\"showbackground\":true,\"ticks\":\"\",\"zerolinecolor\":\"white\"},\"zaxis\":{\"backgroundcolor\":\"#E5ECF6\",\"gridcolor\":\"white\",\"gridwidth\":2,\"linecolor\":\"white\",\"showbackground\":true,\"ticks\":\"\",\"zerolinecolor\":\"white\"}},\"shapedefaults\":{\"line\":{\"color\":\"#2a3f5f\"}},\"ternary\":{\"aaxis\":{\"gridcolor\":\"white\",\"linecolor\":\"white\",\"ticks\":\"\"},\"baxis\":{\"gridcolor\":\"white\",\"linecolor\":\"white\",\"ticks\":\"\"},\"bgcolor\":\"#E5ECF6\",\"caxis\":{\"gridcolor\":\"white\",\"linecolor\":\"white\",\"ticks\":\"\"}},\"title\":{\"x\":0.05},\"xaxis\":{\"automargin\":true,\"gridcolor\":\"white\",\"linecolor\":\"white\",\"ticks\":\"\",\"title\":{\"standoff\":15},\"zerolinecolor\":\"white\",\"zerolinewidth\":2},\"yaxis\":{\"automargin\":true,\"gridcolor\":\"white\",\"linecolor\":\"white\",\"ticks\":\"\",\"title\":{\"standoff\":15},\"zerolinecolor\":\"white\",\"zerolinewidth\":2}}},\"title\":{\"font\":{\"color\":\"#4D5663\"},\"text\":\"CBOE Volatility Index\"},\"xaxis\":{\"gridcolor\":\"#E1E5ED\",\"showgrid\":true,\"tickfont\":{\"color\":\"#4D5663\"},\"title\":{\"font\":{\"color\":\"#4D5663\"},\"text\":\"\"},\"zerolinecolor\":\"#E1E5ED\"},\"yaxis\":{\"gridcolor\":\"#E1E5ED\",\"showgrid\":true,\"tickfont\":{\"color\":\"#4D5663\"},\"title\":{\"font\":{\"color\":\"#4D5663\"},\"text\":\"Annualised Volatility (%)\"},\"zerolinecolor\":\"#E1E5ED\"}},                        {\"showLink\": true, \"linkText\": \"Export to plot.ly\", \"plotlyServerURL\": \"https://plot.ly\", \"responsive\": true}                    ).then(function(){\n",
       "                            \n",
       "var gd = document.getElementById('e69b2a97-7c42-49a6-8092-507c06c8ea0e');\n",
       "var x = new MutationObserver(function (mutations, observer) {{\n",
       "        var display = window.getComputedStyle(gd).display;\n",
       "        if (!display || display === 'none') {{\n",
       "            console.log([gd, 'removed!']);\n",
       "            Plotly.purge(gd);\n",
       "            observer.disconnect();\n",
       "        }}\n",
       "}});\n",
       "\n",
       "// Listen for the removal of the full notebook cells\n",
       "var notebookContainer = gd.closest('#notebook-container');\n",
       "if (notebookContainer) {{\n",
       "    x.observe(notebookContainer, {childList: true});\n",
       "}}\n",
       "\n",
       "// Listen for the clearing of the current output cell\n",
       "var outputEl = gd.closest('.output');\n",
       "if (outputEl) {{\n",
       "    x.observe(outputEl, {childList: true});\n",
       "}}\n",
       "\n",
       "                        })                };                });            </script>        </div>"
      ]
     },
     "metadata": {},
     "output_type": "display_data"
    }
   ],
   "source": [
    "# Visualize VIX Box Plot\n",
    "newdf.iloc[:,2:].iplot(kind='box', \n",
    "            title='CBOE Volatility Index', \n",
    "            yTitle='Annualised Volatility (%)', \n",
    "            legend=False, boxpoints='outliers')"
   ]
  },
  {
   "cell_type": "markdown",
   "metadata": {},
   "source": [
    "# Modelling returns"
   ]
  },
  {
   "cell_type": "code",
   "execution_count": 51,
   "metadata": {},
   "outputs": [],
   "source": [
    "from scipy.stats import norm\n",
    "import matplotlib\n",
    "import matplotlib.pyplot as plt\n",
    "\n",
    "# Plot settings\n",
    "plt.style.use('ggplot')\n",
    "matplotlib.rcParams['figure.figsize'] = [12.0, 8.0]\n",
    "matplotlib.rcParams['font.size'] = 14\n",
    "matplotlib.rcParams['lines.linewidth'] = 2.0"
   ]
  },
  {
   "cell_type": "code",
   "execution_count": 52,
   "metadata": {},
   "outputs": [
    {
     "name": "stdout",
     "output_type": "stream",
     "text": [
      "[*********************100%***********************]  1 of 1 completed\n"
     ]
    },
    {
     "data": {
      "text/html": [
       "<div>\n",
       "<style scoped>\n",
       "    .dataframe tbody tr th:only-of-type {\n",
       "        vertical-align: middle;\n",
       "    }\n",
       "\n",
       "    .dataframe tbody tr th {\n",
       "        vertical-align: top;\n",
       "    }\n",
       "\n",
       "    .dataframe thead th {\n",
       "        text-align: right;\n",
       "    }\n",
       "</style>\n",
       "<table border=\"1\" class=\"dataframe\">\n",
       "  <thead>\n",
       "    <tr style=\"text-align: right;\">\n",
       "      <th></th>\n",
       "      <th>Open</th>\n",
       "      <th>High</th>\n",
       "      <th>Low</th>\n",
       "      <th>Close</th>\n",
       "      <th>Adj Close</th>\n",
       "      <th>Volume</th>\n",
       "    </tr>\n",
       "    <tr>\n",
       "      <th>Date</th>\n",
       "      <th></th>\n",
       "      <th></th>\n",
       "      <th></th>\n",
       "      <th></th>\n",
       "      <th></th>\n",
       "      <th></th>\n",
       "    </tr>\n",
       "  </thead>\n",
       "  <tbody>\n",
       "    <tr>\n",
       "      <th>1993-01-29</th>\n",
       "      <td>43.968750</td>\n",
       "      <td>43.968750</td>\n",
       "      <td>43.750000</td>\n",
       "      <td>43.937500</td>\n",
       "      <td>25.438087</td>\n",
       "      <td>1003200</td>\n",
       "    </tr>\n",
       "    <tr>\n",
       "      <th>1993-02-01</th>\n",
       "      <td>43.968750</td>\n",
       "      <td>44.250000</td>\n",
       "      <td>43.968750</td>\n",
       "      <td>44.250000</td>\n",
       "      <td>25.619026</td>\n",
       "      <td>480500</td>\n",
       "    </tr>\n",
       "    <tr>\n",
       "      <th>1993-02-02</th>\n",
       "      <td>44.218750</td>\n",
       "      <td>44.375000</td>\n",
       "      <td>44.125000</td>\n",
       "      <td>44.343750</td>\n",
       "      <td>25.673306</td>\n",
       "      <td>201300</td>\n",
       "    </tr>\n",
       "    <tr>\n",
       "      <th>1993-02-03</th>\n",
       "      <td>44.406250</td>\n",
       "      <td>44.843750</td>\n",
       "      <td>44.375000</td>\n",
       "      <td>44.812500</td>\n",
       "      <td>25.944696</td>\n",
       "      <td>529400</td>\n",
       "    </tr>\n",
       "    <tr>\n",
       "      <th>1993-02-04</th>\n",
       "      <td>44.968750</td>\n",
       "      <td>45.093750</td>\n",
       "      <td>44.468750</td>\n",
       "      <td>45.000000</td>\n",
       "      <td>26.053226</td>\n",
       "      <td>531500</td>\n",
       "    </tr>\n",
       "    <tr>\n",
       "      <th>...</th>\n",
       "      <td>...</td>\n",
       "      <td>...</td>\n",
       "      <td>...</td>\n",
       "      <td>...</td>\n",
       "      <td>...</td>\n",
       "      <td>...</td>\n",
       "    </tr>\n",
       "    <tr>\n",
       "      <th>2022-07-06</th>\n",
       "      <td>382.109985</td>\n",
       "      <td>385.869995</td>\n",
       "      <td>379.600006</td>\n",
       "      <td>383.250000</td>\n",
       "      <td>383.250000</td>\n",
       "      <td>70426200</td>\n",
       "    </tr>\n",
       "    <tr>\n",
       "      <th>2022-07-07</th>\n",
       "      <td>385.119995</td>\n",
       "      <td>389.829987</td>\n",
       "      <td>383.269989</td>\n",
       "      <td>388.989990</td>\n",
       "      <td>388.989990</td>\n",
       "      <td>64525900</td>\n",
       "    </tr>\n",
       "    <tr>\n",
       "      <th>2022-07-08</th>\n",
       "      <td>387.269989</td>\n",
       "      <td>390.640015</td>\n",
       "      <td>385.660004</td>\n",
       "      <td>388.670013</td>\n",
       "      <td>388.670013</td>\n",
       "      <td>72332300</td>\n",
       "    </tr>\n",
       "    <tr>\n",
       "      <th>2022-07-11</th>\n",
       "      <td>385.850006</td>\n",
       "      <td>386.869995</td>\n",
       "      <td>383.500000</td>\n",
       "      <td>384.230011</td>\n",
       "      <td>384.230011</td>\n",
       "      <td>58221400</td>\n",
       "    </tr>\n",
       "    <tr>\n",
       "      <th>2022-07-12</th>\n",
       "      <td>383.649994</td>\n",
       "      <td>386.160004</td>\n",
       "      <td>382.528687</td>\n",
       "      <td>384.040009</td>\n",
       "      <td>384.040009</td>\n",
       "      <td>22175416</td>\n",
       "    </tr>\n",
       "  </tbody>\n",
       "</table>\n",
       "<p>7416 rows × 6 columns</p>\n",
       "</div>"
      ],
      "text/plain": [
       "                  Open        High         Low       Close   Adj Close  \\\n",
       "Date                                                                     \n",
       "1993-01-29   43.968750   43.968750   43.750000   43.937500   25.438087   \n",
       "1993-02-01   43.968750   44.250000   43.968750   44.250000   25.619026   \n",
       "1993-02-02   44.218750   44.375000   44.125000   44.343750   25.673306   \n",
       "1993-02-03   44.406250   44.843750   44.375000   44.812500   25.944696   \n",
       "1993-02-04   44.968750   45.093750   44.468750   45.000000   26.053226   \n",
       "...                ...         ...         ...         ...         ...   \n",
       "2022-07-06  382.109985  385.869995  379.600006  383.250000  383.250000   \n",
       "2022-07-07  385.119995  389.829987  383.269989  388.989990  388.989990   \n",
       "2022-07-08  387.269989  390.640015  385.660004  388.670013  388.670013   \n",
       "2022-07-11  385.850006  386.869995  383.500000  384.230011  384.230011   \n",
       "2022-07-12  383.649994  386.160004  382.528687  384.040009  384.040009   \n",
       "\n",
       "              Volume  \n",
       "Date                  \n",
       "1993-01-29   1003200  \n",
       "1993-02-01    480500  \n",
       "1993-02-02    201300  \n",
       "1993-02-03    529400  \n",
       "1993-02-04    531500  \n",
       "...              ...  \n",
       "2022-07-06  70426200  \n",
       "2022-07-07  64525900  \n",
       "2022-07-08  72332300  \n",
       "2022-07-11  58221400  \n",
       "2022-07-12  22175416  \n",
       "\n",
       "[7416 rows x 6 columns]"
      ]
     },
     "execution_count": 52,
     "metadata": {},
     "output_type": "execute_result"
    }
   ],
   "source": [
    "# Load the CSV file\n",
    "spx = yf.download('SPY')\n",
    "\n",
    "# Output first five values\n",
    "spx"
   ]
  },
  {
   "cell_type": "code",
   "execution_count": 53,
   "metadata": {},
   "outputs": [
    {
     "data": {
      "text/plain": [
       "DatetimeIndex(['1993-01-29', '1993-02-01', '1993-02-02', '1993-02-03',\n",
       "               '1993-02-04', '1993-02-05', '1993-02-08', '1993-02-09',\n",
       "               '1993-02-10', '1993-02-11',\n",
       "               ...\n",
       "               '2022-06-28', '2022-06-29', '2022-06-30', '2022-07-01',\n",
       "               '2022-07-05', '2022-07-06', '2022-07-07', '2022-07-08',\n",
       "               '2022-07-11', '2022-07-12'],\n",
       "              dtype='datetime64[ns]', name='Date', length=7416, freq=None)"
      ]
     },
     "execution_count": 53,
     "metadata": {},
     "output_type": "execute_result"
    }
   ],
   "source": [
    "# Verify the datetime format\n",
    "spx.index"
   ]
  },
  {
   "cell_type": "code",
   "execution_count": 54,
   "metadata": {},
   "outputs": [
    {
     "data": {
      "image/png": "[encoded data removed]",
      "text/plain": [
       "<Figure size 432x288 with 1 Axes>"
      ]
     },
     "metadata": {
      "needs_background": "light"
     },
     "output_type": "display_data"
    }
   ],
   "source": [
    "# Slice the DataFrame to get values from 2000\n",
    "spx = spx['2000':]\n",
    "\n",
    "# Visualize the plot to verify the data\n",
    "plt.plot(spx.index, spx['Adj Close'])\n",
    "plt.title('SP500 Index : 2000 - 2020');"
   ]
  },
  {
   "cell_type": "code",
   "execution_count": 55,
   "metadata": {},
   "outputs": [
    {
     "data": {
      "text/plain": [
       "Date\n",
       "2000-01-03    0.000000\n",
       "2000-01-04   -0.039106\n",
       "2000-01-05    0.001789\n",
       "2000-01-06   -0.016071\n",
       "2000-01-07    0.058076\n",
       "Name: Return, dtype: float64"
      ]
     },
     "execution_count": 55,
     "metadata": {},
     "output_type": "execute_result"
    }
   ],
   "source": [
    "# Calculate returns and add it to existing DataFrame as a column\n",
    "spx['Return'] = spx['Adj Close'].pct_change().fillna(0)\n",
    "\n",
    "# Get first 5 rows\n",
    "spx['Return'].head()"
   ]
  },
  {
   "cell_type": "code",
   "execution_count": 56,
   "metadata": {},
   "outputs": [
    {
     "name": "stdout",
     "output_type": "stream",
     "text": [
      "Mean 0.000322, Sigma 0.012452\n"
     ]
    }
   ],
   "source": [
    "# Calculate mean and sigma\n",
    "mu = np.mean(spx['Return'])\n",
    "sigma = np.std(spx['Return'])\n",
    "\n",
    "print(f'Mean {mu:.6f}, Sigma {sigma:.6f}')"
   ]
  },
  {
   "cell_type": "code",
   "execution_count": 57,
   "metadata": {},
   "outputs": [
    {
     "data": {
      "text/html": [
       "<div>\n",
       "<style scoped>\n",
       "    .dataframe tbody tr th:only-of-type {\n",
       "        vertical-align: middle;\n",
       "    }\n",
       "\n",
       "    .dataframe tbody tr th {\n",
       "        vertical-align: top;\n",
       "    }\n",
       "\n",
       "    .dataframe thead th {\n",
       "        text-align: right;\n",
       "    }\n",
       "</style>\n",
       "<table border=\"1\" class=\"dataframe\">\n",
       "  <thead>\n",
       "    <tr style=\"text-align: right;\">\n",
       "      <th></th>\n",
       "      <th>Open</th>\n",
       "      <th>High</th>\n",
       "      <th>Low</th>\n",
       "      <th>Close</th>\n",
       "      <th>Adj Close</th>\n",
       "      <th>Volume</th>\n",
       "      <th>Return</th>\n",
       "      <th>Scaled_Return</th>\n",
       "    </tr>\n",
       "    <tr>\n",
       "      <th>Date</th>\n",
       "      <th></th>\n",
       "      <th></th>\n",
       "      <th></th>\n",
       "      <th></th>\n",
       "      <th></th>\n",
       "      <th></th>\n",
       "      <th></th>\n",
       "      <th></th>\n",
       "    </tr>\n",
       "  </thead>\n",
       "  <tbody>\n",
       "    <tr>\n",
       "      <th>2000-01-03</th>\n",
       "      <td>148.25000</td>\n",
       "      <td>148.25000</td>\n",
       "      <td>143.875000</td>\n",
       "      <td>145.4375</td>\n",
       "      <td>96.139778</td>\n",
       "      <td>8164300</td>\n",
       "      <td>0.000000</td>\n",
       "      <td>-0.025860</td>\n",
       "    </tr>\n",
       "    <tr>\n",
       "      <th>2000-01-04</th>\n",
       "      <td>143.53125</td>\n",
       "      <td>144.06250</td>\n",
       "      <td>139.640625</td>\n",
       "      <td>139.7500</td>\n",
       "      <td>92.380119</td>\n",
       "      <td>8089800</td>\n",
       "      <td>-0.039106</td>\n",
       "      <td>-3.166425</td>\n",
       "    </tr>\n",
       "    <tr>\n",
       "      <th>2000-01-05</th>\n",
       "      <td>139.93750</td>\n",
       "      <td>141.53125</td>\n",
       "      <td>137.250000</td>\n",
       "      <td>140.0000</td>\n",
       "      <td>92.545387</td>\n",
       "      <td>12177900</td>\n",
       "      <td>0.001789</td>\n",
       "      <td>0.117812</td>\n",
       "    </tr>\n",
       "    <tr>\n",
       "      <th>2000-01-06</th>\n",
       "      <td>139.62500</td>\n",
       "      <td>141.50000</td>\n",
       "      <td>137.750000</td>\n",
       "      <td>137.7500</td>\n",
       "      <td>91.058075</td>\n",
       "      <td>6227200</td>\n",
       "      <td>-0.016071</td>\n",
       "      <td>-1.316514</td>\n",
       "    </tr>\n",
       "    <tr>\n",
       "      <th>2000-01-07</th>\n",
       "      <td>140.31250</td>\n",
       "      <td>145.75000</td>\n",
       "      <td>140.062500</td>\n",
       "      <td>145.7500</td>\n",
       "      <td>96.346336</td>\n",
       "      <td>8066500</td>\n",
       "      <td>0.058076</td>\n",
       "      <td>4.638121</td>\n",
       "    </tr>\n",
       "  </tbody>\n",
       "</table>\n",
       "</div>"
      ],
      "text/plain": [
       "                 Open       High         Low     Close  Adj Close    Volume  \\\n",
       "Date                                                                          \n",
       "2000-01-03  148.25000  148.25000  143.875000  145.4375  96.139778   8164300   \n",
       "2000-01-04  143.53125  144.06250  139.640625  139.7500  92.380119   8089800   \n",
       "2000-01-05  139.93750  141.53125  137.250000  140.0000  92.545387  12177900   \n",
       "2000-01-06  139.62500  141.50000  137.750000  137.7500  91.058075   6227200   \n",
       "2000-01-07  140.31250  145.75000  140.062500  145.7500  96.346336   8066500   \n",
       "\n",
       "              Return  Scaled_Return  \n",
       "Date                                 \n",
       "2000-01-03  0.000000      -0.025860  \n",
       "2000-01-04 -0.039106      -3.166425  \n",
       "2000-01-05  0.001789       0.117812  \n",
       "2000-01-06 -0.016071      -1.316514  \n",
       "2000-01-07  0.058076       4.638121  "
      ]
     },
     "execution_count": 57,
     "metadata": {},
     "output_type": "execute_result"
    }
   ],
   "source": [
    "# Calculate the scaled return\n",
    "spx['Scaled_Return'] = spx['Return'].apply(lambda x: (x - mu)/sigma)\n",
    "\n",
    "# Check the output\n",
    "spx.head()"
   ]
  },
  {
   "cell_type": "code",
   "execution_count": 58,
   "metadata": {},
   "outputs": [
    {
     "name": "stdout",
     "output_type": "stream",
     "text": [
      "Minimum -8.813536, Maximum 11.634789\n"
     ]
    }
   ],
   "source": [
    "# Calculate minimum and maximum bin range\n",
    "sr_min = np.min(spx['Scaled_Return'])\n",
    "sr_max = np.max(spx['Scaled_Return'])\n",
    "\n",
    "print(f'Minimum {sr_min:.6f}, Maximum {sr_max:.6f}')"
   ]
  },
  {
   "cell_type": "code",
   "execution_count": 59,
   "metadata": {},
   "outputs": [
    {
     "data": {
      "image/png": "[encoded data removed]",
      "text/plain": [
       "<Figure size 432x288 with 1 Axes>"
      ]
     },
     "metadata": {
      "needs_background": "light"
     },
     "output_type": "display_data"
    }
   ],
   "source": [
    "# Define bins\n",
    "x = np.linspace(sr_min, sr_max, 200)\n",
    "\n",
    "# Calculate normal probability density function\n",
    "y = (1/np.sqrt(2*np.pi)*np.exp(-0.5*x**2)) # can also use norm.pdf(x,0,1)\n",
    "\n",
    "# Plot histogram of scaled returns\n",
    "plt.hist(spx['Scaled_Return'], bins=200, density=True, label = 'Empirical', alpha=1)\n",
    "\n",
    "# Plot norm pdf\n",
    "plt.plot(x, y, color = 'green', label = 'Normal', alpha=1)\n",
    "\n",
    "# Set x and y axis limits\n",
    "plt.xlim(-4,4)\n",
    "plt.ylim(0,0.7)\n",
    "\n",
    "# Set title\n",
    "plt.title('Empirical vs Normal Distribution')\n",
    "\n",
    "# Set legends\n",
    "plt.legend();"
   ]
  },
  {
   "cell_type": "code",
   "execution_count": null,
   "metadata": {},
   "outputs": [],
   "source": []
  }
 ],
 "metadata": {
  "kernelspec": {
   "display_name": "Python 3.9.7 ('venv': venv)",
   "language": "python",
   "name": "python3"
  },
  "language_info": {
   "codemirror_mode": {
    "name": "ipython",
    "version": 3
   },
   "file_extension": ".py",
   "mimetype": "text/x-python",
   "name": "python",
   "nbconvert_exporter": "python",
   "pygments_lexer": "ipython3",
   "version": "3.9.7"
  },
  "orig_nbformat": 4,
  "vscode": {
   "interpreter": {
    "hash": "b9090d52f8629a8908117c382e7d61651fc2c6ee8523a149072f485b66fe5643"
   }
  }
 },
 "nbformat": 4,
 "nbformat_minor": 2
}
